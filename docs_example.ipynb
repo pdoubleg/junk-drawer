{
 "cells": [
  {
   "cell_type": "code",
   "execution_count": 1,
   "metadata": {},
   "outputs": [],
   "source": [
    "import os\n",
    "import tiktoken\n",
    "import numpy as np\n",
    "import warnings\n",
    "warnings.simplefilter(action='ignore', category=FutureWarning)\n",
    "import pandas as pd\n",
    "from dotenv import load_dotenv\n",
    "from openai.embeddings_utils import cosine_similarity\n",
    "from tenacity import retry, wait_random_exponential, stop_after_attempt"
   ]
  },
  {
   "cell_type": "code",
   "execution_count": 2,
   "metadata": {},
   "outputs": [],
   "source": [
    "from dotenv import load_dotenv\n",
    "load_dotenv()\n",
    "import openai"
   ]
  },
  {
   "cell_type": "code",
   "execution_count": 3,
   "metadata": {},
   "outputs": [],
   "source": [
    "# df = pd.read_csv('./data/data_science_jobs_indeed_usa.csv')"
   ]
  },
  {
   "cell_type": "code",
   "execution_count": 4,
   "metadata": {},
   "outputs": [],
   "source": [
    "# encoding = tiktoken.get_encoding('cl100k_base')"
   ]
  },
  {
   "cell_type": "code",
   "execution_count": 5,
   "metadata": {},
   "outputs": [],
   "source": [
    "# df = df.assign(token_count=df['Description'].apply(lambda x: len(encoding.encode(x))))"
   ]
  },
  {
   "cell_type": "code",
   "execution_count": 6,
   "metadata": {},
   "outputs": [
    {
     "name": "stdout",
     "output_type": "stream",
     "text": [
      "(1200, 11)\n"
     ]
    },
    {
     "data": {
      "text/html": [
       "<div>\n",
       "<style scoped>\n",
       "    .dataframe tbody tr th:only-of-type {\n",
       "        vertical-align: middle;\n",
       "    }\n",
       "\n",
       "    .dataframe tbody tr th {\n",
       "        vertical-align: top;\n",
       "    }\n",
       "\n",
       "    .dataframe thead th {\n",
       "        text-align: right;\n",
       "    }\n",
       "</style>\n",
       "<table border=\"1\" class=\"dataframe\">\n",
       "  <thead>\n",
       "    <tr style=\"text-align: right;\">\n",
       "      <th></th>\n",
       "      <th>Unnamed: 0</th>\n",
       "      <th>Title</th>\n",
       "      <th>Company</th>\n",
       "      <th>Location</th>\n",
       "      <th>Rating</th>\n",
       "      <th>Date</th>\n",
       "      <th>Salary</th>\n",
       "      <th>Description</th>\n",
       "      <th>Links</th>\n",
       "      <th>Descriptions</th>\n",
       "      <th>token_count</th>\n",
       "    </tr>\n",
       "  </thead>\n",
       "  <tbody>\n",
       "    <tr>\n",
       "      <th>0</th>\n",
       "      <td>0</td>\n",
       "      <td>Data Scientist</td>\n",
       "      <td>Driven Brands</td>\n",
       "      <td>Benicia, CA</td>\n",
       "      <td>2.4</td>\n",
       "      <td>PostedPosted 26 days ago</td>\n",
       "      <td>NaN</td>\n",
       "      <td>You’ll be working alongside a team of eight an...</td>\n",
       "      <td>https://www.indeed.com/rc/clk?jk=74d176d595225...</td>\n",
       "      <td>We invite you to join us at Driven Brands!\\nHe...</td>\n",
       "      <td>26</td>\n",
       "    </tr>\n",
       "    <tr>\n",
       "      <th>1</th>\n",
       "      <td>1</td>\n",
       "      <td>Business Analyst</td>\n",
       "      <td>Sabot Consulting</td>\n",
       "      <td>Remote</td>\n",
       "      <td>NaN</td>\n",
       "      <td>PostedPosted 4 days ago</td>\n",
       "      <td>$80 - $120 an hour</td>\n",
       "      <td>Preferred candidates will have prior experienc...</td>\n",
       "      <td>https://www.indeed.com/rc/clk?jk=f662b2efb509b...</td>\n",
       "      <td>Sabot Consulting (Sabot) is a management consu...</td>\n",
       "      <td>25</td>\n",
       "    </tr>\n",
       "    <tr>\n",
       "      <th>2</th>\n",
       "      <td>2</td>\n",
       "      <td>IT Business Intelligence Developer (FT) Remote...</td>\n",
       "      <td>Ballad Health</td>\n",
       "      <td>Remote in Blountville, TN</td>\n",
       "      <td>3.0</td>\n",
       "      <td>PostedPosted 30+ days ago</td>\n",
       "      <td>NaN</td>\n",
       "      <td>Job Details Apply Save Print this job Email a…</td>\n",
       "      <td>https://www.indeed.com/rc/clk?jk=58612836c63b8...</td>\n",
       "      <td>Job Details\\nApply\\nSave\\nPrint this job\\nEmai...</td>\n",
       "      <td>10</td>\n",
       "    </tr>\n",
       "    <tr>\n",
       "      <th>3</th>\n",
       "      <td>3</td>\n",
       "      <td>Data Engineer</td>\n",
       "      <td>Longevity Holdings Inc.</td>\n",
       "      <td>Remote in Minneapolis-Saint Paul, MN</td>\n",
       "      <td>NaN</td>\n",
       "      <td>PostedPosted 3 days ago</td>\n",
       "      <td>$90,000 - $110,000 a year</td>\n",
       "      <td>Incorporate core data management competencies ...</td>\n",
       "      <td>https://www.indeed.com/company/TwentyFirst/job...</td>\n",
       "      <td>Position: Data Engineer\\nLocation: MN\\nAs a Da...</td>\n",
       "      <td>29</td>\n",
       "    </tr>\n",
       "    <tr>\n",
       "      <th>4</th>\n",
       "      <td>4</td>\n",
       "      <td>Network Administrator/dba developer</td>\n",
       "      <td>WKI Kenworth</td>\n",
       "      <td>Wichita, KS 67219</td>\n",
       "      <td>NaN</td>\n",
       "      <td>EmployerActive 2 days ago</td>\n",
       "      <td>$50,000 - $70,000 a year</td>\n",
       "      <td>The Network Administrator provides 2nd level e...</td>\n",
       "      <td>https://www.indeed.com/pagead/clk?mo=r&amp;ad=-6NY...</td>\n",
       "      <td>Full Job Description\\nThe Network Administrato...</td>\n",
       "      <td>28</td>\n",
       "    </tr>\n",
       "  </tbody>\n",
       "</table>\n",
       "</div>"
      ],
      "text/plain": [
       "   Unnamed: 0                                              Title  \\\n",
       "0           0                                     Data Scientist   \n",
       "1           1                                   Business Analyst   \n",
       "2           2  IT Business Intelligence Developer (FT) Remote...   \n",
       "3           3                                      Data Engineer   \n",
       "4           4                Network Administrator/dba developer   \n",
       "\n",
       "                   Company                              Location  Rating  \\\n",
       "0            Driven Brands                           Benicia, CA     2.4   \n",
       "1         Sabot Consulting                                Remote     NaN   \n",
       "2            Ballad Health             Remote in Blountville, TN     3.0   \n",
       "3  Longevity Holdings Inc.  Remote in Minneapolis-Saint Paul, MN     NaN   \n",
       "4             WKI Kenworth                     Wichita, KS 67219     NaN   \n",
       "\n",
       "                        Date                     Salary  \\\n",
       "0   PostedPosted 26 days ago                        NaN   \n",
       "1    PostedPosted 4 days ago         $80 - $120 an hour   \n",
       "2  PostedPosted 30+ days ago                        NaN   \n",
       "3    PostedPosted 3 days ago  $90,000 - $110,000 a year   \n",
       "4  EmployerActive 2 days ago   $50,000 - $70,000 a year   \n",
       "\n",
       "                                         Description  \\\n",
       "0  You’ll be working alongside a team of eight an...   \n",
       "1  Preferred candidates will have prior experienc...   \n",
       "2     Job Details Apply Save Print this job Email a…   \n",
       "3  Incorporate core data management competencies ...   \n",
       "4  The Network Administrator provides 2nd level e...   \n",
       "\n",
       "                                               Links  \\\n",
       "0  https://www.indeed.com/rc/clk?jk=74d176d595225...   \n",
       "1  https://www.indeed.com/rc/clk?jk=f662b2efb509b...   \n",
       "2  https://www.indeed.com/rc/clk?jk=58612836c63b8...   \n",
       "3  https://www.indeed.com/company/TwentyFirst/job...   \n",
       "4  https://www.indeed.com/pagead/clk?mo=r&ad=-6NY...   \n",
       "\n",
       "                                        Descriptions  token_count  \n",
       "0  We invite you to join us at Driven Brands!\\nHe...           26  \n",
       "1  Sabot Consulting (Sabot) is a management consu...           25  \n",
       "2  Job Details\\nApply\\nSave\\nPrint this job\\nEmai...           10  \n",
       "3  Position: Data Engineer\\nLocation: MN\\nAs a Da...           29  \n",
       "4  Full Job Description\\nThe Network Administrato...           28  "
      ]
     },
     "execution_count": 6,
     "metadata": {},
     "output_type": "execute_result"
    }
   ],
   "source": [
    "# print(df.shape)\n",
    "# df.head()"
   ]
  },
  {
   "cell_type": "code",
   "execution_count": 3,
   "metadata": {},
   "outputs": [],
   "source": [
    "# Azure: \n",
    "# @retry(wait=wait_random_exponential(min=1, max=20), stop=stop_after_attempt(10))\n",
    "# def get_embedding(text) -> list[float]:\n",
    "#     text = text.replace(\"\\n\", \" \")\n",
    "#     return openai.Embedding.create(input=text, engine=OpenAiEmbedding)[\"data\"][0][\"embedding\"]\n",
    "\n",
    "@retry(wait=wait_random_exponential(min=1, max=20), stop=stop_after_attempt(10))\n",
    "def get_embedding(text, model=\"text-embedding-ada-002\"):\n",
    "   text = text.replace(\"\\n\", \" \")\n",
    "   return openai.Embedding.create(input = [text], model=model)['data'][0]['embedding']"
   ]
  },
  {
   "cell_type": "code",
   "execution_count": 8,
   "metadata": {},
   "outputs": [],
   "source": [
    "# df = df.assign(embedding=df['Description'].apply(lambda x: get_embedding(x, model='text-embedding-ada-002')))"
   ]
  },
  {
   "cell_type": "code",
   "execution_count": 9,
   "metadata": {},
   "outputs": [],
   "source": [
    "# df.to_parquet(\"job_descriptions_with_embeddings.parquet\")"
   ]
  },
  {
   "cell_type": "code",
   "execution_count": 4,
   "metadata": {},
   "outputs": [],
   "source": [
    "df = pd.read_parquet(\"job_descriptions_with_embeddings.parquet\")"
   ]
  },
  {
   "cell_type": "code",
   "execution_count": 5,
   "metadata": {},
   "outputs": [
    {
     "data": {
      "text/html": [
       "<div>\n",
       "<style scoped>\n",
       "    .dataframe tbody tr th:only-of-type {\n",
       "        vertical-align: middle;\n",
       "    }\n",
       "\n",
       "    .dataframe tbody tr th {\n",
       "        vertical-align: top;\n",
       "    }\n",
       "\n",
       "    .dataframe thead th {\n",
       "        text-align: right;\n",
       "    }\n",
       "</style>\n",
       "<table border=\"1\" class=\"dataframe\">\n",
       "  <thead>\n",
       "    <tr style=\"text-align: right;\">\n",
       "      <th></th>\n",
       "      <th>Unnamed: 0</th>\n",
       "      <th>Title</th>\n",
       "      <th>Company</th>\n",
       "      <th>Location</th>\n",
       "      <th>Rating</th>\n",
       "      <th>Date</th>\n",
       "      <th>Salary</th>\n",
       "      <th>Description</th>\n",
       "      <th>Links</th>\n",
       "      <th>Descriptions</th>\n",
       "      <th>token_count</th>\n",
       "      <th>embedding</th>\n",
       "    </tr>\n",
       "  </thead>\n",
       "  <tbody>\n",
       "    <tr>\n",
       "      <th>0</th>\n",
       "      <td>0</td>\n",
       "      <td>Data Scientist</td>\n",
       "      <td>Driven Brands</td>\n",
       "      <td>Benicia, CA</td>\n",
       "      <td>2.4</td>\n",
       "      <td>PostedPosted 26 days ago</td>\n",
       "      <td>None</td>\n",
       "      <td>You’ll be working alongside a team of eight an...</td>\n",
       "      <td>https://www.indeed.com/rc/clk?jk=74d176d595225...</td>\n",
       "      <td>We invite you to join us at Driven Brands!\\nHe...</td>\n",
       "      <td>26</td>\n",
       "      <td>[-0.0194996390491724, -0.0041993726044893265, ...</td>\n",
       "    </tr>\n",
       "    <tr>\n",
       "      <th>1</th>\n",
       "      <td>1</td>\n",
       "      <td>Business Analyst</td>\n",
       "      <td>Sabot Consulting</td>\n",
       "      <td>Remote</td>\n",
       "      <td>NaN</td>\n",
       "      <td>PostedPosted 4 days ago</td>\n",
       "      <td>$80 - $120 an hour</td>\n",
       "      <td>Preferred candidates will have prior experienc...</td>\n",
       "      <td>https://www.indeed.com/rc/clk?jk=f662b2efb509b...</td>\n",
       "      <td>Sabot Consulting (Sabot) is a management consu...</td>\n",
       "      <td>25</td>\n",
       "      <td>[-0.012073525227606297, -0.026480479165911674,...</td>\n",
       "    </tr>\n",
       "    <tr>\n",
       "      <th>2</th>\n",
       "      <td>2</td>\n",
       "      <td>IT Business Intelligence Developer (FT) Remote...</td>\n",
       "      <td>Ballad Health</td>\n",
       "      <td>Remote in Blountville, TN</td>\n",
       "      <td>3.0</td>\n",
       "      <td>PostedPosted 30+ days ago</td>\n",
       "      <td>None</td>\n",
       "      <td>Job Details Apply Save Print this job Email a…</td>\n",
       "      <td>https://www.indeed.com/rc/clk?jk=58612836c63b8...</td>\n",
       "      <td>Job Details\\nApply\\nSave\\nPrint this job\\nEmai...</td>\n",
       "      <td>10</td>\n",
       "      <td>[-0.021908748894929886, -0.002960818586871028,...</td>\n",
       "    </tr>\n",
       "    <tr>\n",
       "      <th>3</th>\n",
       "      <td>3</td>\n",
       "      <td>Data Engineer</td>\n",
       "      <td>Longevity Holdings Inc.</td>\n",
       "      <td>Remote in Minneapolis-Saint Paul, MN</td>\n",
       "      <td>NaN</td>\n",
       "      <td>PostedPosted 3 days ago</td>\n",
       "      <td>$90,000 - $110,000 a year</td>\n",
       "      <td>Incorporate core data management competencies ...</td>\n",
       "      <td>https://www.indeed.com/company/TwentyFirst/job...</td>\n",
       "      <td>Position: Data Engineer\\nLocation: MN\\nAs a Da...</td>\n",
       "      <td>29</td>\n",
       "      <td>[-0.017482835799455643, -0.01076465379446745, ...</td>\n",
       "    </tr>\n",
       "    <tr>\n",
       "      <th>4</th>\n",
       "      <td>4</td>\n",
       "      <td>Network Administrator/dba developer</td>\n",
       "      <td>WKI Kenworth</td>\n",
       "      <td>Wichita, KS 67219</td>\n",
       "      <td>NaN</td>\n",
       "      <td>EmployerActive 2 days ago</td>\n",
       "      <td>$50,000 - $70,000 a year</td>\n",
       "      <td>The Network Administrator provides 2nd level e...</td>\n",
       "      <td>https://www.indeed.com/pagead/clk?mo=r&amp;ad=-6NY...</td>\n",
       "      <td>Full Job Description\\nThe Network Administrato...</td>\n",
       "      <td>28</td>\n",
       "      <td>[0.0011034636991098523, -0.000915585900656879,...</td>\n",
       "    </tr>\n",
       "  </tbody>\n",
       "</table>\n",
       "</div>"
      ],
      "text/plain": [
       "   Unnamed: 0                                              Title  \\\n",
       "0           0                                     Data Scientist   \n",
       "1           1                                   Business Analyst   \n",
       "2           2  IT Business Intelligence Developer (FT) Remote...   \n",
       "3           3                                      Data Engineer   \n",
       "4           4                Network Administrator/dba developer   \n",
       "\n",
       "                   Company                              Location  Rating  \\\n",
       "0            Driven Brands                           Benicia, CA     2.4   \n",
       "1         Sabot Consulting                                Remote     NaN   \n",
       "2            Ballad Health             Remote in Blountville, TN     3.0   \n",
       "3  Longevity Holdings Inc.  Remote in Minneapolis-Saint Paul, MN     NaN   \n",
       "4             WKI Kenworth                     Wichita, KS 67219     NaN   \n",
       "\n",
       "                        Date                     Salary  \\\n",
       "0   PostedPosted 26 days ago                       None   \n",
       "1    PostedPosted 4 days ago         $80 - $120 an hour   \n",
       "2  PostedPosted 30+ days ago                       None   \n",
       "3    PostedPosted 3 days ago  $90,000 - $110,000 a year   \n",
       "4  EmployerActive 2 days ago   $50,000 - $70,000 a year   \n",
       "\n",
       "                                         Description  \\\n",
       "0  You’ll be working alongside a team of eight an...   \n",
       "1  Preferred candidates will have prior experienc...   \n",
       "2     Job Details Apply Save Print this job Email a…   \n",
       "3  Incorporate core data management competencies ...   \n",
       "4  The Network Administrator provides 2nd level e...   \n",
       "\n",
       "                                               Links  \\\n",
       "0  https://www.indeed.com/rc/clk?jk=74d176d595225...   \n",
       "1  https://www.indeed.com/rc/clk?jk=f662b2efb509b...   \n",
       "2  https://www.indeed.com/rc/clk?jk=58612836c63b8...   \n",
       "3  https://www.indeed.com/company/TwentyFirst/job...   \n",
       "4  https://www.indeed.com/pagead/clk?mo=r&ad=-6NY...   \n",
       "\n",
       "                                        Descriptions  token_count  \\\n",
       "0  We invite you to join us at Driven Brands!\\nHe...           26   \n",
       "1  Sabot Consulting (Sabot) is a management consu...           25   \n",
       "2  Job Details\\nApply\\nSave\\nPrint this job\\nEmai...           10   \n",
       "3  Position: Data Engineer\\nLocation: MN\\nAs a Da...           29   \n",
       "4  Full Job Description\\nThe Network Administrato...           28   \n",
       "\n",
       "                                           embedding  \n",
       "0  [-0.0194996390491724, -0.0041993726044893265, ...  \n",
       "1  [-0.012073525227606297, -0.026480479165911674,...  \n",
       "2  [-0.021908748894929886, -0.002960818586871028,...  \n",
       "3  [-0.017482835799455643, -0.01076465379446745, ...  \n",
       "4  [0.0011034636991098523, -0.000915585900656879,...  "
      ]
     },
     "execution_count": 5,
     "metadata": {},
     "output_type": "execute_result"
    }
   ],
   "source": [
    "df.head()"
   ]
  },
  {
   "cell_type": "code",
   "execution_count": 6,
   "metadata": {},
   "outputs": [],
   "source": [
    "X = np.vstack(df.embedding.values)"
   ]
  },
  {
   "cell_type": "code",
   "execution_count": 7,
   "metadata": {},
   "outputs": [
    {
     "data": {
      "text/html": [
       "<div>\n",
       "<style scoped>\n",
       "    .dataframe tbody tr th:only-of-type {\n",
       "        vertical-align: middle;\n",
       "    }\n",
       "\n",
       "    .dataframe tbody tr th {\n",
       "        vertical-align: top;\n",
       "    }\n",
       "\n",
       "    .dataframe thead th {\n",
       "        text-align: right;\n",
       "    }\n",
       "</style>\n",
       "<table border=\"1\" class=\"dataframe\">\n",
       "  <thead>\n",
       "    <tr style=\"text-align: right;\">\n",
       "      <th></th>\n",
       "      <th>Unnamed: 0</th>\n",
       "      <th>Title</th>\n",
       "      <th>Company</th>\n",
       "      <th>Location</th>\n",
       "      <th>Rating</th>\n",
       "      <th>Date</th>\n",
       "      <th>Salary</th>\n",
       "      <th>Description</th>\n",
       "      <th>Links</th>\n",
       "      <th>Descriptions</th>\n",
       "      <th>token_count</th>\n",
       "      <th>embedding</th>\n",
       "    </tr>\n",
       "  </thead>\n",
       "  <tbody>\n",
       "    <tr>\n",
       "      <th>0</th>\n",
       "      <td>0</td>\n",
       "      <td>Data Scientist</td>\n",
       "      <td>Driven Brands</td>\n",
       "      <td>Benicia, CA</td>\n",
       "      <td>2.4</td>\n",
       "      <td>PostedPosted 26 days ago</td>\n",
       "      <td>None</td>\n",
       "      <td>You’ll be working alongside a team of eight an...</td>\n",
       "      <td>https://www.indeed.com/rc/clk?jk=74d176d595225...</td>\n",
       "      <td>We invite you to join us at Driven Brands!\\nHe...</td>\n",
       "      <td>26</td>\n",
       "      <td>[-0.0194996390491724, -0.0041993726044893265, ...</td>\n",
       "    </tr>\n",
       "    <tr>\n",
       "      <th>1</th>\n",
       "      <td>1</td>\n",
       "      <td>Business Analyst</td>\n",
       "      <td>Sabot Consulting</td>\n",
       "      <td>Remote</td>\n",
       "      <td>NaN</td>\n",
       "      <td>PostedPosted 4 days ago</td>\n",
       "      <td>$80 - $120 an hour</td>\n",
       "      <td>Preferred candidates will have prior experienc...</td>\n",
       "      <td>https://www.indeed.com/rc/clk?jk=f662b2efb509b...</td>\n",
       "      <td>Sabot Consulting (Sabot) is a management consu...</td>\n",
       "      <td>25</td>\n",
       "      <td>[-0.012073525227606297, -0.026480479165911674,...</td>\n",
       "    </tr>\n",
       "  </tbody>\n",
       "</table>\n",
       "</div>"
      ],
      "text/plain": [
       "   Unnamed: 0             Title           Company     Location  Rating  \\\n",
       "0           0    Data Scientist     Driven Brands  Benicia, CA     2.4   \n",
       "1           1  Business Analyst  Sabot Consulting       Remote     NaN   \n",
       "\n",
       "                       Date              Salary  \\\n",
       "0  PostedPosted 26 days ago                None   \n",
       "1   PostedPosted 4 days ago  $80 - $120 an hour   \n",
       "\n",
       "                                         Description  \\\n",
       "0  You’ll be working alongside a team of eight an...   \n",
       "1  Preferred candidates will have prior experienc...   \n",
       "\n",
       "                                               Links  \\\n",
       "0  https://www.indeed.com/rc/clk?jk=74d176d595225...   \n",
       "1  https://www.indeed.com/rc/clk?jk=f662b2efb509b...   \n",
       "\n",
       "                                        Descriptions  token_count  \\\n",
       "0  We invite you to join us at Driven Brands!\\nHe...           26   \n",
       "1  Sabot Consulting (Sabot) is a management consu...           25   \n",
       "\n",
       "                                           embedding  \n",
       "0  [-0.0194996390491724, -0.0041993726044893265, ...  \n",
       "1  [-0.012073525227606297, -0.026480479165911674,...  "
      ]
     },
     "execution_count": 7,
     "metadata": {},
     "output_type": "execute_result"
    }
   ],
   "source": [
    "df.head(2)"
   ]
  },
  {
   "cell_type": "code",
   "execution_count": 8,
   "metadata": {},
   "outputs": [],
   "source": [
    "from sklearn.cluster import KMeans\n",
    "\n",
    "kmeans = KMeans(n_clusters=4, random_state=42)\n",
    "df['kmeans_label'] = kmeans.fit_predict(X)"
   ]
  },
  {
   "cell_type": "code",
   "execution_count": 9,
   "metadata": {},
   "outputs": [
    {
     "name": "stdout",
     "output_type": "stream",
     "text": [
      "(1200, 13)\n"
     ]
    },
    {
     "data": {
      "text/html": [
       "<div>\n",
       "<style scoped>\n",
       "    .dataframe tbody tr th:only-of-type {\n",
       "        vertical-align: middle;\n",
       "    }\n",
       "\n",
       "    .dataframe tbody tr th {\n",
       "        vertical-align: top;\n",
       "    }\n",
       "\n",
       "    .dataframe thead th {\n",
       "        text-align: right;\n",
       "    }\n",
       "</style>\n",
       "<table border=\"1\" class=\"dataframe\">\n",
       "  <thead>\n",
       "    <tr style=\"text-align: right;\">\n",
       "      <th></th>\n",
       "      <th>Unnamed: 0</th>\n",
       "      <th>Title</th>\n",
       "      <th>Company</th>\n",
       "      <th>Location</th>\n",
       "      <th>Rating</th>\n",
       "      <th>Date</th>\n",
       "      <th>Salary</th>\n",
       "      <th>Description</th>\n",
       "      <th>Links</th>\n",
       "      <th>Descriptions</th>\n",
       "      <th>token_count</th>\n",
       "      <th>embedding</th>\n",
       "      <th>kmeans_label</th>\n",
       "    </tr>\n",
       "  </thead>\n",
       "  <tbody>\n",
       "    <tr>\n",
       "      <th>0</th>\n",
       "      <td>0</td>\n",
       "      <td>Data Scientist</td>\n",
       "      <td>Driven Brands</td>\n",
       "      <td>Benicia, CA</td>\n",
       "      <td>2.4</td>\n",
       "      <td>PostedPosted 26 days ago</td>\n",
       "      <td>None</td>\n",
       "      <td>You’ll be working alongside a team of eight an...</td>\n",
       "      <td>https://www.indeed.com/rc/clk?jk=74d176d595225...</td>\n",
       "      <td>We invite you to join us at Driven Brands!\\nHe...</td>\n",
       "      <td>26</td>\n",
       "      <td>[-0.0194996390491724, -0.0041993726044893265, ...</td>\n",
       "      <td>2</td>\n",
       "    </tr>\n",
       "    <tr>\n",
       "      <th>1</th>\n",
       "      <td>1</td>\n",
       "      <td>Business Analyst</td>\n",
       "      <td>Sabot Consulting</td>\n",
       "      <td>Remote</td>\n",
       "      <td>NaN</td>\n",
       "      <td>PostedPosted 4 days ago</td>\n",
       "      <td>$80 - $120 an hour</td>\n",
       "      <td>Preferred candidates will have prior experienc...</td>\n",
       "      <td>https://www.indeed.com/rc/clk?jk=f662b2efb509b...</td>\n",
       "      <td>Sabot Consulting (Sabot) is a management consu...</td>\n",
       "      <td>25</td>\n",
       "      <td>[-0.012073525227606297, -0.026480479165911674,...</td>\n",
       "      <td>3</td>\n",
       "    </tr>\n",
       "  </tbody>\n",
       "</table>\n",
       "</div>"
      ],
      "text/plain": [
       "   Unnamed: 0             Title           Company     Location  Rating  \\\n",
       "0           0    Data Scientist     Driven Brands  Benicia, CA     2.4   \n",
       "1           1  Business Analyst  Sabot Consulting       Remote     NaN   \n",
       "\n",
       "                       Date              Salary  \\\n",
       "0  PostedPosted 26 days ago                None   \n",
       "1   PostedPosted 4 days ago  $80 - $120 an hour   \n",
       "\n",
       "                                         Description  \\\n",
       "0  You’ll be working alongside a team of eight an...   \n",
       "1  Preferred candidates will have prior experienc...   \n",
       "\n",
       "                                               Links  \\\n",
       "0  https://www.indeed.com/rc/clk?jk=74d176d595225...   \n",
       "1  https://www.indeed.com/rc/clk?jk=f662b2efb509b...   \n",
       "\n",
       "                                        Descriptions  token_count  \\\n",
       "0  We invite you to join us at Driven Brands!\\nHe...           26   \n",
       "1  Sabot Consulting (Sabot) is a management consu...           25   \n",
       "\n",
       "                                           embedding  kmeans_label  \n",
       "0  [-0.0194996390491724, -0.0041993726044893265, ...             2  \n",
       "1  [-0.012073525227606297, -0.026480479165911674,...             3  "
      ]
     },
     "execution_count": 9,
     "metadata": {},
     "output_type": "execute_result"
    }
   ],
   "source": [
    "print(df.shape)\n",
    "df.head(2)"
   ]
  },
  {
   "cell_type": "code",
   "execution_count": null,
   "metadata": {},
   "outputs": [],
   "source": []
  },
  {
   "cell_type": "code",
   "execution_count": 10,
   "metadata": {},
   "outputs": [
    {
     "name": "stderr",
     "output_type": "stream",
     "text": [
      "Retrying langchain.chat_models.openai.ChatOpenAI.completion_with_retry.<locals>._completion_with_retry in 1.0 seconds as it raised ServiceUnavailableError: The server is overloaded or not ready yet..\n"
     ]
    }
   ],
   "source": [
    "from sklearn.feature_extraction.text import TfidfVectorizer\n",
    "from sklearn.metrics.pairwise import cosine_similarity\n",
    "\n",
    "from langchain import LLMChain\n",
    "from langchain.chat_models import ChatOpenAI\n",
    "from langchain.embeddings.openai import OpenAIEmbeddings\n",
    "from langchain.prompts.chat import (\n",
    "    ChatPromptTemplate,\n",
    "    SystemMessagePromptTemplate,\n",
    "    HumanMessagePromptTemplate,\n",
    ")\n",
    "\n",
    "\n",
    "def get_prompt():\n",
    "    system_template = \"You're an expert journalist. You're helping me write a compelling topic title for news articles.\"\n",
    "    human_template = \"Using the following articles, write a topic title that summarizes them.\\n\\nARTICLES:{articles}\\n\\nTOPIC TITLE:\"\n",
    "\n",
    "    return ChatPromptTemplate(\n",
    "        messages=[\n",
    "            SystemMessagePromptTemplate.from_template(system_template),\n",
    "            HumanMessagePromptTemplate.from_template(human_template),\n",
    "        ],\n",
    "        input_variables=[\"articles\"],\n",
    "    )\n",
    "\n",
    "# Maximum number of tokens that can be processed at once\n",
    "max_tokens = 4096\n",
    "\n",
    "# Average number of tokens per paragraph\n",
    "avg_tokens_per_paragraph = 100\n",
    "\n",
    "# Maximum number of paragraphs that can be processed at once\n",
    "max_paragraphs = max_tokens // avg_tokens_per_paragraph\n",
    "\n",
    "for c in df.kmeans_label.unique():\n",
    "    chain = LLMChain(\n",
    "        llm=ChatOpenAI(temperature=0, model_name=\"gpt-3.5-turbo\"), prompt=get_prompt(), verbose=False\n",
    "    )\n",
    "    articles = df.query(f\"kmeans_label == {c}\").to_dict(orient=\"records\")\n",
    "\n",
    "    \n",
    "    # Process the articles in chunks\n",
    "    results = []\n",
    "    for i in range(0, len(articles), max_paragraphs):\n",
    "        chunk = articles[i:i+max_paragraphs]\n",
    "        articles_str = \"\\n\".join([article['Description'] for article in chunk])\n",
    "        result = chain.run(\n",
    "            {\n",
    "                \"articles\": articles_str,\n",
    "            }\n",
    "        )\n",
    "        results.append(result)\n",
    "        # Assign the generated topic title to each article in the chunk\n",
    "        for article in chunk:\n",
    "            df.loc[df.Description == article['Description'], \"topic_title\"] = result\n"
   ]
  },
  {
   "cell_type": "code",
   "execution_count": 13,
   "metadata": {},
   "outputs": [
    {
     "data": {
      "text/plain": [
       "topic_title\n",
       "\"Expertise in Database Management: SQL Server DBA, Performance Monitoring, and Administration\"    42\n",
       "\"Database Administrators: Enhancing Performance, Security, and Efficiency\"                        41\n",
       "\"Optimizing Database Performance: A Comprehensive Guide for Administrators and Developers\"        37\n",
       "\"Expert Database Administrator with Extensive Experience in SQL, Oracle, and AWS Technologies\"    30\n",
       "Name: count, dtype: int64"
      ]
     },
     "execution_count": 13,
     "metadata": {},
     "output_type": "execute_result"
    }
   ],
   "source": [
    "df[df['kmeans_label']==0]['topic_title'].value_counts()"
   ]
  },
  {
   "cell_type": "code",
   "execution_count": null,
   "metadata": {},
   "outputs": [],
   "source": []
  },
  {
   "cell_type": "code",
   "execution_count": null,
   "metadata": {},
   "outputs": [],
   "source": []
  },
  {
   "cell_type": "code",
   "execution_count": null,
   "metadata": {},
   "outputs": [],
   "source": []
  },
  {
   "cell_type": "code",
   "execution_count": 42,
   "metadata": {},
   "outputs": [],
   "source": [
    "from llama_index.llms import OpenAI\n",
    "from langchain.embeddings import OpenAIEmbeddings\n",
    "import matplotlib.pyplot as plt\n",
    "import seaborn as sns\n",
    "from sklearn.metrics.pairwise import cosine_similarity\n",
    "import numpy as np\n",
    "import random\n",
    "\n",
    "\n",
    "class ClusterTopicIdentifier:\n",
    "    def __init__(self, dataframe, text_col='text', cluster_col='cluster', engine=\"gpt-3.5-turbo\"):\n",
    "        self.dataframe = dataframe\n",
    "        self.text_col = text_col\n",
    "        self.cluster_col = cluster_col\n",
    "        self.engine = engine\n",
    "        self.llm = OpenAI(model=engine, temperature=0)\n",
    "        self.embed_model = OpenAIEmbeddings()\n",
    "\n",
    "    def get_topic_label(self, text_samples): \n",
    "        prompt = \"Given the following text samples, provide a concise topic label:\\n\\n\"+\"\\n\".join(text_samples)\n",
    "        response = self.llm.complete(prompt, max_tokens=50)\n",
    "        return str(response)\n",
    "\n",
    "    def measure_similarity(self, topic_labels):\n",
    "        topic_vectors = self.embed_model.embed_documents(topic_labels)\n",
    "        vectors = np.vstack(topic_vectors)\n",
    "        csim = cosine_similarity(vectors)\n",
    "        return np.mean(csim)\n",
    "\n",
    "    def identify_topics(self, num_samples=5, sample_size=10):\n",
    "        clusters = self.dataframe[self.cluster_col].unique()\n",
    "        results = []\n",
    "        for cluster in clusters:\n",
    "            texts = self.dataframe[self.dataframe[self.cluster_col] == cluster][self.text_col].tolist()\n",
    "            topic_labels = []\n",
    "            for _ in range(num_samples):\n",
    "                text_samples = random.sample(texts, min(sample_size, len(texts)))\n",
    "                topic_labels.append(self.get_topic_label(text_samples))\n",
    "            similarity = self.measure_similarity(topic_labels)\n",
    "            results.append([cluster, topic_labels, similarity])\n",
    "        result_df = pd.DataFrame(results, columns=['Cluster', 'Topic Labels', 'Similarity'])\n",
    "        result_df = result_df.explode('Topic Labels').reset_index(drop=True)\n",
    "        return result_df\n",
    "\n",
    "    def visualize_runs(self, result_df):\n",
    "        for i, row in result_df.iterrows():\n",
    "            cluster = row['Cluster']\n",
    "            topic_labels = row['Topic Labels']\n",
    "\n",
    "            # Compute similarity matrix\n",
    "            topic_vectors = self.embed_model.embed_documents(topic_labels)\n",
    "            vectors = np.vstack(topic_vectors)\n",
    "            similarity_matrix = cosine_similarity(vectors)\n",
    "\n",
    "            # Create a histogram\n",
    "            plt.figure(figsize=(10, 8))\n",
    "            sns.histplot(similarity_matrix.flatten(), kde=True, bins=20)\n",
    "            plt.title(f'Histogram of Topic Label Similarities for Cluster {cluster}')\n",
    "            plt.xlabel('Similarity Score')\n",
    "            plt.ylabel('Frequency')\n",
    "            plt.show()"
   ]
  },
  {
   "cell_type": "code",
   "execution_count": 43,
   "metadata": {},
   "outputs": [],
   "source": [
    "# Initialize the class with the toy dataset\n",
    "cluster_identifier = ClusterTopicIdentifier(df, text_col='Description', cluster_col='kmeans_label')\n",
    "\n",
    "# Identify topics for each cluster\n",
    "result_df  = cluster_identifier.identify_topics(num_samples=10)"
   ]
  },
  {
   "cell_type": "code",
   "execution_count": 47,
   "metadata": {},
   "outputs": [
    {
     "data": {
      "text/html": [
       "<div>\n",
       "<style scoped>\n",
       "    .dataframe tbody tr th:only-of-type {\n",
       "        vertical-align: middle;\n",
       "    }\n",
       "\n",
       "    .dataframe tbody tr th {\n",
       "        vertical-align: top;\n",
       "    }\n",
       "\n",
       "    .dataframe thead th {\n",
       "        text-align: right;\n",
       "    }\n",
       "</style>\n",
       "<table border=\"1\" class=\"dataframe\">\n",
       "  <thead>\n",
       "    <tr style=\"text-align: right;\">\n",
       "      <th></th>\n",
       "      <th>Cluster</th>\n",
       "      <th>Topic Labels</th>\n",
       "      <th>Similarity</th>\n",
       "    </tr>\n",
       "  </thead>\n",
       "  <tbody>\n",
       "    <tr>\n",
       "      <th>10</th>\n",
       "      <td>3</td>\n",
       "      <td>Business Analysis and Requirements Gathering</td>\n",
       "      <td>0.892718</td>\n",
       "    </tr>\n",
       "    <tr>\n",
       "      <th>11</th>\n",
       "      <td>3</td>\n",
       "      <td>Business Analysis and Requirements Gathering f...</td>\n",
       "      <td>0.892718</td>\n",
       "    </tr>\n",
       "    <tr>\n",
       "      <th>12</th>\n",
       "      <td>3</td>\n",
       "      <td>Business Intelligence and Reporting</td>\n",
       "      <td>0.892718</td>\n",
       "    </tr>\n",
       "    <tr>\n",
       "      <th>13</th>\n",
       "      <td>3</td>\n",
       "      <td>Business Intelligence and Agile Project Manage...</td>\n",
       "      <td>0.892718</td>\n",
       "    </tr>\n",
       "    <tr>\n",
       "      <th>14</th>\n",
       "      <td>3</td>\n",
       "      <td>Business Analysis, Enablement Metrics, Archite...</td>\n",
       "      <td>0.892718</td>\n",
       "    </tr>\n",
       "    <tr>\n",
       "      <th>15</th>\n",
       "      <td>3</td>\n",
       "      <td>Business Intelligence Analyst\\nData Analysis\\n...</td>\n",
       "      <td>0.892718</td>\n",
       "    </tr>\n",
       "    <tr>\n",
       "      <th>16</th>\n",
       "      <td>3</td>\n",
       "      <td>Business Intelligence Developer</td>\n",
       "      <td>0.892718</td>\n",
       "    </tr>\n",
       "    <tr>\n",
       "      <th>17</th>\n",
       "      <td>3</td>\n",
       "      <td>Business Analysis and Requirements Gathering</td>\n",
       "      <td>0.892718</td>\n",
       "    </tr>\n",
       "    <tr>\n",
       "      <th>18</th>\n",
       "      <td>3</td>\n",
       "      <td>Business Intelligence Solutions</td>\n",
       "      <td>0.892718</td>\n",
       "    </tr>\n",
       "    <tr>\n",
       "      <th>19</th>\n",
       "      <td>3</td>\n",
       "      <td>Business Analysis and Business Intelligence</td>\n",
       "      <td>0.892718</td>\n",
       "    </tr>\n",
       "  </tbody>\n",
       "</table>\n",
       "</div>"
      ],
      "text/plain": [
       "    Cluster                                       Topic Labels  Similarity\n",
       "10        3       Business Analysis and Requirements Gathering    0.892718\n",
       "11        3  Business Analysis and Requirements Gathering f...    0.892718\n",
       "12        3                Business Intelligence and Reporting    0.892718\n",
       "13        3  Business Intelligence and Agile Project Manage...    0.892718\n",
       "14        3  Business Analysis, Enablement Metrics, Archite...    0.892718\n",
       "15        3  Business Intelligence Analyst\\nData Analysis\\n...    0.892718\n",
       "16        3                    Business Intelligence Developer    0.892718\n",
       "17        3       Business Analysis and Requirements Gathering    0.892718\n",
       "18        3                    Business Intelligence Solutions    0.892718\n",
       "19        3        Business Analysis and Business Intelligence    0.892718"
      ]
     },
     "execution_count": 47,
     "metadata": {},
     "output_type": "execute_result"
    }
   ],
   "source": [
    "result_df[result_df['Cluster']==3]"
   ]
  },
  {
   "cell_type": "code",
   "execution_count": 15,
   "metadata": {},
   "outputs": [
    {
     "data": {
      "text/html": [
       "<div>\n",
       "<style scoped>\n",
       "    .dataframe tbody tr th:only-of-type {\n",
       "        vertical-align: middle;\n",
       "    }\n",
       "\n",
       "    .dataframe tbody tr th {\n",
       "        vertical-align: top;\n",
       "    }\n",
       "\n",
       "    .dataframe thead th {\n",
       "        text-align: right;\n",
       "    }\n",
       "</style>\n",
       "<table border=\"1\" class=\"dataframe\">\n",
       "  <thead>\n",
       "    <tr style=\"text-align: right;\">\n",
       "      <th></th>\n",
       "      <th>Similarity</th>\n",
       "    </tr>\n",
       "    <tr>\n",
       "      <th>Cluster</th>\n",
       "      <th></th>\n",
       "    </tr>\n",
       "  </thead>\n",
       "  <tbody>\n",
       "    <tr>\n",
       "      <th>0</th>\n",
       "      <td>0.854110</td>\n",
       "    </tr>\n",
       "    <tr>\n",
       "      <th>1</th>\n",
       "      <td>0.851322</td>\n",
       "    </tr>\n",
       "    <tr>\n",
       "      <th>2</th>\n",
       "      <td>0.843315</td>\n",
       "    </tr>\n",
       "    <tr>\n",
       "      <th>3</th>\n",
       "      <td>0.820402</td>\n",
       "    </tr>\n",
       "  </tbody>\n",
       "</table>\n",
       "</div>"
      ],
      "text/plain": [
       "         Similarity\n",
       "Cluster            \n",
       "0          0.854110\n",
       "1          0.851322\n",
       "2          0.843315\n",
       "3          0.820402"
      ]
     },
     "execution_count": 15,
     "metadata": {},
     "output_type": "execute_result"
    }
   ],
   "source": [
    "result_df.groupby('Cluster').mean('Similarity')"
   ]
  },
  {
   "cell_type": "code",
   "execution_count": null,
   "metadata": {},
   "outputs": [
    {
     "ename": "AssertionError",
     "evalue": "",
     "output_type": "error",
     "traceback": [
      "\u001b[1;31m---------------------------------------------------------------------------\u001b[0m",
      "\u001b[1;31mAssertionError\u001b[0m                            Traceback (most recent call last)",
      "Cell \u001b[1;32mIn[15], line 1\u001b[0m\n\u001b[1;32m----> 1\u001b[0m \u001b[39massert\u001b[39;00m \u001b[39m1\u001b[39m \u001b[39m+\u001b[39m \u001b[39m1\u001b[39m \u001b[39m==\u001b[39m \u001b[39m3\u001b[39m\n",
      "\u001b[1;31mAssertionError\u001b[0m: "
     ]
    }
   ],
   "source": [
    "assert 1 + 1 == 3"
   ]
  },
  {
   "cell_type": "code",
   "execution_count": 17,
   "metadata": {},
   "outputs": [],
   "source": [
    "import asyncio\n",
    "import lmql"
   ]
  },
  {
   "cell_type": "code",
   "execution_count": 18,
   "metadata": {},
   "outputs": [
    {
     "data": {
      "text/plain": [
       "[['\\n\\nHello, welcome to our website.'],\n",
       " ['\\n\\nHello, welcome to our website.'],\n",
       " ['\\n\\nHello, welcome to our website.'],\n",
       " ['\\n\\nHello, welcome to our website.'],\n",
       " ['\\n\\nHello, welcome to our website.'],\n",
       " ['\\n\\nHello, welcome to our website.'],\n",
       " ['\\n\\nHello, welcome to our website.'],\n",
       " ['\\n\\nHello, welcome to our website.'],\n",
       " ['\\n\\nHello, welcome to our website.'],\n",
       " ['\\n\\nHello, welcome to our website.']]"
      ]
     },
     "execution_count": 18,
     "metadata": {},
     "output_type": "execute_result"
    }
   ],
   "source": [
    "@lmql.query\n",
    "async def hello():\n",
    "    '''lmql\n",
    "    argmax\n",
    "        \"Hello[WHO]\"\n",
    "        return WHO\n",
    "    from\n",
    "        \"openai/text-ada-001\"\n",
    "    where\n",
    "        len(TOKENS(WHO)) < 10\n",
    "    '''\n",
    "\n",
    "# run 10 instances of 'hello' in parallel\n",
    "await asyncio.gather(*[hello() for _ in range(10)])"
   ]
  },
  {
   "cell_type": "code",
   "execution_count": 19,
   "metadata": {},
   "outputs": [],
   "source": [
    "@lmql.query\n",
    "async def explain(dad_joke):\n",
    "   '''lmql\n",
    "   argmax\n",
    "   \"\"\"Explain the dad joke: {dad_joke}\n",
    "   Explanation: [EXPLANATION]\"\"\"\n",
    "   from\n",
    "   \"openai/text-davinci-003\"\n",
    "   '''"
   ]
  },
  {
   "cell_type": "code",
   "execution_count": 20,
   "metadata": {},
   "outputs": [],
   "source": [
    "result = await explain(\"\"\"My dad quit his job to pursue his dream in archeology.\n",
    "\n",
    "His career is now in ruins.\"\"\")"
   ]
  },
  {
   "cell_type": "code",
   "execution_count": 21,
   "metadata": {},
   "outputs": [
    {
     "name": "stdout",
     "output_type": "stream",
     "text": [
      "Explain the dad joke: My dad quit his job to pursue his dream in archeology.\n",
      "\n",
      "His career is now in ruins.\n",
      "Explanation: \n",
      "This is a pun on the word \"ruins,\" which can refer to both the remains of an ancient civilization and a situation that has been destroyed or ruined. The joke is that by quitting his job to pursue his dream in archeology, his career has been \"ruined\" or destroyed.\n"
     ]
    }
   ],
   "source": [
    "print(result[0].prompt)"
   ]
  },
  {
   "cell_type": "code",
   "execution_count": 22,
   "metadata": {},
   "outputs": [
    {
     "name": "stdout",
     "output_type": "stream",
     "text": [
      "\n",
      "This is a pun on the word \"ruins,\" which can refer to both the remains of an ancient civilization and a situation that has been destroyed or ruined. The joke is that by quitting his job to pursue his dream in archeology, his career has been \"ruined\" or destroyed.\n"
     ]
    }
   ],
   "source": [
    "print(result[0].variables['EXPLANATION'])"
   ]
  },
  {
   "cell_type": "code",
   "execution_count": 87,
   "metadata": {},
   "outputs": [],
   "source": [
    "@lmql.query\n",
    "async def classify_review(review):\n",
    "  '''argmax\n",
    "    \"\"\"Review: {review}\\n\n",
    "    Q: What is the underlying sentiment of this review and why?\\n\n",
    "    A:[ANALYSIS]\\n\n",
    "    Based on this, the overall sentiment of the message can be considered to be [CLASSIFICATION]\"\"\"\n",
    "  from\n",
    "    \"openai/text-davinci-003\"\n",
    "  WHERE\n",
    "    CLASSIFICATION in [\"positive\", \"neutral\", \"negative\"]\n",
    "  '''"
   ]
  },
  {
   "cell_type": "code",
   "execution_count": 88,
   "metadata": {},
   "outputs": [],
   "source": [
    "result = await classify_review(\"\"\"Schweinsbraten schlecht, Kässpatzen ohne Geschmack mit blassen nicht krossen Röstzwiebeln.\n",
    "Der Kaiserschmarren war dann der  Gipfel , in 5 Min fertig und  einfach nur mies !!!!\n",
    "Alles in Allem eine Frechheit!!!!\n",
    "\n",
    "Nie wieder!!!!!!\"\"\")"
   ]
  },
  {
   "cell_type": "code",
   "execution_count": 89,
   "metadata": {},
   "outputs": [
    {
     "data": {
      "text/plain": [
       "{'ANALYSIS': ' The underlying sentiment of this review is one of extreme dissatisfaction. The reviewer is very unhappy with the quality of the food, describing the Schweinsbraten as \"schlecht\" (bad), the Kässpatzen as having \"ohne Geschmack\" (no taste) and the Kaiserschmarren as \"mies\" (awful). The reviewer expresses their dissatisfaction by saying \"Alles in Allem eine Frechheit!\" (All in all, a disgrace!) and concludes with \"Nie wieder!\" (Never again!).',\n",
       " 'CLASSIFICATION': 'negative'}"
      ]
     },
     "execution_count": 89,
     "metadata": {},
     "output_type": "execute_result"
    }
   ],
   "source": [
    "result[0].variables"
   ]
  },
  {
   "cell_type": "code",
   "execution_count": 90,
   "metadata": {},
   "outputs": [
    {
     "data": {
      "text/html": [
       "<div>\n",
       "<style scoped>\n",
       "    .dataframe tbody tr th:only-of-type {\n",
       "        vertical-align: middle;\n",
       "    }\n",
       "\n",
       "    .dataframe tbody tr th {\n",
       "        vertical-align: top;\n",
       "    }\n",
       "\n",
       "    .dataframe thead th {\n",
       "        text-align: right;\n",
       "    }\n",
       "</style>\n",
       "<table border=\"1\" class=\"dataframe\">\n",
       "  <thead>\n",
       "    <tr style=\"text-align: right;\">\n",
       "      <th></th>\n",
       "      <th>ANALYSIS</th>\n",
       "      <th>CLASSIFICATION</th>\n",
       "    </tr>\n",
       "  </thead>\n",
       "  <tbody>\n",
       "    <tr>\n",
       "      <th>0</th>\n",
       "      <td>The underlying sentiment of this review is on...</td>\n",
       "      <td>negative</td>\n",
       "    </tr>\n",
       "  </tbody>\n",
       "</table>\n",
       "</div>"
      ],
      "text/plain": [
       "                                            ANALYSIS CLASSIFICATION\n",
       "0   The underlying sentiment of this review is on...       negative"
      ]
     },
     "execution_count": 90,
     "metadata": {},
     "output_type": "execute_result"
    }
   ],
   "source": [
    "df = pd.DataFrame([r.variables for r in result])\n",
    "df"
   ]
  },
  {
   "cell_type": "code",
   "execution_count": 139,
   "metadata": {},
   "outputs": [],
   "source": [
    "from langchain.embeddings.openai import OpenAIEmbeddings\n",
    "from langchain.vectorstores import Chroma"
   ]
  },
  {
   "cell_type": "code",
   "execution_count": 27,
   "metadata": {},
   "outputs": [],
   "source": [
    "\n",
    "from llama_index import SimpleDirectoryReader\n",
    "\n",
    "documents_ho3 = SimpleDirectoryReader(input_files=['./data/HO3_sample.pdf']).load_data()"
   ]
  },
  {
   "cell_type": "code",
   "execution_count": 28,
   "metadata": {},
   "outputs": [],
   "source": [
    "docs = []\n",
    "\n",
    "for i in range(len(documents_ho3)):\n",
    "    doc = documents_ho3[i].to_langchain_format()\n",
    "    docs.append(doc)"
   ]
  },
  {
   "cell_type": "code",
   "execution_count": 30,
   "metadata": {},
   "outputs": [],
   "source": [
    "from langchain.embeddings.openai import OpenAIEmbeddings\n",
    "from langchain.vectorstores import Chroma\n",
    "\n",
    "embeddings = OpenAIEmbeddings()\n",
    "docsearch = Chroma.from_documents(docs, embeddings, persist_directory=\"lmql-index\")"
   ]
  },
  {
   "cell_type": "code",
   "execution_count": 31,
   "metadata": {},
   "outputs": [],
   "source": [
    "@lmql.query\n",
    "async def chatbot():\n",
    "        '''lmql\n",
    "sample(temperature=0.2, max_len=2048, openai_chunksize=2048)\n",
    "    \"\"\"You are a chatbot that helps users answer questions.\n",
    "    You are first provided with the question and relevant information.\"\"\"\n",
    "    while True:\n",
    "        q = await input(\"\\nQuestion: \")\n",
    "        if q == \"exit\": break\n",
    "        \"Question: {q}\\n\"\n",
    "        print(\"Reading relevant pages...\")\n",
    "        results = set([d.page_content for d in docsearch.similarity_search(q, 4)])\n",
    "        information = \"\\n\\n\".join([\"...\" + r + \"...\" for r in list(results)])\n",
    "        \"\\nRelevant Information: {information}\\n\"\n",
    "        \"Your response based on relevant information:[RESPONSE]\"\n",
    "from\n",
    "    \"openai/gpt-3.5-turbo\"\n",
    "        '''"
   ]
  },
  {
   "cell_type": "code",
   "execution_count": 32,
   "metadata": {},
   "outputs": [],
   "source": [
    "# setup the LM to be used by langchain\n",
    "from langchain import PromptTemplate\n",
    "\n",
    "\n",
    "llm = OpenAI(temperature=0.9)\n",
    "\n",
    "human_message_prompt = HumanMessagePromptTemplate(\n",
    "        prompt=PromptTemplate(\n",
    "            template=\"What is a good name for a company that makes {product}?\",\n",
    "            input_variables=[\"product\"],\n",
    "        )\n",
    "    )\n",
    "chat_prompt_template = ChatPromptTemplate.from_messages([human_message_prompt])\n",
    "chat = ChatOpenAI(temperature=0.9)\n",
    "chain = LLMChain(llm=chat, prompt=chat_prompt_template)"
   ]
  },
  {
   "cell_type": "code",
   "execution_count": 33,
   "metadata": {},
   "outputs": [
    {
     "data": {
      "text/plain": [
       "'Faux Paws Productions'"
      ]
     },
     "execution_count": 33,
     "metadata": {},
     "output_type": "execute_result"
    }
   ],
   "source": [
    "chain.run(\"fake dog poop\")"
   ]
  },
  {
   "cell_type": "code",
   "execution_count": 34,
   "metadata": {},
   "outputs": [],
   "source": [
    "@lmql.query\n",
    "async def write_catch_phrase(company_name: str):\n",
    "    '''\n",
    "    argmax \"Write a catchphrase for the following company: {company_name}. [catchphrase]\" from \"chatgpt\"\n",
    "    '''"
   ]
  },
  {
   "cell_type": "code",
   "execution_count": 37,
   "metadata": {},
   "outputs": [
    {
     "data": {
      "text/plain": [
       "'  \"Step up your style with Socks Inc. - where comfort meets fashion!\"'"
      ]
     },
     "execution_count": 37,
     "metadata": {},
     "output_type": "execute_result"
    }
   ],
   "source": [
    "(await write_catch_phrase(\"Socks Inc\"))[0].variables[\"catchphrase\"]"
   ]
  },
  {
   "cell_type": "code",
   "execution_count": 38,
   "metadata": {},
   "outputs": [],
   "source": [
    "from langchain.chains import SimpleSequentialChain\n",
    "overall_chain = SimpleSequentialChain(chains=[chain, write_catch_phrase.aschain()], verbose=True)"
   ]
  },
  {
   "cell_type": "code",
   "execution_count": 98,
   "metadata": {},
   "outputs": [],
   "source": [
    "from llama_index import VectorStoreIndex, SimpleDirectoryReader, ServiceContext\n",
    "from llama_index.node_parser import SimpleNodeParser\n",
    "from langchain.text_splitter import RecursiveCharacterTextSplitter\n",
    "\n",
    "splitter = RecursiveCharacterTextSplitter(chunk_size=512)\n",
    "parser = SimpleNodeParser(text_splitter=splitter)\n",
    "nodes = parser.get_nodes_from_documents(documents_ho3)"
   ]
  },
  {
   "cell_type": "code",
   "execution_count": 99,
   "metadata": {},
   "outputs": [],
   "source": [
    "service_context = ServiceContext.from_defaults(chunk_size_limit=512)"
   ]
  },
  {
   "cell_type": "code",
   "execution_count": 100,
   "metadata": {},
   "outputs": [],
   "source": [
    "index = VectorStoreIndex(nodes, service_context=service_context)"
   ]
  },
  {
   "cell_type": "code",
   "execution_count": 101,
   "metadata": {},
   "outputs": [],
   "source": [
    "from llama_index import get_response_synthesizer\n",
    "from llama_index.indices.vector_store.retrievers import VectorIndexRetriever\n",
    "from llama_index.query_engine.retriever_query_engine import RetrieverQueryEngine\n",
    "\n",
    "retriever = VectorIndexRetriever(\n",
    "    index=index,\n",
    "    similarity_top_k=2)"
   ]
  },
  {
   "cell_type": "code",
   "execution_count": 102,
   "metadata": {},
   "outputs": [],
   "source": [
    "response = retriever.retrieve(\"water damage\")"
   ]
  },
  {
   "cell_type": "code",
   "execution_count": 103,
   "metadata": {},
   "outputs": [
    {
     "data": {
      "text/plain": [
       "401"
      ]
     },
     "execution_count": 103,
     "metadata": {},
     "output_type": "execute_result"
    }
   ],
   "source": [
    "len(response[0].node.text)"
   ]
  },
  {
   "cell_type": "code",
   "execution_count": 104,
   "metadata": {},
   "outputs": [
    {
     "data": {
      "text/plain": [
       "'only for the ensuing loss.\\nThis Exclusion A.2. does not apply to loss by\\ntheft.\\n3. Water Damage\\nWater Damage means:\\na.Flood, surface water, waves, tidal water,\\noverflow of a body of water, or spray fromany of these, whether or not driven by wind;\\nb.Water or water-borne material which backsup through sewers or drains or which over-flows or is discharged from a sump, sumppump or related equipment; or'"
      ]
     },
     "execution_count": 104,
     "metadata": {},
     "output_type": "execute_result"
    }
   ],
   "source": [
    "response[0].node.get_content()"
   ]
  },
  {
   "cell_type": "code",
   "execution_count": 105,
   "metadata": {},
   "outputs": [],
   "source": [
    "information = \"\\n\\n\".join([s.node.get_content() for s in response])"
   ]
  },
  {
   "cell_type": "code",
   "execution_count": 106,
   "metadata": {},
   "outputs": [
    {
     "data": {
      "text/plain": [
       "887"
      ]
     },
     "execution_count": 106,
     "metadata": {},
     "output_type": "execute_result"
    }
   ],
   "source": [
    "len(information)"
   ]
  },
  {
   "cell_type": "code",
   "execution_count": 107,
   "metadata": {},
   "outputs": [],
   "source": [
    "retriever = VectorIndexRetriever(\n",
    "    index=index,\n",
    "    similarity_top_k=4)\n",
    "\n",
    "@lmql.query\n",
    "async def index_query(question: str):\n",
    "        '''\n",
    "sample(temperature=0.2, max_len=2048, openai_chunksize=2048)\n",
    "    \"\"\"You are a QA bot that helps users answer questions.\"\"\"\n",
    "    response = retriever.retrieve(question)\n",
    "    information = \"\\n\\n\".join([s.node.get_content() for s in response])\n",
    "    \"Question: {question}\\n\"\n",
    "    \"\\nRelevant Information: {information}\\n\"\n",
    "    \"Your response based on relevant information:[RESPONSE]\"\n",
    "from\n",
    "    \"openai/gpt-3.5-turbo\"\n",
    "        '''"
   ]
  },
  {
   "cell_type": "code",
   "execution_count": 108,
   "metadata": {},
   "outputs": [
    {
     "name": "stdout",
     "output_type": "stream",
     "text": [
      "Yes, the policy does cover water damage. Loss by water covered under c.(5) and (6) is not excluded, and any ensuing loss to property described in Coverages A and B is covered, as long as it is not precluded by any other provision in the policy."
     ]
    }
   ],
   "source": [
    "result = await index_query(\"Does the policy cover water damage?\", output_writer=lmql.stream(variable=\"RESPONSE\"))"
   ]
  },
  {
   "cell_type": "code",
   "execution_count": 109,
   "metadata": {},
   "outputs": [
    {
     "data": {
      "text/plain": [
       "{'RESPONSE': '  Yes, the policy does cover water damage. Loss by water covered under c.(5) and (6) is not excluded, and any ensuing loss to property described in Coverages A and B is covered, as long as it is not precluded by any other provision in the policy.'}"
      ]
     },
     "execution_count": 109,
     "metadata": {},
     "output_type": "execute_result"
    }
   ],
   "source": [
    "result[0].variables"
   ]
  },
  {
   "cell_type": "code",
   "execution_count": 110,
   "metadata": {},
   "outputs": [
    {
     "data": {
      "text/html": [
       "<div>\n",
       "<style scoped>\n",
       "    .dataframe tbody tr th:only-of-type {\n",
       "        vertical-align: middle;\n",
       "    }\n",
       "\n",
       "    .dataframe tbody tr th {\n",
       "        vertical-align: top;\n",
       "    }\n",
       "\n",
       "    .dataframe thead th {\n",
       "        text-align: right;\n",
       "    }\n",
       "</style>\n",
       "<table border=\"1\" class=\"dataframe\">\n",
       "  <thead>\n",
       "    <tr style=\"text-align: right;\">\n",
       "      <th></th>\n",
       "      <th>RESPONSE</th>\n",
       "    </tr>\n",
       "  </thead>\n",
       "  <tbody>\n",
       "    <tr>\n",
       "      <th>0</th>\n",
       "      <td>Yes, the policy does cover water damage. Los...</td>\n",
       "    </tr>\n",
       "  </tbody>\n",
       "</table>\n",
       "</div>"
      ],
      "text/plain": [
       "                                            RESPONSE\n",
       "0    Yes, the policy does cover water damage. Los..."
      ]
     },
     "execution_count": 110,
     "metadata": {},
     "output_type": "execute_result"
    }
   ],
   "source": [
    "df = pd.DataFrame([r.variables for r in result])\n",
    "df"
   ]
  },
  {
   "cell_type": "code",
   "execution_count": null,
   "metadata": {},
   "outputs": [],
   "source": []
  },
  {
   "cell_type": "code",
   "execution_count": null,
   "metadata": {},
   "outputs": [],
   "source": []
  },
  {
   "cell_type": "code",
   "execution_count": null,
   "metadata": {},
   "outputs": [],
   "source": []
  },
  {
   "cell_type": "code",
   "execution_count": null,
   "metadata": {},
   "outputs": [],
   "source": []
  },
  {
   "cell_type": "code",
   "execution_count": null,
   "metadata": {},
   "outputs": [
    {
     "name": "stderr",
     "output_type": "stream",
     "text": [
      "c:\\Users\\pdoub\\Desktop\\python_projects\\junk-drawer\\.venv\\lib\\site-packages\\sklearn\\cluster\\_kmeans.py:1412: FutureWarning: The default value of `n_init` will change from 10 to 'auto' in 1.4. Set the value of `n_init` explicitly to suppress the warning\n",
      "  super()._check_params_vs_input(X, default_n_init=10)\n"
     ]
    },
    {
     "data": {
      "text/html": [
       "<div>\n",
       "<style scoped>\n",
       "    .dataframe tbody tr th:only-of-type {\n",
       "        vertical-align: middle;\n",
       "    }\n",
       "\n",
       "    .dataframe tbody tr th {\n",
       "        vertical-align: top;\n",
       "    }\n",
       "\n",
       "    .dataframe thead th {\n",
       "        text-align: right;\n",
       "    }\n",
       "</style>\n",
       "<table border=\"1\" class=\"dataframe\">\n",
       "  <thead>\n",
       "    <tr style=\"text-align: right;\">\n",
       "      <th></th>\n",
       "      <th>Unnamed: 0</th>\n",
       "      <th>Title</th>\n",
       "      <th>Company</th>\n",
       "      <th>Location</th>\n",
       "      <th>Rating</th>\n",
       "      <th>Date</th>\n",
       "      <th>Salary</th>\n",
       "      <th>Description</th>\n",
       "      <th>Links</th>\n",
       "      <th>Descriptions</th>\n",
       "      <th>token_count</th>\n",
       "      <th>embedding</th>\n",
       "      <th>cluster</th>\n",
       "    </tr>\n",
       "  </thead>\n",
       "  <tbody>\n",
       "    <tr>\n",
       "      <th>0</th>\n",
       "      <td>0</td>\n",
       "      <td>Data Scientist</td>\n",
       "      <td>Driven Brands</td>\n",
       "      <td>Benicia, CA</td>\n",
       "      <td>2.4</td>\n",
       "      <td>PostedPosted 26 days ago</td>\n",
       "      <td>NaN</td>\n",
       "      <td>You’ll be working alongside a team of eight an...</td>\n",
       "      <td>https://www.indeed.com/rc/clk?jk=74d176d595225...</td>\n",
       "      <td>We invite you to join us at Driven Brands!\\nHe...</td>\n",
       "      <td>26</td>\n",
       "      <td>[-0.0194996390491724, -0.0041993726044893265, ...</td>\n",
       "      <td>2</td>\n",
       "    </tr>\n",
       "    <tr>\n",
       "      <th>1</th>\n",
       "      <td>1</td>\n",
       "      <td>Business Analyst</td>\n",
       "      <td>Sabot Consulting</td>\n",
       "      <td>Remote</td>\n",
       "      <td>NaN</td>\n",
       "      <td>PostedPosted 4 days ago</td>\n",
       "      <td>$80 - $120 an hour</td>\n",
       "      <td>Preferred candidates will have prior experienc...</td>\n",
       "      <td>https://www.indeed.com/rc/clk?jk=f662b2efb509b...</td>\n",
       "      <td>Sabot Consulting (Sabot) is a management consu...</td>\n",
       "      <td>25</td>\n",
       "      <td>[-0.012073525227606297, -0.026480479165911674,...</td>\n",
       "      <td>4</td>\n",
       "    </tr>\n",
       "    <tr>\n",
       "      <th>2</th>\n",
       "      <td>2</td>\n",
       "      <td>IT Business Intelligence Developer (FT) Remote...</td>\n",
       "      <td>Ballad Health</td>\n",
       "      <td>Remote in Blountville, TN</td>\n",
       "      <td>3.0</td>\n",
       "      <td>PostedPosted 30+ days ago</td>\n",
       "      <td>NaN</td>\n",
       "      <td>Job Details Apply Save Print this job Email a…</td>\n",
       "      <td>https://www.indeed.com/rc/clk?jk=58612836c63b8...</td>\n",
       "      <td>Job Details\\nApply\\nSave\\nPrint this job\\nEmai...</td>\n",
       "      <td>10</td>\n",
       "      <td>[-0.021908748894929886, -0.002960818586871028,...</td>\n",
       "      <td>4</td>\n",
       "    </tr>\n",
       "    <tr>\n",
       "      <th>3</th>\n",
       "      <td>3</td>\n",
       "      <td>Data Engineer</td>\n",
       "      <td>Longevity Holdings Inc.</td>\n",
       "      <td>Remote in Minneapolis-Saint Paul, MN</td>\n",
       "      <td>NaN</td>\n",
       "      <td>PostedPosted 3 days ago</td>\n",
       "      <td>$90,000 - $110,000 a year</td>\n",
       "      <td>Incorporate core data management competencies ...</td>\n",
       "      <td>https://www.indeed.com/company/TwentyFirst/job...</td>\n",
       "      <td>Position: Data Engineer\\nLocation: MN\\nAs a Da...</td>\n",
       "      <td>29</td>\n",
       "      <td>[-0.017482835799455643, -0.01076465379446745, ...</td>\n",
       "      <td>7</td>\n",
       "    </tr>\n",
       "    <tr>\n",
       "      <th>4</th>\n",
       "      <td>4</td>\n",
       "      <td>Network Administrator/dba developer</td>\n",
       "      <td>WKI Kenworth</td>\n",
       "      <td>Wichita, KS 67219</td>\n",
       "      <td>NaN</td>\n",
       "      <td>EmployerActive 2 days ago</td>\n",
       "      <td>$50,000 - $70,000 a year</td>\n",
       "      <td>The Network Administrator provides 2nd level e...</td>\n",
       "      <td>https://www.indeed.com/pagead/clk?mo=r&amp;ad=-6NY...</td>\n",
       "      <td>Full Job Description\\nThe Network Administrato...</td>\n",
       "      <td>28</td>\n",
       "      <td>[0.0011398864444345236, -0.0008925285073928535...</td>\n",
       "      <td>0</td>\n",
       "    </tr>\n",
       "  </tbody>\n",
       "</table>\n",
       "</div>"
      ],
      "text/plain": [
       "   Unnamed: 0                                              Title  \\\n",
       "0           0                                     Data Scientist   \n",
       "1           1                                   Business Analyst   \n",
       "2           2  IT Business Intelligence Developer (FT) Remote...   \n",
       "3           3                                      Data Engineer   \n",
       "4           4                Network Administrator/dba developer   \n",
       "\n",
       "                   Company                              Location  Rating  \\\n",
       "0            Driven Brands                           Benicia, CA     2.4   \n",
       "1         Sabot Consulting                                Remote     NaN   \n",
       "2            Ballad Health             Remote in Blountville, TN     3.0   \n",
       "3  Longevity Holdings Inc.  Remote in Minneapolis-Saint Paul, MN     NaN   \n",
       "4             WKI Kenworth                     Wichita, KS 67219     NaN   \n",
       "\n",
       "                        Date                     Salary  \\\n",
       "0   PostedPosted 26 days ago                        NaN   \n",
       "1    PostedPosted 4 days ago         $80 - $120 an hour   \n",
       "2  PostedPosted 30+ days ago                        NaN   \n",
       "3    PostedPosted 3 days ago  $90,000 - $110,000 a year   \n",
       "4  EmployerActive 2 days ago   $50,000 - $70,000 a year   \n",
       "\n",
       "                                         Description  \\\n",
       "0  You’ll be working alongside a team of eight an...   \n",
       "1  Preferred candidates will have prior experienc...   \n",
       "2     Job Details Apply Save Print this job Email a…   \n",
       "3  Incorporate core data management competencies ...   \n",
       "4  The Network Administrator provides 2nd level e...   \n",
       "\n",
       "                                               Links  \\\n",
       "0  https://www.indeed.com/rc/clk?jk=74d176d595225...   \n",
       "1  https://www.indeed.com/rc/clk?jk=f662b2efb509b...   \n",
       "2  https://www.indeed.com/rc/clk?jk=58612836c63b8...   \n",
       "3  https://www.indeed.com/company/TwentyFirst/job...   \n",
       "4  https://www.indeed.com/pagead/clk?mo=r&ad=-6NY...   \n",
       "\n",
       "                                        Descriptions  token_count  \\\n",
       "0  We invite you to join us at Driven Brands!\\nHe...           26   \n",
       "1  Sabot Consulting (Sabot) is a management consu...           25   \n",
       "2  Job Details\\nApply\\nSave\\nPrint this job\\nEmai...           10   \n",
       "3  Position: Data Engineer\\nLocation: MN\\nAs a Da...           29   \n",
       "4  Full Job Description\\nThe Network Administrato...           28   \n",
       "\n",
       "                                           embedding  cluster  \n",
       "0  [-0.0194996390491724, -0.0041993726044893265, ...        2  \n",
       "1  [-0.012073525227606297, -0.026480479165911674,...        4  \n",
       "2  [-0.021908748894929886, -0.002960818586871028,...        4  \n",
       "3  [-0.017482835799455643, -0.01076465379446745, ...        7  \n",
       "4  [0.0011398864444345236, -0.0008925285073928535...        0  "
      ]
     },
     "execution_count": 12,
     "metadata": {},
     "output_type": "execute_result"
    }
   ],
   "source": [
    "from sklearn.cluster import KMeans\n",
    "\n",
    "n_clusters = 10\n",
    "kmeans = KMeans(n_clusters=n_clusters, init=\"k-means++\", random_state=42)\n",
    "kmeans.fit(df['embedding'].to_list())\n",
    "df = df.assign(cluster=kmeans.labels_)\n",
    "df.head()"
   ]
  },
  {
   "cell_type": "code",
   "execution_count": null,
   "metadata": {},
   "outputs": [
    {
     "data": {
      "text/plain": [
       "566"
      ]
     },
     "execution_count": 20,
     "metadata": {},
     "output_type": "execute_result"
    }
   ],
   "source": [
    "df.Title.nunique()"
   ]
  },
  {
   "cell_type": "code",
   "execution_count": null,
   "metadata": {},
   "outputs": [
    {
     "name": "stdout",
     "output_type": "stream",
     "text": [
      "(1200, 1536)\n"
     ]
    },
    {
     "data": {
      "image/png": "[encoded data removed]",
      "text/plain": [
       "<Figure size 640x480 with 1 Axes>"
      ]
     },
     "metadata": {},
     "output_type": "display_data"
    }
   ],
   "source": [
    "from sklearn.manifold import TSNE\n",
    "import matplotlib.pyplot as plt\n",
    "\n",
    "tsne = TSNE(\n",
    "    n_components=2, perplexity=15, random_state=42, init=\"random\", learning_rate=200\n",
    ")\n",
    "\n",
    "matrix = np.vstack(df.embedding.values)\n",
    "print(matrix.shape)\n",
    "vis_dims2 = tsne.fit_transform(matrix)\n",
    "\n",
    "x = [x for x, y in vis_dims2]\n",
    "y = [y for x, y in vis_dims2]\n",
    "\n",
    "for category, color in enumerate([\"purple\", \"green\", \"red\", \"blue\",\"yellow\", 'black', 'orange', 'brown', 'pink', 'grey']):\n",
    "    xs = np.array(x)[df.cluster == category]\n",
    "    ys = np.array(y)[df.cluster == category]\n",
    "    plt.scatter(xs, ys, color=color, alpha=0.3)\n",
    "\n",
    "    avg_x = xs.mean()\n",
    "    avg_y = ys.mean()\n",
    "\n",
    "    plt.scatter(avg_x, avg_y, marker=\"x\", color=color, s=100)"
   ]
  },
  {
   "cell_type": "code",
   "execution_count": null,
   "metadata": {},
   "outputs": [
    {
     "name": "stdout",
     "output_type": "stream",
     "text": [
      "Cluster 0 topics: Database Administration.\n",
      "Jobs from cluster 0: Database Administrator, Database Administrator (Direct Hire/Remote), Database Administrator - Oracle (100% Remote), Oracle Database Administrator, Database Administrator, Database Administrator, Database Administrator II, DATABASE ADMINISTRATOR- SQL SERVER- CLT/REMOTE, SQL Server Database Administrator II - (Remote from anywhere in CO), Database Administrator, DATABASE ADMINISTRATOR, Database Administrator, Database Administrator 2, Database Administrator - Open to 100% Remote, Junior SQL Server Database Administrator, Database Administrator, IT Database Administrator / Senior Administrator, Database Administrator, Database Specialist, SQL Server/Db2 Database Administrator, Jr. SQL Database Administrator, Database Administrator, Database Administrator 5, SQL Database Administrator, Database Administrator\n",
      "================\n",
      "Cluster 1 topics: Business Intelligence Tools.\n",
      "Jobs from cluster 1: Junior Developer – Business Intelligence (ETL), Business Intelligence Reporting/Analytics Developer, Director – Business Intelligence & Data Science, Business Intelligence Developer – Permanently Remote, Power BI Developer, Business Intelligence Analyst, Data Engineer, Business Intelligence Developer – Permanently Remote, Tableau/SQL Developer, Business Intelligence, Business Intelligence (MicroStrategy) Developer, Power BI Developer - Expert, BI Developer, Business Intelligence Developer - Orders, BI (Business Intelligence) Developer, Business Intelligence Developer, Business Intelligence ETL Developer, Epic Business Intelligence Developer (Remote Eligible), Business Intelligence Developer, Business Intelligence Developer, Tableau Developer, Senior Manager of Data Science and Business Analytics, Data Engineer, Senior Business Intelligence (BI) Developer, Director of Business Intelligence (Data Consumption), Business Intelligence Developer\n",
      "================\n",
      "Cluster 2 topics: Data Science/Analytics\n",
      "Jobs from cluster 2: Data Science Lead, Data Scientist, Health Science Officer - Research/Associate Director of Data Science, Data Scientist, Director, Data Science, Data Science Manager, Director of Risk Data Science, Data Scientist / Computational Medical Editing /Machine Learning, Lead Analytic Consultant - Data Visualization, Data and Technology Leader – IBM Watson Advertising, Data Scientist, Data Engineer, Business Intelligence Developer, Director Data Science (P1560), Data Scientist, Engineering Manager, Data Engineering, Data Engineer, Director Advanced Analytics - Data Science, Director, Data Engineering - Customer, Marketing, Digital & Service - GRM US, Data Engineer, Project Manager - Data Science / Data Analytics, Senior Data Scientist - Inference, Payments, Director, Data Engineering, Data Scientist, Senior Business Intelligence Developer\n",
      "================\n",
      "Cluster 3 topics: Machine Learning Engineering.\n",
      "Jobs from cluster 3: QA Engineer, Machine Learning Engineer, Lead Machine Learning Engineer, Sales Engineer, Machine Learning, Google Cloud, Data Scientist, Data Science Manager, Machine Learning Engineer Chicago, IL, Data Scientist, Machine Learning Engineer, Junior Machine Learning Engineer, Data Scientist, Head of Core Experience Machine Learning & Causal Inference Data Science, Senior Manager - Data Science, Entry Level NLP/Data Science Engineer - 333321, Software Engineer, Machine Learning Platform, Machine Learning Engineer, Director of Engineering, Machine Learning (Mailchimp), Software Engineer, Senior Data Engineer (Remote-Eligible), Machine Learning Engineer, Senior Applied Machine Learning Engineer, Full Stack Machine Learning Engineer, Machine Learning(ML) Engineer, Engineer - Machine Learning, Data Scientist\n",
      "================\n",
      "Cluster 4 topics: Teamwork and collaboration.\n",
      "Jobs from cluster 4: Business Intelligence (BI) Engineer/MicroStrategy Developer, Data Engineer, Business Analyst, Sr. Data Science Manager, Core Data Science - Build (Remote), IT Business Intelligence Developer (FT) Remote Position, Business Intelligence Developer, Business Analyst, Business Analyst, Nurse Data Miner, AI Python Developer - Entry level, Staff Data Scientist, Financial Crimes Technology, Trainee Data Scientist, Manager Climate and Data Science, Data Center Engineer, Data Scientist - Associate, Remote Training and Placement in Jr Business Analyst precision technologies, Business Analyst (698120), Business Analyst, Business Analyst, Business Analyst, Business Intelligence Developer (remote), Director of Data Science - Remote, Business Intelligence Analyst, Business Analyst, Business Analyst\n",
      "================\n",
      "Cluster 5 topics: Machine Learning Engineering\n",
      "Jobs from cluster 5: Machine Learning Engineer, Product Manager with (AI and ML), Applied Machine Learning Engineer, Machine Learning Engineer, Sr. Manager Data Science, Data Science Manager, Director of AI, Machine Learning, Data Science SaaS solutions, Product Manager with (AI and ML), Machine Learning Engineer, Machine Learning Engineer, Sr. Machine Learning Engineer, Data Engineer, Computer Vision and Machine Learning Engineer, Machine Learning Engineer, ML and Image Processing Engineer, Machine Learning Engineer, Data Scientist / Deep Learning Engineer, Machine Learning Engineer, Machine Learning Engineer, Data Scientist III, Machine Learning Engineer, Machine Learning Infra Engineer, Data Engineer, Director of Applied Machine Learning, Product Manager with (AI and ML)\n",
      "================\n",
      "Cluster 6 topics: Data Science/Analytics.\n",
      "Jobs from cluster 6: Data Analytics Manager, Director, Data Science, Advanced Analytics / AI CoE, Global Director of Analytics Services, AWS data engineer, Manager, People Data Science, Business Analyst, Director, Data Science – Retail Banking Strategy, Business Analyst - AI/ML Initiatives, Account Manager, Senior Data Consultant, Life Science - Remote, Data Science Manager, Sr. Business Analyst, Data Engineer, Tableau BI Developer, Jr. Business Analyst, Director of Data Science & Analytics, IT Data Engineering Director - Remote, Business Intelligence Developer, Business Data Analyst, Data Scientist, Data Science Director, Data Scientist, Director of Engineering, Data Science, Data Scientist/Data Analyst, Sr. Product Manager - Data Science and Machine Learning - Remote, Business Intelligence Developer\n",
      "================\n",
      "Cluster 7 topics: Data Analysis/Management.\n",
      "Jobs from cluster 7: Data Engineer, Duck Creek Software Engineer, Senior Business Intelligence Engineer, Software Engineer, Machine Learning Foundation, Sr. Manager Data Science & Analytics, Junior Business Intelligence Developer, Business and Marketing Data Science Manager, gTech, Machine Learning Engineer II, data engineering manager, Associate Director/Director of Statistical Programming, Data Scientist, Customer Analytics, Data Engineer- Remote EST Hours preferred, Azure Data Engineer, Data Engineer, Director of Data Science, Director of Data Engineering, Data Engineer, Senior Data Scientist, Data Science Manager, Data Scientist, Director of Data Science & Analytics (Virtual/Remote), Data Science Product Manager, Jr. Data Scientist, Data Engineer- Remote EST Hours preferred, Sr. Data Science Manager\n",
      "================\n",
      "Cluster 8 topics: Business Analysis/Processes\n",
      "Jobs from cluster 8: Business Intelligence Developer, Entry Level Business Analyst, Business Intelligence Developer - Remote AZ, Sr. Business Intelligence Developer, Business Analyst (100% Remote), Business Analyst, Technical Business Analyst, Business Intelligence Developer, Business Systems Analyst, Business Analyst, Business Intelligence Developer - Retail, Business Intelligence Developer, Business Analyst, Business Analyst, SAP-Business/Systems Analyst, Business Intelligence Developer, Manager Data Science, Business Analyst IV, Junior Business Analyst, Affiliate Business Analyst, Sr. Business Analyst, Lead Business Intelligence Developer, Business Analyst (PowerApps), Sr. Business Information Analyst - Remote, |RECENT GRADS| Business Intelligence Developer |ENTRY LEVEL|\n",
      "================\n",
      "Cluster 9 topics: Data Engineering/Analysis.\n",
      "Jobs from cluster 9: Data Engineer, Senior Product Manager - Data Foundations, Manager, Data Architecture Health Analytics, Application Database Administrator - DBA, Data Science (AI/ML), Sr. Data Engineer, Data Engineer, Data Engineer, Data Engineer - Remote, Data Engineer, Azure Data Engineer, Data Engineer with Alteryx, Data Engineer, Director Application Architecture, Oracle database administrator, Data Engineer, Data Engineer, Azure Data Engineer, Senior Product Manager - Analytics, AI, & Data, Data Test Engineer, Data Engineer, Database Analyst I, Jr. Database Administrator, Data engineer, ETL Data Engineer\n",
      "================\n"
     ]
    }
   ],
   "source": [
    "# take 10 samples from each cluster and write a prompt that asks what these have in common\n",
    "# ideally you would use more than 10, but this is just a demo\n",
    "for i in range(n_clusters):\n",
    "    reviews = df[df['cluster'] == i]['Description'].sample(10)\n",
    "    reviews = \"\\n\".join(reviews.values.tolist())\n",
    "    \n",
    "    prompt = f\"Here are 10 job descriptions:\\n{reviews}Write a 3 to 5 word topic reflecting what these have in common.\"\n",
    "    #print(prompt)\n",
    "    response = openai.Completion.create(model=\"text-davinci-003\", prompt=prompt, temperature=0.15, max_tokens=100, top_p=1, frequency_penalty=0, presence_penalty=0, stop=None)['choices'][0]['text'].strip()\n",
    "    print(f\"Cluster {i} topics: {response}\")\n",
    "    jobs = df[df['cluster'] == i]['Title'].sample(25)\n",
    "    print(f\"Jobs from cluster {i}: {', '.join(jobs.values.tolist())}\")\n",
    "    print(\"================\")"
   ]
  },
  {
   "cell_type": "code",
   "execution_count": null,
   "metadata": {},
   "outputs": [
    {
     "data": {
      "text/html": [
       "<div>\n",
       "<style scoped>\n",
       "    .dataframe tbody tr th:only-of-type {\n",
       "        vertical-align: middle;\n",
       "    }\n",
       "\n",
       "    .dataframe tbody tr th {\n",
       "        vertical-align: top;\n",
       "    }\n",
       "\n",
       "    .dataframe thead th {\n",
       "        text-align: right;\n",
       "    }\n",
       "</style>\n",
       "<table border=\"1\" class=\"dataframe\">\n",
       "  <thead>\n",
       "    <tr style=\"text-align: right;\">\n",
       "      <th></th>\n",
       "      <th>Title</th>\n",
       "      <th>similarity</th>\n",
       "      <th>Description</th>\n",
       "    </tr>\n",
       "  </thead>\n",
       "  <tbody>\n",
       "    <tr>\n",
       "      <th>763</th>\n",
       "      <td>Manager, Data Science &amp; Analytics, Central Ana...</td>\n",
       "      <td>0.915978</td>\n",
       "      <td>You will collaborate with data engineers, data...</td>\n",
       "    </tr>\n",
       "    <tr>\n",
       "      <th>1130</th>\n",
       "      <td>Manager, Data Science</td>\n",
       "      <td>0.908001</td>\n",
       "      <td>You will work to develop data science solution...</td>\n",
       "    </tr>\n",
       "    <tr>\n",
       "      <th>77</th>\n",
       "      <td>Data Scientist</td>\n",
       "      <td>0.902445</td>\n",
       "      <td>You will be a member of a multidisciplinary te...</td>\n",
       "    </tr>\n",
       "    <tr>\n",
       "      <th>1159</th>\n",
       "      <td>Data Scientist</td>\n",
       "      <td>0.902279</td>\n",
       "      <td>You will be a member of a multidisciplinary te...</td>\n",
       "    </tr>\n",
       "    <tr>\n",
       "      <th>236</th>\n",
       "      <td>Senior Software Development Engineer, Big Data</td>\n",
       "      <td>0.900152</td>\n",
       "      <td>Collaborate with engineers, product managers, ...</td>\n",
       "    </tr>\n",
       "    <tr>\n",
       "      <th>354</th>\n",
       "      <td>Data Scientist</td>\n",
       "      <td>0.897500</td>\n",
       "      <td>Work closely with analysts, traders, developer...</td>\n",
       "    </tr>\n",
       "    <tr>\n",
       "      <th>149</th>\n",
       "      <td>Data Scientist</td>\n",
       "      <td>0.895616</td>\n",
       "      <td>You'll work closely with other data scientists...</td>\n",
       "    </tr>\n",
       "    <tr>\n",
       "      <th>326</th>\n",
       "      <td>Data Science Lead</td>\n",
       "      <td>0.890732</td>\n",
       "      <td>As a Lead, you will be leading and growing a t...</td>\n",
       "    </tr>\n",
       "    <tr>\n",
       "      <th>398</th>\n",
       "      <td>Data Engineer</td>\n",
       "      <td>0.886443</td>\n",
       "      <td>Collaborate with data analysts/scientists and ...</td>\n",
       "    </tr>\n",
       "  </tbody>\n",
       "</table>\n",
       "</div>"
      ],
      "text/plain": [
       "                                                  Title  similarity  \\\n",
       "763   Manager, Data Science & Analytics, Central Ana...    0.915978   \n",
       "1130                              Manager, Data Science    0.908001   \n",
       "77                                       Data Scientist    0.902445   \n",
       "1159                                     Data Scientist    0.902279   \n",
       "236      Senior Software Development Engineer, Big Data    0.900152   \n",
       "354                                      Data Scientist    0.897500   \n",
       "149                                      Data Scientist    0.895616   \n",
       "326                                   Data Science Lead    0.890732   \n",
       "398                                       Data Engineer    0.886443   \n",
       "\n",
       "                                            Description  \n",
       "763   You will collaborate with data engineers, data...  \n",
       "1130  You will work to develop data science solution...  \n",
       "77    You will be a member of a multidisciplinary te...  \n",
       "1159  You will be a member of a multidisciplinary te...  \n",
       "236   Collaborate with engineers, product managers, ...  \n",
       "354   Work closely with analysts, traders, developer...  \n",
       "149   You'll work closely with other data scientists...  \n",
       "326   As a Lead, you will be leading and growing a t...  \n",
       "398   Collaborate with data analysts/scientists and ...  "
      ]
     },
     "execution_count": 19,
     "metadata": {},
     "output_type": "execute_result"
    }
   ],
   "source": [
    "ds_job = \"Data Scientist\"\n",
    "\n",
    "# get embedding for movie\n",
    "e = df[df['Title'] == ds_job]['embedding'].values[0]\n",
    "\n",
    "# get cosine similarity between movie and all other movies and sort ascending\n",
    "similarities = df['embedding'].apply(lambda x: cosine_similarity(x, e))\n",
    "\n",
    "# get most similar movies\n",
    "movies = df.assign(similarity=similarities).sort_values(by='similarity', ascending=False)[['Title', 'similarity', 'Description']]\n",
    "movies[1:10]"
   ]
  },
  {
   "cell_type": "code",
   "execution_count": null,
   "metadata": {},
   "outputs": [],
   "source": []
  },
  {
   "cell_type": "code",
   "execution_count": null,
   "metadata": {},
   "outputs": [],
   "source": [
    "from llama_index import SimpleDirectoryReader, ServiceContext, KnowledgeGraphIndex, StorageContext\n",
    "from llama_index.graph_stores import SimpleGraphStore\n",
    "from llama_index.llms import OpenAI\n",
    "from IPython.display import Markdown, display"
   ]
  },
  {
   "cell_type": "code",
   "execution_count": null,
   "metadata": {},
   "outputs": [],
   "source": [
    "from pathlib import Path\n",
    "\n",
    "documents = SimpleDirectoryReader(input_files=['./data/HO3_sample.pdf']).load_data()"
   ]
  },
  {
   "cell_type": "code",
   "execution_count": null,
   "metadata": {},
   "outputs": [],
   "source": [
    "llm=OpenAI(temperature=0, model_name=\"gpt-4\")\n",
    "service_context = ServiceContext.from_defaults(llm=llm, chunk_size_limit=512)\n",
    "\n",
    "graph_store = SimpleGraphStore()\n",
    "storage_context = StorageContext.from_defaults(graph_store=graph_store)"
   ]
  },
  {
   "cell_type": "code",
   "execution_count": null,
   "metadata": {},
   "outputs": [],
   "source": [
    "index = KnowledgeGraphIndex.from_documents(\n",
    "    documents,\n",
    "    max_triplets_per_chunk=10,\n",
    "    storage_context=storage_context,\n",
    "    service_context=service_context,\n",
    "    include_embeddings=True\n",
    ")\n",
    "\n",
    "index.set_index_id(\"ho3_kg_index\")\n",
    "index.storage_context.persist(persist_dir=\"./ho3_kg_index\")"
   ]
  },
  {
   "cell_type": "code",
   "execution_count": null,
   "metadata": {},
   "outputs": [],
   "source": [
    "index.storage_context.persist(persist_dir=\"./ho3_kgraph_index.json\")"
   ]
  },
  {
   "cell_type": "code",
   "execution_count": null,
   "metadata": {},
   "outputs": [],
   "source": [
    "query_engine = index.as_query_engine(\n",
    "    include_text=True,\n",
    "    response_mode=\"tree_summarize\",\n",
    "    embedding_mode=\"hybrid\",\n",
    "    similarity_top_k=5,\n",
    ")"
   ]
  },
  {
   "cell_type": "code",
   "execution_count": null,
   "metadata": {},
   "outputs": [],
   "source": [
    "response = query_engine.query(\n",
    "    \"Tell me more about Personal Propery coverage\", \n",
    ")"
   ]
  },
  {
   "cell_type": "code",
   "execution_count": null,
   "metadata": {},
   "outputs": [
    {
     "data": {
      "text/markdown": [
       "\n",
       "Personal Property coverage under the HO3_sample.pdf policy provides coverage for personal property owned or used by an insured while it is anywhere in the world. This coverage applies to personal property owned by or rented to an insured, and includes property that has been removed from the premises. The policy covers the risk of direct physical loss, but excludes losses caused by certain perils such as aircraft, motor vehicles, and losses excluded under Section I - Exclusions. Losses are settled as actual cash value, which is the cost to replace the property with material of like kind and quality, less depreciation. The policy also has a special limit of liability for each category of personal property, such as $200 for money, bank notes, bullion, gold other than goldware, silver other than silverware, platinum other than platinumware, coins, medals, scrip, stored value cards and smart cards, and $1,500 for securities, accounts, deeds, evidences of debt, letters of credit, notes other than bank notes, manuscripts, personal records, passports, tickets and stamps."
      ],
      "text/plain": [
       "<IPython.core.display.Markdown object>"
      ]
     },
     "metadata": {},
     "output_type": "display_data"
    }
   ],
   "source": [
    "display(Markdown(f\"{response}\"))"
   ]
  },
  {
   "cell_type": "code",
   "execution_count": null,
   "metadata": {},
   "outputs": [],
   "source": [
    "from pyvis.network import Network\n",
    "\n",
    "g = kg_index.get_networkx_graph()\n",
    "net = Network(notebook=True, cdn_resources=\"in_line\", directed=True)\n",
    "net.from_nx(g)"
   ]
  },
  {
   "cell_type": "code",
   "execution_count": null,
   "metadata": {},
   "outputs": [],
   "source": [
    "net.write_html(\"ho3_kg.html\")"
   ]
  },
  {
   "cell_type": "code",
   "execution_count": null,
   "metadata": {},
   "outputs": [],
   "source": [
    "from llama_index import StorageContext, load_index_from_storage\n",
    "\n",
    "storage_context = StorageContext.from_defaults(persist_dir=\"./ho3_kg_index\")\n",
    "\n",
    "kg_index  = load_index_from_storage(storage_context)"
   ]
  },
  {
   "cell_type": "code",
   "execution_count": null,
   "metadata": {},
   "outputs": [],
   "source": [
    "import json\n",
    "import networkx as nx\n",
    "from community import community_louvain"
   ]
  },
  {
   "cell_type": "code",
   "execution_count": null,
   "metadata": {},
   "outputs": [],
   "source": [
    "# Create a NetworkX graph from the KG\n",
    "graph = nx.MultiDiGraph()\n",
    "rel_map = kg_index.index_struct.rel_map\n",
    "for node, edges in rel_map.items():\n",
    "    for edge in edges:\n",
    "        graph.add_edge(node, edge[0], label=edge[1])"
   ]
  },
  {
   "cell_type": "code",
   "execution_count": null,
   "metadata": {},
   "outputs": [],
   "source": [
    "# Split the graph into subgraphs using the Louvain method\n",
    "def split_graph_using_louvain(graph):\n",
    "    partition = community_louvain.best_partition(graph)\n",
    "    subgraphs = {}\n",
    "\n",
    "    for node, community in partition.items():\n",
    "        if community not in subgraphs:\n",
    "            subgraphs[community] = []\n",
    "        subgraphs[community].append(node)\n",
    "\n",
    "    subgraph_list = [graph.subgraph(nodes) for nodes in subgraphs.values()]\n",
    "    \n",
    "    return subgraph_list"
   ]
  },
  {
   "cell_type": "code",
   "execution_count": null,
   "metadata": {},
   "outputs": [],
   "source": [
    "graph_xd = graph.to_undirected()"
   ]
  },
  {
   "cell_type": "code",
   "execution_count": null,
   "metadata": {},
   "outputs": [],
   "source": [
    "subgraphs = split_graph_using_louvain(graph_xd)"
   ]
  },
  {
   "cell_type": "code",
   "execution_count": null,
   "metadata": {},
   "outputs": [],
   "source": [
    "# Get embeddings for each subgraph\n",
    "subgraph_embeddings = []\n",
    "for subgraph in subgraphs:\n",
    "    documents = [kg_index.docstore.docs[doc_id] for doc_id in subgraph.nodes]\n",
    "    subgraph_index = KnowledgeGraphIndex.from_documents(\n",
    "        documents,\n",
    "        max_triplets_per_chunk=2,\n",
    "        service_context=service_context,\n",
    "        include_embeddings=True\n",
    "    )\n",
    "    embedding = subgraph_index.get_embedding()\n",
    "    subgraph_embeddings.append(embedding)"
   ]
  },
  {
   "cell_type": "code",
   "execution_count": null,
   "metadata": {},
   "outputs": [],
   "source": [
    "G = nx.erdos_renyi_graph(100, 0.01)\n",
    "partion = community_louvain.best_partition(G)"
   ]
  },
  {
   "cell_type": "code",
   "execution_count": null,
   "metadata": {},
   "outputs": [],
   "source": [
    "import pandas as pd\n",
    "\n",
    "df = pd.DataFrame({'louvian_community_label': partion})"
   ]
  },
  {
   "cell_type": "code",
   "execution_count": null,
   "metadata": {},
   "outputs": [
    {
     "data": {
      "text/html": [
       "<div>\n",
       "<style scoped>\n",
       "    .dataframe tbody tr th:only-of-type {\n",
       "        vertical-align: middle;\n",
       "    }\n",
       "\n",
       "    .dataframe tbody tr th {\n",
       "        vertical-align: top;\n",
       "    }\n",
       "\n",
       "    .dataframe thead th {\n",
       "        text-align: right;\n",
       "    }\n",
       "</style>\n",
       "<table border=\"1\" class=\"dataframe\">\n",
       "  <thead>\n",
       "    <tr style=\"text-align: right;\">\n",
       "      <th></th>\n",
       "      <th>louvian_community_label</th>\n",
       "    </tr>\n",
       "  </thead>\n",
       "  <tbody>\n",
       "    <tr>\n",
       "      <th>0</th>\n",
       "      <td>0</td>\n",
       "    </tr>\n",
       "    <tr>\n",
       "      <th>1</th>\n",
       "      <td>1</td>\n",
       "    </tr>\n",
       "    <tr>\n",
       "      <th>2</th>\n",
       "      <td>2</td>\n",
       "    </tr>\n",
       "    <tr>\n",
       "      <th>3</th>\n",
       "      <td>3</td>\n",
       "    </tr>\n",
       "    <tr>\n",
       "      <th>4</th>\n",
       "      <td>11</td>\n",
       "    </tr>\n",
       "    <tr>\n",
       "      <th>...</th>\n",
       "      <td>...</td>\n",
       "    </tr>\n",
       "    <tr>\n",
       "      <th>95</th>\n",
       "      <td>43</td>\n",
       "    </tr>\n",
       "    <tr>\n",
       "      <th>96</th>\n",
       "      <td>30</td>\n",
       "    </tr>\n",
       "    <tr>\n",
       "      <th>97</th>\n",
       "      <td>43</td>\n",
       "    </tr>\n",
       "    <tr>\n",
       "      <th>98</th>\n",
       "      <td>22</td>\n",
       "    </tr>\n",
       "    <tr>\n",
       "      <th>99</th>\n",
       "      <td>3</td>\n",
       "    </tr>\n",
       "  </tbody>\n",
       "</table>\n",
       "<p>100 rows × 1 columns</p>\n",
       "</div>"
      ],
      "text/plain": [
       "    louvian_community_label\n",
       "0                         0\n",
       "1                         1\n",
       "2                         2\n",
       "3                         3\n",
       "4                        11\n",
       "..                      ...\n",
       "95                       43\n",
       "96                       30\n",
       "97                       43\n",
       "98                       22\n",
       "99                        3\n",
       "\n",
       "[100 rows x 1 columns]"
      ]
     },
     "execution_count": 11,
     "metadata": {},
     "output_type": "execute_result"
    }
   ],
   "source": [
    "df"
   ]
  },
  {
   "cell_type": "code",
   "execution_count": null,
   "metadata": {},
   "outputs": [],
   "source": [
    "graph = nx.MultiDiGraph()\n",
    "rel_map = kg_index.index_struct.rel_map\n",
    "for node, edges in rel_map.items():\n",
    "    for edge in edges:\n",
    "        graph.add_edge(node, edge[0], label=edge[1])"
   ]
  },
  {
   "cell_type": "code",
   "execution_count": null,
   "metadata": {},
   "outputs": [],
   "source": [
    "def split_graph_using_louvain(graph):\n",
    "    partition = community_louvain.best_partition(graph)\n",
    "    subgraphs = {}\n",
    "\n",
    "    for node, community in partition.items():\n",
    "        if community not in subgraphs:\n",
    "            subgraphs[community] = []\n",
    "        subgraphs[community].append(node)\n",
    "\n",
    "    subgraph_list = [graph.subgraph(nodes) for nodes in subgraphs.values()]\n",
    "    return subgraph_list"
   ]
  },
  {
   "cell_type": "code",
   "execution_count": null,
   "metadata": {},
   "outputs": [
    {
     "ename": "TypeError",
     "evalue": "Bad graph type, use only non directed graph",
     "output_type": "error",
     "traceback": [
      "\u001b[1;31m---------------------------------------------------------------------------\u001b[0m",
      "\u001b[1;31mTypeError\u001b[0m                                 Traceback (most recent call last)",
      "Cell \u001b[1;32mIn[96], line 1\u001b[0m\n\u001b[1;32m----> 1\u001b[0m subgraphs \u001b[39m=\u001b[39m split_graph_using_louvain(graph)\n",
      "Cell \u001b[1;32mIn[95], line 2\u001b[0m, in \u001b[0;36msplit_graph_using_louvain\u001b[1;34m(graph)\u001b[0m\n\u001b[0;32m      1\u001b[0m \u001b[39mdef\u001b[39;00m \u001b[39msplit_graph_using_louvain\u001b[39m(graph):\n\u001b[1;32m----> 2\u001b[0m     partition \u001b[39m=\u001b[39m community_louvain\u001b[39m.\u001b[39;49mbest_partition(graph)\n\u001b[0;32m      3\u001b[0m     subgraphs \u001b[39m=\u001b[39m {}\n\u001b[0;32m      5\u001b[0m     \u001b[39mfor\u001b[39;00m node, community \u001b[39min\u001b[39;00m partition\u001b[39m.\u001b[39mitems():\n",
      "File \u001b[1;32mc:\\Users\\pdoub\\Desktop\\python_projects\\junk-drawer\\.venv\\lib\\site-packages\\community\\community_louvain.py:249\u001b[0m, in \u001b[0;36mbest_partition\u001b[1;34m(graph, partition, weight, resolution, randomize, random_state)\u001b[0m\n\u001b[0;32m    163\u001b[0m \u001b[39mdef\u001b[39;00m \u001b[39mbest_partition\u001b[39m(graph,\n\u001b[0;32m    164\u001b[0m                    partition\u001b[39m=\u001b[39m\u001b[39mNone\u001b[39;00m,\n\u001b[0;32m    165\u001b[0m                    weight\u001b[39m=\u001b[39m\u001b[39m'\u001b[39m\u001b[39mweight\u001b[39m\u001b[39m'\u001b[39m,\n\u001b[0;32m    166\u001b[0m                    resolution\u001b[39m=\u001b[39m\u001b[39m1.\u001b[39m,\n\u001b[0;32m    167\u001b[0m                    randomize\u001b[39m=\u001b[39m\u001b[39mNone\u001b[39;00m,\n\u001b[0;32m    168\u001b[0m                    random_state\u001b[39m=\u001b[39m\u001b[39mNone\u001b[39;00m):\n\u001b[0;32m    169\u001b[0m \u001b[39m    \u001b[39m\u001b[39m\"\"\"Compute the partition of the graph nodes which maximises the modularity\u001b[39;00m\n\u001b[0;32m    170\u001b[0m \u001b[39m    (or try..) using the Louvain heuristices\u001b[39;00m\n\u001b[0;32m    171\u001b[0m \n\u001b[1;32m   (...)\u001b[0m\n\u001b[0;32m    247\u001b[0m \u001b[39m    >>> plt.show()\u001b[39;00m\n\u001b[0;32m    248\u001b[0m \u001b[39m    \"\"\"\u001b[39;00m\n\u001b[1;32m--> 249\u001b[0m     dendo \u001b[39m=\u001b[39m generate_dendrogram(graph,\n\u001b[0;32m    250\u001b[0m                                 partition,\n\u001b[0;32m    251\u001b[0m                                 weight,\n\u001b[0;32m    252\u001b[0m                                 resolution,\n\u001b[0;32m    253\u001b[0m                                 randomize,\n\u001b[0;32m    254\u001b[0m                                 random_state)\n\u001b[0;32m    255\u001b[0m     \u001b[39mreturn\u001b[39;00m partition_at_level(dendo, \u001b[39mlen\u001b[39m(dendo) \u001b[39m-\u001b[39m \u001b[39m1\u001b[39m)\n",
      "File \u001b[1;32mc:\\Users\\pdoub\\Desktop\\python_projects\\junk-drawer\\.venv\\lib\\site-packages\\community\\community_louvain.py:322\u001b[0m, in \u001b[0;36mgenerate_dendrogram\u001b[1;34m(graph, part_init, weight, resolution, randomize, random_state)\u001b[0m\n\u001b[0;32m    264\u001b[0m \u001b[39m\u001b[39m\u001b[39m\"\"\"Find communities in the graph and return the associated dendrogram\u001b[39;00m\n\u001b[0;32m    265\u001b[0m \n\u001b[0;32m    266\u001b[0m \u001b[39mA dendrogram is a tree and each level is a partition of the graph nodes.\u001b[39;00m\n\u001b[1;32m   (...)\u001b[0m\n\u001b[0;32m    319\u001b[0m \u001b[39m:type weight:\u001b[39;00m\n\u001b[0;32m    320\u001b[0m \u001b[39m\"\"\"\u001b[39;00m\n\u001b[0;32m    321\u001b[0m \u001b[39mif\u001b[39;00m graph\u001b[39m.\u001b[39mis_directed():\n\u001b[1;32m--> 322\u001b[0m     \u001b[39mraise\u001b[39;00m \u001b[39mTypeError\u001b[39;00m(\u001b[39m\"\u001b[39m\u001b[39mBad graph type, use only non directed graph\u001b[39m\u001b[39m\"\u001b[39m)\n\u001b[0;32m    324\u001b[0m \u001b[39m# Properly handle random state, eventually remove old `randomize` parameter\u001b[39;00m\n\u001b[0;32m    325\u001b[0m \u001b[39m# NOTE: when `randomize` is removed, delete code up to random_state = ...\u001b[39;00m\n\u001b[0;32m    326\u001b[0m \u001b[39mif\u001b[39;00m randomize \u001b[39mis\u001b[39;00m \u001b[39mnot\u001b[39;00m \u001b[39mNone\u001b[39;00m:\n",
      "\u001b[1;31mTypeError\u001b[0m: Bad graph type, use only non directed graph"
     ]
    }
   ],
   "source": [
    "subgraphs = split_graph_using_louvain(graph)"
   ]
  },
  {
   "cell_type": "code",
   "execution_count": null,
   "metadata": {},
   "outputs": [],
   "source": [
    "# Get embeddings for each subgraph\n",
    "subgraph_embeddings = []\n",
    "for subgraph in subgraphs:\n",
    "    documents = [kg_index.docstore.docs[doc_id] for doc_id in subgraph.nodes]\n",
    "    subgraph_index = KnowledgeGraphIndex.from_documents(\n",
    "        documents,\n",
    "        max_triplets_per_chunk=2,\n",
    "        service_context=service_context,\n",
    "        include_embeddings=True\n",
    "    )\n",
    "    embedding = subgraph_index.get_embedding()\n",
    "    subgraph_embeddings.append(embedding)"
   ]
  },
  {
   "cell_type": "code",
   "execution_count": null,
   "metadata": {},
   "outputs": [
    {
     "name": "stdout",
     "output_type": "stream",
     "text": [
      "Warning: When  cdn_resources is 'local' jupyter notebook has issues displaying graphics on chrome/safari. Use cdn_resources='in_line' or cdn_resources='remote' if you have issues viewing graphics in a notebook.\n"
     ]
    }
   ],
   "source": [
    "from pyvis.network import Network\n",
    "\n",
    "g = kg_index.get_networkx_graph()\n",
    "net = Network(\n",
    "    notebook=True,\n",
    "    directed=True,\n",
    "    cdn_resources='local',\n",
    ")\n",
    "net.from_nx(g)"
   ]
  },
  {
   "cell_type": "code",
   "execution_count": null,
   "metadata": {},
   "outputs": [],
   "source": [
    "net.repulsion(\n",
    "    node_distance=100,\n",
    "    central_gravity=0.2,\n",
    "    spring_length=200,\n",
    "    spring_strength=0.05,\n",
    "    damping=0.09,\n",
    ")"
   ]
  },
  {
   "cell_type": "code",
   "execution_count": null,
   "metadata": {},
   "outputs": [],
   "source": [
    "net.write_html(\"kg_ho3.html\")"
   ]
  },
  {
   "cell_type": "code",
   "execution_count": null,
   "metadata": {},
   "outputs": [],
   "source": [
    "net = Network(\n",
    "    cdn_resources='local',\n",
    "    directed = True,            # directed graph\n",
    "    bgcolor = \"#222222\",          # background color of graph \n",
    "    font_color = \"white\",      # use yellow for node labels\n",
    "    height = \"1000px\",          # height of chart\n",
    "    width = \"100%\",             # fill the entire width    \n",
    "    )\n",
    "\n",
    "net.repulsion(\n",
    "    node_distance=200,\n",
    "    central_gravity=0.2,\n",
    "    spring_length=250,\n",
    "    spring_strength=0.08,\n",
    "    damping=0.1,\n",
    ")\n",
    "net.toggle_physics(True)\n",
    "net.from_nx(g)\n",
    "net.write_html(\"kg_ho3_34.html\")"
   ]
  },
  {
   "cell_type": "code",
   "execution_count": null,
   "metadata": {},
   "outputs": [],
   "source": []
  },
  {
   "cell_type": "code",
   "execution_count": null,
   "metadata": {},
   "outputs": [],
   "source": []
  },
  {
   "cell_type": "code",
   "execution_count": null,
   "metadata": {},
   "outputs": [],
   "source": [
    "from llama_index.prompts.base import Prompt\n",
    "from llama_index.prompts.prompt_type import PromptType\n",
    "\n",
    "\n",
    "KG_TRIPLET_EXTRACT_TMPL = (\n",
    "    \"Some text is provided below. Given the text, extract up to \"\n",
    "    \"{max_knowledge_triplets} \"\n",
    "    \"knowledge triplets in the form of (subject, predicate, object). Avoid stopwords.\\n\"\n",
    "    \"---------------------\\n\"\n",
    "    \"Example:\"\n",
    "    \"Text: Alice is Bob's mother.\"\n",
    "    \"Triplets:\\n(Alice, is mother of, Bob)\\n\"\n",
    "    \"Text: Philz is a coffee shop founded in Berkeley in 1982.\\n\"\n",
    "    \"Triplets:\\n\"\n",
    "    \"(Philz, is, coffee shop)\\n\"\n",
    "    \"(Philz, founded in, Berkeley)\\n\"\n",
    "    \"(Philz, founded in, 1982)\\n\"\n",
    "    \"---------------------\\n\"\n",
    "    \"Text: {text}\\n\"\n",
    "    \"Triplets:\\n\"\n",
    ")\n",
    "KG_TRIPLET_EXTRACT_PROMPT = Prompt(\n",
    "    KG_TRIPLET_EXTRACT_TMPL, prompt_type=PromptType.KNOWLEDGE_TRIPLET_EXTRACT\n",
    ")"
   ]
  },
  {
   "cell_type": "code",
   "execution_count": null,
   "metadata": {},
   "outputs": [],
   "source": [
    "from llama_index import (\n",
    "    KnowledgeGraphIndex,\n",
    "    ServiceContext,\n",
    "    SimpleDirectoryReader,\n",
    ")\n",
    "from llama_index.storage.storage_context import StorageContext\n",
    "from llama_index.graph_stores import NebulaGraphStore"
   ]
  },
  {
   "cell_type": "code",
   "execution_count": null,
   "metadata": {},
   "outputs": [],
   "source": [
    "documents = SimpleDirectoryReader(input_files=[\"./data/HO3_sample.pdf\"]).load_data()\n",
    "\n",
    "graph_store = SimpleGraphStore()\n",
    "storage_context = StorageContext.from_defaults(graph_store=graph_store)\n",
    "\n",
    "kg_index = KnowledgeGraphIndex.from_documents(\n",
    "    documents,\n",
    "    max_triplets_per_chunk=10,\n",
    "    storage_context=storage_context,\n",
    "    service_context=service_context,\n",
    "    llm=llm,\n",
    "    include_embeddings=True,\n",
    "    kg_triple_extract_template=KG_TRIPLET_EXTRACT_PROMPT,\n",
    "    show_progress=True)\n",
    "\n",
    "kg_index.set_index_id(str(\"kg_index_storage\"))\n",
    "kg_index.storage_context.persist(persist_dir=\"./kg_index_storage\")"
   ]
  },
  {
   "cell_type": "code",
   "execution_count": null,
   "metadata": {},
   "outputs": [],
   "source": [
    "from llama_index.storage.storage_context import StorageContext\n",
    "from llama_index.graph_stores import SimpleGraphStore\n",
    "\n",
    "kg_query_engine = kg_index.as_query_engine(\n",
    "    storage_context=storage_context,\n",
    "    service_context=service_context,\n",
    "    llm=llm,\n",
    "    verbose=True,\n",
    ")"
   ]
  },
  {
   "cell_type": "code",
   "execution_count": null,
   "metadata": {},
   "outputs": [],
   "source": [
    "kg_rag_query_engine = kg_index.as_query_engine(\n",
    "    include_text=False,\n",
    "    retriever_mode=\"keyword\",\n",
    "    response_mode=\"tree_summarize\",\n",
    ")"
   ]
  },
  {
   "cell_type": "code",
   "execution_count": null,
   "metadata": {},
   "outputs": [
    {
     "name": "stdout",
     "output_type": "stream",
     "text": [
      "INFO:llama_index.indices.loading:Loading all indices.\n"
     ]
    }
   ],
   "source": [
    "storage_context_vector = StorageContext.from_defaults(persist_dir='./ho3_metadatas_index')\n",
    "vector_index = load_index_from_storage(\n",
    "    service_context=service_context,\n",
    "    storage_context=storage_context_vector\n",
    ")"
   ]
  },
  {
   "cell_type": "code",
   "execution_count": null,
   "metadata": {},
   "outputs": [],
   "source": [
    "vector_rag_query_engine = vector_index.as_query_engine()"
   ]
  },
  {
   "cell_type": "code",
   "execution_count": null,
   "metadata": {},
   "outputs": [],
   "source": [
    "# import QueryBundle\n",
    "from llama_index import QueryBundle\n",
    "\n",
    "# import NodeWithScore\n",
    "from llama_index.schema import NodeWithScore\n",
    "\n",
    "# Retrievers\n",
    "from llama_index.retrievers import BaseRetriever, VectorIndexRetriever, KGTableRetriever\n",
    "\n",
    "from typing import List\n",
    "\n",
    "\n",
    "class CustomRetriever(BaseRetriever):\n",
    "    \"\"\"Custom retriever that performs both Vector search and Knowledge Graph search\"\"\"\n",
    "\n",
    "    def __init__(\n",
    "        self,\n",
    "        vector_retriever: VectorIndexRetriever,\n",
    "        kg_retriever: KGTableRetriever,\n",
    "        mode: str = \"OR\",\n",
    "    ) -> None:\n",
    "        \"\"\"Init params.\"\"\"\n",
    "\n",
    "        self._vector_retriever = vector_retriever\n",
    "        self._kg_retriever = kg_retriever\n",
    "        if mode not in (\"AND\", \"OR\"):\n",
    "            raise ValueError(\"Invalid mode.\")\n",
    "        self._mode = mode\n",
    "\n",
    "    def _retrieve(self, query_bundle: QueryBundle) -> List[NodeWithScore]:\n",
    "        \"\"\"Retrieve nodes given query.\"\"\"\n",
    "\n",
    "        vector_nodes = self._vector_retriever.retrieve(query_bundle)\n",
    "        kg_nodes = self._kg_retriever.retrieve(query_bundle)\n",
    "\n",
    "        vector_ids = {n.node.node_id for n in vector_nodes}\n",
    "        kg_ids = {n.node.node_id for n in kg_nodes}\n",
    "\n",
    "        combined_dict = {n.node.node_id: n for n in vector_nodes}\n",
    "        combined_dict.update({n.node.node_id: n for n in kg_nodes})\n",
    "\n",
    "        if self._mode == \"AND\":\n",
    "            retrieve_ids = vector_ids.intersection(kg_ids)\n",
    "        else:\n",
    "            retrieve_ids = vector_ids.union(kg_ids)\n",
    "\n",
    "        retrieve_nodes = [combined_dict[rid] for rid in retrieve_ids]\n",
    "        return retrieve_nodes"
   ]
  },
  {
   "cell_type": "code",
   "execution_count": null,
   "metadata": {},
   "outputs": [],
   "source": [
    "from llama_index import get_response_synthesizer\n",
    "from llama_index.query_engine import RetrieverQueryEngine\n",
    "\n",
    "# create custom retriever\n",
    "vector_retriever = VectorIndexRetriever(index=vector_index)\n",
    "kg_retriever = KGTableRetriever(\n",
    "    index=kg_index, retriever_mode=\"keyword\", include_text=False\n",
    ")\n",
    "custom_retriever = CustomRetriever(vector_retriever, kg_retriever)\n",
    "\n",
    "# create response synthesizer\n",
    "response_synthesizer = get_response_synthesizer(\n",
    "    service_context=service_context,\n",
    "    response_mode=\"tree_summarize\",\n",
    ")"
   ]
  },
  {
   "cell_type": "code",
   "execution_count": null,
   "metadata": {},
   "outputs": [],
   "source": [
    "graph_vector_rag_query_engine = RetrieverQueryEngine(\n",
    "    retriever=custom_retriever,\n",
    "    response_synthesizer=response_synthesizer,\n",
    ")"
   ]
  },
  {
   "cell_type": "code",
   "execution_count": null,
   "metadata": {},
   "outputs": [
    {
     "name": "stdout",
     "output_type": "stream",
     "text": [
      "INFO:llama_index.indices.knowledge_graph.retriever:> Starting query: Privide a detailed explanation of Personal Propery coverage\n",
      "INFO:llama_index.indices.knowledge_graph.retriever:> Query keywords: ['Detailed', 'Property', 'Explanation', 'Personal', 'Coverage']\n",
      "INFO:llama_index.indices.knowledge_graph.retriever:> Querying with idx: e6c1125d-99a4-4be8-8c95-bd8290ed051b: of being operatedby other power sources.\n",
      "Accessories include antennas, tapes,...\n",
      "INFO:llama_index.indices.knowledge_graph.retriever:> Querying with idx: ac7c5745-d905-455a-bb36-55109d06ac03: Page 6 of 22 Copyright, Insurance Services Office, Inc., 1999 HO 00 03 10 00b...\n",
      "INFO:llama_index.indices.knowledge_graph.retriever:> Querying with idx: bc960b04-4074-49c6-ba25-a40af68928cc: building unless the roof or anoutside wall of the building is first damaged b...\n",
      "INFO:llama_index.indices.knowledge_graph.retriever:> Querying with idx: 002be22d-1ca5-4274-9ac4-e1ceb5e8357f: from apremises endangered by a Peril InsuredAgainst and for no more than 30 d...\n",
      "INFO:llama_index.indices.knowledge_graph.retriever:> Querying with idx: 87caa5c6-40cb-42fc-b2b9-98cb78a42a36: liability that ap-plies to Coverage A. Use of this coverage does\n",
      "not reduce t...\n",
      "INFO:llama_index.indices.knowledge_graph.retriever:> Querying with idx: 5aab279e-46aa-4903-9023-0728406c0a11: the same;\n",
      "8.Send to us, within 60 days after our request,your signed, sworn p...\n",
      "INFO:llama_index.indices.knowledge_graph.retriever:> Extracted relationships: The following are knowledge triplets in max depth 2 in the form of `subject [predicate, object, predicate_next_hop, object_next_hop ...]`\n",
      "Property ['rented or held for rental to others', 'off the \"residence premises\"']\n",
      "Property ['replaced with', 'material of like kind and quality']\n",
      "Property ['insurance required', '80% of replacement cost']\n",
      "Property ['replacement cost', 'immediately before loss']\n",
      "('Covered property', 'types of', 'personal property')\n",
      "Coverage ['additional insurance', 'no deductible']\n",
      "Property ['not covered', \"Landlord's Furnishings\"]\n",
      "Property ['value excluded', 'underground flues']\n",
      "Property ['in effect for', 'less than 60 days']\n",
      "('Personal Property', 'owned by', 'insured')\n",
      "Property ['not covered', 'motor vehicles']\n",
      "Property ['amount of insurance', 'policy']\n",
      "Property ['value excluded', 'excavations']\n",
      "Property ['cost of', 'original premises']\n",
      "Property ['rebuilt at', 'new premises']\n",
      "Property ['covers', 'replacement cost']\n",
      "Property ['value excluded', 'supports']\n",
      "Property ['not covered', 'hovercraft']\n",
      "Property ['contained in', 'building']\n",
      "Property ['not covered', 'apartment']\n",
      "Property ['replaced for', 'like use']\n",
      "Property ['not a renewal with', 'us']\n",
      "Property ['not covered', 'aircraft']\n",
      "Property ['not covered', 'boarders']\n",
      "Property ['applies to', 'building']\n",
      "Property ['not covered', 'tenants']\n",
      "Property ['not covered', 'roomers']\n",
      "Property ['not covered', 'rented']\n",
      "Property ['covered by', 'policy']\n",
      "Property ['not covered', 'held']\n"
     ]
    },
    {
     "data": {
      "text/markdown": [
       "\n",
       "Personal Property coverage provides coverage for personal property owned or used by an insured while it is anywhere in the world. After a loss and at the insured's request, the policy will cover personal property owned by others while the property is on the part of the residence premises occupied by an insured, or by a guest or a residence employee while the property is in any residence occupied by an insured. The policy also provides a special limit of liability for certain categories of personal property, such as money, bank notes, bullion, gold, silver, platinum, coins, medals, scrip, stored value cards, securities, accounts, deeds, evidences of debt, letters of credit, notes, manuscripts, personal records, passports, tickets, and stamps. This limit includes the cost to research, replace, or restore the information from the lost or damaged property. The policy also provides coverage for personal property moved from the residence premises due to repair, renovation, or rebuilding, and for personal property in a newly acquired principal residence for 30 days from the time the insured begins to move the property there."
      ],
      "text/plain": [
       "<IPython.core.display.Markdown object>"
      ]
     },
     "execution_count": 75,
     "metadata": {},
     "output_type": "execute_result"
    }
   ],
   "source": [
    "response_kg = kg_query_engine.query(\"Privide a detailed explanation of Personal Propery coverage\")\n",
    "\n",
    "Markdown(f\"{response_kg}\")"
   ]
  },
  {
   "cell_type": "code",
   "execution_count": null,
   "metadata": {},
   "outputs": [
    {
     "name": "stdout",
     "output_type": "stream",
     "text": [
      "INFO:llama_index.indices.knowledge_graph.retriever:> Starting query: Privide a detailed explanation of Personal Propery coverage\n",
      "INFO:llama_index.indices.knowledge_graph.retriever:> Query keywords: ['Detailed', 'Property', 'Explanation', 'Personal', 'Coverage']\n",
      "INFO:llama_index.indices.knowledge_graph.retriever:> Extracted relationships: The following are knowledge triplets in max depth 2 in the form of `subject [predicate, object, predicate_next_hop, object_next_hop ...]`\n",
      "Property ['not covered', 'motor vehicles']\n",
      "Property ['not covered', 'aircraft']\n",
      "Property ['not covered', 'hovercraft']\n",
      "Property ['not covered', 'roomers']\n",
      "Property ['not covered', 'boarders']\n",
      "Property ['not covered', 'tenants']\n",
      "Property ['not covered', 'apartment']\n",
      "Property ['not covered', \"Landlord's Furnishings\"]\n",
      "Property ['not covered', 'rented']\n",
      "Property ['not covered', 'held']\n",
      "Property ['rented or held for rental to others', 'off the \"residence premises\"']\n",
      "Property ['covered by', 'policy']\n",
      "Property ['covers', 'replacement cost']\n",
      "Property ['applies to', 'building']\n",
      "Property ['in effect for', 'less than 60 days']\n",
      "Property ['not a renewal with', 'us']\n",
      "Property ['contained in', 'building']\n",
      "Property ['replaced with', 'material of like kind and quality']\n",
      "Property ['replaced for', 'like use']\n",
      "Property ['rebuilt at', 'new premises']\n",
      "Property ['cost of', 'original premises']\n",
      "Property ['amount of insurance', 'policy']\n",
      "Property ['replacement cost', 'immediately before loss']\n",
      "Property ['insurance required', '80% of replacement cost']\n",
      "Property ['value excluded', 'excavations']\n",
      "Property ['value excluded', 'supports']\n",
      "Property ['value excluded', 'underground flues']\n",
      "Coverage ['additional insurance', 'no deductible']\n"
     ]
    },
    {
     "data": {
      "text/markdown": [
       "\n",
       "Personal Property coverage is a type of insurance that covers the loss or damage of personal belongings due to certain events, such as theft, fire, or natural disasters. This type of coverage typically applies to items that are not covered by other insurance policies, such as motor vehicles, aircraft, hovercraft, roomers, boarders, tenants, apartment, landlord's furnishings, rented or held for rental to others, and off the \"residence premises\".\n",
       "\n",
       "Personal Property coverage typically covers the replacement cost of the items, up to the amount of insurance stated in the policy. The replacement cost is the cost of replacing the item with material of like kind and quality, for the same use, immediately before the loss. The insurance amount must be at least 80% of the replacement cost. The coverage may also include additional insurance with no deductible.\n",
       "\n",
       "However, there are certain items that are excluded from Personal Property coverage, such as excavations, supports, and underground flues. Additionally, the coverage may not be in effect for less than 60 days, or if it is a renewal with the insurance company."
      ],
      "text/plain": [
       "<IPython.core.display.Markdown object>"
      ]
     },
     "execution_count": 76,
     "metadata": {},
     "output_type": "execute_result"
    }
   ],
   "source": [
    "response_kg_rag = kg_rag_query_engine.query(\"Privide a detailed explanation of Personal Propery coverage\")\n",
    "\n",
    "Markdown(f\"{response_kg_rag}\")"
   ]
  },
  {
   "cell_type": "code",
   "execution_count": null,
   "metadata": {},
   "outputs": [
    {
     "data": {
      "text/markdown": [
       "\n",
       "Personal Property coverage is a type of coverage provided by a Homeowner's Insurance policy. It covers personal property owned or used by an insured while it is anywhere in the world. This includes items such as money, securities, watercraft, trailers, jewelry, watches, furs, precious and semiprecious stones, firearms, and related equipment. The limit of liability for personal property located at an insured's residence other than the residence premises is 10% of the limit of liability for Coverage C, or $1,000, whichever is greater. There are also special limits of liability for certain categories of property, such as money, securities, watercraft, trailers, jewelry, watches, furs, precious and semiprecious stones, firearms, and related equipment. These special limits do not increase the Coverage C limit of liability."
      ],
      "text/plain": [
       "<IPython.core.display.Markdown object>"
      ]
     },
     "execution_count": 77,
     "metadata": {},
     "output_type": "execute_result"
    }
   ],
   "source": [
    "response_vector_rag = vector_rag_query_engine.query(\"Privide a detailed explanation of Personal Propery coverage\")\n",
    "\n",
    "Markdown(f\"{response_vector_rag}\")"
   ]
  },
  {
   "cell_type": "code",
   "execution_count": null,
   "metadata": {},
   "outputs": [
    {
     "name": "stdout",
     "output_type": "stream",
     "text": [
      "INFO:llama_index.indices.knowledge_graph.retriever:> Starting query: Privide a detailed explanation of Personal Propery coverage\n",
      "INFO:llama_index.indices.knowledge_graph.retriever:> Query keywords: ['Detailed', 'Property', 'Explanation', 'Personal', 'Coverage']\n",
      "INFO:llama_index.indices.knowledge_graph.retriever:> Extracted relationships: The following are knowledge triplets in max depth 2 in the form of `subject [predicate, object, predicate_next_hop, object_next_hop ...]`\n",
      "Property ['not covered', 'motor vehicles']\n",
      "Property ['not covered', 'aircraft']\n",
      "Property ['not covered', 'hovercraft']\n",
      "Property ['not covered', 'roomers']\n",
      "Property ['not covered', 'boarders']\n",
      "Property ['not covered', 'tenants']\n",
      "Property ['not covered', 'apartment']\n",
      "Property ['not covered', \"Landlord's Furnishings\"]\n",
      "Property ['not covered', 'rented']\n",
      "Property ['not covered', 'held']\n",
      "Property ['rented or held for rental to others', 'off the \"residence premises\"']\n",
      "Property ['covered by', 'policy']\n",
      "Property ['covers', 'replacement cost']\n",
      "Property ['applies to', 'building']\n",
      "Property ['in effect for', 'less than 60 days']\n",
      "Property ['not a renewal with', 'us']\n",
      "Property ['contained in', 'building']\n",
      "Property ['replaced with', 'material of like kind and quality']\n",
      "Property ['replaced for', 'like use']\n",
      "Property ['rebuilt at', 'new premises']\n",
      "Property ['cost of', 'original premises']\n",
      "Property ['amount of insurance', 'policy']\n",
      "Property ['replacement cost', 'immediately before loss']\n",
      "Property ['insurance required', '80% of replacement cost']\n",
      "Property ['value excluded', 'excavations']\n",
      "Property ['value excluded', 'supports']\n",
      "Property ['value excluded', 'underground flues']\n",
      "Coverage ['additional insurance', 'no deductible']\n"
     ]
    },
    {
     "data": {
      "text/markdown": [
       "\n",
       "Personal Property coverage under a Homeowner's Insurance policy covers personal property owned or used by an insured while it is anywhere in the world. This includes personal property owned by others while it is on the part of the residence premises occupied by an insured, or by a guest or a residence employee while the property is in any residence occupied by an insured. The limit of liability for personal property located at an insured's residence other than the residence premises is 10% of the limit of liability for Coverage C, or $1,000, whichever is greater.\n",
       "\n",
       "The policy also outlines special limits of liability for certain categories of property, such as money, securities, watercraft, trailers, jewelry, watches, furs, precious and semiprecious stones, firearms, and related equipment. These special limits do not increase the Coverage C limit of liability.\n",
       "\n",
       "The policy also states that the deductible provision applies to all losses. This means that the insured is responsible for paying the deductible amount before the insurance company will cover the remaining costs of the loss."
      ],
      "text/plain": [
       "<IPython.core.display.Markdown object>"
      ]
     },
     "execution_count": 74,
     "metadata": {},
     "output_type": "execute_result"
    }
   ],
   "source": [
    "response_graph_vector_rag = graph_vector_rag_query_engine.query(\n",
    "    \"Privide a detailed explanation of Personal Propery coverage\", \n",
    ")\n",
    "Markdown(f\"{response_graph_vector_rag}\")"
   ]
  },
  {
   "cell_type": "code",
   "execution_count": null,
   "metadata": {},
   "outputs": [],
   "source": [
    "response"
   ]
  }
 ],
 "metadata": {
  "kernelspec": {
   "display_name": ".venv",
   "language": "python",
   "name": "python3"
  },
  "language_info": {
   "codemirror_mode": {
    "name": "ipython",
    "version": 3
   },
   "file_extension": ".py",
   "mimetype": "text/x-python",
   "name": "python",
   "nbconvert_exporter": "python",
   "pygments_lexer": "ipython3",
   "version": "3.10.1"
  },
  "orig_nbformat": 4
 },
 "nbformat": 4,
 "nbformat_minor": 2
}
