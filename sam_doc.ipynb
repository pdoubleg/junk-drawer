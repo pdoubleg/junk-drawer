{
 "cells": [
  {
   "cell_type": "code",
   "execution_count": 115,
   "metadata": {},
   "outputs": [],
   "source": [
    "from llama_index import SimpleDirectoryReader, ServiceContext, KnowledgeGraphIndex, StorageContext\n",
    "from llama_index.graph_stores import SimpleGraphStore\n",
    "from llama_index.llms import OpenAI\n",
    "from IPython.display import Markdown, display\n",
    "from llama_index import load_graph_from_storage, load_index_from_storage"
   ]
  },
  {
   "cell_type": "code",
   "execution_count": 2,
   "metadata": {},
   "outputs": [],
   "source": [
    "from pathlib import Path\n",
    "\n",
    "documents = SimpleDirectoryReader(input_files=['./data/Dissertation_12_2_2022.pdf']).load_data()"
   ]
  },
  {
   "cell_type": "code",
   "execution_count": 4,
   "metadata": {},
   "outputs": [
    {
     "data": {
      "text/plain": [
       "286"
      ]
     },
     "execution_count": 4,
     "metadata": {},
     "output_type": "execute_result"
    }
   ],
   "source": [
    "len(documents)"
   ]
  },
  {
   "cell_type": "code",
   "execution_count": 20,
   "metadata": {},
   "outputs": [],
   "source": [
    "docs_main = documents[25:261]"
   ]
  },
  {
   "cell_type": "code",
   "execution_count": 22,
   "metadata": {},
   "outputs": [
    {
     "data": {
      "text/plain": [
       "236"
      ]
     },
     "execution_count": 22,
     "metadata": {},
     "output_type": "execute_result"
    }
   ],
   "source": [
    "len(docs_main)"
   ]
  },
  {
   "cell_type": "code",
   "execution_count": 23,
   "metadata": {},
   "outputs": [],
   "source": [
    "llm=OpenAI(temperature=0, model_name=\"text-davinci-002\")\n",
    "service_context = ServiceContext.from_defaults(llm=llm, chunk_size_limit=512)\n",
    "\n",
    "graph_store = SimpleGraphStore()\n",
    "storage_context = StorageContext.from_defaults(graph_store=graph_store)"
   ]
  },
  {
   "cell_type": "code",
   "execution_count": 24,
   "metadata": {},
   "outputs": [],
   "source": [
    "index = KnowledgeGraphIndex.from_documents(\n",
    "    docs_main,\n",
    "    max_triplets_per_chunk=3,\n",
    "    storage_context=storage_context,\n",
    "    service_context=service_context,\n",
    "    include_embeddings=True\n",
    ")\n",
    "\n",
    "index.set_index_id(\"dissertation_knowledge_graph\")\n",
    "index.storage_context.persist(persist_dir=\"./dissertation_knowledge_graph_index.json\")"
   ]
  },
  {
   "cell_type": "code",
   "execution_count": 26,
   "metadata": {},
   "outputs": [],
   "source": [
    "query_engine = index.as_query_engine(\n",
    "    include_text=True,\n",
    "    response_mode=\"tree_summarize\",\n",
    "    embedding_mode=\"hybrid\",\n",
    "    similarity_top_k=5,\n",
    ")"
   ]
  },
  {
   "cell_type": "code",
   "execution_count": 119,
   "metadata": {},
   "outputs": [],
   "source": [
    "llm=OpenAI(temperature=0, model_name=\"gpt-4\")\n",
    "service_context = ServiceContext.from_defaults(llm=llm)\n",
    "\n",
    "graph_store = SimpleGraphStore()\n",
    "\n",
    "storage_context = StorageContext.from_defaults(\n",
    "    graph_store=graph_store,\n",
    "    persist_dir=\"./dissertation_knowledge_graph_index_.json\")\n",
    "\n",
    "graph = load_index_from_storage(\n",
    "    storage_context=storage_context, \n",
    "    service_context=service_context,\n",
    "    index_id=\"dissertation_knowledge_graph_\")"
   ]
  },
  {
   "cell_type": "code",
   "execution_count": 120,
   "metadata": {},
   "outputs": [],
   "source": [
    "query_engine = graph.as_query_engine(\n",
    "    include_text=True,\n",
    "    response_mode=\"tree_summarize\",\n",
    "    embedding_mode=\"hybrid\",\n",
    "    similarity_top_k=5,\n",
    ")"
   ]
  },
  {
   "cell_type": "code",
   "execution_count": 121,
   "metadata": {},
   "outputs": [],
   "source": [
    "response = query_engine.query(\n",
    "    \"Tell me more about the optimal lineups problem in basketball\", \n",
    ")"
   ]
  },
  {
   "cell_type": "code",
   "execution_count": 122,
   "metadata": {},
   "outputs": [
    {
     "data": {
      "text/markdown": [
       "\n",
       "The optimal lineups problem in basketball is a decision problem that coaches face when selecting a lineup of players for a given matchup. The action space for each team is finite, and typically consists of all possible combinations of 5 players. The goal of the coach is to select the lineup that will give the team the best chance of success. This could be based on the players' individual performance, how well they play together, or how they match up against the opposing team's lineup. To solve the problem, coaches must consider factors such as player performance, injuries, and the lineups of the opposing team. Game-theoretic and ARA (Adaptive Response Analysis) methods can be used to solve the optimal lineup decision. In game theory, the Bayesian logistic regression model is assumed to be common knowledge within the game. In ARA, the decision makers must assign parameters to the corresponding positional Dirichlet distributions. The optimal lineup decision involves computing the expected utilities for each of the possible lineup decision pairs."
      ],
      "text/plain": [
       "<IPython.core.display.Markdown object>"
      ]
     },
     "metadata": {},
     "output_type": "display_data"
    }
   ],
   "source": [
    "display(Markdown(f\"{response}\"))"
   ]
  },
  {
   "cell_type": "code",
   "execution_count": 123,
   "metadata": {},
   "outputs": [],
   "source": [
    "response = query_engine.query(\n",
    "    \"Explain the author's solution to the optimal lineups problem in basketball\", \n",
    ")"
   ]
  },
  {
   "cell_type": "code",
   "execution_count": 124,
   "metadata": {},
   "outputs": [
    {
     "data": {
      "text/markdown": [
       "\n",
       "The author's solution to the optimal lineups problem in basketball is to use a two-level approach. At the first level, Coach H models Coach A as a level-0 thinker, assuming that Coach A is selecting lineups according to some distribution. Coach H then builds a predictive model for scoring probabilities to learn about how both her own and opposing players' individual performances have thus far contributed to Team H's offensive possession success. At the second level, Coach H models Coach A as a level-1 thinker, assuming that Coach A is trying to maximize his expected negative score differential less his risks. Coach H then uses verification to find the level-1 Coach A's optimal control and then solves her own optimal control problem. Finally, Coach H uses a Bayesian logistic regression model to simulate the non-scoring probabilities for each lineup pair and finds the proportion of the optimal decision samples such that a\u0003;j=a for each a2A. This allows Coach H to determine the lineup decisions and the corresponding probabilities, and ultimately determine the optimal lineup for Cleveland."
      ],
      "text/plain": [
       "<IPython.core.display.Markdown object>"
      ]
     },
     "metadata": {},
     "output_type": "display_data"
    }
   ],
   "source": [
    "display(Markdown(f\"{response}\"))"
   ]
  },
  {
   "cell_type": "code",
   "execution_count": 125,
   "metadata": {},
   "outputs": [],
   "source": [
    "response = query_engine.query(\n",
    "    \"Compare and contrast the author's solution to the 'optimal lineups problem in basketball' with those mentioned in references to existing literature\", \n",
    ")"
   ]
  },
  {
   "cell_type": "code",
   "execution_count": 126,
   "metadata": {},
   "outputs": [
    {
     "data": {
      "text/markdown": [
       "\n",
       "The author's solution to the 'optimal lineups problem in basketball' is more comprehensive than those mentioned in existing literature. It combines game theory and Bayesian inference to model the decision-making process of the coaches, as well as the effects of the players' performance on the outcome of the game. This is not possible with the Bayesian network approach proposed by Kvam and Solli-Sæther (2015). Additionally, the author's solution incorporates a predictive model for scoring probabilities to learn about how both her own and opposing players' individual performances have thus far contributed to Team H's offensive possession success. This is not mentioned in the existing literature. The author's solution is also similar to the one proposed by Kostka et al. (2020), where they use a multi-level approach to model the optimal lineup selection problem in basketball. However, the author's solution is more comprehensive, as it takes into account the level-2 Coach H's uncertainty regarding the level-1 Coach A's optimal control."
      ],
      "text/plain": [
       "<IPython.core.display.Markdown object>"
      ]
     },
     "metadata": {},
     "output_type": "display_data"
    }
   ],
   "source": [
    "display(Markdown(f\"{response}\"))"
   ]
  },
  {
   "cell_type": "code",
   "execution_count": 127,
   "metadata": {},
   "outputs": [],
   "source": [
    "response = query_engine.query(\n",
    "    \"Explain the section on the 'optimal lineups problem in basketball' like I'm 10 years old.\", \n",
    ")"
   ]
  },
  {
   "cell_type": "code",
   "execution_count": 128,
   "metadata": {},
   "outputs": [
    {
     "data": {
      "text/markdown": [
       "\n",
       "In basketball, teams have to decide which five players to put on the court at any given time. This is called the optimal lineup problem. It's like a puzzle - teams have to figure out which five players will work best together to help them win the game. \n",
       "\n",
       "For example, if Team H is losing to Team A by one point, they might call a timeout to decide which five players to put on the court. Team H has to choose from a list of 10 players, so there are 252 possible 5-player lineups to choose from. \n",
       "\n",
       "The outcome of the game depends on which players are chosen. If Team H picks the right players, they have a better chance of scoring and winning the game. So, it's important to pick the right players to give Team H the best chance of winning. \n",
       "\n",
       "Researchers have studied this decision problem in many different sports and using different optimization methods. They have developed new ways to help teams pick the best players for their lineup. This way, teams can make the best decision for their team and give them the best chance of winning."
      ],
      "text/plain": [
       "<IPython.core.display.Markdown object>"
      ]
     },
     "metadata": {},
     "output_type": "display_data"
    }
   ],
   "source": [
    "display(Markdown(f\"{response}\"))"
   ]
  },
  {
   "cell_type": "code",
   "execution_count": 129,
   "metadata": {},
   "outputs": [],
   "source": [
    "response = query_engine.query(\n",
    "    \"Explain the section on 'optimal lineups problem in basketball' in the style of Jerry Seinfeld.\", \n",
    ")"
   ]
  },
  {
   "cell_type": "code",
   "execution_count": 130,
   "metadata": {},
   "outputs": [
    {
     "data": {
      "text/markdown": [
       "\n",
       "Have you ever been to a basketball game and wondered why the coach makes certain lineup decisions? Well, it's like this: the coach has to figure out which five players to put on the court to maximize their chances of winning. It's like a puzzle, and they use a combination of game theory, Bayesian logistic regression, and ARA models to solve it. It's like a math equation, and the coach has to figure out the right answer. It's like a game of chess, and the coach has to make the right moves to win. It's a lot of work, but it's worth it in the end. After all, the right lineup can mean the difference between winning and losing!"
      ],
      "text/plain": [
       "<IPython.core.display.Markdown object>"
      ]
     },
     "metadata": {},
     "output_type": "display_data"
    }
   ],
   "source": [
    "display(Markdown(f\"{response}\"))"
   ]
  },
  {
   "cell_type": "code",
   "execution_count": 131,
   "metadata": {},
   "outputs": [],
   "source": [
    "response = query_engine.query(\n",
    "    \"Provide a detailed technical explanation of the 'optimal lineups problem in basketball' as if you were speaking with Thomas Bayes himself.\", \n",
    ")"
   ]
  },
  {
   "cell_type": "code",
   "execution_count": 132,
   "metadata": {},
   "outputs": [
    {
     "data": {
      "text/markdown": [
       "\n",
       "The optimal lineups problem in basketball is a complex decision-making problem that requires a multi-level approach to solve. At the highest level, the goal is to determine the optimal lineup of players for a given team in order to maximize their chances of winning. This requires understanding the strengths and weaknesses of each player, as well as the dynamics of the game itself.\n",
       "\n",
       "At the lowest level, the problem can be modeled as a stochastic control problem. This involves modeling the expected score differential of the team as a function of the lineup chosen, as well as the intensity of play. The optimal lineup is then determined by maximizing the expected score differential while minimizing the risk associated with the lineup.\n",
       "\n",
       "At the intermediate level, the problem can be modeled as a repeated game. This involves modeling the opposing team's lineup decision distribution, as well as the scoring probabilities of each player. This allows the team to learn about how their own and opposing players' individual performances have contributed to their team's offensive possession success.\n",
       "\n",
       "Finally, at the highest level, the problem can be modeled as an ARA (Adaptive Risk-Aware) problem. This involves modeling the opposing team's level-0 stochastic control problem from the team's level-1 perspective. This allows the team to learn about the opposing team's decision-making process and optimize their own lineup accordingly.\n",
       "\n",
       "To solve the optimal lineups problem, we can use a variety of techniques, such as Bayesian updating, game theory, and Monte Carlo simulations. Bayesian updating involves using prior information to update the probabilities of each player's selection. Game theory involves using game-theoretic methods to model private or incomplete information through the use of types of utilities and outcome probabilities. Monte Carlo simulations involve running simulations to determine the best possible lineup for a given situation.\n",
       "\n",
       "In addition, we can use a variety of models to help us make decisions. For example, we can use a Multinomial-Dirichlet model to compute the posterior player selection probabilities for each team. We can also use a Bayesian logistic regression model to compute the posterior predictive distributions for each possible lineup matchup. Finally, we can use a stochastic process to model the level-0 coach's optimal control.\n",
       "\n",
       "Overall, the optimal lineups problem in basketball is a complex decision-making problem that requires a variety of techniques and models to solve. By using these techniques and models, we can make more informed decisions and maximize our chances of winning."
      ],
      "text/plain": [
       "<IPython.core.display.Markdown object>"
      ]
     },
     "metadata": {},
     "output_type": "display_data"
    }
   ],
   "source": [
    "display(Markdown(f\"{response}\"))"
   ]
  },
  {
   "cell_type": "code",
   "execution_count": 133,
   "metadata": {},
   "outputs": [],
   "source": [
    "response = query_engine.query(\n",
    "    \"Provide a critical analysis on the 'optimal lineups problem in basketball'. List flaws, limitations, and errors with the proposed approach.\", \n",
    ")"
   ]
  },
  {
   "cell_type": "code",
   "execution_count": 134,
   "metadata": {},
   "outputs": [
    {
     "data": {
      "text/markdown": [
       "\n",
       "The proposed approach to the optimal lineups problem in basketball has several flaws, limitations, and errors. Firstly, the approach assumes that the positions of the players are fixed and rigid, which eliminates the need to consider lineups in which players assigned to the same position can be in the same lineup. This assumption does not account for injuries, as it assumes that the coach simply does not want to play the injured player. \n",
       "\n",
       "Second, the approach assumes that the Bayesian logistic regression model is common knowledge within the game theory framework. This assumption does not make sense in reality, as research and development and analytics groups within NBA teams keep their modeling practices secret in an attempt to maintain competitive advantages. \n",
       "\n",
       "Third, the approach assumes that the data points used to update the priors are coming from the current game, which has a small sample size. This can lead to the posteriors not being helpful in discerning the best players to select. \n",
       "\n",
       "Fourth, the approach assumes that no fouls will be called, which is not always the case in a real game. \n",
       "\n",
       "Fifth, the approach assumes that the action spaces for both teams are finite, which is not always the case. In some cases, teams may have more than 10 players, which would increase the number of possible lineups. \n",
       "\n",
       "Sixth, the approach assumes that the level-0 Coach A's control is monotonic and independent of the score differential, which is not always the case. In some cases, the level-0 Coach A's control may be dependent on the score differential, which could drastically change the outcome of the game. \n",
       "\n",
       "Seventh, the approach does not account for the impact of hustle plays, which can have a significant impact on the outcome of the game. \n",
       "\n",
       "Overall, the proposed approach to the optimal lineups problem in basketball has several flaws, limitations, and errors that should be addressed in order to make it more accurate and reliable."
      ],
      "text/plain": [
       "<IPython.core.display.Markdown object>"
      ]
     },
     "metadata": {},
     "output_type": "display_data"
    }
   ],
   "source": [
    "display(Markdown(f\"{response}\"))"
   ]
  },
  {
   "cell_type": "code",
   "execution_count": 135,
   "metadata": {},
   "outputs": [],
   "source": [
    "response = query_engine.query(\n",
    "    \"Provide a detailed summary of the 'Penalty Kicks' section.\", \n",
    ")"
   ]
  },
  {
   "cell_type": "code",
   "execution_count": 136,
   "metadata": {},
   "outputs": [
    {
     "data": {
      "text/markdown": [
       "\n",
       "The Penalty Kicks section of the dissertation discusses the various models and assumptions used to analyze penalty kicks in soccer. Chiappori et al. (2002) were the first to study the penalty kick problem from the zero-sum three-strategy perspective, making assumptions on the scoring probabilities to guarantee a unique MSNE. Palacios-Huerta (2003) tested the equalized scoring probabilities assumption of the MSNE on an individual level, while Coloma (2007) ran systems of linear probability regression models for decision and scoring probabilities. Dohmen and Sonnabend (2018) and Baumann et al. (2011) ran similar analyses to Chiappori et al. (2002) and Palacios-Huerta (2003). \n",
       "\n",
       "To facilitate the two-strategy models, some kind of league-wide or league-average values may need to be used more often. For estimating outcome probabilities, teams might build probabilistic models. To obtain an overall comparison of ARA and game theory models for aggregated data, the MSNE decision probabilities and the aggregated ARA decision probabilities are compared to the empirical decision probabilities for 2019 penalty kicks. \n",
       "\n",
       "In addition, the median number of kicks for each kicker is 2, and when computing estimates for level-1 goalies modeling their kicker opponent as an expected utility maximizer (EUM), league-wide probabilities are used until the date of the penalty kick and multiplied by 2 to obtain a value for number of goals for a particular decision pair (k;g)."
      ],
      "text/plain": [
       "<IPython.core.display.Markdown object>"
      ]
     },
     "metadata": {},
     "output_type": "display_data"
    }
   ],
   "source": [
    "display(Markdown(f\"{response}\"))"
   ]
  },
  {
   "cell_type": "code",
   "execution_count": 137,
   "metadata": {},
   "outputs": [],
   "source": [
    "response = query_engine.query(\n",
    "    \"Provide a critical comedy roast style review of the 'Penalty Kicks' section as Jerry Seinfeld.\", \n",
    ")"
   ]
  },
  {
   "cell_type": "code",
   "execution_count": 138,
   "metadata": {},
   "outputs": [
    {
     "data": {
      "text/markdown": [
       "\n",
       "I'm not sure what's more impressive: the fact that penalty kicks have a median number of kicks of 2, or that teams have to build probabilistic models to estimate outcome probabilities. Talk about overcomplicating things! It's like they're trying to make a game of soccer into a game of calculus."
      ],
      "text/plain": [
       "<IPython.core.display.Markdown object>"
      ]
     },
     "metadata": {},
     "output_type": "display_data"
    }
   ],
   "source": [
    "display(Markdown(f\"{response}\"))"
   ]
  },
  {
   "cell_type": "code",
   "execution_count": 139,
   "metadata": {},
   "outputs": [],
   "source": [
    "response = query_engine.query(\n",
    "    \"Provide a detailed summary of the 'Summary and Extensions' section. Use the style of a fired-up Kobe Bryant giving a half-time speach.\", \n",
    ")"
   ]
  },
  {
   "cell_type": "code",
   "execution_count": 140,
   "metadata": {},
   "outputs": [
    {
     "data": {
      "text/markdown": [
       "\n",
       "Alright team, let's get fired up! We've been talking about the 'Summary and Extensions' section and it's time to get fired up! We've discussed the importance of Walker and Wooders' contributions to professional sports, and how Cleveland scored field goals with two or three-point baskets. We've also discussed how Coach H needs to incorporate play-by-play data to make decisions in the context of basketball games. And finally, we know that NBA teams have five best players. \n",
       "\n",
       "Now, let's get into the 'Summary and Extensions' section. We've discussed the game-theoretic approach and the ARA approach, and how they both result in the same optimal control functions for Coach H. We've also discussed how the ARA approach accounts for uncertainty by allowing Coach H to place distributions over the parameters. We've also discussed how the optimal control functions are constant with respect to both time and the state. \n",
       "\n",
       "We've seen that the optimal lineup for Cleveland remains the same in both models. This could be because the chosen lineup of Cleveland players played substantially better than the rest up until that point in the game, or because we used the same Bayesian logistic regression model that was considered to be Cleveland's private information in ARA but common knowledge in the game theory solution. \n",
       "\n",
       "We've also seen that the level-1 Coach A's decision problem from the level-2 Coach H's perspective can be summarized as maximizing the expected negative score differential, less the risks. We've also seen that the level-2 Coach H can use verfication to find the level-1 Coach A's optimal control. \n",
       "\n",
       "Finally, we've discussed the various methods for describing different types of uncertainty, such as the non-strategic or level-0 player, the level-1 player, and the Nash-equilibrium-seeking player. \n",
       "\n",
       "So, let's get out there and show them what we can do! Let's use the ARA approach to account for uncertainty and make the best decisions possible! Let's go out there and win this game!"
      ],
      "text/plain": [
       "<IPython.core.display.Markdown object>"
      ]
     },
     "metadata": {},
     "output_type": "display_data"
    }
   ],
   "source": [
    "display(Markdown(f\"{response}\"))"
   ]
  }
 ],
 "metadata": {
  "kernelspec": {
   "display_name": ".venv",
   "language": "python",
   "name": "python3"
  },
  "language_info": {
   "codemirror_mode": {
    "name": "ipython",
    "version": 3
   },
   "file_extension": ".py",
   "mimetype": "text/x-python",
   "name": "python",
   "nbconvert_exporter": "python",
   "pygments_lexer": "ipython3",
   "version": "3.10.1"
  },
  "orig_nbformat": 4
 },
 "nbformat": 4,
 "nbformat_minor": 2
}
