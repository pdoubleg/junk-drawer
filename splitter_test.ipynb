{
 "cells": [
  {
   "cell_type": "markdown",
   "metadata": {},
   "source": [
    "# Custom Text Splitter with Metadata Extraction"
   ]
  },
  {
   "cell_type": "code",
   "execution_count": 1,
   "metadata": {},
   "outputs": [],
   "source": [
    "from X_application_directory.src.snag_tokens import Usage"
   ]
  },
  {
   "cell_type": "code",
   "execution_count": 2,
   "metadata": {},
   "outputs": [],
   "source": [
    "import re\n",
    "\n",
    "# Pre-compile regex patterns\n",
    "PAGE_NUM_PATTERN = re.compile(r\"Page \\d+ of \\d+\")\n",
    "HYPHEN_WORD_PATTERN = re.compile(r\"(\\w+)-(\\w+)\")\n",
    "PERIOD_COLON_PATTERN = re.compile(r\"([.:])([^ \\n])\")\n",
    "CLOSE_PAREN_PATTERN = re.compile(r\"(\\))(?=[^\\s])\")\n",
    "OPEN_PAREN_PATTERN = re.compile(r\"(?<=[^\\s])(\\()\")\n",
    "WHITESPACE_PATTERN = re.compile(r\"[ \\t]+\")\n",
    "\n",
    "\n",
    "def remove_page_numbers(text):\n",
    "    return re.sub(r\"Page \\d+ of \\d+\", \"\", text)\n",
    "\n",
    "\n",
    "def remove_multiple_newlines(page_md):\n",
    "    page_md = re.sub(r\"\\n\\s*\\n\", \"\\n\\n\", page_md)\n",
    "    return page_md\n",
    "\n",
    "\n",
    "def fix_page(text):\n",
    "    \"\"\"\n",
    "    Fixes common text problems in the given text.\n",
    "\n",
    "    Args:\n",
    "        text (str): The text to fix.\n",
    "\n",
    "    Returns:\n",
    "        str: The fixed text.\n",
    "    \"\"\"\n",
    "    watermarks = [\n",
    "        \"SAMPLE\",\n",
    "        \"HO 00 03 10 00 Copyright, Insurance Services Office, Inc., 1999\",\n",
    "        \"HOMEOWNERS 3 – SPECIAL FORM\",\n",
    "        \"HOMEOWNERS\",\n",
    "        \"HO 00 03 10 00\",\n",
    "        \"Copyright, Insurance Services Office, Inc., 1999\",\n",
    "    ]\n",
    "\n",
    "    for watermark in watermarks:\n",
    "        text = text.replace(watermark, \"\")\n",
    "\n",
    "    text = remove_page_numbers(text)\n",
    "\n",
    "    text = re.sub(HYPHEN_WORD_PATTERN, r\"\\1\\2\", text)\n",
    "    text = re.sub(PERIOD_COLON_PATTERN, r\"\\1 \\2\", text)\n",
    "    text = re.sub(CLOSE_PAREN_PATTERN, r\"\\1 \", text)\n",
    "    text = re.sub(OPEN_PAREN_PATTERN, r\" \\1\", text)\n",
    "    text = re.sub(WHITESPACE_PATTERN, \" \", text).strip()\n",
    "\n",
    "    return text"
   ]
  },
  {
   "cell_type": "code",
   "execution_count": 3,
   "metadata": {},
   "outputs": [],
   "source": [
    "from llama_index import SimpleDirectoryReader\n",
    "\n",
    "documents_ho3 = SimpleDirectoryReader(input_files=['./data//HO3_sample.pdf']).load_data()"
   ]
  },
  {
   "cell_type": "code",
   "execution_count": 4,
   "metadata": {},
   "outputs": [
    {
     "data": {
      "text/plain": [
       "22"
      ]
     },
     "execution_count": 4,
     "metadata": {},
     "output_type": "execute_result"
    }
   ],
   "source": [
    "len(documents_ho3)"
   ]
  },
  {
   "cell_type": "code",
   "execution_count": 5,
   "metadata": {},
   "outputs": [
    {
     "name": "stdout",
     "output_type": "stream",
     "text": [
      "HOMEOWNERS\n",
      "HO 00 03 10 00\n",
      "HO 00 03 10 00 Copyright, Insurance Services Office, Inc., 1999 Page 1 of 22HOMEOWNERS 3 – SPECIAL FORM\n",
      "AGREEMENT\n",
      "We will provide the insurance described in this policy\n",
      "in return for the premium and compliance with allapplicable provisions of this policy.\n",
      "DEFINITIONS\n",
      "A.In this policy, \"you\" and \"your\" refer to the \"named\n",
      "insured\" shown in the Declarations and the spouseif a resident of the same household. \"We\", \"us\"and \"our\" refer to the Company providing this in-surance.\n",
      "B.In addition, certain words and phrases are definedas follows:\n",
      "1.\"Aircraft Liability\", \"Hovercraft Liability\", \"Motor\n",
      "Vehicle Liability\" and \"Watercraft Liability\",subject to the provisions in b. below, mean the\n",
      "following:\n",
      "a.Liability for \"bodily injury\" or \"property dam-age\" arising out of the:\n",
      "(1)Ownership of such vehicle or craft by an\"insured\";\n",
      "(2)Maintenance, occupancy, operation,use, loading or unloading of such vehi-cle or craft by any person;\n",
      "(3)Entrustment of such vehicle or craft byan \"insured\" to any person;\n",
      "(4)Failure to supervise or negligent super-vision of any person involving such ve-hicle or craft by an \"insured\"; or\n",
      "(5)Vicarious liability, whether or not im-posed by law, for the actions of a childor minor involving such vehicle or craft.\n",
      "b.For the purpose of this definition:\n",
      "(1)Aircraft means any contrivance used ordesigned for flight except model orhobby aircraft not used or designed tocarry people or cargo;\n",
      "(2)Hovercraft means a self-propelled mo-torized ground effect vehicle and in-cludes, but is not limited to, flarecraftand air cushion vehicles;\n",
      "(3)Watercraft means a craft principallydesigned to be propelled on or in waterby wind, engine power or electric motor;and\n",
      "(4)Motor vehicle means a \"motor vehicle\"as defined in 7. below.2.\"Bodily injury\" means bodily harm, sickness ordisease, including required care, loss of serv-ices and death that results.\n",
      "3.\"Business\" means:\n",
      "a.A trade, profession or occupation engagedin on a full-time, part-time or occasional ba-sis; or\n",
      "b.Any other activity engaged in for money orother compensation, except the following:\n",
      "(1)One or more activities, not described in(2) through (4) below, for which no \"in-\n",
      "sured\" receives more than $2,000 intotal compensation for the 12 monthsbefore the beginning of the policy pe-riod;\n",
      "(2)Volunteer activities for which no moneyis received other than payment for ex-penses incurred to perform the activity;\n",
      "(3)Providing home day care services forwhich no compensation is received,other than the mutual exchange of suchservices; or\n",
      "(4)The rendering of home day care serv-ices to a relative of an \"insured\".\n",
      "4.\"Employee\" means an employee of an \"in-sured\", or an employee leased to an \"insured\"by a labor leasing firm under an agreementbetween an \"insured\" and the labor leasingfirm, whose duties are other than those per-formed by a \"residence employee\".\n",
      "5.\"Insured\" means:\n",
      "a.You and residents of your household whoare:\n",
      "(1)Your relatives; or\n",
      "(2)Other persons under the age of 21 andin the care of any person named above;\n",
      "b.A student enrolled in school full time, asdefined by the school, who was a residentof your household before moving out to at-tend school, provided the student is underthe age of:\n",
      "(1)24 and your relative; or\n",
      "(2)21 and in your care or the care of aperson described in a.(1) above; or\n",
      " \n",
      " \n",
      " \n",
      " \n",
      " \n",
      " \n",
      "SAMPLE \n"
     ]
    }
   ],
   "source": [
    "print(documents_ho3[0].text)"
   ]
  },
  {
   "cell_type": "code",
   "execution_count": 6,
   "metadata": {},
   "outputs": [],
   "source": [
    "# Apply cleaning function to each page\n",
    "for i, _ in enumerate(documents_ho3):\n",
    "    documents_ho3[i].text = fix_page(documents_ho3[i].text)"
   ]
  },
  {
   "cell_type": "markdown",
   "metadata": {},
   "source": [
    "## Transform text so that:\n",
    "* Chunks ignore page breaks, but respect sentence boundry\n",
    "* We limit wasted space while normalizing chunk size (except for the last one)"
   ]
  },
  {
   "cell_type": "code",
   "execution_count": 7,
   "metadata": {},
   "outputs": [
    {
     "name": "stdout",
     "output_type": "stream",
     "text": [
      "AGREEMENT\n",
      "We will provide the insurance described in this policy\n",
      "in return for the premium and compliance with allapplicable provisions of this policy.\n",
      "DEFINITIONS\n",
      "A. In this policy, \"you\" and \"your\" refer to the \"named\n",
      "insured\" shown in the Declarations and the spouseif a resident of the same household. \"We\", \"us\"and \"our\" refer to the Company providing this insurance.\n",
      "B. In addition, certain words and phrases are definedas follows:\n",
      "1. \"Aircraft Liability\", \"Hovercraft Liability\", \"Motor\n",
      "Vehicle Liability\" and \"Watercraft Liability\",subject to the provisions in b. below, mean the\n",
      "following:\n",
      "a. Liability for \"bodily injury\" or \"property damage\" arising out of the:\n",
      "(1) Ownership of such vehicle or craft by an\"insured\";\n",
      "(2) Maintenance, occupancy, operation,use, loading or unloading of such vehicle or craft by any person;\n",
      "(3) Entrustment of such vehicle or craft byan \"insured\" to any person;\n",
      "(4) Failure to supervise or negligent supervision of any person involving such vehicle or craft by an \"insured\"; or\n",
      "(5) Vicarious liability, whether or not imposed by law, for the actions of a childor minor involving such vehicle or craft.\n",
      "b. For the purpose of this definition:\n",
      "(1) Aircraft means any contrivance used ordesigned for flight except model orhobby aircraft not used or designed tocarry people or cargo;\n",
      "(2) Hovercraft means a selfpropelled motorized ground effect vehicle and includes, but is not limited to, flarecraftand air cushion vehicles;\n",
      "(3) Watercraft means a craft principallydesigned to be propelled on or in waterby wind, engine power or electric motor;and\n",
      "(4) Motor vehicle means a \"motor vehicle\"as defined in 7. below. 2. \"Bodily injury\" means bodily harm, sickness ordisease, including required care, loss of services and death that results.\n",
      "3. \"Business\" means:\n",
      "a. A trade, profession or occupation engagedin on a fulltime, parttime or occasional basis; or\n",
      "b. Any other activity engaged in for money orother compensation, except the following:\n",
      "(1) One or more activit\n"
     ]
    }
   ],
   "source": [
    "# Transform the pdf into a singe string\n",
    "\n",
    "long_string = \"\".join(documents_ho3[i].text for i in range(len(documents_ho3)))\n",
    "print(long_string[:2000])"
   ]
  },
  {
   "cell_type": "markdown",
   "metadata": {},
   "source": [
    "### Create top level document"
   ]
  },
  {
   "cell_type": "code",
   "execution_count": 8,
   "metadata": {},
   "outputs": [],
   "source": [
    "from llama_index.schema import Document\n",
    "\n",
    "ho3_document = [Document(text=long_string,\n",
    "                        id_=\"HO3_sample.pdf\",\n",
    "                        metadata={\"Document Name\": \"HO3 Sample Policy\", \n",
    "                                  \"Category\": \"Homeowner's Insurance\"})]"
   ]
  },
  {
   "cell_type": "code",
   "execution_count": 9,
   "metadata": {},
   "outputs": [
    {
     "name": "stdout",
     "output_type": "stream",
     "text": [
      "AGREEMENT\n",
      "We will provide the insurance described in this policy\n",
      "in return for the premium and compliance with allapplicable provisions of this policy.\n",
      "DEFINITIONS\n",
      "A. In this policy, \"you\" and \"your\" refer to the \"named\n",
      "insured\" shown in the Declarations and the spouseif a resident of the same household. \"We\", \"us\"and \"our\" refer to the Company providing this insurance.\n",
      "B. In addition, certain words and phrases are definedas follows:\n",
      "1. \"Aircraft Liability\", \"Hovercraft Liability\", \"Motor\n",
      "Vehicle Liability\" and \"Watercraft Liability\",subject to the provisions in b. below, mean the\n",
      "following:\n",
      "a. Liability for \"bodily injury\" or \"property damage\" arising out of the:\n",
      "(1) Ownership of such vehicle or craft by an\"insured\";\n",
      "(2) Maintenance, occupancy, operation,use, loading or unloading of such vehicle or craft by any person;\n",
      "(3) Entrustment of such vehicle or craft byan \"insured\" to any person;\n",
      "(4) Failure to supervise or negligent supervision of any person involving such vehicle or craft by an \"insured\"; or\n",
      "(5) Vicarious liability, whether or not imposed by law, for the actions of a childor minor involving such vehicle or craft.\n",
      "b. For the purpose of this definition:\n",
      "(1) Aircraft means any contrivance used ordesigned for flight except model orhobby aircraft not used or designed tocarry people or cargo;\n",
      "(2) Hovercraft means a selfpropelled motorized ground effect vehicle and includes, but is not limited to, flarecraftand air cushion vehicles;\n",
      "(3) Watercraft means a craft principallydesigned to be propelled on or in waterby wind, engine power or electric motor;and\n",
      "(4) Motor vehicle means a \"motor vehicle\"as defined in 7. below. 2. \"Bodily injury\" means bodily harm, sickness ordisease, including required care, loss of services and death that results.\n",
      "3. \"Business\" means:\n",
      "a. A trade, profession or occupation engagedin on a fulltime, parttime or occasional basis; or\n",
      "b. Any other activity engaged in for money orother compensation, except the following:\n",
      "(1) One or more activities, not described in (2) through (4) below, for which no \"in-\n",
      "sured\" receives more than $2,000 intotal compensation for the 12 monthsbefore the beginning of the policy period;\n",
      "(2) Volunteer activities for which no moneyis received other than payment for expenses incurred to perform the activity;\n",
      "(3) Providing home day care services forwhich no compensation is received,other than the mutual exchange of suchservices; or\n",
      "(4) The rendering of home day care services to a relative of an \"insured\".\n",
      "4. \"Employee\" means an employee of an \"insured\", or an employee leased to an \"insured\"by a labor leasing firm under an agreementbetween an \"insured\" and the labor leasingfirm, whose duties are other than those performed by a \"residence employee\".\n",
      "5. \"Insured\" means:\n",
      "a. You and residents of your household whoare:\n",
      "(1) Your relatives; or\n",
      "(2) Other persons under the age of 21 andin the care of any person named above;\n",
      "b. A student enrolled in school full time, asdefined by the school, who was a residentof your household before moving out to attend school, provided the student is underthe age of:\n",
      "(1) 24 and your relative; or\n",
      "(2) 21 and in your care or the care of aperson described in a. (1) above; orc. Under Section II:\n",
      "(1) With respect to animals or watercraft to\n",
      "which this policy applies, any person or\n",
      "organization legally responsible forthese animals or watercraft which areowned by you or any person included ina. or b. above. \"Insured\" does not mean\n",
      "a person or organization using or havingcustody of these animals or watercraft inthe course of any \"business\" or withoutconsent of the owner; or\n",
      "(2) With respect to a \"motor vehicle\" towhich this policy applies:\n",
      "(a) Persons while engaged in your employ or that of any person included ina. or b. above; or\n",
      "(b) Other persons using the vehicle onan \"insured location\" with your consent.\n",
      "Under both Sections I and II, when the word an\n",
      "immediately precedes the word \"insured\", thewords an \"insured\" together mean one or more\"insureds\".\n",
      "6. \"Insured location\" means:\n",
      "a. The \"residence premises\";\n",
      "b. The part of other premises, other structuresand grounds used by you as a residence;and\n",
      "(1) Which is shown in the Declarations; or\n",
      "(2) Which is acquired by you during thepolicy period for your use as a residence;\n",
      "c. Any premises used by you in connectionwith a premises described in a. and b.\n",
      "above;\n",
      "d. Any part of a premises:\n",
      "(1) Not owned by an \"insured\"; and\n",
      "(2) Where an \"insured\" is temporarily residing;\n",
      "e. Vacant land, other than farm land, ownedby or rented to an \"insured\";\n",
      "f. Land owned by or rented to an \"insured\" onwhich a one, two, three or four familydwelling is being built as a residence for an\"insured\";\n",
      "g. Individual or family cemetery plots or burialvaults of an \"insured\"; orh. Any part of a premises occasionally rentedto an \"insured\" for other than \"business\"use.\n",
      "7. \"Motor vehicle\" means:\n",
      "a. A selfpropelled land or amphibious vehicle;or\n",
      "b. Any trailer or semitrailer which is beingcarried on, towed by or hitched for towingby a vehicle described in a. above.\n",
      "8. \"Occurrence\" means an accident, includingcontinuous or repeated exposure to substantially the same general harmful conditions,which results, during the policy period, in:\n",
      "a. \"Bodily injury\"; or\n",
      "b. \"Property damage\".\n",
      "9. \"Property damage\" means physical injury to,destruction of, or loss of use of tangible property.\n",
      "10. \"Residence employee\" means:\n",
      "a. An employee of an \"insured\", or an employee leased to an \"insured\" by a laborleasing firm, under an agreement betweenan \"insured\" and the labor leasing firm,whose duties are related to the maintenance or use of the \"residence premises\",including household or domestic services;or\n",
      "b. One who performs similar duties elsewhere\n",
      "not related to the \"business\" of an \"insured\".\n",
      "A \"residence employee\" does not include atemporary employee who is furnished to an\"insured\" to substitute for a permanent \"residence employee\" on leave or to meet seasonalor shortterm workload conditions.\n",
      "11. \"Residence premises\" means:\n",
      "a. The one family dwelling where you reside;\n",
      "b. The two, three or four family dwelling whereyou reside in at least one of the family units;or\n",
      "c. That part of any other building where youreside;\n",
      "and which is shown as the \"residence premises\" in the Declarations.\n",
      "\"Residence premises\" also includes other\n",
      "structures and grounds at that location.DEDUCTIBLE\n",
      "Unless otherwise noted in this policy, the following\n",
      "deductible provision applies:\n",
      "Subject to the policy limits that apply, we will pay only\n",
      "that part of the total of all loss payable under Section I\n",
      "that exceeds the deductible amount shown in theDeclarations.\n",
      "SECTION I – PROPERTY COVERAGES\n",
      "A. Coverage A – Dwelling\n",
      "1. We cover:\n",
      "a. The dwelling on the \"residence premises\"\n",
      "shown in the Declarations, including structures attached to the dwelling; and\n",
      "b. Materials and supplies located on or next tothe \"residence premises\" used to construct,alter or repair the dwelling or other structures on the \"residence premises\".\n",
      "2. We do not cover land, including land on whichthe dwelling is located.\n",
      "B. Coverage B – Other Structures\n",
      "1. We cover other structures on the \"residencepremises\" set apart from the dwelling by clearspace. This includes structures connected tothe dwelling by only a fence, utility line, orsimilar connection.\n",
      "2. We do not cover:\n",
      "a. Land, including land on which the otherstructures are located;\n",
      "b. Other structures rented or held for rental toany person not a tenant of the dwelling,unless used solely as a private garage;\n",
      "c. Other structures from which any \"business\"\n",
      "is conducted; or\n",
      "d. Other structures used to store \"business\"property. However, we do cover a structurethat contains \"business\" property solelyowned by an \"insured\" or a tenant of thedwelling provided that \"business\" propertydoes not include gaseous or liquid fuel,other than fuel in a permanently installedfuel tank of a vehicle or craft parked orstored in the structure.\n",
      "3. The limit of liability for this coverage will not bemore than 10% of the limit of liability that applies to Coverage A. Use of this coverage does\n",
      "not reduce the Coverage A limit of liability. C. Coverage C – Personal Property\n",
      "1. Covered Property\n",
      "We cover personal property owned or used byan \"insured\" while it is anywhere in the world. After a loss and at your request, we will coverpersonal property owned by:\n",
      "a. Others while the property is on the part ofthe \"residence premises\" occupied by an\"insured\"; or\n",
      "b. A guest or a \"residence employee\", whilethe property is in any residence occupied byan \"insured\".\n",
      "2. Limit For Property At Other Residences\n",
      "Our limit of liability for personal property usuallylocated at an \"insured's\" residence, other thanthe \"residence premises\", is 10% of the limit ofliability for Coverage C, or $1,000, whichever is\n",
      "greater. However, this limitation does not applyto personal property:\n",
      "a. Moved from the \"residence premises\" because it is being repaired, renovated or rebuilt and is not fit to live in or store propertyin; or\n",
      "b. In a newly acquired principal residence for30 days from the time you begin to movethe property there.\n",
      "3. Special Limits Of Liability\n",
      "The special limit for each category shown be-\n",
      "low is the total limit for each loss for all property in that category. These special limits donot increase the Coverage C limit of liability.\n",
      "a. $200 on money, bank notes, bullion, goldother than goldware, silver other than silverware, platinum other than platinumware,coins, medals, scrip, stored value cardsand smart cards.\n",
      "b. $1,500 on securities, accounts, deeds,evidences of debt, letters of credit, notesother than bank notes, manuscripts, personal records, passports, tickets andstamps. This dollar limit applies to thesecategories regardless of the medium (suchas paper or computer software) on whichthe material exists.\n",
      "This limit includes the cost to research, replace or restore the information from thelost or damaged material.c. $1,500 on watercraft of all types, including\n",
      "their trailers, furnishings, equipment andoutboard engines or motors.\n",
      "d. $1,500 on trailers or semitrailers not usedwith watercraft of all types.\n",
      "e. $1,500 for loss by theft of jewelry, watches,furs, precious and semiprecious stones.\n",
      "f. $2,500 for loss by theft of firearms andrelated equipment.\n",
      "g. $2,500 for loss by theft of silverware, silverplated ware, goldware, goldplated ware,platinumware, platinumplated ware andpewterware. This includes flatware, hollowware, tea sets, trays and trophies made ofor including silver, gold or pewter.\n",
      "h. $2,500 on property, on the \"residencepremises\", used primarily for \"business\"purposes.\n",
      "i. $500 on property, away from the \"residencepremises\", used primarily for \"business\"purposes. However, this limit does not apply to loss to electronic apparatus and otherproperty described in Categories j. and k.\n",
      "below.\n",
      "j. $1,500 on electronic apparatus and accessories, while in or upon a \"motor vehicle\",but only if the apparatus is equipped to beoperated by power from the \"motor vehicle's\" electrical system while still capable ofbeing operated by other power sources.\n",
      "Accessories include antennas, tapes, wires,records, discs or other media that can beused with any apparatus described in thisCategory j.\n",
      "k. $1,500 on electronic apparatus and acces-\n",
      "sories used primarily for \"business\" whileaway from the \"residence premises\" andnot in or upon a \"motor vehicle\". The apparatus must be equipped to be operated bypower from the \"motor vehicle's\" electricalsystem while still capable of being operatedby other power sources.\n",
      "Accessories include antennas, tapes, wires,records, discs or other media that can beused with any apparatus described in thisCategory k.\n",
      "4. Property Not Covered\n",
      "We do not cover:\n",
      "a. Articles separately described and specifically insured, regardless of the limit forwhich they are insured, in this or other insurance;b. Animals, birds or fish;\n",
      "c. \"Motor vehicles\".\n",
      "(1) This includes:\n",
      "(a) Their accessories, equipment andparts; or\n",
      "(b) Electronic apparatus and accessories designed to be operated solelyby power from the electrical systemof the \"motor vehicle\". Accessoriesinclude antennas, tapes, wires, records, discs or other media that canbe used with any apparatus described above.\n",
      "The exclusion of property described in (a) and (b) above applies only while\n",
      "such property is in or upon the \"motorvehicle\".\n",
      "(2) We do cover \"motor vehicles\" not required to be registered for use on publicroads or property which are:\n",
      "(a) Used solely to service an \"insured's\"residence; or\n",
      "(b) Designed to assist the handicapped;\n",
      "d. Aircraft meaning any contrivance used ordesigned for flight including any partswhether or not attached to the aircraft.\n",
      "We do cover model or hobby aircraft notused or designed to carry people or cargo;\n",
      "e. Hovercraft and parts. Hovercraft means aselfpropelled motorized ground effect vehicle and includes, but is not limited to, flarecraft and air cushion vehicles;\n",
      "f. Property of roomers, boarders and othertenants, except property of roomers andboarders related to an \"insured\";\n",
      "g. Property in an apartment regularly rented orheld for rental to others by an \"insured\", except as provided in E. 10. Landlord's Fur-\n",
      "nishings under Section I – Property Cover-\n",
      "ages;\n",
      "h. Property rented or held for rental to othersoff the \"residence premises\";\n",
      "i. \"Business\" data, including such data storedin:\n",
      "(1) Books of account, drawings or otherpaper records; or\n",
      "(2) Computers and related equipment.\n",
      "We do cover the cost of blank recording orstorage media, and of prerecorded computer programs available on the retail market;j. Credit cards, electronic fund transfer cards\n",
      "or access devices used solely for deposit,withdrawal or transfer of funds except asprovided in E. 6. Credit Card, Electronic\n",
      "Fund Transfer Card Or Access Device,Forgery And Counterfeit Money under Section I – Property Coverages; or\n",
      "k. Water or steam.\n",
      "D. Coverage D – Loss Of Use\n",
      "The limit of liability for Coverage D is the total limit\n",
      "for the coverages in 1. Additional Living Expense,\n",
      "2. Fair Rental Value and 3. Civil Authority Prohibits\n",
      "Use below.\n",
      "1. Additional Living Expense\n",
      "If a loss covered under Section I makes that\n",
      "part of the \"residence premises\" where you reside not fit to live in, we cover any necessaryincrease in living expenses incurred by you sothat your household can maintain its normalstandard of living.\n",
      "Payment will be for the shortest time required\n",
      "to repair or replace the damage or, if you permanently relocate, the shortest time requiredfor your household to settle elsewhere.\n",
      "2. Fair Rental Value\n",
      "If a loss covered under Section I makes that\n",
      "part of the \"residence premises\" rented to others or held for rental by you not fit to live in, wecover the fair rental value of such premisesless any expenses that do not continue while itis not fit to live in.\n",
      "Payment will be for the shortest time required\n",
      "to repair or replace such premises.\n",
      "3. Civil Authority Prohibits Use\n",
      "If a civil authority prohibits you from use of the\"residence premises\" as a result of direct damage to neighboring premises by a Peril InsuredAgainst, we cover the loss as provided in 1.\n",
      "Additional Living Expense and 2. Fair Rental\n",
      "Value above for no more than two weeks.\n",
      "4. Loss Or Expense Not Covered\n",
      "We do not cover loss or expense due to cancellation of a lease or agreement.\n",
      "The periods of time under 1. Additional Living Ex-\n",
      "pense, 2. Fair Rental Value and 3. Civil Authority\n",
      "Prohibits Use above are not limited by expiration\n",
      "of this policy. E. Additional Coverages\n",
      "1. Debris Removal\n",
      "a. We will pay your reasonable expense forthe removal of:\n",
      "(1) Debris of covered property if a PerilInsured Against that applies to the damaged property causes the loss; or\n",
      "(2) Ash, dust or particles from a volcaniceruption that has caused direct loss to abuilding or property contained in abuilding.\n",
      "This expense is included in the limit of liability that applies to the damaged property. If the amount to be paid for the actual damage to the property plus the debris removalexpense is more than the limit of liability forthe damaged property, an additional 5% ofthat limit is available for such expense.\n",
      "b. We will also pay your reasonable expense,up to $1,000, for the removal from the\"residence premises\" of:\n",
      "(1) Your tree (s) felled by the peril of Windstorm or Hail or Weight of Ice, Snow orSleet; or\n",
      "(2) A neighbor's tree (s) felled by a PerilInsured Against under Coverage C;\n",
      "provided the tree (s) :\n",
      "(3) Damage (s) a covered structure; or\n",
      "(4) Does not damage a covered structure,\n",
      "but:\n",
      "(a) Block (s) a driveway on the \"residence premises\" which prevent (s) a\"motor vehicle\", that is registered foruse on public roads or property, fromentering or leaving the \"residencepremises\"; or\n",
      "(b) Block (s) a ramp or other fixturedesigned to assist a handicappedperson to enter or leave the dwellingbuilding.\n",
      "The $1,000 limit is the most we will pay inany one loss regardless of the number offallen trees. No more than $500 of this limitwill be paid for the removal of any one tree.\n",
      "This coverage is additional insurance.\n",
      "2. Reasonable Repairs\n",
      "a. We will pay the reasonable cost incurred by\n",
      "you for the necessary measures takensolely to protect covered property that isdamaged by a Peril Insured Against fromfurther damage.b. If the measures taken involve repair to\n",
      "other damaged property, we will only pay ifthat property is covered under this policyand the damage is caused by a Peril Insured Against. This coverage does not:\n",
      "(1) Increase the limit of liability that appliesto the covered property; or\n",
      "(2) Relieve you of your duties, in case of aloss to covered property, described inB. 4. under Section I – Conditions.\n",
      "3. Trees, Shrubs And Other Plants\n",
      "We cover trees, shrubs, plants or lawns, on the\"residence premises\", for loss caused by thefollowing Perils Insured Against:\n",
      "a. Fire or Lightning;\n",
      "b. Explosion;\n",
      "c. Riot or Civil Commotion;\n",
      "d. Aircraft;\n",
      "e. Vehicles not owned or operated by a resi-\n",
      "dent of the \"residence premises\";\n",
      "f. Vandalism or Malicious Mischief; or\n",
      "g. Theft.\n",
      "We will pay up to 5% of the limit of liability thatapplies to the dwelling for all trees, shrubs,plants or lawns. No more than $500 of this limitwill be paid for any one tree, shrub or plant. Wedo not cover property grown for \"business\"purposes.\n",
      "This coverage is additional insurance.\n",
      "4. Fire Department Service Charge\n",
      "We will pay up to $500 for your liability as-\n",
      "sumed by contract or agreement for fire department charges incurred when the fire department is called to save or protect coveredproperty from a Peril Insured Against. We donot cover fire department service charges if theproperty is located within the limits of the city,municipality or protection district furnishing thefire department response.\n",
      "This coverage is additional insurance. No de-\n",
      "ductible applies to this coverage.\n",
      "5. Property Removed\n",
      "We insure covered property against direct lossfrom any cause while being removed from apremises endangered by a Peril InsuredAgainst and for no more than 30 days whileremoved.\n",
      "This coverage does not change the limit of li-\n",
      "ability that applies to the property being removed. 6. Credit Card, Electronic Fund Transfer Card\n",
      "Or Access Device, Forgery And CounterfeitMoney\n",
      "a. We will pay up to $500 for:\n",
      "(1) The legal obligation of an \"insured\" topay because of the theft or unauthorizeduse of credit cards issued to or registered in an \"insured's\" name;\n",
      "(2) Loss resulting from theft or unauthorizeduse of an electronic fund transfer cardor access device used for deposit, withdrawal or transfer of funds, issued to orregistered in an \"insured's\" name;\n",
      "(3) Loss to an \"insured\" caused by forgeryor alteration of any check or negotiableinstrument; and\n",
      "(4) Loss to an \"insured\" through acceptancein good faith of counterfeit United Statesor Canadian paper currency.\n",
      "All loss resulting from a series of actscommitted by any one person or in whichany one person is concerned or implicatedis considered to be one loss.\n",
      "This coverage is additional insurance. No\n",
      "deductible applies to this coverage.\n",
      "b. We do not cover:\n",
      "(1) Use of a credit card, electronic fundtransfer card or access device:\n",
      "(a) By a resident of your household;\n",
      "(b) By a person who has been entrustedwith either type of card or accessdevice; or\n",
      "(c) If an \"insured\" has not complied withall terms and conditions under whichthe cards are issued or the devicesaccessed; or\n",
      "(2) Loss arising out of \"business\" use ordishonesty of an \"insured\".\n",
      "c. If the coverage in a. above applies, the\n",
      "following defense provisions also apply:\n",
      "(1) We may investigate and settle any claimor suit that we decide is appropriate. Our duty to defend a claim or suit endswhen the amount we pay for the lossequals our limit of liability.\n",
      "(2) If a suit is brought against an \"insured\"for liability under a. (1) or (2) above, we\n",
      "will provide a defense at our expense bycounsel of our choice.\n",
      "(3) We have the option to defend at ourexpense an \"insured\" or an \"insured's\"bank against any suit for the enforcement of payment under a. (3) above.. Loss Assessment\n",
      "a. We will pay up to $1,000 for your share of\n",
      "loss assessment charged during the policyperiod against you, as owner or tenant ofthe \"residence premises\", by a corporationor association of property owners. The assessment must be made as a result of direct loss to property, owned by all memberscollectively, of the type that would be covered by this policy if owned by you, causedby a Peril Insured Against under CoverageA, other than:\n",
      "(1) Earthquake; or\n",
      "(2) Land shock waves or tremors before,during or after a volcanic eruption.\n",
      "The limit of $1,000 is the most we will paywith respect to any one loss, regardless ofthe number of assessments. We will onlyapply one deductible, per unit, to the totalamount of any one loss to the property described above, regardless of the number ofassessments.\n",
      "b. We do not cover assessments chargedagainst you or a corporation or associationof property owners by any governmentalbody.\n",
      "c. Paragraph P. Policy Period under Section I\n",
      "– Conditions does not apply to this coverage.\n",
      "This coverage is additional insurance.\n",
      "8. Collapse\n",
      "a. With respect to this Additional Coverage:\n",
      "(1) Collapse means an abrupt falling downor caving in of a building or any part of abuilding with the result that the buildingor part of the building cannot be occupied for its current intended purpose.\n",
      "(2) A building or any part of a building thatis in danger of falling down or caving inis not considered to be in a state of collapse.\n",
      "(3) A part of a building that is standing isnot considered to be in a state of collapse even if it has separated from another part of the building.\n",
      "(4) A building or any part of a building thatis standing is not considered to be in astate of collapse even if it shows evidence of cracking, bulging, sagging,bending, leaning, settling, shrinkage orexpansion. b. We insure for direct physical loss to covered property involving collapse of a building or any part of a building if the collapsewas caused by one or more of the following:\n",
      "(1) The Perils Insured Against named underCoverage C;\n",
      "(2) Decay that is hidden from view, unlessthe presence of such decay is known toan \"insured\" prior to collapse;\n",
      "(3) Insect or vermin damage that is hiddenfrom view, unless the presence of suchdamage is known to an \"insured\" prior tocollapse;\n",
      "(4) Weight of contents, equipment, animalsor people;\n",
      "(5) Weight of rain which collects on a roof;or\n",
      "(6) Use of defective material or methods inconstruction, remodeling or renovation ifthe collapse occurs during the course ofthe construction, remodeling or renovation.\n",
      "c. Loss to an awning, fence, patio, deck,pavement, swimming pool, undergroundpipe, flue, drain, cesspool, septic tank,foundation, retaining wall, bulkhead, pier,wharf or dock is not included under b. (2)\n",
      "through (6) above, unless the loss is a di-\n",
      "rect result of the collapse of a building or\n",
      "any part of a building.\n",
      "d. This coverage does not increase the limit ofliability that applies to the damaged coveredproperty.\n",
      "9. Glass Or Safety Glazing Material \n",
      "a. We cover:\n",
      "(1) The breakage of glass or safety glazingmaterial which is part of a coveredbuilding, storm door or storm window;\n",
      "(2) The breakage of glass or safety glazingmaterial which is part of a coveredbuilding, storm door or storm windowwhen caused directly by earth movement; and\n",
      "(3) The direct physical loss to coveredproperty caused solely by the pieces,fragments or splinters of broken glass orsafety glazing material which is part of abuilding, storm door or storm window.b. This coverage does not include loss:\n",
      "(1) To covered property which results be-\n",
      "cause the glass or safety glazing material has been broken, except as provided in a. (3) above; or\n",
      "(2) On the \"residence premises\" if thedwelling has been vacant for more than60 consecutive days immediately beforethe loss, except when the breakage results directly from earth movement asprovided in a. (2) above. A dwelling be-\n",
      "ing constructed is not considered vacant.\n",
      "c. This coverage does not increase the limit ofliability that applies to the damaged property.\n",
      "10. Landlord's Furnishings\n",
      "We will pay up to $2,500 for your appliances,carpeting and other household furnishings, ineach apartment on the \"residence premises\"regularly rented or held for rental to others byan \"insured\", for loss caused by a Peril InsuredAgainst in Coverage C, other than Theft.\n",
      "This limit is the most we will pay in any oneloss regardless of the number of appliances,carpeting or other household furnishings involved in the loss.\n",
      "This coverage does not increase the limit of li-\n",
      "ability applying to the damaged property.\n",
      "11. Ordinance Or Law\n",
      "a. You may use up to 10% of the limit of liability that applies to Coverage A for the in-\n",
      "creased costs you incur due to the enforcement of any ordinance or law whichrequires or regulates:\n",
      "(1) The construction, demolition, remodeling, renovation or repair of that part of acovered building or other structuredamaged by a Peril Insured Against;\n",
      "(2) The demolition and reconstruction of theundamaged part of a covered buildingor other structure, when that building orother structure must be totally demolished because of damage by a Peril Insured Against to another part of thatcovered building or other structure; or\n",
      "(3) The remodeling, removal or replacement of the portion of the undamagedpart of a covered building or otherstructure necessary to complete the remodeling, repair or replacement of thatpart of the covered building or otherstructure damaged by a Peril InsuredAgainst. b. You may use all or part of this ordinance orlaw coverage to pay for the increased costsyou incur to remove debris resulting fromthe construction, demolition, remodeling,renovation, repair or replacement of property as stated in a. above.\n",
      "c. We do not cover:\n",
      "(1) The loss in value to any covered building or other structure due to the requirements of any ordinance or law; or\n",
      "(2) The costs to comply with any ordinanceor law which requires any \"insured\" orothers to test for, monitor, clean up, remove, contain, treat, detoxify or neutralize, or in any way respond to, or assess the effects of, pollutants in or onany covered building or other structure.\n",
      "Pollutants means any solid, liquid,gaseous or thermal irritant or contaminant, including smoke, vapor, soot,fumes, acids, alkalis, chemicals andwaste. Waste includes materials to berecycled, reconditioned or reclaimed.\n",
      "This coverage is additional insurance.\n",
      "12. Grave Markers\n",
      "We will pay up to $5,000 for grave markers, including mausoleums, on or away from the\"residence premises\" for loss caused by a PerilInsured Against under Coverage C.\n",
      "This coverage does not increase the limits ofliability that apply to the damaged coveredproperty.\n",
      "SECTION I – PERILS INSURED AGAINST\n",
      "A. Coverage A – Dwelling And Coverage B –\n",
      "Other Structures\n",
      "1. We insure against risk of direct physical loss to\n",
      "property described in Coverages A and B.\n",
      "2. We do not insure, however, for loss:\n",
      "a. Excluded under Section I – Exclusions;\n",
      "b. Involving collapse, except as provided inE. 8. Collapse under Section I – Property\n",
      "Coverages; or\n",
      "c. Caused by:\n",
      "(1) Freezing of a plumbing, heating, airconditioning or automatic fire protectivesprinkler system or of a household appliance, or by discharge, leakage oroverflow from within the system or appliance caused by freezing. This provision does not apply if you have usedreasonable care to:\n",
      "(a) Maintain heat in the building; or(b) Shut off the water supply and drain\n",
      "all systems and appliances of water.\n",
      "However, if the building is protected by\n",
      "an automatic fire protective sprinklersystem, you must use reasonable careto continue the water supply and maintain heat in the building for coverage toapply.\n",
      "For purposes of this provision a plumb-\n",
      "ing system or household appliance doesnot include a sump, sump pump or related equipment or a roof drain, gutter,downspout or similar fixtures or equipment;\n",
      "(2) Freezing, thawing, pressure or weight ofwater or ice, whether driven by wind ornot, to a:\n",
      "(a) Fence, pavement, patio or swimmingpool;\n",
      "(b) Footing, foundation, bulkhead, wall,or any other structure or device thatsupports all or part of a building, orother structure;\n",
      "(c) Retaining wall or bulkhead that doesnot support all or part of a building orother structure; or\n",
      "(d) Pier, wharf or dock;\n",
      "(3) Theft in or to a dwelling under construction, or of materials and supplies for usein the construction until the dwelling isfinished and occupied;\n",
      "(4) Vandalism and malicious mischief, andany ensuing loss caused by any intentional and wrongful act committed in thecourse of the vandalism or maliciousmischief, if the dwelling has been vacantfor more than 60 consecutive days immediately before the loss. A dwellingbeing constructed is not considered vacant;\n",
      "(5) Mold, fungus or wet rot. However, we doinsure for loss caused by mold, fungusor wet rot that is hidden within the wallsor ceilings or beneath the floors orabove the ceilings of a structure if suchloss results from the accidental discharge or overflow of water or steamfrom within:\n",
      "(a) A plumbing, heating, air conditioningor automatic fire protective sprinklersystem, or a household appliance,on the \"residence premises\"; or (b) A storm drain, or water, steam orsewer pipes, off the \"residencepremises\".\n",
      "For purposes of this provision, aplumbing system or household appliance does not include a sump, sumppump or related equipment or a roofdrain, gutter, downspout or similar fixtures or equipment; or\n",
      "(6) Any of the following:\n",
      "(a) Wear and tear, marring, deterioration;\n",
      "(b) Mechanical breakdown, latent defect, inherent vice, or any quality in\n",
      "property that causes it to damage ordestroy itself;\n",
      "(c) Smog, rust or other corrosion, or dryrot;\n",
      "(d) Smoke from agricultural smudging orindustrial operations;\n",
      "(e) Discharge, dispersal, seepage, migration, release or escape of pollutants unless the discharge, dispersal,seepage, migration, release or escape is itself caused by a Peril Insured Against named under Coverage C.\n",
      "Pollutants means any solid, liquid,gaseous or thermal irritant or contaminant, including smoke, vapor,soot, fumes, acids, alkalis, chemicals and waste. Waste includesmaterials to be recycled, reconditioned or reclaimed;\n",
      "(f) Settling, shrinking, bulging or expansion, including resultant cracking, ofbulkheads, pavements, patios, footings, foundations, walls, floors, roofsor ceilings;\n",
      "(g) Birds, vermin, rodents, or insects; or\n",
      "(h) Animals owned or kept by an \"insured\".\n",
      "Exception To c. (6)\n",
      "Unless the loss is otherwise excluded, we\n",
      "cover loss to property covered under Coverage A or B resulting from an accidental\n",
      "discharge or overflow of water or steamfrom within a:\n",
      "(i) Storm drain, or water, steam or sewerpipe, off the \"residence premises\"; or(ii) Plumbing, heating, air conditioning or\n",
      "automatic fire protective sprinkler sys-\n",
      "tem or household appliance on the\"residence premises\". This includes thecost to tear out and replace any part of abuilding, or other structure, on the \"residence premises\", but only when necessary to repair the system or appliance. However, such tear out and replacement coverage only applies to otherstructures if the water or steam causesactual damage to a building on the\"residence premises\".\n",
      "We do not cover loss to the system or appliance from which this water or steam escaped.\n",
      "For purposes of this provision, a plumbing\n",
      "system or household appliance does notinclude a sump, sump pump or relatedequipment or a roof drain, gutter, downspout or similar fixtures or equipment.\n",
      "Section I – Exclusion A. 3. Water Damage,\n",
      "Paragraphs a. and c. that apply to surface\n",
      "water and water below the surface of theground do not apply to loss by water coveredunder c. (5) and (6) above.\n",
      "Under 2. b. and c. above, any ensuing loss to\n",
      "property described in Coverages A and B not\n",
      "precluded by any other provision in this policyis covered.\n",
      "B. Coverage C – Personal Property\n",
      "We insure for direct physical loss to the propertydescribed in Coverage C caused by any of the\n",
      "following perils unless the loss is excluded in Section I – Exclusions.\n",
      "1. Fire Or Lightning\n",
      "2. Windstorm Or Hail\n",
      "This peril includes loss to watercraft of all types\n",
      "and their trailers, furnishings, equipment, and\n",
      "outboard engines or motors, only while inside afully enclosed building.\n",
      "This peril does not include loss to the property\n",
      "contained in a building caused by rain, snow,sleet, sand or dust unless the direct force ofwind or hail damages the building causing anopening in a roof or wall and the rain, snow,sleet, sand or dust enters through this opening.\n",
      "3. Explosion\n",
      "4. Riot Or Civil Commotion5. Aircraft\n",
      "This peril includes selfpropelled missiles and\n",
      "spacecraft. 6. Vehicles\n",
      "7. Smoke\n",
      "This peril means sudden and accidental dam-\n",
      "age from smoke, including the emission orpuffback of smoke, soot, fumes or vapors froma boiler, furnace or related equipment.\n",
      "This peril does not include loss caused by\n",
      "smoke from agricultural smudging or industrialoperations.\n",
      "8. Vandalism Or Malicious Mischief\n",
      "9. Theft\n",
      "a. This peril includes attempted theft and loss\n",
      "of property from a known place when it islikely that the property has been stolen.\n",
      "b. This peril does not include loss caused bytheft:\n",
      "(1) Committed by an \"insured\";\n",
      "(2) In or to a dwelling under construction, orof materials and supplies for use in theconstruction until the dwelling is finishedand occupied;\n",
      "(3) From that part of a \"residence premises\"rented by an \"insured\" to someone otherthan another \"insured\"; or\n",
      "(4) That occurs off the \"residence premises\" of:\n",
      "(a) Trailers, semitrailers and campers;\n",
      "(b) Watercraft of all types, and theirfurnishings, equipment and outboardengines or motors; or\n",
      "(c) Property while at any other residenceowned by, rented to, or occupied byan \"insured\", except while an \"insured\" is temporarily living there. Property of an \"insured\" who is astudent is covered while at the residence the student occupies to attendschool as long as the student hasbeen there at any time during the 60days immediately before the loss.\n",
      "10. Falling Objects\n",
      "This peril does not include loss to propertycontained in a building unless the roof or anoutside wall of the building is first damaged bya falling object. Damage to the falling object itself is not included.\n",
      "11. Weight Of Ice, Snow Or Sleet\n",
      "This peril means weight of ice, snow or sleetwhich causes damage to property contained ina building.. Accidental Discharge Or Overflow Of Water\n",
      "Or Steam\n",
      "a. This peril means accidental discharge or\n",
      "overflow of water or steam from within aplumbing, heating, air conditioning or automatic fire protective sprinkler system orfrom within a household appliance.\n",
      "b. This peril does not include loss:\n",
      "(1) To the system or appliance from whichthe water or steam escaped;\n",
      "(2) Caused by or resulting from freezingexcept as provided in Peril InsuredAgainst 14. Freezing;\n",
      "(3) On the \"residence premises\" caused byaccidental discharge or overflow whichoccurs off the \"residence premises\"; or\n",
      "(4) Caused by mold, fungus or wet rot unless hidden within the walls or ceilingsor beneath the floors or above the ceilings of a structure.\n",
      "c. In this peril, a plumbing system or household appliance does not include a sump,sump pump or related equipment or a roofdrain, gutter, downspout or similar fixturesor equipment.\n",
      "d. Section I – Exclusion A. 3. Water Damage,\n",
      "Paragraphs a. and c. that apply to surface\n",
      "water and water below the surface of theground do not apply to loss by water covered under this peril.\n",
      "13. Sudden And Accidental Tearing Apart,\n",
      "Cracking, Burning Or Bulging\n",
      "This peril means sudden and accidental tearing apart, cracking, burning or bulging of asteam or hot water heating system, an air conditioning or automatic fire protective sprinklersystem, or an appliance for heating water.\n",
      "We do not cover loss caused by or resulting\n",
      "from freezing under this peril.\n",
      "14. Freezing\n",
      "a. This peril means freezing of a plumbing,heating, air conditioning or automatic fireprotective sprinkler system or of a household appliance but only if you have usedreasonable care to:\n",
      "(1) Maintain heat in the building; or\n",
      "(2) Shut off the water supply and drain allsystems and appliances of water.\n",
      "However, if the building is protected by anautomatic fire protective sprinkler system,you must use reasonable care to continuethe water supply and maintain heat in thebuilding for coverage to apply. b. In this peril, a plumbing system or household appliance does not include a sump,sump pump or related equipment or a roofdrain, gutter, downspout or similar fixturesor equipment.\n",
      "15. Sudden And Accidental Damage From\n",
      "Artificially Generated Electrical Current\n",
      "This peril does not include loss to tubes, transistors, electronic components or circuitry thatare a part of appliances, fixtures, computers,home entertainment units or other types ofelectronic apparatus.\n",
      "16. Volcanic Eruption\n",
      "This peril does not include loss caused byearthquake, land shock waves or tremors.\n",
      "SECTION I – EXCLUSIONS\n",
      "A. We do not insure for loss caused directly or indi-\n",
      "rectly by any of the following. Such loss is excluded regardless of any other cause or eventcontributing concurrently or in any sequence to theloss. These exclusions apply whether or not theloss event results in widespread damage or affects a substantial area.\n",
      "1. Ordinance Or Law\n",
      "Ordinance Or Law means any ordinance orlaw:\n",
      "a. Requiring or regulating the construction,demolition, remodeling, renovation or repairof property, including removal of any resulting debris. This Exclusion A. 1. a. does\n",
      "not apply to the amount of coverage thatmay be provided for in E. 11. Ordinance Or\n",
      "Law under Section I – Property Coverages;\n",
      "b. The requirements of which result in a lossin value to property; or\n",
      "c. Requiring any \"insured\" or others to test for,monitor, clean up, remove, contain, treat,detoxify or neutralize, or in any way respondto, or assess the effects of, pollutants.\n",
      "Pollutants means any solid, liquid, gaseousor thermal irritant or contaminant, includingsmoke, vapor, soot, fumes, acids, alkalis,chemicals and waste. Waste includes materials to be recycled, reconditioned or reclaimed.\n",
      "This Exclusion A. 1. applies whether or not the\n",
      "property has been physically damaged.\n",
      "2. Earth Movement\n",
      "Earth Movement means:\n",
      "a. Earthquake, including land shock waves ortremors before, during or after a volcaniceruption;b. Landslide, mudslide or mudflow;\n",
      "c. Subsidence or sinkhole; or\n",
      "d. Any other earth movement including earth\n",
      "sinking, rising or shifting;\n",
      "caused by or resulting from human or animalforces or any act of nature unless direct loss byfire or explosion ensues and then we will pay\n",
      "only for the ensuing loss.\n",
      "This Exclusion A. 2. does not apply to loss by\n",
      "theft.\n",
      "3. Water Damage\n",
      "Water Damage means:\n",
      "a. Flood, surface water, waves, tidal water,\n",
      "overflow of a body of water, or spray fromany of these, whether or not driven by wind;\n",
      "b. Water or waterborne material which backsup through sewers or drains or which overflows or is discharged from a sump, sumppump or related equipment; or\n",
      "c. Water or waterborne material below thesurface of the ground, including waterwhich exerts pressure on or seeps or leaksthrough a building, sidewalk, driveway,foundation, swimming pool or other structure;\n",
      "caused by or resulting from human or animalforces or any act of nature.\n",
      "Direct loss by fire, explosion or theft resulting\n",
      "from water damage is covered.\n",
      "4. Power Failure\n",
      "Power Failure means the failure of power orother utility service if the failure takes place offthe \"residence premises\". But if the failure results in a loss, from a Peril Insured Against onthe \"residence premises\", we will pay for theloss caused by that peril.\n",
      "5. Neglect\n",
      "Neglect means neglect of an \"insured\" to useall reasonable means to save and preserveproperty at and after the time of a loss.\n",
      "6. War\n",
      "War includes the following and any consequence of any of the following:\n",
      "a. Undeclared war, civil war, insurrection,rebellion or revolution;\n",
      "b. Warlike act by a military force or militarypersonnel; or\n",
      "c. Destruction, seizure or use for a militarypurpose. Discharge of a nuclear weapon will be deemeda warlike act even if accidental.\n",
      "7. Nuclear Hazard\n",
      "This Exclusion A. 7. pertains to Nuclear Hazard\n",
      "to the extent set forth in M. Nuclear Hazard\n",
      "Clause under Section I – Conditions.\n",
      "8. Intentional Loss\n",
      "Intentional Loss means any loss arising out ofany act an \"insured\" commits or conspires tocommit with the intent to cause a loss.\n",
      "In the event of such loss, no \"insured\" is enti-\n",
      "tled to coverage, even \"insureds\" who did notcommit or conspire to commit the act causingthe loss.\n",
      "9. Governmental Action\n",
      "Governmental Action means the destruction,confiscation or seizure of property described inCoverage A, B or C by order of any govern-\n",
      "mental or public authority.\n",
      "This exclusion does not apply to such acts or-\n",
      "dered by any governmental or public authoritythat are taken at the time of a fire to prevent itsspread, if the loss caused by fire would becovered under this policy.\n",
      "B. We do not insure for loss to property described inCoverages A and B caused by any of the follow-\n",
      "ing. However, any ensuing loss to property described in Coverages A and B not precluded by\n",
      "any other provision in this policy is covered.\n",
      "1. Weather conditions. However, this exclusiononly applies if weather conditions contribute inany way with a cause or event excluded in A.\n",
      "above to produce the loss.\n",
      "2. Acts or decisions, including the failure to act ordecide, of any person, group, organization orgovernmental body.\n",
      "3. Faulty, inadequate or defective:\n",
      "a. Planning, zoning, development, surveying,siting;\n",
      "b. Design, specifications, workmanship, re-\n",
      "pair, construction, renovation, remodeling,grading, compaction;\n",
      "c. Materials used in repair, construction, renovation or remodeling; or\n",
      "d. Maintenance;\n",
      "of part or all of any property whether on or offthe \"residence premises\".SECTION I – CONDITIONS\n",
      "A. Insurable Interest And Limit Of Liability\n",
      "Even if more than one person has an insurable\n",
      "interest in the property covered, we will not be liable in any one loss:\n",
      "1. To an \"insured\" for more than the amount ofsuch \"insured's\" interest at the time of loss; or\n",
      "2. For more than the applicable limit of liability.\n",
      "B. Duties After Loss\n",
      "In case of a loss to covered property, we have noduty to provide coverage under this policy if thefailure to comply with the following duties is prejudicial to us. These duties must be performed either by you, an \"insured\" seeking coverage, or arepresentative of either:\n",
      "1. Give prompt notice to us or our agent;\n",
      "2. Notify the police in case of loss by theft;\n",
      "3. Notify the credit card or electronic fund transfercard or access device company in case of lossas provided for in E. 6. Credit Card, Electronic\n",
      "Fund Transfer Card Or Access Device, Forgery And Counterfeit Money under Section I –\n",
      "Property Coverages;\n",
      "4. Protect the property from further damage. Ifrepairs to the property are required, you must:\n",
      "a. Make reasonable and necessary repairs toprotect the property; and\n",
      "b. Keep an accurate record of repair expenses;\n",
      "5. Cooperate with us in the investigation of aclaim;\n",
      "6. Prepare an inventory of damaged personalproperty showing the quantity, description, actual cash value and amount of loss. Attach allbills, receipts and related documents that justify the figures in the inventory;\n",
      "7. As often as we reasonably require:\n",
      "a. Show the damaged property;\n",
      "b. Provide us with records and documents werequest and permit us to make copies; and\n",
      "c. Submit to examination under oath, while notin the presence of another \"insured\", andsign the same;\n",
      "8. Send to us, within 60 days after our request,your signed, sworn proof of loss which setsforth, to the best of your knowledge and belief:\n",
      "a. The time and cause of loss;\n",
      "b. The interests of all \"insureds\" and all othersin the property involved and all liens on theproperty;\n",
      "c. Other insurance which may cover the loss;d. Changes in title or occupancy of the property during the term of the policy;\n",
      "e. Specifications of damaged buildings anddetailed repair estimates;\n",
      "f. The inventory of damaged personal property described in 6. above;\n",
      "g. Receipts for additional living expensesincurred and records that support the fairrental value loss; and\n",
      "h. Evidence or affidavit that supports a claimunder E. 6. Credit Card, Electronic Fund\n",
      "Transfer Card Or Access Device, ForgeryAnd Counterfeit Money under Section I –\n",
      "Property Coverages, stating the amountand cause of loss.\n",
      "C. Loss Settlement\n",
      "In this Condition C. , the terms \"cost to repair or\n",
      "replace\" and \"replacement cost\" do not include theincreased costs incurred to comply with the enforcement of any ordinance or law, except to theextent that coverage for these increased costs isprovided in E. 11. Ordinance Or Law under Section\n",
      "I – Property Coverages. Covered property losses\n",
      "are settled as follows:\n",
      "1. Property of the following types:\n",
      "a. Personal property;\n",
      "b. Awnings, carpeting, household appliances,outdoor antennas and outdoor equipment,whether or not attached to buildings;\n",
      "c. Structures that are not buildings; and\n",
      "d. Grave markers, including mausoleums;\n",
      "at actual cash value at the time of loss but notmore than the amount required to repair or replace.\n",
      "2. Buildings covered under Coverage A or B at\n",
      "replacement cost without deduction for depreciation, subject to the following:\n",
      "a. If, at the time of loss, the amount of insurance in this policy on the damaged buildingis 80% or more of the full replacement costof the building immediately before the loss,we will pay the cost to repair or replace, after application of any deductible and withoutdeduction for depreciation, but not morethan the least of the following amounts:\n",
      "(1) The limit of liability under this policy thatapplies to the building;\n",
      "(2) The replacement cost of that part of thebuilding damaged with material of likekind and quality and for like use; or\n",
      "(3) The necessary amount actually spent torepair or replace the damaged building.If the building is rebuilt at a new premises,\n",
      "the cost described in (2) above is limited to\n",
      "the cost which would have been incurred ifthe building had been built at the originalpremises.\n",
      "b. If, at the time of loss, the amount of insurance in this policy on the damaged buildingis less than 80% of the full replacementcost of the building immediately before theloss, we will pay the greater of the followingamounts, but not more than the limit of liability under this policy that applies to thebuilding:\n",
      "(1) The actual cash value of that part of thebuilding damaged; or\n",
      "(2) That proportion of the cost to repair orreplace, after application of any deductible and without deduction for depreciation, that part of the building damaged,which the total amount of insurance inthis policy on the damaged buildingbears to 80% of the replacement cost ofthe building.\n",
      "c. To determine the amount of insurancerequired to equal 80% of the full replacement cost of the building immediately before the loss, do not include the value of:\n",
      "(1) Excavations, footings, foundations,piers, or any other structures or devicesthat support all or part of the building,which are below the undersurface of thelowest basement floor;\n",
      "(2) Those supports described in (1) above\n",
      "which are below the surface of theground inside the foundation walls, ifthere is no basement; and\n",
      "(3) Underground flues, pipes, wiring anddrains.\n",
      "d. We will pay no more than the actual cashvalue of the damage until actual repair orreplacement is complete. Once actual repair or replacement is complete, we willsettle the loss as noted in 2. a. and b.\n",
      "above.\n",
      "However, if the cost to repair or replace thedamage is both:\n",
      "(1) Less than 5% of the amount of insurance in this policy on the building; and\n",
      "(2) Less than $2,500;\n",
      "we will settle the loss as noted in 2. a. and\n",
      "b. above whether or not actual repair or re-\n",
      "placement is complete. e. You may disregard the replacement costloss settlement provisions and make claimunder this policy for loss to buildings on anactual cash value basis. You may thenmake claim for any additional liability according to the provisions of this ConditionC. Loss Settlement, provided you notify us\n",
      "of your intent to do so within 180 days afterthe date of loss.\n",
      "D. Loss To A Pair Or Set\n",
      "In case of loss to a pair or set we may elect to:\n",
      "1. Repair or replace any part to restore the pair orset to its value before the loss; or\n",
      "2. Pay the difference between actual cash valueof the property before and after the loss.\n",
      "E. Appraisal\n",
      "If you and we fail to agree on the amount of loss,either may demand an appraisal of the loss. In thisevent, each party will choose a competent and impartial appraiser within 20 days after receiving awritten request from the other. The two appraiserswill choose an umpire. If they cannot agree uponan umpire within 15 days, you or we may requestthat the choice be made by a judge of a court ofrecord in the state where the \"residence premises\"is located. The appraisers will separately set theamount of loss. If the appraisers submit a writtenreport of an agreement to us, the amount agreedupon will be the amount of loss. If they fail toagree, they will submit their differences to the umpire. A decision agreed to by any two will set theamount of loss.\n",
      "Each party will:\n",
      "1. Pay its own appraiser; and\n",
      "2. Bear the other expenses of the appraisal and\n",
      "umpire equally.\n",
      "F. Other Insurance And Service Agreement\n",
      "If a loss covered by this policy is also covered by:\n",
      "1. Other insurance, we will pay only the proportionof the loss that the limit of liability that appliesunder this policy bears to the total amount ofinsurance covering the loss; or\n",
      "2. A service agreement, this insurance is excessover any amounts payable under any suchagreement. Service agreement means a service plan, property restoration plan, home warranty or other similar service warranty agreement, even if it is characterized as insurance.\n",
      "G. Suit Against Us\n",
      "No action can be brought against us unless therehas been full compliance with all of the terms under Section I of this policy and the action is started\n",
      "within two years after the date of loss.H. Our Option\n",
      "If we give you written notice within 30 days after\n",
      "we receive your signed, sworn proof of loss, wemay repair or replace any part of the damagedproperty with material or property of like kind andquality.\n",
      "I. Loss Payment\n",
      "We will adjust all losses with you. We will pay youunless some other person is named in the policyor is legally entitled to receive payment. Loss willbe payable 60 days after we receive your proof ofloss and:\n",
      "1. Reach an agreement with you;\n",
      "2. There is an entry of a final judgment; or\n",
      "3. There is a filing of an appraisal award with us.\n",
      "J. Abandonment Of Property\n",
      "We need not accept any property abandoned byan \"insured\".\n",
      "K. Mortgage Clause\n",
      "1. If a mortgagee is named in this policy, any losspayable under Coverage A or B will be paid to\n",
      "the mortgagee and you, as interests appear. Ifmore than one mortgagee is named, the orderof payment will be the same as the order ofprecedence of the mortgages.\n",
      "2. If we deny your claim, that denial will not applyto a valid claim of the mortgagee, if the mortgagee:\n",
      "a. Notifies us of any change in ownership,occupancy or substantial change in risk ofwhich the mortgagee is aware;\n",
      "b. Pays any premium due under this policy ondemand if you have neglected to pay thepremium; and\n",
      "c. Submits a signed, sworn statement of losswithin 60 days after receiving notice from usof your failure to do so. Paragraphs E. Ap-\n",
      "praisal, G. Suit Against Us and I. Loss\n",
      "Payment under Section I – Conditions also\n",
      "apply to the mortgagee.\n",
      "3. If we decide to cancel or not to renew thispolicy, the mortgagee will be notified at least 10days before the date cancellation or nonrenewal takes effect.\n",
      "4. If we pay the mortgagee for any loss and denypayment to you:\n",
      "a. We are subrogated to all the rights of themortgagee granted under the mortgage onthe property; orb. At our option, we may pay to the mortgageethe whole principal on the mortgage plusany accrued interest. In this event, we willreceive a full assignment and transfer of themortgage and all securities held as collateral to the mortgage debt.\n",
      "5. Subrogation will not impair the right of themortgagee to recover the full amount of themortgagee's claim.\n",
      "L. No Benefit To Bailee\n",
      "We will not recognize any assignment or grant anycoverage that benefits a person or organizationholding, storing or moving property for a fee regardless of any other provision of this policy.\n",
      "M. Nuclear Hazard Clause\n",
      "1. \"Nuclear Hazard\" means any nuclear reaction,radiation, or radioactive contamination, allwhether controlled or uncontrolled or howevercaused, or any consequence of any of these.\n",
      "2. Loss caused by the nuclear hazard will not be\n",
      "considered loss caused by fire, explosion, orsmoke, whether these perils are specificallynamed in or otherwise included within the Perils Insured Against.\n",
      "3. This policy does not apply under Section I to\n",
      "loss caused directly or indirectly by nuclearhazard, except that direct loss by fire resultingfrom the nuclear hazard is covered.\n",
      "N. Recovered Property\n",
      "If you or we recover any property for which wehave made payment under this policy, you or wewill notify the other of the recovery. At your option,the property will be returned to or retained by youor it will become our property. If the recoveredproperty is returned to or retained by you, the losspayment will be adjusted based on the amount youreceived for the recovered property.\n",
      "O. Volcanic Eruption Period\n",
      "One or more volcanic eruptions that occur within a72 hour period will be considered as one volcaniceruption.\n",
      "P. Policy Period\n",
      "This policy applies only to loss which occurs during the policy period.\n",
      "Q. Concealment Or Fraud\n",
      "We provide coverage to no \"insureds\" under thispolicy if, whether before or after a loss, an \"insured\" has:\n",
      "1. Intentionally concealed or misrepresented anymaterial fact or circumstance;2. Engaged in fraudulent conduct; or\n",
      "3. Made false statements;\n",
      "relating to this insurance.\n",
      "R. Loss Payable Clause\n",
      "If the Declarations show a loss payee for certain\n",
      "listed insured personal property, the definition of\"insured\" is changed to include that loss payeewith respect to that property.\n",
      "If we decide to cancel or not renew this policy, that\n",
      "loss payee will be notified in writing.\n",
      "SECTION II – LIABILITY COVERAGES\n",
      "A. Coverage E – Personal Liability\n",
      "If a claim is made or a suit is brought against an\n",
      "\"insured\" for damages because of \"bodily injury\" or\"property damage\" caused by an \"occurrence\" towhich this coverage applies, we will:\n",
      "1. Pay up to our limit of liability for the damagesfor which an \"insured\" is legally liable. Damages include prejudgment interest awardedagainst an \"insured\"; and\n",
      "2. Provide a defense at our expense by counselof our choice, even if the suit is groundless,false or fraudulent. We may investigate andsettle any claim or suit that we decide is appropriate. Our duty to settle or defend endswhen our limit of liability for the \"occurrence\"has been exhausted by payment of a judgmentor settlement.\n",
      "B. Coverage F – Medical Payments To Others\n",
      "We will pay the necessary medical expenses thatare incurred or medically ascertained within threeyears from the date of an accident causing \"bodilyinjury\". Medical expenses means reasonablecharges for medical, surgical, xray, dental, ambulance, hospital, professional nursing, prostheticdevices and funeral services. This coverage doesnot apply to you or regular residents of yourhousehold except \"residence employees\". As toothers, this coverage applies only:\n",
      "1. To a person on the \"insured location\" with the\n",
      "permission of an \"insured\"; or\n",
      "2. To a person off the \"insured location\", if the\"bodily injury\":\n",
      "a. Arises out of a condition on the \"insuredlocation\" or the ways immediately adjoining;\n",
      "b. Is caused by the activities of an \"insured\";\n",
      "c. Is caused by a \"residence employee\" in thecourse of the \"residence employee's\" employment by an \"insured\"; or\n",
      "d. Is caused by an animal owned by or in thecare of an \"insured\". SECTION II – EXCLUSIONS\n",
      "A. \"Motor Vehicle Liability\"\n",
      "1. Coverages E and F do not apply to any \"motor\n",
      "vehicle liability\" if, at the time and place of an\"occurrence\", the involved \"motor vehicle\":\n",
      "a. Is registered for use on public roads orproperty;\n",
      "b. Is not registered for use on public roads orproperty, but such registration is required bya law, or regulation issued by a governmentagency, for it to be used at the place of the\"occurrence\"; or\n",
      "c. Is being:\n",
      "(1) Operated in, or practicing for, any prearranged or organized race, speed contestor other competition;\n",
      "(2) Rented to others;\n",
      "(3) Used to carry persons or cargo for acharge; or\n",
      "(4) Used for any \"business\" purpose exceptfor a motorized golf cart while on a golfing facility.\n",
      "2. If Exclusion A. 1. does not apply, there is still no\n",
      "coverage for \"motor vehicle liability\" unless the\"motor vehicle\" is:\n",
      "a. In dead storage on an \"insured location\";\n",
      "b. Used solely to service an \"insured's\" residence;\n",
      "c. Designed to assist the handicapped and, atthe time of an \"occurrence\", it is:\n",
      "(1) Being used to assist a handicappedperson; or\n",
      "(2) Parked on an \"insured location\";\n",
      "d. Designed for recreational use off publicroads and:\n",
      "(1) Not owned by an \"insured\"; or\n",
      "(2) Owned by an \"insured\" provided the\"occurrence\" takes place on an \"insuredlocation\" as defined in Definitions B.\n",
      "6. a. , b. , d. , e. or h. ; or\n",
      "e. A motorized golf cart that is owned by an\"insured\", designed to carry up to 4 persons, not built or modified after manufacture to exceed a speed of 25 miles per houron level ground and, at the time of an \"occurrence\", is within the legal boundaries of:\n",
      "(1) A golfing facility and is parked or storedthere, or being used by an \"insured\" to:\n",
      "(a) Play the game of golf or for otherrecreational or leisure activity allowed by the facility;(b) Travel to or from an area where\n",
      "\"motor vehicles\" or golf carts areparked or stored; or\n",
      "(c) Cross public roads at designatedpoints to access other parts of thegolfing facility; or\n",
      "(2) A private residential community, including its public roads upon which a motorized golf cart can legally travel, whichis subject to the authority of a propertyowners association and contains an \"insured's\" residence.\n",
      "B. \"Watercraft Liability\"\n",
      "1. Coverages E and F do not apply to any \"water-\n",
      "craft liability\" if, at the time of an \"occurrence\",the involved watercraft is being:\n",
      "a. Operated in, or practicing for, any prearranged or organized race, speed contest orother competition. This exclusion does notapply to a sailing vessel or a predicted logcruise;\n",
      "b. Rented to others;\n",
      "c. Used to carry persons or cargo for acharge; or\n",
      "d. Used for any \"business\" purpose.\n",
      "2. If Exclusion B. 1. does not apply, there is still no\n",
      "coverage for \"watercraft liability\" unless, at thetime of the \"occurrence\", the watercraft:\n",
      "a. Is stored;\n",
      "b. Is a sailing vessel, with or without auxiliarypower, that is:\n",
      "(1) Less than 26 feet in overall length; or\n",
      "(2) 26 feet or more in overall length and notowned by or rented to an \"insured\"; or\n",
      "c. Is not a sailing vessel and is powered by:\n",
      "(1) An inboard or inboardoutdrive engine ormotor, including those that power a water jet pump, of:\n",
      "(a) 50 horsepower or less and notowned by an \"insured\"; or\n",
      "(b) More than 50 horsepower and notowned by or rented to an \"insured\";or\n",
      "(2) One or more outboard engines or motors with:\n",
      "(a) 25 total horsepower or less;\n",
      "(b) More than 25 horsepower if theoutboard engine or motor is notowned by an \"insured\";\n",
      "(c) More than 25 horsepower if theoutboard engine or motor is ownedby an \"insured\" who acquired it during the policy period; or (d) More than 25 horsepower if theoutboard engine or motor is ownedby an \"insured\" who acquired it before the policy period, but only if:\n",
      "(i) You declare them at policy inception; or\n",
      "(ii) Your intent to insure them isreported to us in writing within 45days after you acquire them.\n",
      "The coverages in (c) and (d) above ap-\n",
      "ply for the policy period.\n",
      "Horsepower means the maximum powerrating assigned to the engine or motor bythe manufacturer.\n",
      "C. \"Aircraft Liability\"\n",
      "This policy does not cover \"aircraft liability\".\n",
      "D. \"Hovercraft Liability\"\n",
      "This policy does not cover \"hovercraft liability\".\n",
      "E. Coverage E – Personal Liability And Coverage\n",
      "F – Medical Payments To Others\n",
      "Coverages E and F do not apply to the following:\n",
      "1. Expected Or Intended Injury\n",
      "\"Bodily injury\" or \"property damage\" which is\n",
      "expected or intended by an \"insured\" even ifthe resulting \"bodily injury\" or \"property damage\":\n",
      "a. Is of a different kind, quality or degree thaninitially expected or intended; or\n",
      "b. Is sustained by a different person, entity,real or personal property, than initially expected or intended.\n",
      "However, this Exclusion E. 1. does not apply to\n",
      "\"bodily injury\" resulting from the use of reasonable force by an \"insured\" to protect persons orproperty;\n",
      "2. \"Business\"\n",
      "a. \"Bodily injury\" or \"property damage\" arisingout of or in connection with a \"business\"conducted from an \"insured location\" or engaged in by an \"insured\", whether or not the\"business\" is owned or operated by an \"insured\" or employs an \"insured\".\n",
      "This Exclusion E. 2. applies but is not lim-\n",
      "ited to an act or omission, regardless of itsnature or circumstance, involving a serviceor duty rendered, promised, owed, or implied to be provided because of the natureof the \"business\".\n",
      "b. This Exclusion E. 2. does not apply to:\n",
      "(1) The rental or holding for rental of an\"insured location\";(a) On an occasional basis if used only\n",
      "as a residence;\n",
      "(b) In part for use only as a residence,unless a single family unit is intended for use by the occupyingfamily to lodge more than two roomers or boarders; or\n",
      "(c) In part, as an office, school, studio orprivate garage; and\n",
      "(2) An \"insured\" under the age of 21 yearsinvolved in a parttime or occasional,selfemployed \"business\" with no employees;\n",
      "3. Professional Services\n",
      "\"Bodily injury\" or \"property damage\" arising outof the rendering of or failure to render professional services;\n",
      "4. \"Insured's\" Premises Not An \"Insured\n",
      "Location\"\n",
      "\"Bodily injury\" or \"property damage\" arising outof a premises:\n",
      "a. Owned by an \"insured\";\n",
      "b. Rented to an \"insured\"; or\n",
      "c. Rented to others by an \"insured\";\n",
      "that is not an \"insured location\";\n",
      "5. War\n",
      "\"Bodily injury\" or \"property damage\" caused directly or indirectly by war, including the following and any consequence of any of the following:\n",
      "a. Undeclared war, civil war, insurrection,rebellion or revolution;\n",
      "b. Warlike act by a military force or militarypersonnel; or\n",
      "c. Destruction, seizure or use for a militarypurpose.\n",
      "Discharge of a nuclear weapon will be deemeda warlike act even if accidental;\n",
      "6. Communicable Disease\n",
      "\"Bodily injury\" or \"property damage\" whicharises out of the transmission of a communicable disease by an \"insured\";\n",
      "7. Sexual Molestation, Corporal Punishment\n",
      "Or Physical Or Mental Abuse\n",
      "\"Bodily injury\" or \"property damage\" arising outof sexual molestation, corporal punishment orphysical or mental abuse; or8. Controlled Substance\n",
      "\"Bodily injury\" or \"property damage\" arising outof the use, sale, manufacture, delivery, transferor possession by any person of a ControlledSubstance as defined by the Federal Food andDrug Law at 21 U. S. C. A. Sections 811 and812. Controlled Substances include but are notlimited to cocaine, LSD, marijuana and all narcotic drugs. However, this exclusion does notapply to the legitimate use of prescription drugsby a person following the orders of a licensedphysician.\n",
      "Exclusions A. \"Motor Vehicle Liability\", B. \"Water-\n",
      "craft Liability\", C. \"Aircraft Liability\", D. \"Hovercraft\n",
      "Liability\" and E. 4. \"Insured's\" Premises Not An \"In-\n",
      "sured Location\" do not apply to \"bodily injury\" to a\n",
      "\"residence employee\" arising out of and in thecourse of the \"residence employee's\" employmentby an \"insured\".\n",
      "F. Coverage E – Personal Liability\n",
      "Coverage E does not apply to:\n",
      "1. Liability:\n",
      "a. For any loss assessment charged againstyou as a member of an association, corporation or community of property owners, except as provided in D. Loss Assessment\n",
      "under Section II – Additional Coverages;\n",
      "b. Under any contract or agreement enteredinto by an \"insured\". However, this exclusion does not apply to written contracts:\n",
      "(1) That directly relate to the ownership,maintenance or use of an \"insured location\"; or\n",
      "(2) Where the liability of others is assumedby you prior to an \"occurrence\";\n",
      "unless excluded in a. above or elsewhere in\n",
      "this policy;\n",
      "2. \"Property damage\" to property owned by an\"insured\". This includes costs or expenses incurred by an \"insured\" or others to repair, replace, enhance, restore or maintain such property to prevent injury to a person or damage toproperty of others, whether on or away from an\"insured location\";\n",
      "3. \"Property damage\" to property rented to, occupied or used by or in the care of an \"insured\". This exclusion does not apply to \"propertydamage\" caused by fire, smoke or explosion;\n",
      "4. \"Bodily injury\" to any person eligible to receiveany benefits voluntarily provided or required tobe provided by an \"insured\" under any:\n",
      "a. Workers' compensation law;b. Nonoccupational disability law; or\n",
      "c. Occupational disease law;\n",
      "5. \"Bodily injury\" or \"property damage\" for which\n",
      "an \"insured\" under this policy:\n",
      "a. Is also an insured under a nuclear energyliability policy issued by the:\n",
      "(1) Nuclear Energy Liability Insurance Association;\n",
      "(2) Mutual Atomic Energy Liability Underwriters;\n",
      "(3) Nuclear Insurance Association of Canada;\n",
      "or any of their successors; or\n",
      "b. Would be an insured under such a policybut for the exhaustion of its limit of liability;or\n",
      "6. \"Bodily injury\" to you or an \"insured\" as definedunder Definitions 5. a. or b.\n",
      "This exclusion also applies to any claim madeor suit brought against you or an \"insured\":\n",
      "a. To repay; or\n",
      "b. Share damages with;\n",
      "another person who may be obligated to paydamages because of \"bodily injury\" to an \"insured\".\n",
      "G. Coverage F – Medical Payments To Others\n",
      "Coverage F does not apply to \"bodily injury\":\n",
      "1. To a \"residence employee\" if the \"bodily injury\":\n",
      "a. Occurs off the \"insured location\"; and\n",
      "b. Does not arise out of or in the course of the\"residence employee's\" employment by an\"insured\";\n",
      "2. To any person eligible to receive benefits voluntarily provided or required to be provided under any:\n",
      "a. Workers' compensation law;\n",
      "b. Nonoccupational disability law; or\n",
      "c. Occupational disease law;\n",
      "3. From any:\n",
      "a. Nuclear reaction;\n",
      "b. Nuclear radiation; or\n",
      "c. Radioactive contamination;\n",
      "all whether controlled or uncontrolled or however caused; or\n",
      "d. Any consequence of any of these; or\n",
      "4. To any person, other than a \"residence employee\" of an \"insured\", regularly residing onany part of the \"insured location\". SECTION II – ADDITIONAL COVERAGES\n",
      "We cover the following in addition to the limits of\n",
      "liability:\n",
      "A. Claim Expenses\n",
      "We pay:\n",
      "1. Expenses we incur and costs taxed against an\n",
      "\"insured\" in any suit we defend;\n",
      "2. Premiums on bonds required in a suit we defend, but not for bond amounts more than theCoverage E limit of liability. We need not apply\n",
      "for or furnish any bond;\n",
      "3. Reasonable expenses incurred by an \"insured\"at our request, including actual loss of earnings (but not loss of other income) up to $250 perday, for assisting us in the investigation or defense of a claim or suit; and\n",
      "4. Interest on the entire judgment which accruesafter entry of the judgment and before we payor tender, or deposit in court that part of thejudgment which does not exceed the limit of liability that applies.\n",
      "B. First Aid Expenses\n",
      "We will pay expenses for first aid to others incurred by an \"insured\" for \"bodily injury\" coveredunder this policy. We will not pay for first aid to an\"insured\".\n",
      "C. Damage To Property Of Others\n",
      "1. We will pay, at replacement cost, up to $1,000per \"occurrence\" for \"property damage\" toproperty of others caused by an \"insured\".\n",
      "2. We will not pay for \"property damage\":\n",
      "a. To the extent of any amount recoverableunder Section I;\n",
      "b. Caused intentionally by an \"insured\" who is13 years of age or older;\n",
      "c. To property owned by an \"insured\";\n",
      "d. To property owned by or rented to a tenantof an \"insured\" or a resident in your household; or\n",
      "e. Arising out of:\n",
      "(1) A \"business\" engaged in by an \"insured\";\n",
      "(2) Any act or omission in connection with apremises owned, rented or controlled byan \"insured\", other than the \"insured location\"; or\n",
      "(3) The ownership, maintenance, occupancy, operation, use, loading or unloading of aircraft, hovercraft, watercraftor \"motor vehicles\".This exclusion e. (3) does not apply to a\n",
      "\"motor vehicle\" that:\n",
      "(a) Is designed for recreational use off\n",
      "public roads;\n",
      "(b) Is not owned by an \"insured\"; and\n",
      "(c) At the time of the \"occurrence\", isnot required by law, or regulation issued by a government agency, tohave been registered for it to beused on public roads or property.\n",
      "D. Loss Assessment\n",
      "1. We will pay up to $1,000 for your share of lossassessment charged against you, as owner ortenant of the \"residence premises\", during thepolicy period by a corporation or association ofproperty owners, when the assessment ismade as a result of:\n",
      "a. \"Bodily injury\" or \"property damage\" notexcluded from coverage under Section II –\n",
      "Exclusions; or\n",
      "b. Liability for an act of a director, officer ortrustee in the capacity as a director, officeror trustee, provided such person:\n",
      "(1) Is elected by the members of a corporation or association of property owners;and\n",
      "(2) Serves without deriving any incomefrom the exercise of duties which aresolely on behalf of a corporation or association of property owners.\n",
      "2. Paragraph I. Policy Period under Section II –\n",
      "Conditions does not apply to this Loss Assessment Coverage.\n",
      "3. Regardless of the number of assessments, thelimit of $1,000 is the most we will pay for lossarising out of:\n",
      "a. One accident, including continuous or repeated exposure to substantially the samegeneral harmful condition; or\n",
      "b. A covered act of a director, officer or trustee. An act involving more than one director, officer or trustee is considered to be asingle act.\n",
      "4. We do not cover assessments charged againstyou or a corporation or association of propertyowners by any governmental body. SECTION II – CONDITIONS\n",
      "A. Limit Of Liability\n",
      "Our total liability under Coverage E for all dam-\n",
      "ages resulting from any one \"occurrence\" will not\n",
      "be more than the Coverage E limit of liability\n",
      "shown in the Declarations. This limit is the sameregardless of the number of \"insureds\", claimsmade or persons injured. All \"bodily injury\" and\"property damage\" resulting from any one accidentor from continuous or repeated exposure to substantially the same general harmful conditionsshall be considered to be the result of one \"occurrence\".\n",
      "Our total liability under Coverage F for all medical\n",
      "expense payable for \"bodily injury\" to one person\n",
      "as the result of one accident will not be more thanthe Coverage F limit of liability shown in the Decla-\n",
      "rations.\n",
      "B. Severability Of Insurance\n",
      "This insurance applies separately to each \"insured\". This condition will not increase our limit ofliability for any one \"occurrence\".\n",
      "C. Duties After \"Occurrence\"\n",
      "In case of an \"occurrence\", you or another \"insured\" will perform the following duties that apply. We have no duty to provide coverage under thispolicy if your failure to comply with the followingduties is prejudicial to us. You will help us by seeing that these duties are performed:\n",
      "1. Give written notice to us or our agent as soonas is practical, which sets forth:\n",
      "a. The identity of the policy and the \"namedinsured\" shown in the Declarations;\n",
      "b. Reasonably available information on thetime, place and circumstances of the \"occurrence\"; and\n",
      "c. Names and addresses of any claimantsand witnesses;\n",
      "2. Cooperate with us in the investigation, settlement or defense of any claim or suit;\n",
      "3. Promptly forward to us every notice, demand,summons or other process relating to the \"occurrence\";\n",
      "4. At our request, help us:\n",
      "a. To make settlement;\n",
      "b. To enforce any right of contribution or indemnity against any person or organizationwho may be liable to an \"insured\";c. With the conduct of suits and attend hear-\n",
      "ings and trials; and\n",
      "d. To secure and give evidence and obtain theattendance of witnesses;\n",
      "5. With respect to C. Damage To Property Of\n",
      "Others under Section II – Additional Cover-\n",
      "ages, submit to us within 60 days after theloss, a sworn statement of loss and show thedamaged property, if in an \"insured's\" control;\n",
      "6. No \"insured\" shall, except at such \"insured's\"own cost, voluntarily make payment, assumeobligation or incur expense other than for firstaid to others at the time of the \"bodily injury\".\n",
      "D. Duties Of An Injured Person – Coverage F –\n",
      "Medical Payments To Others\n",
      "1. The injured person or someone acting for theinjured person will:\n",
      "a. Give us written proof of claim, under oath ifrequired, as soon as is practical; and\n",
      "b. Authorize us to obtain copies of medicalreports and records.\n",
      "2. The injured person will submit to a physicalexam by a doctor of our choice when and asoften as we reasonably require.\n",
      "E. Payment Of Claim – Coverage F – Medical\n",
      "Payments To Others\n",
      "Payment under this coverage is not an admission\n",
      "of liability by an \"insured\" or us.\n",
      "F. Suit Against Us\n",
      "1. No action can be brought against us unless\n",
      "there has been full compliance with all of theterms under this Section II.\n",
      "2. No one will have the right to join us as a partyto any action against an \"insured\".\n",
      "3. Also, no action with respect to Coverage E can\n",
      "be brought against us until the obligation ofsuch \"insured\" has been determined by finaljudgment or agreement signed by us.\n",
      "G. Bankruptcy Of An \"Insured\"\n",
      "Bankruptcy or insolvency of an \"insured\" will notrelieve us of our obligations under this policy.\n",
      "H. Other Insurance\n",
      "This insurance is excess over other valid and collectible insurance except insurance written specifically to cover as excess over the limits of liabilitythat apply in this policy.\n",
      "I. Policy Period\n",
      "This policy applies only to \"bodily injury\" or \"property damage\" which occurs during the policy period. J. Concealment Or Fraud\n",
      "We do not provide coverage to an \"insured\" who,whether before or after a loss, has:\n",
      "1. Intentionally concealed or misrepresented anymaterial fact or circumstance;\n",
      "2. Engaged in fraudulent conduct; or\n",
      "3. Made false statements;\n",
      "relating to this insurance.\n",
      "SECTIONS I AND II – CONDITIONS\n",
      "A. Liberalization Clause\n",
      "If we make a change which broadens coverage\n",
      "under this edition of our policy without additionalpremium charge, that change will automaticallyapply to your insurance as of the date we implement the change in your state, provided that thisimplementation date falls within 60 days prior to orduring the policy period stated in the Declarations.\n",
      "This Liberalization Clause does not apply to\n",
      "changes implemented with a general program revision that includes both broadenings and restrictions in coverage, whether that general programrevision is implemented through introduction of:\n",
      "1. A subsequent edition of this policy; or\n",
      "2. An amendatory endorsement.\n",
      "B. Waiver Or Change Of Policy Provisions\n",
      "A waiver or change of a provision of this policymust be in writing by us to be valid. Our requestfor an appraisal or examination will not waive anyof our rights.\n",
      "C. Cancellation\n",
      "1. You may cancel this policy at any time by returning it to us or by letting us know in writing ofthe date cancellation is to take effect .\n",
      "2. We may cancel this policy only for the reasonsstated below by letting you know in writing ofthe date cancellation takes effect. This cancellation notice may be delivered to you, ormailed to you at your mailing address shown inthe Declarations. Proof of mailing will be sufficient proof of notice.\n",
      "a. When you have not paid the premium, wemay cancel at any time by letting you knowat least 10 days before the date cancellation takes effect.\n",
      "b. When this policy has been in effect for lessthan 60 days and is not a renewal with us,we may cancel for any reason by letting youknow at least 10 days before the date cancellation takes effect.c. When this policy has been in effect for 60\n",
      "days or more, or at any time if it is a renewal with us, we may cancel:\n",
      "(1) If there has been a material misrepresentation of fact which if known to uswould have caused us not to issue thepolicy; or\n",
      "(2) If the risk has changed substantiallysince the policy was issued.\n",
      "This can be done by letting you know atleast 30 days before the date cancellationtakes effect.\n",
      "d. When this policy is written for a period ofmore than one year, we may cancel for anyreason at anniversary by letting you know atleast 30 days before the date cancellationtakes effect.\n",
      "3. When this policy is canceled, the premium forthe period from the date of cancellation to theexpiration date will be refunded pro rata.\n",
      "4. If the return premium is not refunded with the\n",
      "notice of cancellation or when this policy is returned to us, we will refund it within a reasonable time after the date cancellation takes effect.\n",
      "D. Nonrenewal\n",
      "We may elect not to renew this policy. We may doso by delivering to you, or mailing to you at yourmailing address shown in the Declarations, writtennotice at least 30 days before the expiration dateof this policy. Proof of mailing will be sufficientproof of notice. E. Assignment\n",
      "Assignment of this policy will not be valid unlesswe give our written consent.\n",
      "F. Subrogation\n",
      "An \"insured\" may waive in writing before a loss allrights of recovery against any person. If notwaived, we may require an assignment of rights ofrecovery for a loss to the extent that payment ismade by us.\n",
      "If an assignment is sought, an \"insured\" must sign\n",
      "and deliver all related papers and cooperate withus.\n",
      "Subrogation does not apply to Coverage F or\n",
      "Paragraph C. Damage To Property Of Others un-\n",
      "der Section II – Additional Coverages.\n",
      "G. Death\n",
      "If any person named in the Declarations or the\n",
      "spouse, if a resident of the same household, dies,the following apply:\n",
      "1. We insure the legal representative of the deceased but only with respect to the premisesand property of the deceased covered underthe policy at the time of death; and\n",
      "2. \"Insured\" includes:\n",
      "a. An \"insured\" who is a member of yourhousehold at the time of your death, butonly while a resident of the \"residencepremises\"; and\n",
      "b. With respect to your property, the person\n",
      "having proper temporary custody of theproperty until appointment and qualificationof a legal representative.\n"
     ]
    }
   ],
   "source": [
    "print(ho3_document[0].get_content())"
   ]
  },
  {
   "cell_type": "code",
   "execution_count": 10,
   "metadata": {},
   "outputs": [],
   "source": [
    "from llama_index.langchain_helpers.text_splitter import SentenceSplitter\n",
    "from llama_index import ServiceContext, set_global_service_context\n",
    "from llama_index.llms import OpenAI\n",
    "from llama_index.embeddings import OpenAIEmbedding\n",
    "from llama_index.node_parser import SimpleNodeParser\n",
    "\n",
    "text_splitter = SentenceSplitter(\n",
    "  chunk_size=512,\n",
    "  chunk_overlap=0,\n",
    ")\n",
    "\n",
    "node_parser = SimpleNodeParser(\n",
    "    text_splitter=text_splitter,\n",
    ")\n",
    "\n",
    "llm = OpenAI(temperature=0, model=\"gpt-3.5-turbo\")\n",
    "embed_model = OpenAIEmbedding()\n",
    "\n",
    "service_context = ServiceContext.from_defaults(\n",
    "    llm=llm,\n",
    "    node_parser=node_parser,\n",
    "    embed_model=embed_model\n",
    "    )\n"
   ]
  },
  {
   "cell_type": "code",
   "execution_count": 11,
   "metadata": {},
   "outputs": [],
   "source": [
    "usage = Usage()"
   ]
  },
  {
   "cell_type": "code",
   "execution_count": 12,
   "metadata": {},
   "outputs": [],
   "source": [
    "# Parse the doc\n",
    "ho3_nodes = node_parser.get_nodes_from_documents(ho3_document)"
   ]
  },
  {
   "cell_type": "code",
   "execution_count": 13,
   "metadata": {},
   "outputs": [
    {
     "name": "stdout",
     "output_type": "stream",
     "text": [
      "[]\n"
     ]
    }
   ],
   "source": [
    "print(usage.get())"
   ]
  },
  {
   "cell_type": "code",
   "execution_count": 14,
   "metadata": {},
   "outputs": [
    {
     "data": {
      "text/plain": [
       "0"
      ]
     },
     "execution_count": 14,
     "metadata": {},
     "output_type": "execute_result"
    }
   ],
   "source": [
    "usage.total_tokens()"
   ]
  },
  {
   "cell_type": "code",
   "execution_count": 15,
   "metadata": {},
   "outputs": [
    {
     "data": {
      "text/plain": [
       "38"
      ]
     },
     "execution_count": 15,
     "metadata": {},
     "output_type": "execute_result"
    }
   ],
   "source": [
    "len(ho3_nodes)"
   ]
  },
  {
   "cell_type": "code",
   "execution_count": 16,
   "metadata": {},
   "outputs": [
    {
     "data": {
      "text/plain": [
       "TextNode(id_='1bd09902-1f3f-433f-bb48-7d8ca75a9519', embedding=None, metadata={'Document Name': 'HO3 Sample Policy', 'Category': \"Homeowner's Insurance\"}, excluded_embed_metadata_keys=[], excluded_llm_metadata_keys=[], relationships={<NodeRelationship.SOURCE: '1'>: RelatedNodeInfo(node_id='HO3_sample.pdf', node_type=None, metadata={'Document Name': 'HO3 Sample Policy', 'Category': \"Homeowner's Insurance\"}, hash='624273b341f24db10da48b854351ea5645ddd6e5fc71c5f4ba9c2faf8fb33a3b'), <NodeRelationship.NEXT: '3'>: RelatedNodeInfo(node_id='8bcb35a3-94ea-4346-84a0-3ceae62dceda', node_type=None, metadata={'Document Name': 'HO3 Sample Policy', 'Category': \"Homeowner's Insurance\"}, hash='0eb5badc2e0a307322938347531fd6ad5274dc662a3876b78ac8fb1016f9bf59')}, hash='a73b8c34016dac3abb192a2a48876123f110ac0b67db90b7ce386332e2864db0', text='AGREEMENT\\nWe will provide the insurance described in this policy\\nin return for the premium and compliance with allapplicable provisions of this policy.\\nDEFINITIONS\\nA. In this policy, \"you\" and \"your\" refer to the \"named\\ninsured\" shown in the Declarations and the spouseif a resident of the same household. \"We\", \"us\"and \"our\" refer to the Company providing this insurance.\\nB. In addition, certain words and phrases are definedas follows:\\n1. \"Aircraft Liability\", \"Hovercraft Liability\", \"Motor\\nVehicle Liability\" and \"Watercraft Liability\",subject to the provisions in b. below, mean the\\nfollowing:\\na. Liability for \"bodily injury\" or \"property damage\" arising out of the:\\n(1) Ownership of such vehicle or craft by an\"insured\";\\n(2) Maintenance, occupancy, operation,use, loading or unloading of such vehicle or craft by any person;\\n(3) Entrustment of such vehicle or craft byan \"insured\" to any person;\\n(4) Failure to supervise or negligent supervision of any person involving such vehicle or craft by an \"insured\"; or\\n(5) Vicarious liability, whether or not imposed by law, for the actions of a childor minor involving such vehicle or craft.\\nb. For the purpose of this definition:\\n(1) Aircraft means any contrivance used ordesigned for flight except model orhobby aircraft not used or designed tocarry people or cargo;\\n(2) Hovercraft means a selfpropelled motorized ground effect vehicle and includes, but is not limited to, flarecraftand air cushion vehicles;\\n(3) Watercraft means a craft principallydesigned to be propelled on or in waterby wind, engine power or electric motor;and\\n(4) Motor vehicle means a \"motor vehicle\"as defined in 7. below. 2. \"Bodily injury\" means bodily harm, sickness ordisease, including required care, loss of services and death that results.\\n3. \"Business\" means:\\na. A trade, profession or occupation engagedin on a fulltime, parttime or occasional basis; or\\nb. Any other activity engaged in for money orother compensation, except the following:\\n(1) One or more activities,', start_char_idx=None, end_char_idx=None, text_template='{metadata_str}\\n\\n{content}', metadata_template='{key}: {value}', metadata_seperator='\\n')"
      ]
     },
     "execution_count": 16,
     "metadata": {},
     "output_type": "execute_result"
    }
   ],
   "source": [
    "ho3_nodes[0]"
   ]
  },
  {
   "cell_type": "markdown",
   "metadata": {},
   "source": [
    "## The following code adds page numbers back to each node\n",
    "* Chunks can span multiple pages"
   ]
  },
  {
   "cell_type": "code",
   "execution_count": 17,
   "metadata": {},
   "outputs": [],
   "source": [
    "def identify_original_documents(documents, chunks):\n",
    "    \"\"\"\n",
    "    This function identifies the original document(s) each chunk came from.\n",
    "    Args:\n",
    "    documents: A list of original documents.\n",
    "    chunks: A list of text chunks.\n",
    "    Returns:\n",
    "    chunks: The provided chunks with appended page info.\n",
    "    \"\"\"\n",
    "    # Combine all documents into a single string and track their ranges.\n",
    "    long_string = \"\"\n",
    "    pages_dict = {}\n",
    "    for i, doc in enumerate(documents):\n",
    "        start = len(long_string)\n",
    "        long_string += doc.text\n",
    "        end = len(long_string)\n",
    "        pages_dict[i] = (start, end)\n",
    "\n",
    "    # Identify the original document(s) for each chunk.\n",
    "    for i, chunk in enumerate(chunks):\n",
    "        chunk_start = long_string.find(chunk.text)\n",
    "        chunk_end = chunk_start + len(chunk.text)\n",
    "        pages = []\n",
    "        for doc_number, (doc_start, doc_end) in pages_dict.items():\n",
    "            if (chunk_start >= doc_start and chunk_start < doc_end) or (chunk_end > doc_start and chunk_end <= doc_end):\n",
    "                pages.append(doc_number + 1)\n",
    "        # Update existing metadata dictionary\n",
    "        chunk.metadata.update({'pages': '-'.join(map(str, pages))})\n",
    "\n",
    "    return chunks\n"
   ]
  },
  {
   "cell_type": "code",
   "execution_count": 18,
   "metadata": {},
   "outputs": [],
   "source": [
    "# Running the function\n",
    "nodes_with_pages = identify_original_documents(documents_ho3, ho3_nodes)"
   ]
  },
  {
   "cell_type": "code",
   "execution_count": 19,
   "metadata": {},
   "outputs": [],
   "source": [
    "new_nodes = []\n",
    "\n",
    "for node in nodes_with_pages:\n",
    "    node.id_ = f\"{node.metadata['Document Name']} | Pages: {node.metadata['pages']}\"\n",
    "    new_nodes.append(node)"
   ]
  },
  {
   "cell_type": "code",
   "execution_count": 20,
   "metadata": {},
   "outputs": [
    {
     "data": {
      "text/plain": [
       "TextNode(id_='HO3 Sample Policy | Pages: 1', embedding=None, metadata={'Document Name': 'HO3 Sample Policy', 'Category': \"Homeowner's Insurance\", 'pages': '1'}, excluded_embed_metadata_keys=[], excluded_llm_metadata_keys=[], relationships={<NodeRelationship.SOURCE: '1'>: RelatedNodeInfo(node_id='HO3_sample.pdf', node_type=None, metadata={'Document Name': 'HO3 Sample Policy', 'Category': \"Homeowner's Insurance\"}, hash='624273b341f24db10da48b854351ea5645ddd6e5fc71c5f4ba9c2faf8fb33a3b'), <NodeRelationship.NEXT: '3'>: RelatedNodeInfo(node_id='8bcb35a3-94ea-4346-84a0-3ceae62dceda', node_type=None, metadata={'Document Name': 'HO3 Sample Policy', 'Category': \"Homeowner's Insurance\"}, hash='0eb5badc2e0a307322938347531fd6ad5274dc662a3876b78ac8fb1016f9bf59')}, hash='a73b8c34016dac3abb192a2a48876123f110ac0b67db90b7ce386332e2864db0', text='AGREEMENT\\nWe will provide the insurance described in this policy\\nin return for the premium and compliance with allapplicable provisions of this policy.\\nDEFINITIONS\\nA. In this policy, \"you\" and \"your\" refer to the \"named\\ninsured\" shown in the Declarations and the spouseif a resident of the same household. \"We\", \"us\"and \"our\" refer to the Company providing this insurance.\\nB. In addition, certain words and phrases are definedas follows:\\n1. \"Aircraft Liability\", \"Hovercraft Liability\", \"Motor\\nVehicle Liability\" and \"Watercraft Liability\",subject to the provisions in b. below, mean the\\nfollowing:\\na. Liability for \"bodily injury\" or \"property damage\" arising out of the:\\n(1) Ownership of such vehicle or craft by an\"insured\";\\n(2) Maintenance, occupancy, operation,use, loading or unloading of such vehicle or craft by any person;\\n(3) Entrustment of such vehicle or craft byan \"insured\" to any person;\\n(4) Failure to supervise or negligent supervision of any person involving such vehicle or craft by an \"insured\"; or\\n(5) Vicarious liability, whether or not imposed by law, for the actions of a childor minor involving such vehicle or craft.\\nb. For the purpose of this definition:\\n(1) Aircraft means any contrivance used ordesigned for flight except model orhobby aircraft not used or designed tocarry people or cargo;\\n(2) Hovercraft means a selfpropelled motorized ground effect vehicle and includes, but is not limited to, flarecraftand air cushion vehicles;\\n(3) Watercraft means a craft principallydesigned to be propelled on or in waterby wind, engine power or electric motor;and\\n(4) Motor vehicle means a \"motor vehicle\"as defined in 7. below. 2. \"Bodily injury\" means bodily harm, sickness ordisease, including required care, loss of services and death that results.\\n3. \"Business\" means:\\na. A trade, profession or occupation engagedin on a fulltime, parttime or occasional basis; or\\nb. Any other activity engaged in for money orother compensation, except the following:\\n(1) One or more activities,', start_char_idx=None, end_char_idx=None, text_template='{metadata_str}\\n\\n{content}', metadata_template='{key}: {value}', metadata_seperator='\\n')"
      ]
     },
     "execution_count": 20,
     "metadata": {},
     "output_type": "execute_result"
    }
   ],
   "source": [
    "new_nodes[0]"
   ]
  },
  {
   "cell_type": "code",
   "execution_count": 21,
   "metadata": {},
   "outputs": [
    {
     "name": "stdout",
     "output_type": "stream",
     "text": [
      "LLM sees:\n",
      " Document Name: HO3 Sample Policy\n",
      "Category: Homeowner's Insurance\n",
      "pages: 1\n",
      "\n",
      "AGREEMENT\n",
      "We will provide the insurance described in this policy\n",
      "in return for the premium and compliance with allapplicable provisions of this policy.\n",
      "DEFINITIONS\n",
      "A. In this policy, \"you\" and \"your\" refer to the \"named\n",
      "insured\" shown in the Declarations and the spouseif a resident of the same household. \"We\", \"us\"and \"our\" refer to the Company providing this insurance.\n",
      "B. In addition, certain words and phrases are definedas follows:\n",
      "1. \"Aircraft Liability\", \"Hovercraft Liability\", \"Motor\n",
      "Vehicle Liability\" and \"Watercraft Liability\",subject to the provisions in b. below, mean the\n",
      "following:\n",
      "a. Liability for \"bodily injury\" or \"property damage\" arising out of the:\n",
      "(1) Ownership of such vehicle or craft by an\"insured\";\n",
      "(2) Maintenance, occupancy, operation,use, loading or unloading of such vehicle or craft by any person;\n",
      "(3) Entrustment of such vehicle or craft byan \"insured\" to any person;\n",
      "(4) Failure to supervise or negligent supervision of any person involving such vehicle or craft by an \"insured\"; or\n",
      "(5) Vicarious liability, whether or not imposed by law, for the actions of a childor minor involving such vehicle or craft.\n",
      "b. For the purpose of this definition:\n",
      "(1) Aircraft means any contrivance used ordesigned for flight except model orhobby aircraft not used or designed tocarry people or cargo;\n",
      "(2) Hovercraft means a selfpropelled motorized ground effect vehicle and includes, but is not limited to, flarecraftand air cushion vehicles;\n",
      "(3) Watercraft means a craft principallydesigned to be propelled on or in waterby wind, engine power or electric motor;and\n",
      "(4) Motor vehicle means a \"motor vehicle\"as defined in 7. below. 2. \"Bodily injury\" means bodily harm, sickness ordisease, including required care, loss of services and death that results.\n",
      "3. \"Business\" means:\n",
      "a. A trade, profession or occupation engagedin on a fulltime, parttime or occasional basis; or\n",
      "b. Any other activity engaged in for money orother compensation, except the following:\n",
      "(1) One or more activities,\n"
     ]
    }
   ],
   "source": [
    "from llama_index.schema import MetadataMode\n",
    "\n",
    "print(\n",
    "    \"LLM sees:\\n\",\n",
    "    new_nodes[0].get_content(metadata_mode=MetadataMode.LLM),\n",
    ")"
   ]
  },
  {
   "cell_type": "code",
   "execution_count": 22,
   "metadata": {},
   "outputs": [
    {
     "name": "stdout",
     "output_type": "stream",
     "text": [
      "Embeddings model sees:\n",
      " Document Name: HO3 Sample Policy\n",
      "Category: Homeowner's Insurance\n",
      "pages: 1\n",
      "\n",
      "AGREEMENT\n",
      "We will provide the insurance described in this policy\n",
      "in return for the premium and compliance with allapplicable provisions of this policy.\n",
      "DEFINITIONS\n",
      "A. In this policy, \"you\" and \"your\" refer to the \"named\n",
      "insured\" shown in the Declarations and the spouseif a resident of the same household. \"We\", \"us\"and \"our\" refer to the Company providing this insurance.\n",
      "B. In addition, certain words and phrases are definedas follows:\n",
      "1. \"Aircraft Liability\", \"Hovercraft Liability\", \"Motor\n",
      "Vehicle Liability\" and \"Watercraft Liability\",subject to the provisions in b. below, mean the\n",
      "following:\n",
      "a. Liability for \"bodily injury\" or \"property damage\" arising out of the:\n",
      "(1) Ownership of such vehicle or craft by an\"insured\";\n",
      "(2) Maintenance, occupancy, operation,use, loading or unloading of such vehicle or craft by any person;\n",
      "(3) Entrustment of such vehicle or craft byan \"insured\" to any person;\n",
      "(4) Failure to supervise or negligent supervision of any person involving such vehicle or craft by an \"insured\"; or\n",
      "(5) Vicarious liability, whether or not imposed by law, for the actions of a childor minor involving such vehicle or craft.\n",
      "b. For the purpose of this definition:\n",
      "(1) Aircraft means any contrivance used ordesigned for flight except model orhobby aircraft not used or designed tocarry people or cargo;\n",
      "(2) Hovercraft means a selfpropelled motorized ground effect vehicle and includes, but is not limited to, flarecraftand air cushion vehicles;\n",
      "(3) Watercraft means a craft principallydesigned to be propelled on or in waterby wind, engine power or electric motor;and\n",
      "(4) Motor vehicle means a \"motor vehicle\"as defined in 7. below. 2. \"Bodily injury\" means bodily harm, sickness ordisease, including required care, loss of services and death that results.\n",
      "3. \"Business\" means:\n",
      "a. A trade, profession or occupation engagedin on a fulltime, parttime or occasional basis; or\n",
      "b. Any other activity engaged in for money orother compensation, except the following:\n",
      "(1) One or more activities,\n"
     ]
    },
    {
     "data": {
      "text/plain": [
       "(None,)"
      ]
     },
     "execution_count": 22,
     "metadata": {},
     "output_type": "execute_result"
    }
   ],
   "source": [
    "print(\n",
    "    \"Embeddings model sees:\\n\",\n",
    "    new_nodes[0].get_content(metadata_mode=MetadataMode.EMBED)),"
   ]
  },
  {
   "cell_type": "code",
   "execution_count": 23,
   "metadata": {},
   "outputs": [
    {
     "name": "stdout",
     "output_type": "stream",
     "text": [
      "Document Name: HO3 Sample Policy\n",
      "Category: Homeowner's Insurance\n",
      "pages: 1-2\n"
     ]
    }
   ],
   "source": [
    "print(new_nodes[1].get_metadata_str())"
   ]
  },
  {
   "cell_type": "code",
   "execution_count": 59,
   "metadata": {},
   "outputs": [
    {
     "ename": "AttributeError",
     "evalue": "'TextNode' object has no attribute 'to_langchain_format'",
     "output_type": "error",
     "traceback": [
      "\u001b[1;31m---------------------------------------------------------------------------\u001b[0m",
      "\u001b[1;31mAttributeError\u001b[0m                            Traceback (most recent call last)",
      "Cell \u001b[1;32mIn[59], line 3\u001b[0m\n\u001b[0;32m      1\u001b[0m \u001b[39mfrom\u001b[39;00m \u001b[39mllama_index\u001b[39;00m\u001b[39m.\u001b[39;00m\u001b[39mschema\u001b[39;00m \u001b[39mimport\u001b[39;00m TextNode\n\u001b[1;32m----> 3\u001b[0m test \u001b[39m=\u001b[39m new_nodes[\u001b[39m0\u001b[39;49m]\u001b[39m.\u001b[39;49mto_langchain_format\n",
      "\u001b[1;31mAttributeError\u001b[0m: 'TextNode' object has no attribute 'to_langchain_format'"
     ]
    }
   ],
   "source": [
    "from llama_index.schema import TextNode\n",
    "\n",
    "test = new_nodes[0].to_langchain_format"
   ]
  },
  {
   "cell_type": "code",
   "execution_count": 24,
   "metadata": {},
   "outputs": [],
   "source": [
    "from llama_index import VectorStoreIndex\n",
    "\n",
    "index = VectorStoreIndex(new_nodes, service_context=service_context)\n",
    "engine = index.as_query_engine(similarity_top_k=10)\n"
   ]
  },
  {
   "cell_type": "code",
   "execution_count": 25,
   "metadata": {},
   "outputs": [],
   "source": [
    "from llama_index.indices.postprocessor import LLMRerank\n",
    "\n",
    "reranker = LLMRerank(choice_batch_size=10, top_n=4)"
   ]
  },
  {
   "cell_type": "code",
   "execution_count": 26,
   "metadata": {},
   "outputs": [],
   "source": [
    "rerank_engine = index.as_query_engine(\n",
    "    node_postprocessors=[reranker], service_context=service_context)"
   ]
  },
  {
   "cell_type": "code",
   "execution_count": 27,
   "metadata": {},
   "outputs": [],
   "source": [
    "from llama_index.question_gen.llm_generators import LLMQuestionGenerator\n",
    "from llama_index.question_gen.prompts import DEFAULT_SUB_QUESTION_PROMPT_TMPL\n",
    "\n",
    "question_gen = LLMQuestionGenerator.from_defaults(\n",
    "    prompt_template_str=\"\"\"\n",
    "        Follow the example, but instead of giving a question, always prefix the question \n",
    "        with: 'By first identifying and quoting the most relevant sources, '. \n",
    "        \"\"\"\n",
    "    + DEFAULT_SUB_QUESTION_PROMPT_TMPL,\n",
    ")"
   ]
  },
  {
   "cell_type": "code",
   "execution_count": 28,
   "metadata": {},
   "outputs": [],
   "source": [
    "from llama_index.query_engine import SubQuestionQueryEngine\n",
    "from llama_index.tools import QueryEngineTool, ToolMetadata\n",
    "\n",
    "\n",
    "final_engine = SubQuestionQueryEngine.from_defaults(\n",
    "    query_engine_tools=[\n",
    "        QueryEngineTool(\n",
    "            query_engine=engine,\n",
    "            metadata=ToolMetadata(\n",
    "                name=\"homeowners_policy_documents\",\n",
    "                description=\"insurance policy contract detailing coverage provisions.\",\n",
    "            ),\n",
    "        )\n",
    "    ],\n",
    "    question_gen=question_gen,\n",
    "    service_context=service_context,\n",
    "    use_async=False,\n",
    ")"
   ]
  },
  {
   "cell_type": "code",
   "execution_count": 29,
   "metadata": {},
   "outputs": [
    {
     "name": "stdout",
     "output_type": "stream",
     "text": [
      "Generated 2 sub questions.\n",
      "\u001b[36;1m\u001b[1;3m[homeowners_policy_documents] Q: By first identifying and quoting the most relevant sources, what does the homeowners policy document say about water damage for dwelling damage?\n",
      "\u001b[0m\u001b[36;1m\u001b[1;3m[homeowners_policy_documents] A: According to the HO3 Sample Policy document, under Section I - Exclusion A. 3. Water Damage, it states that \"Paragraphs a. and c. that apply to surface water and water below the surface of the ground do not apply to loss by water covered under c. (5) and (6) above.\" This means that water damage resulting from an accidental discharge or overflow of water or steam from within a storm drain, water, steam or sewer pipe, plumbing, heating, air conditioning or automatic fire protective sprinkler system, or household appliance on the \"residence premises\" is covered, unless otherwise excluded.\n",
      "\u001b[0m\u001b[33;1m\u001b[1;3m[homeowners_policy_documents] Q: By first identifying and quoting the most relevant sources, what does the homeowners policy document say about water damage for personal property damage?\n",
      "\u001b[0m\u001b[33;1m\u001b[1;3m[homeowners_policy_documents] A: According to the HO3 Sample Policy document, water damage to personal property is covered under certain conditions. Specifically, under Section I - Exclusion A. 3. Water Damage, it states that paragraphs a. and c. that apply to surface water and water below the surface of the ground do not apply to loss by water covered under c. (5) and (6) above. This means that water damage caused by an accidental discharge or overflow of water or steam from within certain specified systems or appliances is covered. However, it is important to note that the policy does not cover the repair or replacement of the system or appliance from which the water or steam escaped.\n",
      "\u001b[0mThe policy addresses water damage for dwelling damage by stating that water damage resulting from an accidental discharge or overflow of water or steam from specified systems or appliances is covered, unless otherwise excluded. This means that water damage caused by these incidents is covered under the policy.\n",
      "\n",
      "For personal property damage, the policy also covers water damage under certain conditions. It states that water damage caused by an accidental discharge or overflow of water or steam from specified systems or appliances is covered. However, it is important to note that the policy does not cover the repair or replacement of the system or appliance from which the water or steam escaped.\n"
     ]
    }
   ],
   "source": [
    "response = final_engine.query(\n",
    "    \"\"\"\n",
    "    How does the policy addresses water damage for dwelling damage and personal property damage?\n",
    "    \"\"\"\n",
    ")\n",
    "print(response.response)"
   ]
  },
  {
   "cell_type": "code",
   "execution_count": 30,
   "metadata": {},
   "outputs": [
    {
     "data": {
      "text/markdown": [
       "The policy addresses water damage for dwelling damage by stating that water damage resulting from an accidental discharge or overflow of water or steam from specified systems or appliances is covered, unless otherwise excluded. This means that water damage caused by these incidents is covered under the policy.\n",
       "\n",
       "For personal property damage, the policy also covers water damage under certain conditions. It states that water damage caused by an accidental discharge or overflow of water or steam from specified systems or appliances is covered. However, it is important to note that the policy does not cover the repair or replacement of the system or appliance from which the water or steam escaped."
      ],
      "text/plain": [
       "<IPython.core.display.Markdown object>"
      ]
     },
     "execution_count": 30,
     "metadata": {},
     "output_type": "execute_result"
    }
   ],
   "source": [
    "from IPython.display import Markdown\n",
    "\n",
    "Markdown(f\"{response}\")"
   ]
  },
  {
   "cell_type": "code",
   "execution_count": 31,
   "metadata": {},
   "outputs": [
    {
     "data": {
      "text/markdown": [
       "Sub question: By first identifying and quoting the most relevant sources, what does the homeowners policy document say about water damage for dwelling damage?\n",
       "Response: According to the HO3 Sample Policy document, under Section I - Exclusion A. 3. Water Damage, it states that \"Paragraphs a. and c. that apply to surface water and water below the surface of the ground do not apply to loss by water covered under c. (5) and (6) above.\" This means that water damage resulting from an accidental discharge or overflow of water or steam from within a storm drain, water, steam or sewer pipe, plumbing, heating, air conditioning or automatic fire protective sprinkler system, or household appliance on the \"residence premises\" is covered, unless otherwise excluded."
      ],
      "text/plain": [
       "<IPython.core.display.Markdown object>"
      ]
     },
     "execution_count": 31,
     "metadata": {},
     "output_type": "execute_result"
    }
   ],
   "source": [
    "Markdown(f\"{response.source_nodes[0].node.text}\")"
   ]
  },
  {
   "cell_type": "code",
   "execution_count": 32,
   "metadata": {},
   "outputs": [
    {
     "data": {
      "text/markdown": [
       "Sub question: By first identifying and quoting the most relevant sources, what does the homeowners policy document say about water damage for personal property damage?\n",
       "Response: According to the HO3 Sample Policy document, water damage to personal property is covered under certain conditions. Specifically, under Section I - Exclusion A. 3. Water Damage, it states that paragraphs a. and c. that apply to surface water and water below the surface of the ground do not apply to loss by water covered under c. (5) and (6) above. This means that water damage caused by an accidental discharge or overflow of water or steam from within certain specified systems or appliances is covered. However, it is important to note that the policy does not cover the repair or replacement of the system or appliance from which the water or steam escaped."
      ],
      "text/plain": [
       "<IPython.core.display.Markdown object>"
      ]
     },
     "execution_count": 32,
     "metadata": {},
     "output_type": "execute_result"
    }
   ],
   "source": [
    "Markdown(f\"{response.source_nodes[1].node.text}\")"
   ]
  },
  {
   "cell_type": "code",
   "execution_count": 33,
   "metadata": {},
   "outputs": [
    {
     "name": "stdout",
     "output_type": "stream",
     "text": [
      "Generated 2 sub questions.\n",
      "\u001b[36;1m\u001b[1;3m[homeowners_policy_documents] Q: By first identifying and quoting the most relevant sources, what does the policy say about water damage for dwelling damage?\n",
      "\u001b[0m\u001b[36;1m\u001b[1;3m[homeowners_policy_documents] A: According to the policy, water damage to the dwelling is covered under certain circumstances. Specifically, it states that loss to property covered under Coverage A or B resulting from an accidental discharge or overflow of water or steam from within a storm drain, water, steam or sewer pipe, or plumbing, heating, air conditioning, or automatic fire protective sprinkler system or household appliance on the \"residence premises\" is covered. This coverage includes the cost to tear out and replace any part of a building or other structure on the \"residence premises\" necessary to repair the system or appliance. However, the policy does not cover loss to the system or appliance from which the water or steam escaped. This information is found on pages 7-8 of the HO3 Sample Policy document.\n",
      "\u001b[0m\u001b[33;1m\u001b[1;3m[homeowners_policy_documents] Q: By first identifying and quoting the most relevant sources, what does the policy say about water damage for personal property damage?\n",
      "\u001b[0m\u001b[33;1m\u001b[1;3m[homeowners_policy_documents] A: According to the HO3 Sample Policy, under Coverage C - Personal Property, the policy covers direct physical loss to the property described in Coverage C caused by any of the following perils unless the loss is excluded. One of the perils mentioned is \"Fire Or Lightning.\" However, it specifically states that this peril does not include loss to the property contained in a building caused by rain, snow, sleet, sand, or dust unless the direct force of wind or hail damages the building causing an opening in a roof or wall and the rain, snow, sleet, sand, or dust enters through this opening. This suggests that water damage to personal property is not covered unless it is caused by a covered peril such as wind or hail damaging the building.\n",
      "\u001b[0mThe policy addresses water damage for dwelling damage by covering loss to property resulting from an accidental discharge or overflow of water or steam from within certain systems or appliances on the \"residence premises.\" It also covers the cost to tear out and replace any part of a building or structure necessary for repair. However, it does not cover loss to the system or appliance from which the water or steam escaped.\n",
      "\n",
      "On the other hand, the policy addresses water damage for personal property damage by covering direct physical loss to the property described in Coverage C caused by certain perils, unless the loss is excluded. It specifically mentions that loss to property contained in a building caused by rain, snow, sleet, sand, or dust is not covered, unless the direct force of wind or hail damages the building causing an opening in a roof or wall and the water enters through this opening. This suggests that water damage to personal property is not covered unless it is caused by a covered peril such as wind or hail damaging the building.\n"
     ]
    }
   ],
   "source": [
    "response = final_engine.query(\n",
    "    \"\"\"\n",
    "    What are the differences in how the policy addresses water damage for dwelling damage and personal property damage?\n",
    "    \"\"\"\n",
    ")\n",
    "print(response.response)"
   ]
  },
  {
   "cell_type": "code",
   "execution_count": 34,
   "metadata": {},
   "outputs": [
    {
     "data": {
      "text/markdown": [
       "The policy addresses water damage for dwelling damage by covering loss to property resulting from an accidental discharge or overflow of water or steam from within certain systems or appliances on the \"residence premises.\" It also covers the cost to tear out and replace any part of a building or structure necessary for repair. However, it does not cover loss to the system or appliance from which the water or steam escaped.\n",
       "\n",
       "On the other hand, the policy addresses water damage for personal property damage by covering direct physical loss to the property described in Coverage C caused by certain perils, unless the loss is excluded. It specifically mentions that loss to property contained in a building caused by rain, snow, sleet, sand, or dust is not covered, unless the direct force of wind or hail damages the building causing an opening in a roof or wall and the water enters through this opening. This suggests that water damage to personal property is not covered unless it is caused by a covered peril such as wind or hail damaging the building."
      ],
      "text/plain": [
       "<IPython.core.display.Markdown object>"
      ]
     },
     "execution_count": 34,
     "metadata": {},
     "output_type": "execute_result"
    }
   ],
   "source": [
    "Markdown(f\"{response.response}\")"
   ]
  },
  {
   "cell_type": "code",
   "execution_count": 35,
   "metadata": {},
   "outputs": [
    {
     "data": {
      "text/markdown": [
       "Sub question: By first identifying and quoting the most relevant sources, what does the policy say about water damage for dwelling damage?\n",
       "Response: According to the policy, water damage to the dwelling is covered under certain circumstances. Specifically, it states that loss to property covered under Coverage A or B resulting from an accidental discharge or overflow of water or steam from within a storm drain, water, steam or sewer pipe, or plumbing, heating, air conditioning, or automatic fire protective sprinkler system or household appliance on the \"residence premises\" is covered. This coverage includes the cost to tear out and replace any part of a building or other structure on the \"residence premises\" necessary to repair the system or appliance. However, the policy does not cover loss to the system or appliance from which the water or steam escaped. This information is found on pages 7-8 of the HO3 Sample Policy document."
      ],
      "text/plain": [
       "<IPython.core.display.Markdown object>"
      ]
     },
     "execution_count": 35,
     "metadata": {},
     "output_type": "execute_result"
    }
   ],
   "source": [
    "Markdown(f\"{response.source_nodes[0].node.text}\")"
   ]
  },
  {
   "cell_type": "code",
   "execution_count": 36,
   "metadata": {},
   "outputs": [
    {
     "data": {
      "text/markdown": [
       "Sub question: By first identifying and quoting the most relevant sources, what does the policy say about water damage for personal property damage?\n",
       "Response: According to the HO3 Sample Policy, under Coverage C - Personal Property, the policy covers direct physical loss to the property described in Coverage C caused by any of the following perils unless the loss is excluded. One of the perils mentioned is \"Fire Or Lightning.\" However, it specifically states that this peril does not include loss to the property contained in a building caused by rain, snow, sleet, sand, or dust unless the direct force of wind or hail damages the building causing an opening in a roof or wall and the rain, snow, sleet, sand, or dust enters through this opening. This suggests that water damage to personal property is not covered unless it is caused by a covered peril such as wind or hail damaging the building."
      ],
      "text/plain": [
       "<IPython.core.display.Markdown object>"
      ]
     },
     "execution_count": 36,
     "metadata": {},
     "output_type": "execute_result"
    }
   ],
   "source": [
    "Markdown(f\"{response.source_nodes[1].node.text}\")"
   ]
  },
  {
   "cell_type": "code",
   "execution_count": 37,
   "metadata": {},
   "outputs": [
    {
     "name": "stdout",
     "output_type": "stream",
     "text": [
      "Generated 1 sub questions.\n",
      "\u001b[36;1m\u001b[1;3m[homeowners_policy_documents] Q: By first identifying and quoting the most relevant sources, what are the considerations for determining if the policy does or does not cover damaged caused by collapse?\n",
      "\u001b[0m\u001b[36;1m\u001b[1;3m[homeowners_policy_documents] A: According to the HO3 Sample Policy, the considerations for determining if the policy covers damage caused by collapse are as follows:\n",
      "\n",
      "1. The collapse must be caused by one or more of the Perils Insured Against named under Coverage C.\n",
      "2. Decay or insect or vermin damage that is hidden from view is covered, unless the presence of such decay or damage is known to the insured prior to collapse.\n",
      "3. The weight of contents, equipment, animals, people, or rain that collects on a roof can cause a collapse and would be covered.\n",
      "4. The use of defective material or methods in construction, remodeling, or renovation can cause a collapse, but coverage is only provided if the collapse occurs during the course of the construction, remodeling, or renovation.\n",
      "5. Loss to certain property, such as awnings, fences, patios, decks, swimming pools, etc., is not covered unless it is a direct result of the collapse of a building or any part of a building.\n",
      "\n",
      "Therefore, the policy does cover damage caused by collapse if it meets the specified conditions.\n",
      "\u001b[0mThe considerations for determining if the policy covers damage caused by collapse are as follows:\n",
      "\n",
      "1. The collapse must be caused by one or more of the Perils Insured Against named under Coverage C.\n",
      "2. Decay or insect or vermin damage that is hidden from view is covered, unless the presence of such decay or damage is known to the insured prior to collapse.\n",
      "3. The weight of contents, equipment, animals, people, or rain that collects on a roof can cause a collapse and would be covered.\n",
      "4. The use of defective material or methods in construction, remodeling, or renovation can cause a collapse, but coverage is only provided if the collapse occurs during the course of the construction, remodeling, or renovation.\n",
      "5. Loss to certain property, such as awnings, fences, patios, decks, swimming pools, etc., is not covered unless it is a direct result of the collapse of a building or any part of a building.\n",
      "\n",
      "Therefore, the policy does cover damage caused by collapse if it meets the specified conditions.\n"
     ]
    }
   ],
   "source": [
    "response = final_engine.query(\n",
    "    \"\"\"\n",
    "    What are the considerations for determining if the policy does or does not cover damaged caused by collapse?\n",
    "    \"\"\"\n",
    ")\n",
    "print(response.response)"
   ]
  },
  {
   "cell_type": "code",
   "execution_count": 38,
   "metadata": {},
   "outputs": [
    {
     "data": {
      "text/markdown": [
       "The considerations for determining if the policy covers damage caused by collapse are as follows:\n",
       "\n",
       "1. The collapse must be caused by one or more of the Perils Insured Against named under Coverage C.\n",
       "2. Decay or insect or vermin damage that is hidden from view is covered, unless the presence of such decay or damage is known to the insured prior to collapse.\n",
       "3. The weight of contents, equipment, animals, people, or rain that collects on a roof can cause a collapse and would be covered.\n",
       "4. The use of defective material or methods in construction, remodeling, or renovation can cause a collapse, but coverage is only provided if the collapse occurs during the course of the construction, remodeling, or renovation.\n",
       "5. Loss to certain property, such as awnings, fences, patios, decks, swimming pools, etc., is not covered unless it is a direct result of the collapse of a building or any part of a building.\n",
       "\n",
       "Therefore, the policy does cover damage caused by collapse if it meets the specified conditions."
      ],
      "text/plain": [
       "<IPython.core.display.Markdown object>"
      ]
     },
     "execution_count": 38,
     "metadata": {},
     "output_type": "execute_result"
    }
   ],
   "source": [
    "Markdown(f\"{response.response}\")"
   ]
  },
  {
   "cell_type": "code",
   "execution_count": 39,
   "metadata": {},
   "outputs": [
    {
     "data": {
      "text/markdown": [
       "Sub question: By first identifying and quoting the most relevant sources, what are the considerations for determining if the policy does or does not cover damaged caused by collapse?\n",
       "Response: According to the HO3 Sample Policy, the considerations for determining if the policy covers damage caused by collapse are as follows:\n",
       "\n",
       "1. The collapse must be caused by one or more of the Perils Insured Against named under Coverage C.\n",
       "2. Decay or insect or vermin damage that is hidden from view is covered, unless the presence of such decay or damage is known to the insured prior to collapse.\n",
       "3. The weight of contents, equipment, animals, people, or rain that collects on a roof can cause a collapse and would be covered.\n",
       "4. The use of defective material or methods in construction, remodeling, or renovation can cause a collapse, but coverage is only provided if the collapse occurs during the course of the construction, remodeling, or renovation.\n",
       "5. Loss to certain property, such as awnings, fences, patios, decks, swimming pools, etc., is not covered unless it is a direct result of the collapse of a building or any part of a building.\n",
       "\n",
       "Therefore, the policy does cover damage caused by collapse if it meets the specified conditions."
      ],
      "text/plain": [
       "<IPython.core.display.Markdown object>"
      ]
     },
     "execution_count": 39,
     "metadata": {},
     "output_type": "execute_result"
    }
   ],
   "source": [
    "Markdown(f\"{response.source_nodes[0].node.text}\")"
   ]
  },
  {
   "cell_type": "code",
   "execution_count": null,
   "metadata": {},
   "outputs": [],
   "source": []
  },
  {
   "cell_type": "code",
   "execution_count": 40,
   "metadata": {},
   "outputs": [],
   "source": [
    "from llama_index import Prompt\n",
    "\n",
    "my_qa_template = Prompt(\n",
    "    \"Context information is below.\\n\"\n",
    "    \"---------------------\\n\"\n",
    "    \"{context_str}\\n\"\n",
    "    \"---------------------\\n\"\n",
    "    \"Given the context information and not prior knowledge, \"\n",
    "    \"answer the question below. Include sources, i.e. TITLE, sub-title, A., 1., a, (1)., used to generate your answer. \\n\"\n",
    "    \"\\n{query_str}\\n\"\n",
    ")\n",
    "\n",
    "CUSTOM_REFINE_PROMPT_TMPL = Prompt(\n",
    "    \"The original question is as follows: {query_str}\\n\"\n",
    "    \"We have provided an existing answer: {existing_answer}\\n\"\n",
    "    \"We have the opportunity to refine the existing answer \"\n",
    "    \"(only if needed) with some more context below.\\n\"\n",
    "    \"------------\\n\"\n",
    "    \"{context_msg}\\n\"\n",
    "    \"------------\\n\"\n",
    "    \"Given the new context, refine the original answer to better answer the question. \"\n",
    "    \"If the context isn't useful, return the original answer. \"\n",
    "    \"answer the question below. Include sources, i.e. TITLE, sub-title, A., 1., a, (1)., used to generate your answer. \"\n",
    "    \n",
    ")"
   ]
  },
  {
   "cell_type": "code",
   "execution_count": 41,
   "metadata": {},
   "outputs": [],
   "source": [
    "custom_query_engine = index.as_query_engine(\n",
    "    refine_template=CUSTOM_REFINE_PROMPT_TMPL,\n",
    "    text_qa_template=my_qa_template,\n",
    "    service_context=service_context)\n",
    "\n",
    "# setup base query engine as tool\n",
    "query_engine_tools = [\n",
    "    QueryEngineTool(\n",
    "        query_engine=custom_query_engine,\n",
    "        metadata=ToolMetadata(\n",
    "            name=\"homeowners_policy\", \n",
    "            description=\"insurance policy contract detailing coverage provisions.\"\n",
    "        ),\n",
    "    )\n",
    "]\n",
    "\n",
    "query_engine = SubQuestionQueryEngine.from_defaults(\n",
    "    query_engine_tools=query_engine_tools,\n",
    "    service_context=service_context,\n",
    "    use_async=True,\n",
    ")"
   ]
  },
  {
   "cell_type": "code",
   "execution_count": 42,
   "metadata": {},
   "outputs": [
    {
     "name": "stdout",
     "output_type": "stream",
     "text": [
      "Generated 2 sub questions.\n",
      "\u001b[36;1m\u001b[1;3m[homeowners_policy] Q: Does the homeowners policy cover damage caused by collapse?\n",
      "\u001b[0m\u001b[33;1m\u001b[1;3m[homeowners_policy] Q: What are the coverage provisions in the homeowners policy?\n",
      "\u001b[0m\u001b[33;1m\u001b[1;3m[homeowners_policy] A: The coverage provisions in the homeowners policy include Coverage A - Dwelling, Coverage B - Other Structures, and Coverage C - Personal Property. \n",
      "\n",
      "Source: Document Name: HO3 Sample Policy, Category: Homeowner's Insurance, pages: 2-3\n",
      "\u001b[0m\u001b[36;1m\u001b[1;3m[homeowners_policy] A: Yes, the homeowners policy does cover damage caused by collapse. According to the HO3 Sample Policy, under Coverage C, the policy insures for direct physical loss to covered property involving collapse of a building or any part of a building if the collapse was caused by certain specified perils or factors such as decay, insect or vermin damage, weight of contents or rain, and use of defective material or methods in construction. (HO3 Sample Policy, Coverage C, pages 7-8)\n",
      "\u001b[0m"
     ]
    }
   ],
   "source": [
    "response = await query_engine.aquery(\n",
    "    \"What are the considerations for determining if the policy does or does not cover damaged caused by collapse?\"\n",
    ")"
   ]
  },
  {
   "cell_type": "code",
   "execution_count": 43,
   "metadata": {},
   "outputs": [
    {
     "data": {
      "text/markdown": [
       "The considerations for determining if the policy covers damage caused by collapse include checking the HO3 Sample Policy and specifically looking at Coverage C. The policy will cover direct physical loss to covered property involving collapse of a building or any part of a building if the collapse was caused by certain specified perils or factors such as decay, insect or vermin damage, weight of contents or rain, and use of defective material or methods in construction."
      ],
      "text/plain": [
       "<IPython.core.display.Markdown object>"
      ]
     },
     "execution_count": 43,
     "metadata": {},
     "output_type": "execute_result"
    }
   ],
   "source": [
    "Markdown(f\"{response.response}\")"
   ]
  },
  {
   "cell_type": "code",
   "execution_count": 44,
   "metadata": {},
   "outputs": [
    {
     "data": {
      "text/markdown": [
       "Sub question: Does the homeowners policy cover damage caused by collapse?\n",
       "Response: Yes, the homeowners policy does cover damage caused by collapse. According to the HO3 Sample Policy, under Coverage C, the policy insures for direct physical loss to covered property involving collapse of a building or any part of a building if the collapse was caused by certain specified perils or factors such as decay, insect or vermin damage, weight of contents or rain, and use of defective material or methods in construction. (HO3 Sample Policy, Coverage C, pages 7-8)"
      ],
      "text/plain": [
       "<IPython.core.display.Markdown object>"
      ]
     },
     "execution_count": 44,
     "metadata": {},
     "output_type": "execute_result"
    }
   ],
   "source": [
    "Markdown(f\"{response.source_nodes[0].node.get_text()}\")"
   ]
  },
  {
   "cell_type": "code",
   "execution_count": 45,
   "metadata": {},
   "outputs": [
    {
     "data": {
      "text/markdown": [
       "Sub question: What are the coverage provisions in the homeowners policy?\n",
       "Response: The coverage provisions in the homeowners policy include Coverage A - Dwelling, Coverage B - Other Structures, and Coverage C - Personal Property. \n",
       "\n",
       "Source: Document Name: HO3 Sample Policy, Category: Homeowner's Insurance, pages: 2-3"
      ],
      "text/plain": [
       "<IPython.core.display.Markdown object>"
      ]
     },
     "execution_count": 45,
     "metadata": {},
     "output_type": "execute_result"
    }
   ],
   "source": [
    "Markdown(f\"{response.source_nodes[1].node.get_text()}\")"
   ]
  },
  {
   "cell_type": "code",
   "execution_count": 46,
   "metadata": {},
   "outputs": [
    {
     "name": "stdout",
     "output_type": "stream",
     "text": [
      "Generated 4 sub questions.\n",
      "\u001b[36;1m\u001b[1;3m[homeowners_policy] Q: What is Personal Property coverage?\n",
      "\u001b[0m\u001b[33;1m\u001b[1;3m[homeowners_policy] Q: What does Personal Property coverage include?\n",
      "\u001b[0m\u001b[38;5;200m\u001b[1;3m[homeowners_policy] Q: What are the limits of Personal Property coverage?\n",
      "\u001b[0m\u001b[32;1m\u001b[1;3m[homeowners_policy] Q: How does Personal Property coverage work?\n",
      "\u001b[0m\u001b[33;1m\u001b[1;3m[homeowners_policy] A: Personal Property coverage includes coverage for various types of property such as platinumplated ware, pewterware, property used primarily for business purposes, electronic apparatus and accessories, and other specified items such as money, securities, watercraft, trailers, jewelry, firearms, and silverware. \n",
      "\n",
      "Source: \n",
      "Document Name: HO3 Sample Policy\n",
      "Category: Homeowner's Insurance\n",
      "Page: 4\n",
      "\u001b[0m\u001b[36;1m\u001b[1;3m[homeowners_policy] A: Personal Property coverage refers to the insurance coverage provided for personal belongings or possessions owned by the insured individual. It includes coverage for items such as furniture, clothing, electronics, jewelry, and other personal items. The coverage limit for Personal Property is typically determined based on a percentage of the limit of liability for Coverage C or a specific dollar amount, whichever is greater. \n",
      "\n",
      "Source: \n",
      "Document Name: HO3 Sample Policy\n",
      "Category: Homeowner's Insurance\n",
      "Page: 3\n",
      "\u001b[0m\u001b[32;1m\u001b[1;3m[homeowners_policy] A: According to the given context information, the Personal Property coverage works as follows:\n",
      "\n",
      "1. Personal property, including household appliances and outdoor equipment, is covered at actual cash value at the time of loss, but not more than the amount required to repair or replace. (Document Name: HO3 Sample Policy, Category: Homeowner's Insurance, pages: 13, C. Loss Settlement, 1. Property of the following types, a.)\n",
      "\n",
      "2. The insured is required to prepare an inventory of damaged personal property, showing the quantity, description, actual cash value, and amount of loss. They need to attach all bills, receipts, and related documents that justify the figures in the inventory. (Document Name: HO3 Sample Policy, Category: Homeowner's Insurance, pages: 13, 6. Prepare an inventory of damaged personal property)\n",
      "\n",
      "3. The insured may be required to show the damaged property, provide records and documents, and submit to an examination under oath when reasonably requested by the insurance company. (Document Name: HO3 Sample Policy, Category: Homeowner's Insurance, pages: 13, 7. As often as we reasonably require)\n",
      "\n",
      "4. Within 60 days after the insurance company's request, the insured needs to send a signed, sworn proof of loss that includes various details such as the time and cause of loss, interests of all insureds, other insurance coverage, specifications of damaged buildings, repair estimates, inventory of damaged personal property, receipts for additional living expenses, and evidence supporting specific claims. (Document Name: HO3 Sample Policy, Category: Homeowner's Insurance, pages: 13-14, 8. Send to us, within 60 days after our request, your signed, sworn proof of loss)\n",
      "\n",
      "Therefore, Personal Property coverage provides compensation for damaged personal property based on its actual cash value at the time of loss, up to the amount required for repair or replacement. The insured needs to provide documentation and proof of loss to support their claim.\n",
      "\u001b[0m\u001b[38;5;200m\u001b[1;3m[homeowners_policy] A: The limits of Personal Property coverage are as follows:\n",
      "\n",
      "1. Limit For Property At Other Residences: The limit of liability for personal property located at an insured's residence, other than the residence premises, is 10% of the limit of liability for Coverage C, or $1,000, whichever is greater. This limitation does not apply to personal property that is being repaired, renovated, or rebuilt and is not fit to live in or store property in, or to personal property in a newly acquired principal residence for 30 days from the time the property is moved there. (Source: HO3 Sample Policy, page 3, 2. Limit For Property At Other Residences)\n",
      "\n",
      "2. Special Limits Of Liability: There are special limits for certain categories of personal property. These special limits do not increase the Coverage C limit of liability. The special limits are as follows:\n",
      "a. $200 on money, bank notes, bullion, gold other than goldware, silver other than silverware, platinum other than platinumware, coins, medals, scrip, stored value cards, and smart cards.\n",
      "b. $1,500 on securities, accounts, deeds, evidences of debt, letters of credit, notes other than bank notes, manuscripts, personal records, passports, tickets, and stamps. This limit includes the cost to research, replace, or restore the information from the lost or damaged material.\n",
      "c. $1,500 on watercraft of all types, including their trailers, furnishings, equipment, and outboard engines or motors.\n",
      "d. $1,500 on trailers or semitrailers not used with watercraft of all types.\n",
      "e. $1,500 for loss by theft of jewelry, watches, furs, precious and semiprecious stones.\n",
      "f. $2,500 for loss by theft of firearms and related equipment.\n",
      "g. $2,500 for loss by theft of silverware, silver plated ware, goldware, gold plated ware, platinumware. (Source: HO3 Sample Policy, page 3-4, 3. Special Limits Of Liability)\n",
      "\n",
      "Note: The specific page numbers and sections from the HO3 Sample Policy have been provided as sources for the answer.\n",
      "\u001b[0m"
     ]
    }
   ],
   "source": [
    "query = \"Provide a detailed explanation of Personal Property coverage.\"\n",
    "\n",
    "response = await query_engine.aquery(query)"
   ]
  },
  {
   "cell_type": "code",
   "execution_count": 47,
   "metadata": {},
   "outputs": [
    {
     "data": {
      "text/markdown": [
       "Personal Property coverage is a type of insurance coverage that protects the personal belongings or possessions owned by an individual. This coverage is typically included in homeowner's insurance policies. It provides compensation for the loss or damage of various types of personal property, such as furniture, clothing, electronics, jewelry, and other personal items.\n",
       "\n",
       "The coverage limit for Personal Property is usually determined based on a percentage of the limit of liability for Coverage C or a specific dollar amount, whichever is greater. This means that the insurance policy will specify the maximum amount of compensation that can be claimed for personal property losses.\n",
       "\n",
       "Personal Property coverage includes a wide range of items. Some examples of the types of property covered under this coverage include platinum-plated ware, pewterware, property used primarily for business purposes, electronic apparatus and accessories, money, securities, watercraft, trailers, jewelry, firearms, and silverware.\n",
       "\n",
       "However, it is important to note that there may be special limits of liability for certain categories of personal property. These special limits do not increase the overall coverage limit for Personal Property. For example, there may be specific limits for money, securities, watercraft, trailers, jewelry, firearms, and silverware. These limits define the maximum amount of compensation that can be claimed for losses in these specific categories.\n",
       "\n",
       "In the event of a loss or damage to personal property, the insured individual is required to follow certain procedures to make a claim. They may need to prepare an inventory of the damaged personal property, including details such as quantity, description, actual cash value, and amount of loss. They may also need to provide supporting documents such as bills, receipts, and related documents.\n",
       "\n",
       "The insurance company may request the insured to show the damaged property, provide records and documents, and submit to an examination under oath. This is done to verify the validity of the claim and ensure that the compensation is appropriate.\n",
       "\n",
       "Within 60 days after the insurance company's request, the insured is required to send a signed, sworn proof of loss. This document includes various details related to the loss, such as the time and cause of loss, interests of all insureds, other insurance coverage, specifications of damaged buildings, repair estimates, inventory of damaged personal property, receipts for additional living expenses, and evidence supporting specific claims.\n",
       "\n",
       "Overall, Personal Property coverage provides insurance protection for personal belongings or possessions owned by the insured individual. It compensates for the loss or damage of various types of personal property, up to the specified coverage limit. The insured needs to provide documentation and proof of loss to support their claim."
      ],
      "text/plain": [
       "<IPython.core.display.Markdown object>"
      ]
     },
     "execution_count": 47,
     "metadata": {},
     "output_type": "execute_result"
    }
   ],
   "source": [
    "Markdown(f\"{response}\")"
   ]
  },
  {
   "cell_type": "code",
   "execution_count": 48,
   "metadata": {},
   "outputs": [
    {
     "data": {
      "text/markdown": [
       "Sub question: What is Personal Property coverage?\n",
       "Response: Personal Property coverage refers to the insurance coverage provided for personal belongings or possessions owned by the insured individual. It includes coverage for items such as furniture, clothing, electronics, jewelry, and other personal items. The coverage limit for Personal Property is typically determined based on a percentage of the limit of liability for Coverage C or a specific dollar amount, whichever is greater. \n",
       "\n",
       "Source: \n",
       "Document Name: HO3 Sample Policy\n",
       "Category: Homeowner's Insurance\n",
       "Page: 3"
      ],
      "text/plain": [
       "<IPython.core.display.Markdown object>"
      ]
     },
     "execution_count": 48,
     "metadata": {},
     "output_type": "execute_result"
    }
   ],
   "source": [
    "Markdown(f\"{response.source_nodes[0].node.get_text()}\")"
   ]
  },
  {
   "cell_type": "code",
   "execution_count": 49,
   "metadata": {},
   "outputs": [
    {
     "data": {
      "text/markdown": [
       "Sub question: What does Personal Property coverage include?\n",
       "Response: Personal Property coverage includes coverage for various types of property such as platinumplated ware, pewterware, property used primarily for business purposes, electronic apparatus and accessories, and other specified items such as money, securities, watercraft, trailers, jewelry, firearms, and silverware. \n",
       "\n",
       "Source: \n",
       "Document Name: HO3 Sample Policy\n",
       "Category: Homeowner's Insurance\n",
       "Page: 4"
      ],
      "text/plain": [
       "<IPython.core.display.Markdown object>"
      ]
     },
     "execution_count": 49,
     "metadata": {},
     "output_type": "execute_result"
    }
   ],
   "source": [
    "Markdown(f\"{response.source_nodes[1].node.get_text()}\")"
   ]
  },
  {
   "cell_type": "code",
   "execution_count": 50,
   "metadata": {},
   "outputs": [
    {
     "data": {
      "text/markdown": [
       "Sub question: What are the limits of Personal Property coverage?\n",
       "Response: The limits of Personal Property coverage are as follows:\n",
       "\n",
       "1. Limit For Property At Other Residences: The limit of liability for personal property located at an insured's residence, other than the residence premises, is 10% of the limit of liability for Coverage C, or $1,000, whichever is greater. This limitation does not apply to personal property that is being repaired, renovated, or rebuilt and is not fit to live in or store property in, or to personal property in a newly acquired principal residence for 30 days from the time the property is moved there. (Source: HO3 Sample Policy, page 3, 2. Limit For Property At Other Residences)\n",
       "\n",
       "2. Special Limits Of Liability: There are special limits for certain categories of personal property. These special limits do not increase the Coverage C limit of liability. The special limits are as follows:\n",
       "a. $200 on money, bank notes, bullion, gold other than goldware, silver other than silverware, platinum other than platinumware, coins, medals, scrip, stored value cards, and smart cards.\n",
       "b. $1,500 on securities, accounts, deeds, evidences of debt, letters of credit, notes other than bank notes, manuscripts, personal records, passports, tickets, and stamps. This limit includes the cost to research, replace, or restore the information from the lost or damaged material.\n",
       "c. $1,500 on watercraft of all types, including their trailers, furnishings, equipment, and outboard engines or motors.\n",
       "d. $1,500 on trailers or semitrailers not used with watercraft of all types.\n",
       "e. $1,500 for loss by theft of jewelry, watches, furs, precious and semiprecious stones.\n",
       "f. $2,500 for loss by theft of firearms and related equipment.\n",
       "g. $2,500 for loss by theft of silverware, silver plated ware, goldware, gold plated ware, platinumware. (Source: HO3 Sample Policy, page 3-4, 3. Special Limits Of Liability)\n",
       "\n",
       "Note: The specific page numbers and sections from the HO3 Sample Policy have been provided as sources for the answer."
      ],
      "text/plain": [
       "<IPython.core.display.Markdown object>"
      ]
     },
     "execution_count": 50,
     "metadata": {},
     "output_type": "execute_result"
    }
   ],
   "source": [
    "Markdown(f\"{response.source_nodes[2].node.get_text()}\")"
   ]
  },
  {
   "cell_type": "code",
   "execution_count": null,
   "metadata": {},
   "outputs": [],
   "source": []
  },
  {
   "cell_type": "code",
   "execution_count": null,
   "metadata": {},
   "outputs": [],
   "source": []
  }
 ],
 "metadata": {
  "kernelspec": {
   "display_name": ".venv",
   "language": "python",
   "name": "python3"
  },
  "language_info": {
   "codemirror_mode": {
    "name": "ipython",
    "version": 3
   },
   "file_extension": ".py",
   "mimetype": "text/x-python",
   "name": "python",
   "nbconvert_exporter": "python",
   "pygments_lexer": "ipython3",
   "version": "3.10.1"
  },
  "orig_nbformat": 4
 },
 "nbformat": 4,
 "nbformat_minor": 2
}
