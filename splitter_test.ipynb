{
 "cells": [
  {
   "cell_type": "code",
   "execution_count": 1,
   "metadata": {},
   "outputs": [],
   "source": [
    "from llama_index import SimpleDirectoryReader\n",
    "from llama_index.schema import Document\n",
    "from llama_index.langchain_helpers.text_splitter import SentenceSplitter"
   ]
  },
  {
   "cell_type": "code",
   "execution_count": 2,
   "metadata": {},
   "outputs": [],
   "source": [
    "import re\n",
    "\n",
    "# Pre-compile regex patterns\n",
    "PAGE_NUM_PATTERN = re.compile(r\"Page \\d+ of \\d+\")\n",
    "HYPHEN_WORD_PATTERN = re.compile(r\"(\\w+)-(\\w+)\")\n",
    "PERIOD_COLON_PATTERN = re.compile(r\"([.:])([^ \\n])\")\n",
    "CLOSE_PAREN_PATTERN = re.compile(r\"(\\))(?=[^\\s])\")\n",
    "OPEN_PAREN_PATTERN = re.compile(r\"(?<=[^\\s])(\\()\")\n",
    "WHITESPACE_PATTERN = re.compile(r\"[ \\t]+\")\n",
    "\n",
    "\n",
    "def remove_page_numbers(text):\n",
    "    return re.sub(r\"Page \\d+ of \\d+\", \"\", text)\n",
    "\n",
    "\n",
    "def remove_multiple_newlines(page_md):\n",
    "    page_md = re.sub(r\"\\n\\s*\\n\", \"\\n\\n\", page_md)\n",
    "    return page_md\n",
    "\n",
    "\n",
    "def fix_page(text):\n",
    "    \"\"\"\n",
    "    Fixes common text problems in the given text.\n",
    "\n",
    "    Args:\n",
    "        text (str): The text to fix.\n",
    "\n",
    "    Returns:\n",
    "        str: The fixed text.\n",
    "    \"\"\"\n",
    "    watermarks = [\n",
    "        \"SAMPLE\",\n",
    "        \"HO 00 03 10 00 Copyright, Insurance Services Office, Inc., 1999\",\n",
    "        \"HOMEOWNERS 3 – SPECIAL FORM\",\n",
    "        \"HOMEOWNERS\",\n",
    "        \"HO 00 03 10 00\",\n",
    "        \"Copyright, Insurance Services Office, Inc., 1999\",\n",
    "    ]\n",
    "\n",
    "    for watermark in watermarks:\n",
    "        text = text.replace(watermark, \"\")\n",
    "\n",
    "    text = remove_page_numbers(text)\n",
    "\n",
    "    text = re.sub(HYPHEN_WORD_PATTERN, r\"\\1\\2\", text)\n",
    "    text = re.sub(PERIOD_COLON_PATTERN, r\"\\1 \\2\", text)\n",
    "    text = re.sub(CLOSE_PAREN_PATTERN, r\"\\1 \", text)\n",
    "    text = re.sub(OPEN_PAREN_PATTERN, r\" \\1\", text)\n",
    "    text = re.sub(WHITESPACE_PATTERN, \" \", text).strip()\n",
    "\n",
    "    return text"
   ]
  },
  {
   "cell_type": "code",
   "execution_count": 3,
   "metadata": {},
   "outputs": [],
   "source": [
    "documents_ho3 = SimpleDirectoryReader(input_files=['./data//HO3_sample.pdf']).load_data()"
   ]
  },
  {
   "cell_type": "code",
   "execution_count": 4,
   "metadata": {},
   "outputs": [
    {
     "data": {
      "text/plain": [
       "22"
      ]
     },
     "execution_count": 4,
     "metadata": {},
     "output_type": "execute_result"
    }
   ],
   "source": [
    "len(documents_ho3)"
   ]
  },
  {
   "cell_type": "code",
   "execution_count": 5,
   "metadata": {},
   "outputs": [
    {
     "name": "stdout",
     "output_type": "stream",
     "text": [
      "HOMEOWNERS\n",
      "HO 00 03 10 00\n",
      "HO 00 03 10 00 Copyright, Insurance Services Office, Inc., 1999 Page 1 of 22HOMEOWNERS 3 – SPECIAL FORM\n",
      "AGREEMENT\n",
      "We will provide the insurance described in this policy\n",
      "in return for the premium and compliance with allapplicable provisions of this policy.\n",
      "DEFINITIONS\n",
      "A.In this policy, \"you\" and \"your\" refer to the \"named\n",
      "insured\" shown in the Declarations and the spouseif a resident of the same household. \"We\", \"us\"and \"our\" refer to the Company providing this in-surance.\n",
      "B.In addition, certain words and phrases are definedas follows:\n",
      "1.\"Aircraft Liability\", \"Hovercraft Liability\", \"Motor\n",
      "Vehicle Liability\" and \"Watercraft Liability\",subject to the provisions in b. below, mean the\n",
      "following:\n",
      "a.Liability for \"bodily injury\" or \"property dam-age\" arising out of the:\n",
      "(1)Ownership of such vehicle or craft by an\"insured\";\n",
      "(2)Maintenance, occupancy, operation,use, loading or unloading of such vehi-cle or craft by any person;\n",
      "(3)Entrustment of such vehicle or craft byan \"insured\" to any person;\n",
      "(4)Failure to supervise or negligent super-vision of any person involving such ve-hicle or craft by an \"insured\"; or\n",
      "(5)Vicarious liability, whether or not im-posed by law, for the actions of a childor minor involving such vehicle or craft.\n",
      "b.For the purpose of this definition:\n",
      "(1)Aircraft means any contrivance used ordesigned for flight except model orhobby aircraft not used or designed tocarry people or cargo;\n",
      "(2)Hovercraft means a self-propelled mo-torized ground effect vehicle and in-cludes, but is not limited to, flarecraftand air cushion vehicles;\n",
      "(3)Watercraft means a craft principallydesigned to be propelled on or in waterby wind, engine power or electric motor;and\n",
      "(4)Motor vehicle means a \"motor vehicle\"as defined in 7. below.2.\"Bodily injury\" means bodily harm, sickness ordisease, including required care, loss of serv-ices and death that results.\n",
      "3.\"Business\" means:\n",
      "a.A trade, profession or occupation engagedin on a full-time, part-time or occasional ba-sis; or\n",
      "b.Any other activity engaged in for money orother compensation, except the following:\n",
      "(1)One or more activities, not described in(2) through (4) below, for which no \"in-\n",
      "sured\" receives more than $2,000 intotal compensation for the 12 monthsbefore the beginning of the policy pe-riod;\n",
      "(2)Volunteer activities for which no moneyis received other than payment for ex-penses incurred to perform the activity;\n",
      "(3)Providing home day care services forwhich no compensation is received,other than the mutual exchange of suchservices; or\n",
      "(4)The rendering of home day care serv-ices to a relative of an \"insured\".\n",
      "4.\"Employee\" means an employee of an \"in-sured\", or an employee leased to an \"insured\"by a labor leasing firm under an agreementbetween an \"insured\" and the labor leasingfirm, whose duties are other than those per-formed by a \"residence employee\".\n",
      "5.\"Insured\" means:\n",
      "a.You and residents of your household whoare:\n",
      "(1)Your relatives; or\n",
      "(2)Other persons under the age of 21 andin the care of any person named above;\n",
      "b.A student enrolled in school full time, asdefined by the school, who was a residentof your household before moving out to at-tend school, provided the student is underthe age of:\n",
      "(1)24 and your relative; or\n",
      "(2)21 and in your care or the care of aperson described in a.(1) above; or\n",
      " \n",
      " \n",
      " \n",
      " \n",
      " \n",
      " \n",
      "SAMPLE \n"
     ]
    }
   ],
   "source": [
    "print(documents_ho3[0].text)"
   ]
  },
  {
   "cell_type": "code",
   "execution_count": 6,
   "metadata": {},
   "outputs": [],
   "source": [
    "for i, _ in enumerate(documents_ho3):\n",
    "    documents_ho3[i].text = fix_page(documents_ho3[i].text)"
   ]
  },
  {
   "cell_type": "code",
   "execution_count": 7,
   "metadata": {},
   "outputs": [
    {
     "name": "stdout",
     "output_type": "stream",
     "text": [
      "{'page_label': '1', 'file_name': 'HO3_sample.pdf'}\n"
     ]
    }
   ],
   "source": [
    "print(documents_ho3[0].metadata)"
   ]
  },
  {
   "cell_type": "code",
   "execution_count": 8,
   "metadata": {},
   "outputs": [
    {
     "name": "stdout",
     "output_type": "stream",
     "text": [
      "AGREEMENT\n",
      "We will provide the insurance described in this policy\n",
      "in return for the premium and compliance with allapplicable provisions of this policy.\n",
      "DEFINITIONS\n",
      "A. In this policy, \"you\" and \"your\" refer to the \"named\n",
      "insured\" shown in the Declarations and the spouseif a resident of the same household. \"We\", \"us\"and \"our\" refer to the Company providing this insurance.\n",
      "B. In addition, certain words and phrases are definedas follows:\n",
      "1. \"Aircraft Liability\", \"Hovercraft Liability\", \"Motor\n",
      "Vehicle Liability\" and \"Watercraft Liability\",subject to the provisions in b. below, mean the\n",
      "following:\n",
      "a. Liability for \"bodily injury\" or \"property damage\" arising out of the:\n",
      "(1) Ownership of such vehicle or craft by an\"insured\";\n",
      "(2) Maintenance, occupancy, operation,use, loading or unloading of such vehicle or craft by any person;\n",
      "(3) Entrustment of such vehicle or craft byan \"insured\" to any person;\n",
      "(4) Failure to supervise or negligent supervision of any person involving such vehicle or craft by an \"insured\"; or\n",
      "(5) Vicarious liability, whether or not imposed by law, for the actions of a childor minor involving such vehicle or craft.\n",
      "b. For the purpose of this definition:\n",
      "(1) Aircraft means any contrivance used ordesigned for flight except model orhobby aircraft not used or designed tocarry people or cargo;\n",
      "(2) Hovercraft means a selfpropelled motorized ground effect vehicle and includes, but is not limited to, flarecraftand air cushion vehicles;\n",
      "(3) Watercraft means a craft principallydesigned to be propelled on or in waterby wind, engine power or electric motor;and\n",
      "(4) Motor vehicle means a \"motor vehicle\"as defined in 7. below. 2. \"Bodily injury\" means bodily harm, sickness ordisease, including required care, loss of services and death that results.\n",
      "3. \"Business\" means:\n",
      "a. A trade, profession or occupation engagedin on a fulltime, parttime or occasional basis; or\n",
      "b. Any other activity engaged in for money orother compensation, except the following:\n",
      "(1) One or more activit\n"
     ]
    }
   ],
   "source": [
    "long_string = \"\".join(documents_ho3[i].text for i in range(len(documents_ho3)))\n",
    "print(long_string[:2000])"
   ]
  },
  {
   "cell_type": "code",
   "execution_count": 9,
   "metadata": {},
   "outputs": [],
   "source": [
    "ho3_document = [Document(text=long_string,\n",
    "                        id_=\"HO3_sample.pdf\",\n",
    "                        metadata={\"Document Name\": \"HO3 Sample Policy\", \n",
    "                                  \"Category\": \"Homeowner's Insurance\"})]"
   ]
  },
  {
   "cell_type": "code",
   "execution_count": 10,
   "metadata": {},
   "outputs": [
    {
     "data": {
      "text/plain": [
       "'AGREEMENT\\nWe will provide the insurance described in this policy\\nin return for the premium and compliance with allapplicable provisions of this policy.\\nDEFINITIONS\\nA. In this policy, \"you\" and \"your\" refer to the \"named\\ninsured\" shown in the Declarations and the spouseif a resident of the same household. \"We\", \"us\"and \"our\" refer to the Company providing this insurance.\\nB. In addition, certain words and phrases are definedas follows:\\n1. \"Aircraft Liability\", \"Hovercraft Liability\", \"Motor\\nVehicle Liability\" and \"Watercraft Liability\",subject to the provisions in b. below, mean the\\nfollowing:\\na. Liability for \"bodily injury\" or \"property damage\" arising out of the:\\n(1) Ownership of such vehicle or craft by an\"insured\";\\n(2) Maintenance, occupancy, operation,use, loading or unloading of such vehicle or craft by any person;\\n(3) Entrustment of such vehicle or craft byan \"insured\" to any person;\\n(4) Failure to supervise or negligent supervision of any person involving such vehicle or craft by an \"insured\"; or\\n(5) Vicarious liability, whether or not imposed by law, for the actions of a childor minor involving such vehicle or craft.\\nb. For the purpose of this definition:\\n(1) Aircraft means any contrivance used ordesigned for flight except model orhobby aircraft not used or designed tocarry people or cargo;\\n(2) Hovercraft means a selfpropelled motorized ground effect vehicle and includes, but is not limited to, flarecraftand air cushion vehicles;\\n(3) Watercraft means a craft principallydesigned to be propelled on or in waterby wind, engine power or electric motor;and\\n(4) Motor vehicle means a \"motor vehicle\"as defined in 7. below. 2. \"Bodily injury\" means bodily harm, sickness ordisease, including required care, loss of services and death that results.\\n3. \"Business\" means:\\na. A trade, profession or occupation engagedin on a fulltime, parttime or occasional basis; or\\nb. Any other activity engaged in for money orother compensation, except the following:\\n(1) One or more activities, not described in (2) through (4) below, for which no \"in-\\nsured\" receives more than $2,000 intotal compensation for the 12 monthsbefore the beginning of the policy period;\\n(2) Volunteer activities for which no moneyis received other than payment for expenses incurred to perform the activity;\\n(3) Providing home day care services forwhich no compensation is received,other than the mutual exchange of suchservices; or\\n(4) The rendering of home day care services to a relative of an \"insured\".\\n4. \"Employee\" means an employee of an \"insured\", or an employee leased to an \"insured\"by a labor leasing firm under an agreementbetween an \"insured\" and the labor leasingfirm, whose duties are other than those performed by a \"residence employee\".\\n5. \"Insured\" means:\\na. You and residents of your household whoare:\\n(1) Your relatives; or\\n(2) Other persons under the age of 21 andin the care of any person named above;\\nb. A student enrolled in school full time, asdefined by the school, who was a residentof your household before moving out to attend school, provided the student is underthe age of:\\n(1) 24 and your relative; or\\n(2) 21 and in your care or the care of aperson described in a. (1) above; orc. Under Section II:\\n(1) With respect to animals or watercraft to\\nwhich this policy applies, any person or\\norganization legally responsible forthese animals or watercraft which areowned by you or any person included ina. or b. above. \"Insured\" does not mean\\na person or organization using or havingcustody of these animals or watercraft inthe course of any \"business\" or withoutconsent of the owner; or\\n(2) With respect to a \"motor vehicle\" towhich this policy applies:\\n(a) Persons while engaged in your employ or that of any person included ina. or b. above; or\\n(b) Other persons using the vehicle onan \"insured location\" with your consent.\\nUnder both Sections I and II, when the word an\\nimmediately precedes the word \"insured\", thewords an \"insured\" together mean one or more\"insureds\".\\n6. \"Insured location\" means:\\na. The \"residence premises\";\\nb. The part of other premises, other structuresand grounds used by you as a residence;and\\n(1) Which is shown in the Declarations; or\\n(2) Which is acquired by you during thepolicy period for your use as a residence;\\nc. Any premises used by you in connectionwith a premises described in a. and b.\\nabove;\\nd. Any part of a premises:\\n(1) Not owned by an \"insured\"; and\\n(2) Where an \"insured\" is temporarily residing;\\ne. Vacant land, other than farm land, ownedby or rented to an \"insured\";\\nf. Land owned by or rented to an \"insured\" onwhich a one, two, three or four familydwelling is being built as a residence for an\"insured\";\\ng. Individual or family cemetery plots or burialvaults of an \"insured\"; orh. Any part of a premises occasionally rentedto an \"insured\" for other than \"business\"use.\\n7. \"Motor vehicle\" means:\\na. A selfpropelled land or amphibious vehicle;or\\nb. Any trailer or semitrailer which is beingcarried on, towed by or hitched for towingby a vehicle described in a. above.\\n8. \"Occurrence\" means an accident, includingcontinuous or repeated exposure to substantially the same general harmful conditions,which results, during the policy period, in:\\na. \"Bodily injury\"; or\\nb. \"Property damage\".\\n9. \"Property damage\" means physical injury to,destruction of, or loss of use of tangible property.\\n10. \"Residence employee\" means:\\na. An employee of an \"insured\", or an employee leased to an \"insured\" by a laborleasing firm, under an agreement betweenan \"insured\" and the labor leasing firm,whose duties are related to the maintenance or use of the \"residence premises\",including household or domestic services;or\\nb. One who performs similar duties elsewhere\\nnot related to the \"business\" of an \"insured\".\\nA \"residence employee\" does not include atemporary employee who is furnished to an\"insured\" to substitute for a permanent \"residence employee\" on leave or to meet seasonalor shortterm workload conditions.\\n11. \"Residence premises\" means:\\na. The one family dwelling where you reside;\\nb. The two, three or four family dwelling whereyou reside in at least one of the family units;or\\nc. That part of any other building where youreside;\\nand which is shown as the \"residence premises\" in the Declarations.\\n\"Residence premises\" also includes other\\nstructures and grounds at that location.DEDUCTIBLE\\nUnless otherwise noted in this policy, the following\\ndeductible provision applies:\\nSubject to the policy limits that apply, we will pay only\\nthat part of the total of all loss payable under Section I\\nthat exceeds the deductible amount shown in theDeclarations.\\nSECTION I – PROPERTY COVERAGES\\nA. Coverage A – Dwelling\\n1. We cover:\\na. The dwelling on the \"residence premises\"\\nshown in the Declarations, including structures attached to the dwelling; and\\nb. Materials and supplies located on or next tothe \"residence premises\" used to construct,alter or repair the dwelling or other structures on the \"residence premises\".\\n2. We do not cover land, including land on whichthe dwelling is located.\\nB. Coverage B – Other Structures\\n1. We cover other structures on the \"residencepremises\" set apart from the dwelling by clearspace. This includes structures connected tothe dwelling by only a fence, utility line, orsimilar connection.\\n2. We do not cover:\\na. Land, including land on which the otherstructures are located;\\nb. Other structures rented or held for rental toany person not a tenant of the dwelling,unless used solely as a private garage;\\nc. Other structures from which any \"business\"\\nis conducted; or\\nd. Other structures used to store \"business\"property. However, we do cover a structurethat contains \"business\" property solelyowned by an \"insured\" or a tenant of thedwelling provided that \"business\" propertydoes not include gaseous or liquid fuel,other than fuel in a permanently installedfuel tank of a vehicle or craft parked orstored in the structure.\\n3. The limit of liability for this coverage will not bemore than 10% of the limit of liability that applies to Coverage A. Use of this coverage does\\nnot reduce the Coverage A limit of liability. C. Coverage C – Personal Property\\n1. Covered Property\\nWe cover personal property owned or used byan \"insured\" while it is anywhere in the world. After a loss and at your request, we will coverpersonal property owned by:\\na. Others while the property is on the part ofthe \"residence premises\" occupied by an\"insured\"; or\\nb. A guest or a \"residence employee\", whilethe property is in any residence occupied byan \"insured\".\\n2. Limit For Property At Other Residences\\nOur limit of liability for personal property usuallylocated at an \"insured\\'s\" residence, other thanthe \"residence premises\", is 10% of the limit ofliability for Coverage C, or $1,000, whichever is\\ngreater. However, this limitation does not applyto personal property:\\na. Moved from the \"residence premises\" because it is being repaired, renovated or rebuilt and is not fit to live in or store propertyin; or\\nb. In a newly acquired principal residence for30 days from the time you begin to movethe property there.\\n3. Special Limits Of Liability\\nThe special limit for each category shown be-\\nlow is the total limit for each loss for all property in that category. These special limits donot increase the Coverage C limit of liability.\\na. $200 on money, bank notes, bullion, goldother than goldware, silver other than silverware, platinum other than platinumware,coins, medals, scrip, stored value cardsand smart cards.\\nb. $1,500 on securities, accounts, deeds,evidences of debt, letters of credit, notesother than bank notes, manuscripts, personal records, passports, tickets andstamps. This dollar limit applies to thesecategories regardless of the medium (suchas paper or computer software) on whichthe material exists.\\nThis limit includes the cost to research, replace or restore the information from thelost or damaged material.c. $1,500 on watercraft of all types, including\\ntheir trailers, furnishings, equipment andoutboard engines or motors.\\nd. $1,500 on trailers or semitrailers not usedwith watercraft of all types.\\ne. $1,500 for loss by theft of jewelry, watches,furs, precious and semiprecious stones.\\nf. $2,500 for loss by theft of firearms andrelated equipment.\\ng. $2,500 for loss by theft of silverware, silverplated ware, goldware, goldplated ware,platinumware, platinumplated ware andpewterware. This includes flatware, hollowware, tea sets, trays and trophies made ofor including silver, gold or pewter.\\nh. $2,500 on property, on the \"residencepremises\", used primarily for \"business\"purposes.\\ni. $500 on property, away from the \"residencepremises\", used primarily for \"business\"purposes. However, this limit does not apply to loss to electronic apparatus and otherproperty described in Categories j. and k.\\nbelow.\\nj. $1,500 on electronic apparatus and accessories, while in or upon a \"motor vehicle\",but only if the apparatus is equipped to beoperated by power from the \"motor vehicle\\'s\" electrical system while still capable ofbeing operated by other power sources.\\nAccessories include antennas, tapes, wires,records, discs or other media that can beused with any apparatus described in thisCategory j.\\nk. $1,500 on electronic apparatus and acces-\\nsories used primarily for \"business\" whileaway from the \"residence premises\" andnot in or upon a \"motor vehicle\". The apparatus must be equipped to be operated bypower from the \"motor vehicle\\'s\" electricalsystem while still capable of being operatedby other power sources.\\nAccessories include antennas, tapes, wires,records, discs or other media that can beused with any apparatus described in thisCategory k.\\n4. Property Not Covered\\nWe do not cover:\\na. Articles separately described and specifically insured, regardless of the limit forwhich they are insured, in this or other insurance;b. Animals, birds or fish;\\nc. \"Motor vehicles\".\\n(1) This includes:\\n(a) Their accessories, equipment andparts; or\\n(b) Electronic apparatus and accessories designed to be operated solelyby power from the electrical systemof the \"motor vehicle\". Accessoriesinclude antennas, tapes, wires, records, discs or other media that canbe used with any apparatus described above.\\nThe exclusion of property described in (a) and (b) above applies only while\\nsuch property is in or upon the \"motorvehicle\".\\n(2) We do cover \"motor vehicles\" not required to be registered for use on publicroads or property which are:\\n(a) Used solely to service an \"insured\\'s\"residence; or\\n(b) Designed to assist the handicapped;\\nd. Aircraft meaning any contrivance used ordesigned for flight including any partswhether or not attached to the aircraft.\\nWe do cover model or hobby aircraft notused or designed to carry people or cargo;\\ne. Hovercraft and parts. Hovercraft means aselfpropelled motorized ground effect vehicle and includes, but is not limited to, flarecraft and air cushion vehicles;\\nf. Property of roomers, boarders and othertenants, except property of roomers andboarders related to an \"insured\";\\ng. Property in an apartment regularly rented orheld for rental to others by an \"insured\", except as provided in E. 10. Landlord\\'s Fur-\\nnishings under Section I – Property Cover-\\nages;\\nh. Property rented or held for rental to othersoff the \"residence premises\";\\ni. \"Business\" data, including such data storedin:\\n(1) Books of account, drawings or otherpaper records; or\\n(2) Computers and related equipment.\\nWe do cover the cost of blank recording orstorage media, and of prerecorded computer programs available on the retail market;j. Credit cards, electronic fund transfer cards\\nor access devices used solely for deposit,withdrawal or transfer of funds except asprovided in E. 6. Credit Card, Electronic\\nFund Transfer Card Or Access Device,Forgery And Counterfeit Money under Section I – Property Coverages; or\\nk. Water or steam.\\nD. Coverage D – Loss Of Use\\nThe limit of liability for Coverage D is the total limit\\nfor the coverages in 1. Additional Living Expense,\\n2. Fair Rental Value and 3. Civil Authority Prohibits\\nUse below.\\n1. Additional Living Expense\\nIf a loss covered under Section I makes that\\npart of the \"residence premises\" where you reside not fit to live in, we cover any necessaryincrease in living expenses incurred by you sothat your household can maintain its normalstandard of living.\\nPayment will be for the shortest time required\\nto repair or replace the damage or, if you permanently relocate, the shortest time requiredfor your household to settle elsewhere.\\n2. Fair Rental Value\\nIf a loss covered under Section I makes that\\npart of the \"residence premises\" rented to others or held for rental by you not fit to live in, wecover the fair rental value of such premisesless any expenses that do not continue while itis not fit to live in.\\nPayment will be for the shortest time required\\nto repair or replace such premises.\\n3. Civil Authority Prohibits Use\\nIf a civil authority prohibits you from use of the\"residence premises\" as a result of direct damage to neighboring premises by a Peril InsuredAgainst, we cover the loss as provided in 1.\\nAdditional Living Expense and 2. Fair Rental\\nValue above for no more than two weeks.\\n4. Loss Or Expense Not Covered\\nWe do not cover loss or expense due to cancellation of a lease or agreement.\\nThe periods of time under 1. Additional Living Ex-\\npense, 2. Fair Rental Value and 3. Civil Authority\\nProhibits Use above are not limited by expiration\\nof this policy. E. Additional Coverages\\n1. Debris Removal\\na. We will pay your reasonable expense forthe removal of:\\n(1) Debris of covered property if a PerilInsured Against that applies to the damaged property causes the loss; or\\n(2) Ash, dust or particles from a volcaniceruption that has caused direct loss to abuilding or property contained in abuilding.\\nThis expense is included in the limit of liability that applies to the damaged property. If the amount to be paid for the actual damage to the property plus the debris removalexpense is more than the limit of liability forthe damaged property, an additional 5% ofthat limit is available for such expense.\\nb. We will also pay your reasonable expense,up to $1,000, for the removal from the\"residence premises\" of:\\n(1) Your tree (s) felled by the peril of Windstorm or Hail or Weight of Ice, Snow orSleet; or\\n(2) A neighbor\\'s tree (s) felled by a PerilInsured Against under Coverage C;\\nprovided the tree (s) :\\n(3) Damage (s) a covered structure; or\\n(4) Does not damage a covered structure,\\nbut:\\n(a) Block (s) a driveway on the \"residence premises\" which prevent (s) a\"motor vehicle\", that is registered foruse on public roads or property, fromentering or leaving the \"residencepremises\"; or\\n(b) Block (s) a ramp or other fixturedesigned to assist a handicappedperson to enter or leave the dwellingbuilding.\\nThe $1,000 limit is the most we will pay inany one loss regardless of the number offallen trees. No more than $500 of this limitwill be paid for the removal of any one tree.\\nThis coverage is additional insurance.\\n2. Reasonable Repairs\\na. We will pay the reasonable cost incurred by\\nyou for the necessary measures takensolely to protect covered property that isdamaged by a Peril Insured Against fromfurther damage.b. If the measures taken involve repair to\\nother damaged property, we will only pay ifthat property is covered under this policyand the damage is caused by a Peril Insured Against. This coverage does not:\\n(1) Increase the limit of liability that appliesto the covered property; or\\n(2) Relieve you of your duties, in case of aloss to covered property, described inB. 4. under Section I – Conditions.\\n3. Trees, Shrubs And Other Plants\\nWe cover trees, shrubs, plants or lawns, on the\"residence premises\", for loss caused by thefollowing Perils Insured Against:\\na. Fire or Lightning;\\nb. Explosion;\\nc. Riot or Civil Commotion;\\nd. Aircraft;\\ne. Vehicles not owned or operated by a resi-\\ndent of the \"residence premises\";\\nf. Vandalism or Malicious Mischief; or\\ng. Theft.\\nWe will pay up to 5% of the limit of liability thatapplies to the dwelling for all trees, shrubs,plants or lawns. No more than $500 of this limitwill be paid for any one tree, shrub or plant. Wedo not cover property grown for \"business\"purposes.\\nThis coverage is additional insurance.\\n4. Fire Department Service Charge\\nWe will pay up to $500 for your liability as-\\nsumed by contract or agreement for fire department charges incurred when the fire department is called to save or protect coveredproperty from a Peril Insured Against. We donot cover fire department service charges if theproperty is located within the limits of the city,municipality or protection district furnishing thefire department response.\\nThis coverage is additional insurance. No de-\\nductible applies to this coverage.\\n5. Property Removed\\nWe insure covered property against direct lossfrom any cause while being removed from apremises endangered by a Peril InsuredAgainst and for no more than 30 days whileremoved.\\nThis coverage does not change the limit of li-\\nability that applies to the property being removed. 6. Credit Card, Electronic Fund Transfer Card\\nOr Access Device, Forgery And CounterfeitMoney\\na. We will pay up to $500 for:\\n(1) The legal obligation of an \"insured\" topay because of the theft or unauthorizeduse of credit cards issued to or registered in an \"insured\\'s\" name;\\n(2) Loss resulting from theft or unauthorizeduse of an electronic fund transfer cardor access device used for deposit, withdrawal or transfer of funds, issued to orregistered in an \"insured\\'s\" name;\\n(3) Loss to an \"insured\" caused by forgeryor alteration of any check or negotiableinstrument; and\\n(4) Loss to an \"insured\" through acceptancein good faith of counterfeit United Statesor Canadian paper currency.\\nAll loss resulting from a series of actscommitted by any one person or in whichany one person is concerned or implicatedis considered to be one loss.\\nThis coverage is additional insurance. No\\ndeductible applies to this coverage.\\nb. We do not cover:\\n(1) Use of a credit card, electronic fundtransfer card or access device:\\n(a) By a resident of your household;\\n(b) By a person who has been entrustedwith either type of card or accessdevice; or\\n(c) If an \"insured\" has not complied withall terms and conditions under whichthe cards are issued or the devicesaccessed; or\\n(2) Loss arising out of \"business\" use ordishonesty of an \"insured\".\\nc. If the coverage in a. above applies, the\\nfollowing defense provisions also apply:\\n(1) We may investigate and settle any claimor suit that we decide is appropriate. Our duty to defend a claim or suit endswhen the amount we pay for the lossequals our limit of liability.\\n(2) If a suit is brought against an \"insured\"for liability under a. (1) or (2) above, we\\nwill provide a defense at our expense bycounsel of our choice.\\n(3) We have the option to defend at ourexpense an \"insured\" or an \"insured\\'s\"bank against any suit for the enforcement of payment under a. (3) above.. Loss Assessment\\na. We will pay up to $1,000 for your share of\\nloss assessment charged during the policyperiod against you, as owner or tenant ofthe \"residence premises\", by a corporationor association of property owners. The assessment must be made as a result of direct loss to property, owned by all memberscollectively, of the type that would be covered by this policy if owned by you, causedby a Peril Insured Against under CoverageA, other than:\\n(1) Earthquake; or\\n(2) Land shock waves or tremors before,during or after a volcanic eruption.\\nThe limit of $1,000 is the most we will paywith respect to any one loss, regardless ofthe number of assessments. We will onlyapply one deductible, per unit, to the totalamount of any one loss to the property described above, regardless of the number ofassessments.\\nb. We do not cover assessments chargedagainst you or a corporation or associationof property owners by any governmentalbody.\\nc. Paragraph P. Policy Period under Section I\\n– Conditions does not apply to this coverage.\\nThis coverage is additional insurance.\\n8. Collapse\\na. With respect to this Additional Coverage:\\n(1) Collapse means an abrupt falling downor caving in of a building or any part of abuilding with the result that the buildingor part of the building cannot be occupied for its current intended purpose.\\n(2) A building or any part of a building thatis in danger of falling down or caving inis not considered to be in a state of collapse.\\n(3) A part of a building that is standing isnot considered to be in a state of collapse even if it has separated from another part of the building.\\n(4) A building or any part of a building thatis standing is not considered to be in astate of collapse even if it shows evidence of cracking, bulging, sagging,bending, leaning, settling, shrinkage orexpansion. b. We insure for direct physical loss to covered property involving collapse of a building or any part of a building if the collapsewas caused by one or more of the following:\\n(1) The Perils Insured Against named underCoverage C;\\n(2) Decay that is hidden from view, unlessthe presence of such decay is known toan \"insured\" prior to collapse;\\n(3) Insect or vermin damage that is hiddenfrom view, unless the presence of suchdamage is known to an \"insured\" prior tocollapse;\\n(4) Weight of contents, equipment, animalsor people;\\n(5) Weight of rain which collects on a roof;or\\n(6) Use of defective material or methods inconstruction, remodeling or renovation ifthe collapse occurs during the course ofthe construction, remodeling or renovation.\\nc. Loss to an awning, fence, patio, deck,pavement, swimming pool, undergroundpipe, flue, drain, cesspool, septic tank,foundation, retaining wall, bulkhead, pier,wharf or dock is not included under b. (2)\\nthrough (6) above, unless the loss is a di-\\nrect result of the collapse of a building or\\nany part of a building.\\nd. This coverage does not increase the limit ofliability that applies to the damaged coveredproperty.\\n9. Glass Or Safety Glazing Material \\na. We cover:\\n(1) The breakage of glass or safety glazingmaterial which is part of a coveredbuilding, storm door or storm window;\\n(2) The breakage of glass or safety glazingmaterial which is part of a coveredbuilding, storm door or storm windowwhen caused directly by earth movement; and\\n(3) The direct physical loss to coveredproperty caused solely by the pieces,fragments or splinters of broken glass orsafety glazing material which is part of abuilding, storm door or storm window.b. This coverage does not include loss:\\n(1) To covered property which results be-\\ncause the glass or safety glazing material has been broken, except as provided in a. (3) above; or\\n(2) On the \"residence premises\" if thedwelling has been vacant for more than60 consecutive days immediately beforethe loss, except when the breakage results directly from earth movement asprovided in a. (2) above. A dwelling be-\\ning constructed is not considered vacant.\\nc. This coverage does not increase the limit ofliability that applies to the damaged property.\\n10. Landlord\\'s Furnishings\\nWe will pay up to $2,500 for your appliances,carpeting and other household furnishings, ineach apartment on the \"residence premises\"regularly rented or held for rental to others byan \"insured\", for loss caused by a Peril InsuredAgainst in Coverage C, other than Theft.\\nThis limit is the most we will pay in any oneloss regardless of the number of appliances,carpeting or other household furnishings involved in the loss.\\nThis coverage does not increase the limit of li-\\nability applying to the damaged property.\\n11. Ordinance Or Law\\na. You may use up to 10% of the limit of liability that applies to Coverage A for the in-\\ncreased costs you incur due to the enforcement of any ordinance or law whichrequires or regulates:\\n(1) The construction, demolition, remodeling, renovation or repair of that part of acovered building or other structuredamaged by a Peril Insured Against;\\n(2) The demolition and reconstruction of theundamaged part of a covered buildingor other structure, when that building orother structure must be totally demolished because of damage by a Peril Insured Against to another part of thatcovered building or other structure; or\\n(3) The remodeling, removal or replacement of the portion of the undamagedpart of a covered building or otherstructure necessary to complete the remodeling, repair or replacement of thatpart of the covered building or otherstructure damaged by a Peril InsuredAgainst. b. You may use all or part of this ordinance orlaw coverage to pay for the increased costsyou incur to remove debris resulting fromthe construction, demolition, remodeling,renovation, repair or replacement of property as stated in a. above.\\nc. We do not cover:\\n(1) The loss in value to any covered building or other structure due to the requirements of any ordinance or law; or\\n(2) The costs to comply with any ordinanceor law which requires any \"insured\" orothers to test for, monitor, clean up, remove, contain, treat, detoxify or neutralize, or in any way respond to, or assess the effects of, pollutants in or onany covered building or other structure.\\nPollutants means any solid, liquid,gaseous or thermal irritant or contaminant, including smoke, vapor, soot,fumes, acids, alkalis, chemicals andwaste. Waste includes materials to berecycled, reconditioned or reclaimed.\\nThis coverage is additional insurance.\\n12. Grave Markers\\nWe will pay up to $5,000 for grave markers, including mausoleums, on or away from the\"residence premises\" for loss caused by a PerilInsured Against under Coverage C.\\nThis coverage does not increase the limits ofliability that apply to the damaged coveredproperty.\\nSECTION I – PERILS INSURED AGAINST\\nA. Coverage A – Dwelling And Coverage B –\\nOther Structures\\n1. We insure against risk of direct physical loss to\\nproperty described in Coverages A and B.\\n2. We do not insure, however, for loss:\\na. Excluded under Section I – Exclusions;\\nb. Involving collapse, except as provided inE. 8. Collapse under Section I – Property\\nCoverages; or\\nc. Caused by:\\n(1) Freezing of a plumbing, heating, airconditioning or automatic fire protectivesprinkler system or of a household appliance, or by discharge, leakage oroverflow from within the system or appliance caused by freezing. This provision does not apply if you have usedreasonable care to:\\n(a) Maintain heat in the building; or(b) Shut off the water supply and drain\\nall systems and appliances of water.\\nHowever, if the building is protected by\\nan automatic fire protective sprinklersystem, you must use reasonable careto continue the water supply and maintain heat in the building for coverage toapply.\\nFor purposes of this provision a plumb-\\ning system or household appliance doesnot include a sump, sump pump or related equipment or a roof drain, gutter,downspout or similar fixtures or equipment;\\n(2) Freezing, thawing, pressure or weight ofwater or ice, whether driven by wind ornot, to a:\\n(a) Fence, pavement, patio or swimmingpool;\\n(b) Footing, foundation, bulkhead, wall,or any other structure or device thatsupports all or part of a building, orother structure;\\n(c) Retaining wall or bulkhead that doesnot support all or part of a building orother structure; or\\n(d) Pier, wharf or dock;\\n(3) Theft in or to a dwelling under construction, or of materials and supplies for usein the construction until the dwelling isfinished and occupied;\\n(4) Vandalism and malicious mischief, andany ensuing loss caused by any intentional and wrongful act committed in thecourse of the vandalism or maliciousmischief, if the dwelling has been vacantfor more than 60 consecutive days immediately before the loss. A dwellingbeing constructed is not considered vacant;\\n(5) Mold, fungus or wet rot. However, we doinsure for loss caused by mold, fungusor wet rot that is hidden within the wallsor ceilings or beneath the floors orabove the ceilings of a structure if suchloss results from the accidental discharge or overflow of water or steamfrom within:\\n(a) A plumbing, heating, air conditioningor automatic fire protective sprinklersystem, or a household appliance,on the \"residence premises\"; or (b) A storm drain, or water, steam orsewer pipes, off the \"residencepremises\".\\nFor purposes of this provision, aplumbing system or household appliance does not include a sump, sumppump or related equipment or a roofdrain, gutter, downspout or similar fixtures or equipment; or\\n(6) Any of the following:\\n(a) Wear and tear, marring, deterioration;\\n(b) Mechanical breakdown, latent defect, inherent vice, or any quality in\\nproperty that causes it to damage ordestroy itself;\\n(c) Smog, rust or other corrosion, or dryrot;\\n(d) Smoke from agricultural smudging orindustrial operations;\\n(e) Discharge, dispersal, seepage, migration, release or escape of pollutants unless the discharge, dispersal,seepage, migration, release or escape is itself caused by a Peril Insured Against named under Coverage C.\\nPollutants means any solid, liquid,gaseous or thermal irritant or contaminant, including smoke, vapor,soot, fumes, acids, alkalis, chemicals and waste. Waste includesmaterials to be recycled, reconditioned or reclaimed;\\n(f) Settling, shrinking, bulging or expansion, including resultant cracking, ofbulkheads, pavements, patios, footings, foundations, walls, floors, roofsor ceilings;\\n(g) Birds, vermin, rodents, or insects; or\\n(h) Animals owned or kept by an \"insured\".\\nException To c. (6)\\nUnless the loss is otherwise excluded, we\\ncover loss to property covered under Coverage A or B resulting from an accidental\\ndischarge or overflow of water or steamfrom within a:\\n(i) Storm drain, or water, steam or sewerpipe, off the \"residence premises\"; or(ii) Plumbing, heating, air conditioning or\\nautomatic fire protective sprinkler sys-\\ntem or household appliance on the\"residence premises\". This includes thecost to tear out and replace any part of abuilding, or other structure, on the \"residence premises\", but only when necessary to repair the system or appliance. However, such tear out and replacement coverage only applies to otherstructures if the water or steam causesactual damage to a building on the\"residence premises\".\\nWe do not cover loss to the system or appliance from which this water or steam escaped.\\nFor purposes of this provision, a plumbing\\nsystem or household appliance does notinclude a sump, sump pump or relatedequipment or a roof drain, gutter, downspout or similar fixtures or equipment.\\nSection I – Exclusion A. 3. Water Damage,\\nParagraphs a. and c. that apply to surface\\nwater and water below the surface of theground do not apply to loss by water coveredunder c. (5) and (6) above.\\nUnder 2. b. and c. above, any ensuing loss to\\nproperty described in Coverages A and B not\\nprecluded by any other provision in this policyis covered.\\nB. Coverage C – Personal Property\\nWe insure for direct physical loss to the propertydescribed in Coverage C caused by any of the\\nfollowing perils unless the loss is excluded in Section I – Exclusions.\\n1. Fire Or Lightning\\n2. Windstorm Or Hail\\nThis peril includes loss to watercraft of all types\\nand their trailers, furnishings, equipment, and\\noutboard engines or motors, only while inside afully enclosed building.\\nThis peril does not include loss to the property\\ncontained in a building caused by rain, snow,sleet, sand or dust unless the direct force ofwind or hail damages the building causing anopening in a roof or wall and the rain, snow,sleet, sand or dust enters through this opening.\\n3. Explosion\\n4. Riot Or Civil Commotion5. Aircraft\\nThis peril includes selfpropelled missiles and\\nspacecraft. 6. Vehicles\\n7. Smoke\\nThis peril means sudden and accidental dam-\\nage from smoke, including the emission orpuffback of smoke, soot, fumes or vapors froma boiler, furnace or related equipment.\\nThis peril does not include loss caused by\\nsmoke from agricultural smudging or industrialoperations.\\n8. Vandalism Or Malicious Mischief\\n9. Theft\\na. This peril includes attempted theft and loss\\nof property from a known place when it islikely that the property has been stolen.\\nb. This peril does not include loss caused bytheft:\\n(1) Committed by an \"insured\";\\n(2) In or to a dwelling under construction, orof materials and supplies for use in theconstruction until the dwelling is finishedand occupied;\\n(3) From that part of a \"residence premises\"rented by an \"insured\" to someone otherthan another \"insured\"; or\\n(4) That occurs off the \"residence premises\" of:\\n(a) Trailers, semitrailers and campers;\\n(b) Watercraft of all types, and theirfurnishings, equipment and outboardengines or motors; or\\n(c) Property while at any other residenceowned by, rented to, or occupied byan \"insured\", except while an \"insured\" is temporarily living there. Property of an \"insured\" who is astudent is covered while at the residence the student occupies to attendschool as long as the student hasbeen there at any time during the 60days immediately before the loss.\\n10. Falling Objects\\nThis peril does not include loss to propertycontained in a building unless the roof or anoutside wall of the building is first damaged bya falling object. Damage to the falling object itself is not included.\\n11. Weight Of Ice, Snow Or Sleet\\nThis peril means weight of ice, snow or sleetwhich causes damage to property contained ina building.. Accidental Discharge Or Overflow Of Water\\nOr Steam\\na. This peril means accidental discharge or\\noverflow of water or steam from within aplumbing, heating, air conditioning or automatic fire protective sprinkler system orfrom within a household appliance.\\nb. This peril does not include loss:\\n(1) To the system or appliance from whichthe water or steam escaped;\\n(2) Caused by or resulting from freezingexcept as provided in Peril InsuredAgainst 14. Freezing;\\n(3) On the \"residence premises\" caused byaccidental discharge or overflow whichoccurs off the \"residence premises\"; or\\n(4) Caused by mold, fungus or wet rot unless hidden within the walls or ceilingsor beneath the floors or above the ceilings of a structure.\\nc. In this peril, a plumbing system or household appliance does not include a sump,sump pump or related equipment or a roofdrain, gutter, downspout or similar fixturesor equipment.\\nd. Section I – Exclusion A. 3. Water Damage,\\nParagraphs a. and c. that apply to surface\\nwater and water below the surface of theground do not apply to loss by water covered under this peril.\\n13. Sudden And Accidental Tearing Apart,\\nCracking, Burning Or Bulging\\nThis peril means sudden and accidental tearing apart, cracking, burning or bulging of asteam or hot water heating system, an air conditioning or automatic fire protective sprinklersystem, or an appliance for heating water.\\nWe do not cover loss caused by or resulting\\nfrom freezing under this peril.\\n14. Freezing\\na. This peril means freezing of a plumbing,heating, air conditioning or automatic fireprotective sprinkler system or of a household appliance but only if you have usedreasonable care to:\\n(1) Maintain heat in the building; or\\n(2) Shut off the water supply and drain allsystems and appliances of water.\\nHowever, if the building is protected by anautomatic fire protective sprinkler system,you must use reasonable care to continuethe water supply and maintain heat in thebuilding for coverage to apply. b. In this peril, a plumbing system or household appliance does not include a sump,sump pump or related equipment or a roofdrain, gutter, downspout or similar fixturesor equipment.\\n15. Sudden And Accidental Damage From\\nArtificially Generated Electrical Current\\nThis peril does not include loss to tubes, transistors, electronic components or circuitry thatare a part of appliances, fixtures, computers,home entertainment units or other types ofelectronic apparatus.\\n16. Volcanic Eruption\\nThis peril does not include loss caused byearthquake, land shock waves or tremors.\\nSECTION I – EXCLUSIONS\\nA. We do not insure for loss caused directly or indi-\\nrectly by any of the following. Such loss is excluded regardless of any other cause or eventcontributing concurrently or in any sequence to theloss. These exclusions apply whether or not theloss event results in widespread damage or affects a substantial area.\\n1. Ordinance Or Law\\nOrdinance Or Law means any ordinance orlaw:\\na. Requiring or regulating the construction,demolition, remodeling, renovation or repairof property, including removal of any resulting debris. This Exclusion A. 1. a. does\\nnot apply to the amount of coverage thatmay be provided for in E. 11. Ordinance Or\\nLaw under Section I – Property Coverages;\\nb. The requirements of which result in a lossin value to property; or\\nc. Requiring any \"insured\" or others to test for,monitor, clean up, remove, contain, treat,detoxify or neutralize, or in any way respondto, or assess the effects of, pollutants.\\nPollutants means any solid, liquid, gaseousor thermal irritant or contaminant, includingsmoke, vapor, soot, fumes, acids, alkalis,chemicals and waste. Waste includes materials to be recycled, reconditioned or reclaimed.\\nThis Exclusion A. 1. applies whether or not the\\nproperty has been physically damaged.\\n2. Earth Movement\\nEarth Movement means:\\na. Earthquake, including land shock waves ortremors before, during or after a volcaniceruption;b. Landslide, mudslide or mudflow;\\nc. Subsidence or sinkhole; or\\nd. Any other earth movement including earth\\nsinking, rising or shifting;\\ncaused by or resulting from human or animalforces or any act of nature unless direct loss byfire or explosion ensues and then we will pay\\nonly for the ensuing loss.\\nThis Exclusion A. 2. does not apply to loss by\\ntheft.\\n3. Water Damage\\nWater Damage means:\\na. Flood, surface water, waves, tidal water,\\noverflow of a body of water, or spray fromany of these, whether or not driven by wind;\\nb. Water or waterborne material which backsup through sewers or drains or which overflows or is discharged from a sump, sumppump or related equipment; or\\nc. Water or waterborne material below thesurface of the ground, including waterwhich exerts pressure on or seeps or leaksthrough a building, sidewalk, driveway,foundation, swimming pool or other structure;\\ncaused by or resulting from human or animalforces or any act of nature.\\nDirect loss by fire, explosion or theft resulting\\nfrom water damage is covered.\\n4. Power Failure\\nPower Failure means the failure of power orother utility service if the failure takes place offthe \"residence premises\". But if the failure results in a loss, from a Peril Insured Against onthe \"residence premises\", we will pay for theloss caused by that peril.\\n5. Neglect\\nNeglect means neglect of an \"insured\" to useall reasonable means to save and preserveproperty at and after the time of a loss.\\n6. War\\nWar includes the following and any consequence of any of the following:\\na. Undeclared war, civil war, insurrection,rebellion or revolution;\\nb. Warlike act by a military force or militarypersonnel; or\\nc. Destruction, seizure or use for a militarypurpose. Discharge of a nuclear weapon will be deemeda warlike act even if accidental.\\n7. Nuclear Hazard\\nThis Exclusion A. 7. pertains to Nuclear Hazard\\nto the extent set forth in M. Nuclear Hazard\\nClause under Section I – Conditions.\\n8. Intentional Loss\\nIntentional Loss means any loss arising out ofany act an \"insured\" commits or conspires tocommit with the intent to cause a loss.\\nIn the event of such loss, no \"insured\" is enti-\\ntled to coverage, even \"insureds\" who did notcommit or conspire to commit the act causingthe loss.\\n9. Governmental Action\\nGovernmental Action means the destruction,confiscation or seizure of property described inCoverage A, B or C by order of any govern-\\nmental or public authority.\\nThis exclusion does not apply to such acts or-\\ndered by any governmental or public authoritythat are taken at the time of a fire to prevent itsspread, if the loss caused by fire would becovered under this policy.\\nB. We do not insure for loss to property described inCoverages A and B caused by any of the follow-\\ning. However, any ensuing loss to property described in Coverages A and B not precluded by\\nany other provision in this policy is covered.\\n1. Weather conditions. However, this exclusiononly applies if weather conditions contribute inany way with a cause or event excluded in A.\\nabove to produce the loss.\\n2. Acts or decisions, including the failure to act ordecide, of any person, group, organization orgovernmental body.\\n3. Faulty, inadequate or defective:\\na. Planning, zoning, development, surveying,siting;\\nb. Design, specifications, workmanship, re-\\npair, construction, renovation, remodeling,grading, compaction;\\nc. Materials used in repair, construction, renovation or remodeling; or\\nd. Maintenance;\\nof part or all of any property whether on or offthe \"residence premises\".SECTION I – CONDITIONS\\nA. Insurable Interest And Limit Of Liability\\nEven if more than one person has an insurable\\ninterest in the property covered, we will not be liable in any one loss:\\n1. To an \"insured\" for more than the amount ofsuch \"insured\\'s\" interest at the time of loss; or\\n2. For more than the applicable limit of liability.\\nB. Duties After Loss\\nIn case of a loss to covered property, we have noduty to provide coverage under this policy if thefailure to comply with the following duties is prejudicial to us. These duties must be performed either by you, an \"insured\" seeking coverage, or arepresentative of either:\\n1. Give prompt notice to us or our agent;\\n2. Notify the police in case of loss by theft;\\n3. Notify the credit card or electronic fund transfercard or access device company in case of lossas provided for in E. 6. Credit Card, Electronic\\nFund Transfer Card Or Access Device, Forgery And Counterfeit Money under Section I –\\nProperty Coverages;\\n4. Protect the property from further damage. Ifrepairs to the property are required, you must:\\na. Make reasonable and necessary repairs toprotect the property; and\\nb. Keep an accurate record of repair expenses;\\n5. Cooperate with us in the investigation of aclaim;\\n6. Prepare an inventory of damaged personalproperty showing the quantity, description, actual cash value and amount of loss. Attach allbills, receipts and related documents that justify the figures in the inventory;\\n7. As often as we reasonably require:\\na. Show the damaged property;\\nb. Provide us with records and documents werequest and permit us to make copies; and\\nc. Submit to examination under oath, while notin the presence of another \"insured\", andsign the same;\\n8. Send to us, within 60 days after our request,your signed, sworn proof of loss which setsforth, to the best of your knowledge and belief:\\na. The time and cause of loss;\\nb. The interests of all \"insureds\" and all othersin the property involved and all liens on theproperty;\\nc. Other insurance which may cover the loss;d. Changes in title or occupancy of the property during the term of the policy;\\ne. Specifications of damaged buildings anddetailed repair estimates;\\nf. The inventory of damaged personal property described in 6. above;\\ng. Receipts for additional living expensesincurred and records that support the fairrental value loss; and\\nh. Evidence or affidavit that supports a claimunder E. 6. Credit Card, Electronic Fund\\nTransfer Card Or Access Device, ForgeryAnd Counterfeit Money under Section I –\\nProperty Coverages, stating the amountand cause of loss.\\nC. Loss Settlement\\nIn this Condition C. , the terms \"cost to repair or\\nreplace\" and \"replacement cost\" do not include theincreased costs incurred to comply with the enforcement of any ordinance or law, except to theextent that coverage for these increased costs isprovided in E. 11. Ordinance Or Law under Section\\nI – Property Coverages. Covered property losses\\nare settled as follows:\\n1. Property of the following types:\\na. Personal property;\\nb. Awnings, carpeting, household appliances,outdoor antennas and outdoor equipment,whether or not attached to buildings;\\nc. Structures that are not buildings; and\\nd. Grave markers, including mausoleums;\\nat actual cash value at the time of loss but notmore than the amount required to repair or replace.\\n2. Buildings covered under Coverage A or B at\\nreplacement cost without deduction for depreciation, subject to the following:\\na. If, at the time of loss, the amount of insurance in this policy on the damaged buildingis 80% or more of the full replacement costof the building immediately before the loss,we will pay the cost to repair or replace, after application of any deductible and withoutdeduction for depreciation, but not morethan the least of the following amounts:\\n(1) The limit of liability under this policy thatapplies to the building;\\n(2) The replacement cost of that part of thebuilding damaged with material of likekind and quality and for like use; or\\n(3) The necessary amount actually spent torepair or replace the damaged building.If the building is rebuilt at a new premises,\\nthe cost described in (2) above is limited to\\nthe cost which would have been incurred ifthe building had been built at the originalpremises.\\nb. If, at the time of loss, the amount of insurance in this policy on the damaged buildingis less than 80% of the full replacementcost of the building immediately before theloss, we will pay the greater of the followingamounts, but not more than the limit of liability under this policy that applies to thebuilding:\\n(1) The actual cash value of that part of thebuilding damaged; or\\n(2) That proportion of the cost to repair orreplace, after application of any deductible and without deduction for depreciation, that part of the building damaged,which the total amount of insurance inthis policy on the damaged buildingbears to 80% of the replacement cost ofthe building.\\nc. To determine the amount of insurancerequired to equal 80% of the full replacement cost of the building immediately before the loss, do not include the value of:\\n(1) Excavations, footings, foundations,piers, or any other structures or devicesthat support all or part of the building,which are below the undersurface of thelowest basement floor;\\n(2) Those supports described in (1) above\\nwhich are below the surface of theground inside the foundation walls, ifthere is no basement; and\\n(3) Underground flues, pipes, wiring anddrains.\\nd. We will pay no more than the actual cashvalue of the damage until actual repair orreplacement is complete. Once actual repair or replacement is complete, we willsettle the loss as noted in 2. a. and b.\\nabove.\\nHowever, if the cost to repair or replace thedamage is both:\\n(1) Less than 5% of the amount of insurance in this policy on the building; and\\n(2) Less than $2,500;\\nwe will settle the loss as noted in 2. a. and\\nb. above whether or not actual repair or re-\\nplacement is complete. e. You may disregard the replacement costloss settlement provisions and make claimunder this policy for loss to buildings on anactual cash value basis. You may thenmake claim for any additional liability according to the provisions of this ConditionC. Loss Settlement, provided you notify us\\nof your intent to do so within 180 days afterthe date of loss.\\nD. Loss To A Pair Or Set\\nIn case of loss to a pair or set we may elect to:\\n1. Repair or replace any part to restore the pair orset to its value before the loss; or\\n2. Pay the difference between actual cash valueof the property before and after the loss.\\nE. Appraisal\\nIf you and we fail to agree on the amount of loss,either may demand an appraisal of the loss. In thisevent, each party will choose a competent and impartial appraiser within 20 days after receiving awritten request from the other. The two appraiserswill choose an umpire. If they cannot agree uponan umpire within 15 days, you or we may requestthat the choice be made by a judge of a court ofrecord in the state where the \"residence premises\"is located. The appraisers will separately set theamount of loss. If the appraisers submit a writtenreport of an agreement to us, the amount agreedupon will be the amount of loss. If they fail toagree, they will submit their differences to the umpire. A decision agreed to by any two will set theamount of loss.\\nEach party will:\\n1. Pay its own appraiser; and\\n2. Bear the other expenses of the appraisal and\\numpire equally.\\nF. Other Insurance And Service Agreement\\nIf a loss covered by this policy is also covered by:\\n1. Other insurance, we will pay only the proportionof the loss that the limit of liability that appliesunder this policy bears to the total amount ofinsurance covering the loss; or\\n2. A service agreement, this insurance is excessover any amounts payable under any suchagreement. Service agreement means a service plan, property restoration plan, home warranty or other similar service warranty agreement, even if it is characterized as insurance.\\nG. Suit Against Us\\nNo action can be brought against us unless therehas been full compliance with all of the terms under Section I of this policy and the action is started\\nwithin two years after the date of loss.H. Our Option\\nIf we give you written notice within 30 days after\\nwe receive your signed, sworn proof of loss, wemay repair or replace any part of the damagedproperty with material or property of like kind andquality.\\nI. Loss Payment\\nWe will adjust all losses with you. We will pay youunless some other person is named in the policyor is legally entitled to receive payment. Loss willbe payable 60 days after we receive your proof ofloss and:\\n1. Reach an agreement with you;\\n2. There is an entry of a final judgment; or\\n3. There is a filing of an appraisal award with us.\\nJ. Abandonment Of Property\\nWe need not accept any property abandoned byan \"insured\".\\nK. Mortgage Clause\\n1. If a mortgagee is named in this policy, any losspayable under Coverage A or B will be paid to\\nthe mortgagee and you, as interests appear. Ifmore than one mortgagee is named, the orderof payment will be the same as the order ofprecedence of the mortgages.\\n2. If we deny your claim, that denial will not applyto a valid claim of the mortgagee, if the mortgagee:\\na. Notifies us of any change in ownership,occupancy or substantial change in risk ofwhich the mortgagee is aware;\\nb. Pays any premium due under this policy ondemand if you have neglected to pay thepremium; and\\nc. Submits a signed, sworn statement of losswithin 60 days after receiving notice from usof your failure to do so. Paragraphs E. Ap-\\npraisal, G. Suit Against Us and I. Loss\\nPayment under Section I – Conditions also\\napply to the mortgagee.\\n3. If we decide to cancel or not to renew thispolicy, the mortgagee will be notified at least 10days before the date cancellation or nonrenewal takes effect.\\n4. If we pay the mortgagee for any loss and denypayment to you:\\na. We are subrogated to all the rights of themortgagee granted under the mortgage onthe property; orb. At our option, we may pay to the mortgageethe whole principal on the mortgage plusany accrued interest. In this event, we willreceive a full assignment and transfer of themortgage and all securities held as collateral to the mortgage debt.\\n5. Subrogation will not impair the right of themortgagee to recover the full amount of themortgagee\\'s claim.\\nL. No Benefit To Bailee\\nWe will not recognize any assignment or grant anycoverage that benefits a person or organizationholding, storing or moving property for a fee regardless of any other provision of this policy.\\nM. Nuclear Hazard Clause\\n1. \"Nuclear Hazard\" means any nuclear reaction,radiation, or radioactive contamination, allwhether controlled or uncontrolled or howevercaused, or any consequence of any of these.\\n2. Loss caused by the nuclear hazard will not be\\nconsidered loss caused by fire, explosion, orsmoke, whether these perils are specificallynamed in or otherwise included within the Perils Insured Against.\\n3. This policy does not apply under Section I to\\nloss caused directly or indirectly by nuclearhazard, except that direct loss by fire resultingfrom the nuclear hazard is covered.\\nN. Recovered Property\\nIf you or we recover any property for which wehave made payment under this policy, you or wewill notify the other of the recovery. At your option,the property will be returned to or retained by youor it will become our property. If the recoveredproperty is returned to or retained by you, the losspayment will be adjusted based on the amount youreceived for the recovered property.\\nO. Volcanic Eruption Period\\nOne or more volcanic eruptions that occur within a72 hour period will be considered as one volcaniceruption.\\nP. Policy Period\\nThis policy applies only to loss which occurs during the policy period.\\nQ. Concealment Or Fraud\\nWe provide coverage to no \"insureds\" under thispolicy if, whether before or after a loss, an \"insured\" has:\\n1. Intentionally concealed or misrepresented anymaterial fact or circumstance;2. Engaged in fraudulent conduct; or\\n3. Made false statements;\\nrelating to this insurance.\\nR. Loss Payable Clause\\nIf the Declarations show a loss payee for certain\\nlisted insured personal property, the definition of\"insured\" is changed to include that loss payeewith respect to that property.\\nIf we decide to cancel or not renew this policy, that\\nloss payee will be notified in writing.\\nSECTION II – LIABILITY COVERAGES\\nA. Coverage E – Personal Liability\\nIf a claim is made or a suit is brought against an\\n\"insured\" for damages because of \"bodily injury\" or\"property damage\" caused by an \"occurrence\" towhich this coverage applies, we will:\\n1. Pay up to our limit of liability for the damagesfor which an \"insured\" is legally liable. Damages include prejudgment interest awardedagainst an \"insured\"; and\\n2. Provide a defense at our expense by counselof our choice, even if the suit is groundless,false or fraudulent. We may investigate andsettle any claim or suit that we decide is appropriate. Our duty to settle or defend endswhen our limit of liability for the \"occurrence\"has been exhausted by payment of a judgmentor settlement.\\nB. Coverage F – Medical Payments To Others\\nWe will pay the necessary medical expenses thatare incurred or medically ascertained within threeyears from the date of an accident causing \"bodilyinjury\". Medical expenses means reasonablecharges for medical, surgical, xray, dental, ambulance, hospital, professional nursing, prostheticdevices and funeral services. This coverage doesnot apply to you or regular residents of yourhousehold except \"residence employees\". As toothers, this coverage applies only:\\n1. To a person on the \"insured location\" with the\\npermission of an \"insured\"; or\\n2. To a person off the \"insured location\", if the\"bodily injury\":\\na. Arises out of a condition on the \"insuredlocation\" or the ways immediately adjoining;\\nb. Is caused by the activities of an \"insured\";\\nc. Is caused by a \"residence employee\" in thecourse of the \"residence employee\\'s\" employment by an \"insured\"; or\\nd. Is caused by an animal owned by or in thecare of an \"insured\". SECTION II – EXCLUSIONS\\nA. \"Motor Vehicle Liability\"\\n1. Coverages E and F do not apply to any \"motor\\nvehicle liability\" if, at the time and place of an\"occurrence\", the involved \"motor vehicle\":\\na. Is registered for use on public roads orproperty;\\nb. Is not registered for use on public roads orproperty, but such registration is required bya law, or regulation issued by a governmentagency, for it to be used at the place of the\"occurrence\"; or\\nc. Is being:\\n(1) Operated in, or practicing for, any prearranged or organized race, speed contestor other competition;\\n(2) Rented to others;\\n(3) Used to carry persons or cargo for acharge; or\\n(4) Used for any \"business\" purpose exceptfor a motorized golf cart while on a golfing facility.\\n2. If Exclusion A. 1. does not apply, there is still no\\ncoverage for \"motor vehicle liability\" unless the\"motor vehicle\" is:\\na. In dead storage on an \"insured location\";\\nb. Used solely to service an \"insured\\'s\" residence;\\nc. Designed to assist the handicapped and, atthe time of an \"occurrence\", it is:\\n(1) Being used to assist a handicappedperson; or\\n(2) Parked on an \"insured location\";\\nd. Designed for recreational use off publicroads and:\\n(1) Not owned by an \"insured\"; or\\n(2) Owned by an \"insured\" provided the\"occurrence\" takes place on an \"insuredlocation\" as defined in Definitions B.\\n6. a. , b. , d. , e. or h. ; or\\ne. A motorized golf cart that is owned by an\"insured\", designed to carry up to 4 persons, not built or modified after manufacture to exceed a speed of 25 miles per houron level ground and, at the time of an \"occurrence\", is within the legal boundaries of:\\n(1) A golfing facility and is parked or storedthere, or being used by an \"insured\" to:\\n(a) Play the game of golf or for otherrecreational or leisure activity allowed by the facility;(b) Travel to or from an area where\\n\"motor vehicles\" or golf carts areparked or stored; or\\n(c) Cross public roads at designatedpoints to access other parts of thegolfing facility; or\\n(2) A private residential community, including its public roads upon which a motorized golf cart can legally travel, whichis subject to the authority of a propertyowners association and contains an \"insured\\'s\" residence.\\nB. \"Watercraft Liability\"\\n1. Coverages E and F do not apply to any \"water-\\ncraft liability\" if, at the time of an \"occurrence\",the involved watercraft is being:\\na. Operated in, or practicing for, any prearranged or organized race, speed contest orother competition. This exclusion does notapply to a sailing vessel or a predicted logcruise;\\nb. Rented to others;\\nc. Used to carry persons or cargo for acharge; or\\nd. Used for any \"business\" purpose.\\n2. If Exclusion B. 1. does not apply, there is still no\\ncoverage for \"watercraft liability\" unless, at thetime of the \"occurrence\", the watercraft:\\na. Is stored;\\nb. Is a sailing vessel, with or without auxiliarypower, that is:\\n(1) Less than 26 feet in overall length; or\\n(2) 26 feet or more in overall length and notowned by or rented to an \"insured\"; or\\nc. Is not a sailing vessel and is powered by:\\n(1) An inboard or inboardoutdrive engine ormotor, including those that power a water jet pump, of:\\n(a) 50 horsepower or less and notowned by an \"insured\"; or\\n(b) More than 50 horsepower and notowned by or rented to an \"insured\";or\\n(2) One or more outboard engines or motors with:\\n(a) 25 total horsepower or less;\\n(b) More than 25 horsepower if theoutboard engine or motor is notowned by an \"insured\";\\n(c) More than 25 horsepower if theoutboard engine or motor is ownedby an \"insured\" who acquired it during the policy period; or (d) More than 25 horsepower if theoutboard engine or motor is ownedby an \"insured\" who acquired it before the policy period, but only if:\\n(i) You declare them at policy inception; or\\n(ii) Your intent to insure them isreported to us in writing within 45days after you acquire them.\\nThe coverages in (c) and (d) above ap-\\nply for the policy period.\\nHorsepower means the maximum powerrating assigned to the engine or motor bythe manufacturer.\\nC. \"Aircraft Liability\"\\nThis policy does not cover \"aircraft liability\".\\nD. \"Hovercraft Liability\"\\nThis policy does not cover \"hovercraft liability\".\\nE. Coverage E – Personal Liability And Coverage\\nF – Medical Payments To Others\\nCoverages E and F do not apply to the following:\\n1. Expected Or Intended Injury\\n\"Bodily injury\" or \"property damage\" which is\\nexpected or intended by an \"insured\" even ifthe resulting \"bodily injury\" or \"property damage\":\\na. Is of a different kind, quality or degree thaninitially expected or intended; or\\nb. Is sustained by a different person, entity,real or personal property, than initially expected or intended.\\nHowever, this Exclusion E. 1. does not apply to\\n\"bodily injury\" resulting from the use of reasonable force by an \"insured\" to protect persons orproperty;\\n2. \"Business\"\\na. \"Bodily injury\" or \"property damage\" arisingout of or in connection with a \"business\"conducted from an \"insured location\" or engaged in by an \"insured\", whether or not the\"business\" is owned or operated by an \"insured\" or employs an \"insured\".\\nThis Exclusion E. 2. applies but is not lim-\\nited to an act or omission, regardless of itsnature or circumstance, involving a serviceor duty rendered, promised, owed, or implied to be provided because of the natureof the \"business\".\\nb. This Exclusion E. 2. does not apply to:\\n(1) The rental or holding for rental of an\"insured location\";(a) On an occasional basis if used only\\nas a residence;\\n(b) In part for use only as a residence,unless a single family unit is intended for use by the occupyingfamily to lodge more than two roomers or boarders; or\\n(c) In part, as an office, school, studio orprivate garage; and\\n(2) An \"insured\" under the age of 21 yearsinvolved in a parttime or occasional,selfemployed \"business\" with no employees;\\n3. Professional Services\\n\"Bodily injury\" or \"property damage\" arising outof the rendering of or failure to render professional services;\\n4. \"Insured\\'s\" Premises Not An \"Insured\\nLocation\"\\n\"Bodily injury\" or \"property damage\" arising outof a premises:\\na. Owned by an \"insured\";\\nb. Rented to an \"insured\"; or\\nc. Rented to others by an \"insured\";\\nthat is not an \"insured location\";\\n5. War\\n\"Bodily injury\" or \"property damage\" caused directly or indirectly by war, including the following and any consequence of any of the following:\\na. Undeclared war, civil war, insurrection,rebellion or revolution;\\nb. Warlike act by a military force or militarypersonnel; or\\nc. Destruction, seizure or use for a militarypurpose.\\nDischarge of a nuclear weapon will be deemeda warlike act even if accidental;\\n6. Communicable Disease\\n\"Bodily injury\" or \"property damage\" whicharises out of the transmission of a communicable disease by an \"insured\";\\n7. Sexual Molestation, Corporal Punishment\\nOr Physical Or Mental Abuse\\n\"Bodily injury\" or \"property damage\" arising outof sexual molestation, corporal punishment orphysical or mental abuse; or8. Controlled Substance\\n\"Bodily injury\" or \"property damage\" arising outof the use, sale, manufacture, delivery, transferor possession by any person of a ControlledSubstance as defined by the Federal Food andDrug Law at 21 U. S. C. A. Sections 811 and812. Controlled Substances include but are notlimited to cocaine, LSD, marijuana and all narcotic drugs. However, this exclusion does notapply to the legitimate use of prescription drugsby a person following the orders of a licensedphysician.\\nExclusions A. \"Motor Vehicle Liability\", B. \"Water-\\ncraft Liability\", C. \"Aircraft Liability\", D. \"Hovercraft\\nLiability\" and E. 4. \"Insured\\'s\" Premises Not An \"In-\\nsured Location\" do not apply to \"bodily injury\" to a\\n\"residence employee\" arising out of and in thecourse of the \"residence employee\\'s\" employmentby an \"insured\".\\nF. Coverage E – Personal Liability\\nCoverage E does not apply to:\\n1. Liability:\\na. For any loss assessment charged againstyou as a member of an association, corporation or community of property owners, except as provided in D. Loss Assessment\\nunder Section II – Additional Coverages;\\nb. Under any contract or agreement enteredinto by an \"insured\". However, this exclusion does not apply to written contracts:\\n(1) That directly relate to the ownership,maintenance or use of an \"insured location\"; or\\n(2) Where the liability of others is assumedby you prior to an \"occurrence\";\\nunless excluded in a. above or elsewhere in\\nthis policy;\\n2. \"Property damage\" to property owned by an\"insured\". This includes costs or expenses incurred by an \"insured\" or others to repair, replace, enhance, restore or maintain such property to prevent injury to a person or damage toproperty of others, whether on or away from an\"insured location\";\\n3. \"Property damage\" to property rented to, occupied or used by or in the care of an \"insured\". This exclusion does not apply to \"propertydamage\" caused by fire, smoke or explosion;\\n4. \"Bodily injury\" to any person eligible to receiveany benefits voluntarily provided or required tobe provided by an \"insured\" under any:\\na. Workers\\' compensation law;b. Nonoccupational disability law; or\\nc. Occupational disease law;\\n5. \"Bodily injury\" or \"property damage\" for which\\nan \"insured\" under this policy:\\na. Is also an insured under a nuclear energyliability policy issued by the:\\n(1) Nuclear Energy Liability Insurance Association;\\n(2) Mutual Atomic Energy Liability Underwriters;\\n(3) Nuclear Insurance Association of Canada;\\nor any of their successors; or\\nb. Would be an insured under such a policybut for the exhaustion of its limit of liability;or\\n6. \"Bodily injury\" to you or an \"insured\" as definedunder Definitions 5. a. or b.\\nThis exclusion also applies to any claim madeor suit brought against you or an \"insured\":\\na. To repay; or\\nb. Share damages with;\\nanother person who may be obligated to paydamages because of \"bodily injury\" to an \"insured\".\\nG. Coverage F – Medical Payments To Others\\nCoverage F does not apply to \"bodily injury\":\\n1. To a \"residence employee\" if the \"bodily injury\":\\na. Occurs off the \"insured location\"; and\\nb. Does not arise out of or in the course of the\"residence employee\\'s\" employment by an\"insured\";\\n2. To any person eligible to receive benefits voluntarily provided or required to be provided under any:\\na. Workers\\' compensation law;\\nb. Nonoccupational disability law; or\\nc. Occupational disease law;\\n3. From any:\\na. Nuclear reaction;\\nb. Nuclear radiation; or\\nc. Radioactive contamination;\\nall whether controlled or uncontrolled or however caused; or\\nd. Any consequence of any of these; or\\n4. To any person, other than a \"residence employee\" of an \"insured\", regularly residing onany part of the \"insured location\". SECTION II – ADDITIONAL COVERAGES\\nWe cover the following in addition to the limits of\\nliability:\\nA. Claim Expenses\\nWe pay:\\n1. Expenses we incur and costs taxed against an\\n\"insured\" in any suit we defend;\\n2. Premiums on bonds required in a suit we defend, but not for bond amounts more than theCoverage E limit of liability. We need not apply\\nfor or furnish any bond;\\n3. Reasonable expenses incurred by an \"insured\"at our request, including actual loss of earnings (but not loss of other income) up to $250 perday, for assisting us in the investigation or defense of a claim or suit; and\\n4. Interest on the entire judgment which accruesafter entry of the judgment and before we payor tender, or deposit in court that part of thejudgment which does not exceed the limit of liability that applies.\\nB. First Aid Expenses\\nWe will pay expenses for first aid to others incurred by an \"insured\" for \"bodily injury\" coveredunder this policy. We will not pay for first aid to an\"insured\".\\nC. Damage To Property Of Others\\n1. We will pay, at replacement cost, up to $1,000per \"occurrence\" for \"property damage\" toproperty of others caused by an \"insured\".\\n2. We will not pay for \"property damage\":\\na. To the extent of any amount recoverableunder Section I;\\nb. Caused intentionally by an \"insured\" who is13 years of age or older;\\nc. To property owned by an \"insured\";\\nd. To property owned by or rented to a tenantof an \"insured\" or a resident in your household; or\\ne. Arising out of:\\n(1) A \"business\" engaged in by an \"insured\";\\n(2) Any act or omission in connection with apremises owned, rented or controlled byan \"insured\", other than the \"insured location\"; or\\n(3) The ownership, maintenance, occupancy, operation, use, loading or unloading of aircraft, hovercraft, watercraftor \"motor vehicles\".This exclusion e. (3) does not apply to a\\n\"motor vehicle\" that:\\n(a) Is designed for recreational use off\\npublic roads;\\n(b) Is not owned by an \"insured\"; and\\n(c) At the time of the \"occurrence\", isnot required by law, or regulation issued by a government agency, tohave been registered for it to beused on public roads or property.\\nD. Loss Assessment\\n1. We will pay up to $1,000 for your share of lossassessment charged against you, as owner ortenant of the \"residence premises\", during thepolicy period by a corporation or association ofproperty owners, when the assessment ismade as a result of:\\na. \"Bodily injury\" or \"property damage\" notexcluded from coverage under Section II –\\nExclusions; or\\nb. Liability for an act of a director, officer ortrustee in the capacity as a director, officeror trustee, provided such person:\\n(1) Is elected by the members of a corporation or association of property owners;and\\n(2) Serves without deriving any incomefrom the exercise of duties which aresolely on behalf of a corporation or association of property owners.\\n2. Paragraph I. Policy Period under Section II –\\nConditions does not apply to this Loss Assessment Coverage.\\n3. Regardless of the number of assessments, thelimit of $1,000 is the most we will pay for lossarising out of:\\na. One accident, including continuous or repeated exposure to substantially the samegeneral harmful condition; or\\nb. A covered act of a director, officer or trustee. An act involving more than one director, officer or trustee is considered to be asingle act.\\n4. We do not cover assessments charged againstyou or a corporation or association of propertyowners by any governmental body. SECTION II – CONDITIONS\\nA. Limit Of Liability\\nOur total liability under Coverage E for all dam-\\nages resulting from any one \"occurrence\" will not\\nbe more than the Coverage E limit of liability\\nshown in the Declarations. This limit is the sameregardless of the number of \"insureds\", claimsmade or persons injured. All \"bodily injury\" and\"property damage\" resulting from any one accidentor from continuous or repeated exposure to substantially the same general harmful conditionsshall be considered to be the result of one \"occurrence\".\\nOur total liability under Coverage F for all medical\\nexpense payable for \"bodily injury\" to one person\\nas the result of one accident will not be more thanthe Coverage F limit of liability shown in the Decla-\\nrations.\\nB. Severability Of Insurance\\nThis insurance applies separately to each \"insured\". This condition will not increase our limit ofliability for any one \"occurrence\".\\nC. Duties After \"Occurrence\"\\nIn case of an \"occurrence\", you or another \"insured\" will perform the following duties that apply. We have no duty to provide coverage under thispolicy if your failure to comply with the followingduties is prejudicial to us. You will help us by seeing that these duties are performed:\\n1. Give written notice to us or our agent as soonas is practical, which sets forth:\\na. The identity of the policy and the \"namedinsured\" shown in the Declarations;\\nb. Reasonably available information on thetime, place and circumstances of the \"occurrence\"; and\\nc. Names and addresses of any claimantsand witnesses;\\n2. Cooperate with us in the investigation, settlement or defense of any claim or suit;\\n3. Promptly forward to us every notice, demand,summons or other process relating to the \"occurrence\";\\n4. At our request, help us:\\na. To make settlement;\\nb. To enforce any right of contribution or indemnity against any person or organizationwho may be liable to an \"insured\";c. With the conduct of suits and attend hear-\\nings and trials; and\\nd. To secure and give evidence and obtain theattendance of witnesses;\\n5. With respect to C. Damage To Property Of\\nOthers under Section II – Additional Cover-\\nages, submit to us within 60 days after theloss, a sworn statement of loss and show thedamaged property, if in an \"insured\\'s\" control;\\n6. No \"insured\" shall, except at such \"insured\\'s\"own cost, voluntarily make payment, assumeobligation or incur expense other than for firstaid to others at the time of the \"bodily injury\".\\nD. Duties Of An Injured Person – Coverage F –\\nMedical Payments To Others\\n1. The injured person or someone acting for theinjured person will:\\na. Give us written proof of claim, under oath ifrequired, as soon as is practical; and\\nb. Authorize us to obtain copies of medicalreports and records.\\n2. The injured person will submit to a physicalexam by a doctor of our choice when and asoften as we reasonably require.\\nE. Payment Of Claim – Coverage F – Medical\\nPayments To Others\\nPayment under this coverage is not an admission\\nof liability by an \"insured\" or us.\\nF. Suit Against Us\\n1. No action can be brought against us unless\\nthere has been full compliance with all of theterms under this Section II.\\n2. No one will have the right to join us as a partyto any action against an \"insured\".\\n3. Also, no action with respect to Coverage E can\\nbe brought against us until the obligation ofsuch \"insured\" has been determined by finaljudgment or agreement signed by us.\\nG. Bankruptcy Of An \"Insured\"\\nBankruptcy or insolvency of an \"insured\" will notrelieve us of our obligations under this policy.\\nH. Other Insurance\\nThis insurance is excess over other valid and collectible insurance except insurance written specifically to cover as excess over the limits of liabilitythat apply in this policy.\\nI. Policy Period\\nThis policy applies only to \"bodily injury\" or \"property damage\" which occurs during the policy period. J. Concealment Or Fraud\\nWe do not provide coverage to an \"insured\" who,whether before or after a loss, has:\\n1. Intentionally concealed or misrepresented anymaterial fact or circumstance;\\n2. Engaged in fraudulent conduct; or\\n3. Made false statements;\\nrelating to this insurance.\\nSECTIONS I AND II – CONDITIONS\\nA. Liberalization Clause\\nIf we make a change which broadens coverage\\nunder this edition of our policy without additionalpremium charge, that change will automaticallyapply to your insurance as of the date we implement the change in your state, provided that thisimplementation date falls within 60 days prior to orduring the policy period stated in the Declarations.\\nThis Liberalization Clause does not apply to\\nchanges implemented with a general program revision that includes both broadenings and restrictions in coverage, whether that general programrevision is implemented through introduction of:\\n1. A subsequent edition of this policy; or\\n2. An amendatory endorsement.\\nB. Waiver Or Change Of Policy Provisions\\nA waiver or change of a provision of this policymust be in writing by us to be valid. Our requestfor an appraisal or examination will not waive anyof our rights.\\nC. Cancellation\\n1. You may cancel this policy at any time by returning it to us or by letting us know in writing ofthe date cancellation is to take effect .\\n2. We may cancel this policy only for the reasonsstated below by letting you know in writing ofthe date cancellation takes effect. This cancellation notice may be delivered to you, ormailed to you at your mailing address shown inthe Declarations. Proof of mailing will be sufficient proof of notice.\\na. When you have not paid the premium, wemay cancel at any time by letting you knowat least 10 days before the date cancellation takes effect.\\nb. When this policy has been in effect for lessthan 60 days and is not a renewal with us,we may cancel for any reason by letting youknow at least 10 days before the date cancellation takes effect.c. When this policy has been in effect for 60\\ndays or more, or at any time if it is a renewal with us, we may cancel:\\n(1) If there has been a material misrepresentation of fact which if known to uswould have caused us not to issue thepolicy; or\\n(2) If the risk has changed substantiallysince the policy was issued.\\nThis can be done by letting you know atleast 30 days before the date cancellationtakes effect.\\nd. When this policy is written for a period ofmore than one year, we may cancel for anyreason at anniversary by letting you know atleast 30 days before the date cancellationtakes effect.\\n3. When this policy is canceled, the premium forthe period from the date of cancellation to theexpiration date will be refunded pro rata.\\n4. If the return premium is not refunded with the\\nnotice of cancellation or when this policy is returned to us, we will refund it within a reasonable time after the date cancellation takes effect.\\nD. Nonrenewal\\nWe may elect not to renew this policy. We may doso by delivering to you, or mailing to you at yourmailing address shown in the Declarations, writtennotice at least 30 days before the expiration dateof this policy. Proof of mailing will be sufficientproof of notice. E. Assignment\\nAssignment of this policy will not be valid unlesswe give our written consent.\\nF. Subrogation\\nAn \"insured\" may waive in writing before a loss allrights of recovery against any person. If notwaived, we may require an assignment of rights ofrecovery for a loss to the extent that payment ismade by us.\\nIf an assignment is sought, an \"insured\" must sign\\nand deliver all related papers and cooperate withus.\\nSubrogation does not apply to Coverage F or\\nParagraph C. Damage To Property Of Others un-\\nder Section II – Additional Coverages.\\nG. Death\\nIf any person named in the Declarations or the\\nspouse, if a resident of the same household, dies,the following apply:\\n1. We insure the legal representative of the deceased but only with respect to the premisesand property of the deceased covered underthe policy at the time of death; and\\n2. \"Insured\" includes:\\na. An \"insured\" who is a member of yourhousehold at the time of your death, butonly while a resident of the \"residencepremises\"; and\\nb. With respect to your property, the person\\nhaving proper temporary custody of theproperty until appointment and qualificationof a legal representative.'"
      ]
     },
     "execution_count": 10,
     "metadata": {},
     "output_type": "execute_result"
    }
   ],
   "source": [
    "ho3_document[0].get_content()"
   ]
  },
  {
   "cell_type": "code",
   "execution_count": 11,
   "metadata": {},
   "outputs": [],
   "source": [
    "from llama_index.node_parser import SimpleNodeParser\n",
    "from llama_index.node_parser.extractors import (\n",
    "    MetadataExtractor,\n",
    "    SummaryExtractor,\n",
    "    QuestionsAnsweredExtractor,\n",
    "    KeywordExtractor,\n",
    "    MetadataFeatureExtractor,\n",
    ")\n",
    "\n",
    "text_splitter = SentenceSplitter(\n",
    "  chunk_size=512,\n",
    "  chunk_overlap=5,\n",
    ")\n"
   ]
  },
  {
   "cell_type": "code",
   "execution_count": 12,
   "metadata": {},
   "outputs": [],
   "source": [
    "from llama_index.node_parser import SimpleNodeParser\n",
    "from llama_index.node_parser.extractors import (\n",
    "    MetadataExtractor,\n",
    "    SummaryExtractor,\n",
    "    KeywordExtractor,\n",
    ")\n",
    "\n",
    "\n",
    "metadata_extractor = MetadataExtractor(\n",
    "    extractors=[\n",
    "        SummaryExtractor(summaries=[\"self\"]),\n",
    "        KeywordExtractor(keywords=5),\n",
    "    ],\n",
    ")\n",
    "\n",
    "node_parser = SimpleNodeParser(\n",
    "    text_splitter=text_splitter,\n",
    "    metadata_extractor=metadata_extractor,\n",
    ")"
   ]
  },
  {
   "cell_type": "code",
   "execution_count": 13,
   "metadata": {},
   "outputs": [],
   "source": [
    "ho3_nodes = node_parser.get_nodes_from_documents(ho3_document)"
   ]
  },
  {
   "cell_type": "code",
   "execution_count": 14,
   "metadata": {},
   "outputs": [
    {
     "data": {
      "text/plain": [
       "39"
      ]
     },
     "execution_count": 14,
     "metadata": {},
     "output_type": "execute_result"
    }
   ],
   "source": [
    "len(ho3_nodes)"
   ]
  },
  {
   "cell_type": "code",
   "execution_count": 15,
   "metadata": {},
   "outputs": [],
   "source": [
    "def identify_original_documents(documents, chunks):\n",
    "    \"\"\"\n",
    "    This function identifies the original document(s) each chunk came from.\n",
    "    Args:\n",
    "    documents: A list of original documents.\n",
    "    chunks: A list of text chunks.\n",
    "    Returns:\n",
    "    chunks: The provided chunks with appended page info.\n",
    "    \"\"\"\n",
    "    # Combine all documents into a single string and track their ranges.\n",
    "    long_string = \"\"\n",
    "    pages_dict = {}\n",
    "    for i, doc in enumerate(documents):\n",
    "        start = len(long_string)\n",
    "        long_string += doc.text\n",
    "        end = len(long_string)\n",
    "        pages_dict[i] = (start, end)\n",
    "\n",
    "    # Identify the original document(s) for each chunk.\n",
    "    for i, chunk in enumerate(chunks):\n",
    "        chunk_start = long_string.find(chunk.text)\n",
    "        chunk_end = chunk_start + len(chunk.text)\n",
    "        pages = []\n",
    "        for doc_number, (doc_start, doc_end) in pages_dict.items():\n",
    "            if (chunk_start >= doc_start and chunk_start < doc_end) or (chunk_end > doc_start and chunk_end <= doc_end):\n",
    "                pages.append(doc_number + 1)\n",
    "        # Update existing metadata dictionary\n",
    "        chunk.metadata.update({'pages': ', '.join(map(str, pages))})\n",
    "\n",
    "    return chunks\n"
   ]
  },
  {
   "cell_type": "code",
   "execution_count": 16,
   "metadata": {},
   "outputs": [],
   "source": [
    "# Running the function\n",
    "# replace \"documents_ho3\" and \"chunks_ho3\" with your actual variables\n",
    "test = identify_original_documents(documents_ho3, ho3_nodes)"
   ]
  },
  {
   "cell_type": "code",
   "execution_count": 17,
   "metadata": {},
   "outputs": [
    {
     "name": "stdout",
     "output_type": "stream",
     "text": [
      "LLM sees:\n",
      " [Excerpt from document]\n",
      "Document Name: HO3 Sample Policy\n",
      "Category: Homeowner's Insurance\n",
      "section_summary: \n",
      "This section outlines the agreement between the company providing the insurance and the named insured, as well as defining certain words and phrases used in the policy. The agreement states that the company will provide the insurance in return for the premium and compliance with the policy. The definitions include Aircraft Liability, Hovercraft Liability, Motor Vehicle Liability, and Watercraft Liability, as well as Bodily Injury, Business, and Motor Vehicle.\n",
      "excerpt_keywords:  Insurance, Aircraft Liability, Hovercraft Liability, Motor Vehicle Liability, Watercraft Liability\n",
      "pages: 1\n",
      "Excerpt:\n",
      "-----\n",
      "AGREEMENT\n",
      "We will provide the insurance described in this policy\n",
      "in return for the premium and compliance with allapplicable provisions of this policy.\n",
      "DEFINITIONS\n",
      "A. In this policy, \"you\" and \"your\" refer to the \"named\n",
      "insured\" shown in the Declarations and the spouseif a resident of the same household. \"We\", \"us\"and \"our\" refer to the Company providing this insurance.\n",
      "B. In addition, certain words and phrases are definedas follows:\n",
      "1. \"Aircraft Liability\", \"Hovercraft Liability\", \"Motor\n",
      "Vehicle Liability\" and \"Watercraft Liability\",subject to the provisions in b. below, mean the\n",
      "following:\n",
      "a. Liability for \"bodily injury\" or \"property damage\" arising out of the:\n",
      "(1) Ownership of such vehicle or craft by an\"insured\";\n",
      "(2) Maintenance, occupancy, operation,use, loading or unloading of such vehicle or craft by any person;\n",
      "(3) Entrustment of such vehicle or craft byan \"insured\" to any person;\n",
      "(4) Failure to supervise or negligent supervision of any person involving such vehicle or craft by an \"insured\"; or\n",
      "(5) Vicarious liability, whether or not imposed by law, for the actions of a childor minor involving such vehicle or craft.\n",
      "b. For the purpose of this definition:\n",
      "(1) Aircraft means any contrivance used ordesigned for flight except model orhobby aircraft not used or designed tocarry people or cargo;\n",
      "(2) Hovercraft means a selfpropelled motorized ground effect vehicle and includes, but is not limited to, flarecraftand air cushion vehicles;\n",
      "(3) Watercraft means a craft principallydesigned to be propelled on or in waterby wind, engine power or electric motor;and\n",
      "(4) Motor vehicle means a \"motor vehicle\"as defined in 7. below. 2. \"Bodily injury\" means bodily harm, sickness ordisease, including required care, loss of services and death that results.\n",
      "3. \"Business\" means:\n",
      "a. A trade, profession or occupation engagedin on a fulltime, parttime or occasional basis; or\n",
      "b. Any other activity engaged in for money orother compensation, except the following:\n",
      "(1) One or more activities,\n",
      "-----\n"
     ]
    }
   ],
   "source": [
    "from llama_index.schema import MetadataMode\n",
    "\n",
    "print(\n",
    "    \"LLM sees:\\n\",\n",
    "    test[0].get_content(metadata_mode=MetadataMode.LLM),\n",
    ")"
   ]
  },
  {
   "cell_type": "code",
   "execution_count": 32,
   "metadata": {},
   "outputs": [
    {
     "name": "stdout",
     "output_type": "stream",
     "text": [
      "Embeddings model sees:\n",
      " [Excerpt from document]\n",
      "Document Name: HO3 Sample Policy\n",
      "Category: Homeowner's Insurance\n",
      "section_summary: \n",
      "This section outlines the agreement between the company providing the insurance and the named insured, as well as defining certain words and phrases used in the policy. The agreement states that the company will provide the insurance in return for the premium and compliance with the policy. The definitions include Aircraft Liability, Hovercraft Liability, Motor Vehicle Liability, and Watercraft Liability, as well as Bodily Injury, Business, and Motor Vehicle.\n",
      "excerpt_keywords:  Insurance, Aircraft Liability, Hovercraft Liability, Motor Vehicle Liability, Watercraft Liability\n",
      "pages: 1\n",
      "Excerpt:\n",
      "-----\n",
      "AGREEMENT\n",
      "We will provide the insurance described in this policy\n",
      "in return for the premium and compliance with allapplicable provisions of this policy.\n",
      "DEFINITIONS\n",
      "A. In this policy, \"you\" and \"your\" refer to the \"named\n",
      "insured\" shown in the Declarations and the spouseif a resident of the same household. \"We\", \"us\"and \"our\" refer to the Company providing this insurance.\n",
      "B. In addition, certain words and phrases are definedas follows:\n",
      "1. \"Aircraft Liability\", \"Hovercraft Liability\", \"Motor\n",
      "Vehicle Liability\" and \"Watercraft Liability\",subject to the provisions in b. below, mean the\n",
      "following:\n",
      "a. Liability for \"bodily injury\" or \"property damage\" arising out of the:\n",
      "(1) Ownership of such vehicle or craft by an\"insured\";\n",
      "(2) Maintenance, occupancy, operation,use, loading or unloading of such vehicle or craft by any person;\n",
      "(3) Entrustment of such vehicle or craft byan \"insured\" to any person;\n",
      "(4) Failure to supervise or negligent supervision of any person involving such vehicle or craft by an \"insured\"; or\n",
      "(5) Vicarious liability, whether or not imposed by law, for the actions of a childor minor involving such vehicle or craft.\n",
      "b. For the purpose of this definition:\n",
      "(1) Aircraft means any contrivance used ordesigned for flight except model orhobby aircraft not used or designed tocarry people or cargo;\n",
      "(2) Hovercraft means a selfpropelled motorized ground effect vehicle and includes, but is not limited to, flarecraftand air cushion vehicles;\n",
      "(3) Watercraft means a craft principallydesigned to be propelled on or in waterby wind, engine power or electric motor;and\n",
      "(4) Motor vehicle means a \"motor vehicle\"as defined in 7. below. 2. \"Bodily injury\" means bodily harm, sickness ordisease, including required care, loss of services and death that results.\n",
      "3. \"Business\" means:\n",
      "a. A trade, profession or occupation engagedin on a fulltime, parttime or occasional basis; or\n",
      "b. Any other activity engaged in for money orother compensation, except the following:\n",
      "(1) One or more activities,\n",
      "-----\n"
     ]
    },
    {
     "data": {
      "text/plain": [
       "(None,)"
      ]
     },
     "execution_count": 32,
     "metadata": {},
     "output_type": "execute_result"
    }
   ],
   "source": [
    "print(\n",
    "    \"Embeddings model sees:\\n\",\n",
    "    test[0].get_content(metadata_mode=MetadataMode.EMBED)),"
   ]
  },
  {
   "cell_type": "code",
   "execution_count": 18,
   "metadata": {},
   "outputs": [
    {
     "name": "stdout",
     "output_type": "stream",
     "text": [
      "Document Name: HO3 Sample Policy\n",
      "Category: Homeowner's Insurance\n",
      "section_summary: \n",
      "This section outlines the coverage provided by the policy for the dwelling, other structures, and personal property. It specifies the limits of liability for each coverage, and outlines what is and is not covered. It also outlines the deductible provision that applies to all losses.\n",
      "excerpt_keywords: \n",
      "Dwelling, Other Structures, Residence Premises, Deductible, Personal Property\n",
      "pages: 2, 3\n"
     ]
    }
   ],
   "source": [
    "print(test[3].get_metadata_str())"
   ]
  },
  {
   "cell_type": "code",
   "execution_count": 19,
   "metadata": {},
   "outputs": [
    {
     "name": "stdout",
     "output_type": "stream",
     "text": [
      "[Excerpt from document]\n",
      "\n",
      "Excerpt:\n",
      "-----\n",
      "The one family dwelling where you reside;\n",
      "b. The two, three or four family dwelling whereyou reside in at least one of the family units;or\n",
      "c. That part of any other building where youreside;\n",
      "and which is shown as the \"residence premises\" in the Declarations.\n",
      "\"Residence premises\" also includes other\n",
      "structures and grounds at that location.DEDUCTIBLE\n",
      "Unless otherwise noted in this policy, the following\n",
      "deductible provision applies:\n",
      "Subject to the policy limits that apply, we will pay only\n",
      "that part of the total of all loss payable under Section I\n",
      "that exceeds the deductible amount shown in theDeclarations.\n",
      "SECTION I – PROPERTY COVERAGES\n",
      "A. Coverage A – Dwelling\n",
      "1. We cover:\n",
      "a. The dwelling on the \"residence premises\"\n",
      "shown in the Declarations, including structures attached to the dwelling; and\n",
      "b. Materials and supplies located on or next tothe \"residence premises\" used to construct,alter or repair the dwelling or other structures on the \"residence premises\".\n",
      "2. We do not cover land, including land on whichthe dwelling is located.\n",
      "B. Coverage B – Other Structures\n",
      "1. We cover other structures on the \"residencepremises\" set apart from the dwelling by clearspace. This includes structures connected tothe dwelling by only a fence, utility line, orsimilar connection.\n",
      "2. We do not cover:\n",
      "a. Land, including land on which the otherstructures are located;\n",
      "b. Other structures rented or held for rental toany person not a tenant of the dwelling,unless used solely as a private garage;\n",
      "c. Other structures from which any \"business\"\n",
      "is conducted; or\n",
      "d. Other structures used to store \"business\"property. However, we do cover a structurethat contains \"business\" property solelyowned by an \"insured\" or a tenant of thedwelling provided that \"business\" propertydoes not include gaseous or liquid fuel,other than fuel in a permanently installedfuel tank of a vehicle or craft parked orstored in the structure.\n",
      "3. The limit of liability for this coverage will not bemore than 10% of the limit of liability that applies to Coverage A. Use of this coverage does\n",
      "not reduce the Coverage A limit of liability. C. Coverage C – Personal Property\n",
      "1.\n",
      "-----\n"
     ]
    }
   ],
   "source": [
    "print(test[3].get_content())"
   ]
  },
  {
   "cell_type": "code",
   "execution_count": 20,
   "metadata": {},
   "outputs": [
    {
     "data": {
      "text/plain": [
       "(39, 39)"
      ]
     },
     "execution_count": 20,
     "metadata": {},
     "output_type": "execute_result"
    }
   ],
   "source": [
    "len(test), len(ho3_nodes)"
   ]
  },
  {
   "cell_type": "code",
   "execution_count": 21,
   "metadata": {},
   "outputs": [
    {
     "name": "stdout",
     "output_type": "stream",
     "text": [
      "[Excerpt from document]\n",
      "\n",
      "Excerpt:\n",
      "-----\n",
      "We do not cover:\n",
      "(1) The loss in value to any covered building or other structure due to the requirements of any ordinance or law; or\n",
      "(2) The costs to comply with any ordinanceor law which requires any \"insured\" orothers to test for, monitor, clean up, remove, contain, treat, detoxify or neutralize, or in any way respond to, or assess the effects of, pollutants in or onany covered building or other structure.\n",
      "Pollutants means any solid, liquid,gaseous or thermal irritant or contaminant, including smoke, vapor, soot,fumes, acids, alkalis, chemicals andwaste. Waste includes materials to berecycled, reconditioned or reclaimed.\n",
      "This coverage is additional insurance.\n",
      "12. Grave Markers\n",
      "We will pay up to $5,000 for grave markers, including mausoleums, on or away from the\"residence premises\" for loss caused by a PerilInsured Against under Coverage C.\n",
      "This coverage does not increase the limits ofliability that apply to the damaged coveredproperty.\n",
      "SECTION I – PERILS INSURED AGAINST\n",
      "A. Coverage A – Dwelling And Coverage B –\n",
      "Other Structures\n",
      "1. We insure against risk of direct physical loss to\n",
      "property described in Coverages A and B.\n",
      "2. We do not insure, however, for loss:\n",
      "a. Excluded under Section I – Exclusions;\n",
      "b. Involving collapse, except as provided inE. 8. Collapse under Section I – Property\n",
      "Coverages; or\n",
      "c. Caused by:\n",
      "(1) Freezing of a plumbing, heating, airconditioning or automatic fire protectivesprinkler system or of a household appliance, or by discharge, leakage oroverflow from within the system or appliance caused by freezing. This provision does not apply if you have usedreasonable care to:\n",
      "(a) Maintain heat in the building; or(b) Shut off the water supply and drain\n",
      "all systems and appliances of water.\n",
      "However, if the building is protected by\n",
      "an automatic fire protective sprinklersystem, you must use reasonable careto continue the water supply and maintain heat in the building for coverage toapply.\n",
      "For purposes of this provision a plumb-\n",
      "ing system or household appliance doesnot include a sump, sump pump or related equipment or a roof drain,\n",
      "-----\n"
     ]
    }
   ],
   "source": [
    "print(test[13].get_content())"
   ]
  },
  {
   "cell_type": "code",
   "execution_count": 22,
   "metadata": {},
   "outputs": [
    {
     "name": "stdout",
     "output_type": "stream",
     "text": [
      "Document Name: HO3 Sample Policy\n",
      "Category: Homeowner's Insurance\n",
      "section_summary: \n",
      "This section outlines the coverage provided by the insurance policy for dwelling and other structures, including grave markers. It states that the policy covers direct physical loss to property, but excludes losses caused by collapse, freezing of plumbing, heating, air conditioning, or automatic fire protective sprinkler systems, or household appliances, and losses due to excluded perils. It also states that the policy will pay up to $5,000 for grave markers.\n",
      "excerpt_keywords:  insurance, ordinance, law, pollutants, grave markers\n",
      "pages: 8, 9\n"
     ]
    }
   ],
   "source": [
    "print(test[13].get_metadata_str())"
   ]
  },
  {
   "cell_type": "code",
   "execution_count": 23,
   "metadata": {},
   "outputs": [
    {
     "name": "stdout",
     "output_type": "stream",
     "text": [
      "(b) Shut off the water supply and drain\n",
      "all systems and appliances of water.\n",
      "However, if the building is protected by\n",
      "an automatic fire protective sprinklersystem, you must use reasonable careto continue the water supply and maintain heat in the building for coverage toapply.\n",
      "For purposes of this provision a plumb-\n",
      "ing system or household appliance doesnot include a sump, sump pump or related equipment or a roof drain, gutter,downspout or similar fixtures or equipment;\n",
      "(2) Freezing, thawing, pressure or weight ofwater or ice, whether driven by wind ornot, to a:\n",
      "(a) Fence, pavement, patio or swimmingpool;\n",
      "(b) Footing, foundation, bulkhead, wall,or any other structure or device thatsupports all or part of a building, orother structure;\n",
      "(c) Retaining wall or bulkhead that doesnot support all or part of a building orother structure; or\n",
      "(d) Pier, wharf or dock;\n",
      "(3) Theft in or to a dwelling under construction, or of materials and supplies for usein the construction until the dwelling isfinished and occupied;\n",
      "(4) Vandalism and malicious mischief, andany ensuing loss caused by any intentional and wrongful act committed in thecourse of the vandalism or maliciousmischief, if the dwelling has been vacantfor more than 60 consecutive days immediately before the loss. A dwellingbeing constructed is not considered vacant;\n",
      "(5) Mold, fungus or wet rot. However, we doinsure for loss caused by mold, fungusor wet rot that is hidden within the wallsor ceilings or beneath the floors orabove the ceilings of a structure if suchloss results from the accidental discharge or overflow of water or steamfrom within:\n",
      "(a) A plumbing, heating, air conditioningor automatic fire protective sprinklersystem, or a household appliance,on the \"residence premises\"; or (b) A storm drain, or water, steam orsewer pipes, off the \"residencepremises\".\n",
      "For purposes of this provision, aplumbing system or household appliance does not include a sump, sumppump or related equipment or a roofdrain, gutter, downspout or similar fixtures or equipment; or\n",
      "(6) Any of the following:\n",
      "(a) Wear and tear, marring, deterioration;\n",
      "(b) Mechanical breakdown, latent defect, inherent vice, or any quality in\n",
      "property that causes it to damage ordestroy itself;\n",
      "(c) Smog, rust or other corrosion, or dryrot;\n",
      "(d) Smoke from agricultural smudging orindustrial operations;\n",
      "(e) Discharge, dispersal, seepage, migration, release or escape of pollutants unless the discharge, dispersal,seepage, migration, release or escape is itself caused by a Peril Insured Against named under Coverage C.\n",
      "Pollutants means any solid, liquid,gaseous or thermal irritant or contaminant, including smoke, vapor,soot, fumes, acids, alkalis, chemicals and waste. Waste includesmaterials to be recycled, reconditioned or reclaimed;\n",
      "(f) Settling, shrinking, bulging or expansion, including resultant cracking, ofbulkheads, pavements, patios, footings, foundations, walls, floors, roofsor ceilings;\n",
      "(g) Birds, vermin, rodents, or insects; or\n",
      "(h) Animals owned or kept by an \"insured\".\n",
      "Exception To c. (6)\n",
      "Unless the loss is otherwise excluded, we\n",
      "cover loss to property covered under Coverage A or B resulting from an accidental\n",
      "discharge or overflow of water or steamfrom within a:\n",
      "(i) Storm drain, or water, steam or sewerpipe, off the \"residence premises\"; or\n"
     ]
    }
   ],
   "source": [
    "print(documents_ho3[8].get_content())"
   ]
  },
  {
   "cell_type": "code",
   "execution_count": 24,
   "metadata": {},
   "outputs": [
    {
     "name": "stdout",
     "output_type": "stream",
     "text": [
      "(ii) Plumbing, heating, air conditioning or\n",
      "automatic fire protective sprinkler sys-\n",
      "tem or household appliance on the\"residence premises\". This includes thecost to tear out and replace any part of abuilding, or other structure, on the \"residence premises\", but only when necessary to repair the system or appliance. However, such tear out and replacement coverage only applies to otherstructures if the water or steam causesactual damage to a building on the\"residence premises\".\n",
      "We do not cover loss to the system or appliance from which this water or steam escaped.\n",
      "For purposes of this provision, a plumbing\n",
      "system or household appliance does notinclude a sump, sump pump or relatedequipment or a roof drain, gutter, downspout or similar fixtures or equipment.\n",
      "Section I – Exclusion A. 3. Water Damage,\n",
      "Paragraphs a. and c. that apply to surface\n",
      "water and water below the surface of theground do not apply to loss by water coveredunder c. (5) and (6) above.\n",
      "Under 2. b. and c. above, any ensuing loss to\n",
      "property described in Coverages A and B not\n",
      "precluded by any other provision in this policyis covered.\n",
      "B. Coverage C – Personal Property\n",
      "We insure for direct physical loss to the propertydescribed in Coverage C caused by any of the\n",
      "following perils unless the loss is excluded in Section I – Exclusions.\n",
      "1. Fire Or Lightning\n",
      "2. Windstorm Or Hail\n",
      "This peril includes loss to watercraft of all types\n",
      "and their trailers, furnishings, equipment, and\n",
      "outboard engines or motors, only while inside afully enclosed building.\n",
      "This peril does not include loss to the property\n",
      "contained in a building caused by rain, snow,sleet, sand or dust unless the direct force ofwind or hail damages the building causing anopening in a roof or wall and the rain, snow,sleet, sand or dust enters through this opening.\n",
      "3. Explosion\n",
      "4. Riot Or Civil Commotion5. Aircraft\n",
      "This peril includes selfpropelled missiles and\n",
      "spacecraft. 6. Vehicles\n",
      "7. Smoke\n",
      "This peril means sudden and accidental dam-\n",
      "age from smoke, including the emission orpuffback of smoke, soot, fumes or vapors froma boiler, furnace or related equipment.\n",
      "This peril does not include loss caused by\n",
      "smoke from agricultural smudging or industrialoperations.\n",
      "8. Vandalism Or Malicious Mischief\n",
      "9. Theft\n",
      "a. This peril includes attempted theft and loss\n",
      "of property from a known place when it islikely that the property has been stolen.\n",
      "b. This peril does not include loss caused bytheft:\n",
      "(1) Committed by an \"insured\";\n",
      "(2) In or to a dwelling under construction, orof materials and supplies for use in theconstruction until the dwelling is finishedand occupied;\n",
      "(3) From that part of a \"residence premises\"rented by an \"insured\" to someone otherthan another \"insured\"; or\n",
      "(4) That occurs off the \"residence premises\" of:\n",
      "(a) Trailers, semitrailers and campers;\n",
      "(b) Watercraft of all types, and theirfurnishings, equipment and outboardengines or motors; or\n",
      "(c) Property while at any other residenceowned by, rented to, or occupied byan \"insured\", except while an \"insured\" is temporarily living there. Property of an \"insured\" who is astudent is covered while at the residence the student occupies to attendschool as long as the student hasbeen there at any time during the 60days immediately before the loss.\n",
      "10. Falling Objects\n",
      "This peril does not include loss to propertycontained in a building unless the roof or anoutside wall of the building is first damaged bya falling object. Damage to the falling object itself is not included.\n",
      "11. Weight Of Ice, Snow Or Sleet\n",
      "This peril means weight of ice, snow or sleetwhich causes damage to property contained ina building.\n"
     ]
    }
   ],
   "source": [
    "print(documents_ho3[9].get_content())"
   ]
  },
  {
   "cell_type": "code",
   "execution_count": 25,
   "metadata": {},
   "outputs": [],
   "source": [
    "from llama_index import VectorStoreIndex, StorageContext\n",
    "\n",
    "storage_context = StorageContext.from_defaults()\n",
    "\n",
    "index = VectorStoreIndex(\n",
    "    ho3_nodes,\n",
    "    storage_context=storage_context)"
   ]
  },
  {
   "cell_type": "code",
   "execution_count": 26,
   "metadata": {},
   "outputs": [],
   "source": [
    "index.set_index_id = \"ho3_sample_metadatas\"\n",
    "storage_context.persist(persist_dir=\"./ho3_metadatas_index\")"
   ]
  },
  {
   "cell_type": "code",
   "execution_count": 27,
   "metadata": {},
   "outputs": [],
   "source": [
    "qe = index.as_query_engine()"
   ]
  },
  {
   "cell_type": "code",
   "execution_count": 28,
   "metadata": {},
   "outputs": [],
   "source": [
    "res = qe.query(\"What are the conditions for water damage to be covered by the policy?\")"
   ]
  },
  {
   "cell_type": "code",
   "execution_count": 29,
   "metadata": {},
   "outputs": [],
   "source": [
    "from IPython.display import Markdown"
   ]
  },
  {
   "cell_type": "code",
   "execution_count": 30,
   "metadata": {},
   "outputs": [
    {
     "data": {
      "text/markdown": [
       "\n",
       "Water damage is covered by the policy if it is caused by an accidental discharge or overflow of water or steam from within a storm drain, plumbing, heating, air conditioning or automatic fire protective sprinkler system or household appliance on the \"residence premises\". Additionally, any ensuing loss to property described in Coverages A and B not precluded by any other provision in the policy is covered."
      ],
      "text/plain": [
       "<IPython.core.display.Markdown object>"
      ]
     },
     "execution_count": 30,
     "metadata": {},
     "output_type": "execute_result"
    }
   ],
   "source": [
    "Markdown(f'{res}')"
   ]
  },
  {
   "cell_type": "code",
   "execution_count": 31,
   "metadata": {},
   "outputs": [
    {
     "name": "stdout",
     "output_type": "stream",
     "text": [
      "Document Name: HO3 Sample Policy\n",
      "Category: Homeowner's Insurance\n",
      "section_summary: \n",
      "This section outlines the exclusions from coverage under the policy, including earth movement, water damage, power failure, neglect, and war. It also explains the circumstances under which direct loss by fire, explosion, or theft resulting from water damage is covered.\n",
      "excerpt_keywords: \n",
      "Insurance, Exclusion, Earthquake, Flood, Power Failure\n",
      "pages: 11, 12\n"
     ]
    }
   ],
   "source": [
    "print(res.source_nodes[0].node.get_metadata_str())"
   ]
  },
  {
   "cell_type": "code",
   "execution_count": null,
   "metadata": {},
   "outputs": [],
   "source": []
  }
 ],
 "metadata": {
  "kernelspec": {
   "display_name": ".venv",
   "language": "python",
   "name": "python3"
  },
  "language_info": {
   "codemirror_mode": {
    "name": "ipython",
    "version": 3
   },
   "file_extension": ".py",
   "mimetype": "text/x-python",
   "name": "python",
   "nbconvert_exporter": "python",
   "pygments_lexer": "ipython3",
   "version": "3.10.1"
  },
  "orig_nbformat": 4
 },
 "nbformat": 4,
 "nbformat_minor": 2
}
