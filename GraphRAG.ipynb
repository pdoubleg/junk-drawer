{
 "cells": [
  {
   "cell_type": "markdown",
   "id": "105a2123",
   "metadata": {},
   "source": [
    "# Comparing Retrieval Augmented Generation (RAG) Methods with Graphs\n",
    "\n",
    "In this notebook we will explore and compare several RAG methods with a focus on knowledge graphs.\n",
    "\n",
    "## Background on RAG:\n",
    "\n",
    "Below digrams show how RAG works:\n",
    "\n",
    "```\n",
    "                  RAG with Llama Index\n",
    "                  ┌────┬────┬────┬────┐                  \n",
    "                  │ 1  │ 2  │ 3  │ 4  │                  \n",
    "                  ├────┴────┴────┴────┤                  \n",
    "                  │  Docs/Knowledge   │                  \n",
    "┌───────┐         │        ...        │       ┌─────────┐\n",
    "│       │         ├────┬────┬────┬────┤       │         │\n",
    "│       │         │ 95 │ 96 │    │    │       │         │\n",
    "│       │         └────┴────┴────┴────┘       │         │\n",
    "│ User  │─ ─ ─ ─ ─ ─ ─ ─ ─ ─ ─ ─ ─ ─ ─ ─ ─ ─ ─▶   LLM   │\n",
    "│       │                                     │         │\n",
    "│       │                                     │         │\n",
    "└───────┘    ┌ ─ ─ ─ ─ ─ ─ ─ ─ ─ ─ ─ ─ ─ ─ ┐  └─────────┘\n",
    "    │          ┌──────────────────────────┐        ▲     \n",
    "    └────────┼▶│  Tell me ....., please   │├───────┘     \n",
    "               └──────────────────────────┘              \n",
    "             │ ┌────┐ ┌────┐               │             \n",
    "               │ 3  │ │ 96 │                             \n",
    "             │ └────┘ └────┘               │             \n",
    "              ─ ─ ─ ─ ─ ─ ─ ─ ─ ─ ─ ─ ─ ─ ─ \n",
    "```\n",
    "\n",
    "In VectorDB based RAG, we create embeddings of each node (chunk), and find TopK related ones towards a given question during the query. In the above diagram, nodes `3` and `96` were fetched as the TopK related nodes and used to answer the user query. \n",
    "\n",
    "## Background Graph RAG\n",
    "\n",
    "In Graph RAG, we will extract relationships between representing concise facts from each node. It would look something like this:\n",
    "\n",
    "```\n",
    "Node Split and Embedding\n",
    "\n",
    "┌────┬────┬────┬────┐\n",
    "│ 1  │ 2  │ 3  │ 4  │\n",
    "├────┴────┴────┴────┤\n",
    "│  Docs/Knowledge   │\n",
    "│        ...        │\n",
    "├────┬────┬────┬────┤\n",
    "│ 95 │ 96 │    │    │\n",
    "└────┴────┴────┴────┘\n",
    "```\n",
    "\n",
    "If we zoomed in:\n",
    "\n",
    "```\n",
    "       Node Split and Embedding, with Knowledge Graph being extracted\n",
    "\n",
    "┌──────────────────┬──────────────────┬──────────────────┬──────────────────┐\n",
    "│ .─.       .─.    │  .─.       .─.   │            .─.   │  .─.       .─.   │\n",
    "│( x )─────▶ y )   │ ( x )─────▶ a )  │           ( j )  │ ( m )◀────( x )  │\n",
    "│ `▲'       `─'    │  `─'       `─'   │            `─'   │  `─'       `─'   │\n",
    "│  │     1         │        2         │        3    │    │        4         │\n",
    "│ .─.              │                  │            .▼.   │                  │\n",
    "│( z )─────────────┼──────────────────┼──────────▶( i )─┐│                  │\n",
    "│ `◀────┐          │                  │            `─'  ││                  │\n",
    "├───────┼──────────┴──────────────────┴─────────────────┼┴──────────────────┤\n",
    "│       │                      Docs/Knowledge           │                   │\n",
    "│       │                            ...                │                   │\n",
    "│       │                                               │                   │\n",
    "├───────┼──────────┬──────────────────┬─────────────────┼┬──────────────────┤\n",
    "│  .─.  └──────.   │  .─.             │                 ││  .─.             │\n",
    "│ ( x ◀─────( b )  │ ( x )            │                 └┼▶( n )            │\n",
    "│  `─'       `─'   │  `─'             │                  │  `─'             │\n",
    "│        95   │    │   │    96        │                  │   │    98        │\n",
    "│            .▼.   │  .▼.             │                  │   ▼              │\n",
    "│           ( c )  │ ( d )            │                  │  .─.             │\n",
    "│            `─'   │  `─'             │                  │ ( x )            │\n",
    "└──────────────────┴──────────────────┴──────────────────┴──`─'─────────────┘\n",
    "```\n",
    "\n",
    "In theory, knowledge graphs should help balance granularity and density. Optionally, multi-hop of `x -> y`, `i -> j -> z -> x` etc... across many more nodes (chunks) than TopK search allows. "
   ]
  },
  {
   "cell_type": "markdown",
   "id": "a75004d1",
   "metadata": {},
   "source": [
    "# 1. Preparation\n",
    "\n",
    "## 1.1 Prepare for LLM"
   ]
  },
  {
   "cell_type": "code",
   "execution_count": 2,
   "id": "061a39e5",
   "metadata": {},
   "outputs": [],
   "source": [
    "import os\n",
    "from dotenv import load_dotenv\n",
    "\n",
    "import logging\n",
    "import sys\n",
    "\n",
    "logging.basicConfig(\n",
    "    stream=sys.stdout, level=logging.INFO\n",
    ")  # logging.DEBUG for more verbose output\n",
    "logging.getLogger().addHandler(logging.StreamHandler(stream=sys.stdout))\n",
    "\n",
    "from IPython.display import Markdown, display, HTML"
   ]
  },
  {
   "cell_type": "code",
   "execution_count": 3,
   "id": "5363496e",
   "metadata": {},
   "outputs": [
    {
     "name": "stdout",
     "output_type": "stream",
     "text": [
      "INFO:numexpr.utils:Note: NumExpr detected 16 cores but \"NUMEXPR_MAX_THREADS\" not set, so enforcing safe limit of 8.\n",
      "Note: NumExpr detected 16 cores but \"NUMEXPR_MAX_THREADS\" not set, so enforcing safe limit of 8.\n",
      "INFO:numexpr.utils:NumExpr defaulting to 8 threads.\n",
      "NumExpr defaulting to 8 threads.\n"
     ]
    }
   ],
   "source": [
    "from llama_index import (\n",
    "    ServiceContext,\n",
    "    VectorStoreIndex,\n",
    "    KnowledgeGraphIndex,\n",
    ")\n",
    "from llama_index import set_global_service_context\n",
    "\n",
    "from llama_index.storage.storage_context import StorageContext\n",
    "from llama_index.graph_stores.simple import SimpleGraphStore"
   ]
  },
  {
   "cell_type": "markdown",
   "id": "2b17442e",
   "metadata": {},
   "source": [
    "## 1.2. Prepare  Graph Store\n"
   ]
  },
  {
   "cell_type": "code",
   "execution_count": 6,
   "id": "d6cf0e92",
   "metadata": {},
   "outputs": [
    {
     "name": "stdout",
     "output_type": "stream",
     "text": [
      "WARNING:llama_index.graph_stores.simple:No existing llama_index.graph_stores.simple found at ../ho3_storage_kg_graph. Initializing a new graph_store from scratch. \n",
      "No existing llama_index.graph_stores.simple found at ../ho3_storage_kg_graph. Initializing a new graph_store from scratch. \n"
     ]
    }
   ],
   "source": [
    "graph_store = SimpleGraphStore().from_persist_path(persist_path='../ho3_storage_kg_graph')"
   ]
  },
  {
   "cell_type": "code",
   "execution_count": 7,
   "id": "6e85d83a",
   "metadata": {},
   "outputs": [],
   "source": [
    "storage_context = StorageContext.from_defaults(graph_store=graph_store)"
   ]
  },
  {
   "cell_type": "markdown",
   "id": "8cc5613a",
   "metadata": {},
   "source": [
    "## 2. Build the Knowledge Graph\n",
    "\n",
    "The Knowledge Graph is created with the `KnowledgeGraphIndex` from Llama Index. This extracts \"Triplets\" that will be persisted in `SimpleGraphStore`."
   ]
  },
  {
   "cell_type": "markdown",
   "id": "d9cb7083",
   "metadata": {},
   "source": [
    "### 2.1 Preprocess Data\n",
    "\n",
    "We will download and preprecess data from:\n",
    "    https://www.iii.org/sites/default/files/docs/pdf/HO3_sample.pdf"
   ]
  },
  {
   "cell_type": "code",
   "execution_count": 8,
   "id": "8e50f03d",
   "metadata": {},
   "outputs": [],
   "source": [
    "from llama_index import SimpleDirectoryReader\n",
    "from src_index.clean_sample_ho3 import clean_sample_ho3_pages\n",
    "\n",
    "documents = SimpleDirectoryReader(input_files=['./data/HO3_sample.pdf']).load_data()\n",
    "\n",
    "for i, _ in enumerate(documents):\n",
    "    documents[i].text = clean_sample_ho3_pages(documents[i].text)\n"
   ]
  },
  {
   "cell_type": "markdown",
   "id": "a35757f5",
   "metadata": {},
   "source": [
    "* PDF page count for the HO3 Homeowner's policy document"
   ]
  },
  {
   "cell_type": "code",
   "execution_count": 9,
   "id": "bf402428",
   "metadata": {},
   "outputs": [
    {
     "data": {
      "text/plain": [
       "22"
      ]
     },
     "execution_count": 9,
     "metadata": {},
     "output_type": "execute_result"
    }
   ],
   "source": [
    "len(documents)"
   ]
  },
  {
   "cell_type": "code",
   "execution_count": 10,
   "id": "18f6c441",
   "metadata": {},
   "outputs": [
    {
     "name": "stdout",
     "output_type": "stream",
     "text": [
      "AGREEMENT\n",
      "We will provide the insurance described in this policy\n",
      "in return for the premium and compliance with allapplicable provisions of this policy.\n",
      "DEFINITIONS\n",
      "A. In this policy, \"you\" and \"your\" refer to the \"named\n",
      "insured\" shown in the Declarations and the spouseif a resident of the same household. \"We\", \"us\"and \"our\" refer to the Company providing this insurance.\n",
      "B. In addition, certain words and phrases are definedas follows:\n",
      "1. \"Aircraft Liability\", \"Hovercraft Liability\", \"Motor\n",
      "Vehicle Liability\" and \"Watercraft Liability\",subject to the provisions in b. below, mean the\n",
      "following:\n",
      "a. Liability for \"bodily injury\" or \"property damage\" arising out of the:\n",
      "(1) Ownership of such vehicle or craft by an\"insured\";\n",
      "(2) Maintenance, occupancy, operation,use, loading or unloading of such vehicle or craft by any person;\n",
      "(3) Entrustment of such vehicle or craft byan \"insured\" to any person;\n",
      "(4) Failure to supervise or negligent supervision of any person involving such vehicle or craft by an \"insured\"; or\n",
      "(5) Vicarious liability, whether or not imposed by law, for the actions of a childor minor involving such vehicle or craft.\n",
      "b. For the purpose of this definition:\n",
      "(1) Aircraft means any contrivance used ordesigned for flight except model orhobby aircraft not used or designed tocarry people or cargo;\n",
      "(2) Hovercraft means a selfpropelled motorized ground effect vehicle and includes, but is not limited to, flarecraftand air cushion vehicles;\n",
      "(3) Watercraft means a craft principallydesigned to be propelled on or in waterby wind, engine power or electric motor;and\n",
      "(4) Motor vehicle means a \"motor vehicle\"as defined in 7. below. 2. \"Bodily injury\" means bodily harm, sickness ordisease, including required care, loss of services and death that results.\n",
      "3. \"Business\" means:\n",
      "a. A trade, profession or occupation engagedin on a fulltime, parttime or occasional basis; or\n",
      "b. Any other activity engaged in for money orother compensation, except the following:\n",
      "(1) One or more activities, not described in (2) through (4) below, for which no \"in-\n",
      "sured\" receives more than $2,000 intotal compensation for the 12 monthsbefore the beginning of the policy period;\n",
      "(2) Volunteer activities for which no moneyis received other than payment for expenses incurred to perform the activity;\n",
      "(3) Providing home day care services forwhich no compensation is received,other than the mutual exchange of suchservices; or\n",
      "(4) The rendering of home day care services to a relative of an \"insured\".\n",
      "4. \"Employee\" means an employee of an \"insured\", or an employee leased to an \"insured\"by a labor leasing firm under an agreementbetween an \"insured\" and the labor leasingfirm, whose duties are other than those performed by a \"residence employee\".\n",
      "5. \"Insured\" means:\n",
      "a. You and residents of your household whoare:\n",
      "(1) Your relatives; or\n",
      "(2) Other persons under the age of 21 andin the care of any person named above;\n",
      "b. A student enrolled in school full time, asdefined by the school, who was a residentof your household before moving out to attend school, provided the student is underthe age of:\n",
      "(1) 24 and your relative; or\n",
      "(2) 21 and in your care or the care of aperson described in a. (1) above; or\n"
     ]
    }
   ],
   "source": [
    "print(documents[0].text)"
   ]
  },
  {
   "cell_type": "markdown",
   "id": "d948d288",
   "metadata": {},
   "source": [
    "* Prompt to build the graph:"
   ]
  },
  {
   "cell_type": "code",
   "execution_count": 11,
   "id": "266bb810",
   "metadata": {},
   "outputs": [],
   "source": [
    "from llama_index.prompts.base import Prompt\n",
    "from llama_index.prompts.prompt_type import PromptType\n",
    "\n",
    "\n",
    "KG_TRIPLET_EXTRACT_TMPL = (\n",
    "    \"Some text is provided below. Given the text, extract up to \"\n",
    "    \"{max_knowledge_triplets} \"\n",
    "    \"knowledge triplets in the form of (subject, predicate, object). Avoid stopwords, 'page_label', and page numbers.\\n\"\n",
    "    \"---------------------\\n\"\n",
    "    \"Example:\"\n",
    "    \"Text: Alice is Bob's mother.\"\n",
    "    \"Triplets:\\n(Alice, is mother of, Bob)\\n\"\n",
    "    \"Text: Philz is a coffee shop founded in Berkeley in 1982.\\n\"\n",
    "    \"Triplets:\\n\"\n",
    "    \"(Philz, is, coffee shop)\\n\"\n",
    "    \"(Philz, founded in, Berkeley)\\n\"\n",
    "    \"(Philz, founded in, 1982)\\n\"\n",
    "    \"---------------------\\n\"\n",
    "    \"Text: {text}\\n\"\n",
    "    \"Triplets:\\n\"\n",
    ")\n",
    "KG_TRIPLET_EXTRACT_PROMPT = Prompt(\n",
    "    KG_TRIPLET_EXTRACT_TMPL, prompt_type=PromptType.KNOWLEDGE_TRIPLET_EXTRACT\n",
    ")"
   ]
  },
  {
   "cell_type": "markdown",
   "id": "cc21c03b",
   "metadata": {},
   "source": [
    "### 2.2 Extract Triplets and Save to SimpleGraphStore"
   ]
  },
  {
   "cell_type": "markdown",
   "id": "081f3668",
   "metadata": {},
   "source": [
    "This call will take some time, it'll extract entities and relationships and store them in SimpleGraphStore"
   ]
  },
  {
   "cell_type": "code",
   "execution_count": 12,
   "id": "cd335e17",
   "metadata": {},
   "outputs": [],
   "source": [
    "from src_index.token_catcher import Usage\n",
    "usage = Usage()"
   ]
  },
  {
   "cell_type": "code",
   "execution_count": 13,
   "id": "8ce233dc",
   "metadata": {},
   "outputs": [
    {
     "name": "stderr",
     "output_type": "stream",
     "text": [
      "c:\\Users\\pdoub\\Desktop\\python_projects\\junk-drawer\\.venv\\lib\\site-packages\\tqdm\\auto.py:21: TqdmWarning: IProgress not found. Please update jupyter and ipywidgets. See https://ipywidgets.readthedocs.io/en/stable/user_install.html\n",
      "  from .autonotebook import tqdm as notebook_tqdm\n",
      "Parsing documents into nodes: 100%|██████████| 22/22 [00:00<00:00, 40.44it/s]\n",
      "Generating embeddings: 100%|██████████| 11/11 [00:00<00:00, 42.32it/s]\n",
      "Generating embeddings: 100%|██████████| 10/10 [00:00<00:00, 61.55it/s]\n",
      "Generating embeddings: 100%|██████████| 6/6 [00:00<00:00, 41.70it/s]\n",
      "Generating embeddings: 100%|██████████| 18/18 [00:00<00:00, 79.55it/s]\n",
      "Generating embeddings: 100%|██████████| 8/8 [00:00<00:00, 69.51it/s]\n",
      "Generating embeddings: 100%|██████████| 5/5 [00:00<00:00, 42.16it/s]\n",
      "Generating embeddings: 100%|██████████| 7/7 [00:00<00:00, 48.53it/s]\n",
      "Generating embeddings: 100%|██████████| 4/4 [00:00<00:00, 32.26it/s]\n",
      "Generating embeddings: 100%|██████████| 11/11 [00:00<00:00, 51.00it/s]\n",
      "Generating embeddings: 100%|██████████| 11/11 [00:00<00:00, 58.20it/s]\n",
      "Generating embeddings: 100%|██████████| 12/12 [00:00<00:00, 56.23it/s]\n",
      "Generating embeddings: 100%|██████████| 2/2 [00:00<00:00, 23.76it/s]\n",
      "Generating embeddings: 100%|██████████| 10/10 [00:00<00:00, 80.43it/s]\n",
      "Generating embeddings: 100%|██████████| 1/1 [00:00<00:00,  8.10it/s]\n",
      "Generating embeddings: 100%|██████████| 5/5 [00:00<00:00, 23.52it/s]\n",
      "Generating embeddings: 100%|██████████| 3/3 [00:00<00:00, 33.14it/s]\n",
      "Generating embeddings: 100%|██████████| 5/5 [00:00<00:00, 41.80it/s]\n",
      "Generating embeddings: 100%|██████████| 5/5 [00:00<00:00, 62.56it/s]\n",
      "Generating embeddings: 100%|██████████| 7/7 [00:00<00:00, 47.20it/s]\n",
      "Generating embeddings: 100%|██████████| 6/6 [00:00<00:00, 37.29it/s]\n",
      "Generating embeddings: 100%|██████████| 4/4 [00:00<00:00, 27.46it/s]\n",
      "Generating embeddings: 100%|██████████| 5/5 [00:00<00:00, 40.85it/s]\n",
      "Generating embeddings: 100%|██████████| 4/4 [00:00<00:00, 30.71it/s]\n",
      "Generating embeddings: 100%|██████████| 5/5 [00:00<00:00, 43.51it/s]\n",
      "Generating embeddings: 100%|██████████| 6/6 [00:00<00:00, 48.59it/s]\n",
      "Generating embeddings: 100%|██████████| 11/11 [00:00<00:00, 61.59it/s]\n",
      "Generating embeddings: 100%|██████████| 10/10 [00:00<00:00, 92.67it/s]\n",
      "Generating embeddings: 0it [00:00, ?it/s][01:17<01:55,  3.05s/it]\n",
      "Generating embeddings: 100%|██████████| 11/11 [00:00<00:00, 38.71it/s]\n",
      "Generating embeddings: 100%|██████████| 8/8 [00:00<00:00, 59.25it/s]\n",
      "Generating embeddings: 100%|██████████| 2/2 [00:00<00:00, 22.16it/s]\n",
      "Generating embeddings: 100%|██████████| 2/2 [00:00<00:00, 20.85it/s]\n",
      "Generating embeddings: 100%|██████████| 6/6 [00:00<00:00, 56.48it/s]\n",
      "Generating embeddings: 100%|██████████| 11/11 [00:00<00:00, 62.31it/s]\n",
      "Generating embeddings: 100%|██████████| 11/11 [00:00<00:00, 47.89it/s]\n",
      "Generating embeddings: 100%|██████████| 3/3 [00:00<00:00, 29.00it/s]\n",
      "Generating embeddings: 100%|██████████| 11/11 [00:00<00:00, 61.55it/s]\n",
      "Generating embeddings: 100%|██████████| 3/3 [00:00<00:00, 32.45it/s]\n",
      "Generating embeddings: 100%|██████████| 11/11 [00:00<00:00, 50.03it/s]\n",
      "Generating embeddings: 100%|██████████| 11/11 [00:00<00:00, 60.11it/s]\n",
      "Generating embeddings: 100%|██████████| 12/12 [00:00<00:00, 56.68it/s]\n",
      "Generating embeddings: 100%|██████████| 6/6 [00:00<00:00, 48.54it/s]\n",
      "Generating embeddings: 100%|██████████| 10/10 [00:00<00:00, 44.79it/s]\n",
      "Generating embeddings: 100%|██████████| 10/10 [00:00<00:00, 78.91it/s]\n",
      "Generating embeddings: 100%|██████████| 6/6 [00:00<00:00, 32.35it/s]\n",
      "Generating embeddings: 100%|██████████| 8/8 [00:00<00:00, 59.75it/s]\n",
      "Generating embeddings: 100%|██████████| 9/9 [00:00<00:00, 94.87it/s]\n",
      "Generating embeddings: 100%|██████████| 11/11 [00:00<00:00, 27.74it/s]\n",
      "Generating embeddings: 100%|██████████| 11/11 [00:00<00:00, 17.59it/s]\n",
      "Generating embeddings: 100%|██████████| 11/11 [00:00<00:00, 51.79it/s]\n",
      "Generating embeddings: 100%|██████████| 9/9 [00:00<00:00, 48.63it/s]\n",
      "Generating embeddings: 100%|██████████| 7/7 [00:00<00:00, 70.24it/s]\n",
      "Generating embeddings: 100%|██████████| 10/10 [00:00<00:00, 101.70it/s]\n",
      "Generating embeddings: 100%|██████████| 4/4 [00:00<00:00, 29.08it/s]\n",
      "Generating embeddings: 100%|██████████| 11/11 [00:00<00:00, 58.16it/s]\n",
      "Generating embeddings: 100%|██████████| 9/9 [00:00<00:00, 39.35it/s]\n",
      "Generating embeddings: 100%|██████████| 6/6 [00:00<00:00, 42.91it/s]\n",
      "Generating embeddings: 100%|██████████| 7/7 [00:00<00:00, 56.41it/s]\n",
      "Generating embeddings: 100%|██████████| 9/9 [00:00<00:00, 84.90it/s]\n",
      "Generating embeddings: 100%|██████████| 7/7 [00:00<00:00, 59.48it/s]\n",
      "Generating embeddings: 100%|██████████| 6/6 [00:00<00:00, 53.89it/s]\n",
      "Generating embeddings: 100%|██████████| 8/8 [00:00<00:00, 36.85it/s]\n",
      "Generating embeddings: 100%|██████████| 10/10 [00:00<00:00, 70.66it/s]\n",
      "Generating embeddings: 100%|██████████| 11/11 [00:00<00:00, 58.35it/s]\n",
      "Generating embeddings: 100%|██████████| 11/11 [00:00<00:00, 46.53it/s]\n",
      "Processing nodes: 100%|██████████| 65/65 [03:29<00:00,  3.22s/it]\n"
     ]
    }
   ],
   "source": [
    "from llama_index.llms import OpenAI\n",
    "from llama_index import OpenAIEmbedding, ServiceContext, KnowledgeGraphIndex\n",
    "\n",
    "embedding_llm = OpenAIEmbedding()\n",
    "\n",
    "llm=OpenAI(temperature=0, \n",
    "           model_name=\"gpt-4\",\n",
    "           )\n",
    "\n",
    "service_context = ServiceContext.from_defaults(llm=llm, \n",
    "                                               embed_model=embedding_llm,\n",
    "                                               chunk_size=512,\n",
    "                                               chunk_overlap=100\n",
    "                                               )\n",
    "\n",
    "set_global_service_context(service_context)\n",
    "\n",
    "kg_index = KnowledgeGraphIndex.from_documents(\n",
    "    documents,\n",
    "    max_triplets_per_chunk=10,\n",
    "    storage_context=storage_context,\n",
    "    include_embeddings=True,\n",
    "    kg_triple_extract_template=KG_TRIPLET_EXTRACT_PROMPT,\n",
    "    show_progress=True)"
   ]
  },
  {
   "cell_type": "code",
   "execution_count": 15,
   "id": "1cdaae29",
   "metadata": {},
   "outputs": [
    {
     "data": {
      "text/plain": [
       "48063"
      ]
     },
     "execution_count": 15,
     "metadata": {},
     "output_type": "execute_result"
    }
   ],
   "source": [
    "usage.total_tokens()"
   ]
  },
  {
   "cell_type": "markdown",
   "id": "3c3efdc4",
   "metadata": {},
   "source": [
    "## 3 Create VectorStoreIndex for RAG\n",
    "\n",
    "To compare Graph-based query with vector similarity we'll also create a `VectorStoreIndex`.\n",
    "\n",
    "During the creation, the same data source will be split into chunks and converted to embeddings. During query time, the top-k related embeddings will be vector-searched with the embedding of the question.\n",
    "\n",
    "```\n",
    "                  RAG with Llama Index\n",
    "                  ┌────┬────┬────┬────┐                  \n",
    "                  │ 1  │ 2  │ 3  │ 4  │                  \n",
    "                  ├────┴────┴────┴────┤                  \n",
    "                  │  Docs/Knowledge   │                  \n",
    "┌───────┐         │        ...        │       ┌─────────┐\n",
    "│       │         ├────┬────┬────┬────┤       │         │\n",
    "│       │         │ 95 │ 96 │    │    │       │         │\n",
    "│       │         └────┴────┴────┴────┘       │         │\n",
    "│ User  │─ ─ ─ ─ ─ ─ ─ ─ ─ ─ ─ ─ ─ ─ ─ ─ ─ ─ ─▶   LLM   │\n",
    "│       │                                     │         │\n",
    "│       │                                     │         │\n",
    "└───────┘    ┌ ─ ─ ─ ─ ─ ─ ─ ─ ─ ─ ─ ─ ─ ─ ┐  └─────────┘\n",
    "    │          ┌──────────────────────────┐        ▲     \n",
    "    └────────┼▶│  Tell me ....., please   │├───────┘     \n",
    "               └──────────────────────────┘              \n",
    "             │ ┌────┐ ┌────┐               │             \n",
    "               │ 3  │ │ 96 │                             \n",
    "             │ └────┘ └────┘               │             \n",
    "              ─ ─ ─ ─ ─ ─ ─ ─ ─ ─ ─ ─ ─ ─ ─ \n",
    "```\n",
    "\n",
    "The next line of code does this:"
   ]
  },
  {
   "cell_type": "code",
   "execution_count": 16,
   "id": "474c2251",
   "metadata": {},
   "outputs": [],
   "source": [
    "from llama_index import VectorStoreIndex\n",
    "\n",
    "vector_index = VectorStoreIndex.from_documents(\n",
    "    documents,\n",
    ")"
   ]
  },
  {
   "cell_type": "code",
   "execution_count": 17,
   "id": "bc24a204",
   "metadata": {},
   "outputs": [],
   "source": [
    "# persist KG Index\n",
    "kg_index.storage_context.persist(persist_dir='../ho3_storage_kg_graph')\n",
    "\n",
    "# persist Vector Index\n",
    "vector_index.storage_context.persist(persist_dir='../ho3_storage_kg_vector')"
   ]
  },
  {
   "cell_type": "markdown",
   "id": "ce4c2aee",
   "metadata": {},
   "source": [
    "## 4. Persist and Load index objects from disk\n",
    "\n",
    "Both the `KnowledgeGraphIndex` and `VectorStoreIndex` will be created only once. Afterwards, we will persist and re-use them. Adding IDs is optional and only needed when multiple index objects exist in the same directory."
   ]
  },
  {
   "cell_type": "code",
   "execution_count": 14,
   "id": "dd3f4afd",
   "metadata": {},
   "outputs": [
    {
     "name": "stdout",
     "output_type": "stream",
     "text": [
      "INFO:llama_index.indices.loading:Loading all indices.\n",
      "Loading all indices.\n",
      "INFO:llama_index.indices.loading:Loading all indices.\n",
      "Loading all indices.\n"
     ]
    }
   ],
   "source": [
    "from llama_index.llms import OpenAI\n",
    "from llama_index import (\n",
    "    OpenAIEmbedding, \n",
    "    ServiceContext, \n",
    "    load_index_from_storage,\n",
    "    set_global_service_context\n",
    ")\n",
    "\n",
    "embedding_llm = OpenAIEmbedding()\n",
    "\n",
    "llm=OpenAI(temperature=0, \n",
    "           model_name=\"gpt-4\",\n",
    "           )\n",
    "\n",
    "service_context = ServiceContext.from_defaults(llm=llm, \n",
    "                                               embed_model=embedding_llm,\n",
    "                                               chunk_size=512,\n",
    "                                               chunk_overlap=100\n",
    "                                               )\n",
    "\n",
    "set_global_service_context(service_context)\n",
    "# graph_store = SimpleGraphStore()\n",
    "\n",
    "storage_context_kg = StorageContext.from_defaults(persist_dir=\"../ho3_storage_kg_graph\")\n",
    "kg_index = load_index_from_storage(\n",
    "    storage_context=storage_context_kg,\n",
    "    max_triplets_per_chunk=10,\n",
    "    include_embeddings=True, \n",
    "    )\n",
    "\n",
    "storage_context_vector = StorageContext.from_defaults(persist_dir='./ho3_storage_kg_vector')\n",
    "vector_index = load_index_from_storage(\n",
    "    storage_context=storage_context_vector,\n",
    ")"
   ]
  },
  {
   "cell_type": "markdown",
   "id": "bb2eb936",
   "metadata": {},
   "source": [
    "## 5. Prepare for different query approaches\n",
    "\n",
    "We will do 4 types of query approaches with LLM, KG, VectorDB:\n",
    "\n",
    "| QueryEngine | Knowledge Graph Only                                 | Graph RAG query engine                                       | Vector RAG query engine                                      | Graph Vector RAG query engine                                |\n",
    "| ----------- | ------------------------------------------------------------ | ------------------------------------------------------------ | ------------------------------------------------------------ | ------------------------------------------------------------ |\n",
    "| Mechanism   | 1. **Graph Only** based on triplets<br />2. Query KG with the result<br />3. Answer synthesis based on query result | 1. Get related entities of the question<br />2. Get n-depth **SubGraphs** of related entities from KG<br />3. Answer synthesis based on related SubGraphs | 1. Create embedding of question<br />2. Semantic search **top-k related doc chunks**<br />3. Answer synthesis based on related doc chunks | 1. Do retrieval as Vector and Graph RAG <br />2. Answer synthesis based on **both related chunks and SubGraphs** |\n"
   ]
  },
  {
   "cell_type": "markdown",
   "id": "e5524b2e",
   "metadata": {},
   "source": [
    "### 5.1 Knowledge Graph Only\n",
    "\n",
    "This approach strictly follows the graph."
   ]
  },
  {
   "cell_type": "code",
   "execution_count": 18,
   "id": "097b25c3",
   "metadata": {},
   "outputs": [],
   "source": [
    "kg_query_engine = kg_index.as_query_engine(\n",
    "    # Uses the raw triplets instead of adding the text from the corresponding nodes\n",
    "    include_text=True,\n",
    "    retriever_mode=\"keyword\",\n",
    "    response_mode=\"tree_summarize\",\n",
    "    similarity_top_k=5,\n",
    ")"
   ]
  },
  {
   "cell_type": "markdown",
   "id": "e83e8a9b",
   "metadata": {},
   "source": [
    "### 5.1.1 Knowledge Graph Hybrid - Search \n",
    "\n",
    "Here, we add flexibility from embedding representations."
   ]
  },
  {
   "cell_type": "code",
   "execution_count": 19,
   "id": "05673f39",
   "metadata": {},
   "outputs": [],
   "source": [
    "# query using triplets plus embedded keywords\n",
    "hybrid_query_engine = kg_index.as_query_engine(\n",
    "    include_text=True,\n",
    "    response_mode=\"tree_summarize\",\n",
    "    embedding_mode=\"hybrid\",\n",
    ")"
   ]
  },
  {
   "cell_type": "markdown",
   "id": "6c590de2",
   "metadata": {},
   "source": [
    "### 5.2 Graph RAG query engine\n",
    "\n",
    "Graph RAG takes SubGraphs related to entities of the task/question as Context.\n",
    "\n",
    "```\n",
    "           Graph + Vector RAG with Llama Index\n",
    "                  ┌────┬────┬────┬────┐                  \n",
    "                  │ 1  │ 2  │ 3  │ 4  │                  \n",
    "                  ├────┴────┴────┴────┤                  \n",
    "                  │  Docs/Knowledge   │                  \n",
    "┌───────┐         │        ...        │       ┌─────────┐\n",
    "│       │         ├────┬────┬────┬────┤       │         │\n",
    "│       │         │ 95 │ 96 │    │    │       │         │\n",
    "│       │         └────┴────┴────┴────┘       │         │\n",
    "│ User  │─ ─ ─ ─ ─ ─ ─ ─ ─ ─ ─ ─ ─ ─ ─ ─ ─ ─ ─▶   LLM   │\n",
    "│       │                                     │         │\n",
    "│       │                                     │         │\n",
    "└───────┘    ┌ ─ ─ ─ ─ ─ ─ ─ ─ ─ ─ ─ ─ ─ ─ ┐  └─────────┘\n",
    "    │          ┌──────────────────────────┐        ▲     \n",
    "    └────────┼▶│  Tell me about x, please │├───────┘     \n",
    "               └──────────────────────────┘              \n",
    "             │ Below are knowledge about x │             \n",
    "               x->y<-z,x->h->i, m<-n,...                            \n",
    "             │ Please answer based on them │             \n",
    "              ─ ─ ─ ─ ─ ─ ─ ─ ─ ─ ─ ─ ─ ─ ─ \n",
    "```"
   ]
  },
  {
   "cell_type": "code",
   "execution_count": 20,
   "id": "92d72cb0",
   "metadata": {},
   "outputs": [],
   "source": [
    "kg_rag_query_engine = kg_index.as_query_engine(\n",
    "    include_text=False,\n",
    "    retriever_mode=\"keyword\",\n",
    "    response_mode=\"tree_summarize\",\n",
    ")"
   ]
  },
  {
   "cell_type": "markdown",
   "id": "06682474",
   "metadata": {},
   "source": [
    "### 5.3 Standard vector query engine\n",
    "\n",
    "Vector RAG to find topK semantic related doc chunks, and use as context for the answer."
   ]
  },
  {
   "cell_type": "code",
   "execution_count": 21,
   "id": "37713b0b",
   "metadata": {},
   "outputs": [],
   "source": [
    "vector_rag_query_engine = vector_index.as_query_engine(\n",
    ")"
   ]
  },
  {
   "cell_type": "markdown",
   "id": "e93396d7",
   "metadata": {},
   "source": [
    "### 5.4 Graph+Vector RAG query engine"
   ]
  },
  {
   "cell_type": "markdown",
   "id": "7ac0ee74",
   "metadata": {},
   "source": [
    "This is a combined Graph+Vector Based RAG, where we will retrieve both VectorDB and KG SubGraphs as the context for the answer.\n",
    "\n",
    "```\n",
    "           Graph + Vector RAG with Llama Index\n",
    "                  ┌────┬────┬────┬────┐                  \n",
    "                  │ 1  │ 2  │ 3  │ 4  │                  \n",
    "                  ├────┴────┴────┴────┤                  \n",
    "                  │  Docs/Knowledge   │                  \n",
    "┌───────┐         │        ...        │       ┌─────────┐\n",
    "│       │         ├────┬────┬────┬────┤       │         │\n",
    "│       │         │ 95 │ 96 │    │    │       │         │\n",
    "│       │         └────┴────┴────┴────┘       │         │\n",
    "│ User  │─ ─ ─ ─ ─ ─ ─ ─ ─ ─ ─ ─ ─ ─ ─ ─ ─ ─ ─▶   LLM   │\n",
    "│       │                                     │         │\n",
    "│       │                                     │         │\n",
    "└───────┘    ┌ ─ ─ ─ ─ ─ ─ ─ ─ ─ ─ ─ ─ ─ ─ ┐  └─────────┘\n",
    "    │          ┌──────────────────────────┐        ▲     \n",
    "    └────────┼▶│  Tell me ....., please   │├───────┘     \n",
    "               └──────────────────────────┘              \n",
    "             │ ┌────┐┌────┐               │             \n",
    "               │ 3  ││ 96 │ x->y<-z,x->h...                            \n",
    "             │ └────┘└────┘               │             \n",
    "              ─ ─ ─ ─ ─ ─ ─ ─ ─ ─ ─ ─ ─ ─ ─ \n",
    "```\n",
    "\n",
    "To implement that in Llama Index, we create a `CustomRetriever` to comebine the two: "
   ]
  },
  {
   "cell_type": "code",
   "execution_count": 22,
   "id": "1a9516c8",
   "metadata": {},
   "outputs": [],
   "source": [
    "# import QueryBundle\n",
    "from llama_index import QueryBundle\n",
    "\n",
    "# import NodeWithScore\n",
    "from llama_index.schema import NodeWithScore\n",
    "\n",
    "# Retrievers\n",
    "from llama_index.retrievers import BaseRetriever, VectorIndexRetriever, KGTableRetriever\n",
    "\n",
    "from typing import List\n",
    "\n",
    "\n",
    "class CustomRetriever(BaseRetriever):\n",
    "    \"\"\"Custom retriever that performs both Vector search and Knowledge Graph search\"\"\"\n",
    "\n",
    "    def __init__(\n",
    "        self,\n",
    "        vector_retriever: VectorIndexRetriever,\n",
    "        kg_retriever: KGTableRetriever,\n",
    "        mode: str = \"OR\",\n",
    "    ) -> None:\n",
    "        \"\"\"Init params.\"\"\"\n",
    "\n",
    "        self._vector_retriever = vector_retriever\n",
    "        self._kg_retriever = kg_retriever\n",
    "        if mode not in (\"AND\", \"OR\"):\n",
    "            raise ValueError(\"Invalid mode.\")\n",
    "        self._mode = mode\n",
    "\n",
    "    def _retrieve(self, query_bundle: QueryBundle) -> List[NodeWithScore]:\n",
    "        \"\"\"Retrieve nodes given query.\"\"\"\n",
    "\n",
    "        vector_nodes = self._vector_retriever.retrieve(query_bundle)\n",
    "        kg_nodes = self._kg_retriever.retrieve(query_bundle)\n",
    "\n",
    "        vector_ids = {n.node.node_id for n in vector_nodes}\n",
    "        kg_ids = {n.node.node_id for n in kg_nodes}\n",
    "\n",
    "        combined_dict = {n.node.node_id: n for n in vector_nodes}\n",
    "        combined_dict.update({n.node.node_id: n for n in kg_nodes})\n",
    "\n",
    "        if self._mode == \"AND\":\n",
    "            retrieve_ids = vector_ids.intersection(kg_ids)\n",
    "        else:\n",
    "            retrieve_ids = vector_ids.union(kg_ids)\n",
    "\n",
    "        retrieve_nodes = [combined_dict[rid] for rid in retrieve_ids]\n",
    "        return retrieve_nodes"
   ]
  },
  {
   "cell_type": "markdown",
   "id": "fbe22b2b",
   "metadata": {},
   "source": [
    "Next, we will create instances of the Vector and KG retrievers, which will be used in the instantiation of the Custom Retriever."
   ]
  },
  {
   "cell_type": "code",
   "execution_count": 23,
   "id": "ecb2d2bf",
   "metadata": {},
   "outputs": [],
   "source": [
    "from llama_index import get_response_synthesizer\n",
    "from llama_index.query_engine import RetrieverQueryEngine\n",
    "\n",
    "# create custom retriever\n",
    "vector_retriever = VectorIndexRetriever(index=vector_index)\n",
    "\n",
    "kg_retriever = KGTableRetriever(\n",
    "    index=kg_index, \n",
    "    retriever_mode=\"keyword\", \n",
    "    include_text=True\n",
    ")\n",
    "custom_retriever = CustomRetriever(vector_retriever, kg_retriever)\n",
    "\n",
    "# create response synthesizer\n",
    "response_synthesizer = get_response_synthesizer(\n",
    "    response_mode=\"tree_summarize\",\n",
    ")"
   ]
  },
  {
   "cell_type": "markdown",
   "id": "dd67a63f",
   "metadata": {},
   "source": [
    "And the query engine:"
   ]
  },
  {
   "cell_type": "code",
   "execution_count": 24,
   "id": "a4976682",
   "metadata": {},
   "outputs": [],
   "source": [
    "graph_vector_rag_query_engine = RetrieverQueryEngine(\n",
    "    retriever=custom_retriever,\n",
    "    response_synthesizer=response_synthesizer,\n",
    ")"
   ]
  },
  {
   "cell_type": "markdown",
   "id": "541608be",
   "metadata": {},
   "source": [
    "## 6. Query with all the Engines\n",
    "* We will ask a purposefully vague and open-ended query"
   ]
  },
  {
   "cell_type": "markdown",
   "id": "8384be7b",
   "metadata": {},
   "source": [
    "### 6.1 Keyword Knowledge Graph Query"
   ]
  },
  {
   "cell_type": "code",
   "execution_count": 33,
   "id": "6acaa1f3",
   "metadata": {},
   "outputs": [
    {
     "name": "stdout",
     "output_type": "stream",
     "text": [
      "INFO:llama_index.indices.knowledge_graph.retriever:> Starting query: Tell me about the limit of liability.\n",
      "> Starting query: Tell me about the limit of liability.\n",
      "INFO:llama_index.indices.knowledge_graph.retriever:> Query keywords: ['Liability', 'Limit', 'Responsibility']\n",
      "> Query keywords: ['Liability', 'Limit', 'Responsibility']\n",
      "INFO:llama_index.indices.knowledge_graph.retriever:> Querying with idx: e050c490-1e37-4358-9107-9ff60b6ec688: Corporal Punishment\n",
      "Or Physical Or Mental Abuse\n",
      "\"Bodily injury\" or \"property ...\n",
      "> Querying with idx: e050c490-1e37-4358-9107-9ff60b6ec688: Corporal Punishment\n",
      "Or Physical Or Mental Abuse\n",
      "\"Bodily injury\" or \"property ...\n",
      "INFO:llama_index.indices.knowledge_graph.retriever:> Extracted relationships: The following are knowledge sequence in max depth 2 in the form of `subject [predicate, object, predicate_next_hop, object_next_hop ...]`\n",
      "Liability ['excluded from', 'Coverage E']\n",
      "Liability ['pays', 'damages']\n",
      "Liability ['provides defense', 'counsel of choice']\n",
      "Liability ['limit of liability', 'Declarations']\n",
      "Liability ['excluded from', 'Loss Assessment']\n",
      "Liability ['covered by', 'policy']\n",
      "Liability ['caused by', 'Peril Insured Against']\n",
      "Liability ['not covered by', 'governmental body']\n",
      "Liability ['is charged against', 'owner or tenant of residence premises']\n",
      "Liability ['is result of', 'bodily injury or property damage']\n",
      "Liability ['not covered by', 'governmental body']\n",
      "> Extracted relationships: The following are knowledge sequence in max depth 2 in the form of `subject [predicate, object, predicate_next_hop, object_next_hop ...]`\n",
      "Liability ['excluded from', 'Coverage E']\n",
      "Liability ['pays', 'damages']\n",
      "Liability ['provides defense', 'counsel of choice']\n",
      "Liability ['limit of liability', 'Declarations']\n",
      "Liability ['excluded from', 'Loss Assessment']\n",
      "Liability ['covered by', 'policy']\n",
      "Liability ['caused by', 'Peril Insured Against']\n",
      "Liability ['not covered by', 'governmental body']\n",
      "Liability ['is charged against', 'owner or tenant of residence premises']\n",
      "Liability ['is result of', 'bodily injury or property damage']\n",
      "Liability ['not covered by', 'governmental body']\n"
     ]
    }
   ],
   "source": [
    "response_kg = kg_query_engine.query(\"Tell me about the limit of liability.\")"
   ]
  },
  {
   "cell_type": "code",
   "execution_count": 34,
   "id": "e6fc1e6e",
   "metadata": {},
   "outputs": [
    {
     "data": {
      "text/markdown": [
       "<b>\n",
       "The limit of liability is specified in the Declarations section of the policy. It is the maximum amount of money that the policy will pay out in the event of a claim. The limit of liability may vary depending on the type of coverage and the specific circumstances of the claim.</b>"
      ],
      "text/plain": [
       "<IPython.core.display.Markdown object>"
      ]
     },
     "metadata": {},
     "output_type": "display_data"
    }
   ],
   "source": [
    "display(Markdown(f\"<b>{response_kg}</b>\"))"
   ]
  },
  {
   "cell_type": "markdown",
   "id": "f1bafef8",
   "metadata": {},
   "source": [
    "### 6.2 Graph Keyword Embeddings Hybrid"
   ]
  },
  {
   "cell_type": "code",
   "execution_count": 25,
   "id": "4dec5364",
   "metadata": {},
   "outputs": [
    {
     "name": "stdout",
     "output_type": "stream",
     "text": [
      "INFO:llama_index.indices.knowledge_graph.retriever:> Starting query: Tell me more about the limit of liability.\n",
      "> Starting query: Tell me more about the limit of liability.\n",
      "INFO:llama_index.indices.knowledge_graph.retriever:> Query keywords: ['Limit', 'Liability']\n",
      "> Query keywords: ['Limit', 'Liability']\n",
      "INFO:llama_index.indices.knowledge_graph.retriever:> Querying with idx: e050c490-1e37-4358-9107-9ff60b6ec688: Corporal Punishment\n",
      "Or Physical Or Mental Abuse\n",
      "\"Bodily injury\" or \"property ...\n",
      "> Querying with idx: e050c490-1e37-4358-9107-9ff60b6ec688: Corporal Punishment\n",
      "Or Physical Or Mental Abuse\n",
      "\"Bodily injury\" or \"property ...\n",
      "INFO:llama_index.indices.knowledge_graph.retriever:> Querying with idx: 19601d73-42c6-4d0d-9048-5c948c777711: DEDUCTIBLE\n",
      "Unless otherwise noted in this policy, the following\n",
      "deductible pr...\n",
      "> Querying with idx: 19601d73-42c6-4d0d-9048-5c948c777711: DEDUCTIBLE\n",
      "Unless otherwise noted in this policy, the following\n",
      "deductible pr...\n",
      "INFO:llama_index.indices.knowledge_graph.retriever:> Querying with idx: af0a4c71-8928-4257-8190-a3eaa1cdeabd: Against;\n",
      "(2) The demolition and reconstruction of theundamaged part of a cove...\n",
      "> Querying with idx: af0a4c71-8928-4257-8190-a3eaa1cdeabd: Against;\n",
      "(2) The demolition and reconstruction of theundamaged part of a cove...\n",
      "INFO:llama_index.indices.knowledge_graph.retriever:> Querying with idx: cf4c7da6-c5e9-43d8-822b-bcf2d8567441: or liquid fuel,other than fuel in a permanently installedfuel tank of a vehic...\n",
      "> Querying with idx: cf4c7da6-c5e9-43d8-822b-bcf2d8567441: or liquid fuel,other than fuel in a permanently installedfuel tank of a vehic...\n",
      "INFO:llama_index.indices.knowledge_graph.retriever:> Extracted relationships: The following are knowledge sequence in max depth 2 in the form of `subject [predicate, object, predicate_next_hop, object_next_hop ...]`\n",
      "('Coverage B', 'has limit of liability', '10% of Coverage A limit of liability')\n",
      "Liability ['is charged against', 'owner or tenant of residence premises']\n",
      "('Special Limits of Liability', 'total limit for each loss', '$200')\n",
      "Liability ['is result of', 'bodily injury or property damage']\n",
      "Liability ['provides defense', 'counsel of choice']\n",
      "Liability ['not covered by', 'governmental body']\n",
      "Liability ['limit of liability', 'Declarations']\n",
      "Liability ['caused by', 'Peril Insured Against']\n",
      "Liability ['excluded from', 'Loss Assessment']\n",
      "Liability ['excluded from', 'Coverage E']\n",
      "Liability ['covered by', 'policy']\n",
      "Liability ['pays', 'damages']\n",
      "> Extracted relationships: The following are knowledge sequence in max depth 2 in the form of `subject [predicate, object, predicate_next_hop, object_next_hop ...]`\n",
      "('Coverage B', 'has limit of liability', '10% of Coverage A limit of liability')\n",
      "Liability ['is charged against', 'owner or tenant of residence premises']\n",
      "('Special Limits of Liability', 'total limit for each loss', '$200')\n",
      "Liability ['is result of', 'bodily injury or property damage']\n",
      "Liability ['provides defense', 'counsel of choice']\n",
      "Liability ['not covered by', 'governmental body']\n",
      "Liability ['limit of liability', 'Declarations']\n",
      "Liability ['caused by', 'Peril Insured Against']\n",
      "Liability ['excluded from', 'Loss Assessment']\n",
      "Liability ['excluded from', 'Coverage E']\n",
      "Liability ['covered by', 'policy']\n",
      "Liability ['pays', 'damages']\n"
     ]
    },
    {
     "data": {
      "text/markdown": [
       "<b>\n",
       "The limit of liability is the maximum amount of money that an insurance company will pay out for a claim. It is specified in the policy's Declarations and is usually based on the value of the property or the amount of coverage purchased. For Coverage B, the limit of liability is typically 10% of the limit of liability that applies to Coverage A. For Coverage C, the limit of liability is usually the total limit for each loss for all property in that category. There are also special limits of liability for certain categories of property, such as money, bank notes, bullion, gold, silver, platinum, coins, medals, scrip, stored value cards, and smart cards, which is $200.</b>"
      ],
      "text/plain": [
       "<IPython.core.display.Markdown object>"
      ]
     },
     "metadata": {},
     "output_type": "display_data"
    }
   ],
   "source": [
    "response_hybrid = hybrid_query_engine.query(\"Tell me more about the limit of liability.\")\n",
    "\n",
    "display(Markdown(f\"<b>{response_hybrid}</b>\"))"
   ]
  },
  {
   "cell_type": "code",
   "execution_count": 26,
   "id": "6035ec0a",
   "metadata": {},
   "outputs": [
    {
     "name": "stdout",
     "output_type": "stream",
     "text": [
      "INFO:llama_index.indices.knowledge_graph.retriever:> Starting query: Tell me more about personal property coverage\n",
      "> Starting query: Tell me more about personal property coverage\n",
      "INFO:llama_index.indices.knowledge_graph.retriever:> Query keywords: ['Personal', 'Coverage', 'Property']\n",
      "> Query keywords: ['Personal', 'Coverage', 'Property']\n",
      "INFO:llama_index.indices.knowledge_graph.retriever:> Querying with idx: cf4c7da6-c5e9-43d8-822b-bcf2d8567441: or liquid fuel,other than fuel in a permanently installedfuel tank of a vehic...\n",
      "> Querying with idx: cf4c7da6-c5e9-43d8-822b-bcf2d8567441: or liquid fuel,other than fuel in a permanently installedfuel tank of a vehic...\n",
      "INFO:llama_index.indices.knowledge_graph.retriever:> Querying with idx: 19601d73-42c6-4d0d-9048-5c948c777711: DEDUCTIBLE\n",
      "Unless otherwise noted in this policy, the following\n",
      "deductible pr...\n",
      "> Querying with idx: 19601d73-42c6-4d0d-9048-5c948c777711: DEDUCTIBLE\n",
      "Unless otherwise noted in this policy, the following\n",
      "deductible pr...\n",
      "INFO:llama_index.indices.knowledge_graph.retriever:> Querying with idx: 7d6e812a-1b83-4313-bc19-5fea56de82ac: district furnishing thefire department response.\n",
      "This coverage is additional ...\n",
      "> Querying with idx: 7d6e812a-1b83-4313-bc19-5fea56de82ac: district furnishing thefire department response.\n",
      "This coverage is additional ...\n",
      "INFO:llama_index.indices.knowledge_graph.retriever:> Querying with idx: 06487ca2-ad03-4ad7-bcd4-3d543258b6f2: equipment and outboardengines or motors; or\n",
      "(c) Property while at any other r...\n",
      "> Querying with idx: 06487ca2-ad03-4ad7-bcd4-3d543258b6f2: equipment and outboardengines or motors; or\n",
      "(c) Property while at any other r...\n",
      "INFO:llama_index.indices.knowledge_graph.retriever:> Querying with idx: 3d148c5c-efdd-46c1-b1b4-4a0deac598bc: Provide us with records and documents werequest and permit us to make copies;...\n",
      "> Querying with idx: 3d148c5c-efdd-46c1-b1b4-4a0deac598bc: Provide us with records and documents werequest and permit us to make copies;...\n",
      "INFO:llama_index.indices.knowledge_graph.retriever:> Querying with idx: b4499a92-9687-4ba2-beae-18e3a15f7445: to be recycled, reconditioned or reclaimed;\n",
      "(f) Settling, shrinking, bulging ...\n",
      "> Querying with idx: b4499a92-9687-4ba2-beae-18e3a15f7445: to be recycled, reconditioned or reclaimed;\n",
      "(f) Settling, shrinking, bulging ...\n",
      "INFO:llama_index.indices.knowledge_graph.retriever:> Extracted relationships: The following are knowledge sequence in max depth 2 in the form of `subject [predicate, object, predicate_next_hop, object_next_hop ...]`\n",
      "Property ['Submit to examination under oath', 'while notin the presence of another \"insured\"']\n",
      "Property ['The time and cause of loss', 'to the best of your knowledge and belief']\n",
      "Property ['covered while at', 'residence student occupies to attend school']\n",
      "Property ['removed from', 'premises endangered by Peril Insured Against']\n",
      "Property ['covered while at', 'other residence occupied by insured']\n",
      "Property ['covered while at', 'other residence rented to insured']\n",
      "Property ['covered while at', 'other residence owned by insured']\n",
      "Property ['Provide us with records and documents', 'werequest']\n",
      "Property ['covered while', 'temporarily living there']\n",
      "('Personal Property', 'covered under', 'Coverage C')\n",
      "Coverage ['additional insurance', 'no deductible']\n",
      "Property ['covered under', 'Coverage A or B']\n",
      "('Personal Property', 'owned by', 'insured')\n",
      "> Extracted relationships: The following are knowledge sequence in max depth 2 in the form of `subject [predicate, object, predicate_next_hop, object_next_hop ...]`\n",
      "Property ['Submit to examination under oath', 'while notin the presence of another \"insured\"']\n",
      "Property ['The time and cause of loss', 'to the best of your knowledge and belief']\n",
      "Property ['covered while at', 'residence student occupies to attend school']\n",
      "Property ['removed from', 'premises endangered by Peril Insured Against']\n",
      "Property ['covered while at', 'other residence occupied by insured']\n",
      "Property ['covered while at', 'other residence rented to insured']\n",
      "Property ['covered while at', 'other residence owned by insured']\n",
      "Property ['Provide us with records and documents', 'werequest']\n",
      "Property ['covered while', 'temporarily living there']\n",
      "('Personal Property', 'covered under', 'Coverage C')\n",
      "Coverage ['additional insurance', 'no deductible']\n",
      "Property ['covered under', 'Coverage A or B']\n",
      "('Personal Property', 'owned by', 'insured')\n"
     ]
    },
    {
     "data": {
      "text/markdown": [
       "<b>\n",
       "Personal property coverage under Coverage C of the HO3 sample policy covers personal property owned or used by an \"insured\" while it is anywhere in the world. After a loss and at the request of the insured, the policy will cover personal property owned by others while the property is on the part of the \"residence premises\" occupied by an \"insured\", or a guest or a \"residence employee\" while the property is in any residence occupied by an \"insured\". The limit of liability for personal property usually located at an \"insured's\" residence, other than the \"residence premises\", is 10% of the limit of liability for Coverage C, or $1,000, whichever is greater. There are also special limits of liability for certain categories of personal property, such as money, bank notes, bullion, gold other than goldware, silver other than silverware, platinum other than platinumware, coins, medals, scrip, stored value cards and smart cards, and securities, accounts, deeds, evidences of debt, letters of credit, notes other than bank notes, manuscripts, personal records, passports, tickets and stamps. The policy also covers personal property while it is being removed from a premises endangered by a Peril Insured Against and for no more than 30 days while removed. There is also coverage for loss resulting from the theft or unauthorized use of credit cards, electronic fund transfer cards or access devices, forgery or alteration of any check or negotiable instrument, and acceptance in good faith of counterfeit United States or Canadian paper currency. Losses are settled at actual cash value at the time of loss but not more than the amount required to repair or replace, or at replacement cost without deduction for depreciation for buildings covered under Coverage A or B.</b>"
      ],
      "text/plain": [
       "<IPython.core.display.Markdown object>"
      ]
     },
     "metadata": {},
     "output_type": "display_data"
    }
   ],
   "source": [
    "response_hybrid = hybrid_query_engine.query(\"Tell me more about personal property coverage\")\n",
    "\n",
    "display(Markdown(f\"<b>{response_hybrid}</b>\"))"
   ]
  },
  {
   "cell_type": "markdown",
   "id": "b045c800",
   "metadata": {},
   "source": [
    "### 6.3 Vector RAG"
   ]
  },
  {
   "cell_type": "code",
   "execution_count": 27,
   "id": "08fa71a8",
   "metadata": {},
   "outputs": [
    {
     "data": {
      "text/markdown": [
       "<b>\n",
       "The limit of liability for Coverage E is shown in the Declarations and is the same regardless of the number of \"insureds\", claims made or persons injured. The limit of liability for Coverage F is also shown in the Declarations and is the total limit for medical expense payable for \"bodily injury\" to one person as the result of one accident. The limit of liability for personal property usually located at an \"insured's\" residence, other than the \"residence premises\", is 10% of the limit of liability for Coverage C, or $1,000, whichever is greater. There are also special limits of liability for certain categories of property, such as $200 on money, bank notes, bullion, gold other than goldware, silver other than silverware, platinum other than platinumware, coins, medals, scrip, stored value cards and smart cards, and $1,500 on securities, accounts, deeds, evidences of debt, letters of credit, notes other than bank notes, manuscripts, personal records, passports, tickets and stamps.</b>"
      ],
      "text/plain": [
       "<IPython.core.display.Markdown object>"
      ]
     },
     "metadata": {},
     "output_type": "display_data"
    }
   ],
   "source": [
    "response_vector_rag = vector_rag_query_engine.query(\"Tell me about the limit of liability\")\n",
    "\n",
    "display(Markdown(f\"<b>{response_vector_rag}</b>\"))"
   ]
  },
  {
   "cell_type": "code",
   "execution_count": 28,
   "id": "e39d885a",
   "metadata": {},
   "outputs": [
    {
     "data": {
      "text/markdown": [
       "<b>\n",
       "Personal Property coverage under Coverage C of the HO3_sample.pdf policy covers personal property owned or used by an insured while it is anywhere in the world. After a loss and at the request of the insured, the policy will cover personal property owned by others while the property is on the part of the residence premises occupied by an insured, or a guest or residence employee while the property is in any residence occupied by an insured. The limit of liability for personal property usually located at an insured's residence, other than the residence premises, is 10% of the limit of liability for Coverage C, or $1,000, whichever is greater. There are also special limits of liability for certain categories of property, such as money, bank notes, bullion, gold, silver, platinum, coins, medals, scrip, stored value cards, and smart cards ($200 limit) and securities, accounts, deeds, evidences of debt, letters of credit, notes, manuscripts, personal records, passports, tickets, and stamps ($1,500 limit).</b>"
      ],
      "text/plain": [
       "<IPython.core.display.Markdown object>"
      ]
     },
     "metadata": {},
     "output_type": "display_data"
    }
   ],
   "source": [
    "response_vector_rag = vector_rag_query_engine.query(\"Tell me more about personal property coverage\")\n",
    "\n",
    "display(Markdown(f\"<b>{response_vector_rag}</b>\"))"
   ]
  },
  {
   "cell_type": "markdown",
   "id": "6e3e1b07",
   "metadata": {},
   "source": [
    "### 6.4 Graph + Vector RAG"
   ]
  },
  {
   "cell_type": "code",
   "execution_count": 29,
   "id": "cc59b511",
   "metadata": {},
   "outputs": [
    {
     "name": "stdout",
     "output_type": "stream",
     "text": [
      "INFO:llama_index.indices.knowledge_graph.retriever:> Starting query: Tell me about the limit of liability.\n",
      "> Starting query: Tell me about the limit of liability.\n",
      "INFO:llama_index.indices.knowledge_graph.retriever:> Query keywords: ['Liability', 'Limit', 'Responsibility']\n",
      "> Query keywords: ['Liability', 'Limit', 'Responsibility']\n",
      "INFO:llama_index.indices.knowledge_graph.retriever:> Querying with idx: e050c490-1e37-4358-9107-9ff60b6ec688: Corporal Punishment\n",
      "Or Physical Or Mental Abuse\n",
      "\"Bodily injury\" or \"property ...\n",
      "> Querying with idx: e050c490-1e37-4358-9107-9ff60b6ec688: Corporal Punishment\n",
      "Or Physical Or Mental Abuse\n",
      "\"Bodily injury\" or \"property ...\n",
      "INFO:llama_index.indices.knowledge_graph.retriever:> Extracted relationships: The following are knowledge sequence in max depth 2 in the form of `subject [predicate, object, predicate_next_hop, object_next_hop ...]`\n",
      "Liability ['excluded from', 'Coverage E']\n",
      "Liability ['pays', 'damages']\n",
      "Liability ['provides defense', 'counsel of choice']\n",
      "Liability ['limit of liability', 'Declarations']\n",
      "Liability ['excluded from', 'Loss Assessment']\n",
      "Liability ['covered by', 'policy']\n",
      "Liability ['caused by', 'Peril Insured Against']\n",
      "Liability ['not covered by', 'governmental body']\n",
      "Liability ['is charged against', 'owner or tenant of residence premises']\n",
      "Liability ['is result of', 'bodily injury or property damage']\n",
      "Liability ['not covered by', 'governmental body']\n",
      "> Extracted relationships: The following are knowledge sequence in max depth 2 in the form of `subject [predicate, object, predicate_next_hop, object_next_hop ...]`\n",
      "Liability ['excluded from', 'Coverage E']\n",
      "Liability ['pays', 'damages']\n",
      "Liability ['provides defense', 'counsel of choice']\n",
      "Liability ['limit of liability', 'Declarations']\n",
      "Liability ['excluded from', 'Loss Assessment']\n",
      "Liability ['covered by', 'policy']\n",
      "Liability ['caused by', 'Peril Insured Against']\n",
      "Liability ['not covered by', 'governmental body']\n",
      "Liability ['is charged against', 'owner or tenant of residence premises']\n",
      "Liability ['is result of', 'bodily injury or property damage']\n",
      "Liability ['not covered by', 'governmental body']\n"
     ]
    },
    {
     "data": {
      "text/markdown": [
       "<b>\n",
       "The limit of liability for Liability coverage is stated in the Declarations section of the policy. It is the maximum amount that the policy will pay out for damages resulting from any one \"occurrence\". The limit of liability for Coverage E is the same regardless of the number of \"insureds\", claims made or persons injured. For Coverage F, the limit of liability for medical expenses payable for \"bodily injury\" to one person as the result of one accident will not be more than the Coverage F limit of liability shown in the Declarations. Liability is excluded from Loss Assessment and is not covered by any governmental body.</b>"
      ],
      "text/plain": [
       "<IPython.core.display.Markdown object>"
      ]
     },
     "execution_count": 29,
     "metadata": {},
     "output_type": "execute_result"
    }
   ],
   "source": [
    "response_graph_vector_rag = graph_vector_rag_query_engine.query(\"Tell me about the limit of liability.\")\n",
    "\n",
    "Markdown(f\"<b>{response_graph_vector_rag}</b>\")"
   ]
  },
  {
   "cell_type": "code",
   "execution_count": 30,
   "id": "f9caf12e",
   "metadata": {},
   "outputs": [
    {
     "name": "stdout",
     "output_type": "stream",
     "text": [
      "INFO:llama_index.indices.knowledge_graph.retriever:> Starting query: Tell me more about personal property coverage\n",
      "> Starting query: Tell me more about personal property coverage\n",
      "INFO:llama_index.indices.knowledge_graph.retriever:> Query keywords: ['Personal', 'Coverage', 'Property']\n",
      "> Query keywords: ['Personal', 'Coverage', 'Property']\n",
      "INFO:llama_index.indices.knowledge_graph.retriever:> Querying with idx: 7d6e812a-1b83-4313-bc19-5fea56de82ac: district furnishing thefire department response.\n",
      "This coverage is additional ...\n",
      "> Querying with idx: 7d6e812a-1b83-4313-bc19-5fea56de82ac: district furnishing thefire department response.\n",
      "This coverage is additional ...\n",
      "INFO:llama_index.indices.knowledge_graph.retriever:> Querying with idx: 06487ca2-ad03-4ad7-bcd4-3d543258b6f2: equipment and outboardengines or motors; or\n",
      "(c) Property while at any other r...\n",
      "> Querying with idx: 06487ca2-ad03-4ad7-bcd4-3d543258b6f2: equipment and outboardengines or motors; or\n",
      "(c) Property while at any other r...\n",
      "INFO:llama_index.indices.knowledge_graph.retriever:> Querying with idx: 3d148c5c-efdd-46c1-b1b4-4a0deac598bc: Provide us with records and documents werequest and permit us to make copies;...\n",
      "> Querying with idx: 3d148c5c-efdd-46c1-b1b4-4a0deac598bc: Provide us with records and documents werequest and permit us to make copies;...\n",
      "INFO:llama_index.indices.knowledge_graph.retriever:> Querying with idx: b4499a92-9687-4ba2-beae-18e3a15f7445: to be recycled, reconditioned or reclaimed;\n",
      "(f) Settling, shrinking, bulging ...\n",
      "> Querying with idx: b4499a92-9687-4ba2-beae-18e3a15f7445: to be recycled, reconditioned or reclaimed;\n",
      "(f) Settling, shrinking, bulging ...\n",
      "INFO:llama_index.indices.knowledge_graph.retriever:> Extracted relationships: The following are knowledge sequence in max depth 2 in the form of `subject [predicate, object, predicate_next_hop, object_next_hop ...]`\n",
      "Coverage ['additional insurance', 'no deductible']\n",
      "Property ['removed from', 'premises endangered by Peril Insured Against']\n",
      "Property ['covered under', 'Coverage A or B']\n",
      "Property ['covered while at', 'other residence owned by insured']\n",
      "Property ['covered while at', 'residence student occupies to attend school']\n",
      "Property ['covered while at', 'other residence rented to insured']\n",
      "Property ['covered while at', 'other residence occupied by insured']\n",
      "Property ['covered while', 'temporarily living there']\n",
      "Property ['Provide us with records and documents', 'werequest']\n",
      "Property ['Submit to examination under oath', 'while notin the presence of another \"insured\"']\n",
      "Property ['The time and cause of loss', 'to the best of your knowledge and belief']\n",
      "> Extracted relationships: The following are knowledge sequence in max depth 2 in the form of `subject [predicate, object, predicate_next_hop, object_next_hop ...]`\n",
      "Coverage ['additional insurance', 'no deductible']\n",
      "Property ['removed from', 'premises endangered by Peril Insured Against']\n",
      "Property ['covered under', 'Coverage A or B']\n",
      "Property ['covered while at', 'other residence owned by insured']\n",
      "Property ['covered while at', 'residence student occupies to attend school']\n",
      "Property ['covered while at', 'other residence rented to insured']\n",
      "Property ['covered while at', 'other residence occupied by insured']\n",
      "Property ['covered while', 'temporarily living there']\n",
      "Property ['Provide us with records and documents', 'werequest']\n",
      "Property ['Submit to examination under oath', 'while notin the presence of another \"insured\"']\n",
      "Property ['The time and cause of loss', 'to the best of your knowledge and belief']\n"
     ]
    },
    {
     "data": {
      "text/markdown": [
       "<b>\n",
       "Personal property coverage covers personal property owned or used by an \"insured\" while it is anywhere in the world. After a loss and at the request of the insured, the coverage will cover personal property owned by others while the property is on the part of the \"residence premises\" occupied by an \"insured\" or a guest or a \"residence employee\" while the property is in any residence occupied by an \"insured\". The limit of liability for personal property usually located at an \"insured's\" residence, other than the \"residence premises\", is 10% of the limit of liability for Coverage C, or $1,000, whichever is greater. There are also special limits of liability for certain categories of personal property, such as money, bank notes, bullion, gold other than goldware, silver other than silverware, platinum other than platinumware, coins, medals, scrip, stored value cards and smart cards. Covered property losses are settled at actual cash value at the time of loss but not more than the amount required to repair or replace. Buildings covered under Coverage A or B are settled at replacement cost without deduction for depreciation.</b>"
      ],
      "text/plain": [
       "<IPython.core.display.Markdown object>"
      ]
     },
     "execution_count": 30,
     "metadata": {},
     "output_type": "execute_result"
    }
   ],
   "source": [
    "response_graph_vector_rag = graph_vector_rag_query_engine.query(\"Tell me more about personal property coverage\")\n",
    "\n",
    "Markdown(f\"<b>{response_graph_vector_rag}</b>\")"
   ]
  },
  {
   "cell_type": "markdown",
   "id": "15f82da8",
   "metadata": {},
   "source": [
    "## 7. Summary"
   ]
  },
  {
   "cell_type": "markdown",
   "id": "9697e4bc",
   "metadata": {},
   "source": [
    "### 7.1 Overall Comparision"
   ]
  },
  {
   "cell_type": "code",
   "execution_count": 37,
   "id": "1876d070",
   "metadata": {},
   "outputs": [],
   "source": [
    "# Set up a new model for QA\n",
    "from llama_index.llms import OpenAI\n",
    "\n",
    "qa_llm = OpenAI(temperature=0, model=\"gpt-4\")"
   ]
  },
  {
   "cell_type": "markdown",
   "id": "5717df1d",
   "metadata": {},
   "source": [
    "* Asking GPT-4 to compare query results"
   ]
  },
  {
   "cell_type": "code",
   "execution_count": 40,
   "id": "6c776532",
   "metadata": {},
   "outputs": [],
   "source": [
    "\n",
    "res = qa_llm.complete(f\"\"\"\n",
    "Compare the QA results on \"Explain Limit of Liability\", list the knowledge facts between them to help evalute them. Output in markdown table.\n",
    "\n",
    "Result GraphQuery: {response_kg}\n",
    "---\n",
    "Result GraphHybrid: {response_hybrid}\n",
    "---\n",
    "Result Vector: {response_vector_rag}\n",
    "---\n",
    "Result Graph+Vector: {response_graph_vector_rag}\n",
    "---\n",
    "\n",
    "\"\"\"\n",
    ")\n"
   ]
  },
  {
   "cell_type": "code",
   "execution_count": 41,
   "id": "50d49f1f",
   "metadata": {},
   "outputs": [
    {
     "data": {
      "text/markdown": [
       "| Knowledge Fact | Result GraphQuery | Result GraphHybrid | Result Vector | Result Graph+Vector |\n",
       "| --- | --- | --- | --- | --- |\n",
       "| The limit of liability is specified in the Declarations section of the policy | Yes | No | No | No |\n",
       "| The limit of liability is the maximum amount of money that the policy will pay out in the event of a claim | Yes | No | No | No |\n",
       "| The limit of liability may vary depending on the type of coverage and the specific circumstances of the claim | Yes | No | No | No |\n",
       "| Personal property coverage covers personal property owned or used by an \"insured\" while it is anywhere in the world | No | Yes | Yes | Yes |\n",
       "| The policy will cover personal property owned by others while the property is on the part of the \"residence premises\" occupied by an \"insured\" | No | Yes | Yes | Yes |\n",
       "| The limit of liability for personal property usually located at an \"insured's\" residence, other than the \"residence premises\", is 10% of the limit of liability for Coverage C, or $1,000, whichever is greater | No | Yes | Yes | Yes |\n",
       "| There are special limits of liability for certain categories of personal property | No | Yes | Yes | Yes |\n",
       "| Covered property losses are settled at actual cash value at the time of loss but not more than the amount required to repair or replace | No | Yes | No | Yes |\n",
       "| Buildings covered under Coverage A or B are settled at replacement cost without deduction for depreciation | No | Yes | No | Yes |"
      ],
      "text/plain": [
       "<IPython.core.display.Markdown object>"
      ]
     },
     "execution_count": 41,
     "metadata": {},
     "output_type": "execute_result"
    }
   ],
   "source": [
    "Markdown(f\"{res}\")"
   ]
  },
  {
   "cell_type": "code",
   "execution_count": 42,
   "id": "e1602f97",
   "metadata": {},
   "outputs": [],
   "source": [
    "res = qa_llm.complete(f\"\"\"\n",
    "Compare the QA results on \"Explain Personal Property Coverage\", list the knowledge facts between them to help evalute them. Output in markdown table.\n",
    "\n",
    "Result GraphQuery: {response_kg}\n",
    "---\n",
    "Result GraphHybrid: {response_hybrid}\n",
    "---\n",
    "Result Vector: {response_vector_rag}\n",
    "---\n",
    "Result Graph+Vector: {response_graph_vector_rag}\n",
    "---\n",
    "\n",
    "\"\"\"\n",
    ")"
   ]
  },
  {
   "cell_type": "code",
   "execution_count": 43,
   "id": "dd5f0bc2",
   "metadata": {},
   "outputs": [
    {
     "data": {
      "text/markdown": [
       "| Knowledge Facts | GraphQuery | GraphHybrid | Vector | Graph+Vector |\n",
       "| --- | --- | --- | --- | --- |\n",
       "| Personal property coverage covers personal property owned or used by an insured | No | Yes | Yes | Yes |\n",
       "| Personal property coverage covers personal property owned by others while the property is on the part of the residence premises occupied by an insured | No | Yes | Yes | Yes |\n",
       "| The limit of liability for personal property usually located at an insured's residence, other than the residence premises, is 10% of the limit of liability for Coverage C, or $1,000, whichever is greater | No | Yes | Yes | Yes |\n",
       "| There are special limits of liability for certain categories of personal property | No | Yes | Yes | Yes |\n",
       "| Covered property losses are settled at actual cash value at the time of loss but not more than the amount required to repair or replace | No | Yes | No | Yes |\n",
       "| Buildings covered under Coverage A or B are settled at replacement cost without deduction for depreciation | No | Yes | No | Yes |\n",
       "| The limit of liability is specified in the Declarations section of the policy | Yes | No | No | No |\n",
       "| The limit of liability may vary depending on the type of coverage and the specific circumstances of the claim | Yes | No | No | No |\n",
       "| Personal property coverage covers personal property while it is being removed from a premises endangered by a Peril Insured Against and for no more than 30 days while removed | No | Yes | No | No |\n",
       "| There is coverage for loss resulting from the theft or unauthorized use of credit cards, electronic fund transfer cards or access devices, forgery or alteration of any check or negotiable instrument, and acceptance in good faith of counterfeit United States or Canadian paper currency | No | Yes | No | No |"
      ],
      "text/plain": [
       "<IPython.core.display.Markdown object>"
      ]
     },
     "execution_count": 43,
     "metadata": {},
     "output_type": "execute_result"
    }
   ],
   "source": [
    "Markdown(f\"{res}\")"
   ]
  },
  {
   "cell_type": "code",
   "execution_count": 44,
   "id": "6652985c",
   "metadata": {},
   "outputs": [],
   "source": [
    "res =  qa_llm.complete(f\"\"\"\n",
    "Compare the two QA result on \"Explain Limit of Liability\", list the differences between them to help evalute them. Output in markdown table.\n",
    "\n",
    "Result from Graph: {response_kg}\n",
    "---\n",
    "Result from Graph_hybrid: {response_hybrid}\n",
    "\n",
    "\"\"\" \n",
    ")\n"
   ]
  },
  {
   "cell_type": "code",
   "execution_count": 45,
   "id": "4a9559ef",
   "metadata": {},
   "outputs": [
    {
     "data": {
      "text/markdown": [
       "| Result from Graph | Result from Graph_hybrid |\n",
       "| --- | --- |\n",
       "| The answer is general and applies to any insurance policy. It explains that the limit of liability is the maximum amount the policy will pay out in the event of a claim. This limit is specified in the Declarations section of the policy and may vary depending on the type of coverage and the specific circumstances of the claim. | The answer is specific to a Homeowners 3 (HO3) insurance policy. It provides a detailed explanation of the limit of liability for personal property coverage under Coverage C. It mentions that the limit is 10% of the limit of liability for Coverage C, or $1,000, whichever is greater. It also lists special limits for certain categories of personal property and explains how losses are settled. |\n",
       "| The answer does not provide specific examples or details about different types of coverage or circumstances that might affect the limit of liability. | The answer provides specific examples of personal property that might be covered and circumstances that might affect the limit of liability, such as the location of the property and whether it is being removed from a premises endangered by a Peril Insured Against. |\n",
       "| The answer does not mention any special limits of liability for certain categories of property. | The answer mentions special limits of liability for certain categories of personal property, such as money, bank notes, bullion, gold other than goldware, silver other than silverware, platinum other than platinumware, coins, medals, scrip, stored value cards and smart cards, and securities, accounts, deeds, evidences of debt, letters of credit, notes other than bank notes, manuscripts, personal records, passports, tickets and stamps. |\n",
       "| The answer does not mention any coverage for loss resulting from theft or unauthorized use of credit cards, electronic fund transfer cards or access devices, forgery or alteration of any check or negotiable instrument, and acceptance in good faith of counterfeit United States or Canadian paper currency. | The answer mentions coverage for loss resulting from the theft or unauthorized use of credit cards, electronic fund transfer cards or access devices, forgery or alteration of any check or negotiable instrument, and acceptance in good faith of counterfeit United States or Canadian paper currency. |\n",
       "| The answer does not mention how losses are settled. | The answer explains that losses are settled at actual cash value at the time of loss but not more than the amount required to repair or replace, or at replacement cost without deduction for depreciation for buildings covered under Coverage A or B. |"
      ],
      "text/plain": [
       "<IPython.core.display.Markdown object>"
      ]
     },
     "execution_count": 45,
     "metadata": {},
     "output_type": "execute_result"
    }
   ],
   "source": [
    "Markdown(f\"{res}\")"
   ]
  },
  {
   "cell_type": "code",
   "execution_count": 46,
   "id": "c4510b96",
   "metadata": {},
   "outputs": [],
   "source": [
    "res = qa_llm.complete(f\"\"\"\n",
    "Compare the two QA results on \"Explain Limit of Liability\", list the differences between them, to help evalute them. Output in markdown table.\n",
    "\n",
    "Result from Topk Vecs: {response_vector_rag}\n",
    "---\n",
    "Result from Graph+Vec: {response_graph_vector_rag}\n",
    "\n",
    "\"\"\"\n",
    ")\n"
   ]
  },
  {
   "cell_type": "code",
   "execution_count": 47,
   "id": "32dcede2",
   "metadata": {},
   "outputs": [
    {
     "data": {
      "text/markdown": [
       "| Differences | Topk Vecs | Graph+Vec |\n",
       "| --- | --- | --- |\n",
       "| Use of quotation marks | No quotation marks used | Quotation marks used around terms like \"insured\" and \"residence premises\" |\n",
       "| Mention of gold, silver, platinum | Does not specify that it excludes goldware, silverware, platinumware | Specifies that it covers gold, silver, platinum other than goldware, silverware, platinumware |\n",
       "| Mention of certain categories of property | Mentions securities, accounts, deeds, evidences of debt, letters of credit, notes, manuscripts, personal records, passports, tickets, and stamps with a limit of $1,500 | Does not mention these categories of property |\n",
       "| Settlement of covered property losses | Does not mention how covered property losses are settled | States that covered property losses are settled at actual cash value at the time of loss but not more than the amount required to repair or replace |\n",
       "| Settlement of buildings covered under Coverage A or B | Does not mention how buildings covered under Coverage A or B are settled | States that buildings covered under Coverage A or B are settled at replacement cost without deduction for depreciation |"
      ],
      "text/plain": [
       "<IPython.core.display.Markdown object>"
      ]
     },
     "execution_count": 47,
     "metadata": {},
     "output_type": "execute_result"
    }
   ],
   "source": [
    "Markdown(f\"{res}\")"
   ]
  },
  {
   "cell_type": "code",
   "execution_count": 48,
   "id": "05cee5d2",
   "metadata": {},
   "outputs": [],
   "source": [
    "# Generate and export network graph\n",
    "\n",
    "from pyvis.network import Network\n",
    "\n",
    "g = kg_index.get_networkx_graph()\n",
    "net = Network(\n",
    "    notebook=True,\n",
    "    directed=True,\n",
    "    cdn_resources='in_line',\n",
    ")\n",
    "\n",
    "net = Network(\n",
    "    cdn_resources='local',\n",
    "    directed = True,            # directed graph\n",
    "    bgcolor = \"#222222\",          # background color of graph \n",
    "    font_color = \"white\",      # use yellow for node labels\n",
    "    height = \"1000px\",          # height of chart\n",
    "    width = \"100%\",             # fill the entire width    \n",
    "    )\n",
    "\n",
    "net.repulsion(\n",
    "    node_distance=200,\n",
    "    central_gravity=0.2,\n",
    "    spring_length=250,\n",
    "    spring_strength=0.08,\n",
    "    damping=0.1,\n",
    ")\n",
    "net.toggle_physics(True)\n",
    "net.from_nx(g)\n",
    "net.write_html(\"ho3_kg_index_gpt4.html\")"
   ]
  },
  {
   "cell_type": "code",
   "execution_count": null,
   "id": "a0c6c06b",
   "metadata": {},
   "outputs": [],
   "source": []
  }
 ],
 "metadata": {
  "kernelspec": {
   "display_name": "Python 3 (ipykernel)",
   "language": "python",
   "name": "python3"
  },
  "language_info": {
   "codemirror_mode": {
    "name": "ipython",
    "version": 3
   },
   "file_extension": ".py",
   "mimetype": "text/x-python",
   "name": "python",
   "nbconvert_exporter": "python",
   "pygments_lexer": "ipython3",
   "version": "3.10.1"
  }
 },
 "nbformat": 4,
 "nbformat_minor": 5
}
