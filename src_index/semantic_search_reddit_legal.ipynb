{
 "cells": [
  {
   "cell_type": "code",
   "execution_count": 10,
   "metadata": {},
   "outputs": [],
   "source": [
    "import os\n",
    "import numpy as np\n",
    "import warnings\n",
    "warnings.simplefilter(action='ignore', category=FutureWarning)\n",
    "import pandas as pd\n",
    "pd.options.display.max_columns = None\n",
    "pd.options.display.max_rows = 50\n",
    "import seaborn as sns\n",
    "import pandas as pd\n",
    "import matplotlib.pyplot as plt\n",
    "from matplotlib.ticker import FuncFormatter\n",
    "from dotenv import load_dotenv\n",
    "from IPython.display import Markdown"
   ]
  },
  {
   "cell_type": "code",
   "execution_count": 11,
   "metadata": {},
   "outputs": [],
   "source": [
    "# For specific functions in the notebook\n",
    "import openai\n",
    "import langchain\n",
    "from langchain.prompts import PromptTemplate\n",
    "from langchain.chains.qa_with_sources import load_qa_with_sources_chain\n",
    "from langchain.llms import OpenAI\n",
    "from langchain.embeddings import HuggingFaceInstructEmbeddings\n"
   ]
  },
  {
   "cell_type": "code",
   "execution_count": 12,
   "metadata": {},
   "outputs": [],
   "source": [
    "# UDFs\n",
    "from token_catcher import Usage\n",
    "from semantic_search import SemanticSearch"
   ]
  },
  {
   "cell_type": "code",
   "execution_count": 13,
   "metadata": {},
   "outputs": [
    {
     "data": {
      "text/plain": [
       "True"
      ]
     },
     "execution_count": 13,
     "metadata": {},
     "output_type": "execute_result"
    }
   ],
   "source": [
    "load_dotenv()"
   ]
  },
  {
   "cell_type": "code",
   "execution_count": 14,
   "metadata": {},
   "outputs": [],
   "source": [
    "df = pd.read_parquet(\"reddit_legal_cluster_test_results.parquet\")"
   ]
  },
  {
   "cell_type": "code",
   "execution_count": 8,
   "metadata": {},
   "outputs": [],
   "source": [
    "df.to_csv(\"reddit_legal_cluster_test_results.csv\", index=False)"
   ]
  },
  {
   "cell_type": "code",
   "execution_count": 15,
   "metadata": {},
   "outputs": [],
   "source": [
    "df['timestamp'] = pd.to_datetime(df['created_utc'], unit='s')\n",
    "df['datestamp'] = df['timestamp'].dt.date"
   ]
  },
  {
   "cell_type": "code",
   "execution_count": 16,
   "metadata": {},
   "outputs": [
    {
     "name": "stdout",
     "output_type": "stream",
     "text": [
      "(5000, 16)\n"
     ]
    },
    {
     "data": {
      "text/html": [
       "<div>\n",
       "<style scoped>\n",
       "    .dataframe tbody tr th:only-of-type {\n",
       "        vertical-align: middle;\n",
       "    }\n",
       "\n",
       "    .dataframe tbody tr th {\n",
       "        vertical-align: top;\n",
       "    }\n",
       "\n",
       "    .dataframe thead th {\n",
       "        text-align: right;\n",
       "    }\n",
       "</style>\n",
       "<table border=\"1\" class=\"dataframe\">\n",
       "  <thead>\n",
       "    <tr style=\"text-align: right;\">\n",
       "      <th></th>\n",
       "      <th>index</th>\n",
       "      <th>created_utc</th>\n",
       "      <th>full_link</th>\n",
       "      <th>id</th>\n",
       "      <th>body</th>\n",
       "      <th>title</th>\n",
       "      <th>text_label</th>\n",
       "      <th>flair_label</th>\n",
       "      <th>embeddings</th>\n",
       "      <th>token_count</th>\n",
       "      <th>llm_title</th>\n",
       "      <th>State</th>\n",
       "      <th>kmeans_label</th>\n",
       "      <th>topic_title</th>\n",
       "      <th>timestamp</th>\n",
       "      <th>datestamp</th>\n",
       "    </tr>\n",
       "  </thead>\n",
       "  <tbody>\n",
       "    <tr>\n",
       "      <th>1078</th>\n",
       "      <td>1078</td>\n",
       "      <td>1575952538</td>\n",
       "      <td>https://www.reddit.com/r/legaladvice/comments/...</td>\n",
       "      <td>e8lsen</td>\n",
       "      <td>I applied for a job and after two interviews I...</td>\n",
       "      <td>Failed a drug test due to amphetamines, I have...</td>\n",
       "      <td>employment</td>\n",
       "      <td>5</td>\n",
       "      <td>[9.475638042064453e-05, 0.0005111666301983955,...</td>\n",
       "      <td>493</td>\n",
       "      <td>\"Validity of Schedule II Drug Prescription in ...</td>\n",
       "      <td>PR</td>\n",
       "      <td>8</td>\n",
       "      <td>Employment Legal Concerns and Issues</td>\n",
       "      <td>2019-12-10 04:35:38</td>\n",
       "      <td>2019-12-10</td>\n",
       "    </tr>\n",
       "    <tr>\n",
       "      <th>2098</th>\n",
       "      <td>2098</td>\n",
       "      <td>1577442453</td>\n",
       "      <td>https://www.reddit.com/r/legaladvice/comments/...</td>\n",
       "      <td>eg9ll2</td>\n",
       "      <td>Hi everyone, thanks in advance for any guidanc...</td>\n",
       "      <td>Speeding ticket in Tennessee, Georgia Driver's...</td>\n",
       "      <td>driving</td>\n",
       "      <td>4</td>\n",
       "      <td>[-0.006706413111028856, 0.020911016696181495, ...</td>\n",
       "      <td>252</td>\n",
       "      <td>\"Speeding ticket consequences for out-of-state...</td>\n",
       "      <td>KY</td>\n",
       "      <td>10</td>\n",
       "      <td>Legal Topics in Traffic Violations</td>\n",
       "      <td>2019-12-27 10:27:33</td>\n",
       "      <td>2019-12-27</td>\n",
       "    </tr>\n",
       "  </tbody>\n",
       "</table>\n",
       "</div>"
      ],
      "text/plain": [
       "      index  created_utc                                          full_link  \\\n",
       "1078   1078   1575952538  https://www.reddit.com/r/legaladvice/comments/...   \n",
       "2098   2098   1577442453  https://www.reddit.com/r/legaladvice/comments/...   \n",
       "\n",
       "          id                                               body  \\\n",
       "1078  e8lsen  I applied for a job and after two interviews I...   \n",
       "2098  eg9ll2  Hi everyone, thanks in advance for any guidanc...   \n",
       "\n",
       "                                                  title  text_label  \\\n",
       "1078  Failed a drug test due to amphetamines, I have...  employment   \n",
       "2098  Speeding ticket in Tennessee, Georgia Driver's...     driving   \n",
       "\n",
       "      flair_label                                         embeddings  \\\n",
       "1078            5  [9.475638042064453e-05, 0.0005111666301983955,...   \n",
       "2098            4  [-0.006706413111028856, 0.020911016696181495, ...   \n",
       "\n",
       "      token_count                                          llm_title State  \\\n",
       "1078          493  \"Validity of Schedule II Drug Prescription in ...    PR   \n",
       "2098          252  \"Speeding ticket consequences for out-of-state...    KY   \n",
       "\n",
       "      kmeans_label                           topic_title           timestamp  \\\n",
       "1078             8  Employment Legal Concerns and Issues 2019-12-10 04:35:38   \n",
       "2098            10    Legal Topics in Traffic Violations 2019-12-27 10:27:33   \n",
       "\n",
       "       datestamp  \n",
       "1078  2019-12-10  \n",
       "2098  2019-12-27  "
      ]
     },
     "execution_count": 16,
     "metadata": {},
     "output_type": "execute_result"
    }
   ],
   "source": [
    "print(df.shape)\n",
    "df.head(2)"
   ]
  },
  {
   "cell_type": "code",
   "execution_count": 17,
   "metadata": {},
   "outputs": [
    {
     "data": {
      "text/plain": [
       "11"
      ]
     },
     "execution_count": 17,
     "metadata": {},
     "output_type": "execute_result"
    }
   ],
   "source": [
    "df.topic_title.nunique()"
   ]
  },
  {
   "cell_type": "code",
   "execution_count": 18,
   "metadata": {},
   "outputs": [
    {
     "data": {
      "text/plain": [
       "topic_title\n",
       "Legal Topics in Rental Properties           648\n",
       "Employment Legal Concerns and Issues        617\n",
       "Child Custody and Related Issues            576\n",
       "Legal Consequences of False Accusations     567\n",
       "Rental Property and Landlord Matters        523\n",
       "Compilation of Legal Topics                 461\n",
       "Legal Issues in Consumer Protection         384\n",
       "Legal Topics in Traffic Violations          343\n",
       "Car Accident Liability and Insurance        336\n",
       "COVID-19 Employment and Benefit Concerns    277\n",
       "Legal Issues in Estate Administration       268\n",
       "Name: count, dtype: int64"
      ]
     },
     "execution_count": 18,
     "metadata": {},
     "output_type": "execute_result"
    }
   ],
   "source": [
    "df.topic_title.value_counts()"
   ]
  },
  {
   "cell_type": "code",
   "execution_count": 8,
   "metadata": {},
   "outputs": [],
   "source": [
    "# Formatter to convert numbers into 'k' format\n",
    "def thousands_formatter(x, pos):\n",
    "    return f'{x * 1e-3}k'\n",
    "\n",
    "def heatmap_cooccurences(df, col1, col2):\n",
    "    # Create a co-occurrence matrix\n",
    "    cooccurrence_matrix = pd.crosstab(df[col1], df[col2])\n",
    "    \n",
    "    # Generate heatmap\n",
    "    plt.figure(figsize=(10, 6))\n",
    "    sns.heatmap(cooccurrence_matrix, annot=True, cmap='YlGnBu', fmt='g', cbar_kws={'format': FuncFormatter(thousands_formatter)})\n",
    "    plt.show()"
   ]
  },
  {
   "cell_type": "code",
   "execution_count": 9,
   "metadata": {},
   "outputs": [
    {
     "data": {
      "image/png": "[encoded data removed]",
      "text/plain": [
       "<Figure size 1000x600 with 2 Axes>"
      ]
     },
     "metadata": {},
     "output_type": "display_data"
    }
   ],
   "source": [
    "heatmap_cooccurences(df, \"topic_title\", \"text_label\")"
   ]
  },
  {
   "cell_type": "code",
   "execution_count": 23,
   "metadata": {},
   "outputs": [
    {
     "name": "stdout",
     "output_type": "stream",
     "text": [
      "Hey folks;\n",
      "\n",
      "I'm currently designing a video game that I know will turn a good profit. The business machinations, marketing, and project management are my forte but I lack in the programming and 3D modelling department. So, I'll need to hire independent contractors/freelancers to handle those parts to design a \"proof of concept\" in order to better secure initial income via crowdfunding. At this point:  I have virtually no initial startup funds.\n",
      "\n",
      "So, I was hoping for advice on what types of contracts I could have them and myself sign to ensure that they 100% get paid for their work and how to ensure that my intellectual property is protected. My fears is having a 3D artist or coder take the game concept and/or 3D models and running away with it. I'm located in Ohio but will likely need to hire contractors from different states, maybe even different countries.\n",
      "\n",
      "Any advice would be appreciated. Thanks!\n"
     ]
    }
   ],
   "source": [
    "test_query = df['body'].tail(1).tolist()[0]\n",
    "print(test_query)"
   ]
  },
  {
   "cell_type": "code",
   "execution_count": 24,
   "metadata": {},
   "outputs": [],
   "source": [
    "search_engine = SemanticSearch(df)"
   ]
  },
  {
   "cell_type": "code",
   "execution_count": 25,
   "metadata": {},
   "outputs": [],
   "source": [
    "top_n = 5\n",
    "filter_criteria = None\n",
    "use_cosine_similarity = True"
   ]
  },
  {
   "cell_type": "code",
   "execution_count": 26,
   "metadata": {},
   "outputs": [],
   "source": [
    "test_res = search_engine.query_similar_documents(test_query, top_n, filter_criteria, use_cosine_similarity)"
   ]
  },
  {
   "cell_type": "code",
   "execution_count": 27,
   "metadata": {},
   "outputs": [
    {
     "data": {
      "text/html": [
       "<div>\n",
       "<style scoped>\n",
       "    .dataframe tbody tr th:only-of-type {\n",
       "        vertical-align: middle;\n",
       "    }\n",
       "\n",
       "    .dataframe tbody tr th {\n",
       "        vertical-align: top;\n",
       "    }\n",
       "\n",
       "    .dataframe thead th {\n",
       "        text-align: right;\n",
       "    }\n",
       "</style>\n",
       "<table border=\"1\" class=\"dataframe\">\n",
       "  <thead>\n",
       "    <tr style=\"text-align: right;\">\n",
       "      <th></th>\n",
       "      <th>index</th>\n",
       "      <th>created_utc</th>\n",
       "      <th>full_link</th>\n",
       "      <th>id</th>\n",
       "      <th>body</th>\n",
       "      <th>title</th>\n",
       "      <th>text_label</th>\n",
       "      <th>flair_label</th>\n",
       "      <th>embeddings</th>\n",
       "      <th>token_count</th>\n",
       "      <th>llm_title</th>\n",
       "      <th>State</th>\n",
       "      <th>kmeans_label</th>\n",
       "      <th>topic_title</th>\n",
       "      <th>timestamp</th>\n",
       "      <th>datestamp</th>\n",
       "      <th>sim_score</th>\n",
       "    </tr>\n",
       "  </thead>\n",
       "  <tbody>\n",
       "    <tr>\n",
       "      <th>8627</th>\n",
       "      <td>8627</td>\n",
       "      <td>1589322350</td>\n",
       "      <td>https://www.reddit.com/r/legaladvice/comments/...</td>\n",
       "      <td>gilww3</td>\n",
       "      <td>Hey folks;\\n\\nI'm currently designing a video ...</td>\n",
       "      <td>[OH] Advice on safe contracts for freelancers/...</td>\n",
       "      <td>contract</td>\n",
       "      <td>1</td>\n",
       "      <td>[0.010599094232140971, -0.01940659953784975, -...</td>\n",
       "      <td>191</td>\n",
       "      <td>\"Protecting Intellectual Property and Ensuring...</td>\n",
       "      <td>OR</td>\n",
       "      <td>6</td>\n",
       "      <td>Compilation of Legal Topics</td>\n",
       "      <td>2020-05-12 22:25:50</td>\n",
       "      <td>2020-05-12</td>\n",
       "      <td>0.967293</td>\n",
       "    </tr>\n",
       "    <tr>\n",
       "      <th>8236</th>\n",
       "      <td>8236</td>\n",
       "      <td>1421900108</td>\n",
       "      <td>https://www.reddit.com/r/legaladvice/comments/...</td>\n",
       "      <td>2t9664</td>\n",
       "      <td>So, recently I've been getting a bit stale at ...</td>\n",
       "      <td>Independent Contractor: Things to Watch Out Fo...</td>\n",
       "      <td>contract</td>\n",
       "      <td>1</td>\n",
       "      <td>[0.004767628551109627, -0.030685936228185846, ...</td>\n",
       "      <td>223</td>\n",
       "      <td>\"Legal considerations for becoming an independ...</td>\n",
       "      <td>CT</td>\n",
       "      <td>6</td>\n",
       "      <td>Compilation of Legal Topics</td>\n",
       "      <td>2015-01-22 04:15:08</td>\n",
       "      <td>2015-01-22</td>\n",
       "      <td>0.854329</td>\n",
       "    </tr>\n",
       "  </tbody>\n",
       "</table>\n",
       "</div>"
      ],
      "text/plain": [
       "      index  created_utc                                          full_link  \\\n",
       "8627   8627   1589322350  https://www.reddit.com/r/legaladvice/comments/...   \n",
       "8236   8236   1421900108  https://www.reddit.com/r/legaladvice/comments/...   \n",
       "\n",
       "          id                                               body  \\\n",
       "8627  gilww3  Hey folks;\\n\\nI'm currently designing a video ...   \n",
       "8236  2t9664  So, recently I've been getting a bit stale at ...   \n",
       "\n",
       "                                                  title text_label  \\\n",
       "8627  [OH] Advice on safe contracts for freelancers/...   contract   \n",
       "8236  Independent Contractor: Things to Watch Out Fo...   contract   \n",
       "\n",
       "      flair_label                                         embeddings  \\\n",
       "8627            1  [0.010599094232140971, -0.01940659953784975, -...   \n",
       "8236            1  [0.004767628551109627, -0.030685936228185846, ...   \n",
       "\n",
       "      token_count                                          llm_title State  \\\n",
       "8627          191  \"Protecting Intellectual Property and Ensuring...    OR   \n",
       "8236          223  \"Legal considerations for becoming an independ...    CT   \n",
       "\n",
       "      kmeans_label                  topic_title           timestamp  \\\n",
       "8627             6  Compilation of Legal Topics 2020-05-12 22:25:50   \n",
       "8236             6  Compilation of Legal Topics 2015-01-22 04:15:08   \n",
       "\n",
       "       datestamp  sim_score  \n",
       "8627  2020-05-12   0.967293  \n",
       "8236  2015-01-22   0.854329  "
      ]
     },
     "execution_count": 27,
     "metadata": {},
     "output_type": "execute_result"
    }
   ],
   "source": [
    "test_res.head(2)"
   ]
  },
  {
   "cell_type": "code",
   "execution_count": 28,
   "metadata": {},
   "outputs": [],
   "source": [
    "def get_top_ten_docs(query: str, df: pd.DataFrame):\n",
    "    search_engine = SemanticSearch(df)\n",
    "    res = search_engine.query_similar_documents(query, top_n=10, filter_criteria=None)\n",
    "    \n",
    "    docs = []\n",
    "    for i, row in res.iterrows():\n",
    "        doc = langchain.docstore.document.Document(\n",
    "            page_content=row['body'],\n",
    "            metadata={\"source\": row['full_link']},\n",
    "            lookup_index=i,\n",
    "        )\n",
    "        docs.append(doc)\n",
    "    return docs    "
   ]
  },
  {
   "cell_type": "code",
   "execution_count": 129,
   "metadata": {},
   "outputs": [],
   "source": [
    "docs = get_top_ten_docs(test_query, df)"
   ]
  },
  {
   "cell_type": "code",
   "execution_count": 130,
   "metadata": {},
   "outputs": [
    {
     "name": "stdout",
     "output_type": "stream",
     "text": [
      "Hey folks;\n",
      "\n",
      "I'm currently designing a video game that I know will turn a good profit. The business machinations, marketing, and project management are my forte but I lack in the programming and 3D modelling department. So, I'll need to hire independent contractors/freelancers to handle those parts to design a \"proof of concept\" in order to better secure initial income via crowdfunding. At this point:  I have virtually no initial startup funds.\n",
      "\n",
      "So, I was hoping for advice on what types of contracts I could have them and myself sign to ensure that they 100% get paid for their work and how to ensure that my intellectual property is protected. My fears is having a 3D artist or coder take the game concept and/or 3D models and running away with it. I'm located in Ohio but will likely need to hire contractors from different states, maybe even different countries.\n",
      "\n",
      "Any advice would be appreciated. Thanks!\n"
     ]
    }
   ],
   "source": [
    "print(docs[0].page_content)"
   ]
  },
  {
   "cell_type": "code",
   "execution_count": 131,
   "metadata": {},
   "outputs": [
    {
     "data": {
      "text/plain": [
       "Document(page_content='Hey folks;\\n\\nI\\'m currently designing a video game that I know will turn a good profit. The business machinations, marketing, and project management are my forte but I lack in the programming and 3D modelling department. So, I\\'ll need to hire independent contractors/freelancers to handle those parts to design a \"proof of concept\" in order to better secure initial income via crowdfunding. At this point:  I have virtually no initial startup funds.\\n\\nSo, I was hoping for advice on what types of contracts I could have them and myself sign to ensure that they 100% get paid for their work and how to ensure that my intellectual property is protected. My fears is having a 3D artist or coder take the game concept and/or 3D models and running away with it. I\\'m located in Ohio but will likely need to hire contractors from different states, maybe even different countries.\\n\\nAny advice would be appreciated. Thanks!', metadata={'source': 'https://www.reddit.com/r/legaladvice/comments/gilww3/oh_advice_on_safe_contracts_for/'})"
      ]
     },
     "execution_count": 131,
     "metadata": {},
     "output_type": "execute_result"
    }
   ],
   "source": [
    "docs.pop(0)"
   ]
  },
  {
   "cell_type": "code",
   "execution_count": 132,
   "metadata": {},
   "outputs": [
    {
     "name": "stdout",
     "output_type": "stream",
     "text": [
      "So, recently I've been getting a bit stale at my old job, working in software development at a University and was looking for something new. A group of guys are working on a startup for a software product and are ready to bring it closer to testing (beta) stage, but need some help with some software development. They saw my LinkedIn, saw my resume, and want to hire me.\n",
      "\n",
      "Here's the kicker: they want to hire me as an independent contractor. The company is not incorporated yet, they're hoping to get into an accelerator that will help and pay for them to incorporate. They offered to pay all of my self-employment taxes as a contractor, and also formulate the agreement so I am not liable for mistakes after my contract is over in exchange for giving them the copyright to my code.\n",
      "\n",
      "I'm supposed to be expecting a first agreement of the draft within 24 hours. What are some gotchas or other items I should watch out for based on your experiences? What legal steps can I take to avoid a potentially sticky situation later on?\n",
      "\n",
      "Thank you very much!\n",
      "\n",
      "Wisconsin, United States\n"
     ]
    }
   ],
   "source": [
    "print(docs[0].page_content)"
   ]
  },
  {
   "cell_type": "code",
   "execution_count": 149,
   "metadata": {},
   "outputs": [],
   "source": [
    "def get_langchain_response(docs, query, k=5):\n",
    "    \"\"\"\n",
    "    Using LangChain mapreduce\n",
    "    \"\"\"\n",
    "    question_prompt_template = \"\"\"Use the following initial semantic search results to see if any of the texts are similar to a new query. \n",
    "\n",
    "    {context}\n",
    "    Query: {question}\n",
    "    Similar texts:\"\"\"\n",
    "    QUESTION_PROMPT = PromptTemplate(\n",
    "        template=question_prompt_template, input_variables=[\"context\", \"question\"]\n",
    "    )\n",
    "\n",
    "    combine_prompt_template = \"\"\"Using the following new text, and examples of similar past texts, perform two tasks.  \n",
    "    (1) Summarize the new text.\n",
    "    (2) Generate a bullet point list of similarities to past texts\n",
    "    Create a final answer with references (\"SOURCES\")\n",
    "    ALWAYS return a \"SOURCES\" part at the end of your answer. Return sources as a list of strings, e.g. [\"source1\", \"source2\", ...]\n",
    "\n",
    "    TEXT: {question}\n",
    "    =========\n",
    "    {summaries}\n",
    "    =========\n",
    "    FINAL ANSWER:\"\"\"\n",
    "    COMBINE_PROMPT = PromptTemplate(\n",
    "        template=combine_prompt_template, input_variables=[\"summaries\", \"question\"]\n",
    "    )\n",
    "\n",
    "    chain = load_qa_with_sources_chain(\n",
    "        OpenAI(temperature=0.0),\n",
    "        chain_type=\"map_reduce\",\n",
    "        return_intermediate_steps=True,\n",
    "        question_prompt=QUESTION_PROMPT,\n",
    "        combine_prompt=COMBINE_PROMPT,\n",
    "    )\n",
    "    chain_out = chain(\n",
    "        {\"input_documents\": docs[:k], \"question\": query}, return_only_outputs=True\n",
    "    )\n",
    "    return chain_out"
   ]
  },
  {
   "cell_type": "code",
   "execution_count": 150,
   "metadata": {},
   "outputs": [],
   "source": [
    "chain_out = get_langchain_response(docs, test_query, k=8)"
   ]
  },
  {
   "cell_type": "code",
   "execution_count": 151,
   "metadata": {},
   "outputs": [],
   "source": [
    "output_text = chain_out[\"output_text\"].split(\"\\n\\nSOURCES: \")[0].strip()"
   ]
  },
  {
   "cell_type": "code",
   "execution_count": 152,
   "metadata": {},
   "outputs": [
    {
     "data": {
      "text/markdown": [
       "Summary: The new text is about an individual who is designing a video game and is looking for advice on how to protect their intellectual property and ensure that independent contractors/freelancers are paid for their work, especially when hiring from different states or countries.\n",
       "\n",
       "Similarities to Past Texts:\n",
       "- Legal considerations of hiring independent contractors for software development\n",
       "- Best practices for protecting intellectual property when hiring freelancers\n",
       "- Legal implications of hiring contractors from different states or countries\n",
       "- Protecting oneself when talking to strangers\n",
       "- Consulting with a lawyer or financial advisor to get more specific advice on the legal and financial implications of forming a business\n",
       "- Different types of business structures and the associated legal and financial implications of each\n",
       "- Resources available online that can provide advice on contracts and intellectual property protection for video game development\n",
       "- Forming an LLC and protecting intellectual property"
      ],
      "text/plain": [
       "<IPython.core.display.Markdown object>"
      ]
     },
     "execution_count": 152,
     "metadata": {},
     "output_type": "execute_result"
    }
   ],
   "source": [
    "Markdown(f\"{output_text}\")"
   ]
  },
  {
   "cell_type": "code",
   "execution_count": 153,
   "metadata": {},
   "outputs": [],
   "source": [
    "output_text_ = {\"output_text\": output_text, \"sources\": sources}"
   ]
  },
  {
   "cell_type": "code",
   "execution_count": 154,
   "metadata": {},
   "outputs": [
    {
     "data": {
      "text/markdown": [
       "### Summary: The new text is about an individual who is designing a video game and is looking for advice on how to protect their intellectual property and ensure that independent contractors/freelancers are paid for their work, especially when hiring from different states or countries.\n",
       "\n",
       "Similarities to Past Texts:\n",
       "- Legal considerations of hiring independent contractors for software development\n",
       "- Best practices for protecting intellectual property when hiring freelancers\n",
       "- Legal implications of hiring contractors from different states or countries\n",
       "- Protecting oneself when talking to strangers\n",
       "- Consulting with a lawyer or financial advisor to get more specific advice on the legal and financial implications of forming a business\n",
       "- Different types of business structures and the associated legal and financial implications of each\n",
       "- Resources available online that can provide advice on contracts and intellectual property protection for video game development\n",
       "- Forming an LLC and protecting intellectual property\n",
       "\n"
      ],
      "text/plain": [
       "<IPython.core.display.Markdown object>"
      ]
     },
     "execution_count": 154,
     "metadata": {},
     "output_type": "execute_result"
    }
   ],
   "source": [
    "Markdown(f\"### {output_text_['output_text']}\\n\\n\")"
   ]
  },
  {
   "cell_type": "code",
   "execution_count": 156,
   "metadata": {},
   "outputs": [
    {
     "data": {
      "text/markdown": [
       "* #### [\"Is it discrimination if a company refuses to hire me due to my prescribed medication?\"](https://www.reddit.com/r/legaladvice/comments/gnpjof/nj_i_was_denied_a_job_due_to_being_prescribed/) - MI, 2020-05-21"
      ],
      "text/plain": [
       "<IPython.core.display.Markdown object>"
      ]
     },
     "metadata": {},
     "output_type": "display_data"
    },
    {
     "data": {
      "text/markdown": [
       "Source not found: https://www.reddit.com/r/legaladvice/comments/52rcpe/tn_im_apparently_a_poi_at_my_new_uni"
      ],
      "text/plain": [
       "<IPython.core.display.Markdown object>"
      ]
     },
     "metadata": {},
     "output_type": "display_data"
    }
   ],
   "source": [
    "for source in output_text_[\"sources\"]:\n",
    "    try:\n",
    "        title = df[df[\"full_link\"] == source][\"llm_title\"].values[0]\n",
    "        link = f\"{source}\"\n",
    "        venue = df[df[\"full_link\"] == source][\"State\"].values[0]\n",
    "        date = df[df[\"full_link\"] == source][\"datestamp\"].values[0]\n",
    "        display(Markdown(f\"* #### [{title}]({link}) - {venue}, {date}\"))\n",
    "    except:\n",
    "        display(Markdown(f\"Source not found: {source}\"))"
   ]
  },
  {
   "cell_type": "code",
   "execution_count": 157,
   "metadata": {},
   "outputs": [
    {
     "data": {
      "text/plain": [
       "['https://www.reddit.com/r/legaladvice/comments/gnpjof/nj_i_was_denied_a_job_due_to_being_prescribed/',\n",
       " 'https://www.reddit.com/r/legaladvice/comments/52rcpe/tn_im_apparently_a_poi_at_my_new_uni']"
      ]
     },
     "execution_count": 157,
     "metadata": {},
     "output_type": "execute_result"
    }
   ],
   "source": [
    "output_text_[\"sources\"]"
   ]
  },
  {
   "cell_type": "code",
   "execution_count": 158,
   "metadata": {},
   "outputs": [],
   "source": [
    "def return_answer_markdown(chain_out, df, query):\n",
    "    \"\"\"\n",
    "    Parse the output_text and sources from the chain_out JSON and return a markdown string\n",
    "    \"\"\"\n",
    "    output_text = chain_out[\"output_text\"].split(\"\\n\\nSOURCES: \")[0].strip()\n",
    "    if chain_out[\"output_text\"].endswith(\"]\"):\n",
    "        sources = eval(chain_out[\"output_text\"].split(\"SOURCES:\")[1].strip())\n",
    "    else:\n",
    "        sources = eval(chain_out[\"output_text\"].split(\"SOURCES:\")[1].strip() + '\"]')\n",
    "\n",
    "    # Creating a new JSON with the extracted output_text and sources\n",
    "    output_text = {\"output_text\": output_text, \"sources\": sources}\n",
    "\n",
    "    # Printing the new JSON\n",
    "    display(Markdown(f\"## New Question\\n\\n\"))\n",
    "\n",
    "    display(Markdown(f\"{query}\\n\\n\"))\n",
    "\n",
    "    display(Markdown(f\"## Model Output:\\n\\n\"))\n",
    "\n",
    "    display(Markdown(f\"### {output_text['output_text']}\\n\\n\"))\n",
    "\n",
    "    display(Markdown(f\"## Sources: \\n\\n\"))\n",
    "\n",
    "    # markdown headings for each source\n",
    "    for source in output_text[\"sources\"]:\n",
    "        try:\n",
    "            title = df[df[\"full_link\"] == source][\"llm_title\"].values[0]\n",
    "            link = f\"{source}\"\n",
    "            venue = df[df[\"full_link\"] == source][\"State\"].values[0]\n",
    "            date = df[df[\"full_link\"] == source][\"datestamp\"].values[0]\n",
    "            display(Markdown(f\"* #### [{title}]({link}) - {venue}, {date}\"))\n",
    "        except:\n",
    "            display(Markdown(f\"Source not found: {source}\"))"
   ]
  },
  {
   "cell_type": "code",
   "execution_count": 159,
   "metadata": {},
   "outputs": [
    {
     "name": "stdout",
     "output_type": "stream",
     "text": [
      "Hey folks;\n",
      "\n",
      "I'm currently designing a video game that I know will turn a good profit. The business machinations, marketing, and project management are my forte but I lack in the programming and 3D modelling department. So, I'll need to hire independent contractors/freelancers to handle those parts to design a \"proof of concept\" in order to better secure initial income via crowdfunding. At this point:  I have virtually no initial startup funds.\n",
      "\n",
      "So, I was hoping for advice on what types of contracts I could have them and myself sign to ensure that they 100% get paid for their work and how to ensure that my intellectual property is protected. My fears is having a 3D artist or coder take the game concept and/or 3D models and running away with it. I'm located in Ohio but will likely need to hire contractors from different states, maybe even different countries.\n",
      "\n",
      "Any advice would be appreciated. Thanks!\n"
     ]
    }
   ],
   "source": [
    "print(test_query)"
   ]
  },
  {
   "cell_type": "code",
   "execution_count": 160,
   "metadata": {},
   "outputs": [
    {
     "data": {
      "text/markdown": [
       "## New Question\n",
       "\n"
      ],
      "text/plain": [
       "<IPython.core.display.Markdown object>"
      ]
     },
     "metadata": {},
     "output_type": "display_data"
    },
    {
     "data": {
      "text/markdown": [
       "Hey folks;\n",
       "\n",
       "I'm currently designing a video game that I know will turn a good profit. The business machinations, marketing, and project management are my forte but I lack in the programming and 3D modelling department. So, I'll need to hire independent contractors/freelancers to handle those parts to design a \"proof of concept\" in order to better secure initial income via crowdfunding. At this point:  I have virtually no initial startup funds.\n",
       "\n",
       "So, I was hoping for advice on what types of contracts I could have them and myself sign to ensure that they 100% get paid for their work and how to ensure that my intellectual property is protected. My fears is having a 3D artist or coder take the game concept and/or 3D models and running away with it. I'm located in Ohio but will likely need to hire contractors from different states, maybe even different countries.\n",
       "\n",
       "Any advice would be appreciated. Thanks!\n",
       "\n"
      ],
      "text/plain": [
       "<IPython.core.display.Markdown object>"
      ]
     },
     "metadata": {},
     "output_type": "display_data"
    },
    {
     "data": {
      "text/markdown": [
       "## Model Output:\n",
       "\n"
      ],
      "text/plain": [
       "<IPython.core.display.Markdown object>"
      ]
     },
     "metadata": {},
     "output_type": "display_data"
    },
    {
     "data": {
      "text/markdown": [
       "### Summary: The new text is about an individual who is designing a video game and is looking for advice on how to protect their intellectual property and ensure that independent contractors/freelancers are paid for their work, especially when hiring from different states or countries.\n",
       "\n",
       "Similarities to Past Texts:\n",
       "- Legal considerations of hiring independent contractors for software development\n",
       "- Best practices for protecting intellectual property when hiring freelancers\n",
       "- Legal implications of hiring contractors from different states or countries\n",
       "- Protecting oneself when talking to strangers\n",
       "- Consulting with a lawyer or financial advisor to get more specific advice on the legal and financial implications of forming a business\n",
       "- Different types of business structures and the associated legal and financial implications of each\n",
       "- Resources available online that can provide advice on contracts and intellectual property protection for video game development\n",
       "- Forming an LLC and protecting intellectual property\n",
       "\n"
      ],
      "text/plain": [
       "<IPython.core.display.Markdown object>"
      ]
     },
     "metadata": {},
     "output_type": "display_data"
    },
    {
     "data": {
      "text/markdown": [
       "## Sources: \n",
       "\n"
      ],
      "text/plain": [
       "<IPython.core.display.Markdown object>"
      ]
     },
     "metadata": {},
     "output_type": "display_data"
    },
    {
     "data": {
      "text/markdown": [
       "* #### [\"Legal considerations for becoming an independent contractor and transferring copyright in a software development agreement\"](https://www.reddit.com/r/legaladvice/comments/2t9664/independent_contractor_things_to_watch_out_for_in/) - CT, 2015-01-22"
      ],
      "text/plain": [
       "<IPython.core.display.Markdown object>"
      ]
     },
     "metadata": {},
     "output_type": "display_data"
    },
    {
     "data": {
      "text/markdown": [
       "Source not found: https://www.reddit.com/r/legaladvice/comments/2xzeee/advice_on_steps_i"
      ],
      "text/plain": [
       "<IPython.core.display.Markdown object>"
      ]
     },
     "metadata": {},
     "output_type": "display_data"
    }
   ],
   "source": [
    "return_answer_markdown(chain_out, df, query=test_query)"
   ]
  },
  {
   "cell_type": "code",
   "execution_count": null,
   "metadata": {},
   "outputs": [],
   "source": []
  },
  {
   "cell_type": "markdown",
   "metadata": {},
   "source": [
    "* Summarizer Model"
   ]
  },
  {
   "cell_type": "code",
   "execution_count": 20,
   "metadata": {},
   "outputs": [],
   "source": [
    "from langchain import LLMChain\n",
    "from langchain.chat_models import ChatOpenAI\n",
    "from langchain.prompts.chat import (\n",
    "    ChatPromptTemplate,\n",
    "    SystemMessagePromptTemplate,\n",
    "    HumanMessagePromptTemplate,\n",
    ")\n",
    "\n",
    "\n",
    "system_template = \"You are an actuarial documentation specialist. You're helping me summarize legal questions related to insurance.\"\n",
    "human_template = \"Using the following scenario, write a concise summary that focuses on insurance and legal topics.\\n\\nDESCRIPTIONS:{text}\\n\\nSUMMARY:\"\n",
    "\n",
    "prompt = ChatPromptTemplate(\n",
    "    messages=[\n",
    "        SystemMessagePromptTemplate.from_template(system_template),\n",
    "        HumanMessagePromptTemplate.from_template(human_template),\n",
    "    ],\n",
    "    input_variables=[\"text\"],\n",
    ")\n",
    "    \n",
    "chain = LLMChain(\n",
    "    llm=ChatOpenAI(temperature=0, model_name=\"gpt-3.5-turbo\", max_tokens=512), prompt=prompt, verbose=False\n",
    ")"
   ]
  },
  {
   "cell_type": "code",
   "execution_count": 21,
   "metadata": {},
   "outputs": [],
   "source": [
    "def get_summary(input_text: str):\n",
    "    output_text = chain.run(input_text)\n",
    "    return output_text"
   ]
  },
  {
   "cell_type": "code",
   "execution_count": 29,
   "metadata": {},
   "outputs": [],
   "source": [
    "test_summary = get_summary(test_query)"
   ]
  },
  {
   "cell_type": "code",
   "execution_count": 30,
   "metadata": {},
   "outputs": [
    {
     "data": {
      "text/markdown": [
       "Hey folks;\n",
       "\n",
       "I'm currently designing a video game that I know will turn a good profit. The business machinations, marketing, and project management are my forte but I lack in the programming and 3D modelling department. So, I'll need to hire independent contractors/freelancers to handle those parts to design a \"proof of concept\" in order to better secure initial income via crowdfunding. At this point:  I have virtually no initial startup funds.\n",
       "\n",
       "So, I was hoping for advice on what types of contracts I could have them and myself sign to ensure that they 100% get paid for their work and how to ensure that my intellectual property is protected. My fears is having a 3D artist or coder take the game concept and/or 3D models and running away with it. I'm located in Ohio but will likely need to hire contractors from different states, maybe even different countries.\n",
       "\n",
       "Any advice would be appreciated. Thanks!"
      ],
      "text/plain": [
       "<IPython.core.display.Markdown object>"
      ]
     },
     "execution_count": 30,
     "metadata": {},
     "output_type": "execute_result"
    }
   ],
   "source": [
    "Markdown(f\"{test_query}\")"
   ]
  },
  {
   "cell_type": "code",
   "execution_count": 31,
   "metadata": {},
   "outputs": [
    {
     "data": {
      "text/markdown": [
       "The individual is seeking advice on the types of contracts they can use to ensure that independent contractors/freelancers are paid for their work and to protect their intellectual property in the development of a video game. They are concerned about the possibility of contractors taking the game concept or 3D models and leaving. They are located in Ohio but may hire contractors from different states or countries."
      ],
      "text/plain": [
       "<IPython.core.display.Markdown object>"
      ]
     },
     "execution_count": 31,
     "metadata": {},
     "output_type": "execute_result"
    }
   ],
   "source": [
    "Markdown(f\"{test_summary}\")"
   ]
  },
  {
   "cell_type": "code",
   "execution_count": 32,
   "metadata": {},
   "outputs": [
    {
     "name": "stdout",
     "output_type": "stream",
     "text": [
      "I applied for a job and after two interviews I was given for and agreed to an offer letter, had a start date.  The only remaining variable was a drug test, which I prepared myself for by bringing all my prescriptions with me.  \n",
      "\n",
      "I take Adderall, my doctor prescribes me for 3 pills a day, insurance pays for only two a day so that’s what I get.  2 pills a day for 30 days.  \n",
      "\n",
      "However, I don’t need adderall everyday, so I only take it as needed.  My psychiatrist knows this and is okay with it.  I don’t take it everyday so my prescription can last me months, depending on circumstances.  \n",
      "\n",
      "Of course, I happen to take a drug test for a possible new job the day after taking an adderall at work.  No big deal, I have a prescription and it’s never been a big deal in the past.  \n",
      "\n",
      "Except this time it was.  According to the doctor who administrated the test, my prescription was too old.  How old was it, I was prescribed in June and filled the prescription on July 8th, 2019.  I still have about a third of a bottle, I take adderall twice a week on average.  This doctor flipped out.  Not only did she refuse to inspect my prescription bottle when I talked to her in person, she demanded my medical records for all the prescriptions I take.  \n",
      "\n",
      "Both of my doctors complied and when I talked to her on the phone to follow up, her exact words were “You’re prescription is too old, where are you getting it from.”  This pushed back my start date from a definite start to “wait and see” as I was still having my doctors trying to appease the drug test doctor.  \n",
      "\n",
      "I politely tried to explain that I don’t take my adderall everyday because I don’t need to and she would no listen.  So once again, I had my psychiatrist send another letter explaining in more detail.  \n",
      "I didn’t hear anything back after that, and when following up with the perspective employer and now they’re having a “hiring freeze” and won’t be filling the position.  \n",
      "\n",
      "\n",
      "So, in Texas, when is a schedule II drug no longer considered valid?  \n",
      "\n",
      "TL;DR\n",
      "Doctor said my prescription was too old and I must be getting amphetamines from an illegal source.\n"
     ]
    }
   ],
   "source": [
    "query = df['body'].head(1).tolist()[0]\n",
    "print(query)"
   ]
  },
  {
   "cell_type": "code",
   "execution_count": 33,
   "metadata": {},
   "outputs": [],
   "source": [
    "def get_results(df: pd.DataFrame, query: str, limit: int = 20) -> pd.DataFrame:\n",
    "    search_engine = SemanticSearch(df)\n",
    "    res = search_engine.query_similar_documents(query, top_n=limit+1, filter_criteria=None)\n",
    "    return res.iloc[1:] # Omits the first row as it is usually the query in this dev setting"
   ]
  },
  {
   "cell_type": "code",
   "execution_count": 34,
   "metadata": {},
   "outputs": [],
   "source": [
    "df_res = get_results(df, query)"
   ]
  },
  {
   "cell_type": "code",
   "execution_count": 35,
   "metadata": {},
   "outputs": [
    {
     "data": {
      "text/html": [
       "<div>\n",
       "<style scoped>\n",
       "    .dataframe tbody tr th:only-of-type {\n",
       "        vertical-align: middle;\n",
       "    }\n",
       "\n",
       "    .dataframe tbody tr th {\n",
       "        vertical-align: top;\n",
       "    }\n",
       "\n",
       "    .dataframe thead th {\n",
       "        text-align: right;\n",
       "    }\n",
       "</style>\n",
       "<table border=\"1\" class=\"dataframe\">\n",
       "  <thead>\n",
       "    <tr style=\"text-align: right;\">\n",
       "      <th></th>\n",
       "      <th>index</th>\n",
       "      <th>created_utc</th>\n",
       "      <th>full_link</th>\n",
       "      <th>id</th>\n",
       "      <th>body</th>\n",
       "      <th>title</th>\n",
       "      <th>text_label</th>\n",
       "      <th>flair_label</th>\n",
       "      <th>embeddings</th>\n",
       "      <th>token_count</th>\n",
       "      <th>llm_title</th>\n",
       "      <th>State</th>\n",
       "      <th>kmeans_label</th>\n",
       "      <th>topic_title</th>\n",
       "      <th>timestamp</th>\n",
       "      <th>datestamp</th>\n",
       "      <th>sim_score</th>\n",
       "    </tr>\n",
       "  </thead>\n",
       "  <tbody>\n",
       "    <tr>\n",
       "      <th>6191</th>\n",
       "      <td>6191</td>\n",
       "      <td>1590032420</td>\n",
       "      <td>https://www.reddit.com/r/legaladvice/comments/...</td>\n",
       "      <td>gnpjof</td>\n",
       "      <td>I applied to a small private transport company...</td>\n",
       "      <td>(NJ) I was denied a job due to being prescribe...</td>\n",
       "      <td>employment</td>\n",
       "      <td>5</td>\n",
       "      <td>[-0.014932120068105919, -0.01118895493326352, ...</td>\n",
       "      <td>235</td>\n",
       "      <td>\"Is it discrimination if a company refuses to ...</td>\n",
       "      <td>MI</td>\n",
       "      <td>8</td>\n",
       "      <td>Employment Legal Concerns and Issues</td>\n",
       "      <td>2020-05-21 03:40:20</td>\n",
       "      <td>2020-05-21</td>\n",
       "      <td>0.709400</td>\n",
       "    </tr>\n",
       "    <tr>\n",
       "      <th>9156</th>\n",
       "      <td>9156</td>\n",
       "      <td>1473870804</td>\n",
       "      <td>https://www.reddit.com/r/legaladvice/comments/...</td>\n",
       "      <td>52rcpe</td>\n",
       "      <td>I'm a Freshman adult, former Texan resident an...</td>\n",
       "      <td>(TN) I'm apparently a POI at my new Uni. Shoul...</td>\n",
       "      <td>criminal</td>\n",
       "      <td>2</td>\n",
       "      <td>[0.01599887962418506, 0.010982281649642614, 0....</td>\n",
       "      <td>546</td>\n",
       "      <td>\"Legal advice needed: Accused of selling Xanax...</td>\n",
       "      <td>MT</td>\n",
       "      <td>9</td>\n",
       "      <td>Legal Consequences of False Accusations</td>\n",
       "      <td>2016-09-14 16:33:24</td>\n",
       "      <td>2016-09-14</td>\n",
       "      <td>0.658507</td>\n",
       "    </tr>\n",
       "  </tbody>\n",
       "</table>\n",
       "</div>"
      ],
      "text/plain": [
       "      index  created_utc                                          full_link  \\\n",
       "6191   6191   1590032420  https://www.reddit.com/r/legaladvice/comments/...   \n",
       "9156   9156   1473870804  https://www.reddit.com/r/legaladvice/comments/...   \n",
       "\n",
       "          id                                               body  \\\n",
       "6191  gnpjof  I applied to a small private transport company...   \n",
       "9156  52rcpe  I'm a Freshman adult, former Texan resident an...   \n",
       "\n",
       "                                                  title  text_label  \\\n",
       "6191  (NJ) I was denied a job due to being prescribe...  employment   \n",
       "9156  (TN) I'm apparently a POI at my new Uni. Shoul...    criminal   \n",
       "\n",
       "      flair_label                                         embeddings  \\\n",
       "6191            5  [-0.014932120068105919, -0.01118895493326352, ...   \n",
       "9156            2  [0.01599887962418506, 0.010982281649642614, 0....   \n",
       "\n",
       "      token_count                                          llm_title State  \\\n",
       "6191          235  \"Is it discrimination if a company refuses to ...    MI   \n",
       "9156          546  \"Legal advice needed: Accused of selling Xanax...    MT   \n",
       "\n",
       "      kmeans_label                              topic_title  \\\n",
       "6191             8     Employment Legal Concerns and Issues   \n",
       "9156             9  Legal Consequences of False Accusations   \n",
       "\n",
       "               timestamp   datestamp  sim_score  \n",
       "6191 2020-05-21 03:40:20  2020-05-21   0.709400  \n",
       "9156 2016-09-14 16:33:24  2016-09-14   0.658507  "
      ]
     },
     "execution_count": 35,
     "metadata": {},
     "output_type": "execute_result"
    }
   ],
   "source": [
    "df_res.head(2)"
   ]
  },
  {
   "cell_type": "code",
   "execution_count": 36,
   "metadata": {},
   "outputs": [],
   "source": [
    "df_res['summary'] = df_res['body'].apply(get_summary)"
   ]
  },
  {
   "cell_type": "code",
   "execution_count": 37,
   "metadata": {},
   "outputs": [
    {
     "data": {
      "text/plain": [
       "[\"The individual applied for a job at a small private transport company and tested positive for amphetamines during the drug test. They provided a doctor's note explaining their prescription for Adderall XR 10mg for ADHD. The employer asked if they could refrain from taking their medication, to which the individual declined as it helps them function. The employer then emailed stating they were unable to hire the individual due to liability issues associated with their medications. The individual has a history of volunteering in 911 EMS without any issues while on medication. The medication does come with a warning about impairment. The individual's friends believe this is discrimination, but the individual wants to know if it qualifies as such before filing an ADA complaint.\",\n",
       " 'The individual is a college student who takes multiple prescribed medications for mental health. They recently tested positive for their medications during an ER visit. A friend informed them that their name is associated with \"Persons of interest\" and specifically with selling Xanax in the police department\\'s basement. The individual denies any involvement in selling their medication and is concerned about the situation. They are unsure how to proceed and are seeking advice on whether they should hire a lawyer or continue as usual.',\n",
       " \"The individual works in aircraft maintenance and is required to undergo random drug testing as per the regulations of the Department of Transportation (DoT) and Federal Aviation Administration (FAA). The company has been scheduling the tests after the individual's shift, sometimes up to 2 hours later, to save money. This has caused conflicts with the individual's monthly doctor appointments. The individual is concerned about potential termination if they were to miss a drug test to attend a necessary appointment. They are seeking clarification on whether the company has grounds to terminate them for skipping a test, considering the interference with personal lives caused by the company's scheduling practices. The individual resides in Ohio, but most of these regulations are federal.\",\n",
       " 'This scenario involves a dispute between a mother and her ex-partner regarding the administration of Adderall, a prescription medication for ADHD, to their son. The ex-partner threatens legal action if the mother gives the medication, as he believes the child does not have ADHD. The legal rights of each party in this situation, particularly in relation to giving or refusing the treatment, are the main focus.',\n",
       " 'The individual has been dealing with severe mental health issues for most of their life and has been on medication for the past 4 1/2 years. They recently started a job through an outside contract service with a 2-year contract. Due to a turn for the worse in their mental health, they missed a significant amount of work, but their supervisor, manager, and director were initially supportive. However, after failing to consistently make it into work, their support started to dwindle. The individual was given an ultimatum to come into work or be let go, and they managed to do so with the help of medication. Two weeks later, they were unable to come into work due to a physical illness unrelated to their mental health, and their contract was terminated immediately. They are seeking legal advice on whether they have any recourse in this situation.']"
      ]
     },
     "execution_count": 37,
     "metadata": {},
     "output_type": "execute_result"
    }
   ],
   "source": [
    "df_res['summary'].head().tolist()"
   ]
  },
  {
   "cell_type": "code",
   "execution_count": 198,
   "metadata": {},
   "outputs": [],
   "source": [
    "df_res['len_body'] = df_res['body'].str.len()\n",
    "df_res['len_summary'] = df_res['summary'].str.len()"
   ]
  },
  {
   "cell_type": "code",
   "execution_count": 199,
   "metadata": {},
   "outputs": [],
   "source": [
    "df_res['compress_chars'] = df_res['len_body'] - df_res['len_summary']"
   ]
  },
  {
   "cell_type": "code",
   "execution_count": 202,
   "metadata": {},
   "outputs": [
    {
     "data": {
      "text/plain": [
       "<Axes: >"
      ]
     },
     "execution_count": 202,
     "metadata": {},
     "output_type": "execute_result"
    },
    {
     "data": {
      "image/png": "[encoded data removed]",
      "text/plain": [
       "<Figure size 640x480 with 1 Axes>"
      ]
     },
     "metadata": {},
     "output_type": "display_data"
    }
   ],
   "source": [
    "df_res['compress_chars'].hist()"
   ]
  },
  {
   "cell_type": "code",
   "execution_count": 38,
   "metadata": {},
   "outputs": [],
   "source": [
    "from langchain.embeddings import HuggingFaceInstructEmbeddings"
   ]
  },
  {
   "cell_type": "code",
   "execution_count": 39,
   "metadata": {},
   "outputs": [
    {
     "name": "stderr",
     "output_type": "stream",
     "text": [
      "c:\\Users\\pdoub\\Desktop\\python_projects\\junk-drawer\\.venv\\lib\\site-packages\\InstructorEmbedding\\instructor.py:7: TqdmWarning: IProgress not found. Please update jupyter and ipywidgets. See https://ipywidgets.readthedocs.io/en/stable/user_install.html\n",
      "  from tqdm.autonotebook import trange\n"
     ]
    },
    {
     "name": "stdout",
     "output_type": "stream",
     "text": [
      "load INSTRUCTOR_Transformer\n",
      "max_seq_length  512\n",
      "load INSTRUCTOR_Transformer\n",
      "max_seq_length  512\n"
     ]
    }
   ],
   "source": [
    "instruct_query_embeddings = HuggingFaceInstructEmbeddings(\n",
    "    query_instruction=\"Represent the legal query for retrieving similar documents: \"\n",
    ")\n",
    "\n",
    "instruct_doc_embeddings = HuggingFaceInstructEmbeddings(\n",
    "    query_instruction=\"Represent the legal document for retrieval: \"\n",
    ")"
   ]
  },
  {
   "cell_type": "code",
   "execution_count": 40,
   "metadata": {},
   "outputs": [],
   "source": [
    "import nltk\n",
    "\n",
    "def preprocess_text(text: str):\n",
    "    text = text.lower()\n",
    "    # remove stopwords from the query\n",
    "    stopwords = set(nltk.corpus.stopwords.words(\"english\"))\n",
    "    # Example of adding words to the stopwords list\n",
    "    stopwords.update([\"please\", \"review\"])\n",
    "    text = \" \".join([word for word in text.split() if word not in stopwords])\n",
    "    return text"
   ]
  },
  {
   "cell_type": "code",
   "execution_count": 41,
   "metadata": {},
   "outputs": [],
   "source": [
    "from sklearn.metrics.pairwise import cosine_similarity"
   ]
  },
  {
   "cell_type": "code",
   "execution_count": 42,
   "metadata": {},
   "outputs": [
    {
     "data": {
      "text/html": [
       "<div>\n",
       "<style scoped>\n",
       "    .dataframe tbody tr th:only-of-type {\n",
       "        vertical-align: middle;\n",
       "    }\n",
       "\n",
       "    .dataframe tbody tr th {\n",
       "        vertical-align: top;\n",
       "    }\n",
       "\n",
       "    .dataframe thead th {\n",
       "        text-align: right;\n",
       "    }\n",
       "</style>\n",
       "<table border=\"1\" class=\"dataframe\">\n",
       "  <thead>\n",
       "    <tr style=\"text-align: right;\">\n",
       "      <th></th>\n",
       "      <th>index</th>\n",
       "      <th>created_utc</th>\n",
       "      <th>full_link</th>\n",
       "      <th>id</th>\n",
       "      <th>body</th>\n",
       "      <th>title</th>\n",
       "      <th>text_label</th>\n",
       "      <th>flair_label</th>\n",
       "      <th>embeddings</th>\n",
       "      <th>token_count</th>\n",
       "      <th>llm_title</th>\n",
       "      <th>State</th>\n",
       "      <th>kmeans_label</th>\n",
       "      <th>topic_title</th>\n",
       "      <th>timestamp</th>\n",
       "      <th>datestamp</th>\n",
       "      <th>sim_score</th>\n",
       "      <th>summary</th>\n",
       "    </tr>\n",
       "  </thead>\n",
       "  <tbody>\n",
       "    <tr>\n",
       "      <th>6191</th>\n",
       "      <td>6191</td>\n",
       "      <td>1590032420</td>\n",
       "      <td>https://www.reddit.com/r/legaladvice/comments/...</td>\n",
       "      <td>gnpjof</td>\n",
       "      <td>I applied to a small private transport company...</td>\n",
       "      <td>(NJ) I was denied a job due to being prescribe...</td>\n",
       "      <td>employment</td>\n",
       "      <td>5</td>\n",
       "      <td>[-0.014932120068105919, -0.01118895493326352, ...</td>\n",
       "      <td>235</td>\n",
       "      <td>\"Is it discrimination if a company refuses to ...</td>\n",
       "      <td>MI</td>\n",
       "      <td>8</td>\n",
       "      <td>Employment Legal Concerns and Issues</td>\n",
       "      <td>2020-05-21 03:40:20</td>\n",
       "      <td>2020-05-21</td>\n",
       "      <td>0.709400</td>\n",
       "      <td>The individual applied for a job at a small pr...</td>\n",
       "    </tr>\n",
       "    <tr>\n",
       "      <th>9156</th>\n",
       "      <td>9156</td>\n",
       "      <td>1473870804</td>\n",
       "      <td>https://www.reddit.com/r/legaladvice/comments/...</td>\n",
       "      <td>52rcpe</td>\n",
       "      <td>I'm a Freshman adult, former Texan resident an...</td>\n",
       "      <td>(TN) I'm apparently a POI at my new Uni. Shoul...</td>\n",
       "      <td>criminal</td>\n",
       "      <td>2</td>\n",
       "      <td>[0.01599887962418506, 0.010982281649642614, 0....</td>\n",
       "      <td>546</td>\n",
       "      <td>\"Legal advice needed: Accused of selling Xanax...</td>\n",
       "      <td>MT</td>\n",
       "      <td>9</td>\n",
       "      <td>Legal Consequences of False Accusations</td>\n",
       "      <td>2016-09-14 16:33:24</td>\n",
       "      <td>2016-09-14</td>\n",
       "      <td>0.658507</td>\n",
       "      <td>The individual is a college student who takes ...</td>\n",
       "    </tr>\n",
       "  </tbody>\n",
       "</table>\n",
       "</div>"
      ],
      "text/plain": [
       "      index  created_utc                                          full_link  \\\n",
       "6191   6191   1590032420  https://www.reddit.com/r/legaladvice/comments/...   \n",
       "9156   9156   1473870804  https://www.reddit.com/r/legaladvice/comments/...   \n",
       "\n",
       "          id                                               body  \\\n",
       "6191  gnpjof  I applied to a small private transport company...   \n",
       "9156  52rcpe  I'm a Freshman adult, former Texan resident an...   \n",
       "\n",
       "                                                  title  text_label  \\\n",
       "6191  (NJ) I was denied a job due to being prescribe...  employment   \n",
       "9156  (TN) I'm apparently a POI at my new Uni. Shoul...    criminal   \n",
       "\n",
       "      flair_label                                         embeddings  \\\n",
       "6191            5  [-0.014932120068105919, -0.01118895493326352, ...   \n",
       "9156            2  [0.01599887962418506, 0.010982281649642614, 0....   \n",
       "\n",
       "      token_count                                          llm_title State  \\\n",
       "6191          235  \"Is it discrimination if a company refuses to ...    MI   \n",
       "9156          546  \"Legal advice needed: Accused of selling Xanax...    MT   \n",
       "\n",
       "      kmeans_label                              topic_title  \\\n",
       "6191             8     Employment Legal Concerns and Issues   \n",
       "9156             9  Legal Consequences of False Accusations   \n",
       "\n",
       "               timestamp   datestamp  sim_score  \\\n",
       "6191 2020-05-21 03:40:20  2020-05-21   0.709400   \n",
       "9156 2016-09-14 16:33:24  2016-09-14   0.658507   \n",
       "\n",
       "                                                summary  \n",
       "6191  The individual applied for a job at a small pr...  \n",
       "9156  The individual is a college student who takes ...  "
      ]
     },
     "execution_count": 42,
     "metadata": {},
     "output_type": "execute_result"
    }
   ],
   "source": [
    "df_res.head(2)"
   ]
  },
  {
   "cell_type": "code",
   "execution_count": 43,
   "metadata": {},
   "outputs": [],
   "source": [
    "def rerank(df: pd.DataFrame, query: str, text_col_name: str) -> pd.DataFrame:\n",
    "    query_proc = preprocess_text(query)\n",
    "    query_embedding = instruct_query_embeddings.embed_query(query_proc)\n",
    "    query_embedding = np.array(query_embedding)\n",
    "    query_embedding = np.expand_dims(query_embedding, axis=0)\n",
    "    doc_embeddings = instruct_doc_embeddings.embed_documents(df[text_col_name].tolist())\n",
    "    df[\"instruct_embeddings\"] = list(doc_embeddings)\n",
    "    df[\"similarity\"] = cosine_similarity(query_embedding, doc_embeddings).flatten()\n",
    "    # sort the dataframe by similarity\n",
    "    df.sort_values(by=\"similarity\", ascending=False, inplace=True)\n",
    "    return df\n",
    "    "
   ]
  },
  {
   "cell_type": "code",
   "execution_count": 44,
   "metadata": {},
   "outputs": [],
   "source": [
    "rerank_res_df = rerank(df_res, query, 'summary')"
   ]
  },
  {
   "cell_type": "code",
   "execution_count": 45,
   "metadata": {},
   "outputs": [],
   "source": [
    "def create_context_chatgpt(question, df, k=5):\n",
    "    \"\"\"\n",
    "    Create a context for a question by using the most similar text from the dataframe\n",
    "    \"\"\"\n",
    "\n",
    "    returns = []\n",
    "    count = 1\n",
    "    # Add the text to the context until the context is too long\n",
    "    for i, row in df[:k].iterrows():\n",
    "\n",
    "        # Else add it to the text that is being returned\n",
    "        returns.append(\n",
    "            \"[\"\n",
    "            + str(count)\n",
    "            + \"] \"\n",
    "            + row[\"summary\"]\n",
    "            + \"\\nURL: \"\n",
    "            + row[\"full_link\"]\n",
    "        )\n",
    "        count += 1\n",
    "    # Return the context\n",
    "    return \"\\n\\n\".join(returns)"
   ]
  },
  {
   "cell_type": "code",
   "execution_count": 46,
   "metadata": {},
   "outputs": [],
   "source": [
    "def answer_question_chatgpt(\n",
    "    df,\n",
    "    question=query,\n",
    "    k=5,\n",
    "    instructions=\"\"\"Instructions: Using the provided search results, write a detailed comarative analysis for a new query. Make sure to cite results using [[number](URL)] notation after the reference. End your answer with a summary. \\nNew Query:\"\"\",\n",
    "    max_len=3000,\n",
    "    debug=False,\n",
    "):\n",
    "    \"\"\"\n",
    "    Answer a question based on the most similar context from the dataframe texts\n",
    "    \"\"\"\n",
    "    context = create_context_chatgpt(question, df, k=k)\n",
    "\n",
    "    try:\n",
    "        # Create a completions using the question and context\n",
    "        # prompt = f'''{context} \\n\\n Instructions: Using the provided literature with sources, write a comprehensive reply to the given query. Make sure to cite results using [[number](URL)] notation after the reference. If the provided search results refer to multiple subjects with the same name, write separate answers for each subject. You can skip a citation which you dont find relevant to the query. \\nQuery:{question}\\nAnswer:'''\n",
    "        prompt = f\"\"\"{context} \\n\\n{instructions} {question}\\nAnswer:\"\"\"\n",
    "        return prompt\n",
    "    except Exception as e:\n",
    "        print(e)\n",
    "        return \"\""
   ]
  },
  {
   "cell_type": "code",
   "execution_count": 47,
   "metadata": {},
   "outputs": [],
   "source": [
    "# create prompt with the top 8 results\n",
    "prompt = answer_question_chatgpt(rerank_res_df, \n",
    "                                 query, \n",
    "                                 k=8, \n",
    ")"
   ]
  },
  {
   "cell_type": "code",
   "execution_count": 48,
   "metadata": {},
   "outputs": [
    {
     "name": "stdout",
     "output_type": "stream",
     "text": [
      "[1] The individual applied for a job at a small private transport company and tested positive for amphetamines during the drug test. They provided a doctor's note explaining their prescription for Adderall XR 10mg for ADHD. The employer asked if they could refrain from taking their medication, to which the individual declined as it helps them function. The employer then emailed stating they were unable to hire the individual due to liability issues associated with their medications. The individual has a history of volunteering in 911 EMS without any issues while on medication. The medication does come with a warning about impairment. The individual's friends believe this is discrimination, but the individual wants to know if it qualifies as such before filing an ADA complaint.\n",
      "URL: https://www.reddit.com/r/legaladvice/comments/gnpjof/nj_i_was_denied_a_job_due_to_being_prescribed/\n",
      "\n",
      "[2] The individual is seeking help with employer issues related to a drug test. They claim that they were never notified or signed off on a policy change regarding random drug testing. The employer acknowledges that the policy was not properly communicated to employees. The individual failed the drug test and is currently on administrative leave, awaiting a meeting with a Substance Abuse Professional (SAP) and another drug test. They express remorse for their actions and are concerned about the fairness of the situation and the impact on their employment.\n",
      "URL: https://www.reddit.com/r/legaladvice/comments/ebxmgq/am_i_being_treated_fairly_and_is_there_anything_i/\n",
      "\n",
      "[3] The individual works in aircraft maintenance and is required to undergo random drug testing as per the regulations of the Department of Transportation (DoT) and Federal Aviation Administration (FAA). The company has been scheduling the tests after the individual's shift, sometimes up to 2 hours later, to save money. This has caused conflicts with the individual's monthly doctor appointments. The individual is concerned about potential termination if they were to miss a drug test to attend a necessary appointment. They are seeking clarification on whether the company has grounds to terminate them for skipping a test, considering the interference with personal lives caused by the company's scheduling practices. The individual resides in Ohio, but most of these regulations are federal.\n",
      "URL: https://www.reddit.com/r/legaladvice/comments/ec1oz9/us_dot_drug_testing_question/\n",
      "\n",
      "[4] This scenario involves a dispute between a mother and her ex-partner regarding the administration of Adderall, a prescription medication for ADHD, to their son. The ex-partner threatens legal action if the mother gives the medication, as he believes the child does not have ADHD. The legal rights of each party in this situation, particularly in relation to giving or refusing the treatment, are the main focus.\n",
      "URL: https://www.reddit.com/r/legaladvice/comments/7pgdhs/what_happens_when_unmarried_parents_disagree_on/\n",
      "\n",
      "[5] The individual is concerned about drug testing for employment in Pennsylvania, particularly in relation to their medical marijuana use. They are unsure about the legality of workers compensation and drug testing during the hiring process, and whether failing a drug test could result in termination or fines. They are seeking clarification on the employer's grounds for dismissal in this situation.\n",
      "URL: https://www.reddit.com/r/legaladvice/comments/gnrqby/if_i_have_a_medical_marijuana_card_can_i_be_fired/\n",
      "\n",
      "[6] The individual is concerned about their job's drug testing policy and their use of CBD/hemp for health reasons. They are unsure whether to take the test if selected or quit before potentially being fired. They also have concerns about the impact on their eligibility for Obamacare insurance if they were to lose their job.\n",
      "URL: https://www.reddit.com/r/legaladvice/comments/ebebz1/would_quitting_over_a_drug_test_be_worse_than/\n",
      "\n",
      "[7] The employee is questioning the legality of random drug testing in California, specifically in relation to their job as an e-commerce specialist at a small manufacturing company. They have found information suggesting that random drug tests are only permitted for employees in more dangerous positions. The employee wants to know if a random drug test for them would be legal. Additionally, they are concerned about the potential consequences of refusing to take the test, specifically whether they could be fired.\n",
      "URL: https://www.reddit.com/r/legaladvice/comments/gsm10j/question_about_random_drug_testing/\n",
      "\n",
      "[8] In this scenario, a New York State medical marijuana patient who works in healthcare is facing discrimination from a new hospital where they applied for a job. After being offered the position and accepting it, the individual disclosed their medical marijuana card during the pre-employment physical. However, the hospital is now refusing to hire them based on their status as a medical marijuana patient. The legality of this situation is uncertain, as the individual has sought guidance from the division of human rights at the labor department, who indicated that they may or may not have a case.\n",
      "URL: https://www.reddit.com/r/legaladvice/comments/gr4q8s/is_it_legal_in_new_york_to_discriminate_against/ \n",
      "\n",
      "Instructions: Using the provided search results, write a detailed comarative analysis for a new query. Make sure to cite results using [[number](URL)] notation after the reference. End your answer with a summary. \n",
      "New Query: I applied for a job and after two interviews I was given for and agreed to an offer letter, had a start date.  The only remaining variable was a drug test, which I prepared myself for by bringing all my prescriptions with me.  \n",
      "\n",
      "I take Adderall, my doctor prescribes me for 3 pills a day, insurance pays for only two a day so that’s what I get.  2 pills a day for 30 days.  \n",
      "\n",
      "However, I don’t need adderall everyday, so I only take it as needed.  My psychiatrist knows this and is okay with it.  I don’t take it everyday so my prescription can last me months, depending on circumstances.  \n",
      "\n",
      "Of course, I happen to take a drug test for a possible new job the day after taking an adderall at work.  No big deal, I have a prescription and it’s never been a big deal in the past.  \n",
      "\n",
      "Except this time it was.  According to the doctor who administrated the test, my prescription was too old.  How old was it, I was prescribed in June and filled the prescription on July 8th, 2019.  I still have about a third of a bottle, I take adderall twice a week on average.  This doctor flipped out.  Not only did she refuse to inspect my prescription bottle when I talked to her in person, she demanded my medical records for all the prescriptions I take.  \n",
      "\n",
      "Both of my doctors complied and when I talked to her on the phone to follow up, her exact words were “You’re prescription is too old, where are you getting it from.”  This pushed back my start date from a definite start to “wait and see” as I was still having my doctors trying to appease the drug test doctor.  \n",
      "\n",
      "I politely tried to explain that I don’t take my adderall everyday because I don’t need to and she would no listen.  So once again, I had my psychiatrist send another letter explaining in more detail.  \n",
      "I didn’t hear anything back after that, and when following up with the perspective employer and now they’re having a “hiring freeze” and won’t be filling the position.  \n",
      "\n",
      "\n",
      "So, in Texas, when is a schedule II drug no longer considered valid?  \n",
      "\n",
      "TL;DR\n",
      "Doctor said my prescription was too old and I must be getting amphetamines from an illegal source.\n",
      "Answer:\n"
     ]
    }
   ],
   "source": [
    "print(prompt)"
   ]
  },
  {
   "cell_type": "code",
   "execution_count": 49,
   "metadata": {},
   "outputs": [],
   "source": [
    "def print_papers(df, k=8):\n",
    "    count = 1\n",
    "    for i in range(k):\n",
    "        # add index\n",
    "        title = df.iloc[i][\"llm_title\"]\n",
    "        link = f\"{df.iloc[i]['full_link']}\"\n",
    "        venue = df.iloc[i][\"State\"]\n",
    "        date = df.iloc[i][\"datestamp\"]\n",
    "        display(Markdown(f\"#### {[count]} [{title}]({link}) - {venue}, {date}\"))\n",
    "        count+=1"
   ]
  },
  {
   "cell_type": "code",
   "execution_count": 50,
   "metadata": {},
   "outputs": [],
   "source": [
    "def generate_answer(prompt):\n",
    "    \"\"\"Generates an answer using ChatGPT.\"\"\"\n",
    "    response = openai.ChatCompletion.create(\n",
    "        model=\"gpt-3.5-turbo\",\n",
    "        messages=[\n",
    "            {\n",
    "                \"role\": \"system\",\n",
    "                \"content\": \"You are helpful legal research assistant. Analyze the current legal question, and compare it to past cases. Using only the provided context, offer insights into how the researcher can use the past questions to address the new outstanding issue.\",\n",
    "            },\n",
    "            {\"role\": \"user\", \"content\": prompt},\n",
    "        ],\n",
    "    )\n",
    "    return response.choices[0].message.content"
   ]
  },
  {
   "cell_type": "code",
   "execution_count": 51,
   "metadata": {},
   "outputs": [],
   "source": [
    "response = generate_answer(prompt)"
   ]
  },
  {
   "cell_type": "code",
   "execution_count": 52,
   "metadata": {},
   "outputs": [
    {
     "data": {
      "text/markdown": [
       "## ChatGPT Response: \n",
       "\n",
       " To address the new query, we can look at the previous cases that involve drug testing and prescription medications. Specifically, we can refer to cases [1], [3], [5], and [8], as they involve similar situations or legal issues related to drug testing and prescription medications. \n",
       "\n",
       "In case [1], an individual applied for a job and tested positive for amphetamines during the drug test due to their prescription for Adderall XR 10mg for ADHD. The employer refused to hire the individual, citing liability issues. This case demonstrates the potential for discrimination based on a prescription medication. \n",
       "\n",
       "Case [3] involves an individual who works in aircraft maintenance and undergoes random drug testing. The company schedules the tests after the individual's shift, causing conflicts with necessary doctor appointments. The individual is concerned about potential termination if they were to miss a drug test. This case highlights the importance of balancing personal life and job requirements when it comes to drug testing.\n",
       "\n",
       "In case [5], an individual in Pennsylvania is concerned about drug testing for employment, particularly in relation to their medical marijuana use. They seek clarification on the employer's grounds for dismissal in this situation. This case addresses the legal implications of medical marijuana use in the context of employment and drug testing.\n",
       "\n",
       "Lastly, case [8] involves a New York State medical marijuana patient facing discrimination from a hospital for disclosing their medical marijuana card during the pre-employment process. The hospital refuses to hire them based on their status as a medical marijuana patient. This case explores the legality of discrimination against medical marijuana patients in employment.\n",
       "\n",
       "Based on these past cases, the researcher could suggest the following insights to address the new query:\n",
       "\n",
       "1. Review relevant Texas state laws: While the previous cases primarily involve federal regulations, it would be helpful for the researcher to analyze Texas-state-specific laws regarding drug testing and prescription medication. This could include looking into state-specific discrimination laws and regulations relating to controlled substances.\n",
       "\n",
       "2. Evaluate the employer's drug testing policy: It is important to understand the employer's drug testing policy and whether it aligns with applicable laws and regulations. If the policy is not properly communicated, informed consent may be at issue, as seen in case [2].\n",
       "\n",
       "3. Consider ADA protections: In cases where the individual has a disability and requires medication, such as in case [1], the researcher could explore whether the employer's actions may violate the Americans with Disabilities Act (ADA). The ADA prohibits discrimination against individuals with disabilities, including those who are prescribed medication for their condition.\n",
       "\n",
       "4. Consult legal counsel: Given the complexity and potential implications of this situation, it may be advisable for the individual to consult an employment attorney familiar with drug testing and employment law in Texas.\n",
       "\n",
       "In summary, by referencing past cases involving drug testing and prescription medications, the researcher can gain insights into how Texas state laws, employer policies, ADA protections, and other relevant factors may apply to the new query. Legal counsel can provide specific guidance and advice based on the individual's unique circumstances."
      ],
      "text/plain": [
       "<IPython.core.display.Markdown object>"
      ]
     },
     "execution_count": 52,
     "metadata": {},
     "output_type": "execute_result"
    }
   ],
   "source": [
    "Markdown(f\"## ChatGPT Response: \\n\\n {response}\")"
   ]
  },
  {
   "cell_type": "code",
   "execution_count": 53,
   "metadata": {},
   "outputs": [
    {
     "data": {
      "text/markdown": [
       "#### [1] [\"Is it discrimination if a company refuses to hire me due to my prescribed medication?\"](https://www.reddit.com/r/legaladvice/comments/gnpjof/nj_i_was_denied_a_job_due_to_being_prescribed/) - MI, 2020-05-21"
      ],
      "text/plain": [
       "<IPython.core.display.Markdown object>"
      ]
     },
     "metadata": {},
     "output_type": "display_data"
    },
    {
     "data": {
      "text/markdown": [
       "#### [2] [\"Unfair treatment at work due to unclear drug testing policy: Seeking legal guidance in Cleveland, Ohio\"](https://www.reddit.com/r/legaladvice/comments/ebxmgq/am_i_being_treated_fairly_and_is_there_anything_i/) - OH, 2019-12-17"
      ],
      "text/plain": [
       "<IPython.core.display.Markdown object>"
      ]
     },
     "metadata": {},
     "output_type": "display_data"
    },
    {
     "data": {
      "text/markdown": [
       "#### [3] [\"Can my employer terminate me for missing a random drug test due to conflicting doctor's appointments?\"](https://www.reddit.com/r/legaladvice/comments/ec1oz9/us_dot_drug_testing_question/) - CA, 2019-12-17"
      ],
      "text/plain": [
       "<IPython.core.display.Markdown object>"
      ]
     },
     "metadata": {},
     "output_type": "display_data"
    },
    {
     "data": {
      "text/markdown": [
       "#### [4] [\"Legal rights regarding medication refusal and custody disputes in the USA\"](https://www.reddit.com/r/legaladvice/comments/7pgdhs/what_happens_when_unmarried_parents_disagree_on/) - NM, 2018-01-10"
      ],
      "text/plain": [
       "<IPython.core.display.Markdown object>"
      ]
     },
     "metadata": {},
     "output_type": "display_data"
    },
    {
     "data": {
      "text/markdown": [
       "#### [5] [\"Medical Marijuana and Employment: Can failing a drug test lead to termination or fines?\"](https://www.reddit.com/r/legaladvice/comments/gnrqby/if_i_have_a_medical_marijuana_card_can_i_be_fired/) - DE, 2020-05-21"
      ],
      "text/plain": [
       "<IPython.core.display.Markdown object>"
      ]
     },
     "metadata": {},
     "output_type": "display_data"
    },
    {
     "data": {
      "text/markdown": [
       "#### [6] [\"Legal implications of using CBD/hemp while working a federal job and potential consequences of failing a drug test\"](https://www.reddit.com/r/legaladvice/comments/ebebz1/would_quitting_over_a_drug_test_be_worse_than/) - HI, 2019-12-16"
      ],
      "text/plain": [
       "<IPython.core.display.Markdown object>"
      ]
     },
     "metadata": {},
     "output_type": "display_data"
    },
    {
     "data": {
      "text/markdown": [
       "#### [7] [\"Legality of random drug testing in California for non-dangerous job roles and consequences of refusal\"](https://www.reddit.com/r/legaladvice/comments/gsm10j/question_about_random_drug_testing/) - CT, 2020-05-29"
      ],
      "text/plain": [
       "<IPython.core.display.Markdown object>"
      ]
     },
     "metadata": {},
     "output_type": "display_data"
    },
    {
     "data": {
      "text/markdown": [
       "#### [8] [\"Can a hospital refuse to hire a medical marijuana patient based on their status?\"](https://www.reddit.com/r/legaladvice/comments/gr4q8s/is_it_legal_in_new_york_to_discriminate_against/) - MI, 2020-05-26"
      ],
      "text/plain": [
       "<IPython.core.display.Markdown object>"
      ]
     },
     "metadata": {},
     "output_type": "display_data"
    }
   ],
   "source": [
    "print_papers(rerank_res_df, k=8)"
   ]
  },
  {
   "cell_type": "code",
   "execution_count": 303,
   "metadata": {},
   "outputs": [],
   "source": [
    "import pandas as pd\n",
    "import os\n",
    "\n",
    "def generate_html_pages(df, text_column_name, folder=\"html_files\"):\n",
    "    # Create the folder if it doesn't exist\n",
    "    os.makedirs(folder, exist_ok=True)\n",
    "\n",
    "    # URL list to store the generated URLs\n",
    "    urls = []\n",
    "\n",
    "    # Loop through the DataFrame and create HTML files for each text\n",
    "    for idx, row in df.iterrows():\n",
    "        file_name = f'text_{idx}.html'\n",
    "        file_path = os.path.join(folder, file_name)\n",
    "        with open(file_path, 'w') as file:\n",
    "            html_content = f\"\"\"\n",
    "            <!doctype html>\n",
    "            <html>\n",
    "                <head><title>Text Page {idx}</title></head>\n",
    "                <body><h1>{row[text_column_name]}</h1></body>\n",
    "            </html>\n",
    "            \"\"\"\n",
    "            file.write(html_content)\n",
    "        \n",
    "        # Assuming you'll serve files locally or provide the correct base URL\n",
    "        urls.append(f'file:///{os.path.abspath(file_path)}')\n",
    "\n",
    "    # Add URLs to the DataFrame\n",
    "    df['urls'] = urls\n",
    "\n",
    "    return df\n"
   ]
  },
  {
   "cell_type": "code",
   "execution_count": 304,
   "metadata": {},
   "outputs": [],
   "source": [
    "test = generate_html_pages(rerank_res_df, \"body\", folder=\"html_files\")"
   ]
  },
  {
   "cell_type": "code",
   "execution_count": 305,
   "metadata": {},
   "outputs": [
    {
     "data": {
      "text/plain": [
       "['file:///c:\\\\Users\\\\pdoub\\\\Desktop\\\\python_projects\\\\junk-drawer\\\\src_index\\\\html_files\\\\text_6191.html',\n",
       " 'file:///c:\\\\Users\\\\pdoub\\\\Desktop\\\\python_projects\\\\junk-drawer\\\\src_index\\\\html_files\\\\text_3892.html',\n",
       " 'file:///c:\\\\Users\\\\pdoub\\\\Desktop\\\\python_projects\\\\junk-drawer\\\\src_index\\\\html_files\\\\text_6247.html',\n",
       " 'file:///c:\\\\Users\\\\pdoub\\\\Desktop\\\\python_projects\\\\junk-drawer\\\\src_index\\\\html_files\\\\text_3842.html',\n",
       " 'file:///c:\\\\Users\\\\pdoub\\\\Desktop\\\\python_projects\\\\junk-drawer\\\\src_index\\\\html_files\\\\text_7381.html',\n",
       " 'file:///c:\\\\Users\\\\pdoub\\\\Desktop\\\\python_projects\\\\junk-drawer\\\\src_index\\\\html_files\\\\text_3689.html',\n",
       " 'file:///c:\\\\Users\\\\pdoub\\\\Desktop\\\\python_projects\\\\junk-drawer\\\\src_index\\\\html_files\\\\text_3739.html',\n",
       " 'file:///c:\\\\Users\\\\pdoub\\\\Desktop\\\\python_projects\\\\junk-drawer\\\\src_index\\\\html_files\\\\text_8075.html',\n",
       " 'file:///c:\\\\Users\\\\pdoub\\\\Desktop\\\\python_projects\\\\junk-drawer\\\\src_index\\\\html_files\\\\text_1164.html',\n",
       " 'file:///c:\\\\Users\\\\pdoub\\\\Desktop\\\\python_projects\\\\junk-drawer\\\\src_index\\\\html_files\\\\text_1410.html',\n",
       " 'file:///c:\\\\Users\\\\pdoub\\\\Desktop\\\\python_projects\\\\junk-drawer\\\\src_index\\\\html_files\\\\text_8168.html',\n",
       " 'file:///c:\\\\Users\\\\pdoub\\\\Desktop\\\\python_projects\\\\junk-drawer\\\\src_index\\\\html_files\\\\text_6631.html',\n",
       " 'file:///c:\\\\Users\\\\pdoub\\\\Desktop\\\\python_projects\\\\junk-drawer\\\\src_index\\\\html_files\\\\text_625.html',\n",
       " 'file:///c:\\\\Users\\\\pdoub\\\\Desktop\\\\python_projects\\\\junk-drawer\\\\src_index\\\\html_files\\\\text_9156.html',\n",
       " 'file:///c:\\\\Users\\\\pdoub\\\\Desktop\\\\python_projects\\\\junk-drawer\\\\src_index\\\\html_files\\\\text_4407.html',\n",
       " 'file:///c:\\\\Users\\\\pdoub\\\\Desktop\\\\python_projects\\\\junk-drawer\\\\src_index\\\\html_files\\\\text_7735.html',\n",
       " 'file:///c:\\\\Users\\\\pdoub\\\\Desktop\\\\python_projects\\\\junk-drawer\\\\src_index\\\\html_files\\\\text_8339.html',\n",
       " 'file:///c:\\\\Users\\\\pdoub\\\\Desktop\\\\python_projects\\\\junk-drawer\\\\src_index\\\\html_files\\\\text_7821.html',\n",
       " 'file:///c:\\\\Users\\\\pdoub\\\\Desktop\\\\python_projects\\\\junk-drawer\\\\src_index\\\\html_files\\\\text_3969.html',\n",
       " 'file:///c:\\\\Users\\\\pdoub\\\\Desktop\\\\python_projects\\\\junk-drawer\\\\src_index\\\\html_files\\\\text_696.html']"
      ]
     },
     "execution_count": 305,
     "metadata": {},
     "output_type": "execute_result"
    }
   ],
   "source": [
    "test['urls'].tolist()"
   ]
  },
  {
   "cell_type": "code",
   "execution_count": 56,
   "metadata": {},
   "outputs": [],
   "source": [
    "from html import escape\n",
    "\n",
    "# Function to create a clean and minimalistic HTML content with spacing and line borders\n",
    "def create_clean_html_content(row):\n",
    "    # Creating a clean HTML structure with added spacing and line borders\n",
    "    html_content = f\"\"\"\n",
    "    <html>\n",
    "    <head>\n",
    "        <title>{escape(row['title'])}</title>\n",
    "        <style>\n",
    "            body {{\n",
    "                font-family: Arial, sans-serif;\n",
    "                background-color: #f4f4f4;\n",
    "                margin: 40px;\n",
    "            }}\n",
    "            .card {{\n",
    "                background-color: #ffffff;\n",
    "                padding: 20px;\n",
    "                border-radius: 10px;\n",
    "                box-shadow: 0 4px 8px rgba(0, 0, 0, 0.1);\n",
    "                max-width: 800px;\n",
    "                margin: auto;\n",
    "            }}\n",
    "            .highlight {{\n",
    "                font-weight: bold;\n",
    "                color: #ff9900;\n",
    "            }}\n",
    "            h1 {{\n",
    "                color: #333333;\n",
    "            }}\n",
    "            .section {{\n",
    "                margin-bottom: 20px;\n",
    "                padding-bottom: 10px;\n",
    "                border-bottom: 1px solid #eeeeee;\n",
    "            }}\n",
    "            p {{\n",
    "                line-height: 1.6;\n",
    "                margin: 0;\n",
    "            }}\n",
    "            a {{\n",
    "                color: #0066cc;\n",
    "                text-decoration: none;\n",
    "            }}\n",
    "        </style>\n",
    "    </head>\n",
    "    <body>\n",
    "        <div class=\"card\">\n",
    "            <h1>{escape(row['title'])}</h1>\n",
    "            <div class=\"section\">\n",
    "                <p><span class=\"highlight\">LLM Title:</span> {escape(row['llm_title'])}</p>\n",
    "            </div>\n",
    "            <div class=\"section\">\n",
    "                <p><span class=\"highlight\">Topic Title:</span> {escape(row['topic_title'])}</p>\n",
    "            </div>\n",
    "            <div class=\"section\">\n",
    "                <p><span class=\"highlight\">Body:</span> {escape(row['body'])}</p>\n",
    "            </div>\n",
    "            <div class=\"section\">\n",
    "                <p>Text Label: {escape(row['text_label'])}</p>\n",
    "                <p>Timestamp: {row['timestamp']}</p>\n",
    "                <p><a href=\"{row['full_link']}\">Full Link</a></p>\n",
    "            </div>\n",
    "        </div>\n",
    "    </body>\n",
    "    </html>\n",
    "    \"\"\"\n",
    "    return html_content\n"
   ]
  },
  {
   "cell_type": "code",
   "execution_count": 58,
   "metadata": {},
   "outputs": [
    {
     "data": {
      "text/plain": [
       "'../data/random_row_display_clean.html'"
      ]
     },
     "execution_count": 58,
     "metadata": {},
     "output_type": "execute_result"
    }
   ],
   "source": [
    "random_row = rerank_res_df.sample(1)\n",
    "\n",
    "# Generating clean HTML content for the selected random row\n",
    "clean_html_content = create_clean_html_content(random_row)\n",
    "\n",
    "# Writing the clean HTML content to a file\n",
    "clean_html_file_path = \"../data/random_row_display_clean.html\"\n",
    "with open(clean_html_file_path, 'w', encoding='utf-8') as file:\n",
    "    file.write(clean_html_content)\n",
    "\n",
    "clean_html_file_path"
   ]
  },
  {
   "cell_type": "code",
   "execution_count": 59,
   "metadata": {},
   "outputs": [],
   "source": [
    "# Function to generate HTML files for each row and add URLs to the DataFrame\n",
    "def generate_html_files(df):\n",
    "    # List to store the URLs\n",
    "    urls = []\n",
    "    \n",
    "    # Iterate through the DataFrame\n",
    "    for index, row in df.iterrows():\n",
    "        # Generate HTML content for the row\n",
    "        html_content = create_clean_html_content(row)\n",
    "        \n",
    "        # Define the file path for the HTML file\n",
    "        file_path = f\"../data/html_files/row_{index}.html\"\n",
    "        \n",
    "        # Write the HTML content to the file\n",
    "        with open(file_path, 'w', encoding='utf-8') as file:\n",
    "            file.write(html_content)\n",
    "        \n",
    "        # Append the file path to the URLs list\n",
    "        urls.append(file_path)\n",
    "    \n",
    "    # Add the URLs as a new column to the DataFrame\n",
    "    df['html_url'] = urls\n",
    "    \n",
    "    return df\n"
   ]
  },
  {
   "cell_type": "code",
   "execution_count": 60,
   "metadata": {},
   "outputs": [
    {
     "ename": "FileNotFoundError",
     "evalue": "[Errno 2] No such file or directory: '../data/html_files/row_6191.html'",
     "output_type": "error",
     "traceback": [
      "\u001b[1;31m---------------------------------------------------------------------------\u001b[0m",
      "\u001b[1;31mFileNotFoundError\u001b[0m                         Traceback (most recent call last)",
      "Cell \u001b[1;32mIn[60], line 6\u001b[0m\n\u001b[0;32m      3\u001b[0m os\u001b[39m.\u001b[39mmakedirs(\u001b[39m\"\u001b[39m\u001b[39m./data/html_files\u001b[39m\u001b[39m\"\u001b[39m, exist_ok\u001b[39m=\u001b[39m\u001b[39mTrue\u001b[39;00m)\n\u001b[0;32m      5\u001b[0m \u001b[39m# Apply the function to generate HTML files and update the DataFrame\u001b[39;00m\n\u001b[1;32m----> 6\u001b[0m updated_df \u001b[39m=\u001b[39m generate_html_files(rerank_res_df\u001b[39m.\u001b[39;49mcopy())\n\u001b[0;32m      8\u001b[0m \u001b[39m# Displaying the first few rows of the updated DataFrame\u001b[39;00m\n\u001b[0;32m      9\u001b[0m updated_df\u001b[39m.\u001b[39mhead()\n",
      "Cell \u001b[1;32mIn[59], line 15\u001b[0m, in \u001b[0;36mgenerate_html_files\u001b[1;34m(df)\u001b[0m\n\u001b[0;32m     12\u001b[0m file_path \u001b[39m=\u001b[39m \u001b[39mf\u001b[39m\u001b[39m\"\u001b[39m\u001b[39m../data/html_files/row_\u001b[39m\u001b[39m{\u001b[39;00mindex\u001b[39m}\u001b[39;00m\u001b[39m.html\u001b[39m\u001b[39m\"\u001b[39m\n\u001b[0;32m     14\u001b[0m \u001b[39m# Write the HTML content to the file\u001b[39;00m\n\u001b[1;32m---> 15\u001b[0m \u001b[39mwith\u001b[39;00m \u001b[39mopen\u001b[39;49m(file_path, \u001b[39m'\u001b[39;49m\u001b[39mw\u001b[39;49m\u001b[39m'\u001b[39;49m, encoding\u001b[39m=\u001b[39;49m\u001b[39m'\u001b[39;49m\u001b[39mutf-8\u001b[39;49m\u001b[39m'\u001b[39;49m) \u001b[39mas\u001b[39;00m file:\n\u001b[0;32m     16\u001b[0m     file\u001b[39m.\u001b[39mwrite(html_content)\n\u001b[0;32m     18\u001b[0m \u001b[39m# Append the file path to the URLs list\u001b[39;00m\n",
      "File \u001b[1;32mc:\\Users\\pdoub\\Desktop\\python_projects\\junk-drawer\\.venv\\lib\\site-packages\\IPython\\core\\interactiveshell.py:284\u001b[0m, in \u001b[0;36m_modified_open\u001b[1;34m(file, *args, **kwargs)\u001b[0m\n\u001b[0;32m    277\u001b[0m \u001b[39mif\u001b[39;00m file \u001b[39min\u001b[39;00m {\u001b[39m0\u001b[39m, \u001b[39m1\u001b[39m, \u001b[39m2\u001b[39m}:\n\u001b[0;32m    278\u001b[0m     \u001b[39mraise\u001b[39;00m \u001b[39mValueError\u001b[39;00m(\n\u001b[0;32m    279\u001b[0m         \u001b[39mf\u001b[39m\u001b[39m\"\u001b[39m\u001b[39mIPython won\u001b[39m\u001b[39m'\u001b[39m\u001b[39mt let you open fd=\u001b[39m\u001b[39m{\u001b[39;00mfile\u001b[39m}\u001b[39;00m\u001b[39m by default \u001b[39m\u001b[39m\"\u001b[39m\n\u001b[0;32m    280\u001b[0m         \u001b[39m\"\u001b[39m\u001b[39mas it is likely to crash IPython. If you know what you are doing, \u001b[39m\u001b[39m\"\u001b[39m\n\u001b[0;32m    281\u001b[0m         \u001b[39m\"\u001b[39m\u001b[39myou can use builtins\u001b[39m\u001b[39m'\u001b[39m\u001b[39m open.\u001b[39m\u001b[39m\"\u001b[39m\n\u001b[0;32m    282\u001b[0m     )\n\u001b[1;32m--> 284\u001b[0m \u001b[39mreturn\u001b[39;00m io_open(file, \u001b[39m*\u001b[39margs, \u001b[39m*\u001b[39m\u001b[39m*\u001b[39mkwargs)\n",
      "\u001b[1;31mFileNotFoundError\u001b[0m: [Errno 2] No such file or directory: '../data/html_files/row_6191.html'"
     ]
    }
   ],
   "source": [
    "# Create a directory to store the HTML files\n",
    "import os\n",
    "os.makedirs(\"./data/html_files\", exist_ok=True)\n",
    "\n",
    "# Apply the function to generate HTML files and update the DataFrame\n",
    "updated_df = generate_html_files(rerank_res_df.copy())\n",
    "\n",
    "# Displaying the first few rows of the updated DataFrame\n",
    "updated_df.head()"
   ]
  },
  {
   "cell_type": "code",
   "execution_count": 306,
   "metadata": {},
   "outputs": [],
   "source": [
    "import os\n",
    "from dotenv import load_dotenv\n",
    "import numpy as np\n",
    "import pandas as pd\n",
    "import faiss\n",
    "import nltk\n",
    "from typing import List, Tuple, Dict\n",
    "from langchain.embeddings import OpenAIEmbeddings\n",
    "\n",
    "\n",
    "class SemanticSearch:\n",
    "    def __init__(self, df: pd.DataFrame, embedding_col_name: str = \"embeddings\"):\n",
    "        self.df = df\n",
    "        self.embedding_col_name = embedding_col_name\n",
    "        load_dotenv()\n",
    "        self.embedding_model = OpenAIEmbeddings()\n",
    "\n",
    "\n",
    "    @staticmethod\n",
    "    def preprocess_text(text: str):\n",
    "        text = text.lower()\n",
    "        # remove stopwords from the query\n",
    "        stopwords = set(nltk.corpus.stopwords.words(\"english\"))\n",
    "        # Example of adding words to the stopwords list\n",
    "        stopwords.update([\"please\", \"review\"])\n",
    "        text = \" \".join([word for word in text.split() if word not in stopwords])\n",
    "        return text\n",
    "\n",
    "    \n",
    "    def encode_string(self, text: str) -> np.ndarray:\n",
    "        # Preprocess the text\n",
    "        preprocessed_text = self.preprocess_text(text)\n",
    "        # Encode the text\n",
    "        embedding = self.embedding_model.embed_query(preprocessed_text)\n",
    "        return np.array(embedding)\n",
    "    \n",
    "    \n",
    "    @staticmethod\n",
    "    def normalize_embeddings(embeddings: np.ndarray) -> np.ndarray:\n",
    "        if len(embeddings.shape) == 1:\n",
    "            embeddings = np.expand_dims(embeddings, axis=0)\n",
    "        if embeddings.shape[0] == 1:\n",
    "            embeddings = np.transpose(embeddings)\n",
    "        norm = np.linalg.norm(embeddings, axis=1, keepdims=True)\n",
    "        normalized_embeddings = embeddings / norm\n",
    "        return normalized_embeddings\n",
    "    \n",
    "    \n",
    "    def check_and_normalize_embeddings(self, embeddings: np.ndarray) -> np.ndarray:\n",
    "        # Calculate the L2 norm for each embedding\n",
    "        norms = np.linalg.norm(embeddings, axis=1)\n",
    "\n",
    "        # Check if the norms are close to 1 (with a small tolerance)\n",
    "        if not np.allclose(norms, 1, atol=1e-6):\n",
    "            print(\"Embeddings are not normalized, normalizing now...\")\n",
    "            embeddings = self.normalize_embeddings(embeddings)\n",
    "\n",
    "        return embeddings\n",
    "    \n",
    "    \n",
    "    def build_faiss_index(self, embeddings: np.ndarray, use_cosine_similarity: bool = False) -> faiss.Index:\n",
    "        if use_cosine_similarity:\n",
    "            # Check and normalize the embeddings if needed\n",
    "            embeddings = self.check_and_normalize_embeddings(embeddings)\n",
    "            index = faiss.IndexFlatIP(embeddings.shape[1])\n",
    "        else:\n",
    "            index = faiss.IndexFlatL2(embeddings.shape[1])\n",
    "\n",
    "        index.add(embeddings.astype('float32'))\n",
    "        return index\n",
    "\n",
    "       \n",
    "    def search_faiss_index(self, index: faiss.Index, \n",
    "                            embedding: np.ndarray,\n",
    "                            top_n: int,\n",
    "                            use_cosine_similarity: bool) -> Tuple[List[int], np.ndarray]:\n",
    "        \n",
    "        distances, indices = index.search(embedding.reshape(1, -1).astype('float32'), top_n)\n",
    "        \n",
    "        if use_cosine_similarity:\n",
    "            similarity_scores = distances.flatten()\n",
    "        else:\n",
    "            similarity_scores = 1 - distances.flatten()\n",
    "        \n",
    "        return indices.flatten(), similarity_scores\n",
    "\n",
    "\n",
    "    @staticmethod\n",
    "    def filter_results(df: pd.DataFrame, indices: List[int], filter_criteria: dict) -> pd.DataFrame:\n",
    "        filtered_df = df.iloc[indices]\n",
    "        for key, value in filter_criteria.items():\n",
    "            filtered_df = filtered_df[filtered_df[key] == value]\n",
    "        return filtered_df\n",
    "    \n",
    "    \n",
    "    def query_similar_documents(self, text: str, top_n: int, filter_criteria: dict, use_cosine_similarity: bool = False) -> pd.DataFrame:\n",
    "        query_embedding = self.encode_string(text)\n",
    "\n",
    "        if filter_criteria is not None:\n",
    "            filtered_df = self.df.copy()\n",
    "            for key, value in filter_criteria.items():\n",
    "                filtered_df = filtered_df[filtered_df[key] == value]\n",
    "        else:\n",
    "            filtered_df = self.df.copy()\n",
    "            \n",
    "        filtered_embeddings = np.vstack(filtered_df[self.embedding_col_name].values)\n",
    "\n",
    "        index_ = self.build_faiss_index(filtered_embeddings, use_cosine_similarity)\n",
    "        indices, sim_scores = self.search_faiss_index(index_, query_embedding, top_n, use_cosine_similarity)\n",
    "        results_df = filtered_df.iloc[indices].copy()\n",
    "        # Add 'similarity scores' to the DataFrame\n",
    "        results_df['sim_score'] = sim_scores\n",
    "        \n",
    "        return results_df"
   ]
  }
 ],
 "metadata": {
  "kernelspec": {
   "display_name": ".venv",
   "language": "python",
   "name": "python3"
  },
  "language_info": {
   "codemirror_mode": {
    "name": "ipython",
    "version": 3
   },
   "file_extension": ".py",
   "mimetype": "text/x-python",
   "name": "python",
   "nbconvert_exporter": "python",
   "pygments_lexer": "ipython3",
   "version": "3.10.1"
  },
  "orig_nbformat": 4
 },
 "nbformat": 4,
 "nbformat_minor": 2
}
