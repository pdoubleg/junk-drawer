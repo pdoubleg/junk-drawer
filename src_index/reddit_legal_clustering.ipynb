{
 "cells": [
  {
   "cell_type": "code",
   "execution_count": 1,
   "metadata": {},
   "outputs": [
    {
     "name": "stderr",
     "output_type": "stream",
     "text": [
      "c:\\Users\\pdoub\\Desktop\\python_projects\\junk-drawer\\.venv\\lib\\site-packages\\tqdm\\auto.py:21: TqdmWarning: IProgress not found. Please update jupyter and ipywidgets. See https://ipywidgets.readthedocs.io/en/stable/user_install.html\n",
      "  from .autonotebook import tqdm as notebook_tqdm\n"
     ]
    }
   ],
   "source": [
    "# Import the necessary modules\n",
    "from top_n_tool import run_tool"
   ]
  },
  {
   "cell_type": "code",
   "execution_count": 2,
   "metadata": {},
   "outputs": [],
   "source": [
    "import langchain\n",
    "from langchain.cache import SQLiteCache\n",
    "langchain.llm_cache = SQLiteCache(database_path=\".st_langchain.db\")"
   ]
  },
  {
   "cell_type": "code",
   "execution_count": 3,
   "metadata": {},
   "outputs": [],
   "source": [
    "from IPython.display import Markdown, display, HTML"
   ]
  },
  {
   "cell_type": "code",
   "execution_count": 4,
   "metadata": {},
   "outputs": [],
   "source": [
    "# Define the user query\n",
    "user_query = \"\"\"\n",
    "I'm currently designing a video game that I know will turn a good profit. The business machinations, marketing, \n",
    "and project management are my forte but I lack in the programming and 3D modelling department. So, I'll need to hire \n",
    "independent contractors/freelancers to handle those parts to design a \"proof of concept\" in order to better secure initial \n",
    "income via crowdfunding. At this point:  I have virtually no initial startup funds. \n",
    "So, I was hoping for advice on what types of contracts I could have them and myself sign to ensure that they get paid \n",
    "for their work and how to ensure that my intellectual property is protected. My fears is having a 3D artist or coder \n",
    "take the game concept and/or 3D models and running away with it. I'm located in Ohio but will likely need to hire contractors from different states, maybe even different countries.\n",
    "\"\"\""
   ]
  },
  {
   "cell_type": "code",
   "execution_count": 5,
   "metadata": {},
   "outputs": [
    {
     "name": "stderr",
     "output_type": "stream",
     "text": [
      "100%|██████████| 10/10 [00:00<00:00, 554.27it/s]\n",
      "100%|██████████| 1/1 [00:00<00:00, 428.95it/s]\n"
     ]
    }
   ],
   "source": [
    "result_gpt3 = run_tool(user_query, top_n=10, model_name=\"gpt-3.5-turbo\")"
   ]
  },
  {
   "cell_type": "code",
   "execution_count": 6,
   "metadata": {},
   "outputs": [
    {
     "data": {
      "text/markdown": [
       "## New Query:\n",
       "\n",
       "I'm currently designing a video game that I know will turn a good profit. The business machinations, marketing, \n",
       "and project management are my forte but I lack in the programming and 3D modelling department. So, I'll need to hire \n",
       "independent contractors/freelancers to handle those parts to design a \"proof of concept\" in order to better secure initial \n",
       "income via crowdfunding. At this point:  I have virtually no initial startup funds. \n",
       "So, I was hoping for advice on what types of contracts I could have them and myself sign to ensure that they get paid \n",
       "for their work and how to ensure that my intellectual property is protected. My fears is having a 3D artist or coder \n",
       "take the game concept and/or 3D models and running away with it. I'm located in Ohio but will likely need to hire contractors from different states, maybe even different countries.\n",
       "\n",
       "## Model Response:\n",
       "To address the new query, we can draw comparisons from several past cases:\n",
       "\n",
       "1. In [[1](https://www.reddit.com/r/legaladvice/comments/2xzeee/advice_on_steps_i_can_take_to_protect_my_idea_ie/)], an individual sought advice on protecting their computer program/app idea when discussing it with potential collaborators. The suggestions included obtaining a patent and entering into non-disclosure agreements (NDAs) with collaborators. These measures can be relevant in the current scenario to protect the video game concept and 3D models.\n",
       "\n",
       "2. In [[3](https://www.reddit.com/r/legaladvice/comments/2t9664/independent_contractor_things_to_watch_out_for_in/)], an individual considered working as an independent contractor for a startup. They were concerned about potential issues and sought advice on how to avoid complications. This case can provide insights into potential risks and considerations when hiring independent contractors for the video game project.\n",
       "\n",
       "3. In [[6](https://www.reddit.com/r/legaladvice/comments/gphir8/looking_to_outsource_work_to_a_foreign_friend_how/)], a content creator wanted to outsource video editing work to a friend in a different country. They sought clarification on whether the friend should be classified as an independent contractor or an employee. This case can provide guidance on the classification of contractors and the legal implications associated with hiring contractors from different countries.\n",
       "\n",
       "4. In [[8](https://www.reddit.com/r/legaladvice/comments/7sbd0a/is_this_legal_to_do_paying_contractors_in_my/)], a startup founder had concerns about paying a contractor who had not completed any projects. They sought clarification on whether they had the right to withhold payment. This case can provide insights into the legal considerations when it comes to paying contractors for their work.\n",
       "\n",
       "By referencing these past cases, the researcher can gain insights into the potential risks and legal measures to consider when hiring independent contractors for the video game project. They can explore options such as obtaining patents, entering into NDAs, clarifying contractor classifications, and ensuring proper payment terms to protect their intellectual property and ensure fair compensation for the contractors. Additionally, they can seek advice from an intellectual property attorney to navigate the legal complexities involved in protecting their intellectual property across different states and countries.\n",
       "##### [1] [\"Protecting your idea while collaborating with strangers in the California Bay Area tech scene\"](https://www.reddit.com/r/legaladvice/comments/2xzeee/advice_on_steps_i_can_take_to_protect_my_idea_ie/) - IA, 2015-03-05, Number: 1253\n",
       "##### [3] [\"Legal considerations for becoming an independent contractor and transferring copyright in a software development agreement\"](https://www.reddit.com/r/legaladvice/comments/2t9664/independent_contractor_things_to_watch_out_for_in/) - CT, 2015-01-22, Number: 8236\n",
       "##### [6] [Determining the Classification of a Video Editor: Independent Contractor or Employee?](https://www.reddit.com/r/legaladvice/comments/gphir8/looking_to_outsource_work_to_a_foreign_friend_how/) - NM, 2020-05-24, Number: 4123\n",
       "##### [8] [\"Legal implications of not paying a contractor during probation period in a startup\"](https://www.reddit.com/r/legaladvice/comments/7sbd0a/is_this_legal_to_do_paying_contractors_in_my/) - HI, 2018-01-23, Number: 906\n"
      ],
      "text/plain": [
       "<IPython.core.display.Markdown object>"
      ]
     },
     "execution_count": 6,
     "metadata": {},
     "output_type": "execute_result"
    }
   ],
   "source": [
    "Markdown(f\"{result_gpt3}\")"
   ]
  },
  {
   "cell_type": "code",
   "execution_count": 7,
   "metadata": {},
   "outputs": [
    {
     "name": "stderr",
     "output_type": "stream",
     "text": [
      "100%|██████████| 10/10 [00:00<00:00, 909.08it/s]\n",
      "100%|██████████| 1/1 [00:00<00:00, 377.59it/s]\n"
     ]
    }
   ],
   "source": [
    "result_gpt_4 = run_tool(user_query, top_n=10, model_name=\"gpt-4\")"
   ]
  },
  {
   "attachments": {},
   "cell_type": "markdown",
   "metadata": {},
   "source": [
    "* Cross-encoder rerank"
   ]
  },
  {
   "cell_type": "code",
   "execution_count": 8,
   "metadata": {},
   "outputs": [
    {
     "data": {
      "text/markdown": [
       "## New Query:\n",
       "\n",
       "I'm currently designing a video game that I know will turn a good profit. The business machinations, marketing, \n",
       "and project management are my forte but I lack in the programming and 3D modelling department. So, I'll need to hire \n",
       "independent contractors/freelancers to handle those parts to design a \"proof of concept\" in order to better secure initial \n",
       "income via crowdfunding. At this point:  I have virtually no initial startup funds. \n",
       "So, I was hoping for advice on what types of contracts I could have them and myself sign to ensure that they get paid \n",
       "for their work and how to ensure that my intellectual property is protected. My fears is having a 3D artist or coder \n",
       "take the game concept and/or 3D models and running away with it. I'm located in Ohio but will likely need to hire contractors from different states, maybe even different countries.\n",
       "\n",
       "## Model Response:\n",
       "The new query involves a video game designer who is planning to hire independent contractors for programming and 3D modelling tasks. The designer is seeking advice on how to protect their intellectual property and ensure that the contractors are paid for their work. This situation can be compared to several past cases.\n",
       "\n",
       "In [[1](https://www.reddit.com/r/legaladvice/comments/2xzeee/advice_on_steps_i_can_take_to_protect_my_idea_ie/)], the individual was concerned about protecting their computer program/app idea when discussing it with potential collaborators. The advice given was to consider obtaining a patent and entering into a non-disclosure agreement (NDA) with potential collaborators. This advice could be applicable to the new query as well, as the designer could consider obtaining a patent for their video game and having the contractors sign an NDA to protect the game concept and 3D models.\n",
       "\n",
       "In [[3](https://www.reddit.com/r/legaladvice/comments/2t9664/independent_contractor_things_to_watch_out_for_in/)], the individual was considering a job offer from a startup that required assistance with software development. The startup wanted the copyright to the individual's code and wanted to ensure that the individual was not liable for any mistakes after the contract ended. This situation is similar to the new query, as the designer could consider including similar terms in the contracts with the contractors to protect their intellectual property and limit their liability.\n",
       "\n",
       "In [[6](https://www.reddit.com/r/legaladvice/comments/gphir8/looking_to_outsource_work_to_a_foreign_friend_how/)], the individual was a content creator who was seeking assistance in video editing from a friend who resided in a different country. The content creator was unsure whether the friend should be classified as an independent contractor or an employee. This situation could be relevant to the new query, as the designer may need to hire contractors from different states or countries.\n",
       "\n",
       "In [[7](https://www.reddit.com/r/legaladvice/comments/2xliyl/started_a_small_business_about_to_sign_a_large/)], the individual and their friends formed an LLC to protect their intellectual property and make their business more official. This could be a potential strategy for the designer to consider, as forming an LLC could provide additional protection for their intellectual property.\n",
       "\n",
       "In [[8](https://www.reddit.com/r/legaladvice/comments/7sbd0a/is_this_legal_to_do_paying_contractors_in_my/)], the founder of a startup was unsure about paying a contractor due to their lack of work. This situation could be relevant to the new query, as the designer may need to consider how to handle payment issues with the contractors.\n",
       "\n",
       "In [[9](https://www.reddit.com/r/legaladvice/comments/e635kk/how_to_structure_equity_agreement/)], the founder of a company and a designer reached a verbal agreement regarding the division of equity and revenue share. This could be a potential strategy for the designer to consider, as they could potentially offer equity or revenue share to the contractors as a form of compensation.\n",
       "\n",
       "In [[10](https://www.reddit.com/r/legaladvice/comments/7x69a3/im_writing_my_own_contract_for_freelance_work_and/)], a graphic designer was seeking assistance in reviewing and revising their terms and conditions, specifically focusing on the payment schedule section. This could be relevant to the new query, as the designer may need to consider how to structure the payment schedule in the contracts with the contractors.\n",
       "##### [7] [Navigating Legal Contracts: Protecting Your Business and Seeking Legal Support](https://www.reddit.com/r/legaladvice/comments/2xliyl/started_a_small_business_about_to_sign_a_large/) - LA, 2015-03-01, Number: 2499\n",
       "##### [6] [Determining the Classification of a Video Editor: Independent Contractor or Employee?](https://www.reddit.com/r/legaladvice/comments/gphir8/looking_to_outsource_work_to_a_foreign_friend_how/) - NM, 2020-05-24, Number: 4123\n",
       "##### [8] [\"Legal implications of not paying a contractor during probation period in a startup\"](https://www.reddit.com/r/legaladvice/comments/7sbd0a/is_this_legal_to_do_paying_contractors_in_my/) - HI, 2018-01-23, Number: 906\n",
       "##### [3] [\"Legal considerations for becoming an independent contractor and transferring copyright in a software development agreement\"](https://www.reddit.com/r/legaladvice/comments/2t9664/independent_contractor_things_to_watch_out_for_in/) - CT, 2015-01-22, Number: 8236\n",
       "##### [9] [\"Structuring a temporary agreement for equity split and revenue share in a startup partnership\"](https://www.reddit.com/r/legaladvice/comments/e635kk/how_to_structure_equity_agreement/) - VA, 2019-12-04, Number: 2513\n",
       "##### [10] [\"Clarifying payment schedule in graphic designer's terms and conditions in Texas\"](https://www.reddit.com/r/legaladvice/comments/7x69a3/im_writing_my_own_contract_for_freelance_work_and/) - IA, 2018-02-13, Number: 59\n",
       "##### [1] [\"Protecting your idea while collaborating with strangers in the California Bay Area tech scene\"](https://www.reddit.com/r/legaladvice/comments/2xzeee/advice_on_steps_i_can_take_to_protect_my_idea_ie/) - IA, 2015-03-05, Number: 1253\n"
      ],
      "text/plain": [
       "<IPython.core.display.Markdown object>"
      ]
     },
     "execution_count": 8,
     "metadata": {},
     "output_type": "execute_result"
    }
   ],
   "source": [
    "Markdown(f\"{result_gpt_4}\")"
   ]
  },
  {
   "attachments": {},
   "cell_type": "markdown",
   "metadata": {},
   "source": [
    "* Instructor rerank"
   ]
  },
  {
   "cell_type": "code",
   "execution_count": 8,
   "metadata": {},
   "outputs": [
    {
     "data": {
      "text/markdown": [
       "## New Query:\n",
       "\n",
       "I'm currently designing a video game that I know will turn a good profit. The business machinations, marketing, \n",
       "and project management are my forte but I lack in the programming and 3D modelling department. So, I'll need to hire \n",
       "independent contractors/freelancers to handle those parts to design a \"proof of concept\" in order to better secure initial \n",
       "income via crowdfunding. At this point:  I have virtually no initial startup funds. \n",
       "So, I was hoping for advice on what types of contracts I could have them and myself sign to ensure that they get paid \n",
       "for their work and how to ensure that my intellectual property is protected. My fears is having a 3D artist or coder \n",
       "take the game concept and/or 3D models and running away with it. I'm located in Ohio but will likely need to hire contractors from different states, maybe even different countries.\n",
       "\n",
       "## Model Response:\n",
       "The new query involves a video game designer who is planning to hire independent contractors for programming and 3D modelling tasks. The designer is seeking advice on how to protect their intellectual property and ensure that the contractors are paid for their work. \n",
       "\n",
       "This situation shares similarities with several past cases. In [[1](https://www.reddit.com/r/legaladvice/comments/2xliyl/started_a_small_business_about_to_sign_a_large/)], an 18-year-old college student and their friends formed an LLC to protect their intellectual property while working on a tech-based project. This case could provide insights into the benefits of forming an LLC for the game designer, especially in terms of protecting intellectual property and making the business more official.\n",
       "\n",
       "The case in [[2](https://www.reddit.com/r/legaladvice/comments/2t9664/independent_contractor_things_to_watch_out_for_in/)] involves an individual considering a job offer from a startup that wants to ensure the individual is not liable for any mistakes after the contract ends. This could be relevant to the game designer's situation, as they might want to include similar clauses in their contracts with the independent contractors.\n",
       "\n",
       "In [[3](https://www.reddit.com/r/legaladvice/comments/2xzeee/advice_on_steps_i_can_take_to_protect_my_idea_ie/)], the individual is seeking advice on how to protect their computer program/app idea when discussing it with potential collaborators. This case could provide useful insights into how the game designer can protect their game concept, such as obtaining a patent or entering into a non-disclosure agreement (NDA) with the contractors.\n",
       "\n",
       "The situation in [[4](https://www.reddit.com/r/legaladvice/comments/7sbd0a/is_this_legal_to_do_paying_contractors_in_my/)] involves a startup founder unsure about paying a contractor due to their lack of work. This could be relevant to the game designer's situation, as they might face similar issues with their contractors.\n",
       "\n",
       "In [[6](https://www.reddit.com/r/legaladvice/comments/gphir8/looking_to_outsource_work_to_a_foreign_friend_how/)], a content creator is seeking clarification on whether a friend helping with video editing should be classified as an independent contractor or an employee. This could provide insights into how the game designer should classify their contractors, especially if they are from different states or countries.\n",
       "\n",
       "Finally, the case in [[7](https://www.reddit.com/r/legaladvice/comments/ea7t71/what_are_my_best_steps_to_form_a_business/)] involves a graphic artist and game designer considering forming an LLC. This could provide useful information for the game designer, especially in terms of the process and implications of forming an LLC.\n",
       "##### [1] [Navigating Legal Contracts: Protecting Your Business and Seeking Legal Support](https://www.reddit.com/r/legaladvice/comments/2xliyl/started_a_small_business_about_to_sign_a_large/) - LA, 2015-03-01, Number: 2499\n",
       "##### [7] [\"Forming an LTD for a graphic artist and game designer: business structure, name reservation, and financial implications\"](https://www.reddit.com/r/legaladvice/comments/ea7t71/what_are_my_best_steps_to_form_a_business/) - MP, 2019-12-13, Number: 1270\n",
       "##### [6] [Determining the Classification of a Video Editor: Independent Contractor or Employee?](https://www.reddit.com/r/legaladvice/comments/gphir8/looking_to_outsource_work_to_a_foreign_friend_how/) - NM, 2020-05-24, Number: 4123\n",
       "##### [3] [\"Protecting your idea while collaborating with strangers in the California Bay Area tech scene\"](https://www.reddit.com/r/legaladvice/comments/2xzeee/advice_on_steps_i_can_take_to_protect_my_idea_ie/) - IA, 2015-03-05, Number: 1253\n",
       "##### [2] [\"Legal considerations for becoming an independent contractor and transferring copyright in a software development agreement\"](https://www.reddit.com/r/legaladvice/comments/2t9664/independent_contractor_things_to_watch_out_for_in/) - CT, 2015-01-22, Number: 8236\n",
       "##### [4] [\"Legal implications of not paying a contractor during probation period in a startup\"](https://www.reddit.com/r/legaladvice/comments/7sbd0a/is_this_legal_to_do_paying_contractors_in_my/) - HI, 2018-01-23, Number: 906\n"
      ],
      "text/plain": [
       "<IPython.core.display.Markdown object>"
      ]
     },
     "execution_count": 8,
     "metadata": {},
     "output_type": "execute_result"
    }
   ],
   "source": [
    "Markdown(f\"{result_gpt_4}\")"
   ]
  },
  {
   "cell_type": "code",
   "execution_count": 10,
   "metadata": {},
   "outputs": [],
   "source": [
    "import pandas as pd"
   ]
  },
  {
   "cell_type": "code",
   "execution_count": 11,
   "metadata": {},
   "outputs": [],
   "source": [
    "import openai\n",
    "import langchain\n",
    "from langchain.chat_models import ChatOpenAI\n",
    "from langchain.document_loaders import TextLoader\n",
    "from langchain.embeddings.openai import OpenAIEmbeddings\n",
    "from langchain.text_splitter import CharacterTextSplitter\n",
    "from langchain.vectorstores import FAISS"
   ]
  },
  {
   "cell_type": "code",
   "execution_count": null,
   "metadata": {},
   "outputs": [],
   "source": []
  },
  {
   "cell_type": "code",
   "execution_count": 12,
   "metadata": {},
   "outputs": [
    {
     "name": "stdout",
     "output_type": "stream",
     "text": [
      "(5000, 16)\n"
     ]
    },
    {
     "data": {
      "text/html": [
       "<div>\n",
       "<style scoped>\n",
       "    .dataframe tbody tr th:only-of-type {\n",
       "        vertical-align: middle;\n",
       "    }\n",
       "\n",
       "    .dataframe tbody tr th {\n",
       "        vertical-align: top;\n",
       "    }\n",
       "\n",
       "    .dataframe thead th {\n",
       "        text-align: right;\n",
       "    }\n",
       "</style>\n",
       "<table border=\"1\" class=\"dataframe\">\n",
       "  <thead>\n",
       "    <tr style=\"text-align: right;\">\n",
       "      <th></th>\n",
       "      <th>index</th>\n",
       "      <th>created_utc</th>\n",
       "      <th>full_link</th>\n",
       "      <th>id</th>\n",
       "      <th>body</th>\n",
       "      <th>title</th>\n",
       "      <th>text_label</th>\n",
       "      <th>flair_label</th>\n",
       "      <th>embeddings</th>\n",
       "      <th>token_count</th>\n",
       "      <th>llm_title</th>\n",
       "      <th>State</th>\n",
       "      <th>kmeans_label</th>\n",
       "      <th>topic_title</th>\n",
       "      <th>timestamp</th>\n",
       "      <th>datestamp</th>\n",
       "    </tr>\n",
       "  </thead>\n",
       "  <tbody>\n",
       "    <tr>\n",
       "      <th>1078</th>\n",
       "      <td>1078</td>\n",
       "      <td>1575952538</td>\n",
       "      <td>https://www.reddit.com/r/legaladvice/comments/...</td>\n",
       "      <td>e8lsen</td>\n",
       "      <td>I applied for a job and after two interviews I...</td>\n",
       "      <td>Failed a drug test due to amphetamines, I have...</td>\n",
       "      <td>employment</td>\n",
       "      <td>5</td>\n",
       "      <td>[9.475638042064453e-05, 0.0005111666301983955,...</td>\n",
       "      <td>493</td>\n",
       "      <td>\"Validity of Schedule II Drug Prescription in ...</td>\n",
       "      <td>PR</td>\n",
       "      <td>8</td>\n",
       "      <td>Employment Legal Concerns and Issues</td>\n",
       "      <td>2019-12-10 04:35:38</td>\n",
       "      <td>2019-12-10</td>\n",
       "    </tr>\n",
       "  </tbody>\n",
       "</table>\n",
       "</div>"
      ],
      "text/plain": [
       "      index  created_utc                                          full_link  \\\n",
       "1078   1078   1575952538  https://www.reddit.com/r/legaladvice/comments/...   \n",
       "\n",
       "          id                                               body  \\\n",
       "1078  e8lsen  I applied for a job and after two interviews I...   \n",
       "\n",
       "                                                  title  text_label  \\\n",
       "1078  Failed a drug test due to amphetamines, I have...  employment   \n",
       "\n",
       "      flair_label                                         embeddings  \\\n",
       "1078            5  [9.475638042064453e-05, 0.0005111666301983955,...   \n",
       "\n",
       "      token_count                                          llm_title State  \\\n",
       "1078          493  \"Validity of Schedule II Drug Prescription in ...    PR   \n",
       "\n",
       "      kmeans_label                           topic_title           timestamp  \\\n",
       "1078             8  Employment Legal Concerns and Issues 2019-12-10 04:35:38   \n",
       "\n",
       "       datestamp  \n",
       "1078  2019-12-10  "
      ]
     },
     "execution_count": 12,
     "metadata": {},
     "output_type": "execute_result"
    }
   ],
   "source": [
    "df = pd.read_parquet(\"reddit_legal_cluster_test_results.parquet\")\n",
    "df['timestamp'] = pd.to_datetime(df['created_utc'], unit='s')\n",
    "df['datestamp'] = df['timestamp'].dt.date\n",
    "print(df.shape)\n",
    "df.head(1)"
   ]
  },
  {
   "cell_type": "code",
   "execution_count": null,
   "metadata": {},
   "outputs": [],
   "source": [
    "# Maunually get list of text & embedding pairs, and metadata dicts\n",
    "metadatas = []\n",
    "for i, row in df.iterrows():\n",
    "        metadata={\"id_\": row[\"id\"],\n",
    "                  \"URL\": row['full_link'],\n",
    "                  \"topic_title\": row['topic_title'],\n",
    "                  \"case_title\": row['llm_title'],\n",
    "                  \"text_label\": row['text_label'],\n",
    "                  \"state\": row['State'],\n",
    "                  \"date\": str(row['datestamp'])}\n",
    "        metadatas.append(metadata)\n",
    "\n",
    "embeddings = OpenAIEmbeddings()\n",
    "text_embeddings = df['embeddings'].tolist()\n",
    "texts = df['body'].tolist()\n",
    "ids = df['id'].tolist()\n",
    "text_embedding_pairs = list(zip(texts, text_embeddings))\n",
    "id_to_text_map = list(zip(ids, texts))\n",
    "lc_faiss_index = FAISS.from_embeddings(text_embedding_pairs, embeddings, metadatas=metadatas, ids=ids)"
   ]
  },
  {
   "cell_type": "code",
   "execution_count": null,
   "metadata": {},
   "outputs": [],
   "source": [
    "lc_faiss_index.save_local(\"lc_faiss_index\")"
   ]
  },
  {
   "cell_type": "code",
   "execution_count": 13,
   "metadata": {},
   "outputs": [],
   "source": [
    "import llama_index"
   ]
  },
  {
   "cell_type": "code",
   "execution_count": 14,
   "metadata": {},
   "outputs": [],
   "source": [
    "nodes = []\n",
    "for i, row in df.iterrows():\n",
    "    node = llama_index.schema.TextNode(\n",
    "        embedding=row['embeddings'].tolist(),\n",
    "        id_=row['index'],\n",
    "        metadata={\"URL\": row['full_link'],\n",
    "                    \"topic_title\": row['topic_title'],\n",
    "                    \"case_title\": row['llm_title'],\n",
    "                    \"state\": row['State'],\n",
    "                    \"date\": str(row['datestamp'])},\n",
    "        text=row['body'],\n",
    "        excluded_embed_metadata_keys=['source', 'state', 'date'],\n",
    "        lookup_index=i,\n",
    "    )\n",
    "    nodes.append(node)"
   ]
  },
  {
   "cell_type": "code",
   "execution_count": 15,
   "metadata": {},
   "outputs": [],
   "source": [
    "from llama_index import VectorStoreIndex, ServiceContext\n",
    "\n",
    "llm = ChatOpenAI(temperature=0.0, model=\"gpt-3.5-turbo\")\n",
    "service_context = ServiceContext.from_defaults(llm=llm, chunk_size=1024)"
   ]
  },
  {
   "cell_type": "code",
   "execution_count": 16,
   "metadata": {},
   "outputs": [],
   "source": [
    "index = VectorStoreIndex(nodes, service_context=service_context)"
   ]
  },
  {
   "cell_type": "code",
   "execution_count": 17,
   "metadata": {},
   "outputs": [
    {
     "name": "stdout",
     "output_type": "stream",
     "text": [
      "[NodeWithScore(node=TextNode(id_='8627', embedding=[0.010599094232140971, -0.01940659953784975, -0.022989777390714138, -0.03837555943072418, 0.008253617047960292, 0.022292289439365356, -0.0248771006879766, 3.5766602393381734e-05, 0.012951409186528432, -0.03161949228914361, 0.047620705312730834, -0.004328533455289576, -0.004444781602401465, 0.0005312368633700117, 0.006482542829132275, -0.006352618675945547, 0.023837705599837652, 0.005299547116070486, -0.0019471562312935032, 1.260111614495689e-05, -0.029103062467890402, -0.004964479146470936, 0.020733195875834387, -0.01544048699563196, -0.016671349894108883, -0.018873225522044162, 0.017710744982247825, -0.003603692094807284, 0.005873949615761873, -0.02252478480226658, 0.03421797907816841, -0.0024429202990707273, -0.00019285649958059422, -0.020459672029047367, -0.025205330421708087, -0.0012428293455847487, 0.012219730521500638, 0.014442120391378814, 0.02404284801926664, 0.0015283210364634273, 0.019912620610183104, 0.0037814834334091467, -0.026723393638708147, -0.018134709086809586, 0.013224934895960565, 0.014455796863114932, -0.023550504349991962, -0.017327809361571866, -0.0012120577498397618, 0.01940659953784975, 0.011850471372560794, 0.023741971229007387, -0.013970290032724477, -0.0030087751203423593, -0.0073920137640844895, 0.011905176328182708, -0.024589899438130905, 0.008103178652830664, 0.010687989901441904, -0.016575615523278617, 0.02241537489102275, 0.024056525422325316, -0.009976824547034451, -0.017095313998670644, 0.006913344703900815, 0.005945749928223296, -0.02301713033418637, -0.007309955864990339, -0.010544389276519057, -0.001907836957128762, 0.031537435321372015, 0.018722787126914536, 0.008164721378659359, 0.016466205612034785, 0.019365571053963953, -0.0040926182759624076, -0.01724575239380027, -0.01799794623209352, -0.013867717891687429, -0.010968353381080816, -0.0023437675087983464, -0.01328647762178926, -0.025123273453936494, 0.0040926182759624076, 0.007050107092955603, 0.019338218110491717, 0.001639440623089592, 0.009928958292941872, -0.020637463367649232, -0.03192036907940286, -0.013122362754923515, 0.021225541407754178, 0.009074192313611574, 0.010701666373178022, -0.016575615523278617, -0.0023540246297697955, -0.011002544094759831, 0.009381907805400165, 0.009286174365892453, -0.006198760464389973, 0.006810773028525044, 0.006096188789014201, -0.03782850801185992, -0.013703603024821683, -0.049836258343724786, 0.005121755777468623, 0.026901184977310012, 0.0026566117939033017, 0.029950988814368806, -0.015276372128766215, 0.009867414635790621, 0.020172470779201673, -0.014414768379229136, -0.01113246824794656, -0.0175603065871182, -0.012288111017536114, -0.004984993388413835, -0.016794435345766277, 0.001132564480234432, 0.007713405261947921, 0.018216766054581182, 0.020172470779201673, -0.00900581088625354, -0.017437219272815694, 0.02164950551231594, 0.011091439764060764, -0.0036481399294577494, -0.013231772666167346, 0.006431256758613751, -0.02478136631714633, -0.0124385503439883, 0.0124385503439883, 0.019324542570078155, 0.0030617706334125794, -0.03766439407631673, -0.01083159052636475, -0.03394445336873628, -0.0013428368571329773, -0.02173156248008753, -0.01654826257980638, 0.004998669860149953, 0.008834858249181015, 0.01218553980782162, 0.03282300317547085, -0.009737490482603892, 0.019488656505621347, 0.000588078796804525, -0.03175625514385967, -0.00203434234162742, -0.0025933591598616326, -0.011166658961625577, 0.005744025462575144, -0.005477338454672349, -0.009580213385944928, 0.0061611508656075654, 0.007248413139161643, 0.00770656749174114, 0.010113587401750517, 0.023400065954862333, -0.02967746496758179, -0.003188275901495918, -0.01059225646193419, 0.006321846847369921, 0.00642783787351036, -0.004943964438866759, 0.019857916585883744, 0.02844660113778231, 0.0023283815945105333, 0.0009812710145829984, 0.01350529744427692, 0.010448655837011345, 0.01712266694214288, -0.02720206363021438, 0.006848382627307451, 0.00015887956808394423, 0.01617900436218909, -0.004219123544045746, 0.0020223755452736364, -0.023782999712893185, -0.01842191033665528, 0.016685025434522445, 0.023646236858177117, 0.023851381140251215, 0.034819736383977146, -0.023741971229007387, -0.007672376778062124, 0.01859970167525714, -0.026914862380368686, -0.02188200087521716, -0.023318007124445626, -0.0022121336802292833, -0.0006474850104819008, -0.0003079293467305331, -0.007638186064383107, -0.6214488621090696, -0.02371461828553515, 0.003952436536142951, -0.01940659953784975, -0.017013255168253937, 0.03862173405932919, 0.005744025462575144, -0.0079253873142288, -0.03927819352679217, 0.024289020785226538, 0.003990046134925358, 0.007344146578669355, -0.0012462483471034588, -0.02915776649218976, 0.014236977040627272, -0.005207232561666164, 0.02623104996943347, -0.03870379102710078, -0.005525205174426205, -0.011905176328182708, -0.018025299175565754, 0.010899971953722783, -0.012732589364040772, -0.015249020116616534, -0.007898035302079122, 0.01671237837799468, 0.0046636014248891255, 0.004776430686897624, 0.01393609931904546, 0.03263153443381032, -0.014373739895343338, 0.02397446845455372, -0.0028053409793118733, -0.009354555793250487, 0.04622572941003328, 0.014455796863114932, -0.0011376931571354762, 0.01814838462722315, -0.00975116695434001, 0.060011389402626555, -0.03487443854563139, -0.0050841461786862155, 0.025451503187667982, 0.01530372507223845, -0.009040001599932557, 0.013053981327565483, 0.03517531533589065, 0.009149411511176387, -0.003952436536142951, -0.0015924285081962636, -0.01578239320109957, -0.001714659937069725, -0.008103178652830664, -0.015700336233327974, 0.023591532833877757, -0.019488656505621347, -0.005473919569568959, -0.007576642872893133, 0.02850130702472678, 0.01544048699563196, -0.01457888324609488, 0.009874253337319958, -0.021389655343297367, -0.004619153590238659, -0.02149906711718631, -0.008643390438843034, -0.0029421033683666607, -0.016507234095920583, 0.004786687807869073, -0.002966036961074228, 0.010017853962242805, 0.02096569310138072, -0.0188595499816306, -0.006044902718495677, -0.013224934895960565, 0.02872012684721444, 0.023235950156674033, -0.03801997675352045, -0.016685025434522445, 0.011248715929397171, 0.02830983828306624, -0.02173156248008753, -0.01957071533603805, 0.005340576065617561, 0.025260034446007447, 0.0008838277250699725, 0.0005149963442216706, -0.025027539083106225, -0.012889866460699737, -0.0022993196741478805, -0.008691257624258169, 0.04080993228420579, -0.00032566571542309717, -0.024316373728698774, -0.01230862619080157, 0.010216159542787566, -0.00621585582122948, 0.014496826278323285, 0.01859970167525714, -0.031345966579711476, -0.016917522660068778, -0.013320668335468277, 0.013539488157955937, -0.02899365255664657, 0.029513349169393487, -0.007262089145236483, -0.0024053107002883203, 0.013409564004769208, 0.040727875316434195, -0.035257376028952465, -0.011679517804165712, -0.011823118429088559, -0.014893437439412809, 0.004858488120330497, 0.01697222668436814, -0.04573338387811349, -5.566661528266949e-05, -0.013539488157955937, -0.0007162936238548782, -0.010113587401750517, 0.005231166154373731, 0.023523151406519727, 0.01768339203877559, 0.006892830461957916, -0.00015791796299287087, 0.006738972716063621, 0.010120425171957298, -0.009922119591412535, 0.007898035302079122, 0.014086538645497644, -0.005603843722755688, -0.015399458511746162, 0.005829501781111406, -0.02699691934814028, -0.010708504143384801, 0.00019104012955792842, 0.003436158110007509, -0.008116855124566781, -0.013047143557358701, -0.014373739895343338, -0.01909204534453182, -0.0171910465068558, 0.013813012936065513, -0.007836491644927869, -0.01277361784792657, -0.014305358467985304, -0.0011462407191399108, 0.00899897311604676, -0.005832921131876075, 0.012917218472849417, -0.005094403299657665, -0.01928351408619236, 0.026723393638708147, 0.002651483233417577, -0.007699729255873081, -0.011679517804165712, 0.020418641682516458, -0.03635147514139077, -0.00824677927775351, -0.04792158210299009, 0.014319034939721422, 0.004037912854679214, -0.0233316845275043, 0.006588533855272715, -0.014934465923298607, -0.019680125247281882, -0.0022668386358511983, 0.019639096763396084, -0.007173193475935551, -0.020158793376143, -0.018339851506238573, -0.005343994950720952, 0.0030361275981533173, 0.028747479790686675, 0.0058944643233660495, 0.008130530664980344, 0.027776466129905766, 0.002682254596331925, -0.025506207211967342, 0.0020907567398010304, 0.007521937917271218, -0.009764843426076128, -0.003566082496024877, -0.008657066910579152, 0.03260418335298319, -0.009716976240660993, 0.012465902356137978, 0.02037761319863066, -0.007433042247970287, 0.023960791051495046, -0.003955855421246341, 0.012917218472849417, -0.010681152131235123, 0.01178208994520276, 0.004988412273517226, 0.01972115373116768, 0.010216159542787566, 0.004800363813943913, -0.010387112179860093, 0.01230862619080157, 0.02624472550984703, -0.01563195480596994, 0.009662271285039077, -0.02106142560956588, 0.008629713967106916, -0.033971808174853624, 0.018531320247899108, -0.01922880819924789, 0.017382515248516337, -0.018312500425411448, 0.0023454769513500413, -0.0018394557626013682, -0.0002009767737066797, -0.0024480488595564516, 0.014195948556741474, 0.018175737570695384, -0.009573375615738147, 0.0060996076741175916, -0.013293315391996042, 0.02311286470501664, 0.0038019976753520457, -0.0011317097589585844, 0.01773809792572006, -0.018941606949402195, 0.004219123544045746, 0.015002847350656639, -0.007788624925174013, 0.01040078865159621, 0.015973860080114994, -0.031209203724995412, -0.01083159052636475, 0.01864073015914294, -0.0012650531464946622, 0.0008898110650392045, 0.05826082709743505, 0.009826386151904823, 0.009621242801153281, -0.011583784364658, 0.03323328801432882, -0.015057552306278555, 0.005706415863792736, 0.023509475866106164, 0.009074192313611574, -0.010817914054628633, 0.009251983652213436, 0.017314133821158303, 0.04261519675105155, 0.016110622934831058, 0.009012649587782877, 0.044311053169298585, -0.019652772303809646, 0.025082243107405585, -0.016329442757318718, -0.004150742116687713, 0.014811379540318659, -0.02651825121927916, -0.025875467292229743, 0.008643390438843034, 0.0050294412230643005, 0.03714469746356981, -0.0006556052700560713, -0.015290048600502332, 0.016903845257010105, -0.020363937658217098, 0.010366597937917194, 0.015823421684985364, -0.005627777315463254, -0.015290048600502332, 0.009135735970762825, -0.0122334060619142, -0.0018121032847904107, 0.0011496598370739403, -0.011720547219374065, 0.012992438601736786, 0.01457888324609488, 0.008910077446745828, 0.0031318615033223076, -0.012411197400516064, 0.007747595975626937, 0.03416327319122394, -0.0020463091379812038, -0.015919156055815634, 0.006120122381721768, -0.0008641680879876019, -0.010961514679551478, 0.001300953302725374, -0.0039182458224639345, 0.021977735246047427, 0.02004938346489917, 0.01783383043390522, -0.005726930105735635, 0.0001963824140183598, 0.006414161401774242, -0.001175302755917883, 0.023960791051495046, 0.0055559770030018316, 0.028036314436279224, -0.007132164992049754, -0.03271359140158191, -0.018996312836346667, 0.025697675953627878, 0.005292708880202427, -0.02199141078646099, -0.03733616620523035, 0.033260642820446176, 0.029950988814368806, -0.00996998677682767, -0.009416098519079182, 0.007111650284445577, -0.02694221346119581, 0.02123921694816774, -0.006605629212112224, 0.004000303255896807, 0.005904721444337498, 0.029732168991881146, -0.028665420960269968, -0.010653799187762887, -0.022182879528121528, 0.03033392443504477, 0.04346312496017506, 0.005969683520930863, -0.022346993463664717, -0.04187668031581697, 0.005179880083855206, 0.10344715955668428, 0.0013599322139724855, -0.0056653869142456615, 0.00609276990391081, -0.010667475659499005, -0.004102875396933856, -0.005873949615761873, -0.035202670142007994, 0.03038862845934413, 0.008663904680785933, 0.04225961407384782, 0.0033096526090935314, 0.006509895306943233, 0.013771984452179715, -0.005491014926408467, -0.0008923753452820669, 0.013040304855829365, -0.006834706155571333, -0.006178246222447074, -0.009799034139755143, 0.0060722551963066345, 0.0033164908449615903, 0.012534283783496011, 0.03807468264046492, 0.0152216671731443, 0.028364544170010712, 0.04439311013707018, 0.00880750530570878, -0.011529079409036084, 0.00459522046319237, -0.01295824788805777, -0.017286780877686068, -0.012240244763443537, 0.025232683365180322, 0.006656915282630748, 0.020240850343914596, 0.015317400612652013, 0.025355768816837716, 0.02474033783326053, 0.009142573740969606, 0.02651825121927916, 0.019242485602306562, -0.003552406257119398, -0.018038974715979317, -0.013183905480752212, -0.01708163659561197, -0.022237583552420885, 0.021403332746356044, 0.000994947253488477, -0.002983132317913736, 0.02118451292386838, -0.0058944643233660495, -0.031127146757223816, -0.005070470172611376, 0.003396838835842768, -0.028337191226538477, -0.012424873872252181, -0.00578163506135755, 0.003713102006051114, -0.011994071997483641, -0.026463545332334693, -0.04721041674858264, 0.018066327659451552, -0.002776278826118581, -0.006414161401774242, -0.02785852309767736, -0.009580213385944928, 0.008096340882623882, -0.0287748308715138, 0.0030566420729268547, 0.006899668697825975, -0.028200428371822413, -0.028337191226538477, -0.010352921466181076, 0.0175603065871182, 0.005634615551331313, 0.013443754718448225, 0.011836794900824676, 0.02195038230257519, -0.016137975878303294, 0.0014325872477097565, -0.03646088318998948, -0.003877217105747498, -0.02647722087274825, -0.013006114142150348, 0.0017462862540905597, 0.007009078609069806, 0.0038122550291541336, -0.003545568021251339, 0.02102039712568008, -0.0020069898638164626, -0.004810621400576641, -4.033425567981014e-05, -0.015276372128766215, 0.015249020116616534, 0.014510501818736848, 0.0025848114814418783, 0.024644603462430262, 0.026545602300106285, 0.0029181700084897327, -0.025615617123211174, -0.0233316845275043, -0.00182236040576186, -0.029403939258149655, 0.007330470572594516, -0.009183602224855404, -0.0008838277250699725, 0.012397520928779946, -0.020541728996818963, -0.025123273453936494, 0.021170835520809707, -0.003928502943435384, 0.012199215348235183, 0.003012194238276389, 0.012465902356137978, 0.03651558907693395, 0.006793677671685536, 0.0017625267732389008, 0.00697830678049418, 0.007980092269850716, -0.006523571778679351, -0.025519884615026016, 0.028036314436279224, 0.040153472816742815, -0.05440412726042876, 0.021786268367032003, 0.03711734638274269, -0.024179610873982706, -0.0017556886537861613, -0.009074192313611574, -0.020500700512933165, 0.036625000850822896, -0.016944875603541014, -0.02391976256760925, -0.03151008051525467, -0.016835463829652075, 0.009963149006620889, -0.005661968029142271, -0.007597157114836032, -0.00856133347107144, -0.008294646463168645, -0.005261937517288079, 0.013785660923915833, -0.018490291764013313, 0.022989777390714138, -0.03703528568968087, -0.007699729255873081, 0.02828248720223912, -0.008451922628505052, 0.043326362105459, -0.023865058543309888, 0.017601335071003997, -0.01325912560963958, -0.01617900436218909, -0.0036310445726182414, -0.04726512263552711, -0.009156250212705724, -0.01984423918282507, 0.014086538645497644, 0.009053678071668675, 0.02349579846304749, 0.0009693042764368745, 0.02791322712197672, 0.005166203612119088, 0.021102454093451677, 0.007836491644927869, 0.012089805436991353, -0.008253617047960292, -0.03733616620523035, 0.0063628757969169955, 0.018216766054581182, 0.028665420960269968, 0.023140215785843764, -0.023673589801649353, 0.02084260578707822, 0.01425065351236339, -0.01071534284491414, 0.0032412714145661375, -0.019324542570078155, -0.026655012211350117, -0.009566537845531365, 0.0033404242048385184, -0.004349047697232475, 0.005125175128233291, -0.011194010973775257, 0.006479123944028885, 0.03558560390003884, -0.0030720277543840285, 0.020774224359720185, 0.008657066910579152, -0.004649925418814285, 0.003135280388425698, 0.015317400612652013, -0.01643885266856255, 0.035640309786983314, -0.009197278696591522, 0.0007038995250708306, -0.028145724347523052, -0.009265660123949554, -0.0003299395546329742, 0.03566766086781044, 0.016083271854003937, 0.02030923177127263, 0.015153285745786267, -0.035804423722526506, 0.03673440889942162, -0.008862210261330694, -0.005812406424271898, 0.0019249323139682703, -0.010770047800536054, -0.017437219272815694, -0.03306917407878564, -0.0048995170698775715, 0.00772024349781598, 0.004564448634616744, -0.001464213564730591, 0.006068836311203244, 4.156297935947957e-05, -0.011522241638829303, -0.035695015673927785, 0.017902211861263253, -0.00813736936650968, 0.02441210809952904, 0.005911559214544279, 0.017861183377377455, 0.025287387389479683, 0.021143484439982586, -0.007022754615144645, -0.028638069879442844, 0.0030771565477003926, 0.023851381140251215, 0.03099038390250775, 0.020445994625988693, -0.02970481604840891, -0.040673169429489724, 0.018285147481939212, -0.010646961417556106, -0.02701059488855384, -0.024644603462430262, 0.010667475659499005, 0.0275986747913039, -0.007419366241895447, 0.0005966264170166194, -0.006550924256490309, -0.027448234533529164, 0.01220605404976452, 0.0018633891224782964, -0.0017813316890454237, -0.021403332746356044, -0.026627661130522992, -0.010927323965872463, 0.025191654881294524, 0.01212399615067037, 0.035640309786983314, 0.02683280354995198, -0.006677429524573647, -0.012718912892304654, -0.016452530071621223, -0.030853621047791685, 0.03312387996573011, 0.0216631810527295, 0.0043114380984500674, -0.0033609386796120562, 0.019967326497127576, 0.01341640177497599, 0.000620559893308867, -0.027516615960887194, -0.004885840598141455, 0.008520304055863086, 0.030060398725612638, -0.02252478480226658, 0.006848382627307451, -0.014264329984099508, -0.01427800552451307, 0.0021540096066733384, 0.031728900337742325, 0.008116855124566781, -0.034901793351748735, 0.0022685480784028936, -0.013026629315415802, 0.01638414864426319, -0.0024241154996795236, -0.019967326497127576, 0.011980395525747523, 0.007097974278370737, -0.024220639357868504, 0.01341640177497599, 0.014524178290472966, -0.006988564367126907, -0.0021522999312910043, 0.013642060298992986, 0.003576339616996326, -0.012445388114195079, -0.015262695657030097, 0.013012952843679685, 0.022456403374908545, 0.017847507836963893, -0.007453556489913186, -0.016425177128148987, 0.0033677766826494763, 0.005473919569568959, 0.005343994950720952, -0.026463545332334693, 0.003966112542217791, -0.02025452774697327, -0.02413858239009691, 0.013354859049147294, -0.023194921672788235, 0.010523875034576158, -0.019584390876451613, 0.005730348990839026, 0.006899668697825975, 0.0017129503781027104, 0.008841696019387795, -0.0030857039932895075, -0.0014334420854009236, 0.009313526378042133, -0.011488050925150288, -0.019338218110491717, 0.017314133821158303, -0.0016300381069786706, -0.010216159542787566, 0.004273828499667661, 0.025615617123211174, 0.010646961417556106, -0.027803817210732888, 0.007638186064383107, -0.010927323965872463, -0.022565813286152377, -0.027188386227155706, 0.0016770502218719987, -0.0022941911136621558, -0.022866691939056744, -0.01768339203877559, -0.026504573816220487, -0.011111954006003663, -0.01115982026009624, -0.0022736766388886183, -0.02155377114148567, -0.001791588810016873, 0.009163087982912505, 0.04619837460391593, 0.013348020347617956, 0.013149714767073195, -0.01647988301509346, -0.0006479123711198246, -0.04130227781612558, -0.012520607311759894, -0.043873413524323265, 0.02554723569585314, -0.02058275748070476, 0.05470500405068801, 0.00017693650091069597, -0.024439461043001275, -0.026121638195544528, -0.0027557645841756826, -0.048413927634909884, -0.010797399812685734, -0.009600727627887827, 0.01627473873301936, 0.03224860067577946, -0.003528472664411831, -0.008479275571977288, 0.025683998550569204, 0.018572348731784906, 0.005073889057714767, 0.011611137308130235, -0.02195038230257519, 0.017956917748207724, -0.023618885777349993, -0.009593889857681046, -0.011966719054011405, -0.023413741495275895, -0.017874858917791017, 0.027516615960887194, 0.020172470779201673, 0.010455493607218124, 0.03323328801432882, 0.010168292357372431, -0.018517642844840435, -0.007952740257701036, -0.006773163429742637, -0.012609502981060824, 0.0030532229549928252, -0.0006940697065296453, -0.0306074501444769, -0.014428444850965253, 0.006198760464389973, -0.008315160705111544, 0.00041904887514903775, -0.01944762802173555, 0.010407626421802992, -0.01631576721690516, -0.005477338454672349, -0.001844584323087093, -0.00019371126451218665, -0.0030412561586390416, -0.013183905480752212, 0.023646236858177117, -0.001883903597251834, 0.0037712260796070583, 0.006321846847369921, 0.01724575239380027, -0.005569653009076671, -0.02806366737975146, 0.00208733785469764, 0.001521482917010688, -0.0019027083966430376, 0.022346993463664717, -0.024316373728698774, -0.00429776162671395, -0.0013496749765857167, 0.008096340882623882, -0.024904453631448834, -0.029950988814368806, 0.0021625570522624538, -0.00012939015611613324, 0.009874253337319958, 0.009108383027290591, -0.0005808132585062021, -0.02230596497977892, 0.012862513517227501, -0.0175192781032324, 0.012910380702642636, -0.01638414864426319, -0.04338106799240347, -0.017902211861263253, -0.023741971229007387, 0.006950954302683222, 0.01777912640960586, -0.006301332605427022, -0.024398430696470366, 0.020993044182207845, 0.005648291557406153, 0.005487595575643798, 0.013320668335468277, 0.21903883975052993, 0.0042362189008852535, 0.009949472534884771, 0.009833223922111604, 0.025697675953627878, 0.030087751669084874, 0.031209203724995412, -0.0011470955568310779, 0.00014018156519647693, -0.002504463490560701, -0.0042293806650171946, 0.02732514908187177, -0.012999276371943567, 0.0025249777325035997, -0.010749533558593155, -0.00439007664677955, -0.022292289439365356, -0.02828248720223912, -0.023454769979161693, 0.022647872116569084, 0.019379246594377515, 0.006817610798731825, 0.016671349894108883, -0.021581124084957905, 0.005183298968958597, 0.013231772666167346, -0.011508565167093185, 0.01816206016763671, -0.000745783079478434, 0.010243511554937246, -0.012158186864349387, 8.830797566421162e-05, 0.02003570792448561, 0.007562966866818293, -0.012725751593833991, 0.0013265963379846361, 0.014127567129383442, -0.02437107961564324, 0.013040304855829365, 0.011016219635173394, 0.014633588201716796, 0.013594193113577853, -0.03372563354624862, -0.0002175378715411234, 0.02710632925938411, 0.01230862619080157, -0.027680731759075497, -0.006821030149496493, -0.00784332941513465, 0.00675264872213846, -0.03832085354377971, -0.020883634270964013, 0.04329901102463188, 0.015344753556124248, -0.018996312836346667, 0.0007445008811493431, 0.003460091469884437, 0.004492648322155321, -0.011139306018153342, 0.011207687445511375, -0.019926298013241778, 0.012999276371943567, 0.0023044482346336053, 0.03465561872314373, -0.008342512717261222, 0.005969683520930863, 0.016903845257010105, 0.0025472016498288325, 0.007166355240067492, -0.016903845257010105, -0.0005842323182325719, -0.006379971153756504, 0.010571742219991293, 0.003743873601796101, -0.005569653009076671, -0.025601941582797612, -0.0021557190492250337, 0.024439461043001275, 0.043189599250742935, 0.006287656133690904, -0.011959881283804624, 0.00482429740665148, 0.011522241638829303, 0.005846597137950915, -0.03295976603018692, 0.002535235086305688, 0.03553089801309437, 0.002995098881436881, -0.008445084858298271, 0.005925235686280397, -0.012807808561605587, -0.01404550923028929, -0.025533560155439578, -0.0024360820632026684, -0.004301180977478618, 0.0184492614174824, 0.030935679878208392, 0.0336162254976499, 0.012390683158573165, -0.01113246824794656, -0.009272497894156335, 0.03982524122036621, 0.007884358830343004, -0.0016471334638181788, -0.022059792213819023, 0.005702996513028068, 0.0024309535027169436, 0.020541728996818963, 0.005002088745253343, -0.006315008611501862, -0.005904721444337498, -0.015659307749442176, 0.02272992908434068, -0.0018257795236958894, 0.01876381561080033, 0.020295556230859067, -0.00043229775341659273, -0.01940659953784975, 0.010134101643693416, 0.002921589126423762, 0.00802795945526585, -0.021034074528738754, -0.006246627649805107, -0.012212891819971301, 0.0007111650633691536, -0.03249477157909425, -0.019420276940908424, -0.013587355343371072, -0.000974432895130259, -0.013382211061296972, 0.012582150968911144, -0.018175737570695384, 0.009265660123949554, -0.023796677115951858, 0.009846900393847722, -0.0014026704896559366, 0.03788321389880439, -0.009169925753119286, 0.00964175704309618, 0.01415491914153312, -0.003996884370793417, 0.0063628757969169955, -0.01404550923028929, -0.010305055212088498, 0.003675492407268707, -0.03282300317547085, 0.005925235686280397, 0.0028497888139623387, 0.029841578903124978, -0.00932036507957147, -0.0027540549087933484, 0.005402119257107535, -0.007330470572594516, -0.013272801150053143, 0.015235343644880418, 0.007993768741586834, 0.0019198037534825458, -0.024658280865488935, -0.029294529346905827, 0.009067354543404793, -0.031482729434427544, 0.01917410417494853, 0.013163391238809313, 0.0016924360197444921, -0.020008354981013374, -0.001378737013363689, -0.17363367629292237, 0.022702576140868444, 0.014565206774358762, -0.03350681372376096, 0.04338106799240347, 0.010612770703877089, -0.004041332205443882, 0.008116855124566781, -0.017532953643645963, -0.004342209461364416, 0.012828322803548484, -0.023673589801649353, -0.005330318944646112, -0.020295556230859067, 0.009169925753119286, 0.018189413111108946, -0.021977735246047427, 0.01572768917680021, 0.019912620610183104, 0.012028262711162658, 0.022223908012007326, -0.017067961055198408, -0.006468866823057436, -0.00028741495926848506, 0.023728295688593824, -0.011501727396886405, -0.01891425400592996, 0.022606841770038175, -0.0009351136209655178, -0.024330049269112333, -0.002142042810319555, -0.021758915423559767, 0.031072442732924456, -0.0074672329616493035, 0.020158793376143, -0.02065113890806279, 0.016630321410223088, 0.0067423916011670115, -0.007173193475935551, 0.015317400612652013, -0.003207080700887121, 0.007268927381104542, -0.012267596775593217, -0.019734829271581242, 0.0006372278313027917, 0.03339740567516224, 0.023276978640559828, 0.00012746693138207155, 0.005132012898440072, -0.018038974715979317, 0.015112257261900469, -0.02348212292263393, 0.010469170078954242, -0.0002203158466548626, -0.0010265735705093117, 0.007857005886870768, 0.017628688014476233, -0.006061998075335185, 0.005658548678377603, -0.01363522159746365, -0.014879760967676691, -0.01939292399743619, 0.00964859481330296, 0.017314133821158303, -0.021758915423559767, -0.030798917023492325, -0.003897731580521036, 0.0023078673525676347, -0.04236902584773676, 0.010031530433978923, 0.010441817135482007, -0.014701969629074827, -0.007063783564691721, -0.00919044092638474, -0.007248413139161643, -0.0030993802321949864, -0.03419062799734129, -0.01816206016763671, 0.006499638185971783, 0.0008231393712711656, -0.014770351056432861, 0.013566841101428173, -0.03192036907940286, -0.014537854762209083, 0.002241195600591936, 0.008328837176847662, -0.004044751090547273, 0.02623104996943347, -0.00986057686558384, -0.01202142400963332, 0.024808719260618565, -0.015563573378611908, -0.004031075084472433, 0.006065417426099853, 0.025670323010155646, 0.012165024634556166, 0.03558560390003884, -0.014018157218139612, -0.011549593650978983, -0.008287807761639308, 0.026490898275806925, -0.012828322803548484, -0.029568055056337958, 0.020022030521426936, 0.026490898275806925, -0.0006731279875335034, 0.0042567331428281525, 0.03276829728852638, 0.003143828066845452, -0.009122059499026707, -0.008390379902676357, 0.021704209536615296, 0.01961174381992385, 0.012910380702642636, 0.014223300568891154, 0.022811986052112272, -0.0011770123148848977, -0.02236067086672339, 0.009074192313611574, 0.010113587401750517, 0.031154499700696052, 0.02241537489102275, -0.014647264673452913, 0.001112904959567381, 0.001594992788439126, 0.01724575239380027, -0.12341448419116674, -0.025793408461813036, 0.004308019213346677, 0.016069594450945263, -0.0060312267124208365, 0.03878584799487238, 0.012322301731215131, 0.017847507836963893, -0.01637047310384963, 0.022333317923251154, -0.018531320247899108, -0.029595406137165083, -0.00823994150754673, 0.013026629315415802, -0.0037233593598532022, -0.02231964052019248, -0.016261061329960688, 0.009381907805400165, -0.0067218773592241125, 0.01671237837799468, -0.010544389276519057, -0.008691257624258169, -0.010633284945819988, -0.0016591001437566428, -0.01295824788805777, 0.014428444850965253, -0.034409447819828944, 0.004851649884462438, 0.011884662086239811, -0.0015231924759777026, 0.0015505449537886603, -0.010455493607218124, 0.019734829271581242, -0.01234281597315803, 0.004933707317895311, -0.014647264673452913, -0.03416327319122394, -0.02048702310987449, 0.024754013373674093, -0.022894043019883868, 0.019557037932979377, -0.0023796676650290577, -0.0039626936571144, -0.016288414273432923, -0.003890893344652977, 0.004099456046169188, -0.025424150244195746, 0.026586630783992083, 0.028966299613174335, -0.030033047644785513, -0.040317586752286, -0.03523002122283512, -0.01071534284491414, -0.026436192388862457, 0.027926904525035393, -0.01155643235250832, -0.004998669860149953, 0.01715001802297, -0.020678491851535027, 0.013471106730597905, -0.0032190474972409048, 0.02058275748070476, -0.020117764892257202, -0.005484176690540408, 0.03410857102956969, -0.004434524481430015, -0.007727081733684039, -0.03317858585267458, 0.0053884427853714174, -0.023646236858177117, -0.028856889701930507, 0.022114498100763495, -0.025451503187667982, 0.0046088964692672105, -0.032467420498267126, -0.009443451462551418, -0.014729322572547063, -0.022388021947550515, 0.023550504349991962, -0.000701762605465892, -0.0020172469847879117, -0.03306917407878564, 0.0013898489720263053, -0.02267522319739621, 0.02415225979315558, 0.017751773466133623, 0.01702693257131261, -0.014496826278323285, -0.008629713967106916, -0.020952015698322047, 0.004632830061974777, 0.004731982852247158, 0.015768717660686007, 0.0016120880288633148, 0.013758307980443597, -0.013696765254614902, -0.01647988301509346, 0.006479123944028885, -0.020363937658217098, 0.023741971229007387, -0.01757398212753176, -0.02078790176277886, -0.04844127871573701, 0.04286137137965656, -0.02915776649218976, 0.0022548718394974146, 0.015645630346383502, 0.012363331146423484, 0.003743873601796101, -0.0014625041221788958, 0.0001836677802039544, 0.002709607306973522, -0.01917410417494853, 0.010147778115429534, -0.025601941582797612, -0.016411501587735425, -0.02625840105026059, -0.007111650284445577, 0.020555404537232525, 0.0013496749765857167, 0.00547050021880429, 0.0054363095051252735, 0.006803934792656985, -0.007029592851012704, -0.005583329480812789, 0.024603574978544464, 0.008130530664980344, 0.010653799187762887, 0.011788928646732099, -0.0029694558461776186, -0.001220605428259516, -0.033014468191841166, 0.0035695013811282675, -0.018804844094686128, 0.00021871317150307364, 0.016411501587735425, -0.014975494407184403, -0.02106142560956588, -0.01842191033665528, 0.022237583552420885, 0.008862210261330694, 0.016630321410223088, -0.0160559189105317, -0.03337005086904489, 0.012219730521500638, -0.008725448337937184, 0.004790106692972464, -0.0006752649071384419, -0.015071228778014673, -0.00633210396834137, 0.028200428371822413, 0.0004590091611668347, 0.010428141595068446, 0.01446947333485105, -0.0388952560434711, -0.01935189551355039, -0.044256347282354114, -0.030087751669084874, 0.015508868422989992, -0.000753475920207021, -0.01675340686188048, -0.046335137458632, 0.018257794538466977, 0.004082360689329679, -0.013942938020574797, -0.012110319678934252, 0.002853207931896368, 0.0002228801560015548, -0.003928502943435384, 0.030005694701313278, 0.03295976603018692, -0.01427800552451307, -0.022114498100763495, -0.0024976252546926423, 0.0068791539902217985, -0.007898035302079122, 0.021266569891639976, -0.0007043269439164141, 0.02348212292263393, 0.01404550923028929, -0.017259427934213832, 0.04603426066837274, 0.028337191226538477, 0.0008355334700552132, -0.016137975878303294, 0.020117764892257202, 0.03966112728482302, 0.0005372202033392437, -0.007836491644927869, 0.004372981289940041, -0.02419328827704138, 0.017697069441834266, -0.011433345969528372, 0.014524178290472966, 0.007651862536119225, -0.017232076853386707, 0.030525391314060193, -0.0034566723519504077, -0.020063060867957845, 0.004701211023671532, 0.024644603462430262, -0.006694524881413155, 0.03342475675598936, -0.0006363730518192843, 0.005378185664399968, -0.03224860067577946, -0.019146751231476293, 0.011419669497792254, -0.03244006569214978, -0.026326782477618625, -0.007118488520313636, 0.0347103246100882, 0.01425065351236339, 0.024070200962738875, 0.0002728839408794989, -0.012137672622406488, -0.006509895306943233, 0.03181096103080414, -0.007487747203592202, -0.026053258630831605, -0.01972115373116768, 0.02809101846057858, 0.0009795614556159836, 0.0014625041221788958, -0.0152216671731443, -0.03339740567516224, 0.04209550013830463, 0.022811986052112272, -0.010414465123332328, -0.021485389714127636, 0.00041947626489079144, 0.0029181700084897327, 0.0017009836981642463, -0.0011385478784113239, 0.0016522620243039036, -0.019981002037541138, -0.013491620972540802, -0.04701895173221233, -0.019474980965207785, -0.001059909446497161, 0.009812709680168705, 0.04652660620029254, 0.008438247088091492, 0.0018274889662475847, -0.005309804237041935, 0.001586445110019372, -0.005114918007261842, 0.01928351408619236, -0.012199215348235183, 0.018339851506238573, -0.014647264673452913, 0.017724420522661388, 0.016958551143954576, 0.0017744935695926843, -0.0048995170698775715, 0.01234281597315803, -0.031728900337742325, 0.0019676705896517215, 0.008752800350086864, -0.018531320247899108, 0.01859970167525714, -0.007686052784136963, 0.029239823459961355, 0.0274755874770014, -0.0006825303872291051, -0.011481212223620951, 0.001955703793297938, 0.013245449137903462, -0.008930591688688727, -0.002966036961074228, -0.022552137745738814, -0.003559244260156818, 0.012794133021192025, -0.010086235389600837, -0.01051019856284004, 0.004345628812129084, 0.014100214185911206, 0.007535614389007336, 0.0063628757969169955, -0.024589899438130905, 0.04009876692979834, -0.003754130955598189, 0.007754434211494996, -0.033342699788217765, -0.027667056218661935, -0.012151349094142606, -0.0018121032847904107, -0.011994071997483641, 0.007241574903293584, -0.016329442757318718], metadata={'URL': 'https://www.reddit.com/r/legaladvice/comments/gilww3/oh_advice_on_safe_contracts_for/', 'topic_title': 'Compilation of Legal Topics', 'case_title': '\"Protecting Intellectual Property and Ensuring Payment: Legal Considerations for Hiring Independent Contractors in the Video Game Industry\"', 'state': 'OR', 'date': '2020-05-12'}, excluded_embed_metadata_keys=['source', 'state', 'date'], excluded_llm_metadata_keys=[], relationships={}, hash='3e78da34bb3615f6823bdb4d2df01d6c05d2c7cf6b88a6a80c1e4f2e20b4ca76', text='Hey folks;\\n\\nI\\'m currently designing a video game that I know will turn a good profit. The business machinations, marketing, and project management are my forte but I lack in the programming and 3D modelling department. So, I\\'ll need to hire independent contractors/freelancers to handle those parts to design a \"proof of concept\" in order to better secure initial income via crowdfunding. At this point:  I have virtually no initial startup funds.\\n\\nSo, I was hoping for advice on what types of contracts I could have them and myself sign to ensure that they 100% get paid for their work and how to ensure that my intellectual property is protected. My fears is having a 3D artist or coder take the game concept and/or 3D models and running away with it. I\\'m located in Ohio but will likely need to hire contractors from different states, maybe even different countries.\\n\\nAny advice would be appreciated. Thanks!', start_char_idx=None, end_char_idx=None, text_template='{metadata_str}\\n\\n{content}', metadata_template='{key}: {value}', metadata_seperator='\\n'), score=0.9828418760333695), NodeWithScore(node=TextNode(id_='1253', embedding=[0.008125816788076095, -0.032150854676356394, 0.008735761386345874, -0.035051477574320256, 0.011948136146390355, 0.012449645921755534, -0.01614319782192498, 0.0027057818258692493, -0.0022347689078885146, -0.014110049781907462, 0.008796755566776067, -0.016807361228630975, 0.0019890969461853255, 0.002051785668105973, -0.005679261160357784, -0.0034614353390672705, 0.013798300713794679, 0.013906735536699277, -0.007156682479219129, -0.011236533959855178, -0.04071718612804486, 0.00819358820314549, 0.025373692680319443, -0.007549757897341015, -0.014476016727133851, -0.00920338498851505, 0.02544146502671145, -0.023503196408997517, -0.005943570517318774, -0.021971558144345177, 0.041774423555888826, 0.00022004596522926987, -0.001435063951612321, -0.0066382296172559484, -0.027352622843223356, -0.00403241130382295, -0.0008001286498564701, -0.016265188045430593, 0.019802865411543646, -0.015601025570047208, 0.03567497943583627, 0.0007204969577531476, -0.00998275859011962, -0.02506194361220666, -0.010538486242598405, 0.019870637757935652, -0.014557342611481647, -0.019260692228343264, -0.0008285079706621435, 0.02712220059078098, 0.011311082609563775, 0.012307324925654931, -0.01459800601931685, -0.003923976480918352, -0.02954842451458169, 0.010613034892307, -0.01714621923530056, -0.0006167217164936519, -0.0072176771253106295, 0.009664232287367635, -0.0032903117942420248, 0.01675314335151737, -0.003254731778047527, 0.0024397781602484583, 0.00870865244778907, -0.010301285824194215, -0.017851044187196536, -0.010274176885637414, -0.0020805886824919228, 0.0106062576576678, 0.021727579559979178, 0.01088412148390719, -0.0015502756599101411, 0.021171851907500393, -0.006255320051092864, 0.022866141940848326, 0.0036766102105553625, 0.0049778252914427145, 0.007997050261253896, 0.005228580179125304, 0.007271894071101623, -0.019775756472986846, -0.03057855300386885, 0.0023804780556474113, 0.02250017685826716, 0.004964270822164313, 0.001914548063646077, 0.0072244543599498294, -0.016780252290074172, -0.02698665776064219, -0.008024159199810697, 0.03274724387402516, -0.006946590533710438, 0.018203456663144525, -0.009569351933741439, 0.018189902193866122, -0.0017239404348944347, 0.0053810660958620955, -0.0033394462797149234, -0.017823935248639733, -0.008498560036619075, 0.0061367198418907695, -0.03480750085259948, -0.011670272320150962, -0.029087576284406492, -0.001782393501580908, 0.02148360097561318, 0.010430051419693805, 0.009420254634324247, 0.005408175034418898, 0.004801619053468721, 0.01432691942771666, -0.0023957266007549596, -0.0045440869311469305, 0.017485077241970147, -0.023584521362022704, -0.0016349901615775378, -0.00830880026068929, 0.004638966819111822, 0.003981582509690251, 0.031933983167901976, 0.0013596680311584988, -0.007969942254019704, -0.012937601227842311, 0.02137516708403119, 0.020521244832718024, -0.013134139169733907, -0.014313364958438258, 0.0028870707569919906, -0.026200505993075808, 0.02010106187302325, 0.005875799102249379, 0.022473067919710356, 0.010348725535346008, -0.03209663679924279, 0.010714692480572397, -0.022229089335344357, 0.01793236914022172, 0.006577235436825754, -0.01547903720918682, 0.023598075831301104, 0.015804339815255395, -0.0021348058611135694, 0.013974506951768672, -0.00735999719008862, 0.01201590756145975, -0.005154031529416708, -0.0080512681383675, -0.0023160950250669635, -0.007251562832845327, -0.024994171265814654, -0.014503125665690654, -0.00367999859504431, -0.01356110029539049, -0.005777530131303581, 0.00710246506776683, 0.002890459374311591, 0.021551373322005185, 0.014638668495829444, -0.028735163808458506, -0.0012478448237649524, -0.010653698300142202, 0.02315078393304953, 0.010789241130280994, -0.014625114026551042, 0.01602120946106459, 0.02724418895164137, 0.0066822811767494475, 0.0004921913687745941, -0.004655909905709824, 0.002319483409555911, 0.019626659173569653, -0.025929420332798228, -0.014421799781342858, 0.004703350082522923, -0.012225999041307136, -0.003109022863119283, 0.013845741356269082, -0.009359260453894052, -0.012720732513355724, 0.027189971074527763, 0.0037138845354096604, 0.014015170359603877, 0.045406980344305466, -0.01406938730539487, -0.004459372429479534, 0.018664303030674498, -0.013330676180302892, -0.006431526289066858, -0.013093475761898702, 0.0044966467543338315, 0.013472997176403493, -0.009555797464463037, -0.00028400543319668316, -0.6349929222201233, -0.04033766471354007, 0.010802795599559394, -0.005791084600581983, -0.011311082609563775, 0.017064892419630155, 0.0037003300661312593, -0.0063671430256557575, -0.012124341453041736, 0.05109979783658687, 0.00030348974995373214, 0.01126364196708937, -0.010389388943181213, -0.011792260681011352, -0.018081466439638913, -0.016956458528048165, 0.021198960846057196, -0.04828049802900297, 0.001163130322097556, -0.007055024890953731, -0.023733618661439894, 0.004120513957148642, -0.007299003009658425, -0.0240318151229195, -0.0055471064818772885, 0.0010081028259557375, 0.01882695479937009, 0.004462761046799134, -0.016210970168316987, 0.03044301017373006, -0.010375834473902812, 0.013229019523360103, 0.00633664593544066, 0.010667251838097993, 0.05218414420298764, -0.019274246697621667, -0.002312706407747363, 0.019206476213874883, -0.009318597046058849, 0.009094951096933061, -0.019911301165770858, -0.011582169201163965, 0.007814066788640701, 0.0003358930538264309, 0.0009327068472942523, -0.0020907543016200707, 0.010857012545350389, -0.0009259296708627148, -0.0048998875587532124, -0.010809572834198596, 0.014909755087429635, 0.016305851453265796, -0.03288278856680917, -0.010545263477237605, 0.027325515767311775, -0.0069059275915365394, 0.008728984151706672, -0.021537818852726782, 0.0133035681730687, 0.019992626118796042, -0.0026786731201430994, 0.011304305374924573, -0.010951892898976585, -0.012293771387699142, -0.014869092610917043, -0.0008162244075015819, 0.006167216932105867, -0.015953438977317807, -0.008647658267358875, -0.008403680614315488, 0.016848022773820956, 0.0240318151229195, -0.032150854676356394, 0.008810310036054468, -0.005936793282679573, 0.03361472245726195, 0.03979549339298491, -0.0291689031000769, -0.005513220774342591, 0.009135613573445655, 0.014950418495264838, -0.01294437846248151, -0.0019704597837581768, -0.011480511612898568, 0.050503408638918106, -0.001273259220831302, -0.004154400130344645, -0.028192992487903343, 0.009501580518672042, 0.008349462737201883, 0.011948136146390355, 0.043943116288690354, -0.008471452029384883, -0.02254083840345714, -0.0005493736457585542, 0.002961619639531239, 0.009040733219819456, -0.0015324856518128924, 0.013113807465816306, -0.024465552551892672, -0.0053336259190489965, -0.018596530684282492, 0.021537818852726782, -0.007353220421110725, 0.05278053340065641, -0.021863122390117968, -0.013486551645681895, -0.002436389542928858, 0.028626729916876516, -0.03288278856680917, -0.01728176206543935, -0.005957124986597176, -0.022351077696204747, 0.007529426193423413, 0.014028723897559665, -0.028626729916876516, 0.008756093090263475, -0.024601095382031462, 0.0007700549621833333, -0.006387474729573359, 0.022852589334215148, 0.006600955292401651, 0.011121321902311378, -0.013696643125529281, -0.008335908267923482, 0.003984971127009852, 0.0009267768251926149, -0.021470048368979998, 0.004649132671070623, 0.0074006601322625185, -0.019138703867482877, -0.04798230343016859, -0.002754916078511495, -0.0031734058936997303, -0.00020193823060256108, 0.01828478161616971, -0.005787695983262383, -0.018325445024004912, -0.010890898718546392, -0.002492301030210305, -0.018501651261978905, -0.022215534866065957, -0.0023940322920951596, -0.0009377897150659896, -0.015831448753812198, -0.007265117302123728, 0.0006031673636305771, -0.0035105695917095167, -0.01625163357615219, -0.0025685442214093534, 0.01203623833405474, -0.008410457848954687, -0.00807837614560169, 0.004554252317444426, -0.003180183128338931, -0.011975244153624547, 0.011426294667107574, -0.03003637982066847, -0.013425556533929088, -0.029494206637468084, -0.003444492252469269, 0.018000141486613726, -0.004605081111577125, -0.007997050261253896, -0.013208687819442502, -0.018786291391534888, 0.017457968303413344, 0.022852589334215148, -0.0013418780230612499, -0.026037854224380215, -0.011222979490576776, -0.0031717115850399304, 0.002239851833867915, 0.014096496243951671, -0.01035550276998521, 0.014137158720464265, -0.0050489853238317095, 0.016088981807456597, -0.0061977140223209645, 0.0005608101127968788, 0.0038087646562052053, -0.013845741356269082, 0.0039646394230922494, 0.006726332736242946, 0.048958214042342144, -0.00396802804041185, 0.026010745285823412, 0.023191447340884734, -0.022066437566648764, 0.026905330944971783, 0.0035986727106965136, 0.01177192990841636, 0.008180033733867088, 0.020399256471857634, 0.007780181546767308, 0.018759182452978085, 0.03017192265080726, 0.012564857047976722, -0.0010064085172959375, 0.024668867728423468, 0.02034503859474403, 0.002436389542928858, 0.028762272747015306, -0.028545404963851332, 0.010457160358250608, -0.02674267917627619, 0.023326990171023524, -0.021971558144345177, 0.01905737891445769, -0.008593440390245271, -0.007278671305740824, -0.0053675120922449995, 0.026783342584111393, -0.01497752650249903, 0.0076039753087933145, 0.030117704773693653, -0.010321616596789207, 0.040906944972652036, -0.008085153380240892, 0.029792401236302467, -0.006373920260294958, 0.005669095774060288, 0.03263880811979795, -0.017092001358186955, 0.010972224602894187, 0.019369127982570473, 0.004147622895705444, 0.010667251838097993, 0.01278850392842512, -0.024614649851309862, -0.008776423862858465, -0.01294437846248151, 0.01652271923642977, 0.0027972733293451938, 0.02416735795305829, -0.003984971127009852, 0.0014545482683693699, -0.020968536730969597, 0.03228639564384996, 0.003203902983914828, -0.015207950617586629, 0.0132967909384295, 0.02248662238898876, -0.027759253196284948, 0.019802865411543646, 0.031310485031676404, 0.031391811847346816, 0.010057307239828216, 0.0036562785066377606, 0.026525809530466994, -0.015316384509168616, 0.011555060262607162, -0.027420395189615362, 0.006773772913056045, 0.018338999493283315, -0.010924783960419784, -0.0059842334594926725, -0.0035173468263487175, 0.02622761493163261, 0.01932846457473527, 0.006553515115588552, 0.0004477162321161456, 0.002277126158722213, -0.020819439431552407, 0.005174362767673004, -0.004872779085857716, 0.009325374280698049, -0.016712479943682166, -0.006919482060814941, -0.004845670612962219, 0.01101966431404598, -0.014760657788012443, 0.0025702385300691534, 0.01957244315910127, 0.029141794161520098, 0.018460987854143702, 3.213857178258396e-05, -0.0016087287265966145, 0.014299810489159858, 0.0075023177205279165, -0.02995505300499806, -0.02022305023388364, -0.002731195990104946, -0.009040733219819456, -0.004001913747946548, 0.009284710872862846, -0.010504600069402402, -0.0047135159344817235, 7.407225636526907e-05, 0.030605661942425654, 0.009033955985180257, -0.0020178997277406226, -0.0010030198999763371, 0.005940181899999174, 0.0021839403465864684, -0.011595723670442367, 0.028816490624128912, -0.03545810792738185, -0.008505337271258274, -0.0015231670705993178, -0.00018997230665996468, 0.008905190389680667, -0.001623130117374263, -0.03231350458240676, 0.04537987513103911, 0.019491116343430863, 0.01470644084222145, -0.014489571196412252, 0.021036309077361603, -0.04898532298089895, 0.008173256499227888, -0.004103571336211946, 0.010003090294037223, -0.006628063765297148, 0.012314102160294133, -0.01267329187088132, -0.0076175293124104105, -0.0017790048842613079, 0.021293842131006005, 0.03109361724851243, 0.021171851907500393, -0.028301426379485333, -0.01894894316023048, 0.013777969009877076, 0.11179605561414938, -0.006645006851895149, -0.024411336537424288, 0.017051337950351752, -0.009237271161711053, 0.0005900366461401155, -0.007522649424445518, -0.04001236117614889, 0.03740993287701941, -0.009352483219254852, 0.021958003675066777, -0.00027405145713185205, -0.002053479976765773, 0.016102536276735, 0.023638739239136307, -0.006678892559429847, 0.016576937113543376, 0.0015172369902900172, -0.011805815150289752, -0.026200505993075808, -0.00313951995333438, -0.0036935530643227112, 0.026837558598579777, 0.016698925474403766, 0.025522789979736636, 0.027949013903537344, 0.056494417004743454, 0.0058148044561578795, -0.001434216797282421, -0.005852078781012177, -0.002643092871117949, 0.010870567014628789, -0.029711076283277283, 0.013567877530029691, -0.0031547687312725816, 0.02851829602529453, -0.0019230196069450777, 0.03955151294597369, 0.002407586528542908, 0.009935318878967826, 0.023584521362022704, 0.019626659173569653, 0.007664969489223509, -0.010965447368254987, 3.232388315427065e-05, -0.024628204320588265, -0.01305281328538611, 0.028030340719207753, 0.01919292174459648, -0.01896249762950888, 0.019504670812709266, 0.005780918748623182, -0.018772736922256488, -0.007610752543432515, 0.004747401642016421, 0.002854879358117093, -0.0005790237562667409, -0.006526406642693055, -0.011439848205063365, -0.024655313259145068, -0.036190041817834626, -0.026322494353936198, 0.0018315278706384807, -0.00807159891096249, -0.010775686661002593, -0.018894727145762097, -0.001420662444419346, 1.5685422723534958e-05, -0.029087576284406492, 0.0038934791578726017, 0.046789521309540616, -0.018569421745725692, -0.014096496243951671, 0.007983495791975494, 0.002871822211884442, -0.012937601227842311, 0.009630346114171632, -0.0016663345225378615, -0.013073144057981101, 0.007963165019380502, -0.013418779299289888, -0.030605661942425654, 0.008180033733867088, -0.02217487145823075, -0.0041137371881707465, 0.018759182452978085, 0.005072705179407606, -0.015397711324839023, -0.011433070970424163, 0.003441103635149669, 0.0032225403791726294, -0.0007382870240580596, 0.020331484125465628, -0.012293771387699142, 0.0057639756620251805, -0.004971048056803514, 0.00998275859011962, 0.03659667217089622, -0.014543788142203246, -0.019382682451848876, 0.008789978332136867, -0.009955650582885429, 0.007475209247632419, -0.034102675900703504, 0.008451120325467281, 0.013215465054081704, 0.0008056350947931573, 0.013317122642347102, -0.025170377503788647, -0.008661212736637277, 0.02442488914405747, 0.0025244926619158547, 0.031039399371398827, 0.004428874873603131, 0.016278742514708993, 0.039985252237592084, 0.018203456663144525, 0.0043306063683186385, 0.014476016727133851, 0.016780252290074172, -0.010314839362150005, -0.04033766471354007, 0.02237818663476155, 0.0026634245750355506, -0.03838584348919296, 0.028952033454267702, 0.02827431744092853, -0.015519699685699414, 0.0014765740481161192, -0.018230563739056103, -0.0018959109012189283, -0.0023448978066222606, -0.010226736243163009, -0.014354028366273463, -0.040635859312374456, -0.029467097698911284, 0.001973848168247124, 0.023448978531883914, -0.011880363799998349, -0.0055843812723928915, -0.012212444572028735, 0.0016714174485172619, 0.015194396148308227, -0.015289276501934426, 0.007048248121975836, -0.034102675900703504, -0.00036575492381326106, 0.013351007884220494, -0.011446625439702564, 0.030768313711121244, -0.018067911970360513, 0.02239174110403995, -0.007366774424727821, -0.022988132164353938, -0.011500843316816169, -0.025590562326128642, 0.008234251610980695, 0.0053031288288339, 0.0317442243232948, 0.025685441748432226, 0.009264380100267854, -0.009196607753875848, 0.027000212229920592, 0.009576129168380638, 0.02202577415881356, 0.010382611708542011, -0.0027854134015572454, 0.011697380327385154, 0.0008793367065871794, 0.026647799753972603, 0.023381208048137127, 0.02176824296781438, 0.0058656332502905785, -0.00038587463542156674, 0.006312926079864763, 0.042262380724620824, 0.024208021360893492, -0.013628871710459884, -0.007698855662419512, -0.022920359817961932, -0.0024906069543811572, -0.009887878236493423, -0.019247137759064864, 0.020900766247222813, -0.007055024890953731, 0.022567947342013943, 0.034211111654930716, 6.342999651122574e-05, 0.03545810792738185, 0.017851044187196536, 0.016726034412960566, 0.005191305854271006, 0.0106198121269462, 0.006472189231240755, 0.02212065544376237, -0.044159984071854334, -0.015235058624820821, -0.024506215959727875, -0.007251562832845327, 0.021063418015918406, 0.032693025996911554, 0.003564787003161816, 0.014652222965107846, 0.0010140327898497117, -0.020019735057352845, 0.04773832670844781, -0.03247615821374758, -0.024397782068145888, -0.0031191884822474314, -0.016983567466604968, -0.0028853764483321906, -0.026525809530466994, -0.026200505993075808, -0.002566849912749553, -0.017525738787160128, -0.00830880026068929, 0.012198891034072944, 0.009413477399685045, -0.03318098316564355, -0.03651534535522581, 0.009887878236493423, 0.004872779085857716, 0.03518702226710427, 0.010233513477802209, 0.03204241892212918, 0.02851829602529453, 0.009813329586784826, -0.014123604251185863, -0.029765294160390886, 0.018244118208334506, 0.01728176206543935, 0.03136470290879001, 0.023828499946388703, -0.03263880811979795, -0.011161985310146583, 0.013405225761334098, -0.022947468756518735, -0.01791881467094332, -0.027555938019754152, 0.004015468217224949, 0.022974577695075535, -0.008871304216484664, -0.024655313259145068, 0.0016604045586438873, -0.018067911970360513, 0.027067982713667376, 0.00767852395850191, 0.014814874733803437, -0.0028464078148180924, -0.025265258788737456, -0.016102536276735, 0.010707915245933198, 0.0063671430256557575, 0.03600028297322745, 0.02533302927248424, -0.0019196309896254776, -0.015207950617586629, -0.0391991004700257, 0.0012232776974438293, 0.004825338909044617, 0.02175468849853598, 0.013513659652916087, -0.010646921065503002, 0.0049337737319492155, -0.0007154140899814103, 0.007685301193141111, -0.015248613094099221, -0.016902240650934562, 0.011758375439137958, 0.02840986027106732, -0.00735999719008862, -0.006994030710523537, -0.03204241892212918, -0.010050530936511625, 0.0005514915315833044, 0.015519699685699414, -0.007292225775019225, -0.02675623364555459, 0.0026193730155420524, -0.01981641988082205, 0.024370673129589085, -0.003571564004970364, -0.017485077241970147, -0.013290013703790298, 0.006607732527040852, -0.026430930108163407, 0.0021161686986864202, 0.038033431013244974, 0.0076514154856064135, 0.005038819471872909, 0.004689795613244521, -0.013581431999308093, -0.0031734058936997303, 0.0006184159669457889, 0.004805007670788321, -0.010721469715211597, 0.012734286051311515, 0.016942904058769765, -0.009616792576215841, -0.0010733328944507589, 0.023272772293909918, 0.006495909086816652, -0.042235271786064024, 0.01699712007323815, -0.0038053762717162576, -0.016902240650934562, 0.01623807910687379, -0.021958003675066777, -0.003303866263520426, -0.016793806759352572, 0.0012453034771905786, 0.015777232739343814, -0.025265258788737456, -0.005404786417099298, 0.002387255057455959, -0.004093405484253145, 0.006946590533710438, -0.028355644256598936, -0.01663115499065698, 0.021727579559979178, -0.031202051140094417, -0.0014316753342927206, -0.007109242302406031, 0.010897675953185592, 0.0027921906361964457, -0.0448105911466367, 0.026444484577441807, -0.022581501811292346, -0.03987681648336488, -0.009671009522006837, -0.0024601096313354074, 0.002604124237603851, -0.01024029071244141, 0.0035173468263487175, -0.0037647130967117066, 0.015777232739343814, -0.025604116795407042, -0.0004608469787104388, -0.009501580518672042, -0.0030446398325388356, -0.01908448599036927, 0.021280287661727605, 0.0036766102105553625, 0.015113070263960431, -0.010314839362150005, 0.006126553989931969, -0.021253178723170802, -0.03234061352096357, -0.04554252503708948, 0.0021754688032874676, -0.01011152511694182, 0.0504220818232477, 0.012585188751894323, -0.006994030710523537, -0.03553943474305226, -0.01368308865625088, -0.05226547101865805, -0.013791523479155477, -0.009603238106937442, 0.020439919879692837, 0.03136470290879001, 0.017810380779361333, -0.0075565351319802155, 0.023489641939719117, 0.004157788747664245, 0.0132967909384295, 0.007705632431397407, -0.005926627896382078, 0.00906784215837626, -0.038412952427749766, -0.002000956873973274, -0.032421940336633974, -0.03583762934188664, -0.019924855635049258, 0.020548353771274827, 0.015845003223090598, -0.0028514907407974927, 0.03513280438999067, 0.010782463895641792, -0.0072854485403800245, 0.0018281392533188803, 0.002043314124806972, 0.01164316338159416, -0.004937162349268816, 0.0028294649610507436, -0.03431954740915792, 0.013405225761334098, 0.02469597666698027, -0.00831557749532849, 0.003332669045075723, -0.011236533959855178, 0.010755354957084991, -0.005272631738618802, -0.00881708727069367, -0.003581729856929165, -0.001163130322097556, -0.000836979455753481, -0.007278671305740824, 0.01368308865625088, -0.015628133577281402, -0.0015892444098395656, 0.020263713641718844, 0.006411194585149256, -0.012930823993203111, -0.027759253196284948, 0.006994030710523537, -0.0068550987974038404, -0.002841324888838692, 0.01940979139040568, -0.04052742728343769, -0.028491187086737726, -0.0005209942667452176, 0.027488167536007368, -0.036190041817834626, -0.012375097272046937, -0.000781915006386608, -0.0037172731527292608, 0.0023211777182157115, 0.0079360560808237, 0.01751218618052695, -0.006719555501603745, -0.012490308398268125, -0.007149905244579929, -0.005943570517318774, 0.011338191548120576, -0.03879247384225455, -0.010138633124176013, -0.007881839135032707, 0.030551444065312048, 0.023828499946388703, -0.01496397296454324, -0.04079851294371527, 0.027583046958310955, -0.0006184159669457889, 0.002751527461191895, -0.012354765568129335, 0.2158932620851375, -0.006167216932105867, -0.009149168042724054, -0.008993293508667663, 0.005225191561805703, 0.012273439683781539, 0.021822460844927987, 0.009792997882867225, -0.010050530936511625, -0.016671816535846963, -0.024194466891615092, -0.010558817946516006, -0.02548212657190143, -0.0027006988998898485, -0.005079482414046807, -0.005252300034701201, -0.02134805814547439, -0.024262237375361876, -0.027135755060059382, 0.01763417454138734, 0.02484507396639746, 0.011039996017963584, -0.02765081930470296, -0.011995575857542148, 0.035891847219000246, 0.028111665672232937, -0.011392408493911571, 0.01909804045964767, -0.00023317671182356307, 0.0008196129666135191, -0.005804638604199079, -0.010545263477237605, 0.015790785345976992, 0.03209663679924279, -0.030253249466477665, 0.009006847977946065, 0.033289418919870764, -0.022649274157684352, 0.022988132164353938, 0.012212444572028735, -0.014503125665690654, -0.005519998008981792, -0.0039612508057726495, -0.025861647986406222, 0.0064044178161713605, 0.017851044187196536, -0.03182555113896521, 0.009033955985180257, -0.008349462737201883, -0.0032682860144952752, -0.032964111657189134, -0.03762680066018338, 0.04218105390895042, 0.028328535318042133, -0.026308941747303017, 0.0016417673962167384, -0.005269243121299202, 0.031581570691953983, -0.03429243847060112, -0.0011063715640708828, -0.019884192227214055, 0.018664303030674498, -0.0065196294080538545, 0.03600028297322745, -0.0071160195370452315, -0.0005637750947438659, 0.0032310116896409774, 0.013771191775237876, 0.015058852386846826, -0.01673958888223897, -0.007820844023279901, -0.0025024668821691056, -0.0036562785066377606, -0.0002799814792334894, -0.024994171265814654, -0.03347917776447794, 0.005001545147018611, 0.04632867680465586, 0.025956529271355028, 0.009325374280698049, -0.005425117655355594, -0.015601025570047208, 0.019369127982570473, -0.009989535824758821, -0.016807361228630975, -0.010402942481137002, 0.01035550276998521, -0.007061802125592932, -0.0005514915315833044, -0.0014392997232618213, -0.01228021691842074, -0.014110049781907462, -0.008498560036619075, -0.014272702481925666, -0.006024896401666571, 0.028464078148180926, 0.012273439683781539, 0.024194466891615092, -0.017729053963690924, -0.003920587863598751, -0.014272702481925666, 0.02838275319515574, 0.00010435769624109135, 0.006766995678416844, 0.0020890599929602707, 0.002407586528542908, 0.02062967872430001, 0.012964710166399114, 0.009250825630989452, -0.005611489745288388, 0.0040629083940380475, -0.0158721121616474, 0.019030269975900887, -0.0011749903663008305, 0.006577235436825754, 0.020033289526631245, -0.0027481390767029475, -0.005072705179407606, 0.01779682631008293, 0.004439040725561932, 0.017241098657604148, -0.014313364958438258, -0.018745627983699685, 0.008742538620985073, 0.0004223018641536277, -0.015709460392951808, -0.013357785118859693, -0.006146885693849571, -0.03326230998131396, -0.015560363093534616, 0.011426294667107574, -0.02252728393417874, 0.00015513346319263478, -0.01484198367236024, 0.0017637562227384327, 0.002168691568648267, 0.023326990171023524, -0.010775686661002593, 0.011067104956520385, 0.009637123348810834, -0.0065874008231232494, 0.002073811447852722, -0.0051506429120971075, 0.0015130013350558432, 0.00017313530352810604, -0.006699224263347449, -0.007231231128927725, -0.005079482414046807, 0.018976052098787284, -0.021605591199118788, -0.003747770242944358, -0.007990273026614694, -0.0061977140223209645, -0.013988061421047073, 0.029711076283277283, 0.021036309077361603, -0.006380697494934159, -0.024194466891615092, -0.0345906330694355, 0.01896249762950888, -0.012517417336824928, 0.009698118460563638, 0.03819608091929534, 0.008491783733302484, -0.012842720874216113, -0.024777301620005455, -0.1728447295929503, 0.013737306533364484, 0.01766128347994414, -0.023625184769857907, 0.038412952427749766, 0.022323970620293166, -0.0005303129061664553, 0.024655313259145068, -0.02048058142488282, 0.0010267399883828864, 0.007664969489223509, -0.004269611722227139, -0.016726034412960566, -0.01600765499178619, 0.0017806991929211079, 0.0002965008140435513, -0.010097970647663419, 0.032584593967974786, 0.035918956157557046, 0.00947447158011524, -0.0031344372601856325, -0.02701376483655377, -0.016075427338178197, -0.002419446689161509, 0.019396236921127276, 0.006980476241245135, -0.017851044187196536, 0.0028074391813039945, 0.0048829449378165165, -0.018582976215004092, 0.008180033733867088, -0.005130311208179506, 0.02583453904784942, -0.006797492768631941, 0.02254083840345714, -0.027569492489032555, -0.004198451689838143, -0.010125079586220222, -0.0022805147760418133, 0.009000070743306863, 0.012219221806667934, 0.011046773252602783, -0.0071837909521146265, -0.00015661596871804413, -0.0046626871403490245, 0.02457398830611988, 0.02226975274317956, -0.041801532494445626, -0.015668796985116605, -0.018704966438509704, 0.01074857772244579, -0.03250326715230438, -0.01957244315910127, 0.0036664443585965613, -0.00448309228505543, -0.0007865742969933952, 0.005709758716234186, 0.0033004776462008255, 0.009914987175050224, 0.0009022096406638287, 0.004117125805490347, -0.012646182932324519, 0.017715499494412524, -6.501839632787259e-05, -0.021836013451561165, -0.057090809927702664, -0.01687513171237776, 0.0055843812723928915, -0.022107100974483967, -0.00021898703686881057, -0.006882207270299338, 0.00830202302605009, 0.002190717348395016, -0.017092001358186955, -0.005740255806449284, 0.0016256715803639632, -0.030524335126755245, -0.011934581677111953, -0.0001323664379591388, 0.009826884056063228, 0.014245593543368863, 0.010558817946516006, -0.0002649446645007526, 0.009650677818089233, -0.022418850042596753, 0.014150713189742667, -0.0008204601209434191, -0.007895392672988496, -0.016102536276735, -0.022161318851597573, 0.012293771387699142, -0.007034693652697435, -0.01661760052137858, -0.01764772901066574, 0.030795422649678047, 0.015397711324839023, 0.02507549808148506, -0.002759999004490896, 0.0022279919060799666, -0.011351745086076366, 0.01446246225785545, -0.0016654874846232877, -0.03583762934188664, 0.004415320869986035, 0.02392337936869229, -0.0061333312245711695, -0.011155208075507381, 0.028165883549346543, 0.019477561874152463, -0.014625114026551042, -0.02049413589416122, 0.021822460844927987, 0.028111665672232937, 0.018759182452978085, -0.014665777434386245, 0.005930016513701679, 0.0289249245157109, -0.029114685222963295, -0.00690931620885614, 0.004645744053751023, 0.021280287661727605, 0.031256267154562804, 0.012707178044077323, -0.0036766102105553625, -0.006380697494934159, -0.004415320869986035, -0.10610323812186798, -0.03694908464684421, 0.012266662449142339, -0.0005968137643639897, -0.026702015768440987, 0.0266206908154158, -0.01011152511694182, 0.03415689377781711, -0.015966991583950988, 0.033072547411416346, -0.0007454877776545471, -0.03486171872971308, -0.023245663355353115, -0.0028277706523909436, -0.004577972638681628, -0.026702015768440987, -0.024994171265814654, -0.005326849150071101, -0.031066508309955627, 0.021117635893032012, -0.009935318878967826, -0.023476087470440714, -0.015235058624820821, 0.004920219262670815, -0.0012410677055410782, 0.0016629460216335875, -0.023096566055935925, -0.0032022089080856802, 0.008424011386910478, -0.00479484181882952, -0.010592703188389398, -0.0131883561155249, 0.015953438977317807, -0.017756162902247727, 0.003186960130147479, -0.011433070970424163, -0.023977597245805893, -0.015343493447725419, 0.040093687991819296, -0.019735094927796862, 0.00020246770205874863, -0.007631083781688811, -0.006377308877614558, -0.029087576284406492, -0.005946959134638375, 0.004886333555136117, -0.028220099563814924, 0.03887379693263452, 0.014801320264525037, -0.007725964135315009, -0.019274246697621667, -0.01791881467094332, -0.018881172676483697, -0.03808764889035858, 0.036190041817834626, -0.021022754608083203, -0.018921834221673678, 0.024248682906083473, -0.017335979942552957, 0.020412810941136037, 0.00047313060007866356, 0.009325374280698049, -0.025875202455684622, -0.018244118208334506, 0.029277336991658888, -0.0020551742854255733, -0.0011334802697970324, -0.0023804780556474113, -0.010267399650998212, -0.0340213490850331, -0.014828429203081838, -0.0001369198342746885, -0.024641758789866665, 0.020656787662856814, -0.031906877954635614, -0.009582906403019838, -0.0106198121269462, -0.006722944118923346, 0.007963165019380502, 0.011548283027967962, -0.01200913032682055, -0.019789310942265246, -0.022784816987823142, -0.01954533422054447, 0.0044424293428815325, 0.0015011412908525687, -0.0011555060495437816, 0.010809572834198596, -0.01801369595589213, -0.015723014862230208, 0.02534658374176264, 0.011887141034637548, 0.004381434696790032, 0.038331625612079354, -0.00844434309082808, -0.006872041884001842, -0.009108504634888851, 0.0018298335619786805, -0.017525738787160128, 0.013811855183073079, -0.017308871003996154, -0.013920290005977679, -0.037762345352967394, 0.023476087470440714, 0.0007611599581347089, -0.006255320051092864, 0.002805744872644194, 0.01203623833405474, 0.007780181546767308, -0.003493626737942168, -0.003934142332877153, 0.004195063072518543, 0.004835504761003418, 0.03342495988736433, -0.02148360097561318, -0.0067839387650148455, -0.02058901717911003, -0.009000070743306863, 0.02148360097561318, -0.009318597046058849, 0.02149715544489158, 0.006038450870944972, 0.0037274387718574087, -0.013838964121629882, -0.012137895922320138, 0.0030260026701116865, 0.009955650582885429, 0.020385702002579234, -0.013988061421047073, 0.010389388943181213, -0.012198891034072944, -0.04944617121107415, 0.006292594375947162, 0.0015189312989498174, 0.0015909386020840394, 0.026173397054519005, -0.010687583542015594, -0.012375097272046937, 0.0061367198418907695, 0.010294508589555015, -0.0014723382764666188, 0.03461774200799231, -0.009711671998519428, -0.032150854676356394, 0.01687513171237776, -0.009752335406354633, -0.0029328166251452892, -0.011073882191159587, -0.012659737401602918, -0.008383348910397886, 0.025048389142928257, 0.004039188072800845, 0.01791881467094332, 0.017742608432969327, -0.03624425969494823, -0.013988061421047073, -0.022730599110709536, -0.03526834908277468, -0.0007954693010420197, 0.0014604783486786704, -0.02212065544376237, -0.03312676528852995, 0.02203932862809196, 0.024099585606666283, -0.000999631282656737, 0.0053336259190489965, 0.015424819332073215, 0.019247137759064864, -0.012863052578133716, 0.020521244832718024, 0.028030340719207753, -0.001836610796617881, 0.0008200365437784691, 0.011961689684346145, 0.010843458076071988, -0.010179296532011215, 0.021741134029257578, -0.00474062440737722, 0.006102834134356072, 0.01394739801321187, -0.017241098657604148, 0.03133759397023321, 0.02792190496498054, -0.02840986027106732, -0.005438672124633995, -0.005120145356220705, 0.04058164143526085, -0.0015756900569764906, 0.01368308865625088, 0.0026820617374626998, -0.007841175727197502, 0.004073074245996848, -0.013974506951768672, 0.003049722758518236, -0.02136161261475279, -0.005475946449488293, 0.016644709459935382, 0.01547903720918682, -0.029385772745886097, -0.021117635893032012, 0.015573916631490407, 0.023055902648100722, 0.007827621257919101, 0.013893181067420875, 0.02304234817882232, -0.015695905923673408, -0.023733618661439894, 0.025292365864649037, -0.0004587291219895202, 0.00027341612048825854, -0.005387843330501296, -2.1059499796175376e-05, 0.01715977370457896, 0.009650677818089233, 0.0011063715640708828, -0.0009572740318230385, -0.004632190050133927, 0.015790785345976992, -0.007963165019380502, -0.02457398830611988, -0.027284852359476572, 0.022283307212457963, 0.010097970647663419, 0.007007585179801938, -0.004367880693172937, -0.028843599562685715, 0.01816279325530932, 0.01267329187088132, 0.008152925726632898, -0.036135823940721026, 0.015058852386846826, -0.03621715075639143, -0.006309537462545163, 0.007807290019662805, 0.010375834473902812, -0.018610085153560895, -0.01113487637158978, -0.009094951096933061, -0.003246260234748526, -0.0009843827375491882, 0.009528689457228845, 0.05627754922157948, 0.020019735057352845, -0.008451120325467281, -0.014042278366838067, -0.007088911064149734, -0.0019874026375255255, 0.0238149454771103, 0.015465482739908418, -0.013249350295955096, -0.015370602386282222, 0.017390195957021338, 0.014814874733803437, 0.018122129847474116, -0.022351077696204747, 0.010416496950415403, 0.00857988685228948, -0.004147622895705444, 0.0062485428164536635, -0.018867618207205294, 0.016170306760481784, 0.01623807910687379, 0.020805884962274004, 0.024533324898284678, -0.0049473277355663115, -0.02569899621771063, -0.013100252996537904, 0.024736640074815474, -0.004439040725561932, -0.006672115324790646, -0.03822318985785215, -0.0032327059983007778, 0.020670342132135214, -0.01699712007323815, -0.016970012997326568, 0.011155208075507381, -0.018460987854143702, 0.0010021727456464371, 0.005926627896382078, 0.024248682906083473, 0.03469906509837227, 0.015262167563377622, -0.007664969489223509, -0.022147764382319173, -0.01661760052137858, -2.5401118443186926e-05, -0.007990273026614694, -0.010511377304041601, -0.02275770804926634, -0.017756162902247727], metadata={'URL': 'https://www.reddit.com/r/legaladvice/comments/2xzeee/advice_on_steps_i_can_take_to_protect_my_idea_ie/', 'topic_title': 'Compilation of Legal Topics', 'case_title': '\"Protecting your idea while collaborating with strangers in the California Bay Area tech scene\"', 'state': 'IA', 'date': '2015-03-05'}, excluded_embed_metadata_keys=['source', 'state', 'date'], excluded_llm_metadata_keys=[], relationships={}, hash='0ea4aee52d73d07d6ebc7d94f4fca433684e354654c17d8f882a880346a7d5f6', text=\"I have an idea for a computer program/ app.  I've reach the point where I can do no more research and need to start finding others to help me turn my idea into a working product.  My worry is that someone with the know how  to implement my idea can just turn around and make the thing themselves, cutting me out.  What are my options when it comes to protecting myself?  Please note:  I would be talking with total strangers.  No one I know or trust has the skills I need.\\n\\nI live in California Bay Area  (So there is a good chance of finding some tech heads in the area :))\", start_char_idx=None, end_char_idx=None, text_template='{metadata_str}\\n\\n{content}', metadata_template='{key}: {value}', metadata_seperator='\\n'), score=0.8598903261080018)]\n"
     ]
    }
   ],
   "source": [
    "response = index.as_retriever().retrieve(user_query)\n",
    "print(response)"
   ]
  },
  {
   "cell_type": "code",
   "execution_count": 22,
   "metadata": {},
   "outputs": [
    {
     "name": "stdout",
     "output_type": "stream",
     "text": [
      "URL: https://www.reddit.com/r/legaladvice/comments/e8lsen/failed_a_drug_test_due_to_amphetamines_i_have_a/\n",
      "topic_title: Employment Legal Concerns and Issues\n",
      "case_title: \"Validity of Schedule II Drug Prescription in Texas: When does it expire?\"\n",
      "state: PR\n",
      "date: 2019-12-10\n"
     ]
    }
   ],
   "source": [
    "print(nodes[0].get_metadata_str())"
   ]
  },
  {
   "cell_type": "code",
   "execution_count": 23,
   "metadata": {},
   "outputs": [
    {
     "data": {
      "text/plain": [
       "{'URL': 'https://www.reddit.com/r/legaladvice/comments/e8lsen/failed_a_drug_test_due_to_amphetamines_i_have_a/',\n",
       " 'topic_title': 'Employment Legal Concerns and Issues',\n",
       " 'case_title': '\"Validity of Schedule II Drug Prescription in Texas: When does it expire?\"',\n",
       " 'state': 'PR',\n",
       " 'date': '2019-12-10'}"
      ]
     },
     "execution_count": 23,
     "metadata": {},
     "output_type": "execute_result"
    }
   ],
   "source": [
    "nodes[0].metadata"
   ]
  },
  {
   "cell_type": "code",
   "execution_count": 24,
   "metadata": {},
   "outputs": [],
   "source": [
    "from llama_index import (\n",
    "    VectorStoreIndex,\n",
    "    ServiceContext,\n",
    "    QueryBundle,\n",
    ")\n",
    "from llama_index.indices.postprocessor import LLMRerank\n",
    "from llama_index.query_engine import CitationQueryEngine"
   ]
  },
  {
   "cell_type": "code",
   "execution_count": 25,
   "metadata": {},
   "outputs": [],
   "source": [
    "from llama_index.retrievers import VectorIndexRetriever\n",
    "\n",
    "def get_retrieved_nodes(\n",
    "    query_str, vector_top_k=10, reranker_top_n=3, with_reranker=False\n",
    "):\n",
    "    query_bundle = QueryBundle(query_str)\n",
    "    # configure retriever\n",
    "    retriever = VectorIndexRetriever(\n",
    "        index=index,\n",
    "        similarity_top_k=vector_top_k,\n",
    "    )\n",
    "    retrieved_nodes = retriever.retrieve(query_bundle)\n",
    "\n",
    "    if with_reranker:\n",
    "        # configure reranker\n",
    "        reranker = LLMRerank(\n",
    "            choice_batch_size=5, top_n=reranker_top_n, service_context=service_context\n",
    "        )\n",
    "        retrieved_nodes = reranker.postprocess_nodes(retrieved_nodes, query_bundle)\n",
    "\n",
    "    return retrieved_nodes"
   ]
  },
  {
   "cell_type": "code",
   "execution_count": 40,
   "metadata": {},
   "outputs": [
    {
     "name": "stdout",
     "output_type": "stream",
     "text": [
      "5\n"
     ]
    }
   ],
   "source": [
    "new_nodes = get_retrieved_nodes(\n",
    "    user_query,\n",
    "    vector_top_k=20,\n",
    "    reranker_top_n=5,\n",
    "    with_reranker=True,\n",
    ")\n",
    "\n",
    "print(len(new_nodes))"
   ]
  },
  {
   "cell_type": "code",
   "execution_count": 54,
   "metadata": {},
   "outputs": [],
   "source": [
    "new_text_nodes = [node.node for node in new_nodes]"
   ]
  },
  {
   "cell_type": "code",
   "execution_count": 63,
   "metadata": {},
   "outputs": [],
   "source": [
    "llm = ChatOpenAI(temperature=0.0, model=\"gpt-3.5-turbo\")\n",
    "service_context = ServiceContext.from_defaults(llm=llm, chunk_size=1024)\n",
    "\n",
    "llm_filtered_index = VectorStoreIndex(new_text_nodes, service_context=service_context)"
   ]
  },
  {
   "cell_type": "code",
   "execution_count": null,
   "metadata": {},
   "outputs": [],
   "source": []
  },
  {
   "cell_type": "code",
   "execution_count": 57,
   "metadata": {},
   "outputs": [],
   "source": [
    "from llama_index import Prompt\n",
    "\n",
    "CITATION_TEMPLATE = Prompt(\n",
    "    \"Please provide an answer based solely on the provided sources. \"\n",
    "    \"When referencing information from a source, \"\n",
    "    \"cite the appropriate source using its corresponding number and URL. \"\n",
    "    \"Every answer should include at least one source citation. \"\n",
    "    \"Only cite a source when you are explicitly referencing it. \"\n",
    "    \"For example:\\n\"\n",
    "    \"[1]:\\n\"\n",
    "    \"URL: source_1_address.com\\n\"\n",
    "    \"Excerpt:\\n-----\\nThe sky is red in the evening and blue in the morning.\\n\"\n",
    "    \"[2]:\\n\"\n",
    "    \"URL: source_2_address.com\\n\"\n",
    "    \"Excerpt:\\n-----\\nWater is wet when the sky is red.\\n\"\n",
    "    \"Query: When is water wet?\\n\"\n",
    "    \"Answer: Water will be wet when the sky is red [2](source_2_address.com), \"\n",
    "    \"which occurs in the evening [1](source_1_address.com).\\n\"\n",
    "    \"Now it's your turn. Below are several sources of information. ALWAYS cite the information using [[number](URL)] notation:\"\n",
    "    \"\\n------\\n\"\n",
    "    \"{context_str}\"\n",
    "    \"\\n------\\n\"\n",
    "    \"Query: {query_str}\\n\"\n",
    "    \"Answer with Citations: \"\n",
    ")"
   ]
  },
  {
   "cell_type": "code",
   "execution_count": 64,
   "metadata": {},
   "outputs": [],
   "source": [
    "citation_query_engine = CitationQueryEngine.from_args(\n",
    "    llm_filtered_index,\n",
    "    citation_qa_template=CITATION_TEMPLATE,\n",
    "    similarity_top_k=10,\n",
    "    citation_chunk_size=1024,\n",
    ")"
   ]
  },
  {
   "cell_type": "code",
   "execution_count": 65,
   "metadata": {},
   "outputs": [
    {
     "name": "stdout",
     "output_type": "stream",
     "text": [
      "Using the information, write a detailed comparative analysis for the new query. Using relevant information only, offer insights into how the researcher can reference the past questions to address the new outstanding issue. Do not answer the question or provide opinions, only draw helpful comparisons.\n",
      "\n",
      "NEW QUERY: \n",
      "I'm currently designing a video game that I know will turn a good profit. The business machinations, marketing, \n",
      "and project management are my forte but I lack in the programming and 3D modelling department. So, I'll need to hire \n",
      "independent contractors/freelancers to handle those parts to design a \"proof of concept\" in order to better secure initial \n",
      "income via crowdfunding. At this point:  I have virtually no initial startup funds. \n",
      "So, I was hoping for advice on what types of contracts I could have them and myself sign to ensure that they get paid \n",
      "for their work and how to ensure that my intellectual property is protected. My fears is having a 3D artist or coder \n",
      "take the game concept and/or 3D models and running away with it. I'm located in Ohio but will likely need to hire contractors from different states, maybe even different countries.\n",
      "\n"
     ]
    }
   ],
   "source": [
    "prompt = f\"Using the information, write a detailed comparative analysis for the new query. Using relevant information only, offer insights into how the researcher can reference the past questions to address the new outstanding issue. Do not answer the question or provide opinions, only draw helpful comparisons.\\n\\nNEW QUERY: {user_query}\"\n",
    "print(prompt)"
   ]
  },
  {
   "cell_type": "code",
   "execution_count": 66,
   "metadata": {},
   "outputs": [],
   "source": [
    "response = citation_query_engine.query(prompt)"
   ]
  },
  {
   "cell_type": "code",
   "execution_count": 61,
   "metadata": {},
   "outputs": [],
   "source": [
    "# Print helper\n",
    "def print_nodes(response, new_text_nodes):\n",
    "    k = len(new_text_nodes)\n",
    "    count = 1\n",
    "    for i in range(k):\n",
    "        # add index\n",
    "        title = response.source_nodes[i].node.metadata['case_title']\n",
    "        link = f\"{response.source_nodes[i].node.metadata['URL']}\"\n",
    "        venue = response.source_nodes[i].node.metadata['state']\n",
    "        date = response.source_nodes[i].node.metadata['date']\n",
    "        display(Markdown(f\"#### {[count]} [{title}]({link}) - {venue}, {date}\"))\n",
    "        count+=1"
   ]
  },
  {
   "attachments": {},
   "cell_type": "markdown",
   "metadata": {},
   "source": [
    "* GPT-3.5-turbo"
   ]
  },
  {
   "cell_type": "code",
   "execution_count": 67,
   "metadata": {},
   "outputs": [
    {
     "data": {
      "text/markdown": [
       "## New Query:"
      ],
      "text/plain": [
       "<IPython.core.display.Markdown object>"
      ]
     },
     "metadata": {},
     "output_type": "display_data"
    },
    {
     "data": {
      "text/markdown": [
       "\n",
       "I'm currently designing a video game that I know will turn a good profit. The business machinations, marketing, \n",
       "and project management are my forte but I lack in the programming and 3D modelling department. So, I'll need to hire \n",
       "independent contractors/freelancers to handle those parts to design a \"proof of concept\" in order to better secure initial \n",
       "income via crowdfunding. At this point:  I have virtually no initial startup funds. \n",
       "So, I was hoping for advice on what types of contracts I could have them and myself sign to ensure that they get paid \n",
       "for their work and how to ensure that my intellectual property is protected. My fears is having a 3D artist or coder \n",
       "take the game concept and/or 3D models and running away with it. I'm located in Ohio but will likely need to hire contractors from different states, maybe even different countries.\n"
      ],
      "text/plain": [
       "<IPython.core.display.Markdown object>"
      ]
     },
     "metadata": {},
     "output_type": "display_data"
    },
    {
     "data": {
      "text/markdown": [
       "## Model Output:"
      ],
      "text/plain": [
       "<IPython.core.display.Markdown object>"
      ]
     },
     "metadata": {},
     "output_type": "display_data"
    },
    {
     "data": {
      "text/markdown": [
       "Based on the provided sources, there are several insights that can be drawn to address the new query regarding hiring independent contractors for a video game project and ensuring payment and protection of intellectual property.\n",
       "\n",
       "1. Contracts for Payment and Intellectual Property Protection:\n",
       "Source 1 provides a similar scenario where an individual is seeking advice on contracts to ensure payment for independent contractors and protection of intellectual property in the video game industry. The individual is designing a video game and wants to hire independent contractors for programming and 3D modeling. They are concerned about contractors taking the game concept and running away with it. While the source does not provide specific contract templates, it highlights the importance of having contracts in place to protect both parties' interests and suggests consulting with an attorney for guidance on drafting such contracts [1].\n",
       "\n",
       "2. Transferring Copyright and Liability:\n",
       "Source 2 discusses a situation where an individual is being hired as an independent contractor for a software development startup. The company wants to incorporate in the future and requests the copyright to the contractor's code. This source raises the issue of transferring copyright and advises the individual to be cautious about potential liabilities after the contract ends. It suggests reviewing the agreement carefully and seeking legal advice to avoid any potential legal complications [2].\n",
       "\n",
       "3. Classification of Independent Contractors:\n",
       "Source 3 addresses the classification of a video editor as an independent contractor or employee. Although the specific scenario is different, the source provides insights into the factors that determine the classification of a worker. It mentions that the workload being variable and the worker being responsible for their own costs and equipment are factors that lean towards classifying them as an independent contractor. However, the source does not provide a definitive answer and suggests consulting with an attorney or tax professional for a proper classification [3].\n",
       "\n",
       "4. Contractual Disputes and Representation:\n",
       "Source 4 discusses a situation where an individual is working as a consultant for a company but is having trouble with the details of the contract and the company's conduct. The individual is unsure about representing the company on their website due to the ongoing issues. While this source does not directly address the issue of hiring independent contractors, it highlights the importance of addressing contractual disputes and ensuring clear communication and expectations between parties involved [4].\n",
       "\n",
       "By referencing these past questions, the researcher can gain insights into the importance of having contracts in place to ensure payment and protect intellectual property, the potential issues related to transferring copyright and liability, the factors that determine the classification of independent contractors, and the significance of addressing contractual disputes. These insights can guide the researcher in seeking legal advice and drafting appropriate contracts to address their specific concerns and protect their interests when hiring independent contractors for their video game project."
      ],
      "text/plain": [
       "<IPython.core.display.Markdown object>"
      ]
     },
     "metadata": {},
     "output_type": "display_data"
    },
    {
     "data": {
      "text/markdown": [
       "### **Sources:**"
      ],
      "text/plain": [
       "<IPython.core.display.Markdown object>"
      ]
     },
     "metadata": {},
     "output_type": "display_data"
    },
    {
     "data": {
      "text/markdown": [
       "#### [1] [\"Protecting Intellectual Property and Ensuring Payment: Legal Considerations for Hiring Independent Contractors in the Video Game Industry\"](https://www.reddit.com/r/legaladvice/comments/gilww3/oh_advice_on_safe_contracts_for/) - OR, 2020-05-12"
      ],
      "text/plain": [
       "<IPython.core.display.Markdown object>"
      ]
     },
     "metadata": {},
     "output_type": "display_data"
    },
    {
     "data": {
      "text/markdown": [
       "#### [2] [\"Legal considerations for becoming an independent contractor and transferring copyright in a software development agreement\"](https://www.reddit.com/r/legaladvice/comments/2t9664/independent_contractor_things_to_watch_out_for_in/) - CT, 2015-01-22"
      ],
      "text/plain": [
       "<IPython.core.display.Markdown object>"
      ]
     },
     "metadata": {},
     "output_type": "display_data"
    },
    {
     "data": {
      "text/markdown": [
       "#### [3] [Determining the Classification of a Video Editor: Independent Contractor or Employee?](https://www.reddit.com/r/legaladvice/comments/gphir8/looking_to_outsource_work_to_a_foreign_friend_how/) - NM, 2020-05-24"
      ],
      "text/plain": [
       "<IPython.core.display.Markdown object>"
      ]
     },
     "metadata": {},
     "output_type": "display_data"
    },
    {
     "data": {
      "text/markdown": [
       "#### [4] [\"Contractual disputes and concerns about representation on company website\"](https://www.reddit.com/r/legaladvice/comments/gcgdi7/what_are_the_legal_implications_of_being_listed/) - VT, 2020-05-02"
      ],
      "text/plain": [
       "<IPython.core.display.Markdown object>"
      ]
     },
     "metadata": {},
     "output_type": "display_data"
    },
    {
     "data": {
      "text/markdown": [
       "#### [5] [\"Legal considerations for setting up a gaming community donations system and hiring developers\"](https://www.reddit.com/r/legaladvice/comments/gn4sdf/does_this_count_as_a_business_what_do_i_need_to/) - HI, 2020-05-20"
      ],
      "text/plain": [
       "<IPython.core.display.Markdown object>"
      ]
     },
     "metadata": {},
     "output_type": "display_data"
    }
   ],
   "source": [
    "display(Markdown(f\"## New Query:\"))\n",
    "display(Markdown(f\"{user_query}\"))\n",
    "display(Markdown(f\"## Model Output:\"))\n",
    "display(Markdown(f\"{response.response}\"))\n",
    "display(Markdown(f\"### **Sources:**\"))\n",
    "print_nodes(response, new_nodes)"
   ]
  },
  {
   "attachments": {},
   "cell_type": "markdown",
   "metadata": {},
   "source": [
    "* GPT-4"
   ]
  },
  {
   "cell_type": "code",
   "execution_count": 62,
   "metadata": {},
   "outputs": [
    {
     "data": {
      "text/markdown": [
       "## New Query:"
      ],
      "text/plain": [
       "<IPython.core.display.Markdown object>"
      ]
     },
     "metadata": {},
     "output_type": "display_data"
    },
    {
     "data": {
      "text/markdown": [
       "\n",
       "I'm currently designing a video game that I know will turn a good profit. The business machinations, marketing, \n",
       "and project management are my forte but I lack in the programming and 3D modelling department. So, I'll need to hire \n",
       "independent contractors/freelancers to handle those parts to design a \"proof of concept\" in order to better secure initial \n",
       "income via crowdfunding. At this point:  I have virtually no initial startup funds. \n",
       "So, I was hoping for advice on what types of contracts I could have them and myself sign to ensure that they get paid \n",
       "for their work and how to ensure that my intellectual property is protected. My fears is having a 3D artist or coder \n",
       "take the game concept and/or 3D models and running away with it. I'm located in Ohio but will likely need to hire contractors from different states, maybe even different countries.\n"
      ],
      "text/plain": [
       "<IPython.core.display.Markdown object>"
      ]
     },
     "metadata": {},
     "output_type": "display_data"
    },
    {
     "data": {
      "text/markdown": [
       "## Model Output:"
      ],
      "text/plain": [
       "<IPython.core.display.Markdown object>"
      ]
     },
     "metadata": {},
     "output_type": "display_data"
    },
    {
     "data": {
      "text/markdown": [
       "The researcher's query shares similarities with the situations described in Source 1 and Source 2. In Source 1, the individual is also designing a video game and is looking to hire independent contractors for programming and 3D modelling, just like the researcher. They are also concerned about protecting their intellectual property and ensuring that the contractors get paid for their work [[1](https://www.reddit.com/r/legaladvice/comments/gilww3/oh_advice_on_safe_contracts_for/)]. \n",
       "\n",
       "Similarly, in Source 2, the individual is being hired as an independent contractor for a software product startup. They are also concerned about the legal implications of transferring copyright to their code to the company [[2](https://www.reddit.com/r/legaladvice/comments/2t9664/independent_contractor_things_to_watch_out_for_in/)]. \n",
       "\n",
       "These two sources could provide the researcher with insights into the types of contracts that could be used to ensure payment and protect intellectual property. They could also provide insights into the potential legal implications of transferring copyright of work produced by independent contractors. \n",
       "\n",
       "The researcher's situation also has some parallels with Source 5, where the individual is setting up a gaming community and is considering hiring programmers/developers. They are also concerned about the legal implications of receiving donations and paying the developers from these funds [[5](https://www.reddit.com/r/legaladvice/comments/gn4sdf/does_this_count_as_a_business_what_do_i_need_to/)]. This could provide the researcher with insights into the potential legal considerations of paying contractors from crowdfunding income. \n",
       "\n",
       "However, the researcher's situation differs from these sources in that they are located in Ohio and may need to hire contractors from different states or countries. This could introduce additional legal considerations not covered in these sources."
      ],
      "text/plain": [
       "<IPython.core.display.Markdown object>"
      ]
     },
     "metadata": {},
     "output_type": "display_data"
    },
    {
     "data": {
      "text/markdown": [
       "### **Sources:**"
      ],
      "text/plain": [
       "<IPython.core.display.Markdown object>"
      ]
     },
     "metadata": {},
     "output_type": "display_data"
    },
    {
     "data": {
      "text/markdown": [
       "#### [1] [\"Protecting Intellectual Property and Ensuring Payment: Legal Considerations for Hiring Independent Contractors in the Video Game Industry\"](https://www.reddit.com/r/legaladvice/comments/gilww3/oh_advice_on_safe_contracts_for/) - OR, 2020-05-12"
      ],
      "text/plain": [
       "<IPython.core.display.Markdown object>"
      ]
     },
     "metadata": {},
     "output_type": "display_data"
    },
    {
     "data": {
      "text/markdown": [
       "#### [2] [\"Legal considerations for becoming an independent contractor and transferring copyright in a software development agreement\"](https://www.reddit.com/r/legaladvice/comments/2t9664/independent_contractor_things_to_watch_out_for_in/) - CT, 2015-01-22"
      ],
      "text/plain": [
       "<IPython.core.display.Markdown object>"
      ]
     },
     "metadata": {},
     "output_type": "display_data"
    },
    {
     "data": {
      "text/markdown": [
       "#### [3] [Determining the Classification of a Video Editor: Independent Contractor or Employee?](https://www.reddit.com/r/legaladvice/comments/gphir8/looking_to_outsource_work_to_a_foreign_friend_how/) - NM, 2020-05-24"
      ],
      "text/plain": [
       "<IPython.core.display.Markdown object>"
      ]
     },
     "metadata": {},
     "output_type": "display_data"
    },
    {
     "data": {
      "text/markdown": [
       "#### [4] [\"Contractual disputes and concerns about representation on company website\"](https://www.reddit.com/r/legaladvice/comments/gcgdi7/what_are_the_legal_implications_of_being_listed/) - VT, 2020-05-02"
      ],
      "text/plain": [
       "<IPython.core.display.Markdown object>"
      ]
     },
     "metadata": {},
     "output_type": "display_data"
    },
    {
     "data": {
      "text/markdown": [
       "#### [5] [\"Legal considerations for setting up a gaming community donations system and hiring developers\"](https://www.reddit.com/r/legaladvice/comments/gn4sdf/does_this_count_as_a_business_what_do_i_need_to/) - HI, 2020-05-20"
      ],
      "text/plain": [
       "<IPython.core.display.Markdown object>"
      ]
     },
     "metadata": {},
     "output_type": "display_data"
    }
   ],
   "source": [
    "display(Markdown(f\"## New Query:\"))\n",
    "display(Markdown(f\"{user_query}\"))\n",
    "display(Markdown(f\"## Model Output:\"))\n",
    "display(Markdown(f\"{response.response}\"))\n",
    "display(Markdown(f\"### **Sources:**\"))\n",
    "print_nodes(response, new_nodes)"
   ]
  },
  {
   "cell_type": "code",
   "execution_count": null,
   "metadata": {},
   "outputs": [],
   "source": [
    "https://python.langchain.com/docs/modules/agents/tools/custom_tools"
   ]
  },
  {
   "cell_type": "code",
   "execution_count": null,
   "metadata": {},
   "outputs": [],
   "source": [
    "https://python.langchain.com/docs/modules/agents/tools/multi_input_tool"
   ]
  },
  {
   "cell_type": "code",
   "execution_count": null,
   "metadata": {},
   "outputs": [],
   "source": []
  },
  {
   "cell_type": "code",
   "execution_count": null,
   "metadata": {},
   "outputs": [],
   "source": []
  },
  {
   "cell_type": "code",
   "execution_count": null,
   "metadata": {},
   "outputs": [],
   "source": []
  },
  {
   "cell_type": "code",
   "execution_count": null,
   "metadata": {},
   "outputs": [],
   "source": []
  },
  {
   "cell_type": "code",
   "execution_count": null,
   "metadata": {},
   "outputs": [],
   "source": []
  },
  {
   "attachments": {},
   "cell_type": "markdown",
   "metadata": {},
   "source": [
    "# Reddit \"Legal Advice\""
   ]
  },
  {
   "cell_type": "code",
   "execution_count": 1,
   "metadata": {},
   "outputs": [],
   "source": [
    "import os\n",
    "import time\n",
    "import tiktoken\n",
    "import numpy as np\n",
    "import warnings\n",
    "warnings.simplefilter(action='ignore', category=FutureWarning)\n",
    "import pandas as pd\n",
    "from dotenv import load_dotenv\n",
    "from IPython.display import Markdown, display"
   ]
  },
  {
   "cell_type": "code",
   "execution_count": 2,
   "metadata": {},
   "outputs": [],
   "source": [
    "from token_catcher import Usage"
   ]
  },
  {
   "cell_type": "code",
   "execution_count": 3,
   "metadata": {},
   "outputs": [
    {
     "data": {
      "text/plain": [
       "True"
      ]
     },
     "execution_count": 3,
     "metadata": {},
     "output_type": "execute_result"
    }
   ],
   "source": [
    "from dotenv import load_dotenv\n",
    "load_dotenv()"
   ]
  },
  {
   "cell_type": "code",
   "execution_count": 4,
   "metadata": {},
   "outputs": [],
   "source": [
    "df = pd.read_parquet(\"../legal_reddit_df_with_embeddings.parquet\")"
   ]
  },
  {
   "cell_type": "code",
   "execution_count": 5,
   "metadata": {},
   "outputs": [],
   "source": [
    "encoding = tiktoken.get_encoding('cl100k_base')"
   ]
  },
  {
   "cell_type": "code",
   "execution_count": 6,
   "metadata": {},
   "outputs": [],
   "source": [
    "df['token_count'] = df['body'].apply(lambda x: len(encoding.encode(x)))"
   ]
  },
  {
   "cell_type": "code",
   "execution_count": 7,
   "metadata": {},
   "outputs": [
    {
     "name": "stdout",
     "output_type": "stream",
     "text": [
      "(9887, 9)\n"
     ]
    },
    {
     "data": {
      "text/html": [
       "<div>\n",
       "<style scoped>\n",
       "    .dataframe tbody tr th:only-of-type {\n",
       "        vertical-align: middle;\n",
       "    }\n",
       "\n",
       "    .dataframe tbody tr th {\n",
       "        vertical-align: top;\n",
       "    }\n",
       "\n",
       "    .dataframe thead th {\n",
       "        text-align: right;\n",
       "    }\n",
       "</style>\n",
       "<table border=\"1\" class=\"dataframe\">\n",
       "  <thead>\n",
       "    <tr style=\"text-align: right;\">\n",
       "      <th></th>\n",
       "      <th>created_utc</th>\n",
       "      <th>full_link</th>\n",
       "      <th>id</th>\n",
       "      <th>body</th>\n",
       "      <th>title</th>\n",
       "      <th>text_label</th>\n",
       "      <th>flair_label</th>\n",
       "      <th>embeddings</th>\n",
       "      <th>token_count</th>\n",
       "    </tr>\n",
       "  </thead>\n",
       "  <tbody>\n",
       "    <tr>\n",
       "      <th>0</th>\n",
       "      <td>1588353888</td>\n",
       "      <td>https://www.reddit.com/r/legaladvice/comments/...</td>\n",
       "      <td>gbmcb0</td>\n",
       "      <td>The title says most of it. I just heard back f...</td>\n",
       "      <td>My former employer fired everyone when they ha...</td>\n",
       "      <td>employment</td>\n",
       "      <td>5</td>\n",
       "      <td>[-0.009678525544039132, -0.030654356001073007,...</td>\n",
       "      <td>156</td>\n",
       "    </tr>\n",
       "    <tr>\n",
       "      <th>1</th>\n",
       "      <td>1575490057</td>\n",
       "      <td>https://www.reddit.com/r/legaladvice/comments/...</td>\n",
       "      <td>e64ze3</td>\n",
       "      <td>In Maine, my landlord (commercial property man...</td>\n",
       "      <td>Landlord is updating snow removal policies and...</td>\n",
       "      <td>housing</td>\n",
       "      <td>7</td>\n",
       "      <td>[-0.014251169117179163, -0.0037985407615359528...</td>\n",
       "      <td>218</td>\n",
       "    </tr>\n",
       "  </tbody>\n",
       "</table>\n",
       "</div>"
      ],
      "text/plain": [
       "   created_utc                                          full_link      id  \\\n",
       "0   1588353888  https://www.reddit.com/r/legaladvice/comments/...  gbmcb0   \n",
       "1   1575490057  https://www.reddit.com/r/legaladvice/comments/...  e64ze3   \n",
       "\n",
       "                                                body  \\\n",
       "0  The title says most of it. I just heard back f...   \n",
       "1  In Maine, my landlord (commercial property man...   \n",
       "\n",
       "                                               title  text_label  flair_label  \\\n",
       "0  My former employer fired everyone when they ha...  employment            5   \n",
       "1  Landlord is updating snow removal policies and...     housing            7   \n",
       "\n",
       "                                          embeddings  token_count  \n",
       "0  [-0.009678525544039132, -0.030654356001073007,...          156  \n",
       "1  [-0.014251169117179163, -0.0037985407615359528...          218  "
      ]
     },
     "execution_count": 7,
     "metadata": {},
     "output_type": "execute_result"
    }
   ],
   "source": [
    "print(df.shape)\n",
    "df.head(2)"
   ]
  },
  {
   "cell_type": "code",
   "execution_count": 8,
   "metadata": {},
   "outputs": [
    {
     "data": {
      "text/plain": [
       "count    9887.000000\n",
       "mean      281.192070\n",
       "std       269.636493\n",
       "min         1.000000\n",
       "25%       120.000000\n",
       "50%       209.000000\n",
       "75%       350.000000\n",
       "max      8513.000000\n",
       "Name: token_count, dtype: float64"
      ]
     },
     "execution_count": 8,
     "metadata": {},
     "output_type": "execute_result"
    }
   ],
   "source": [
    "df.token_count.describe()"
   ]
  },
  {
   "cell_type": "code",
   "execution_count": 9,
   "metadata": {},
   "outputs": [
    {
     "name": "stdout",
     "output_type": "stream",
     "text": [
      "df shape before: (9887, 9)\n",
      "df shape after: (9677, 9)\n"
     ]
    }
   ],
   "source": [
    "print(f\"df shape before: {df.shape}\")\n",
    "df = df[df['token_count']<1024]\n",
    "print(f\"df shape after: {df.shape}\")"
   ]
  },
  {
   "cell_type": "code",
   "execution_count": 10,
   "metadata": {},
   "outputs": [],
   "source": [
    "df_dedup = df.drop_duplicates(subset='body', keep='last')\n",
    "df_dedup.reset_index(inplace=True, drop=True)"
   ]
  },
  {
   "cell_type": "code",
   "execution_count": 11,
   "metadata": {},
   "outputs": [
    {
     "data": {
      "text/markdown": [
       "\n",
       "| Name | Count |\n",
       "| --- | --- |\n",
       "| N Original Rows: | 9,677 |\n",
       "| N Dups: | 54 |\n",
       "| N Rows in Deduped df: | 9,623 |\n"
      ],
      "text/plain": [
       "<IPython.core.display.Markdown object>"
      ]
     },
     "execution_count": 11,
     "metadata": {},
     "output_type": "execute_result"
    }
   ],
   "source": [
    "Markdown(f\"\"\"\n",
    "| Name | Count |\n",
    "| --- | --- |\n",
    "| N Original Rows: | {len(df):,} |\n",
    "| N Dups: | {len(df) - len(df_dedup)} |\n",
    "| N Rows in Deduped df: | {len(df_dedup):,} |\n",
    "\"\"\")\n"
   ]
  },
  {
   "cell_type": "code",
   "execution_count": 12,
   "metadata": {},
   "outputs": [
    {
     "data": {
      "image/png": "[encoded data removed]",
      "text/plain": [
       "<Figure size 640x480 with 1 Axes>"
      ]
     },
     "metadata": {},
     "output_type": "display_data"
    }
   ],
   "source": [
    "df.token_count.hist(bins=100);"
   ]
  },
  {
   "cell_type": "code",
   "execution_count": 13,
   "metadata": {},
   "outputs": [],
   "source": [
    "from langchain import LLMChain\n",
    "from langchain.chat_models import ChatOpenAI\n",
    "from langchain.prompts.chat import (\n",
    "    ChatPromptTemplate,\n",
    "    SystemMessagePromptTemplate,\n",
    "    HumanMessagePromptTemplate,\n",
    ")\n",
    "\n",
    "\n",
    "system_template = \"You're a legal journalist. You're helping me write a concise topic title for legal questions.\"\n",
    "human_template = \"Using the following legal questions, write a concise tag line.\\n\\nQUESTIONS:{body}\\n\\nTAG LINE:\"\n",
    "\n",
    "prompt = ChatPromptTemplate(\n",
    "    messages=[\n",
    "        SystemMessagePromptTemplate.from_template(system_template),\n",
    "        HumanMessagePromptTemplate.from_template(human_template),\n",
    "    ],\n",
    "    input_variables=[\"body\"],\n",
    ")\n",
    "    \n",
    "chain = LLMChain(\n",
    "    llm=ChatOpenAI(temperature=0, model_name=\"gpt-3.5-turbo\"), prompt=prompt, verbose=False\n",
    ")"
   ]
  },
  {
   "cell_type": "code",
   "execution_count": 14,
   "metadata": {},
   "outputs": [
    {
     "data": {
      "text/plain": [
       "9623"
      ]
     },
     "execution_count": 14,
     "metadata": {},
     "output_type": "execute_result"
    }
   ],
   "source": [
    "list_to_chain = df_dedup[[\"body\"]].to_dict('records')\n",
    "len(list_to_chain)"
   ]
  },
  {
   "cell_type": "code",
   "execution_count": 15,
   "metadata": {},
   "outputs": [],
   "source": [
    "usage = Usage()"
   ]
  },
  {
   "cell_type": "code",
   "execution_count": 16,
   "metadata": {},
   "outputs": [
    {
     "name": "stderr",
     "output_type": "stream",
     "text": [
      "  6%|▋         | 625/9623 [08:25<2:02:27,  1.22it/s]Retrying langchain.chat_models.openai.ChatOpenAI.completion_with_retry.<locals>._completion_with_retry in 4.0 seconds as it raised ServiceUnavailableError: The server is overloaded or not ready yet..\n",
      " 11%|█         | 1070/9623 [14:31<1:51:58,  1.27it/s]Retrying langchain.chat_models.openai.ChatOpenAI.completion_with_retry.<locals>._completion_with_retry in 4.0 seconds as it raised Timeout: Request timed out: HTTPSConnectionPool(host='api.openai.com', port=443): Read timed out. (read timeout=600).\n",
      " 13%|█▎        | 1298/9623 [27:46<1:56:20,  1.19it/s]   Retrying langchain.chat_models.openai.ChatOpenAI.completion_with_retry.<locals>._completion_with_retry in 4.0 seconds as it raised Timeout: Request timed out: HTTPSConnectionPool(host='api.openai.com', port=443): Read timed out. (read timeout=600).\n",
      " 46%|████▋     | 4463/9623 [1:18:03<1:03:58,  1.34it/s] Retrying langchain.chat_models.openai.ChatOpenAI.completion_with_retry.<locals>._completion_with_retry in 4.0 seconds as it raised Timeout: Request timed out: HTTPSConnectionPool(host='api.openai.com', port=443): Read timed out. (read timeout=600).\n",
      " 51%|█████▏    | 4953/9623 [1:34:18<56:43,  1.37it/s]     Retrying langchain.chat_models.openai.ChatOpenAI.completion_with_retry.<locals>._completion_with_retry in 4.0 seconds as it raised ServiceUnavailableError: The server is overloaded or not ready yet..\n",
      " 78%|███████▊  | 7476/9623 [2:05:26<22:03,  1.62it/s]  Retrying langchain.chat_models.openai.ChatOpenAI.completion_with_retry.<locals>._completion_with_retry in 4.0 seconds as it raised Timeout: Request timed out: HTTPSConnectionPool(host='api.openai.com', port=443): Read timed out. (read timeout=600).\n",
      " 87%|████████▋ | 8389/9623 [2:26:38<17:01,  1.21it/s]     Retrying langchain.chat_models.openai.ChatOpenAI.completion_with_retry.<locals>._completion_with_retry in 4.0 seconds as it raised Timeout: Request timed out: HTTPSConnectionPool(host='api.openai.com', port=443): Read timed out. (read timeout=600).\n",
      " 90%|████████▉ | 8629/9623 [2:39:47<11:49,  1.40it/s]    Retrying langchain.chat_models.openai.ChatOpenAI.completion_with_retry.<locals>._completion_with_retry in 4.0 seconds as it raised Timeout: Request timed out: HTTPSConnectionPool(host='api.openai.com', port=443): Read timed out. (read timeout=600).\n",
      " 95%|█████████▌| 9159/9623 [2:56:51<06:03,  1.27it/s]    Retrying langchain.chat_models.openai.ChatOpenAI.completion_with_retry.<locals>._completion_with_retry in 4.0 seconds as it raised Timeout: Request timed out: HTTPSConnectionPool(host='api.openai.com', port=443): Read timed out. (read timeout=600).\n",
      " 96%|█████████▌| 9190/9623 [3:07:20<07:49,  1.08s/it]    Retrying langchain.chat_models.openai.ChatOpenAI.completion_with_retry.<locals>._completion_with_retry in 4.0 seconds as it raised Timeout: Request timed out: HTTPSConnectionPool(host='api.openai.com', port=443): Read timed out. (read timeout=600).\n",
      "100%|██████████| 9623/9623 [3:22:50<00:00,  1.26s/it]    "
     ]
    },
    {
     "name": "stdout",
     "output_type": "stream",
     "text": [
      "Total elapsed time: 12170.79 seconds\n"
     ]
    },
    {
     "name": "stderr",
     "output_type": "stream",
     "text": [
      "\n"
     ]
    }
   ],
   "source": [
    "from tqdm import tqdm\n",
    "batch_size = 1\n",
    "results = []\n",
    "\n",
    "start_time = time.time()\n",
    "\n",
    "for i, batch_start in tqdm(enumerate(range(0, len(list_to_chain), batch_size)), total=len(list_to_chain)//batch_size):\n",
    "    batch = list_to_chain[batch_start: batch_start + batch_size]\n",
    "    processed_batch = chain.run(batch)\n",
    "    results.append(processed_batch)\n",
    "\n",
    "final_time = time.time() - start_time\n",
    "print(f\"Total elapsed time: {final_time:.2f} seconds\")"
   ]
  },
  {
   "cell_type": "code",
   "execution_count": 17,
   "metadata": {},
   "outputs": [
    {
     "data": {
      "text/plain": [
       "6.483348"
      ]
     },
     "execution_count": 17,
     "metadata": {},
     "output_type": "execute_result"
    }
   ],
   "source": [
    "usage.total_tokens()/1000*0.002"
   ]
  },
  {
   "cell_type": "code",
   "execution_count": 18,
   "metadata": {},
   "outputs": [],
   "source": [
    "# Check if 'results' length is same as the original data\n",
    "assert len(results) == len(df_dedup), \"Length of the result does not match with the original data\""
   ]
  },
  {
   "cell_type": "code",
   "execution_count": 19,
   "metadata": {},
   "outputs": [
    {
     "data": {
      "text/plain": [
       "'\"Legal implications of mass termination and potential for wrongful termination class-action lawsuit at Cafe Mooby\"'"
      ]
     },
     "execution_count": 19,
     "metadata": {},
     "output_type": "execute_result"
    }
   ],
   "source": [
    "results[0]"
   ]
  },
  {
   "cell_type": "code",
   "execution_count": 1,
   "metadata": {},
   "outputs": [],
   "source": [
    "# df_dedup['llm_title'] = pd.DataFrame(results)"
   ]
  },
  {
   "cell_type": "code",
   "execution_count": 21,
   "metadata": {},
   "outputs": [
    {
     "data": {
      "text/html": [
       "<div>\n",
       "<style scoped>\n",
       "    .dataframe tbody tr th:only-of-type {\n",
       "        vertical-align: middle;\n",
       "    }\n",
       "\n",
       "    .dataframe tbody tr th {\n",
       "        vertical-align: top;\n",
       "    }\n",
       "\n",
       "    .dataframe thead th {\n",
       "        text-align: right;\n",
       "    }\n",
       "</style>\n",
       "<table border=\"1\" class=\"dataframe\">\n",
       "  <thead>\n",
       "    <tr style=\"text-align: right;\">\n",
       "      <th></th>\n",
       "      <th>created_utc</th>\n",
       "      <th>full_link</th>\n",
       "      <th>id</th>\n",
       "      <th>body</th>\n",
       "      <th>title</th>\n",
       "      <th>text_label</th>\n",
       "      <th>flair_label</th>\n",
       "      <th>embeddings</th>\n",
       "      <th>token_count</th>\n",
       "      <th>llm_title</th>\n",
       "    </tr>\n",
       "  </thead>\n",
       "  <tbody>\n",
       "    <tr>\n",
       "      <th>0</th>\n",
       "      <td>1588353888</td>\n",
       "      <td>https://www.reddit.com/r/legaladvice/comments/...</td>\n",
       "      <td>gbmcb0</td>\n",
       "      <td>The title says most of it. I just heard back f...</td>\n",
       "      <td>My former employer fired everyone when they ha...</td>\n",
       "      <td>employment</td>\n",
       "      <td>5</td>\n",
       "      <td>[-0.009678525544039132, -0.030654356001073007,...</td>\n",
       "      <td>156</td>\n",
       "      <td>\"Legal implications of mass termination and po...</td>\n",
       "    </tr>\n",
       "    <tr>\n",
       "      <th>1</th>\n",
       "      <td>1575490057</td>\n",
       "      <td>https://www.reddit.com/r/legaladvice/comments/...</td>\n",
       "      <td>e64ze3</td>\n",
       "      <td>In Maine, my landlord (commercial property man...</td>\n",
       "      <td>Landlord is updating snow removal policies and...</td>\n",
       "      <td>housing</td>\n",
       "      <td>7</td>\n",
       "      <td>[-0.014251169117179163, -0.0037985407615359528...</td>\n",
       "      <td>218</td>\n",
       "      <td>\"Unforeseen snow removal policy changes and po...</td>\n",
       "    </tr>\n",
       "  </tbody>\n",
       "</table>\n",
       "</div>"
      ],
      "text/plain": [
       "   created_utc                                          full_link      id  \\\n",
       "0   1588353888  https://www.reddit.com/r/legaladvice/comments/...  gbmcb0   \n",
       "1   1575490057  https://www.reddit.com/r/legaladvice/comments/...  e64ze3   \n",
       "\n",
       "                                                body  \\\n",
       "0  The title says most of it. I just heard back f...   \n",
       "1  In Maine, my landlord (commercial property man...   \n",
       "\n",
       "                                               title  text_label  flair_label  \\\n",
       "0  My former employer fired everyone when they ha...  employment            5   \n",
       "1  Landlord is updating snow removal policies and...     housing            7   \n",
       "\n",
       "                                          embeddings  token_count  \\\n",
       "0  [-0.009678525544039132, -0.030654356001073007,...          156   \n",
       "1  [-0.014251169117179163, -0.0037985407615359528...          218   \n",
       "\n",
       "                                           llm_title  \n",
       "0  \"Legal implications of mass termination and po...  \n",
       "1  \"Unforeseen snow removal policy changes and po...  "
      ]
     },
     "execution_count": 21,
     "metadata": {},
     "output_type": "execute_result"
    }
   ],
   "source": [
    "df_dedup.head(2)"
   ]
  },
  {
   "cell_type": "code",
   "execution_count": null,
   "metadata": {},
   "outputs": [],
   "source": [
    "# df_dedup.to_parquet(\"legal_reddit_df_with_titles.parquet\")"
   ]
  },
  {
   "cell_type": "code",
   "execution_count": 5,
   "metadata": {},
   "outputs": [],
   "source": [
    "df = pd.read_parquet(\"legal_reddit_df_with_titles.parquet\")"
   ]
  },
  {
   "cell_type": "code",
   "execution_count": 6,
   "metadata": {},
   "outputs": [
    {
     "name": "stdout",
     "output_type": "stream",
     "text": [
      "(9623, 10)\n"
     ]
    },
    {
     "data": {
      "text/html": [
       "<div>\n",
       "<style scoped>\n",
       "    .dataframe tbody tr th:only-of-type {\n",
       "        vertical-align: middle;\n",
       "    }\n",
       "\n",
       "    .dataframe tbody tr th {\n",
       "        vertical-align: top;\n",
       "    }\n",
       "\n",
       "    .dataframe thead th {\n",
       "        text-align: right;\n",
       "    }\n",
       "</style>\n",
       "<table border=\"1\" class=\"dataframe\">\n",
       "  <thead>\n",
       "    <tr style=\"text-align: right;\">\n",
       "      <th></th>\n",
       "      <th>created_utc</th>\n",
       "      <th>full_link</th>\n",
       "      <th>id</th>\n",
       "      <th>body</th>\n",
       "      <th>title</th>\n",
       "      <th>text_label</th>\n",
       "      <th>flair_label</th>\n",
       "      <th>embeddings</th>\n",
       "      <th>token_count</th>\n",
       "      <th>llm_title</th>\n",
       "    </tr>\n",
       "  </thead>\n",
       "  <tbody>\n",
       "    <tr>\n",
       "      <th>0</th>\n",
       "      <td>1588353888</td>\n",
       "      <td>https://www.reddit.com/r/legaladvice/comments/...</td>\n",
       "      <td>gbmcb0</td>\n",
       "      <td>The title says most of it. I just heard back f...</td>\n",
       "      <td>My former employer fired everyone when they ha...</td>\n",
       "      <td>employment</td>\n",
       "      <td>5</td>\n",
       "      <td>[-0.009678525544039132, -0.030654356001073007,...</td>\n",
       "      <td>156</td>\n",
       "      <td>\"Legal implications of mass termination and po...</td>\n",
       "    </tr>\n",
       "    <tr>\n",
       "      <th>1</th>\n",
       "      <td>1575490057</td>\n",
       "      <td>https://www.reddit.com/r/legaladvice/comments/...</td>\n",
       "      <td>e64ze3</td>\n",
       "      <td>In Maine, my landlord (commercial property man...</td>\n",
       "      <td>Landlord is updating snow removal policies and...</td>\n",
       "      <td>housing</td>\n",
       "      <td>7</td>\n",
       "      <td>[-0.014251169117179163, -0.0037985407615359528...</td>\n",
       "      <td>218</td>\n",
       "      <td>\"Unforeseen snow removal policy changes and po...</td>\n",
       "    </tr>\n",
       "  </tbody>\n",
       "</table>\n",
       "</div>"
      ],
      "text/plain": [
       "   created_utc                                          full_link      id  \\\n",
       "0   1588353888  https://www.reddit.com/r/legaladvice/comments/...  gbmcb0   \n",
       "1   1575490057  https://www.reddit.com/r/legaladvice/comments/...  e64ze3   \n",
       "\n",
       "                                                body  \\\n",
       "0  The title says most of it. I just heard back f...   \n",
       "1  In Maine, my landlord (commercial property man...   \n",
       "\n",
       "                                               title  text_label  flair_label  \\\n",
       "0  My former employer fired everyone when they ha...  employment            5   \n",
       "1  Landlord is updating snow removal policies and...     housing            7   \n",
       "\n",
       "                                          embeddings  token_count  \\\n",
       "0  [-0.009678525544039132, -0.030654356001073007,...          156   \n",
       "1  [-0.014251169117179163, -0.0037985407615359528...          218   \n",
       "\n",
       "                                           llm_title  \n",
       "0  \"Legal implications of mass termination and po...  \n",
       "1  \"Unforeseen snow removal policy changes and po...  "
      ]
     },
     "execution_count": 6,
     "metadata": {},
     "output_type": "execute_result"
    }
   ],
   "source": [
    "print(df.shape)\n",
    "df.head(2)"
   ]
  },
  {
   "cell_type": "code",
   "execution_count": null,
   "metadata": {},
   "outputs": [],
   "source": []
  }
 ],
 "metadata": {
  "kernelspec": {
   "display_name": "liberty-gpt-py3.10",
   "language": "python",
   "name": "liberty-gpt-py3.10"
  },
  "language_info": {
   "codemirror_mode": {
    "name": "ipython",
    "version": 3
   },
   "file_extension": ".py",
   "mimetype": "text/x-python",
   "name": "python",
   "nbconvert_exporter": "python",
   "pygments_lexer": "ipython3",
   "version": "3.10.1"
  },
  "orig_nbformat": 4
 },
 "nbformat": 4,
 "nbformat_minor": 2
}
