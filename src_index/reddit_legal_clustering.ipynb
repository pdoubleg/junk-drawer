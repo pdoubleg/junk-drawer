{
 "cells": [
  {
   "cell_type": "code",
   "execution_count": null,
   "metadata": {},
   "outputs": [],
   "source": []
  },
  {
   "cell_type": "markdown",
   "metadata": {},
   "source": [
    "# Reddit \"Legal Advice\""
   ]
  },
  {
   "cell_type": "code",
   "execution_count": 1,
   "metadata": {},
   "outputs": [],
   "source": [
    "import os\n",
    "import time\n",
    "import tiktoken\n",
    "import numpy as np\n",
    "import warnings\n",
    "warnings.simplefilter(action='ignore', category=FutureWarning)\n",
    "import pandas as pd\n",
    "from dotenv import load_dotenv\n",
    "from IPython.display import Markdown, display"
   ]
  },
  {
   "cell_type": "code",
   "execution_count": 2,
   "metadata": {},
   "outputs": [],
   "source": [
    "from token_catcher import Usage"
   ]
  },
  {
   "cell_type": "code",
   "execution_count": 3,
   "metadata": {},
   "outputs": [
    {
     "data": {
      "text/plain": [
       "True"
      ]
     },
     "execution_count": 3,
     "metadata": {},
     "output_type": "execute_result"
    }
   ],
   "source": [
    "from dotenv import load_dotenv\n",
    "load_dotenv()"
   ]
  },
  {
   "cell_type": "code",
   "execution_count": 4,
   "metadata": {},
   "outputs": [],
   "source": [
    "df = pd.read_parquet(\"../legal_reddit_df_with_embeddings.parquet\")"
   ]
  },
  {
   "cell_type": "code",
   "execution_count": 5,
   "metadata": {},
   "outputs": [],
   "source": [
    "encoding = tiktoken.get_encoding('cl100k_base')"
   ]
  },
  {
   "cell_type": "code",
   "execution_count": 6,
   "metadata": {},
   "outputs": [],
   "source": [
    "df['token_count'] = df['body'].apply(lambda x: len(encoding.encode(x)))"
   ]
  },
  {
   "cell_type": "code",
   "execution_count": 7,
   "metadata": {},
   "outputs": [
    {
     "name": "stdout",
     "output_type": "stream",
     "text": [
      "(9887, 9)\n"
     ]
    },
    {
     "data": {
      "text/html": [
       "<div>\n",
       "<style scoped>\n",
       "    .dataframe tbody tr th:only-of-type {\n",
       "        vertical-align: middle;\n",
       "    }\n",
       "\n",
       "    .dataframe tbody tr th {\n",
       "        vertical-align: top;\n",
       "    }\n",
       "\n",
       "    .dataframe thead th {\n",
       "        text-align: right;\n",
       "    }\n",
       "</style>\n",
       "<table border=\"1\" class=\"dataframe\">\n",
       "  <thead>\n",
       "    <tr style=\"text-align: right;\">\n",
       "      <th></th>\n",
       "      <th>created_utc</th>\n",
       "      <th>full_link</th>\n",
       "      <th>id</th>\n",
       "      <th>body</th>\n",
       "      <th>title</th>\n",
       "      <th>text_label</th>\n",
       "      <th>flair_label</th>\n",
       "      <th>embeddings</th>\n",
       "      <th>token_count</th>\n",
       "    </tr>\n",
       "  </thead>\n",
       "  <tbody>\n",
       "    <tr>\n",
       "      <th>0</th>\n",
       "      <td>1588353888</td>\n",
       "      <td>https://www.reddit.com/r/legaladvice/comments/...</td>\n",
       "      <td>gbmcb0</td>\n",
       "      <td>The title says most of it. I just heard back f...</td>\n",
       "      <td>My former employer fired everyone when they ha...</td>\n",
       "      <td>employment</td>\n",
       "      <td>5</td>\n",
       "      <td>[-0.009678525544039132, -0.030654356001073007,...</td>\n",
       "      <td>156</td>\n",
       "    </tr>\n",
       "    <tr>\n",
       "      <th>1</th>\n",
       "      <td>1575490057</td>\n",
       "      <td>https://www.reddit.com/r/legaladvice/comments/...</td>\n",
       "      <td>e64ze3</td>\n",
       "      <td>In Maine, my landlord (commercial property man...</td>\n",
       "      <td>Landlord is updating snow removal policies and...</td>\n",
       "      <td>housing</td>\n",
       "      <td>7</td>\n",
       "      <td>[-0.014251169117179163, -0.0037985407615359528...</td>\n",
       "      <td>218</td>\n",
       "    </tr>\n",
       "  </tbody>\n",
       "</table>\n",
       "</div>"
      ],
      "text/plain": [
       "   created_utc                                          full_link      id  \\\n",
       "0   1588353888  https://www.reddit.com/r/legaladvice/comments/...  gbmcb0   \n",
       "1   1575490057  https://www.reddit.com/r/legaladvice/comments/...  e64ze3   \n",
       "\n",
       "                                                body  \\\n",
       "0  The title says most of it. I just heard back f...   \n",
       "1  In Maine, my landlord (commercial property man...   \n",
       "\n",
       "                                               title  text_label  flair_label  \\\n",
       "0  My former employer fired everyone when they ha...  employment            5   \n",
       "1  Landlord is updating snow removal policies and...     housing            7   \n",
       "\n",
       "                                          embeddings  token_count  \n",
       "0  [-0.009678525544039132, -0.030654356001073007,...          156  \n",
       "1  [-0.014251169117179163, -0.0037985407615359528...          218  "
      ]
     },
     "execution_count": 7,
     "metadata": {},
     "output_type": "execute_result"
    }
   ],
   "source": [
    "print(df.shape)\n",
    "df.head(2)"
   ]
  },
  {
   "cell_type": "code",
   "execution_count": 8,
   "metadata": {},
   "outputs": [
    {
     "data": {
      "text/plain": [
       "count    9887.000000\n",
       "mean      281.192070\n",
       "std       269.636493\n",
       "min         1.000000\n",
       "25%       120.000000\n",
       "50%       209.000000\n",
       "75%       350.000000\n",
       "max      8513.000000\n",
       "Name: token_count, dtype: float64"
      ]
     },
     "execution_count": 8,
     "metadata": {},
     "output_type": "execute_result"
    }
   ],
   "source": [
    "df.token_count.describe()"
   ]
  },
  {
   "cell_type": "code",
   "execution_count": 9,
   "metadata": {},
   "outputs": [
    {
     "name": "stdout",
     "output_type": "stream",
     "text": [
      "df shape before: (9887, 9)\n",
      "df shape after: (9677, 9)\n"
     ]
    }
   ],
   "source": [
    "print(f\"df shape before: {df.shape}\")\n",
    "df = df[df['token_count']<1024]\n",
    "print(f\"df shape after: {df.shape}\")"
   ]
  },
  {
   "cell_type": "code",
   "execution_count": 10,
   "metadata": {},
   "outputs": [],
   "source": [
    "df_dedup = df.drop_duplicates(subset='body', keep='last')\n",
    "df_dedup.reset_index(inplace=True, drop=True)"
   ]
  },
  {
   "cell_type": "code",
   "execution_count": 11,
   "metadata": {},
   "outputs": [
    {
     "data": {
      "text/markdown": [
       "\n",
       "| Name | Count |\n",
       "| --- | --- |\n",
       "| N Original Rows: | 9,677 |\n",
       "| N Dups: | 54 |\n",
       "| N Rows in Deduped df: | 9,623 |\n"
      ],
      "text/plain": [
       "<IPython.core.display.Markdown object>"
      ]
     },
     "execution_count": 11,
     "metadata": {},
     "output_type": "execute_result"
    }
   ],
   "source": [
    "Markdown(f\"\"\"\n",
    "| Name | Count |\n",
    "| --- | --- |\n",
    "| N Original Rows: | {len(df):,} |\n",
    "| N Dups: | {len(df) - len(df_dedup)} |\n",
    "| N Rows in Deduped df: | {len(df_dedup):,} |\n",
    "\"\"\")\n"
   ]
  },
  {
   "cell_type": "code",
   "execution_count": 12,
   "metadata": {},
   "outputs": [
    {
     "data": {
      "image/png": "[encoded data removed]",
      "text/plain": [
       "<Figure size 640x480 with 1 Axes>"
      ]
     },
     "metadata": {},
     "output_type": "display_data"
    }
   ],
   "source": [
    "df.token_count.hist(bins=100);"
   ]
  },
  {
   "cell_type": "code",
   "execution_count": 13,
   "metadata": {},
   "outputs": [],
   "source": [
    "from langchain import LLMChain\n",
    "from langchain.chat_models import ChatOpenAI\n",
    "from langchain.prompts.chat import (\n",
    "    ChatPromptTemplate,\n",
    "    SystemMessagePromptTemplate,\n",
    "    HumanMessagePromptTemplate,\n",
    ")\n",
    "\n",
    "\n",
    "system_template = \"You're a legal journalist. You're helping me write a concise topic title for legal questions.\"\n",
    "human_template = \"Using the following legal questions, write a concise tag line.\\n\\nQUESTIONS:{body}\\n\\nTAG LINE:\"\n",
    "\n",
    "prompt = ChatPromptTemplate(\n",
    "    messages=[\n",
    "        SystemMessagePromptTemplate.from_template(system_template),\n",
    "        HumanMessagePromptTemplate.from_template(human_template),\n",
    "    ],\n",
    "    input_variables=[\"body\"],\n",
    ")\n",
    "    \n",
    "chain = LLMChain(\n",
    "    llm=ChatOpenAI(temperature=0, model_name=\"gpt-3.5-turbo\"), prompt=prompt, verbose=False\n",
    ")"
   ]
  },
  {
   "cell_type": "code",
   "execution_count": 14,
   "metadata": {},
   "outputs": [
    {
     "data": {
      "text/plain": [
       "9623"
      ]
     },
     "execution_count": 14,
     "metadata": {},
     "output_type": "execute_result"
    }
   ],
   "source": [
    "list_to_chain = df_dedup[[\"body\"]].to_dict('records')\n",
    "len(list_to_chain)"
   ]
  },
  {
   "cell_type": "code",
   "execution_count": 15,
   "metadata": {},
   "outputs": [],
   "source": [
    "usage = Usage()"
   ]
  },
  {
   "cell_type": "code",
   "execution_count": 16,
   "metadata": {},
   "outputs": [
    {
     "name": "stderr",
     "output_type": "stream",
     "text": [
      "  6%|▋         | 625/9623 [08:25<2:02:27,  1.22it/s]Retrying langchain.chat_models.openai.ChatOpenAI.completion_with_retry.<locals>._completion_with_retry in 4.0 seconds as it raised ServiceUnavailableError: The server is overloaded or not ready yet..\n",
      " 11%|█         | 1070/9623 [14:31<1:51:58,  1.27it/s]Retrying langchain.chat_models.openai.ChatOpenAI.completion_with_retry.<locals>._completion_with_retry in 4.0 seconds as it raised Timeout: Request timed out: HTTPSConnectionPool(host='api.openai.com', port=443): Read timed out. (read timeout=600).\n",
      " 13%|█▎        | 1298/9623 [27:46<1:56:20,  1.19it/s]   Retrying langchain.chat_models.openai.ChatOpenAI.completion_with_retry.<locals>._completion_with_retry in 4.0 seconds as it raised Timeout: Request timed out: HTTPSConnectionPool(host='api.openai.com', port=443): Read timed out. (read timeout=600).\n",
      " 46%|████▋     | 4463/9623 [1:18:03<1:03:58,  1.34it/s] Retrying langchain.chat_models.openai.ChatOpenAI.completion_with_retry.<locals>._completion_with_retry in 4.0 seconds as it raised Timeout: Request timed out: HTTPSConnectionPool(host='api.openai.com', port=443): Read timed out. (read timeout=600).\n",
      " 51%|█████▏    | 4953/9623 [1:34:18<56:43,  1.37it/s]     Retrying langchain.chat_models.openai.ChatOpenAI.completion_with_retry.<locals>._completion_with_retry in 4.0 seconds as it raised ServiceUnavailableError: The server is overloaded or not ready yet..\n",
      " 78%|███████▊  | 7476/9623 [2:05:26<22:03,  1.62it/s]  Retrying langchain.chat_models.openai.ChatOpenAI.completion_with_retry.<locals>._completion_with_retry in 4.0 seconds as it raised Timeout: Request timed out: HTTPSConnectionPool(host='api.openai.com', port=443): Read timed out. (read timeout=600).\n",
      " 87%|████████▋ | 8389/9623 [2:26:38<17:01,  1.21it/s]     Retrying langchain.chat_models.openai.ChatOpenAI.completion_with_retry.<locals>._completion_with_retry in 4.0 seconds as it raised Timeout: Request timed out: HTTPSConnectionPool(host='api.openai.com', port=443): Read timed out. (read timeout=600).\n",
      " 90%|████████▉ | 8629/9623 [2:39:47<11:49,  1.40it/s]    Retrying langchain.chat_models.openai.ChatOpenAI.completion_with_retry.<locals>._completion_with_retry in 4.0 seconds as it raised Timeout: Request timed out: HTTPSConnectionPool(host='api.openai.com', port=443): Read timed out. (read timeout=600).\n",
      " 95%|█████████▌| 9159/9623 [2:56:51<06:03,  1.27it/s]    Retrying langchain.chat_models.openai.ChatOpenAI.completion_with_retry.<locals>._completion_with_retry in 4.0 seconds as it raised Timeout: Request timed out: HTTPSConnectionPool(host='api.openai.com', port=443): Read timed out. (read timeout=600).\n",
      " 96%|█████████▌| 9190/9623 [3:07:20<07:49,  1.08s/it]    Retrying langchain.chat_models.openai.ChatOpenAI.completion_with_retry.<locals>._completion_with_retry in 4.0 seconds as it raised Timeout: Request timed out: HTTPSConnectionPool(host='api.openai.com', port=443): Read timed out. (read timeout=600).\n",
      "100%|██████████| 9623/9623 [3:22:50<00:00,  1.26s/it]    "
     ]
    },
    {
     "name": "stdout",
     "output_type": "stream",
     "text": [
      "Total elapsed time: 12170.79 seconds\n"
     ]
    },
    {
     "name": "stderr",
     "output_type": "stream",
     "text": [
      "\n"
     ]
    }
   ],
   "source": [
    "from tqdm import tqdm\n",
    "batch_size = 1\n",
    "results = []\n",
    "\n",
    "start_time = time.time()\n",
    "\n",
    "for i, batch_start in tqdm(enumerate(range(0, len(list_to_chain), batch_size)), total=len(list_to_chain)//batch_size):\n",
    "    batch = list_to_chain[batch_start: batch_start + batch_size]\n",
    "    processed_batch = chain.run(batch)\n",
    "    results.append(processed_batch)\n",
    "\n",
    "final_time = time.time() - start_time\n",
    "print(f\"Total elapsed time: {final_time:.2f} seconds\")"
   ]
  },
  {
   "cell_type": "code",
   "execution_count": 17,
   "metadata": {},
   "outputs": [
    {
     "data": {
      "text/plain": [
       "6.483348"
      ]
     },
     "execution_count": 17,
     "metadata": {},
     "output_type": "execute_result"
    }
   ],
   "source": [
    "usage.total_tokens()/1000*0.002"
   ]
  },
  {
   "cell_type": "code",
   "execution_count": 18,
   "metadata": {},
   "outputs": [],
   "source": [
    "# Check if 'results' length is same as the original data\n",
    "assert len(results) == len(df_dedup), \"Length of the result does not match with the original data\""
   ]
  },
  {
   "cell_type": "code",
   "execution_count": 19,
   "metadata": {},
   "outputs": [
    {
     "data": {
      "text/plain": [
       "'\"Legal implications of mass termination and potential for wrongful termination class-action lawsuit at Cafe Mooby\"'"
      ]
     },
     "execution_count": 19,
     "metadata": {},
     "output_type": "execute_result"
    }
   ],
   "source": [
    "results[0]"
   ]
  },
  {
   "cell_type": "code",
   "execution_count": 1,
   "metadata": {},
   "outputs": [],
   "source": [
    "# df_dedup['llm_title'] = pd.DataFrame(results)"
   ]
  },
  {
   "cell_type": "code",
   "execution_count": 21,
   "metadata": {},
   "outputs": [
    {
     "data": {
      "text/html": [
       "<div>\n",
       "<style scoped>\n",
       "    .dataframe tbody tr th:only-of-type {\n",
       "        vertical-align: middle;\n",
       "    }\n",
       "\n",
       "    .dataframe tbody tr th {\n",
       "        vertical-align: top;\n",
       "    }\n",
       "\n",
       "    .dataframe thead th {\n",
       "        text-align: right;\n",
       "    }\n",
       "</style>\n",
       "<table border=\"1\" class=\"dataframe\">\n",
       "  <thead>\n",
       "    <tr style=\"text-align: right;\">\n",
       "      <th></th>\n",
       "      <th>created_utc</th>\n",
       "      <th>full_link</th>\n",
       "      <th>id</th>\n",
       "      <th>body</th>\n",
       "      <th>title</th>\n",
       "      <th>text_label</th>\n",
       "      <th>flair_label</th>\n",
       "      <th>embeddings</th>\n",
       "      <th>token_count</th>\n",
       "      <th>llm_title</th>\n",
       "    </tr>\n",
       "  </thead>\n",
       "  <tbody>\n",
       "    <tr>\n",
       "      <th>0</th>\n",
       "      <td>1588353888</td>\n",
       "      <td>https://www.reddit.com/r/legaladvice/comments/...</td>\n",
       "      <td>gbmcb0</td>\n",
       "      <td>The title says most of it. I just heard back f...</td>\n",
       "      <td>My former employer fired everyone when they ha...</td>\n",
       "      <td>employment</td>\n",
       "      <td>5</td>\n",
       "      <td>[-0.009678525544039132, -0.030654356001073007,...</td>\n",
       "      <td>156</td>\n",
       "      <td>\"Legal implications of mass termination and po...</td>\n",
       "    </tr>\n",
       "    <tr>\n",
       "      <th>1</th>\n",
       "      <td>1575490057</td>\n",
       "      <td>https://www.reddit.com/r/legaladvice/comments/...</td>\n",
       "      <td>e64ze3</td>\n",
       "      <td>In Maine, my landlord (commercial property man...</td>\n",
       "      <td>Landlord is updating snow removal policies and...</td>\n",
       "      <td>housing</td>\n",
       "      <td>7</td>\n",
       "      <td>[-0.014251169117179163, -0.0037985407615359528...</td>\n",
       "      <td>218</td>\n",
       "      <td>\"Unforeseen snow removal policy changes and po...</td>\n",
       "    </tr>\n",
       "  </tbody>\n",
       "</table>\n",
       "</div>"
      ],
      "text/plain": [
       "   created_utc                                          full_link      id  \\\n",
       "0   1588353888  https://www.reddit.com/r/legaladvice/comments/...  gbmcb0   \n",
       "1   1575490057  https://www.reddit.com/r/legaladvice/comments/...  e64ze3   \n",
       "\n",
       "                                                body  \\\n",
       "0  The title says most of it. I just heard back f...   \n",
       "1  In Maine, my landlord (commercial property man...   \n",
       "\n",
       "                                               title  text_label  flair_label  \\\n",
       "0  My former employer fired everyone when they ha...  employment            5   \n",
       "1  Landlord is updating snow removal policies and...     housing            7   \n",
       "\n",
       "                                          embeddings  token_count  \\\n",
       "0  [-0.009678525544039132, -0.030654356001073007,...          156   \n",
       "1  [-0.014251169117179163, -0.0037985407615359528...          218   \n",
       "\n",
       "                                           llm_title  \n",
       "0  \"Legal implications of mass termination and po...  \n",
       "1  \"Unforeseen snow removal policy changes and po...  "
      ]
     },
     "execution_count": 21,
     "metadata": {},
     "output_type": "execute_result"
    }
   ],
   "source": [
    "df_dedup.head(2)"
   ]
  },
  {
   "cell_type": "code",
   "execution_count": null,
   "metadata": {},
   "outputs": [],
   "source": [
    "# df_dedup.to_parquet(\"legal_reddit_df_with_titles.parquet\")"
   ]
  },
  {
   "cell_type": "code",
   "execution_count": 5,
   "metadata": {},
   "outputs": [],
   "source": [
    "df = pd.read_parquet(\"legal_reddit_df_with_titles.parquet\")"
   ]
  },
  {
   "cell_type": "code",
   "execution_count": 6,
   "metadata": {},
   "outputs": [
    {
     "name": "stdout",
     "output_type": "stream",
     "text": [
      "(9623, 10)\n"
     ]
    },
    {
     "data": {
      "text/html": [
       "<div>\n",
       "<style scoped>\n",
       "    .dataframe tbody tr th:only-of-type {\n",
       "        vertical-align: middle;\n",
       "    }\n",
       "\n",
       "    .dataframe tbody tr th {\n",
       "        vertical-align: top;\n",
       "    }\n",
       "\n",
       "    .dataframe thead th {\n",
       "        text-align: right;\n",
       "    }\n",
       "</style>\n",
       "<table border=\"1\" class=\"dataframe\">\n",
       "  <thead>\n",
       "    <tr style=\"text-align: right;\">\n",
       "      <th></th>\n",
       "      <th>created_utc</th>\n",
       "      <th>full_link</th>\n",
       "      <th>id</th>\n",
       "      <th>body</th>\n",
       "      <th>title</th>\n",
       "      <th>text_label</th>\n",
       "      <th>flair_label</th>\n",
       "      <th>embeddings</th>\n",
       "      <th>token_count</th>\n",
       "      <th>llm_title</th>\n",
       "    </tr>\n",
       "  </thead>\n",
       "  <tbody>\n",
       "    <tr>\n",
       "      <th>0</th>\n",
       "      <td>1588353888</td>\n",
       "      <td>https://www.reddit.com/r/legaladvice/comments/...</td>\n",
       "      <td>gbmcb0</td>\n",
       "      <td>The title says most of it. I just heard back f...</td>\n",
       "      <td>My former employer fired everyone when they ha...</td>\n",
       "      <td>employment</td>\n",
       "      <td>5</td>\n",
       "      <td>[-0.009678525544039132, -0.030654356001073007,...</td>\n",
       "      <td>156</td>\n",
       "      <td>\"Legal implications of mass termination and po...</td>\n",
       "    </tr>\n",
       "    <tr>\n",
       "      <th>1</th>\n",
       "      <td>1575490057</td>\n",
       "      <td>https://www.reddit.com/r/legaladvice/comments/...</td>\n",
       "      <td>e64ze3</td>\n",
       "      <td>In Maine, my landlord (commercial property man...</td>\n",
       "      <td>Landlord is updating snow removal policies and...</td>\n",
       "      <td>housing</td>\n",
       "      <td>7</td>\n",
       "      <td>[-0.014251169117179163, -0.0037985407615359528...</td>\n",
       "      <td>218</td>\n",
       "      <td>\"Unforeseen snow removal policy changes and po...</td>\n",
       "    </tr>\n",
       "  </tbody>\n",
       "</table>\n",
       "</div>"
      ],
      "text/plain": [
       "   created_utc                                          full_link      id  \\\n",
       "0   1588353888  https://www.reddit.com/r/legaladvice/comments/...  gbmcb0   \n",
       "1   1575490057  https://www.reddit.com/r/legaladvice/comments/...  e64ze3   \n",
       "\n",
       "                                                body  \\\n",
       "0  The title says most of it. I just heard back f...   \n",
       "1  In Maine, my landlord (commercial property man...   \n",
       "\n",
       "                                               title  text_label  flair_label  \\\n",
       "0  My former employer fired everyone when they ha...  employment            5   \n",
       "1  Landlord is updating snow removal policies and...     housing            7   \n",
       "\n",
       "                                          embeddings  token_count  \\\n",
       "0  [-0.009678525544039132, -0.030654356001073007,...          156   \n",
       "1  [-0.014251169117179163, -0.0037985407615359528...          218   \n",
       "\n",
       "                                           llm_title  \n",
       "0  \"Legal implications of mass termination and po...  \n",
       "1  \"Unforeseen snow removal policy changes and po...  "
      ]
     },
     "execution_count": 6,
     "metadata": {},
     "output_type": "execute_result"
    }
   ],
   "source": [
    "print(df.shape)\n",
    "df.head(2)"
   ]
  },
  {
   "cell_type": "code",
   "execution_count": null,
   "metadata": {},
   "outputs": [],
   "source": []
  }
 ],
 "metadata": {
  "kernelspec": {
   "display_name": ".venv",
   "language": "python",
   "name": "python3"
  },
  "language_info": {
   "codemirror_mode": {
    "name": "ipython",
    "version": 3
   },
   "file_extension": ".py",
   "mimetype": "text/x-python",
   "name": "python",
   "nbconvert_exporter": "python",
   "pygments_lexer": "ipython3",
   "version": "3.10.1"
  },
  "orig_nbformat": 4
 },
 "nbformat": 4,
 "nbformat_minor": 2
}
