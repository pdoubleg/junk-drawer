{
 "cells": [
  {
   "cell_type": "code",
   "execution_count": 1,
   "metadata": {},
   "outputs": [
    {
     "name": "stderr",
     "output_type": "stream",
     "text": [
      "c:\\Users\\pdoub\\Desktop\\python_projects\\junk-drawer\\.venv\\lib\\site-packages\\tqdm\\auto.py:21: TqdmWarning: IProgress not found. Please update jupyter and ipywidgets. See https://ipywidgets.readthedocs.io/en/stable/user_install.html\n",
      "  from .autonotebook import tqdm as notebook_tqdm\n"
     ]
    }
   ],
   "source": [
    "# Import the necessary modules\n",
    "from top_n_tool import run_tool"
   ]
  },
  {
   "cell_type": "code",
   "execution_count": 2,
   "metadata": {},
   "outputs": [],
   "source": [
    "import langchain\n",
    "from langchain.cache import SQLiteCache\n",
    "langchain.llm_cache = SQLiteCache(database_path=\".st_langchain.db\")"
   ]
  },
  {
   "cell_type": "code",
   "execution_count": 3,
   "metadata": {},
   "outputs": [],
   "source": [
    "from IPython.display import Markdown, display, HTML"
   ]
  },
  {
   "cell_type": "code",
   "execution_count": 4,
   "metadata": {},
   "outputs": [],
   "source": [
    "# Define the user query\n",
    "user_query = \"\"\"\n",
    "I'm currently designing a video game that I know will turn a good profit. The business machinations, marketing, \n",
    "and project management are my forte but I lack in the programming and 3D modelling department. So, I'll need to hire \n",
    "independent contractors/freelancers to handle those parts to design a \"proof of concept\" in order to better secure initial \n",
    "income via crowdfunding. At this point:  I have virtually no initial startup funds. \n",
    "So, I was hoping for advice on what types of contracts I could have them and myself sign to ensure that they get paid \n",
    "for their work and how to ensure that my intellectual property is protected. My fears is having a 3D artist or coder \n",
    "take the game concept and/or 3D models and running away with it. I'm located in Ohio but will likely need to hire contractors from different states, maybe even different countries.\n",
    "\"\"\""
   ]
  },
  {
   "cell_type": "code",
   "execution_count": 5,
   "metadata": {},
   "outputs": [
    {
     "name": "stderr",
     "output_type": "stream",
     "text": [
      "100%|██████████| 10/10 [00:00<00:00, 724.00it/s]\n",
      "100%|██████████| 1/1 [00:00<00:00, 499.80it/s]\n"
     ]
    }
   ],
   "source": [
    "result_gpt3 = run_tool(user_query, top_n=10, model_name=\"gpt-3.5-turbo\")"
   ]
  },
  {
   "attachments": {},
   "cell_type": "markdown",
   "metadata": {},
   "source": [
    "* GPT-3.5-turbo"
   ]
  },
  {
   "cell_type": "code",
   "execution_count": 6,
   "metadata": {},
   "outputs": [
    {
     "data": {
      "text/markdown": [
       "## New Query:\n",
       "\n",
       "I'm currently designing a video game that I know will turn a good profit. The business machinations, marketing, \n",
       "and project management are my forte but I lack in the programming and 3D modelling department. So, I'll need to hire \n",
       "independent contractors/freelancers to handle those parts to design a \"proof of concept\" in order to better secure initial \n",
       "income via crowdfunding. At this point:  I have virtually no initial startup funds. \n",
       "So, I was hoping for advice on what types of contracts I could have them and myself sign to ensure that they get paid \n",
       "for their work and how to ensure that my intellectual property is protected. My fears is having a 3D artist or coder \n",
       "take the game concept and/or 3D models and running away with it. I'm located in Ohio but will likely need to hire contractors from different states, maybe even different countries.\n",
       "\n",
       "## Model Response:\n",
       "To address the new query, we can draw comparisons from several past cases:\n",
       "\n",
       "1. In [[1](https://www.reddit.com/r/legaladvice/comments/2xzeee/advice_on_steps_i_can_take_to_protect_my_idea_ie/)], an individual sought advice on protecting their computer program/app idea when discussing it with potential collaborators. The suggestions included obtaining a patent and entering into non-disclosure agreements (NDAs) with collaborators. These measures can be relevant in the current scenario to protect the video game concept and 3D models.\n",
       "\n",
       "2. In [[3](https://www.reddit.com/r/legaladvice/comments/2t9664/independent_contractor_things_to_watch_out_for_in/)], an individual considered working as an independent contractor for a startup. They were concerned about potential issues and sought advice on how to avoid complications. This case can provide insights into potential risks and considerations when hiring independent contractors for the video game project.\n",
       "\n",
       "3. In [[6](https://www.reddit.com/r/legaladvice/comments/gphir8/looking_to_outsource_work_to_a_foreign_friend_how/)], a content creator wanted to outsource video editing work to a friend in a different country. They sought clarification on whether the friend should be classified as an independent contractor or an employee. This case can provide guidance on the classification of contractors and the legal implications associated with hiring contractors from different countries.\n",
       "\n",
       "4. In [[8](https://www.reddit.com/r/legaladvice/comments/7sbd0a/is_this_legal_to_do_paying_contractors_in_my/)], a startup founder had concerns about paying a contractor who had not completed any projects. They sought clarification on whether they had the right to withhold payment. This case can provide insights into the legal considerations when it comes to paying contractors for their work.\n",
       "\n",
       "By referencing these past cases, the researcher can gain insights into the potential risks and legal measures to consider when hiring independent contractors for the video game project. They can explore options such as obtaining patents, entering into NDAs, clarifying contractor classifications, and ensuring proper payment terms to protect their intellectual property and ensure fair compensation for the contractors. Additionally, they can seek advice from an intellectual property attorney to navigate the legal complexities involved in protecting their intellectual property across different states and countries.\n",
       "##### [8] [\"Legal implications of not paying a contractor during probation period in a startup\"](https://www.reddit.com/r/legaladvice/comments/7sbd0a/is_this_legal_to_do_paying_contractors_in_my/) - HI, 2018-01-23, Number: 906\n",
       "##### [6] [Determining the Classification of a Video Editor: Independent Contractor or Employee?](https://www.reddit.com/r/legaladvice/comments/gphir8/looking_to_outsource_work_to_a_foreign_friend_how/) - NM, 2020-05-24, Number: 4123\n",
       "##### [3] [\"Legal considerations for becoming an independent contractor and transferring copyright in a software development agreement\"](https://www.reddit.com/r/legaladvice/comments/2t9664/independent_contractor_things_to_watch_out_for_in/) - CT, 2015-01-22, Number: 8236\n",
       "##### [1] [\"Protecting your idea while collaborating with strangers in the California Bay Area tech scene\"](https://www.reddit.com/r/legaladvice/comments/2xzeee/advice_on_steps_i_can_take_to_protect_my_idea_ie/) - IA, 2015-03-05, Number: 1253\n"
      ],
      "text/plain": [
       "<IPython.core.display.Markdown object>"
      ]
     },
     "execution_count": 6,
     "metadata": {},
     "output_type": "execute_result"
    }
   ],
   "source": [
    "Markdown(f\"{result_gpt3}\")"
   ]
  },
  {
   "cell_type": "code",
   "execution_count": 7,
   "metadata": {},
   "outputs": [
    {
     "name": "stderr",
     "output_type": "stream",
     "text": [
      "100%|██████████| 10/10 [00:00<00:00, 833.41it/s]\n",
      "100%|██████████| 1/1 [00:00<00:00, 500.04it/s]\n"
     ]
    }
   ],
   "source": [
    "result_gpt_4 = run_tool(user_query, top_n=10, model_name=\"gpt-4\")"
   ]
  },
  {
   "attachments": {},
   "cell_type": "markdown",
   "metadata": {},
   "source": [
    "* GPT-4"
   ]
  },
  {
   "cell_type": "code",
   "execution_count": 8,
   "metadata": {},
   "outputs": [
    {
     "data": {
      "text/markdown": [
       "## New Query:\n",
       "\n",
       "I'm currently designing a video game that I know will turn a good profit. The business machinations, marketing, \n",
       "and project management are my forte but I lack in the programming and 3D modelling department. So, I'll need to hire \n",
       "independent contractors/freelancers to handle those parts to design a \"proof of concept\" in order to better secure initial \n",
       "income via crowdfunding. At this point:  I have virtually no initial startup funds. \n",
       "So, I was hoping for advice on what types of contracts I could have them and myself sign to ensure that they get paid \n",
       "for their work and how to ensure that my intellectual property is protected. My fears is having a 3D artist or coder \n",
       "take the game concept and/or 3D models and running away with it. I'm located in Ohio but will likely need to hire contractors from different states, maybe even different countries.\n",
       "\n",
       "## Model Response:\n",
       "The new query involves a video game designer who is planning to hire independent contractors for programming and 3D modelling tasks. The designer is seeking advice on how to protect their intellectual property and ensure that the contractors are paid for their work. This situation can be compared to several past cases.\n",
       "\n",
       "In [[1](https://www.reddit.com/r/legaladvice/comments/2xzeee/advice_on_steps_i_can_take_to_protect_my_idea_ie/)], the individual was concerned about protecting their computer program/app idea when discussing it with potential collaborators. The advice given was to consider obtaining a patent and entering into a non-disclosure agreement (NDA) with potential collaborators. This advice could be applicable to the new query as well, as the designer could consider obtaining a patent for their video game and having the contractors sign an NDA to protect the game concept and 3D models.\n",
       "\n",
       "In [[3](https://www.reddit.com/r/legaladvice/comments/2t9664/independent_contractor_things_to_watch_out_for_in/)], the individual was considering a job offer from a startup that required assistance with software development. The startup wanted the copyright to the individual's code and wanted to ensure that the individual was not liable for any mistakes after the contract ended. This situation is similar to the new query, as the designer could consider including similar terms in the contracts with the contractors to protect their intellectual property and limit their liability.\n",
       "\n",
       "In [[6](https://www.reddit.com/r/legaladvice/comments/gphir8/looking_to_outsource_work_to_a_foreign_friend_how/)], the individual was a content creator who was seeking assistance in video editing from a friend who resided in a different country. The content creator was unsure whether the friend should be classified as an independent contractor or an employee. This situation could be relevant to the new query, as the designer may need to hire contractors from different states or countries.\n",
       "\n",
       "In [[7](https://www.reddit.com/r/legaladvice/comments/2xliyl/started_a_small_business_about_to_sign_a_large/)], the individual and their friends formed an LLC to protect their intellectual property and make their business more official. This could be a potential strategy for the designer to consider, as forming an LLC could provide additional protection for their intellectual property.\n",
       "\n",
       "In [[8](https://www.reddit.com/r/legaladvice/comments/7sbd0a/is_this_legal_to_do_paying_contractors_in_my/)], the founder of a startup was unsure about paying a contractor due to their lack of work. This situation could be relevant to the new query, as the designer may need to consider how to handle payment issues with the contractors.\n",
       "\n",
       "In [[9](https://www.reddit.com/r/legaladvice/comments/e635kk/how_to_structure_equity_agreement/)], the founder of a company and a designer reached a verbal agreement regarding the division of equity and revenue share. This could be a potential strategy for the designer to consider, as they could potentially offer equity or revenue share to the contractors as a form of compensation.\n",
       "\n",
       "In [[10](https://www.reddit.com/r/legaladvice/comments/7x69a3/im_writing_my_own_contract_for_freelance_work_and/)], a graphic designer was seeking assistance in reviewing and revising their terms and conditions, specifically focusing on the payment schedule section. This could be relevant to the new query, as the designer may need to consider how to structure the payment schedule in the contracts with the contractors.\n",
       "##### [3] [\"Legal considerations for becoming an independent contractor and transferring copyright in a software development agreement\"](https://www.reddit.com/r/legaladvice/comments/2t9664/independent_contractor_things_to_watch_out_for_in/) - CT, 2015-01-22, Number: 8236\n",
       "##### [10] [\"Clarifying payment schedule in graphic designer's terms and conditions in Texas\"](https://www.reddit.com/r/legaladvice/comments/7x69a3/im_writing_my_own_contract_for_freelance_work_and/) - IA, 2018-02-13, Number: 59\n",
       "##### [6] [Determining the Classification of a Video Editor: Independent Contractor or Employee?](https://www.reddit.com/r/legaladvice/comments/gphir8/looking_to_outsource_work_to_a_foreign_friend_how/) - NM, 2020-05-24, Number: 4123\n",
       "##### [1] [\"Protecting your idea while collaborating with strangers in the California Bay Area tech scene\"](https://www.reddit.com/r/legaladvice/comments/2xzeee/advice_on_steps_i_can_take_to_protect_my_idea_ie/) - IA, 2015-03-05, Number: 1253\n",
       "##### [8] [\"Legal implications of not paying a contractor during probation period in a startup\"](https://www.reddit.com/r/legaladvice/comments/7sbd0a/is_this_legal_to_do_paying_contractors_in_my/) - HI, 2018-01-23, Number: 906\n",
       "##### [7] [Navigating Legal Contracts: Protecting Your Business and Seeking Legal Support](https://www.reddit.com/r/legaladvice/comments/2xliyl/started_a_small_business_about_to_sign_a_large/) - LA, 2015-03-01, Number: 2499\n",
       "##### [9] [\"Structuring a temporary agreement for equity split and revenue share in a startup partnership\"](https://www.reddit.com/r/legaladvice/comments/e635kk/how_to_structure_equity_agreement/) - VA, 2019-12-04, Number: 2513\n"
      ],
      "text/plain": [
       "<IPython.core.display.Markdown object>"
      ]
     },
     "execution_count": 8,
     "metadata": {},
     "output_type": "execute_result"
    }
   ],
   "source": [
    "Markdown(f\"{result_gpt_4}\")"
   ]
  },
  {
   "cell_type": "code",
   "execution_count": 5,
   "metadata": {},
   "outputs": [
    {
     "data": {
      "text/plain": [
       "True"
      ]
     },
     "execution_count": 5,
     "metadata": {},
     "output_type": "execute_result"
    }
   ],
   "source": [
    "from langchain.chat_models import ChatOpenAI\n",
    "from langchain.agents import initialize_agent\n",
    "from langchain.agents import AgentType\n",
    "from dotenv import load_dotenv\n",
    "load_dotenv()"
   ]
  },
  {
   "cell_type": "code",
   "execution_count": 6,
   "metadata": {},
   "outputs": [],
   "source": [
    "from auto_coder import ResearchPastQuestions"
   ]
  },
  {
   "cell_type": "code",
   "execution_count": 7,
   "metadata": {},
   "outputs": [],
   "source": [
    "llm = ChatOpenAI(temperature=0, model=\"gpt-3.5-turbo\")"
   ]
  },
  {
   "cell_type": "code",
   "execution_count": 8,
   "metadata": {},
   "outputs": [],
   "source": [
    "research_past_questions = ResearchPastQuestions()"
   ]
  },
  {
   "cell_type": "code",
   "execution_count": 9,
   "metadata": {},
   "outputs": [],
   "source": [
    "agent_test = initialize_agent(\n",
    "    [research_past_questions],\n",
    "    llm,\n",
    "    verbose=True,\n",
    ")"
   ]
  },
  {
   "cell_type": "code",
   "execution_count": 10,
   "metadata": {},
   "outputs": [
    {
     "name": "stdout",
     "output_type": "stream",
     "text": [
      "\n",
      "\n",
      "\u001b[1m> Entering new AgentExecutor chain...\u001b[0m\n",
      "\u001b[32;1m\u001b[1;3mI should use the research_past_questions tool to find similar cases where someone needed to hire contractors for a video game project and protect their intellectual property.\n",
      "Action: research_past_questions\n",
      "Action Input: \"hiring contractors for video game project intellectual property protection\"\u001b[0m"
     ]
    },
    {
     "name": "stderr",
     "output_type": "stream",
     "text": [
      "100%|██████████| 10/10 [00:00<00:00, 779.84it/s]\n",
      "100%|██████████| 1/1 [00:00<00:00, 500.10it/s]\n"
     ]
    },
    {
     "name": "stdout",
     "output_type": "stream",
     "text": [
      "\n",
      "Observation: \u001b[36;1m\u001b[1;3m## New Query:\n",
      "hiring contractors for video game project intellectual property protection\n",
      "## Model Response:\n",
      "To address the new query regarding hiring contractors for video game project intellectual property protection, we can draw insights from several past cases.\n",
      "\n",
      "In [[1](https://www.reddit.com/r/legaladvice/comments/gilww3/oh_advice_on_safe_contracts_for/)], an individual sought advice on protecting their intellectual property while hiring independent contractors for a video game project. They were concerned about contractors taking the game concept or 3D models and running away with them. The individual was advised to use contracts to address these concerns. This case provides a starting point for understanding the importance of contracts in protecting intellectual property when working with contractors.\n",
      "\n",
      "Similarly, in [[3](https://www.reddit.com/r/legaladvice/comments/4z18de/non_disclosure_agreement_questions/)], a company wanted to protect its information when hiring another company to develop back-end systems. They planned to send a Non-Disclosure Agreement (NDA) to the contractor to prevent unauthorized use of the information. This case highlights the use of NDAs as a tool to safeguard confidential information and prevent its unauthorized use.\n",
      "\n",
      "Furthermore, in [[4](https://www.reddit.com/r/legaladvice/comments/2tkwy4/uk_job_contract_asking_me_to_waive_moral_rights/)], an individual received a job contract for a software development position and had concerns about intellectual property rights. The contract asked the individual to waive their moral rights and stated that all IP created during the course of employment would belong to the company. This case raises questions about the ownership of IP created during employment and the implications of waiving moral rights. It emphasizes the importance of understanding the terms of contracts and their impact on intellectual property rights.\n",
      "\n",
      "Additionally, in [[8](https://www.reddit.com/r/legaladvice/comments/2t9664/independent_contractor_things_to_watch_out_for_in/)], an individual considered a job offer as an independent contractor for a startup. The startup wanted the copyright to the individual's code and sought to ensure that the individual would not be liable for any mistakes after the contract ended. This case highlights the need to carefully review and negotiate the terms of contracts when working as an independent contractor, particularly regarding intellectual property rights and liability.\n",
      "\n",
      "By referencing these past cases, the researcher can gain insights into the importance of contracts, including NDAs, in protecting intellectual property when hiring contractors for a video game project. They can also consider the implications of waiving moral rights and the ownership of IP created during employment. Additionally, the researcher can explore the need to review and negotiate the terms of contracts to address intellectual property rights and liability concerns when working as an independent contractor.\n",
      "##### [8] [\"Legal considerations for becoming an independent contractor and transferring copyright in a software development agreement\"](https://www.reddit.com/r/legaladvice/comments/2t9664/independent_contractor_things_to_watch_out_for_in/) - CT, 2015-01-22, Number: 8236\n",
      "##### [3] [\"Protecting Intellectual Property: Is an NDA Sufficient to Safeguard Technical Analysis and Prevent Competitor Exploitation?\"](https://www.reddit.com/r/legaladvice/comments/4z18de/non_disclosure_agreement_questions/) - MO, 2016-08-22, Number: 1891\n",
      "##### [4] [Navigating Intellectual Property Rights and Employment Contracts: Understanding Moral Rights and the Scope of \"Course of Employment\"](https://www.reddit.com/r/legaladvice/comments/2tkwy4/uk_job_contract_asking_me_to_waive_moral_rights/) - SC, 2015-01-25, Number: 2449\n",
      "##### [1] [\"Protecting Intellectual Property and Ensuring Payment: Legal Considerations for Hiring Independent Contractors in the Video Game Industry\"](https://www.reddit.com/r/legaladvice/comments/gilww3/oh_advice_on_safe_contracts_for/) - OR, 2020-05-12, Number: 8627\n",
      "\u001b[0m\n",
      "\u001b[32;1m\u001b[1;3m\u001b[0m\n",
      "\n",
      "\u001b[1m> Finished chain.\u001b[0m\n"
     ]
    }
   ],
   "source": [
    "test_1 = agent_test.run(f\"Find past cases for: {user_query}\")"
   ]
  },
  {
   "cell_type": "code",
   "execution_count": 11,
   "metadata": {},
   "outputs": [
    {
     "data": {
      "text/markdown": [
       "## New Query:\n",
       "hiring contractors for video game project intellectual property protection\n",
       "## Model Response:\n",
       "To address the new query regarding hiring contractors for video game project intellectual property protection, we can draw insights from several past cases.\n",
       "\n",
       "In [[1](https://www.reddit.com/r/legaladvice/comments/gilww3/oh_advice_on_safe_contracts_for/)], an individual sought advice on protecting their intellectual property while hiring independent contractors for a video game project. They were concerned about contractors taking the game concept or 3D models and running away with them. The individual was advised to use contracts to address these concerns. This case provides a starting point for understanding the importance of contracts in protecting intellectual property when working with contractors.\n",
       "\n",
       "Similarly, in [[3](https://www.reddit.com/r/legaladvice/comments/4z18de/non_disclosure_agreement_questions/)], a company wanted to protect its information when hiring another company to develop back-end systems. They planned to send a Non-Disclosure Agreement (NDA) to the contractor to prevent unauthorized use of the information. This case highlights the use of NDAs as a tool to safeguard confidential information and prevent its unauthorized use.\n",
       "\n",
       "Furthermore, in [[4](https://www.reddit.com/r/legaladvice/comments/2tkwy4/uk_job_contract_asking_me_to_waive_moral_rights/)], an individual received a job contract for a software development position and had concerns about intellectual property rights. The contract asked the individual to waive their moral rights and stated that all IP created during the course of employment would belong to the company. This case raises questions about the ownership of IP created during employment and the implications of waiving moral rights. It emphasizes the importance of understanding the terms of contracts and their impact on intellectual property rights.\n",
       "\n",
       "Additionally, in [[8](https://www.reddit.com/r/legaladvice/comments/2t9664/independent_contractor_things_to_watch_out_for_in/)], an individual considered a job offer as an independent contractor for a startup. The startup wanted the copyright to the individual's code and sought to ensure that the individual would not be liable for any mistakes after the contract ended. This case highlights the need to carefully review and negotiate the terms of contracts when working as an independent contractor, particularly regarding intellectual property rights and liability.\n",
       "\n",
       "By referencing these past cases, the researcher can gain insights into the importance of contracts, including NDAs, in protecting intellectual property when hiring contractors for a video game project. They can also consider the implications of waiving moral rights and the ownership of IP created during employment. Additionally, the researcher can explore the need to review and negotiate the terms of contracts to address intellectual property rights and liability concerns when working as an independent contractor.\n",
       "##### [8] [\"Legal considerations for becoming an independent contractor and transferring copyright in a software development agreement\"](https://www.reddit.com/r/legaladvice/comments/2t9664/independent_contractor_things_to_watch_out_for_in/) - CT, 2015-01-22, Number: 8236\n",
       "##### [3] [\"Protecting Intellectual Property: Is an NDA Sufficient to Safeguard Technical Analysis and Prevent Competitor Exploitation?\"](https://www.reddit.com/r/legaladvice/comments/4z18de/non_disclosure_agreement_questions/) - MO, 2016-08-22, Number: 1891\n",
       "##### [4] [Navigating Intellectual Property Rights and Employment Contracts: Understanding Moral Rights and the Scope of \"Course of Employment\"](https://www.reddit.com/r/legaladvice/comments/2tkwy4/uk_job_contract_asking_me_to_waive_moral_rights/) - SC, 2015-01-25, Number: 2449\n",
       "##### [1] [\"Protecting Intellectual Property and Ensuring Payment: Legal Considerations for Hiring Independent Contractors in the Video Game Industry\"](https://www.reddit.com/r/legaladvice/comments/gilww3/oh_advice_on_safe_contracts_for/) - OR, 2020-05-12, Number: 8627\n"
      ],
      "text/plain": [
       "<IPython.core.display.Markdown object>"
      ]
     },
     "execution_count": 11,
     "metadata": {},
     "output_type": "execute_result"
    }
   ],
   "source": [
    "Markdown(f\"{test_1}\")"
   ]
  },
  {
   "cell_type": "code",
   "execution_count": null,
   "metadata": {},
   "outputs": [],
   "source": []
  },
  {
   "cell_type": "code",
   "execution_count": 16,
   "metadata": {},
   "outputs": [
    {
     "name": "stdout",
     "output_type": "stream",
     "text": [
      "\n",
      "\n",
      "\u001b[1m> Entering new AgentExecutor chain...\u001b[0m\n",
      "\u001b[32;1m\u001b[1;3mI should use the research_past_questions tool to find similar cases where someone needed advice on contracts and intellectual property protection for hiring independent contractors for a video game project.\n",
      "Action: research_past_questions\n",
      "Action Input: \"advice on contracts and intellectual property protection for hiring independent contractors for a video game project\"\u001b[0m"
     ]
    },
    {
     "name": "stderr",
     "output_type": "stream",
     "text": [
      "100%|██████████| 10/10 [00:00<00:00, 867.33it/s]\n",
      "100%|██████████| 1/1 [00:00<00:00, 499.92it/s]\n"
     ]
    },
    {
     "name": "stdout",
     "output_type": "stream",
     "text": [
      "\n",
      "Observation: \u001b[36;1m\u001b[1;3m## New Query:\n",
      "advice on contracts and intellectual property protection for hiring independent contractors for a video game project\n",
      "## Model Response:\n",
      "To address the new query regarding advice on contracts and intellectual property protection for hiring independent contractors for a video game project, we can draw insights from several past cases.\n",
      "\n",
      "In [[1](https://www.reddit.com/r/legaladvice/comments/gilww3/oh_advice_on_safe_contracts_for/)], an individual sought advice on how to protect their intellectual property and ensure that independent contractors/freelancers are paid for their work in the context of designing a video game. They were concerned about contractors taking the game concept or 3D models and running away with them. This case provides a starting point for understanding the importance of protecting intellectual property and ensuring proper compensation for contractors.\n",
      "\n",
      "Similarly, in [[2](https://www.reddit.com/r/legaladvice/comments/2xliyl/started_a_small_business_about_to_sign_a_large/)], an 18-year-old college student and their friends formed an LLC to protect their intellectual property in a tech-based project. They were about to sign a large contract with a business entity and sought advice on how to protect themselves and navigate interactions with the company's legal team. This case highlights the significance of forming a legal entity and seeking legal support to protect intellectual property when entering into contracts.\n",
      "\n",
      "In [[3](https://www.reddit.com/r/legaladvice/comments/2xzeee/advice_on_steps_i_can_take_to_protect_my_idea_ie/)], an individual sought advice on how to protect their computer program/app idea when discussing it with potential collaborators. They were concerned about someone stealing their idea and developing it themselves. This case emphasizes the importance of considering options such as obtaining a patent and entering into non-disclosure agreements to safeguard intellectual property.\n",
      "\n",
      "Furthermore, in [[4](https://www.reddit.com/r/legaladvice/comments/2t9664/independent_contractor_things_to_watch_out_for_in/)], an individual was considering a job offer from a startup as an independent contractor. The startup wanted the copyright to the individual's code and sought to limit liability after the contract ends. This case raises awareness about potential issues to watch out for when working as an independent contractor and the importance of understanding the terms of the contract, including intellectual property rights and liability.\n",
      "\n",
      "Additionally, in [[5](https://www.reddit.com/r/legaladvice/comments/gpm6sc/3rd_party_unauthorized_use_do_you_need_that_in_a/)], an individual negotiating a contract for illustration work was unsure if the contract needed to address the lack of responsibility for third-party unauthorized use. This case highlights the importance of addressing potential issues related to intellectual property in contracts, including unauthorized third-party use.\n",
      "\n",
      "Lastly, in [[6](https://www.reddit.com/r/legaladvice/comments/gphir8/looking_to_outsource_work_to_a_foreign_friend_how/)], an individual sought clarification on whether a friend who would handle video editing work on a project-by-project basis should be classified as an independent contractor or an employee. This case provides insights into the classification of workers and the implications it may have on contracts and intellectual property rights.\n",
      "\n",
      "By referencing these past cases, the researcher can gain insights into the importance of protecting intellectual property, forming legal entities, understanding contract terms, considering options such as patents and non-disclosure agreements, and addressing potential issues related to unauthorized use and worker classification. These insights can inform the researcher's analysis and advice on contracts and intellectual property protection for hiring independent contractors for a video game project.\n",
      "##### [2] [Navigating Legal Contracts: Protecting Your Business and Seeking Legal Support](https://www.reddit.com/r/legaladvice/comments/2xliyl/started_a_small_business_about_to_sign_a_large/) - LA, 2015-03-01, Number: 2499\n",
      "##### [3] [\"Protecting your idea while collaborating with strangers in the California Bay Area tech scene\"](https://www.reddit.com/r/legaladvice/comments/2xzeee/advice_on_steps_i_can_take_to_protect_my_idea_ie/) - IA, 2015-03-05, Number: 1253\n",
      "##### [6] [Determining the Classification of a Video Editor: Independent Contractor or Employee?](https://www.reddit.com/r/legaladvice/comments/gphir8/looking_to_outsource_work_to_a_foreign_friend_how/) - NM, 2020-05-24, Number: 4123\n",
      "##### [1] [\"Protecting Intellectual Property and Ensuring Payment: Legal Considerations for Hiring Independent Contractors in the Video Game Industry\"](https://www.reddit.com/r/legaladvice/comments/gilww3/oh_advice_on_safe_contracts_for/) - OR, 2020-05-12, Number: 8627\n",
      "##### [5] [\"Understanding Liability in Contracts: Addressing Third-Party Unauthorized Use in Illustration Work\"](https://www.reddit.com/r/legaladvice/comments/gpm6sc/3rd_party_unauthorized_use_do_you_need_that_in_a/) - SD, 2020-05-24, Number: 1220\n",
      "##### [4] [\"Legal considerations for becoming an independent contractor and transferring copyright in a software development agreement\"](https://www.reddit.com/r/legaladvice/comments/2t9664/independent_contractor_things_to_watch_out_for_in/) - CT, 2015-01-22, Number: 8236\n",
      "\u001b[0m\n",
      "\u001b[32;1m\u001b[1;3m\u001b[0m\n",
      "\n",
      "\u001b[1m> Finished chain.\u001b[0m\n"
     ]
    }
   ],
   "source": [
    "test_2 = agent_test.run(f\"Using the research_past_questions tool, input this exact text:\\n\\n{user_query}\")"
   ]
  },
  {
   "cell_type": "code",
   "execution_count": 17,
   "metadata": {},
   "outputs": [
    {
     "data": {
      "text/markdown": [
       "## New Query:\n",
       "advice on contracts and intellectual property protection for hiring independent contractors for a video game project\n",
       "## Model Response:\n",
       "To address the new query regarding advice on contracts and intellectual property protection for hiring independent contractors for a video game project, we can draw insights from several past cases.\n",
       "\n",
       "In [[1](https://www.reddit.com/r/legaladvice/comments/gilww3/oh_advice_on_safe_contracts_for/)], an individual sought advice on how to protect their intellectual property and ensure that independent contractors/freelancers are paid for their work in the context of designing a video game. They were concerned about contractors taking the game concept or 3D models and running away with them. This case provides a starting point for understanding the importance of protecting intellectual property and ensuring proper compensation for contractors.\n",
       "\n",
       "Similarly, in [[2](https://www.reddit.com/r/legaladvice/comments/2xliyl/started_a_small_business_about_to_sign_a_large/)], an 18-year-old college student and their friends formed an LLC to protect their intellectual property in a tech-based project. They were about to sign a large contract with a business entity and sought advice on how to protect themselves and navigate interactions with the company's legal team. This case highlights the significance of forming a legal entity and seeking legal support to protect intellectual property when entering into contracts.\n",
       "\n",
       "In [[3](https://www.reddit.com/r/legaladvice/comments/2xzeee/advice_on_steps_i_can_take_to_protect_my_idea_ie/)], an individual sought advice on how to protect their computer program/app idea when discussing it with potential collaborators. They were concerned about someone stealing their idea and developing it themselves. This case emphasizes the importance of considering options such as obtaining a patent and entering into non-disclosure agreements to safeguard intellectual property.\n",
       "\n",
       "Furthermore, in [[4](https://www.reddit.com/r/legaladvice/comments/2t9664/independent_contractor_things_to_watch_out_for_in/)], an individual was considering a job offer from a startup as an independent contractor. The startup wanted the copyright to the individual's code and sought to limit liability after the contract ends. This case raises awareness about potential issues to watch out for when working as an independent contractor and the importance of understanding the terms of the contract, including intellectual property rights and liability.\n",
       "\n",
       "Additionally, in [[5](https://www.reddit.com/r/legaladvice/comments/gpm6sc/3rd_party_unauthorized_use_do_you_need_that_in_a/)], an individual negotiating a contract for illustration work was unsure if the contract needed to address the lack of responsibility for third-party unauthorized use. This case highlights the importance of addressing potential issues related to intellectual property in contracts, including unauthorized third-party use.\n",
       "\n",
       "Lastly, in [[6](https://www.reddit.com/r/legaladvice/comments/gphir8/looking_to_outsource_work_to_a_foreign_friend_how/)], an individual sought clarification on whether a friend who would handle video editing work on a project-by-project basis should be classified as an independent contractor or an employee. This case provides insights into the classification of workers and the implications it may have on contracts and intellectual property rights.\n",
       "\n",
       "By referencing these past cases, the researcher can gain insights into the importance of protecting intellectual property, forming legal entities, understanding contract terms, considering options such as patents and non-disclosure agreements, and addressing potential issues related to unauthorized use and worker classification. These insights can inform the researcher's analysis and advice on contracts and intellectual property protection for hiring independent contractors for a video game project.\n",
       "##### [2] [Navigating Legal Contracts: Protecting Your Business and Seeking Legal Support](https://www.reddit.com/r/legaladvice/comments/2xliyl/started_a_small_business_about_to_sign_a_large/) - LA, 2015-03-01, Number: 2499\n",
       "##### [3] [\"Protecting your idea while collaborating with strangers in the California Bay Area tech scene\"](https://www.reddit.com/r/legaladvice/comments/2xzeee/advice_on_steps_i_can_take_to_protect_my_idea_ie/) - IA, 2015-03-05, Number: 1253\n",
       "##### [6] [Determining the Classification of a Video Editor: Independent Contractor or Employee?](https://www.reddit.com/r/legaladvice/comments/gphir8/looking_to_outsource_work_to_a_foreign_friend_how/) - NM, 2020-05-24, Number: 4123\n",
       "##### [1] [\"Protecting Intellectual Property and Ensuring Payment: Legal Considerations for Hiring Independent Contractors in the Video Game Industry\"](https://www.reddit.com/r/legaladvice/comments/gilww3/oh_advice_on_safe_contracts_for/) - OR, 2020-05-12, Number: 8627\n",
       "##### [5] [\"Understanding Liability in Contracts: Addressing Third-Party Unauthorized Use in Illustration Work\"](https://www.reddit.com/r/legaladvice/comments/gpm6sc/3rd_party_unauthorized_use_do_you_need_that_in_a/) - SD, 2020-05-24, Number: 1220\n",
       "##### [4] [\"Legal considerations for becoming an independent contractor and transferring copyright in a software development agreement\"](https://www.reddit.com/r/legaladvice/comments/2t9664/independent_contractor_things_to_watch_out_for_in/) - CT, 2015-01-22, Number: 8236\n"
      ],
      "text/plain": [
       "<IPython.core.display.Markdown object>"
      ]
     },
     "execution_count": 17,
     "metadata": {},
     "output_type": "execute_result"
    }
   ],
   "source": [
    "Markdown(f\"{test_2}\")"
   ]
  },
  {
   "cell_type": "code",
   "execution_count": null,
   "metadata": {},
   "outputs": [],
   "source": []
  },
  {
   "cell_type": "code",
   "execution_count": 18,
   "metadata": {},
   "outputs": [],
   "source": [
    "llm_gpt4 = ChatOpenAI(temperature=0, model=\"gpt-4\")\n",
    "\n",
    "agent_test_gpt4 = initialize_agent(\n",
    "    [research_past_questions],\n",
    "    llm=llm_gpt4,\n",
    "    verbose=True,\n",
    ")"
   ]
  },
  {
   "cell_type": "code",
   "execution_count": 19,
   "metadata": {},
   "outputs": [
    {
     "name": "stdout",
     "output_type": "stream",
     "text": [
      "\n",
      "\n",
      "\u001b[1m> Entering new AgentExecutor chain...\u001b[0m\n",
      "\u001b[32;1m\u001b[1;3mThe user is asking for advice on contracts for hiring independent contractors or freelancers for a video game project, with a focus on ensuring payment for work and protection of intellectual property. They also mention concerns about potential theft of their game concept or 3D models. I should look for past questions that deal with similar issues.\n",
      "Action: research_past_questions\n",
      "Action Input: I'm currently designing a video game that I know will turn a good profit. The business machinations, marketing, and project management are my forte but I lack in the programming and 3D modelling department. So, I'll need to hire independent contractors/freelancers to handle those parts to design a \"proof of concept\" in order to better secure initial income via crowdfunding. At this point:  I have virtually no initial startup funds. So, I was hoping for advice on what types of contracts I could have them and myself sign to ensure that they get paid for their work and how to ensure that my intellectual property is protected. My fears is having a 3D artist or coder take the game concept and/or 3D models and running away with it. I'm located in Ohio but will likely need to hire contractors from different states, maybe even different countries.\u001b[0m"
     ]
    },
    {
     "name": "stderr",
     "output_type": "stream",
     "text": [
      "100%|██████████| 10/10 [00:00<00:00, 769.30it/s]\n",
      "100%|██████████| 1/1 [00:00<00:00, 500.04it/s]\n"
     ]
    },
    {
     "name": "stdout",
     "output_type": "stream",
     "text": [
      "\n",
      "Observation: \u001b[36;1m\u001b[1;3m## New Query:\n",
      "I'm currently designing a video game that I know will turn a good profit. The business machinations, marketing, and project management are my forte but I lack in the programming and 3D modelling department. So, I'll need to hire independent contractors/freelancers to handle those parts to design a \"proof of concept\" in order to better secure initial income via crowdfunding. At this point:  I have virtually no initial startup funds. So, I was hoping for advice on what types of contracts I could have them and myself sign to ensure that they get paid for their work and how to ensure that my intellectual property is protected. My fears is having a 3D artist or coder take the game concept and/or 3D models and running away with it. I'm located in Ohio but will likely need to hire contractors from different states, maybe even different countries.\n",
      "## Model Response:\n",
      "To address the new query, we can draw comparisons from several past cases:\n",
      "\n",
      "1. In [[3](https://www.reddit.com/r/legaladvice/comments/2t9664/independent_contractor_things_to_watch_out_for_in/)], an individual was considering working as an independent contractor for a startup. They were concerned about potential issues and steps to take to avoid future complications. This case can provide insights into the precautions that can be taken when hiring independent contractors, such as having a clear contract that outlines the scope of work, payment terms, and intellectual property rights.\n",
      "\n",
      "2. In [[6](https://www.reddit.com/r/legaladvice/comments/gphir8/looking_to_outsource_work_to_a_foreign_friend_how/)], a content creator wanted to outsource video editing work to a friend in a different country. They sought clarification on whether the friend should be classified as an independent contractor or an employee. This case can provide guidance on the classification of contractors and the legal implications associated with hiring contractors from different countries.\n",
      "\n",
      "3. In [[9](https://www.reddit.com/r/legaladvice/comments/e635kk/how_to_structure_equity_agreement/)], a founder and a designer reached a verbal agreement regarding equity and revenue share. They wanted to have a temporary agreement in place until they could afford a more comprehensive legal agreement. This case can offer insights into structuring temporary agreements and using templates as a starting point.\n",
      "\n",
      "By referencing these past cases, the researcher can gain insights into the precautions that can be taken when hiring independent contractors, the classification of contractors from different countries, and the structuring of temporary agreements. These insights can help address the new query and provide guidance on how to ensure that contractors get paid for their work and how to protect intellectual property.\n",
      "##### [6] [Determining the Classification of a Video Editor: Independent Contractor or Employee?](https://www.reddit.com/r/legaladvice/comments/gphir8/looking_to_outsource_work_to_a_foreign_friend_how/) - NM, 2020-05-24, Number: 4123\n",
      "##### [9] [\"Structuring a temporary agreement for equity split and revenue share in a startup partnership\"](https://www.reddit.com/r/legaladvice/comments/e635kk/how_to_structure_equity_agreement/) - VA, 2019-12-04, Number: 2513\n",
      "##### [3] [\"Legal considerations for becoming an independent contractor and transferring copyright in a software development agreement\"](https://www.reddit.com/r/legaladvice/comments/2t9664/independent_contractor_things_to_watch_out_for_in/) - CT, 2015-01-22, Number: 8236\n",
      "\u001b[0m\n",
      "\u001b[32;1m\u001b[1;3m\u001b[0m\n",
      "\n",
      "\u001b[1m> Finished chain.\u001b[0m\n"
     ]
    }
   ],
   "source": [
    "test_1_gpt4 = agent_test_gpt4.run(f\"Find past cases for the following new question. Use the exact question for the search: {user_query}\")"
   ]
  },
  {
   "attachments": {},
   "cell_type": "markdown",
   "metadata": {},
   "source": [
    "* GPT-4 follows directions"
   ]
  },
  {
   "cell_type": "code",
   "execution_count": 20,
   "metadata": {},
   "outputs": [
    {
     "data": {
      "text/markdown": [
       "## New Query:\n",
       "I'm currently designing a video game that I know will turn a good profit. The business machinations, marketing, and project management are my forte but I lack in the programming and 3D modelling department. So, I'll need to hire independent contractors/freelancers to handle those parts to design a \"proof of concept\" in order to better secure initial income via crowdfunding. At this point:  I have virtually no initial startup funds. So, I was hoping for advice on what types of contracts I could have them and myself sign to ensure that they get paid for their work and how to ensure that my intellectual property is protected. My fears is having a 3D artist or coder take the game concept and/or 3D models and running away with it. I'm located in Ohio but will likely need to hire contractors from different states, maybe even different countries.\n",
       "## Model Response:\n",
       "To address the new query, we can draw comparisons from several past cases:\n",
       "\n",
       "1. In [[3](https://www.reddit.com/r/legaladvice/comments/2t9664/independent_contractor_things_to_watch_out_for_in/)], an individual was considering working as an independent contractor for a startup. They were concerned about potential issues and steps to take to avoid future complications. This case can provide insights into the precautions that can be taken when hiring independent contractors, such as having a clear contract that outlines the scope of work, payment terms, and intellectual property rights.\n",
       "\n",
       "2. In [[6](https://www.reddit.com/r/legaladvice/comments/gphir8/looking_to_outsource_work_to_a_foreign_friend_how/)], a content creator wanted to outsource video editing work to a friend in a different country. They sought clarification on whether the friend should be classified as an independent contractor or an employee. This case can provide guidance on the classification of contractors and the legal implications associated with hiring contractors from different countries.\n",
       "\n",
       "3. In [[9](https://www.reddit.com/r/legaladvice/comments/e635kk/how_to_structure_equity_agreement/)], a founder and a designer reached a verbal agreement regarding equity and revenue share. They wanted to have a temporary agreement in place until they could afford a more comprehensive legal agreement. This case can offer insights into structuring temporary agreements and using templates as a starting point.\n",
       "\n",
       "By referencing these past cases, the researcher can gain insights into the precautions that can be taken when hiring independent contractors, the classification of contractors from different countries, and the structuring of temporary agreements. These insights can help address the new query and provide guidance on how to ensure that contractors get paid for their work and how to protect intellectual property.\n",
       "##### [6] [Determining the Classification of a Video Editor: Independent Contractor or Employee?](https://www.reddit.com/r/legaladvice/comments/gphir8/looking_to_outsource_work_to_a_foreign_friend_how/) - NM, 2020-05-24, Number: 4123\n",
       "##### [9] [\"Structuring a temporary agreement for equity split and revenue share in a startup partnership\"](https://www.reddit.com/r/legaladvice/comments/e635kk/how_to_structure_equity_agreement/) - VA, 2019-12-04, Number: 2513\n",
       "##### [3] [\"Legal considerations for becoming an independent contractor and transferring copyright in a software development agreement\"](https://www.reddit.com/r/legaladvice/comments/2t9664/independent_contractor_things_to_watch_out_for_in/) - CT, 2015-01-22, Number: 8236\n"
      ],
      "text/plain": [
       "<IPython.core.display.Markdown object>"
      ]
     },
     "execution_count": 20,
     "metadata": {},
     "output_type": "execute_result"
    }
   ],
   "source": [
    "Markdown(f\"{test_1_gpt4}\")"
   ]
  },
  {
   "cell_type": "code",
   "execution_count": null,
   "metadata": {},
   "outputs": [],
   "source": []
  },
  {
   "attachments": {},
   "cell_type": "markdown",
   "metadata": {},
   "source": [
    "* Run the LangChain custom tool by itself. Should be equivalent to calling the `run_tool` vanilla python function"
   ]
  },
  {
   "cell_type": "code",
   "execution_count": 8,
   "metadata": {},
   "outputs": [
    {
     "name": "stderr",
     "output_type": "stream",
     "text": [
      "100%|██████████| 10/10 [00:00<00:00, 669.17it/s]\n",
      "100%|██████████| 1/1 [00:00<00:00, 499.98it/s]\n"
     ]
    },
    {
     "data": {
      "text/markdown": [
       "## New Query:\n",
       "\n",
       "I'm currently designing a video game that I know will turn a good profit. The business machinations, marketing, \n",
       "and project management are my forte but I lack in the programming and 3D modelling department. So, I'll need to hire \n",
       "independent contractors/freelancers to handle those parts to design a \"proof of concept\" in order to better secure initial \n",
       "income via crowdfunding. At this point:  I have virtually no initial startup funds. \n",
       "So, I was hoping for advice on what types of contracts I could have them and myself sign to ensure that they get paid \n",
       "for their work and how to ensure that my intellectual property is protected. My fears is having a 3D artist or coder \n",
       "take the game concept and/or 3D models and running away with it. I'm located in Ohio but will likely need to hire contractors from different states, maybe even different countries.\n",
       "\n",
       "## Model Response:\n",
       "To address the new query, we can draw comparisons from several past cases:\n",
       "\n",
       "1. In [[1](https://www.reddit.com/r/legaladvice/comments/2xzeee/advice_on_steps_i_can_take_to_protect_my_idea_ie/)], an individual sought advice on protecting their computer program/app idea when discussing it with potential collaborators. The suggestions included obtaining a patent and entering into non-disclosure agreements (NDAs) with collaborators. These measures can be relevant in the current scenario to protect the video game concept and 3D models.\n",
       "\n",
       "2. In [[3](https://www.reddit.com/r/legaladvice/comments/2t9664/independent_contractor_things_to_watch_out_for_in/)], an individual considered working as an independent contractor for a startup. They were concerned about potential issues and sought advice on how to avoid complications. This case can provide insights into potential risks and considerations when hiring independent contractors for the video game project.\n",
       "\n",
       "3. In [[6](https://www.reddit.com/r/legaladvice/comments/gphir8/looking_to_outsource_work_to_a_foreign_friend_how/)], a content creator wanted to outsource video editing work to a friend in a different country. They sought clarification on whether the friend should be classified as an independent contractor or an employee. This case can provide guidance on the classification of contractors and the legal implications associated with hiring contractors from different countries.\n",
       "\n",
       "4. In [[8](https://www.reddit.com/r/legaladvice/comments/7sbd0a/is_this_legal_to_do_paying_contractors_in_my/)], a startup founder had concerns about paying a contractor who had not completed any projects. They sought clarification on whether they had the right to withhold payment. This case can provide insights into the legal considerations when it comes to paying contractors for their work.\n",
       "\n",
       "By referencing these past cases, the researcher can gain insights into the potential risks and legal measures to consider when hiring independent contractors for the video game project. They can explore options such as obtaining patents, entering into NDAs, clarifying contractor classifications, and ensuring proper payment terms to protect their intellectual property and ensure fair compensation for the contractors. Additionally, they can seek advice from an intellectual property attorney to navigate the legal complexities involved in protecting their intellectual property across different states and countries.\n",
       "##### [6] [Determining the Classification of a Video Editor: Independent Contractor or Employee?](https://www.reddit.com/r/legaladvice/comments/gphir8/looking_to_outsource_work_to_a_foreign_friend_how/) - NM, 2020-05-24, Number: 4123\n",
       "##### [8] [\"Legal implications of not paying a contractor during probation period in a startup\"](https://www.reddit.com/r/legaladvice/comments/7sbd0a/is_this_legal_to_do_paying_contractors_in_my/) - HI, 2018-01-23, Number: 906\n",
       "##### [1] [\"Protecting your idea while collaborating with strangers in the California Bay Area tech scene\"](https://www.reddit.com/r/legaladvice/comments/2xzeee/advice_on_steps_i_can_take_to_protect_my_idea_ie/) - IA, 2015-03-05, Number: 1253\n",
       "##### [3] [\"Legal considerations for becoming an independent contractor and transferring copyright in a software development agreement\"](https://www.reddit.com/r/legaladvice/comments/2t9664/independent_contractor_things_to_watch_out_for_in/) - CT, 2015-01-22, Number: 8236\n"
      ],
      "text/plain": [
       "<IPython.core.display.Markdown object>"
      ]
     },
     "execution_count": 8,
     "metadata": {},
     "output_type": "execute_result"
    }
   ],
   "source": [
    "tool_test = research_past_questions.run(user_query)\n",
    "Markdown(f\"{tool_test}\")"
   ]
  },
  {
   "cell_type": "code",
   "execution_count": null,
   "metadata": {},
   "outputs": [],
   "source": []
  },
  {
   "attachments": {},
   "cell_type": "markdown",
   "metadata": {},
   "source": [
    "## LLama Index \"Data Agents\""
   ]
  },
  {
   "cell_type": "code",
   "execution_count": 12,
   "metadata": {},
   "outputs": [],
   "source": [
    "from llama_index.agent import ReActAgent\n",
    "from llama_index.llms import OpenAI"
   ]
  },
  {
   "cell_type": "code",
   "execution_count": 13,
   "metadata": {},
   "outputs": [],
   "source": [
    "from llama_index.tools.function_tool import FunctionTool"
   ]
  },
  {
   "attachments": {},
   "cell_type": "markdown",
   "metadata": {},
   "source": [
    "* This next function is **important**!\n",
    "* The LLM will use param names, docstrings, and type hints to infer the input structure"
   ]
  },
  {
   "cell_type": "code",
   "execution_count": 14,
   "metadata": {},
   "outputs": [],
   "source": [
    "def get_top_n_report(query: str, top_n: int) -> str:\n",
    "    \"\"\"\n",
    "    Takes a user query and returns a string of top n similar texts.\n",
    "    \"\"\"\n",
    "    return run_tool(query, top_n)\n",
    "    "
   ]
  },
  {
   "cell_type": "code",
   "execution_count": 15,
   "metadata": {},
   "outputs": [],
   "source": [
    "function_tool = FunctionTool.from_defaults(fn=get_top_n_report)"
   ]
  },
  {
   "cell_type": "code",
   "execution_count": 16,
   "metadata": {},
   "outputs": [],
   "source": [
    "from typing import Tuple, List\n",
    "from llama_index.llms.base import ChatResponse\n",
    "from llama_index.agent.react.types import BaseReasoningStep\n",
    "\n",
    "class ReActAgentWrapper(ReActAgent):\n",
    "    def _process_actions(\n",
    "        self, output: ChatResponse\n",
    "    ) -> Tuple[List[BaseReasoningStep], bool]:\n",
    "        reasoning_steps, is_done = super()._process_actions(output)\n",
    "        print(\"Reasoning Steps:\", reasoning_steps)\n",
    "        return reasoning_steps, is_done\n",
    "\n",
    "    async def _aprocess_actions(\n",
    "        self, output: ChatResponse\n",
    "    ) -> Tuple[List[BaseReasoningStep], bool]:\n",
    "        reasoning_steps, is_done = await super()._aprocess_actions(output)\n",
    "        print(\"Reasoning Steps:\", reasoning_steps)\n",
    "        return reasoning_steps, is_done"
   ]
  },
  {
   "cell_type": "code",
   "execution_count": 45,
   "metadata": {},
   "outputs": [],
   "source": [
    "class ReActAgentWrapperReasoning(ReActAgent):\n",
    "    def __init__(self, *args, **kwargs):\n",
    "        super().__init__(*args, **kwargs)\n",
    "        self.reasoning_steps_history = []\n",
    "        self.latest_reasoning_step = None\n",
    "\n",
    "    def _process_actions(\n",
    "        self, output: ChatResponse\n",
    "    ) -> Tuple[List[BaseReasoningStep], bool]:\n",
    "        reasoning_steps, is_done = super()._process_actions(output)\n",
    "        self.reasoning_steps_history.append(reasoning_steps)\n",
    "        self.latest_reasoning_step = reasoning_steps[-1] if reasoning_steps else None\n",
    "        return reasoning_steps, is_done\n",
    "\n",
    "    async def _aprocess_actions(\n",
    "        self, output: ChatResponse\n",
    "    ) -> Tuple[List[BaseReasoningStep], bool]:\n",
    "        reasoning_steps, is_done = await super()._aprocess_actions(output)\n",
    "        self.reasoning_steps_history.append(reasoning_steps)\n",
    "        self.latest_reasoning_step = reasoning_steps[-1] if reasoning_steps else None\n",
    "        return reasoning_steps, is_done\n"
   ]
  },
  {
   "cell_type": "code",
   "execution_count": null,
   "metadata": {},
   "outputs": [],
   "source": []
  },
  {
   "cell_type": "code",
   "execution_count": 46,
   "metadata": {},
   "outputs": [],
   "source": [
    "llm = OpenAI(model=\"gpt-3.5-turbo\")\n",
    "# initialize ReAct agent\n",
    "agent = ReActAgentWrapperReasoning.from_tools([function_tool], llm=llm, verbose=True)"
   ]
  },
  {
   "cell_type": "code",
   "execution_count": 47,
   "metadata": {},
   "outputs": [
    {
     "name": "stdout",
     "output_type": "stream",
     "text": [
      "\u001b[38;5;200m\u001b[1;3mThought: I need to use a tool to help me find similar cases to the user's query.\n",
      "Action: get_top_n_report\n",
      "Action Input: {'query': \"I'm currently designing a video game that I know will turn a good profit. The business machinations, marketing, and project management are my forte but I lack in the programming and 3D modelling department. So, I'll need to hire independent contractors/freelancers to handle those parts to design a 'proof of concept' in order to better secure initial income via crowdfunding. At this point: I have virtually no initial startup funds. So, I was hoping for advice on what types of contracts I could have them and myself sign to ensure that they get paid for their work and how to ensure that my intellectual property is protected. My fears is having a 3D artist or coder take the game concept and/or 3D models and running away with it. I'm located in Ohio but will likely need to hire contractors from different states, maybe even different countries.\", 'top_n': 15}\n",
      "\u001b[0m"
     ]
    },
    {
     "name": "stderr",
     "output_type": "stream",
     "text": [
      "100%|██████████| 15/15 [00:00<00:00, 843.19it/s]\n",
      "100%|██████████| 1/1 [00:00<00:00, 500.16it/s]\n"
     ]
    },
    {
     "name": "stdout",
     "output_type": "stream",
     "text": [
      "\u001b[36;1m\u001b[1;3mObservation: ## Model Response:\n",
      "To address the new query, we can draw comparisons from several past cases:\n",
      "\n",
      "1. In [[2](https://www.reddit.com/r/legaladvice/comments/ea7t71/what_are_my_best_steps_to_form_a_business/)], an individual sought guidance on forming an LLC and the implications of different types of business entities. This case can provide insights into the legal structure that the game designer may consider when hiring independent contractors.\n",
      "\n",
      "2. In [[5](https://www.reddit.com/r/legaladvice/comments/2t9664/independent_contractor_things_to_watch_out_for_in/)], an individual in Wisconsin sought advice on potential issues to watch out for when working as an independent contractor. This case can provide insights into the considerations and precautions the game designer should take when hiring independent contractors.\n",
      "\n",
      "3. In [[6](https://www.reddit.com/r/legaladvice/comments/gn4sdf/does_this_count_as_a_business_what_do_i_need_to/)], an individual sought advice on how to protect themselves legally when integrating a donations system into their gaming community. This case can provide insights into the legal measures the game designer can take to protect their intellectual property and ensure that contractors are paid for their work.\n",
      "\n",
      "4. In [[8](https://www.reddit.com/r/legaladvice/comments/51psea/kickstarter_for_a_tabletop_rpg_book_do_i_need_an/)], an individual planning to launch a Kickstarter campaign sought advice on whether forming an LLC was necessary to protect their intellectual property. This case can provide insights into the considerations the game designer should make regarding the protection of their intellectual property.\n",
      "\n",
      "By referencing these past cases, the game designer can gain insights into the legal steps they can take to protect their intellectual property and ensure that contractors are paid for their work. They can also learn about the potential issues to watch out for when working with independent contractors and the implications of different business entities. Additionally, they can explore the legal requirements for integrating a donations system and consider whether forming an LLC is necessary for their specific situation.\n",
      "##### [6] [\"Legal considerations for setting up a gaming community donations system and hiring developers\"](https://www.reddit.com/r/legaladvice/comments/gn4sdf/does_this_count_as_a_business_what_do_i_need_to/) - HI, 2020-05-20, Number: 5183\n",
      "##### [2] [\"Forming an LTD for a graphic artist and game designer: business structure, name reservation, and financial implications\"](https://www.reddit.com/r/legaladvice/comments/ea7t71/what_are_my_best_steps_to_form_a_business/) - MP, 2019-12-13, Number: 1270\n",
      "##### [5] [\"Legal considerations for becoming an independent contractor and transferring copyright in a software development agreement\"](https://www.reddit.com/r/legaladvice/comments/2t9664/independent_contractor_things_to_watch_out_for_in/) - CT, 2015-01-22, Number: 8236\n",
      "##### [8] [\"Legal considerations for launching a Kickstarter campaign and selling a self-published book online\"](https://www.reddit.com/r/legaladvice/comments/51psea/kickstarter_for_a_tabletop_rpg_book_do_i_need_an/) - FM, 2016-09-08, Number: 8170\n",
      "\n",
      "\u001b[0m\u001b[38;5;200m\u001b[1;3mResponse: Based on the similar cases, here are some recommendations for the game designer:\n",
      "\u001b[0m"
     ]
    }
   ],
   "source": [
    "data_agent_test_1 = agent.chat(f\"Get the top 15 cases similar to this query: {user_query}\")"
   ]
  },
  {
   "cell_type": "code",
   "execution_count": 52,
   "metadata": {},
   "outputs": [],
   "source": [
    "def pretty_format_dict(d):\n",
    "    return '\\n'.join(f'{k}: {v}' for k, v in d.items())"
   ]
  },
  {
   "cell_type": "code",
   "execution_count": 58,
   "metadata": {},
   "outputs": [
    {
     "data": {
      "text/plain": [
       "\"I need to use a tool to help me find similar cases to the user's query.\""
      ]
     },
     "execution_count": 58,
     "metadata": {},
     "output_type": "execute_result"
    }
   ],
   "source": [
    "agent.reasoning_steps_history[0][0].thought"
   ]
  },
  {
   "cell_type": "code",
   "execution_count": 57,
   "metadata": {},
   "outputs": [
    {
     "data": {
      "text/plain": [
       "'get_top_n_report'"
      ]
     },
     "execution_count": 57,
     "metadata": {},
     "output_type": "execute_result"
    }
   ],
   "source": [
    "agent.reasoning_steps_history[0][0].action"
   ]
  },
  {
   "cell_type": "code",
   "execution_count": 54,
   "metadata": {},
   "outputs": [
    {
     "name": "stdout",
     "output_type": "stream",
     "text": [
      "query: I'm currently designing a video game that I know will turn a good profit. The business machinations, marketing, and project management are my forte but I lack in the programming and 3D modelling department. So, I'll need to hire independent contractors/freelancers to handle those parts to design a 'proof of concept' in order to better secure initial income via crowdfunding. At this point: I have virtually no initial startup funds. So, I was hoping for advice on what types of contracts I could have them and myself sign to ensure that they get paid for their work and how to ensure that my intellectual property is protected. My fears is having a 3D artist or coder take the game concept and/or 3D models and running away with it. I'm located in Ohio but will likely need to hire contractors from different states, maybe even different countries.\n",
      "top_n: 15\n"
     ]
    }
   ],
   "source": [
    "d = agent.reasoning_steps_history[0][0].action_input\n",
    "\n",
    "print(pretty_format_dict(d))"
   ]
  },
  {
   "cell_type": "code",
   "execution_count": 55,
   "metadata": {},
   "outputs": [
    {
     "data": {
      "text/plain": [
       "ResponseReasoningStep(thought='I can answer without using any more tools.', response='Based on the similar cases, here are some recommendations for the game designer:')"
      ]
     },
     "execution_count": 55,
     "metadata": {},
     "output_type": "execute_result"
    }
   ],
   "source": [
    "agent.latest_reasoning_step"
   ]
  },
  {
   "cell_type": "code",
   "execution_count": null,
   "metadata": {},
   "outputs": [],
   "source": []
  },
  {
   "cell_type": "code",
   "execution_count": 40,
   "metadata": {},
   "outputs": [
    {
     "data": {
      "text/plain": [
       "{'query': \"I'm currently designing a video game that I know will turn a good profit. The business machinations, marketing, and project management are my forte but I lack in the programming and 3D modelling department. So, I'll need to hire independent contractors/freelancers to handle those parts to design a 'proof of concept' in order to better secure initial income via crowdfunding. At this point: I have virtually no initial startup funds. So, I was hoping for advice on what types of contracts I could have them and myself sign to ensure that they get paid for their work and how to ensure that my intellectual property is protected. My fears is having a 3D artist or coder take the game concept and/or 3D models and running away with it. I'm located in Ohio but will likely need to hire contractors from different states, maybe even different countries.\",\n",
       " 'top_n': 15}"
      ]
     },
     "execution_count": 40,
     "metadata": {},
     "output_type": "execute_result"
    }
   ],
   "source": [
    "agent.reasoning_steps_history[0][0].action_input"
   ]
  },
  {
   "cell_type": "code",
   "execution_count": 32,
   "metadata": {},
   "outputs": [
    {
     "data": {
      "text/markdown": [
       "## Model Response:\n",
       "To address the new query, we can draw comparisons from several past cases:\n",
       "\n",
       "1. In [[2](https://www.reddit.com/r/legaladvice/comments/ea7t71/what_are_my_best_steps_to_form_a_business/)], an individual sought guidance on forming an LLC and the implications of different types of business entities. This case can provide insights into the legal structure that the game designer may consider when hiring independent contractors.\n",
       "\n",
       "2. In [[5](https://www.reddit.com/r/legaladvice/comments/2t9664/independent_contractor_things_to_watch_out_for_in/)], an individual in Wisconsin sought advice on potential issues to watch out for when working as an independent contractor. This case can provide insights into the considerations and precautions the game designer should take when hiring independent contractors.\n",
       "\n",
       "3. In [[6](https://www.reddit.com/r/legaladvice/comments/gn4sdf/does_this_count_as_a_business_what_do_i_need_to/)], an individual sought advice on how to protect themselves legally when integrating a donations system into their gaming community. This case can provide insights into the legal measures the game designer can take to protect their intellectual property and ensure that contractors are paid for their work.\n",
       "\n",
       "4. In [[8](https://www.reddit.com/r/legaladvice/comments/51psea/kickstarter_for_a_tabletop_rpg_book_do_i_need_an/)], an individual planning to launch a Kickstarter campaign sought advice on whether forming an LLC was necessary to protect their intellectual property. This case can provide insights into the considerations the game designer should make regarding the protection of their intellectual property.\n",
       "\n",
       "By referencing these past cases, the game designer can gain insights into the legal steps they can take to protect their intellectual property and ensure that contractors are paid for their work. They can also learn about the potential issues to watch out for when working with independent contractors and the implications of different business entities. Additionally, they can explore the legal requirements for integrating a donations system and consider whether forming an LLC is necessary for their specific situation.\n",
       "##### [6] [\"Legal considerations for setting up a gaming community donations system and hiring developers\"](https://www.reddit.com/r/legaladvice/comments/gn4sdf/does_this_count_as_a_business_what_do_i_need_to/) - HI, 2020-05-20, Number: 5183\n",
       "##### [2] [\"Forming an LTD for a graphic artist and game designer: business structure, name reservation, and financial implications\"](https://www.reddit.com/r/legaladvice/comments/ea7t71/what_are_my_best_steps_to_form_a_business/) - MP, 2019-12-13, Number: 1270\n",
       "##### [5] [\"Legal considerations for becoming an independent contractor and transferring copyright in a software development agreement\"](https://www.reddit.com/r/legaladvice/comments/2t9664/independent_contractor_things_to_watch_out_for_in/) - CT, 2015-01-22, Number: 8236\n",
       "##### [8] [\"Legal considerations for launching a Kickstarter campaign and selling a self-published book online\"](https://www.reddit.com/r/legaladvice/comments/51psea/kickstarter_for_a_tabletop_rpg_book_do_i_need_an/) - FM, 2016-09-08, Number: 8170\n"
      ],
      "text/plain": [
       "<IPython.core.display.Markdown object>"
      ]
     },
     "execution_count": 32,
     "metadata": {},
     "output_type": "execute_result"
    }
   ],
   "source": [
    "Markdown(f\"{agent.reasoning_steps_history[0][1].observation}\")"
   ]
  },
  {
   "cell_type": "code",
   "execution_count": null,
   "metadata": {},
   "outputs": [],
   "source": []
  },
  {
   "cell_type": "code",
   "execution_count": 16,
   "metadata": {},
   "outputs": [
    {
     "name": "stdout",
     "output_type": "stream",
     "text": [
      "\u001b[38;5;200m\u001b[1;3mThought: I need to use a tool to help me answer the question.\n",
      "Action: get_top_n_report\n",
      "Action Input: {'query': \"I'm currently designing a video game that I know will turn a good profit. The business machinations, marketing, and project management are my forte but I lack in the programming and 3D modelling department. So, I'll need to hire independent contractors/freelancers to handle those parts to design a 'proof of concept' in order to better secure initial income via crowdfunding. At this point:  I have virtually no initial startup funds. So, I was hoping for advice on what types of contracts I could have them and myself sign to ensure that they get paid for their work and how to ensure that my intellectual property is protected. My fears is having a 3D artist or coder take the game concept and/or 3D models and running away with it. I'm located in Ohio but will likely need to hire contractors from different states, maybe even different countries.\", 'top_n': 20}\n",
      "\u001b[0m"
     ]
    },
    {
     "name": "stderr",
     "output_type": "stream",
     "text": [
      "100%|██████████| 20/20 [00:00<00:00, 844.58it/s]\n",
      "100%|██████████| 1/1 [00:00<00:00, 507.72it/s]\n"
     ]
    },
    {
     "name": "stdout",
     "output_type": "stream",
     "text": [
      "\u001b[36;1m\u001b[1;3mObservation: ## New Query:\n",
      "I'm currently designing a video game that I know will turn a good profit. The business machinations, marketing, and project management are my forte but I lack in the programming and 3D modelling department. So, I'll need to hire independent contractors/freelancers to handle those parts to design a 'proof of concept' in order to better secure initial income via crowdfunding. At this point:  I have virtually no initial startup funds. So, I was hoping for advice on what types of contracts I could have them and myself sign to ensure that they get paid for their work and how to ensure that my intellectual property is protected. My fears is having a 3D artist or coder take the game concept and/or 3D models and running away with it. I'm located in Ohio but will likely need to hire contractors from different states, maybe even different countries.\n",
      "## Model Response:\n",
      "In order to address the new query, we can draw comparisons to several past cases that involve hiring independent contractors and protecting intellectual property.\n",
      "\n",
      "First, in [[2](https://www.reddit.com/r/legaladvice/comments/ea7t71/what_are_my_best_steps_to_form_a_business/)], an individual is seeking guidance on forming an LLC and understanding the different types of business entities. While the new query does not specifically mention forming a business entity, it may be beneficial for the game designer to consider forming an LLC to protect their personal assets and establish a legal framework for their business. This can provide a level of protection for both the game designer and the independent contractors they hire.\n",
      "\n",
      "Second, in [[6](https://www.reddit.com/r/legaladvice/comments/gphir8/looking_to_outsource_work_to_a_foreign_friend_how/)], an individual is seeking clarification on whether their friend, who will be providing video editing services, should be classified as an independent contractor or an employee. This case highlights the importance of properly classifying the relationship between the game designer and the independent contractors they hire. It is crucial to determine whether the contractors should be classified as employees or independent contractors, as this can have implications for tax obligations and legal responsibilities.\n",
      "\n",
      "Third, in [[8](https://www.reddit.com/r/legaladvice/comments/519rgb/basing_my_startup_on_an_idea_while_consulting_for/)], a software developer is concerned about potential legal action from a previous client if they launch a startup that incorporates similar concepts. This case emphasizes the need for the game designer to protect their intellectual property. They should consider having the independent contractors sign non-disclosure agreements (NDAs) to ensure that their game concept and 3D models remain confidential and cannot be used or disclosed without permission.\n",
      "\n",
      "Lastly, in [[9](https://www.reddit.com/r/legaladvice/comments/51psea/kickstarter_for_a_tabletop_rpg_book_do_i_need_an/)], an individual is planning to launch a Kickstarter campaign for their tabletop RPG book and is unsure if they need to form an LLC. This case highlights the potential benefits of forming an LLC to protect personal assets and limit liability. While the new query does not specifically mention a Kickstarter campaign, it is relevant to consider the potential financial risks and legal protections associated with crowdfunding.\n",
      "\n",
      "By referencing these past cases, the game designer can gain insights into the steps they can take to protect their intellectual property and ensure that the independent contractors they hire are properly classified and compensated. They should consider forming an LLC, having contractors sign NDAs, and consulting with an attorney who specializes in intellectual property and contract law to address the specific legal considerations of hiring contractors from different states or countries.\n",
      "##### [6] [Determining the Classification of a Video Editor: Independent Contractor or Employee?](https://www.reddit.com/r/legaladvice/comments/gphir8/looking_to_outsource_work_to_a_foreign_friend_how/) - NM, 2020-05-24, Number: 4123\n",
      "##### [2] [\"Forming an LTD for a graphic artist and game designer: business structure, name reservation, and financial implications\"](https://www.reddit.com/r/legaladvice/comments/ea7t71/what_are_my_best_steps_to_form_a_business/) - MP, 2019-12-13, Number: 1270\n",
      "##### [8] [\"Legal implications of launching a startup that competes with a previous client's product, despite lack of non-compete agreement and no use of original source code\"](https://www.reddit.com/r/legaladvice/comments/519rgb/basing_my_startup_on_an_idea_while_consulting_for/) - NJ, 2016-09-05, Number: 5286\n",
      "##### [9] [\"Legal considerations for launching a Kickstarter campaign and selling a self-published book online\"](https://www.reddit.com/r/legaladvice/comments/51psea/kickstarter_for_a_tabletop_rpg_book_do_i_need_an/) - FM, 2016-09-08, Number: 8170\n",
      "\n",
      "\u001b[0m\u001b[38;5;200m\u001b[1;3mResponse: Based on the similar cases, here are some recommendations for the game designer:\n",
      "\u001b[0m"
     ]
    }
   ],
   "source": [
    "data_agent_test_2 = agent.chat(f\"Please run that again but this time get 20 cases\")"
   ]
  },
  {
   "attachments": {},
   "cell_type": "markdown",
   "metadata": {},
   "source": [
    "* Test without function calling api"
   ]
  },
  {
   "cell_type": "code",
   "execution_count": 17,
   "metadata": {},
   "outputs": [],
   "source": [
    "llm_no_fun = OpenAI(model=\"gpt-3.5-turbo\")\n",
    "# initialize ReAct agent\n",
    "agent_no_fun = ReActAgent.from_tools([function_tool], llm=llm_no_fun, verbose=True)"
   ]
  },
  {
   "cell_type": "code",
   "execution_count": 18,
   "metadata": {},
   "outputs": [
    {
     "name": "stdout",
     "output_type": "stream",
     "text": [
      "\u001b[38;5;200m\u001b[1;3mThought: I need to use a tool to help me find similar cases to the user's query.\n",
      "Action: get_top_n_report\n",
      "Action Input: {'query': \"I'm currently designing a video game that I know will turn a good profit. The business machinations, marketing, and project management are my forte but I lack in the programming and 3D modelling department. So, I'll need to hire independent contractors/freelancers to handle those parts to design a 'proof of concept' in order to better secure initial income via crowdfunding. At this point:  I have virtually no initial startup funds. So, I was hoping for advice on what types of contracts I could have them and myself sign to ensure that they get paid for their work and how to ensure that my intellectual property is protected. My fears is having a 3D artist or coder take the game concept and/or 3D models and running away with it. I'm located in Ohio but will likely need to hire contractors from different states, maybe even different countries.\", 'top_n': 15}\n",
      "\u001b[0m"
     ]
    },
    {
     "name": "stderr",
     "output_type": "stream",
     "text": [
      "100%|██████████| 15/15 [00:00<00:00, 884.13it/s]\n",
      "100%|██████████| 1/1 [00:00<00:00, 552.25it/s]\n"
     ]
    },
    {
     "name": "stdout",
     "output_type": "stream",
     "text": [
      "\u001b[36;1m\u001b[1;3mObservation: ## New Query:\n",
      "I'm currently designing a video game that I know will turn a good profit. The business machinations, marketing, and project management are my forte but I lack in the programming and 3D modelling department. So, I'll need to hire independent contractors/freelancers to handle those parts to design a 'proof of concept' in order to better secure initial income via crowdfunding. At this point:  I have virtually no initial startup funds. So, I was hoping for advice on what types of contracts I could have them and myself sign to ensure that they get paid for their work and how to ensure that my intellectual property is protected. My fears is having a 3D artist or coder take the game concept and/or 3D models and running away with it. I'm located in Ohio but will likely need to hire contractors from different states, maybe even different countries.\n",
      "## Model Response:\n",
      "To address the new query, we can draw comparisons from several past cases:\n",
      "\n",
      "1. In [[2](https://www.reddit.com/r/legaladvice/comments/ea7t71/what_are_my_best_steps_to_form_a_business/)], an individual sought guidance on forming an LLC and the implications of different types of business entities. This case can provide insights into the process of forming a legal entity for the video game project and the potential benefits of forming an LLC to protect the individual's interests.\n",
      "\n",
      "2. In [[5](https://www.reddit.com/r/legaladvice/comments/2t9664/independent_contractor_things_to_watch_out_for_in/)], an individual in Wisconsin was considering working as an independent contractor for a startup. This case can offer advice on potential issues to watch out for when hiring independent contractors, such as ensuring clear contractual agreements and addressing liability concerns.\n",
      "\n",
      "3. In [[6](https://www.reddit.com/r/legaladvice/comments/gphir8/looking_to_outsource_work_to_a_foreign_friend_how/)], a content creator sought clarification on whether a friend in South Africa should be classified as an independent contractor or an employee. This case can provide insights into the classification of contractors and the legal considerations when hiring contractors from different countries.\n",
      "\n",
      "4. In [[11](https://www.reddit.com/r/legaladvice/comments/7sbd0a/is_this_legal_to_do_paying_contractors_in_my/)], a founder of a startup was unsure about paying a contractor who had not completed any work. This case can offer guidance on the rights and obligations of the parties involved in a contractor relationship and the potential legal issues that may arise.\n",
      "\n",
      "By referencing these past cases, the researcher can gain insights into the process of forming a legal entity, the importance of clear contractual agreements, the classification of contractors, and the rights and obligations of both parties. These insights can help address the new query and provide guidance on how to protect intellectual property and ensure that contractors are paid for their work.\n",
      "##### [6] [Determining the Classification of a Video Editor: Independent Contractor or Employee?](https://www.reddit.com/r/legaladvice/comments/gphir8/looking_to_outsource_work_to_a_foreign_friend_how/) - NM, 2020-05-24, Number: 4123\n",
      "##### [2] [\"Forming an LTD for a graphic artist and game designer: business structure, name reservation, and financial implications\"](https://www.reddit.com/r/legaladvice/comments/ea7t71/what_are_my_best_steps_to_form_a_business/) - MP, 2019-12-13, Number: 1270\n",
      "##### [5] [\"Legal considerations for becoming an independent contractor and transferring copyright in a software development agreement\"](https://www.reddit.com/r/legaladvice/comments/2t9664/independent_contractor_things_to_watch_out_for_in/) - CT, 2015-01-22, Number: 8236\n",
      "##### [11] [\"Legal implications of not paying a contractor during probation period in a startup\"](https://www.reddit.com/r/legaladvice/comments/7sbd0a/is_this_legal_to_do_paying_contractors_in_my/) - HI, 2018-01-23, Number: 906\n",
      "\n",
      "\u001b[0m\u001b[38;5;200m\u001b[1;3mResponse: Based on the information provided, here are some recommendations for contracts to ensure that contractors get paid for their work and to protect your intellectual property:\n",
      "\u001b[0m"
     ]
    }
   ],
   "source": [
    "data_agent_nf_test_1 = agent_no_fun.chat(f\"Get the top 15 cases similar to this query: {user_query}\")"
   ]
  },
  {
   "cell_type": "code",
   "execution_count": 19,
   "metadata": {},
   "outputs": [
    {
     "name": "stdout",
     "output_type": "stream",
     "text": [
      "\u001b[38;5;200m\u001b[1;3mThought: I need to use a tool to help me find similar cases.\n",
      "Action: get_top_n_report\n",
      "Action Input: {'query': \"I'm currently designing a video game that I know will turn a good profit. The business machinations, marketing, and project management are my forte but I lack in the programming and 3D modelling department. So, I'll need to hire independent contractors/freelancers to handle those parts to design a 'proof of concept' in order to better secure initial income via crowdfunding. At this point: I have virtually no initial startup funds. So, I was hoping for advice on what types of contracts I could have them and myself sign to ensure that they get paid for their work and how to ensure that my intellectual property is protected. My fears is having a 3D artist or coder take the game concept and/or 3D models and running away with it. I'm located in Ohio but will likely need to hire contractors from different states, maybe even different countries.\", 'top_n': 5}\n",
      "\u001b[0m"
     ]
    },
    {
     "name": "stderr",
     "output_type": "stream",
     "text": [
      "100%|██████████| 5/5 [00:00<00:00, 898.10it/s]\n",
      "100%|██████████| 1/1 [00:00<00:00, 500.33it/s]\n"
     ]
    },
    {
     "name": "stdout",
     "output_type": "stream",
     "text": [
      "\u001b[36;1m\u001b[1;3mObservation: ## New Query:\n",
      "I'm currently designing a video game that I know will turn a good profit. The business machinations, marketing, and project management are my forte but I lack in the programming and 3D modelling department. So, I'll need to hire independent contractors/freelancers to handle those parts to design a 'proof of concept' in order to better secure initial income via crowdfunding. At this point: I have virtually no initial startup funds. So, I was hoping for advice on what types of contracts I could have them and myself sign to ensure that they get paid for their work and how to ensure that my intellectual property is protected. My fears is having a 3D artist or coder take the game concept and/or 3D models and running away with it. I'm located in Ohio but will likely need to hire contractors from different states, maybe even different countries.\n",
      "## Model Response:\n",
      "To address the new query, we can draw comparisons from several of the previous search results:\n",
      "\n",
      "1. In [[1](https://www.reddit.com/r/legaladvice/comments/2xzeee/advice_on_steps_i_can_take_to_protect_my_idea_ie/)], the individual was seeking advice on how to protect their computer program/app idea when discussing it with potential collaborators. The suggestions included obtaining a patent for the program/app and entering into non-disclosure agreements (NDAs) with potential collaborators. These measures can also be applied in the context of hiring independent contractors for a video game project. The individual can consider obtaining a patent for their game concept or any unique features, and have the contractors sign NDAs to ensure the protection of their intellectual property.\n",
      "\n",
      "2. In [[3](https://www.reddit.com/r/legaladvice/comments/gphir8/looking_to_outsource_work_to_a_foreign_friend_how/)], the individual was seeking clarification on whether their friend, who would handle video editing on a project-by-project basis, should be classified as an independent contractor or an employee. This comparison is relevant because the new query also involves hiring independent contractors for specific tasks. It is important for the individual to properly classify the contractors to avoid potential legal issues related to employment status and tax obligations.\n",
      "\n",
      "3. In [[4](https://www.reddit.com/r/legaladvice/comments/51psea/kickstarter_for_a_tabletop_rpg_book_do_i_need_an/)], the individual was planning to launch a Kickstarter campaign for their tabletop RPG book and was concerned about the need to form an LLC for protection. This comparison is relevant because the new query also involves crowdfunding and the individual's concerns about protecting their intellectual property. While forming an LLC may not be necessary, the individual should consider consulting with an attorney to understand the best approach to protect their intellectual property in the context of crowdfunding.\n",
      "\n",
      "By referencing these previous cases, the researcher can provide insights on the potential options available to the individual in terms of protecting their intellectual property and ensuring that the contractors get paid for their work. The researcher can also highlight the importance of properly classifying the contractors and seeking legal advice to address any specific concerns related to hiring contractors from different states or countries.\n",
      "##### [4] [\"Legal considerations for launching a Kickstarter campaign and selling a self-published book online\"](https://www.reddit.com/r/legaladvice/comments/51psea/kickstarter_for_a_tabletop_rpg_book_do_i_need_an/) - FM, 2016-09-08, Number: 8170\n",
      "##### [1] [\"Protecting your idea while collaborating with strangers in the California Bay Area tech scene\"](https://www.reddit.com/r/legaladvice/comments/2xzeee/advice_on_steps_i_can_take_to_protect_my_idea_ie/) - IA, 2015-03-05, Number: 1253\n",
      "##### [3] [Determining the Classification of a Video Editor: Independent Contractor or Employee?](https://www.reddit.com/r/legaladvice/comments/gphir8/looking_to_outsource_work_to_a_foreign_friend_how/) - NM, 2020-05-24, Number: 4123\n",
      "\n",
      "\u001b[0m\u001b[38;5;200m\u001b[1;3mResponse: Based on previous cases, here are some recommendations for contracts to ensure that contractors get paid for their work and to protect your intellectual property:\n",
      "\u001b[0m"
     ]
    }
   ],
   "source": [
    "data_agent_nf_test_2 = agent_no_fun.chat(f\"Please run that again but this time get 5 cases\")"
   ]
  },
  {
   "cell_type": "code",
   "execution_count": 1,
   "metadata": {},
   "outputs": [],
   "source": [
    "import pandas as pd\n",
    "\n",
    "df = pd.read_parquet(\"reddit_legal_cluster_test_results.parquet\")\n",
    "df['timestamp'] = pd.to_datetime(df['created_utc'], unit='s')\n",
    "df['datestamp'] = df['timestamp'].dt.date\n",
    "df.rename(columns={\"State\": \"state\",\n",
    "                   \"kmeans_label\": \"cluster\"}, inplace=True)"
   ]
  },
  {
   "cell_type": "code",
   "execution_count": 8,
   "metadata": {},
   "outputs": [],
   "source": [
    "# NOTE: This is ONLY necessary in jupyter notebook.\n",
    "# Details: Jupyter runs an event-loop behind the scenes.\n",
    "#          This results in nested event-loops when we start an event-loop to make async queries.\n",
    "#          This is normally not allowed, we use nest_asyncio to allow it for convenience.\n",
    "\n",
    "import nest_asyncio\n",
    "nest_asyncio.apply()\n",
    "\n",
    "import logging\n",
    "import sys\n",
    "\n",
    "logging.basicConfig(stream=sys.stdout, level=logging.INFO)\n",
    "logging.getLogger().addHandler(logging.StreamHandler(stream=sys.stdout))"
   ]
  },
  {
   "cell_type": "code",
   "execution_count": 9,
   "metadata": {},
   "outputs": [],
   "source": [
    "from llama_index import (\n",
    "    VectorStoreIndex,\n",
    "    ServiceContext,\n",
    "    StorageContext,\n",
    "    SQLDatabase,\n",
    ")\n",
    "\n",
    "from llama_index.node_parser.simple import SimpleNodeParser\n",
    "import chromadb\n",
    "from llama_index.vector_stores import ChromaVectorStore\n",
    "from langchain.text_splitter import TokenTextSplitter\n",
    "from llama_index.llms import OpenAI\n",
    "\n",
    "\n",
    "from llama_index.indices.struct_store.sql_query import NLSQLTableQueryEngine\n",
    "from llama_index.indices.struct_store.sql import SQLStructStoreIndex\n",
    "from llama_index.schema import TextNode\n",
    "\n",
    "from llama_index.query_engine import SQLAutoVectorQueryEngine, RetrieverQueryEngine\n",
    "from llama_index.tools.query_engine import QueryEngineTool\n",
    "from llama_index.indices.vector_store import VectorIndexAutoRetriever\n",
    "\n",
    "from llama_index.indices.vector_store.retrievers import VectorIndexAutoRetriever\n",
    "from llama_index.vector_stores.types import MetadataInfo, VectorStoreInfo\n",
    "from llama_index.query_engine.retriever_query_engine import RetrieverQueryEngine"
   ]
  },
  {
   "cell_type": "code",
   "execution_count": 10,
   "metadata": {},
   "outputs": [],
   "source": [
    "# define node parser and LLM\n",
    "chunk_size = 1024\n",
    "llm = OpenAI(temperature=0, model=\"gpt-3.5-turbo\", streaming=False)\n",
    "service_context = ServiceContext.from_defaults(chunk_size=chunk_size, llm=llm)\n",
    "\n",
    "text_splitter = TokenTextSplitter(chunk_size=chunk_size)\n",
    "node_parser = SimpleNodeParser(text_splitter=text_splitter)"
   ]
  },
  {
   "cell_type": "code",
   "execution_count": 11,
   "metadata": {},
   "outputs": [
    {
     "name": "stdout",
     "output_type": "stream",
     "text": [
      "INFO:chromadb.telemetry.posthog:Anonymized telemetry enabled. See https://docs.trychroma.com/telemetry for more information.\n",
      "Anonymized telemetry enabled. See https://docs.trychroma.com/telemetry for more information.\n"
     ]
    }
   ],
   "source": [
    "#create chroma client and collection\n",
    "chroma_client = chromadb.Client()\n",
    "chroma_collection = chroma_client.create_collection(\"reddit_legal\")\n",
    "\n",
    "vector_store = ChromaVectorStore(chroma_collection=chroma_collection)\n",
    "storage_context = StorageContext.from_defaults(vector_store=vector_store)\n",
    "vector_index = VectorStoreIndex([], storage_context=storage_context)"
   ]
  },
  {
   "cell_type": "code",
   "execution_count": 12,
   "metadata": {},
   "outputs": [],
   "source": [
    "from sqlalchemy import create_engine, MetaData, Table, Column, String, Integer, DateTime, select, column\n"
   ]
  },
  {
   "cell_type": "code",
   "execution_count": 13,
   "metadata": {},
   "outputs": [],
   "source": [
    "table_name = \"reddit_legal_table\"\n",
    "uri = \"sqlite:///reddit_legal_table.db\""
   ]
  },
  {
   "cell_type": "code",
   "execution_count": 14,
   "metadata": {},
   "outputs": [],
   "source": [
    "#create SQL engine\n",
    "engine = create_engine(uri, future=True)\n",
    "metadata_obj = MetaData()"
   ]
  },
  {
   "cell_type": "code",
   "execution_count": 24,
   "metadata": {},
   "outputs": [
    {
     "data": {
      "text/html": [
       "<div>\n",
       "<style scoped>\n",
       "    .dataframe tbody tr th:only-of-type {\n",
       "        vertical-align: middle;\n",
       "    }\n",
       "\n",
       "    .dataframe tbody tr th {\n",
       "        vertical-align: top;\n",
       "    }\n",
       "\n",
       "    .dataframe thead th {\n",
       "        text-align: right;\n",
       "    }\n",
       "</style>\n",
       "<table border=\"1\" class=\"dataframe\">\n",
       "  <thead>\n",
       "    <tr style=\"text-align: right;\">\n",
       "      <th></th>\n",
       "      <th>index</th>\n",
       "      <th>created_utc</th>\n",
       "      <th>full_link</th>\n",
       "      <th>id</th>\n",
       "      <th>body</th>\n",
       "      <th>title</th>\n",
       "      <th>text_label</th>\n",
       "      <th>flair_label</th>\n",
       "      <th>embeddings</th>\n",
       "      <th>token_count</th>\n",
       "      <th>llm_title</th>\n",
       "      <th>state</th>\n",
       "      <th>cluster</th>\n",
       "      <th>topic_title</th>\n",
       "      <th>timestamp</th>\n",
       "      <th>datestamp</th>\n",
       "    </tr>\n",
       "  </thead>\n",
       "  <tbody>\n",
       "    <tr>\n",
       "      <th>1078</th>\n",
       "      <td>1078</td>\n",
       "      <td>1575952538</td>\n",
       "      <td>https://www.reddit.com/r/legaladvice/comments/...</td>\n",
       "      <td>e8lsen</td>\n",
       "      <td>I applied for a job and after two interviews I...</td>\n",
       "      <td>Failed a drug test due to amphetamines, I have...</td>\n",
       "      <td>employment</td>\n",
       "      <td>5</td>\n",
       "      <td>[9.475638042064453e-05, 0.0005111666301983955,...</td>\n",
       "      <td>493</td>\n",
       "      <td>\"Validity of Schedule II Drug Prescription in ...</td>\n",
       "      <td>PR</td>\n",
       "      <td>8</td>\n",
       "      <td>Employment Legal Concerns and Issues</td>\n",
       "      <td>2019-12-10 04:35:38</td>\n",
       "      <td>2019-12-10</td>\n",
       "    </tr>\n",
       "  </tbody>\n",
       "</table>\n",
       "</div>"
      ],
      "text/plain": [
       "      index  created_utc                                          full_link  \\\n",
       "1078   1078   1575952538  https://www.reddit.com/r/legaladvice/comments/...   \n",
       "\n",
       "          id                                               body  \\\n",
       "1078  e8lsen  I applied for a job and after two interviews I...   \n",
       "\n",
       "                                                  title  text_label  \\\n",
       "1078  Failed a drug test due to amphetamines, I have...  employment   \n",
       "\n",
       "      flair_label                                         embeddings  \\\n",
       "1078            5  [9.475638042064453e-05, 0.0005111666301983955,...   \n",
       "\n",
       "      token_count                                          llm_title state  \\\n",
       "1078          493  \"Validity of Schedule II Drug Prescription in ...    PR   \n",
       "\n",
       "      cluster                           topic_title           timestamp  \\\n",
       "1078        8  Employment Legal Concerns and Issues 2019-12-10 04:35:38   \n",
       "\n",
       "       datestamp  \n",
       "1078  2019-12-10  "
      ]
     },
     "execution_count": 24,
     "metadata": {},
     "output_type": "execute_result"
    }
   ],
   "source": [
    "df.head(1)"
   ]
  },
  {
   "cell_type": "code",
   "execution_count": 15,
   "metadata": {},
   "outputs": [],
   "source": [
    "# Create table schema\n",
    "reddit_legal_table = Table(\n",
    "    table_name,\n",
    "    metadata_obj,\n",
    "    Column(\"state\", String(4), primary_key=True),\n",
    "    Column(\"token_count\", Integer),\n",
    "    Column(\"cluster\", Integer),\n",
    "    extend_existing=True\n",
    ")\n",
    "\n",
    "metadata_obj.create_all(engine)"
   ]
  },
  {
   "cell_type": "code",
   "execution_count": 16,
   "metadata": {},
   "outputs": [
    {
     "data": {
      "text/plain": [
       "dict_keys(['reddit_legal_table'])"
      ]
     },
     "execution_count": 16,
     "metadata": {},
     "output_type": "execute_result"
    }
   ],
   "source": [
    "metadata_obj.tables.keys()"
   ]
  },
  {
   "cell_type": "code",
   "execution_count": 21,
   "metadata": {},
   "outputs": [
    {
     "data": {
      "text/plain": [
       "5000"
      ]
     },
     "execution_count": 21,
     "metadata": {},
     "output_type": "execute_result"
    }
   ],
   "source": [
    "# df.to_sql(table_name, con=engine, index=False, if_exists='replace')"
   ]
  },
  {
   "cell_type": "code",
   "execution_count": 19,
   "metadata": {},
   "outputs": [],
   "source": [
    "from sqlalchemy import insert\n",
    "\n",
    "with engine.connect() as connection:\n",
    "    for _, row in df.iterrows():\n",
    "        stmt = insert(reddit_legal_table).values(state=row['state'])\n",
    "        connection.execute(stmt)\n",
    "    connection.commit()\n"
   ]
  },
  {
   "cell_type": "code",
   "execution_count": 20,
   "metadata": {},
   "outputs": [
    {
     "name": "stdout",
     "output_type": "stream",
     "text": [
      "[(1078, 1575952538, 'https://www.reddit.com/r/legaladvice/comments/e8lsen/failed_a_drug_test_due_to_amphetamines_i_have_a/', 'e8lsen', 'I applied for a job and after two interviews I was given for and agreed to an offer letter, had a start date.  The only remaining variable was a drug ... (1829 characters truncated) ... le II drug no longer considered valid?  \\n\\nTL;DR\\nDoctor said my prescription was too old and I must be getting amphetamines from an illegal source.', 'Failed a drug test due to amphetamines, I have a prescription. How long are prescriptions valid after you get them filled?', 'employment', 5, b'\\x11YP8\\xfe\\xd6\\x18?\\xcf-\\xd1\\xfa\\xf9\\xbf@?N\\x06M\\x99f\\xa6\\x85?n\\x8f\\x8c\\x98f\\x14\\x98\\xbfS9\\xcf\\x98\\xf5<\\x97\\xbf\\xac!\\x85\\xb7\\xbdg\\x9b?H\\x8dn\\x97\\xb ... (34692 characters truncated) ... f\\x06\\xb6\\x9b\\xf7\\xc4\\x1e\\x8b\\xbfd;\\xe0\\x1aT\\x8f\\xa0\\xbf}9\\xe9\\x96\\x98_\\x9d\\xbf\\x8d*$\\x19r*\\x86\\xbf:\\xfd\\x93Y\\x0f\\xc1\\x94\\xbf\\xa2\\x8f\\xa6v\\t7\\x9e\\xbf', 493, '\"Validity of Schedule II Drug Prescription in Texas: When does it expire?\"', 'PR', 8, 'Employment Legal Concerns and Issues', '2019-12-10 04:35:38.000000', '2019-12-10'), (2098, 1577442453, 'https://www.reddit.com/r/legaladvice/comments/eg9ll2/speeding_ticket_in_tennessee_georgia_drivers/', 'eg9ll2', 'Hi everyone, thanks in advance for any guidance.\\n\\nI was driving home yesterday and managed to get pulled over outside Chattanooga going 21 miles ov ... (820 characters truncated) ... help or hurt my situation?\\n\\nAny other advice on attorney vs. paying vs. a different route for dealing with this would be much appreciated.  Thanks!', \"Speeding ticket in Tennessee, Georgia Driver's License. Worth it to pay vs. hire an attorney, and how does Driver's License Compact play a role?\", 'driving', 4, b'*\\xee\\xc3\\x0f/x{\\xbfMGX\\x93\\xb2i\\x95?%:!v^\\xb3p?\\x9f\\x1d?\\x13F\\x94\\xa5\\xbf\\x1d\\x8f\\xbf\\xd0k\\xce\\x89\\xbf%\\xb5\\xea\\x15\\x9e\\x0f\\xa1?<\\x1f\\xabmz\\x04\\x9f ... (34382 characters truncated) ... 7\\xbf\\xcf\\xd5\\xd7\\xd5\\x8c/\\x91\\xbf<\\x1f\\xabmz\\x04\\x0f?\\x92\\x8dZ\\x12\\x02\\x17w\\xbf>3wv\\xe6!p\\xbf\\xaa\\xf7\\x13\\xae\\x13S~?\\xd4\\xf1\\xa3\\xd2\\xd3\\x9a\\x96\\xbf', 252, '\"Speeding ticket consequences for out-of-state drivers: Understanding the Driver\\'s License Compact and legal options\"', 'KY', 10, 'Legal Topics in Traffic Violations', '2019-12-27 10:27:33.000000', '2019-12-27'), (9384, 1412266873, 'https://www.reddit.com/r/legaladvice/comments/2i3or9/cant_figure_out_what_this_language_from_divorce/', '2i3or9', \"So the line in question is:\\n\\n*Husband shall provide major medical, hospitalization, dental and vision insurance for the minor children with benefit ... (517 characters truncated) ... ice of provider. So I thought it protected them from reduced coverage, not her from increased expenses. Any input would be appreciated.\\n\\nthanks\\n\\n\", \"Can't figure out what this language from Divorce Decree regarding Health Insurance means. Please Help! [Georgia, USA]\", 'family', 6, b'0N\\x01\\xfb,\\x88L\\xbf\\xd2\\x9cAon\\x1e\\x90?(jV0\\xe2B\\x91?U\\x1f\\xce\\xf9\\x9fC\\x9b\\xbf9#\\x1fz8\\x99\\x9b\\xbf\\x9dk\\n\\xb3\\x03\\x1e\\x94?0\\x9d\\x0cW:Zx\\xbf)\\x0f\\x ... (34658 characters truncated) ... xbe;\\xe6O\\x8d\\xbf\\xad\\xceu\\xb8\\xd7\\xd79\\xbf~(\\x8b:Y\\x0b\\x9c\\xbf\\xff\\xa3\\xc5\\xdc\\x15f\\x9e\\xbfu\\x13B\\x16=\\x84G\\xbf\\x8c&\\x0c\\xb0k\\xf4\\x80\\xbf?\\xbdKo!)`?', 157, 'Interpreting divorce decree language regarding medical insurance and uncovered expenses', 'IL', 7, 'Child Custody and Related Issues', '2014-10-02 16:21:13.000000', '2014-10-02'), (5425, 1578732752, 'https://www.reddit.com/r/legaladvice/comments/en55d8/fico_score_dropped_100points/', 'en55d8', 'I rented an apartment as a student, and I was the primary and my dad was the guaranter. He was in charge of the payments, but after I graduated, he d ... (15 characters truncated) ... ast fee and it made my FICO score drop 100 points. Shouldn’t it affect his, because he was in charge of paying? Also is there any way I can fix this?', 'FICO score dropped 100points', 'housing', 7, b'\\xae\\xc9T\\xb5q\\xca]?i\\xd7\\xcb\\x8f\\x8f\\x0f\\x96\\xbf\\xbb=\\xab-\\xfb\\x16\\x93?\\x91\\xe3%\\xec7\\xf7\\xb0\\xbf\\xf4xe\\xf3\\xb1\\x16k?\\x91\\xf9\\xb8\\xb2\\xc9%\\x8a?^ \\x ... (34673 characters truncated) ... 5\\xbfC\\xa7\\xacr\\x94\\x14\\x8a\\xbf\\xc4\\xb7\\xcf\\xd4\\x99\\x10]?\\n\\xfeT\\r\\x87\\x9e\\x92?\\x01\\x03O2\\xcd\\x91y\\xbfg\\x9f3q\\x06\\x06\\x98?\\x06\\xee\\x8fu\\n\\x1d\\x9e\\xbf', 78, '\"Responsibility for missed rent payments and repairing credit score: Student\\'s guarantor fails to pay, resulting in FICO score drop - Who is accountable and how to resolve?\"', 'FM', 4, 'Legal Issues in Consumer Protection', '2020-01-11 08:52:32.000000', '2020-01-11'), (7735, 1578331074, 'https://www.reddit.com/r/legaladvice/comments/ekx2ch/mi_i_told_my_boss_i_had_epilepsy_and_was_fired/', 'ekx2ch', 'I have a audio recording of me saying I can’t work as many hours because I have epilepsy and I’m in school, also my my paper my GM wrote for me when  ... (670 characters truncated) ... next week.  I don’t know how easy it would be to prove it was because of epilepsy but is there anything I can do? Do I need them to say it out right?', '[MI] I told my boss I had epilepsy and was fired the next week.', 'employment', 5, b'\\xaf)\\xfa\\xdb\\xb0op\\xbf\\x9a\\xac\\xdb\\xbbB\\xec\\x90?j\\xa3\\\\;M\\xf3R?_b:Y-\\xab\\xab\\xbf\\xb4.\\x10<\\xb9\\x15\\x90\\xbf\\xc7\\xbf\\x82\\xdb\\x96W\\x82?\\x07K*\\x19\\xec\\ ... (34983 characters truncated) ... \\'W?\\xb4=BX\\t\\xa1\\x7f?\\xf3\\xaf\\x8b\\x99\\xfd^\\x8a\\xbfr\\xcb\\x08[\\xdeI\\xa4\\xbf\\x1b\\xa0\\xa4\\x9b-\\xcdQ?w\\xf8\\xc2X\\x13\\x93}\\xbf\\xda7\\x83\\xf9\\x97\\x81\\xaa\\xbf', 251, '\"Wrongful Termination Due to Epilepsy: Seeking Legal Options for Hours Violation and Discrimination\"', 'DC', 8, 'Employment Legal Concerns and Issues', '2020-01-06 17:17:54.000000', '2020-01-06')]\n"
     ]
    }
   ],
   "source": [
    "with engine.connect() as connection:\n",
    "    cursor = connection.exec_driver_sql(\"SELECT * FROM reddit_legal_table LIMIT 5\")\n",
    "    print(cursor.fetchall())"
   ]
  },
  {
   "cell_type": "code",
   "execution_count": 21,
   "metadata": {},
   "outputs": [],
   "source": [
    "sql_database = SQLDatabase(engine, include_tables=[\"reddit_legal_table\"])"
   ]
  },
  {
   "cell_type": "code",
   "execution_count": 22,
   "metadata": {},
   "outputs": [],
   "source": [
    "sql_index = SQLStructStoreIndex.from_documents(\n",
    "    [], \n",
    "    sql_database=sql_database, \n",
    "    table_name=\"reddit_legal_table\",\n",
    ")"
   ]
  },
  {
   "cell_type": "code",
   "execution_count": 23,
   "metadata": {},
   "outputs": [],
   "source": [
    "nodes = []\n",
    "for i, row in df.iterrows():\n",
    "    node = TextNode(\n",
    "        embedding=row['embeddings'].tolist(),\n",
    "        id_=row['id'],\n",
    "        metadata={\"state\": row['state']},\n",
    "        text=row['body'],\n",
    "        lookup_index=i,\n",
    "    )\n",
    "    nodes.append(node)"
   ]
  },
  {
   "cell_type": "code",
   "execution_count": 24,
   "metadata": {},
   "outputs": [],
   "source": [
    "vector_index.insert_nodes(nodes)"
   ]
  },
  {
   "cell_type": "code",
   "execution_count": 25,
   "metadata": {},
   "outputs": [],
   "source": [
    "sql_query_engine = NLSQLTableQueryEngine(\n",
    "    sql_database=sql_database,\n",
    "    tables=[\"reddit_legal_table\"],\n",
    ")"
   ]
  },
  {
   "cell_type": "code",
   "execution_count": 40,
   "metadata": {},
   "outputs": [
    {
     "data": {
      "text/html": [
       "<div>\n",
       "<style scoped>\n",
       "    .dataframe tbody tr th:only-of-type {\n",
       "        vertical-align: middle;\n",
       "    }\n",
       "\n",
       "    .dataframe tbody tr th {\n",
       "        vertical-align: top;\n",
       "    }\n",
       "\n",
       "    .dataframe thead th {\n",
       "        text-align: right;\n",
       "    }\n",
       "</style>\n",
       "<table border=\"1\" class=\"dataframe\">\n",
       "  <thead>\n",
       "    <tr style=\"text-align: right;\">\n",
       "      <th></th>\n",
       "      <th>index</th>\n",
       "      <th>created_utc</th>\n",
       "      <th>full_link</th>\n",
       "      <th>id</th>\n",
       "      <th>body</th>\n",
       "      <th>title</th>\n",
       "      <th>text_label</th>\n",
       "      <th>flair_label</th>\n",
       "      <th>embeddings</th>\n",
       "      <th>token_count</th>\n",
       "      <th>llm_title</th>\n",
       "      <th>state</th>\n",
       "      <th>cluster</th>\n",
       "      <th>topic_title</th>\n",
       "      <th>timestamp</th>\n",
       "      <th>datestamp</th>\n",
       "    </tr>\n",
       "  </thead>\n",
       "  <tbody>\n",
       "    <tr>\n",
       "      <th>1078</th>\n",
       "      <td>1078</td>\n",
       "      <td>1575952538</td>\n",
       "      <td>https://www.reddit.com/r/legaladvice/comments/...</td>\n",
       "      <td>e8lsen</td>\n",
       "      <td>I applied for a job and after two interviews I...</td>\n",
       "      <td>Failed a drug test due to amphetamines, I have...</td>\n",
       "      <td>employment</td>\n",
       "      <td>5</td>\n",
       "      <td>[9.475638042064453e-05, 0.0005111666301983955,...</td>\n",
       "      <td>493</td>\n",
       "      <td>\"Validity of Schedule II Drug Prescription in ...</td>\n",
       "      <td>PR</td>\n",
       "      <td>8</td>\n",
       "      <td>Employment Legal Concerns and Issues</td>\n",
       "      <td>2019-12-10 04:35:38</td>\n",
       "      <td>2019-12-10</td>\n",
       "    </tr>\n",
       "  </tbody>\n",
       "</table>\n",
       "</div>"
      ],
      "text/plain": [
       "      index  created_utc                                          full_link  \\\n",
       "1078   1078   1575952538  https://www.reddit.com/r/legaladvice/comments/...   \n",
       "\n",
       "          id                                               body  \\\n",
       "1078  e8lsen  I applied for a job and after two interviews I...   \n",
       "\n",
       "                                                  title  text_label  \\\n",
       "1078  Failed a drug test due to amphetamines, I have...  employment   \n",
       "\n",
       "      flair_label                                         embeddings  \\\n",
       "1078            5  [9.475638042064453e-05, 0.0005111666301983955,...   \n",
       "\n",
       "      token_count                                          llm_title state  \\\n",
       "1078          493  \"Validity of Schedule II Drug Prescription in ...    PR   \n",
       "\n",
       "      cluster                           topic_title           timestamp  \\\n",
       "1078        8  Employment Legal Concerns and Issues 2019-12-10 04:35:38   \n",
       "\n",
       "       datestamp  \n",
       "1078  2019-12-10  "
      ]
     },
     "execution_count": 40,
     "metadata": {},
     "output_type": "execute_result"
    }
   ],
   "source": [
    "df.head(1)"
   ]
  },
  {
   "cell_type": "code",
   "execution_count": 26,
   "metadata": {},
   "outputs": [],
   "source": [
    "vector_store_info = VectorStoreInfo(\n",
    "    content_info=\"articles about legal scenarios\",\n",
    "    metadata_info=[\n",
    "        MetadataInfo(name=\"state\", type=\"str\", description=\"The name of the state\"),\n",
    "    ],\n",
    ")\n",
    "vector_auto_retriever = VectorIndexAutoRetriever(\n",
    "    vector_index, vector_store_info=vector_store_info\n",
    ")\n",
    "\n",
    "retriever_query_engine = RetrieverQueryEngine.from_args(\n",
    "    vector_auto_retriever, service_context=service_context\n",
    ")"
   ]
  },
  {
   "cell_type": "code",
   "execution_count": 27,
   "metadata": {},
   "outputs": [],
   "source": [
    "sql_tool = QueryEngineTool.from_defaults(\n",
    "    query_engine=sql_query_engine,\n",
    "    description=(\n",
    "        \"Useful for translating a natural language query into a SQL query over a table containing: \"\n",
    "        \"reddit_legal_table, containing structured data about insurance claims.\"\n",
    "    ),\n",
    ")\n",
    "vector_tool = QueryEngineTool.from_defaults(\n",
    "    query_engine=retriever_query_engine,\n",
    "    description=f\"Useful for answering semantic questions about insurance claims\",\n",
    ")"
   ]
  },
  {
   "cell_type": "code",
   "execution_count": 28,
   "metadata": {},
   "outputs": [],
   "source": [
    "query_engine = SQLAutoVectorQueryEngine(\n",
    "    sql_tool, vector_tool, service_context=service_context\n",
    ")"
   ]
  },
  {
   "cell_type": "code",
   "execution_count": 29,
   "metadata": {},
   "outputs": [
    {
     "name": "stdout",
     "output_type": "stream",
     "text": [
      "\u001b[36;1m\u001b[1;3mQuerying other query engine: The question is asking about the most common state in the data, which is related to answering semantic questions about insurance claims.\n",
      "\u001b[0mINFO:llama_index.query_engine.sql_join_query_engine:> Querying other query engine: The question is asking about the most common state in the data, which is related to answering semantic questions about insurance claims.\n",
      "> Querying other query engine: The question is asking about the most common state in the data, which is related to answering semantic questions about insurance claims.\n",
      "INFO:llama_index.indices.vector_store.retrievers.auto_retriever.auto_retriever:Using query str: \n",
      "Using query str: \n",
      "INFO:llama_index.indices.vector_store.retrievers.auto_retriever.auto_retriever:Using filters: {}\n",
      "Using filters: {}\n",
      "INFO:llama_index.indices.vector_store.retrievers.auto_retriever.auto_retriever:Using top_k: 1\n",
      "Using top_k: 1\n",
      "INFO:openai:error_code=None error_message=\"'$.input' is invalid. Please check the API reference: https://platform.openai.com/docs/api-reference.\" error_param=None error_type=invalid_request_error message='OpenAI API error received' stream_error=False\n",
      "error_code=None error_message=\"'$.input' is invalid. Please check the API reference: https://platform.openai.com/docs/api-reference.\" error_param=None error_type=invalid_request_error message='OpenAI API error received' stream_error=False\n",
      "INFO:openai:error_code=None error_message=\"'$.input' is invalid. Please check the API reference: https://platform.openai.com/docs/api-reference.\" error_param=None error_type=invalid_request_error message='OpenAI API error received' stream_error=False\n",
      "error_code=None error_message=\"'$.input' is invalid. Please check the API reference: https://platform.openai.com/docs/api-reference.\" error_param=None error_type=invalid_request_error message='OpenAI API error received' stream_error=False\n",
      "INFO:openai:error_code=None error_message=\"'$.input' is invalid. Please check the API reference: https://platform.openai.com/docs/api-reference.\" error_param=None error_type=invalid_request_error message='OpenAI API error received' stream_error=False\n",
      "error_code=None error_message=\"'$.input' is invalid. Please check the API reference: https://platform.openai.com/docs/api-reference.\" error_param=None error_type=invalid_request_error message='OpenAI API error received' stream_error=False\n",
      "INFO:openai:error_code=None error_message=\"'$.input' is invalid. Please check the API reference: https://platform.openai.com/docs/api-reference.\" error_param=None error_type=invalid_request_error message='OpenAI API error received' stream_error=False\n",
      "error_code=None error_message=\"'$.input' is invalid. Please check the API reference: https://platform.openai.com/docs/api-reference.\" error_param=None error_type=invalid_request_error message='OpenAI API error received' stream_error=False\n"
     ]
    },
    {
     "ename": "KeyboardInterrupt",
     "evalue": "",
     "output_type": "error",
     "traceback": [
      "\u001b[1;31m---------------------------------------------------------------------------\u001b[0m",
      "\u001b[1;31mKeyboardInterrupt\u001b[0m                         Traceback (most recent call last)",
      "Cell \u001b[1;32mIn[29], line 1\u001b[0m\n\u001b[1;32m----> 1\u001b[0m response \u001b[39m=\u001b[39m query_engine\u001b[39m.\u001b[39;49mquery(\n\u001b[0;32m      2\u001b[0m     \u001b[39m\"\u001b[39;49m\u001b[39mWhat state is most common in the data?\u001b[39;49m\u001b[39m\"\u001b[39;49m\n\u001b[0;32m      3\u001b[0m )\n",
      "File \u001b[1;32mc:\\Users\\pdoub\\Desktop\\python_projects\\junk-drawer\\.venv\\lib\\site-packages\\llama_index\\indices\\query\\base.py:23\u001b[0m, in \u001b[0;36mBaseQueryEngine.query\u001b[1;34m(self, str_or_query_bundle)\u001b[0m\n\u001b[0;32m     21\u001b[0m \u001b[39mif\u001b[39;00m \u001b[39misinstance\u001b[39m(str_or_query_bundle, \u001b[39mstr\u001b[39m):\n\u001b[0;32m     22\u001b[0m     str_or_query_bundle \u001b[39m=\u001b[39m QueryBundle(str_or_query_bundle)\n\u001b[1;32m---> 23\u001b[0m response \u001b[39m=\u001b[39m \u001b[39mself\u001b[39;49m\u001b[39m.\u001b[39;49m_query(str_or_query_bundle)\n\u001b[0;32m     24\u001b[0m \u001b[39mreturn\u001b[39;00m response\n",
      "File \u001b[1;32mc:\\Users\\pdoub\\Desktop\\python_projects\\junk-drawer\\.venv\\lib\\site-packages\\llama_index\\query_engine\\sql_join_query_engine.py:299\u001b[0m, in \u001b[0;36mSQLJoinQueryEngine._query\u001b[1;34m(self, query_bundle)\u001b[0m\n\u001b[0;32m    295\u001b[0m     print_text(\n\u001b[0;32m    296\u001b[0m         \u001b[39mf\u001b[39m\u001b[39m\"\u001b[39m\u001b[39mQuerying other query engine: \u001b[39m\u001b[39m{\u001b[39;00mresult\u001b[39m.\u001b[39mreason\u001b[39m}\u001b[39;00m\u001b[39m\\n\u001b[39;00m\u001b[39m\"\u001b[39m, color\u001b[39m=\u001b[39m\u001b[39m\"\u001b[39m\u001b[39mblue\u001b[39m\u001b[39m\"\u001b[39m\n\u001b[0;32m    297\u001b[0m     )\n\u001b[0;32m    298\u001b[0m logger\u001b[39m.\u001b[39minfo(\u001b[39mf\u001b[39m\u001b[39m\"\u001b[39m\u001b[39m> Querying other query engine: \u001b[39m\u001b[39m{\u001b[39;00mresult\u001b[39m.\u001b[39mreason\u001b[39m}\u001b[39;00m\u001b[39m\"\u001b[39m)\n\u001b[1;32m--> 299\u001b[0m response \u001b[39m=\u001b[39m \u001b[39mself\u001b[39;49m\u001b[39m.\u001b[39;49m_other_query_tool\u001b[39m.\u001b[39;49mquery_engine\u001b[39m.\u001b[39;49mquery(query_bundle)\n\u001b[0;32m    300\u001b[0m \u001b[39mif\u001b[39;00m \u001b[39mself\u001b[39m\u001b[39m.\u001b[39m_verbose:\n\u001b[0;32m    301\u001b[0m     print_text(\u001b[39mf\u001b[39m\u001b[39m\"\u001b[39m\u001b[39mQuery Engine response: \u001b[39m\u001b[39m{\u001b[39;00mresponse\u001b[39m}\u001b[39;00m\u001b[39m\\n\u001b[39;00m\u001b[39m\"\u001b[39m, color\u001b[39m=\u001b[39m\u001b[39m\"\u001b[39m\u001b[39mpink\u001b[39m\u001b[39m\"\u001b[39m)\n",
      "File \u001b[1;32mc:\\Users\\pdoub\\Desktop\\python_projects\\junk-drawer\\.venv\\lib\\site-packages\\llama_index\\indices\\query\\base.py:23\u001b[0m, in \u001b[0;36mBaseQueryEngine.query\u001b[1;34m(self, str_or_query_bundle)\u001b[0m\n\u001b[0;32m     21\u001b[0m \u001b[39mif\u001b[39;00m \u001b[39misinstance\u001b[39m(str_or_query_bundle, \u001b[39mstr\u001b[39m):\n\u001b[0;32m     22\u001b[0m     str_or_query_bundle \u001b[39m=\u001b[39m QueryBundle(str_or_query_bundle)\n\u001b[1;32m---> 23\u001b[0m response \u001b[39m=\u001b[39m \u001b[39mself\u001b[39;49m\u001b[39m.\u001b[39;49m_query(str_or_query_bundle)\n\u001b[0;32m     24\u001b[0m \u001b[39mreturn\u001b[39;00m response\n",
      "File \u001b[1;32mc:\\Users\\pdoub\\Desktop\\python_projects\\junk-drawer\\.venv\\lib\\site-packages\\llama_index\\query_engine\\retriever_query_engine.py:170\u001b[0m, in \u001b[0;36mRetrieverQueryEngine._query\u001b[1;34m(self, query_bundle)\u001b[0m\n\u001b[0;32m    163\u001b[0m \u001b[39mwith\u001b[39;00m \u001b[39mself\u001b[39m\u001b[39m.\u001b[39mcallback_manager\u001b[39m.\u001b[39mevent(\n\u001b[0;32m    164\u001b[0m     CBEventType\u001b[39m.\u001b[39mQUERY, payload\u001b[39m=\u001b[39m{EventPayload\u001b[39m.\u001b[39mQUERY_STR: query_bundle\u001b[39m.\u001b[39mquery_str}\n\u001b[0;32m    165\u001b[0m ) \u001b[39mas\u001b[39;00m query_event:\n\u001b[0;32m    166\u001b[0m     \u001b[39mwith\u001b[39;00m \u001b[39mself\u001b[39m\u001b[39m.\u001b[39mcallback_manager\u001b[39m.\u001b[39mevent(\n\u001b[0;32m    167\u001b[0m         CBEventType\u001b[39m.\u001b[39mRETRIEVE,\n\u001b[0;32m    168\u001b[0m         payload\u001b[39m=\u001b[39m{EventPayload\u001b[39m.\u001b[39mQUERY_STR: query_bundle\u001b[39m.\u001b[39mquery_str},\n\u001b[0;32m    169\u001b[0m     ) \u001b[39mas\u001b[39;00m retrieve_event:\n\u001b[1;32m--> 170\u001b[0m         nodes \u001b[39m=\u001b[39m \u001b[39mself\u001b[39;49m\u001b[39m.\u001b[39;49mretrieve(query_bundle)\n\u001b[0;32m    172\u001b[0m         retrieve_event\u001b[39m.\u001b[39mon_end(\n\u001b[0;32m    173\u001b[0m             payload\u001b[39m=\u001b[39m{EventPayload\u001b[39m.\u001b[39mNODES: nodes},\n\u001b[0;32m    174\u001b[0m         )\n\u001b[0;32m    176\u001b[0m     response \u001b[39m=\u001b[39m \u001b[39mself\u001b[39m\u001b[39m.\u001b[39m_response_synthesizer\u001b[39m.\u001b[39msynthesize(\n\u001b[0;32m    177\u001b[0m         query\u001b[39m=\u001b[39mquery_bundle,\n\u001b[0;32m    178\u001b[0m         nodes\u001b[39m=\u001b[39mnodes,\n\u001b[0;32m    179\u001b[0m     )\n",
      "File \u001b[1;32mc:\\Users\\pdoub\\Desktop\\python_projects\\junk-drawer\\.venv\\lib\\site-packages\\llama_index\\query_engine\\retriever_query_engine.py:118\u001b[0m, in \u001b[0;36mRetrieverQueryEngine.retrieve\u001b[1;34m(self, query_bundle)\u001b[0m\n\u001b[0;32m    117\u001b[0m \u001b[39mdef\u001b[39;00m \u001b[39mretrieve\u001b[39m(\u001b[39mself\u001b[39m, query_bundle: QueryBundle) \u001b[39m-\u001b[39m\u001b[39m>\u001b[39m List[NodeWithScore]:\n\u001b[1;32m--> 118\u001b[0m     nodes \u001b[39m=\u001b[39m \u001b[39mself\u001b[39;49m\u001b[39m.\u001b[39;49m_retriever\u001b[39m.\u001b[39;49mretrieve(query_bundle)\n\u001b[0;32m    119\u001b[0m     nodes \u001b[39m=\u001b[39m \u001b[39mself\u001b[39m\u001b[39m.\u001b[39m_apply_node_postprocessors(nodes, query_bundle\u001b[39m=\u001b[39mquery_bundle)\n\u001b[0;32m    121\u001b[0m     \u001b[39mreturn\u001b[39;00m nodes\n",
      "File \u001b[1;32mc:\\Users\\pdoub\\Desktop\\python_projects\\junk-drawer\\.venv\\lib\\site-packages\\llama_index\\indices\\base_retriever.py:22\u001b[0m, in \u001b[0;36mBaseRetriever.retrieve\u001b[1;34m(self, str_or_query_bundle)\u001b[0m\n\u001b[0;32m     20\u001b[0m \u001b[39mif\u001b[39;00m \u001b[39misinstance\u001b[39m(str_or_query_bundle, \u001b[39mstr\u001b[39m):\n\u001b[0;32m     21\u001b[0m     str_or_query_bundle \u001b[39m=\u001b[39m QueryBundle(str_or_query_bundle)\n\u001b[1;32m---> 22\u001b[0m \u001b[39mreturn\u001b[39;00m \u001b[39mself\u001b[39;49m\u001b[39m.\u001b[39;49m_retrieve(str_or_query_bundle)\n",
      "File \u001b[1;32mc:\\Users\\pdoub\\Desktop\\python_projects\\junk-drawer\\.venv\\lib\\site-packages\\llama_index\\indices\\vector_store\\retrievers\\auto_retriever\\auto_retriever.py:117\u001b[0m, in \u001b[0;36mVectorIndexAutoRetriever._retrieve\u001b[1;34m(self, query_bundle)\u001b[0m\n\u001b[0;32m    110\u001b[0m _logger\u001b[39m.\u001b[39minfo(\u001b[39mf\u001b[39m\u001b[39m\"\u001b[39m\u001b[39mUsing top_k: \u001b[39m\u001b[39m{\u001b[39;00msimilarity_top_k\u001b[39m}\u001b[39;00m\u001b[39m\"\u001b[39m)\n\u001b[0;32m    112\u001b[0m retriever \u001b[39m=\u001b[39m VectorIndexRetriever(\n\u001b[0;32m    113\u001b[0m     \u001b[39mself\u001b[39m\u001b[39m.\u001b[39m_index,\n\u001b[0;32m    114\u001b[0m     filters\u001b[39m=\u001b[39mMetadataFilters(filters\u001b[39m=\u001b[39mquery_spec\u001b[39m.\u001b[39mfilters),\n\u001b[0;32m    115\u001b[0m     similarity_top_k\u001b[39m=\u001b[39msimilarity_top_k,\n\u001b[0;32m    116\u001b[0m )\n\u001b[1;32m--> 117\u001b[0m \u001b[39mreturn\u001b[39;00m retriever\u001b[39m.\u001b[39;49mretrieve(query_spec\u001b[39m.\u001b[39;49mquery)\n",
      "File \u001b[1;32mc:\\Users\\pdoub\\Desktop\\python_projects\\junk-drawer\\.venv\\lib\\site-packages\\llama_index\\indices\\base_retriever.py:22\u001b[0m, in \u001b[0;36mBaseRetriever.retrieve\u001b[1;34m(self, str_or_query_bundle)\u001b[0m\n\u001b[0;32m     20\u001b[0m \u001b[39mif\u001b[39;00m \u001b[39misinstance\u001b[39m(str_or_query_bundle, \u001b[39mstr\u001b[39m):\n\u001b[0;32m     21\u001b[0m     str_or_query_bundle \u001b[39m=\u001b[39m QueryBundle(str_or_query_bundle)\n\u001b[1;32m---> 22\u001b[0m \u001b[39mreturn\u001b[39;00m \u001b[39mself\u001b[39;49m\u001b[39m.\u001b[39;49m_retrieve(str_or_query_bundle)\n",
      "File \u001b[1;32mc:\\Users\\pdoub\\Desktop\\python_projects\\junk-drawer\\.venv\\lib\\site-packages\\llama_index\\indices\\vector_store\\retrievers\\retriever.py:71\u001b[0m, in \u001b[0;36mVectorIndexRetriever._retrieve\u001b[1;34m(self, query_bundle)\u001b[0m\n\u001b[0;32m     68\u001b[0m \u001b[39mif\u001b[39;00m \u001b[39mself\u001b[39m\u001b[39m.\u001b[39m_vector_store\u001b[39m.\u001b[39mis_embedding_query:\n\u001b[0;32m     69\u001b[0m     \u001b[39mif\u001b[39;00m query_bundle\u001b[39m.\u001b[39membedding \u001b[39mis\u001b[39;00m \u001b[39mNone\u001b[39;00m:\n\u001b[0;32m     70\u001b[0m         query_bundle\u001b[39m.\u001b[39membedding \u001b[39m=\u001b[39m (\n\u001b[1;32m---> 71\u001b[0m             \u001b[39mself\u001b[39;49m\u001b[39m.\u001b[39;49m_service_context\u001b[39m.\u001b[39;49membed_model\u001b[39m.\u001b[39;49mget_agg_embedding_from_queries(\n\u001b[0;32m     72\u001b[0m                 query_bundle\u001b[39m.\u001b[39;49membedding_strs\n\u001b[0;32m     73\u001b[0m             )\n\u001b[0;32m     74\u001b[0m         )\n\u001b[0;32m     75\u001b[0m \u001b[39mreturn\u001b[39;00m \u001b[39mself\u001b[39m\u001b[39m.\u001b[39m_get_nodes_with_embeddings(query_bundle)\n",
      "File \u001b[1;32mc:\\Users\\pdoub\\Desktop\\python_projects\\junk-drawer\\.venv\\lib\\site-packages\\llama_index\\embeddings\\base.py:123\u001b[0m, in \u001b[0;36mBaseEmbedding.get_agg_embedding_from_queries\u001b[1;34m(self, queries, agg_fn)\u001b[0m\n\u001b[0;32m    117\u001b[0m \u001b[39mdef\u001b[39;00m \u001b[39mget_agg_embedding_from_queries\u001b[39m(\n\u001b[0;32m    118\u001b[0m     \u001b[39mself\u001b[39m,\n\u001b[0;32m    119\u001b[0m     queries: List[\u001b[39mstr\u001b[39m],\n\u001b[0;32m    120\u001b[0m     agg_fn: Optional[Callable[\u001b[39m.\u001b[39m\u001b[39m.\u001b[39m\u001b[39m.\u001b[39m, List[\u001b[39mfloat\u001b[39m]]] \u001b[39m=\u001b[39m \u001b[39mNone\u001b[39;00m,\n\u001b[0;32m    121\u001b[0m ) \u001b[39m-\u001b[39m\u001b[39m>\u001b[39m List[\u001b[39mfloat\u001b[39m]:\n\u001b[0;32m    122\u001b[0m \u001b[39m    \u001b[39m\u001b[39m\"\"\"Get aggregated embedding from multiple queries.\"\"\"\u001b[39;00m\n\u001b[1;32m--> 123\u001b[0m     query_embeddings \u001b[39m=\u001b[39m [\u001b[39mself\u001b[39m\u001b[39m.\u001b[39mget_query_embedding(query) \u001b[39mfor\u001b[39;00m query \u001b[39min\u001b[39;00m queries]\n\u001b[0;32m    124\u001b[0m     agg_fn \u001b[39m=\u001b[39m agg_fn \u001b[39mor\u001b[39;00m mean_agg\n\u001b[0;32m    125\u001b[0m     \u001b[39mreturn\u001b[39;00m agg_fn(query_embeddings)\n",
      "File \u001b[1;32mc:\\Users\\pdoub\\Desktop\\python_projects\\junk-drawer\\.venv\\lib\\site-packages\\llama_index\\embeddings\\base.py:123\u001b[0m, in \u001b[0;36m<listcomp>\u001b[1;34m(.0)\u001b[0m\n\u001b[0;32m    117\u001b[0m \u001b[39mdef\u001b[39;00m \u001b[39mget_agg_embedding_from_queries\u001b[39m(\n\u001b[0;32m    118\u001b[0m     \u001b[39mself\u001b[39m,\n\u001b[0;32m    119\u001b[0m     queries: List[\u001b[39mstr\u001b[39m],\n\u001b[0;32m    120\u001b[0m     agg_fn: Optional[Callable[\u001b[39m.\u001b[39m\u001b[39m.\u001b[39m\u001b[39m.\u001b[39m, List[\u001b[39mfloat\u001b[39m]]] \u001b[39m=\u001b[39m \u001b[39mNone\u001b[39;00m,\n\u001b[0;32m    121\u001b[0m ) \u001b[39m-\u001b[39m\u001b[39m>\u001b[39m List[\u001b[39mfloat\u001b[39m]:\n\u001b[0;32m    122\u001b[0m \u001b[39m    \u001b[39m\u001b[39m\"\"\"Get aggregated embedding from multiple queries.\"\"\"\u001b[39;00m\n\u001b[1;32m--> 123\u001b[0m     query_embeddings \u001b[39m=\u001b[39m [\u001b[39mself\u001b[39;49m\u001b[39m.\u001b[39;49mget_query_embedding(query) \u001b[39mfor\u001b[39;00m query \u001b[39min\u001b[39;00m queries]\n\u001b[0;32m    124\u001b[0m     agg_fn \u001b[39m=\u001b[39m agg_fn \u001b[39mor\u001b[39;00m mean_agg\n\u001b[0;32m    125\u001b[0m     \u001b[39mreturn\u001b[39;00m agg_fn(query_embeddings)\n",
      "File \u001b[1;32mc:\\Users\\pdoub\\Desktop\\python_projects\\junk-drawer\\.venv\\lib\\site-packages\\llama_index\\embeddings\\base.py:92\u001b[0m, in \u001b[0;36mBaseEmbedding.get_query_embedding\u001b[1;34m(self, query)\u001b[0m\n\u001b[0;32m     88\u001b[0m \u001b[39m\u001b[39m\u001b[39m\"\"\"Get query embedding.\"\"\"\u001b[39;00m\n\u001b[0;32m     89\u001b[0m \u001b[39mwith\u001b[39;00m \u001b[39mself\u001b[39m\u001b[39m.\u001b[39mcallback_manager\u001b[39m.\u001b[39mevent(\n\u001b[0;32m     90\u001b[0m     CBEventType\u001b[39m.\u001b[39mEMBEDDING, payload\u001b[39m=\u001b[39m{EventPayload\u001b[39m.\u001b[39mSERIALIZED: \u001b[39mself\u001b[39m\u001b[39m.\u001b[39mto_dict()}\n\u001b[0;32m     91\u001b[0m ) \u001b[39mas\u001b[39;00m event:\n\u001b[1;32m---> 92\u001b[0m     query_embedding \u001b[39m=\u001b[39m \u001b[39mself\u001b[39;49m\u001b[39m.\u001b[39;49m_get_query_embedding(query)\n\u001b[0;32m     94\u001b[0m     event\u001b[39m.\u001b[39mon_end(\n\u001b[0;32m     95\u001b[0m         payload\u001b[39m=\u001b[39m{\n\u001b[0;32m     96\u001b[0m             EventPayload\u001b[39m.\u001b[39mCHUNKS: [query],\n\u001b[0;32m     97\u001b[0m             EventPayload\u001b[39m.\u001b[39mEMBEDDINGS: [query_embedding],\n\u001b[0;32m     98\u001b[0m         },\n\u001b[0;32m     99\u001b[0m     )\n\u001b[0;32m    100\u001b[0m \u001b[39mreturn\u001b[39;00m query_embedding\n",
      "File \u001b[1;32mc:\\Users\\pdoub\\Desktop\\python_projects\\junk-drawer\\.venv\\lib\\site-packages\\llama_index\\embeddings\\openai.py:300\u001b[0m, in \u001b[0;36mOpenAIEmbedding._get_query_embedding\u001b[1;34m(self, query)\u001b[0m\n\u001b[0;32m    298\u001b[0m \u001b[39mdef\u001b[39;00m \u001b[39m_get_query_embedding\u001b[39m(\u001b[39mself\u001b[39m, query: \u001b[39mstr\u001b[39m) \u001b[39m-\u001b[39m\u001b[39m>\u001b[39m List[\u001b[39mfloat\u001b[39m]:\n\u001b[0;32m    299\u001b[0m \u001b[39m    \u001b[39m\u001b[39m\"\"\"Get query embedding.\"\"\"\u001b[39;00m\n\u001b[1;32m--> 300\u001b[0m     \u001b[39mreturn\u001b[39;00m get_embedding(\n\u001b[0;32m    301\u001b[0m         query,\n\u001b[0;32m    302\u001b[0m         engine\u001b[39m=\u001b[39m\u001b[39mself\u001b[39m\u001b[39m.\u001b[39m_query_engine,\n\u001b[0;32m    303\u001b[0m         deployment_id\u001b[39m=\u001b[39m\u001b[39mself\u001b[39m\u001b[39m.\u001b[39mdeployment_name,\n\u001b[0;32m    304\u001b[0m         \u001b[39m*\u001b[39m\u001b[39m*\u001b[39m\u001b[39mself\u001b[39m\u001b[39m.\u001b[39mopenai_kwargs,\n\u001b[0;32m    305\u001b[0m     )\n",
      "File \u001b[1;32mc:\\Users\\pdoub\\Desktop\\python_projects\\junk-drawer\\.venv\\lib\\site-packages\\tenacity\\__init__.py:289\u001b[0m, in \u001b[0;36mBaseRetrying.wraps.<locals>.wrapped_f\u001b[1;34m(*args, **kw)\u001b[0m\n\u001b[0;32m    287\u001b[0m \u001b[39m@functools\u001b[39m\u001b[39m.\u001b[39mwraps(f)\n\u001b[0;32m    288\u001b[0m \u001b[39mdef\u001b[39;00m \u001b[39mwrapped_f\u001b[39m(\u001b[39m*\u001b[39margs: t\u001b[39m.\u001b[39mAny, \u001b[39m*\u001b[39m\u001b[39m*\u001b[39mkw: t\u001b[39m.\u001b[39mAny) \u001b[39m-\u001b[39m\u001b[39m>\u001b[39m t\u001b[39m.\u001b[39mAny:\n\u001b[1;32m--> 289\u001b[0m     \u001b[39mreturn\u001b[39;00m \u001b[39mself\u001b[39m(f, \u001b[39m*\u001b[39margs, \u001b[39m*\u001b[39m\u001b[39m*\u001b[39mkw)\n",
      "File \u001b[1;32mc:\\Users\\pdoub\\Desktop\\python_projects\\junk-drawer\\.venv\\lib\\site-packages\\tenacity\\__init__.py:389\u001b[0m, in \u001b[0;36mRetrying.__call__\u001b[1;34m(self, fn, *args, **kwargs)\u001b[0m\n\u001b[0;32m    387\u001b[0m \u001b[39melif\u001b[39;00m \u001b[39misinstance\u001b[39m(do, DoSleep):\n\u001b[0;32m    388\u001b[0m     retry_state\u001b[39m.\u001b[39mprepare_for_next_attempt()\n\u001b[1;32m--> 389\u001b[0m     \u001b[39mself\u001b[39;49m\u001b[39m.\u001b[39;49msleep(do)\n\u001b[0;32m    390\u001b[0m \u001b[39melse\u001b[39;00m:\n\u001b[0;32m    391\u001b[0m     \u001b[39mreturn\u001b[39;00m do\n",
      "File \u001b[1;32mc:\\Users\\pdoub\\Desktop\\python_projects\\junk-drawer\\.venv\\lib\\site-packages\\tenacity\\nap.py:31\u001b[0m, in \u001b[0;36msleep\u001b[1;34m(seconds)\u001b[0m\n\u001b[0;32m     25\u001b[0m \u001b[39mdef\u001b[39;00m \u001b[39msleep\u001b[39m(seconds: \u001b[39mfloat\u001b[39m) \u001b[39m-\u001b[39m\u001b[39m>\u001b[39m \u001b[39mNone\u001b[39;00m:\n\u001b[0;32m     26\u001b[0m \u001b[39m    \u001b[39m\u001b[39m\"\"\"\u001b[39;00m\n\u001b[0;32m     27\u001b[0m \u001b[39m    Sleep strategy that delays execution for a given number of seconds.\u001b[39;00m\n\u001b[0;32m     28\u001b[0m \n\u001b[0;32m     29\u001b[0m \u001b[39m    This is the default strategy, and may be mocked out for unit testing.\u001b[39;00m\n\u001b[0;32m     30\u001b[0m \u001b[39m    \"\"\"\u001b[39;00m\n\u001b[1;32m---> 31\u001b[0m     time\u001b[39m.\u001b[39;49msleep(seconds)\n",
      "\u001b[1;31mKeyboardInterrupt\u001b[0m: "
     ]
    }
   ],
   "source": [
    "response = query_engine.query(\n",
    "    \"What state is most common in the data?\"\n",
    ")"
   ]
  },
  {
   "cell_type": "code",
   "execution_count": 36,
   "metadata": {},
   "outputs": [
    {
     "data": {
      "text/markdown": [
       "The state with the most rows in the data is New Jersey (NJ) with a total of 109 rows."
      ],
      "text/plain": [
       "<IPython.core.display.Markdown object>"
      ]
     },
     "execution_count": 36,
     "metadata": {},
     "output_type": "execute_result"
    }
   ],
   "source": [
    "Markdown(f\"{response}\")"
   ]
  },
  {
   "cell_type": "code",
   "execution_count": 56,
   "metadata": {},
   "outputs": [
    {
     "name": "stdout",
     "output_type": "stream",
     "text": [
      "\u001b[36;1m\u001b[1;3mQuerying other query engine: The question is about contracts and intellectual property protection, which is related to legal topics.\n",
      "\u001b[0mINFO:llama_index.query_engine.sql_join_query_engine:> Querying other query engine: The question is about contracts and intellectual property protection, which is related to legal topics.\n",
      "> Querying other query engine: The question is about contracts and intellectual property protection, which is related to legal topics.\n",
      "> Querying other query engine: The question is about contracts and intellectual property protection, which is related to legal topics.\n",
      "INFO:llama_index.indices.vector_store.retrievers.auto_retriever.auto_retriever:Using query str: I'm currently designing a video game that I know will turn a good profit. The business machinations, marketing, and project management are my forte but I lack in the programming and 3D modelling department. So, I'll need to hire independent contractors/freelancers to handle those parts to design a \"proof of concept\" in order to better secure initial income via crowdfunding. At this point:  I have virtually no initial startup funds. So, I was hoping for advice on what types of contracts I could have them and myself sign to ensure that they get paid for their work and how to ensure that my intellectual property is protected. My fears is having a 3D artist or coder take the game concept and/or 3D models and running away with it. I'm located in Ohio but will likely need to hire contractors from different states, maybe even different countries.\n",
      "Using query str: I'm currently designing a video game that I know will turn a good profit. The business machinations, marketing, and project management are my forte but I lack in the programming and 3D modelling department. So, I'll need to hire independent contractors/freelancers to handle those parts to design a \"proof of concept\" in order to better secure initial income via crowdfunding. At this point:  I have virtually no initial startup funds. So, I was hoping for advice on what types of contracts I could have them and myself sign to ensure that they get paid for their work and how to ensure that my intellectual property is protected. My fears is having a 3D artist or coder take the game concept and/or 3D models and running away with it. I'm located in Ohio but will likely need to hire contractors from different states, maybe even different countries.\n",
      "Using query str: I'm currently designing a video game that I know will turn a good profit. The business machinations, marketing, and project management are my forte but I lack in the programming and 3D modelling department. So, I'll need to hire independent contractors/freelancers to handle those parts to design a \"proof of concept\" in order to better secure initial income via crowdfunding. At this point:  I have virtually no initial startup funds. So, I was hoping for advice on what types of contracts I could have them and myself sign to ensure that they get paid for their work and how to ensure that my intellectual property is protected. My fears is having a 3D artist or coder take the game concept and/or 3D models and running away with it. I'm located in Ohio but will likely need to hire contractors from different states, maybe even different countries.\n",
      "INFO:llama_index.indices.vector_store.retrievers.auto_retriever.auto_retriever:Using filters: {'state': 'OR'}\n",
      "Using filters: {'state': 'OR'}\n",
      "Using filters: {'state': 'OR'}\n",
      "INFO:llama_index.indices.vector_store.retrievers.auto_retriever.auto_retriever:Using top_k: 10\n",
      "Using top_k: 10\n",
      "Using top_k: 10\n",
      "\u001b[38;5;200m\u001b[1;3mQuery Engine response: It is unclear from the given context whether there are any specific cases in the state of OR that are similar to the new user query.\n",
      "\u001b[0m"
     ]
    }
   ],
   "source": [
    "response = query_engine.query(\n",
    "    f\"Find 10 cases in the state of OR containing a similar topic compared to this new user query: {user_query}\"\n",
    ")"
   ]
  },
  {
   "cell_type": "code",
   "execution_count": 57,
   "metadata": {},
   "outputs": [
    {
     "data": {
      "text/markdown": [
       "It is unclear from the given context whether there are any specific cases in the state of OR that are similar to the new user query."
      ],
      "text/plain": [
       "<IPython.core.display.Markdown object>"
      ]
     },
     "execution_count": 57,
     "metadata": {},
     "output_type": "execute_result"
    }
   ],
   "source": [
    "Markdown(f\"{response}\")"
   ]
  },
  {
   "cell_type": "code",
   "execution_count": 58,
   "metadata": {},
   "outputs": [
    {
     "data": {
      "text/plain": [
       "{'URL': 'https://www.reddit.com/r/legaladvice/comments/gilww3/oh_advice_on_safe_contracts_for/',\n",
       " 'text_label': 'contract',\n",
       " 'state': 'OR',\n",
       " 'token_count': 191,\n",
       " 'cluster': 6,\n",
       " 'datestamp': '2020-05-12'}"
      ]
     },
     "execution_count": 58,
     "metadata": {},
     "output_type": "execute_result"
    }
   ],
   "source": [
    "response.source_nodes[0].node.metadata"
   ]
  },
  {
   "cell_type": "code",
   "execution_count": 60,
   "metadata": {},
   "outputs": [
    {
     "data": {
      "text/plain": [
       "{'URL': 'https://www.reddit.com/r/legaladvice/comments/gdjht7/is_there_a_basis_to_file_suit_against_your_state/',\n",
       " 'text_label': 'employment',\n",
       " 'state': 'OR',\n",
       " 'token_count': 99,\n",
       " 'cluster': 5,\n",
       " 'datestamp': '2020-05-04'}"
      ]
     },
     "execution_count": 60,
     "metadata": {},
     "output_type": "execute_result"
    }
   ],
   "source": [
    "response.source_nodes[8].node.metadata"
   ]
  },
  {
   "cell_type": "code",
   "execution_count": 60,
   "metadata": {},
   "outputs": [],
   "source": [
    "import pandas as pd\n",
    "import openai\n",
    "import langchain\n",
    "from langchain.chat_models import ChatOpenAI\n",
    "from langchain.document_loaders import TextLoader\n",
    "from langchain.embeddings.openai import OpenAIEmbeddings\n",
    "from langchain.text_splitter import CharacterTextSplitter"
   ]
  },
  {
   "cell_type": "code",
   "execution_count": 61,
   "metadata": {},
   "outputs": [
    {
     "name": "stdout",
     "output_type": "stream",
     "text": [
      "(5000, 16)\n"
     ]
    },
    {
     "data": {
      "text/html": [
       "<div>\n",
       "<style scoped>\n",
       "    .dataframe tbody tr th:only-of-type {\n",
       "        vertical-align: middle;\n",
       "    }\n",
       "\n",
       "    .dataframe tbody tr th {\n",
       "        vertical-align: top;\n",
       "    }\n",
       "\n",
       "    .dataframe thead th {\n",
       "        text-align: right;\n",
       "    }\n",
       "</style>\n",
       "<table border=\"1\" class=\"dataframe\">\n",
       "  <thead>\n",
       "    <tr style=\"text-align: right;\">\n",
       "      <th></th>\n",
       "      <th>index</th>\n",
       "      <th>created_utc</th>\n",
       "      <th>full_link</th>\n",
       "      <th>id</th>\n",
       "      <th>body</th>\n",
       "      <th>title</th>\n",
       "      <th>text_label</th>\n",
       "      <th>flair_label</th>\n",
       "      <th>embeddings</th>\n",
       "      <th>token_count</th>\n",
       "      <th>llm_title</th>\n",
       "      <th>State</th>\n",
       "      <th>kmeans_label</th>\n",
       "      <th>topic_title</th>\n",
       "      <th>timestamp</th>\n",
       "      <th>datestamp</th>\n",
       "    </tr>\n",
       "  </thead>\n",
       "  <tbody>\n",
       "    <tr>\n",
       "      <th>1078</th>\n",
       "      <td>1078</td>\n",
       "      <td>1575952538</td>\n",
       "      <td>https://www.reddit.com/r/legaladvice/comments/...</td>\n",
       "      <td>e8lsen</td>\n",
       "      <td>I applied for a job and after two interviews I...</td>\n",
       "      <td>Failed a drug test due to amphetamines, I have...</td>\n",
       "      <td>employment</td>\n",
       "      <td>5</td>\n",
       "      <td>[9.475638042064453e-05, 0.0005111666301983955,...</td>\n",
       "      <td>493</td>\n",
       "      <td>\"Validity of Schedule II Drug Prescription in ...</td>\n",
       "      <td>PR</td>\n",
       "      <td>8</td>\n",
       "      <td>Employment Legal Concerns and Issues</td>\n",
       "      <td>2019-12-10 04:35:38</td>\n",
       "      <td>2019-12-10</td>\n",
       "    </tr>\n",
       "  </tbody>\n",
       "</table>\n",
       "</div>"
      ],
      "text/plain": [
       "      index  created_utc                                          full_link  \\\n",
       "1078   1078   1575952538  https://www.reddit.com/r/legaladvice/comments/...   \n",
       "\n",
       "          id                                               body  \\\n",
       "1078  e8lsen  I applied for a job and after two interviews I...   \n",
       "\n",
       "                                                  title  text_label  \\\n",
       "1078  Failed a drug test due to amphetamines, I have...  employment   \n",
       "\n",
       "      flair_label                                         embeddings  \\\n",
       "1078            5  [9.475638042064453e-05, 0.0005111666301983955,...   \n",
       "\n",
       "      token_count                                          llm_title State  \\\n",
       "1078          493  \"Validity of Schedule II Drug Prescription in ...    PR   \n",
       "\n",
       "      kmeans_label                           topic_title           timestamp  \\\n",
       "1078             8  Employment Legal Concerns and Issues 2019-12-10 04:35:38   \n",
       "\n",
       "       datestamp  \n",
       "1078  2019-12-10  "
      ]
     },
     "execution_count": 61,
     "metadata": {},
     "output_type": "execute_result"
    }
   ],
   "source": [
    "df = pd.read_parquet(\"reddit_legal_cluster_test_results.parquet\")\n",
    "df['timestamp'] = pd.to_datetime(df['created_utc'], unit='s')\n",
    "df['datestamp'] = df['timestamp'].dt.date\n",
    "print(df.shape)\n",
    "df.head(1)"
   ]
  },
  {
   "cell_type": "code",
   "execution_count": 46,
   "metadata": {},
   "outputs": [],
   "source": [
    "nodes = []\n",
    "for i, row in df.iterrows():\n",
    "    node = llama_index.schema.TextNode(\n",
    "        embedding=row['embeddings'].tolist(),\n",
    "        id_=row['index'],\n",
    "        metadata={\"URL\": row['full_link'],\n",
    "                    \"topic_title\": row['topic_title'],\n",
    "                    \"case_title\": row['llm_title'],\n",
    "                    \"state\": row['State'],\n",
    "                    \"date\": str(row['datestamp'])},\n",
    "        text=row['body'],\n",
    "        excluded_embed_metadata_keys=['source', 'state', 'date'],\n",
    "        lookup_index=i,\n",
    "    )\n",
    "    nodes.append(node)"
   ]
  },
  {
   "cell_type": "code",
   "execution_count": 47,
   "metadata": {},
   "outputs": [],
   "source": [
    "from llama_index import VectorStoreIndex, ServiceContext\n",
    "\n",
    "llm = ChatOpenAI(temperature=0.0, model=\"gpt-3.5-turbo\")\n",
    "service_context = ServiceContext.from_defaults(llm=llm, chunk_size=1024)"
   ]
  },
  {
   "cell_type": "code",
   "execution_count": 48,
   "metadata": {},
   "outputs": [],
   "source": [
    "index = VectorStoreIndex(nodes, service_context=service_context)"
   ]
  },
  {
   "cell_type": "code",
   "execution_count": 23,
   "metadata": {},
   "outputs": [
    {
     "data": {
      "text/plain": [
       "{'URL': 'https://www.reddit.com/r/legaladvice/comments/e8lsen/failed_a_drug_test_due_to_amphetamines_i_have_a/',\n",
       " 'topic_title': 'Employment Legal Concerns and Issues',\n",
       " 'case_title': '\"Validity of Schedule II Drug Prescription in Texas: When does it expire?\"',\n",
       " 'state': 'PR',\n",
       " 'date': '2019-12-10'}"
      ]
     },
     "execution_count": 23,
     "metadata": {},
     "output_type": "execute_result"
    }
   ],
   "source": [
    "nodes[0].metadata"
   ]
  },
  {
   "cell_type": "code",
   "execution_count": 49,
   "metadata": {},
   "outputs": [],
   "source": [
    "from llama_index import (\n",
    "    VectorStoreIndex,\n",
    "    ServiceContext,\n",
    "    QueryBundle,\n",
    ")\n",
    "from llama_index.indices.postprocessor import LLMRerank\n",
    "from llama_index.query_engine import CitationQueryEngine"
   ]
  },
  {
   "cell_type": "code",
   "execution_count": 50,
   "metadata": {},
   "outputs": [],
   "source": [
    "from llama_index.retrievers import VectorIndexRetriever\n",
    "\n",
    "def get_retrieved_nodes(\n",
    "    query_str, vector_top_k=10, reranker_top_n=3, with_reranker=False\n",
    "):\n",
    "    query_bundle = QueryBundle(query_str)\n",
    "    # configure retriever\n",
    "    retriever = VectorIndexRetriever(\n",
    "        index=index,\n",
    "        similarity_top_k=vector_top_k,\n",
    "    )\n",
    "    retrieved_nodes = retriever.retrieve(query_bundle)\n",
    "\n",
    "    if with_reranker:\n",
    "        # configure reranker\n",
    "        reranker = LLMRerank(\n",
    "            choice_batch_size=5, top_n=reranker_top_n, service_context=service_context\n",
    "        )\n",
    "        retrieved_nodes = reranker.postprocess_nodes(retrieved_nodes, query_bundle)\n",
    "\n",
    "    return retrieved_nodes"
   ]
  },
  {
   "cell_type": "code",
   "execution_count": 51,
   "metadata": {},
   "outputs": [
    {
     "name": "stdout",
     "output_type": "stream",
     "text": [
      "5\n"
     ]
    }
   ],
   "source": [
    "new_nodes = get_retrieved_nodes(\n",
    "    user_query,\n",
    "    vector_top_k=20,\n",
    "    reranker_top_n=5,\n",
    "    with_reranker=True,\n",
    ")\n",
    "\n",
    "print(len(new_nodes))"
   ]
  },
  {
   "cell_type": "code",
   "execution_count": 52,
   "metadata": {},
   "outputs": [],
   "source": [
    "new_text_nodes = [node.node for node in new_nodes]"
   ]
  },
  {
   "cell_type": "code",
   "execution_count": 53,
   "metadata": {},
   "outputs": [],
   "source": [
    "llm = ChatOpenAI(temperature=0.0, model=\"gpt-3.5-turbo\")\n",
    "service_context = ServiceContext.from_defaults(llm=llm, chunk_size=1024)\n",
    "\n",
    "llm_filtered_index = VectorStoreIndex(new_text_nodes, service_context=service_context)"
   ]
  },
  {
   "cell_type": "code",
   "execution_count": null,
   "metadata": {},
   "outputs": [],
   "source": []
  },
  {
   "cell_type": "code",
   "execution_count": 54,
   "metadata": {},
   "outputs": [],
   "source": [
    "from llama_index import Prompt\n",
    "\n",
    "CITATION_TEMPLATE = Prompt(\n",
    "    \"Please provide an answer based solely on the provided sources. \"\n",
    "    \"When referencing information from a source, \"\n",
    "    \"cite the appropriate source using its corresponding number and URL. \"\n",
    "    \"Every answer should include at least one source citation. \"\n",
    "    \"Only cite a source when you are explicitly referencing it. \"\n",
    "    \"For example:\\n\"\n",
    "    \"[1]:\\n\"\n",
    "    \"URL: source_1_address.com\\n\"\n",
    "    \"Excerpt:\\n-----\\nThe sky is red in the evening and blue in the morning.\\n\"\n",
    "    \"[2]:\\n\"\n",
    "    \"URL: source_2_address.com\\n\"\n",
    "    \"Excerpt:\\n-----\\nWater is wet when the sky is red.\\n\"\n",
    "    \"Query: When is water wet?\\n\"\n",
    "    \"Answer: Water will be wet when the sky is red [2](source_2_address.com), \"\n",
    "    \"which occurs in the evening [1](source_1_address.com).\\n\"\n",
    "    \"Now it's your turn. Below are several sources of information. ALWAYS cite the information using [[number](URL)] notation:\"\n",
    "    \"\\n------\\n\"\n",
    "    \"{context_str}\"\n",
    "    \"\\n------\\n\"\n",
    "    \"Query: {query_str}\\n\"\n",
    "    \"Answer with Citations: \"\n",
    ")"
   ]
  },
  {
   "cell_type": "code",
   "execution_count": 55,
   "metadata": {},
   "outputs": [],
   "source": [
    "citation_query_engine = CitationQueryEngine.from_args(\n",
    "    llm_filtered_index,\n",
    "    citation_qa_template=CITATION_TEMPLATE,\n",
    "    similarity_top_k=10,\n",
    "    citation_chunk_size=1024,\n",
    ")"
   ]
  },
  {
   "cell_type": "code",
   "execution_count": 56,
   "metadata": {},
   "outputs": [
    {
     "name": "stdout",
     "output_type": "stream",
     "text": [
      "Using the information, write a detailed comparative analysis for the new query. Using relevant information only, offer insights into how the researcher can reference the past questions to address the new outstanding issue. Do not answer the question or provide opinions, only draw helpful comparisons.\n",
      "\n",
      "NEW QUERY: \n",
      "I'm currently designing a video game that I know will turn a good profit. The business machinations, marketing, \n",
      "and project management are my forte but I lack in the programming and 3D modelling department. So, I'll need to hire \n",
      "independent contractors/freelancers to handle those parts to design a \"proof of concept\" in order to better secure initial \n",
      "income via crowdfunding. At this point:  I have virtually no initial startup funds. \n",
      "So, I was hoping for advice on what types of contracts I could have them and myself sign to ensure that they get paid \n",
      "for their work and how to ensure that my intellectual property is protected. My fears is having a 3D artist or coder \n",
      "take the game concept and/or 3D models and running away with it. I'm located in Ohio but will likely need to hire contractors from different states, maybe even different countries.\n",
      "\n"
     ]
    }
   ],
   "source": [
    "prompt = f\"Using the information, write a detailed comparative analysis for the new query. Using relevant information only, offer insights into how the researcher can reference the past questions to address the new outstanding issue. Do not answer the question or provide opinions, only draw helpful comparisons.\\n\\nNEW QUERY: {user_query}\"\n",
    "print(prompt)"
   ]
  },
  {
   "cell_type": "code",
   "execution_count": 57,
   "metadata": {},
   "outputs": [],
   "source": [
    "response = citation_query_engine.query(prompt)"
   ]
  },
  {
   "cell_type": "code",
   "execution_count": 58,
   "metadata": {},
   "outputs": [],
   "source": [
    "# Print helper\n",
    "def print_nodes(response, new_text_nodes):\n",
    "    k = len(new_text_nodes)\n",
    "    count = 1\n",
    "    for i in range(k):\n",
    "        # add index\n",
    "        title = response.source_nodes[i].node.metadata['case_title']\n",
    "        link = f\"{response.source_nodes[i].node.metadata['URL']}\"\n",
    "        venue = response.source_nodes[i].node.metadata['state']\n",
    "        date = response.source_nodes[i].node.metadata['date']\n",
    "        display(Markdown(f\"#### {[count]} [{title}]({link}) - {venue}, {date}\"))\n",
    "        count+=1"
   ]
  },
  {
   "attachments": {},
   "cell_type": "markdown",
   "metadata": {},
   "source": [
    "* GPT-3.5-turbo"
   ]
  },
  {
   "cell_type": "code",
   "execution_count": 59,
   "metadata": {},
   "outputs": [
    {
     "data": {
      "text/markdown": [
       "## New Query:"
      ],
      "text/plain": [
       "<IPython.core.display.Markdown object>"
      ]
     },
     "metadata": {},
     "output_type": "display_data"
    },
    {
     "data": {
      "text/markdown": [
       "\n",
       "I'm currently designing a video game that I know will turn a good profit. The business machinations, marketing, \n",
       "and project management are my forte but I lack in the programming and 3D modelling department. So, I'll need to hire \n",
       "independent contractors/freelancers to handle those parts to design a \"proof of concept\" in order to better secure initial \n",
       "income via crowdfunding. At this point:  I have virtually no initial startup funds. \n",
       "So, I was hoping for advice on what types of contracts I could have them and myself sign to ensure that they get paid \n",
       "for their work and how to ensure that my intellectual property is protected. My fears is having a 3D artist or coder \n",
       "take the game concept and/or 3D models and running away with it. I'm located in Ohio but will likely need to hire contractors from different states, maybe even different countries.\n"
      ],
      "text/plain": [
       "<IPython.core.display.Markdown object>"
      ]
     },
     "metadata": {},
     "output_type": "display_data"
    },
    {
     "data": {
      "text/markdown": [
       "## Model Output:"
      ],
      "text/plain": [
       "<IPython.core.display.Markdown object>"
      ]
     },
     "metadata": {},
     "output_type": "display_data"
    },
    {
     "data": {
      "text/markdown": [
       "Based on the provided sources, there are several insights that can be drawn to address the new query regarding hiring independent contractors for a video game project and ensuring payment and protection of intellectual property.\n",
       "\n",
       "1. Contracts for Payment and Intellectual Property Protection: In order to ensure that independent contractors get paid for their work and to protect intellectual property, it is important to have appropriate contracts in place. Source 1 provides a similar scenario where the poster is looking for advice on what types of contracts to have with independent contractors to ensure payment and protect intellectual property. This source can be referenced to gain insights into the types of contracts that can be used in this situation.\n",
       "\n",
       "2. Transferring Copyright and Ownership: Source 2 discusses a situation where an individual is being hired as an independent contractor and the company wants to obtain the copyright to their code. This can be relevant to the new query as it highlights the importance of addressing ownership and copyright transfer in the contracts with independent contractors. Referencing this source can provide insights into how to handle copyright and ownership issues in the video game project.\n",
       "\n",
       "3. Protecting Interests in Business Agreements: Source 3 discusses a situation where individuals are entering into a business agreement and are looking for advice on protecting their interests. While the specifics may be different, this source can be referenced to gain insights into the types of clauses or provisions that can be added to the contracts with independent contractors to protect the interests of the game designer.\n",
       "\n",
       "4. Disputes and Concerns about Representation: Source 4 discusses a situation where an individual is working as a consultant for a company and is having trouble with the contract and misdirection of work. This source can be referenced to gain insights into potential issues that may arise in the contracts with independent contractors and how to address them to avoid disputes.\n",
       "\n",
       "By referencing these past questions and drawing comparisons to the new query, the researcher can gain insights into the types of contracts to use, how to address payment and intellectual property protection, how to protect their interests, and how to handle potential disputes or concerns that may arise in the contracts with independent contractors for the video game project."
      ],
      "text/plain": [
       "<IPython.core.display.Markdown object>"
      ]
     },
     "metadata": {},
     "output_type": "display_data"
    },
    {
     "data": {
      "text/markdown": [
       "### **Sources:**"
      ],
      "text/plain": [
       "<IPython.core.display.Markdown object>"
      ]
     },
     "metadata": {},
     "output_type": "display_data"
    },
    {
     "data": {
      "text/markdown": [
       "#### [1] [\"Protecting Intellectual Property and Ensuring Payment: Legal Considerations for Hiring Independent Contractors in the Video Game Industry\"](https://www.reddit.com/r/legaladvice/comments/gilww3/oh_advice_on_safe_contracts_for/) - OR, 2020-05-12"
      ],
      "text/plain": [
       "<IPython.core.display.Markdown object>"
      ]
     },
     "metadata": {},
     "output_type": "display_data"
    },
    {
     "data": {
      "text/markdown": [
       "#### [2] [\"Legal considerations for becoming an independent contractor and transferring copyright in a software development agreement\"](https://www.reddit.com/r/legaladvice/comments/2t9664/independent_contractor_things_to_watch_out_for_in/) - CT, 2015-01-22"
      ],
      "text/plain": [
       "<IPython.core.display.Markdown object>"
      ]
     },
     "metadata": {},
     "output_type": "display_data"
    },
    {
     "data": {
      "text/markdown": [
       "#### [3] [\"Seeking advice on protecting my interests in a business agreement with wealthy investors\"](https://www.reddit.com/r/legaladvice/comments/e9t610/about_to_enter_into_a_multimember_llc_operating/) - OH, 2019-12-12"
      ],
      "text/plain": [
       "<IPython.core.display.Markdown object>"
      ]
     },
     "metadata": {},
     "output_type": "display_data"
    },
    {
     "data": {
      "text/markdown": [
       "#### [4] [\"Contractual disputes and concerns about representation on company website\"](https://www.reddit.com/r/legaladvice/comments/gcgdi7/what_are_the_legal_implications_of_being_listed/) - VT, 2020-05-02"
      ],
      "text/plain": [
       "<IPython.core.display.Markdown object>"
      ]
     },
     "metadata": {},
     "output_type": "display_data"
    },
    {
     "data": {
      "text/markdown": [
       "#### [5] [\"Structuring a temporary agreement for equity split and revenue share in a startup partnership\"](https://www.reddit.com/r/legaladvice/comments/e635kk/how_to_structure_equity_agreement/) - VA, 2019-12-04"
      ],
      "text/plain": [
       "<IPython.core.display.Markdown object>"
      ]
     },
     "metadata": {},
     "output_type": "display_data"
    }
   ],
   "source": [
    "display(Markdown(f\"## New Query:\"))\n",
    "display(Markdown(f\"{user_query}\"))\n",
    "display(Markdown(f\"## Model Output:\"))\n",
    "display(Markdown(f\"{response.response}\"))\n",
    "display(Markdown(f\"### **Sources:**\"))\n",
    "print_nodes(response, new_nodes)"
   ]
  },
  {
   "attachments": {},
   "cell_type": "markdown",
   "metadata": {},
   "source": [
    "* GPT-4"
   ]
  },
  {
   "cell_type": "code",
   "execution_count": 62,
   "metadata": {},
   "outputs": [
    {
     "data": {
      "text/markdown": [
       "## New Query:"
      ],
      "text/plain": [
       "<IPython.core.display.Markdown object>"
      ]
     },
     "metadata": {},
     "output_type": "display_data"
    },
    {
     "data": {
      "text/markdown": [
       "\n",
       "I'm currently designing a video game that I know will turn a good profit. The business machinations, marketing, \n",
       "and project management are my forte but I lack in the programming and 3D modelling department. So, I'll need to hire \n",
       "independent contractors/freelancers to handle those parts to design a \"proof of concept\" in order to better secure initial \n",
       "income via crowdfunding. At this point:  I have virtually no initial startup funds. \n",
       "So, I was hoping for advice on what types of contracts I could have them and myself sign to ensure that they get paid \n",
       "for their work and how to ensure that my intellectual property is protected. My fears is having a 3D artist or coder \n",
       "take the game concept and/or 3D models and running away with it. I'm located in Ohio but will likely need to hire contractors from different states, maybe even different countries.\n"
      ],
      "text/plain": [
       "<IPython.core.display.Markdown object>"
      ]
     },
     "metadata": {},
     "output_type": "display_data"
    },
    {
     "data": {
      "text/markdown": [
       "## Model Output:"
      ],
      "text/plain": [
       "<IPython.core.display.Markdown object>"
      ]
     },
     "metadata": {},
     "output_type": "display_data"
    },
    {
     "data": {
      "text/markdown": [
       "The researcher's query shares similarities with the situations described in Source 1 and Source 2. In Source 1, the individual is also designing a video game and is looking to hire independent contractors for programming and 3D modelling, just like the researcher. They are also concerned about protecting their intellectual property and ensuring that the contractors get paid for their work [[1](https://www.reddit.com/r/legaladvice/comments/gilww3/oh_advice_on_safe_contracts_for/)]. \n",
       "\n",
       "Similarly, in Source 2, the individual is being hired as an independent contractor for a software product startup. They are also concerned about the legal implications of transferring copyright to their code to the company [[2](https://www.reddit.com/r/legaladvice/comments/2t9664/independent_contractor_things_to_watch_out_for_in/)]. \n",
       "\n",
       "These two sources could provide the researcher with insights into the types of contracts that could be used to ensure payment and protect intellectual property. They could also provide insights into the potential legal implications of transferring copyright of work produced by independent contractors. \n",
       "\n",
       "The researcher's situation also has some parallels with Source 5, where the individual is setting up a gaming community and is considering hiring programmers/developers. They are also concerned about the legal implications of receiving donations and paying the developers from these funds [[5](https://www.reddit.com/r/legaladvice/comments/gn4sdf/does_this_count_as_a_business_what_do_i_need_to/)]. This could provide the researcher with insights into the potential legal considerations of paying contractors from crowdfunding income. \n",
       "\n",
       "However, the researcher's situation differs from these sources in that they are located in Ohio and may need to hire contractors from different states or countries. This could introduce additional legal considerations not covered in these sources."
      ],
      "text/plain": [
       "<IPython.core.display.Markdown object>"
      ]
     },
     "metadata": {},
     "output_type": "display_data"
    },
    {
     "data": {
      "text/markdown": [
       "### **Sources:**"
      ],
      "text/plain": [
       "<IPython.core.display.Markdown object>"
      ]
     },
     "metadata": {},
     "output_type": "display_data"
    },
    {
     "data": {
      "text/markdown": [
       "#### [1] [\"Protecting Intellectual Property and Ensuring Payment: Legal Considerations for Hiring Independent Contractors in the Video Game Industry\"](https://www.reddit.com/r/legaladvice/comments/gilww3/oh_advice_on_safe_contracts_for/) - OR, 2020-05-12"
      ],
      "text/plain": [
       "<IPython.core.display.Markdown object>"
      ]
     },
     "metadata": {},
     "output_type": "display_data"
    },
    {
     "data": {
      "text/markdown": [
       "#### [2] [\"Legal considerations for becoming an independent contractor and transferring copyright in a software development agreement\"](https://www.reddit.com/r/legaladvice/comments/2t9664/independent_contractor_things_to_watch_out_for_in/) - CT, 2015-01-22"
      ],
      "text/plain": [
       "<IPython.core.display.Markdown object>"
      ]
     },
     "metadata": {},
     "output_type": "display_data"
    },
    {
     "data": {
      "text/markdown": [
       "#### [3] [Determining the Classification of a Video Editor: Independent Contractor or Employee?](https://www.reddit.com/r/legaladvice/comments/gphir8/looking_to_outsource_work_to_a_foreign_friend_how/) - NM, 2020-05-24"
      ],
      "text/plain": [
       "<IPython.core.display.Markdown object>"
      ]
     },
     "metadata": {},
     "output_type": "display_data"
    },
    {
     "data": {
      "text/markdown": [
       "#### [4] [\"Contractual disputes and concerns about representation on company website\"](https://www.reddit.com/r/legaladvice/comments/gcgdi7/what_are_the_legal_implications_of_being_listed/) - VT, 2020-05-02"
      ],
      "text/plain": [
       "<IPython.core.display.Markdown object>"
      ]
     },
     "metadata": {},
     "output_type": "display_data"
    },
    {
     "data": {
      "text/markdown": [
       "#### [5] [\"Legal considerations for setting up a gaming community donations system and hiring developers\"](https://www.reddit.com/r/legaladvice/comments/gn4sdf/does_this_count_as_a_business_what_do_i_need_to/) - HI, 2020-05-20"
      ],
      "text/plain": [
       "<IPython.core.display.Markdown object>"
      ]
     },
     "metadata": {},
     "output_type": "display_data"
    }
   ],
   "source": [
    "display(Markdown(f\"## New Query:\"))\n",
    "display(Markdown(f\"{user_query}\"))\n",
    "display(Markdown(f\"## Model Output:\"))\n",
    "display(Markdown(f\"{response.response}\"))\n",
    "display(Markdown(f\"### **Sources:**\"))\n",
    "print_nodes(response, new_nodes)"
   ]
  },
  {
   "cell_type": "code",
   "execution_count": null,
   "metadata": {},
   "outputs": [],
   "source": []
  },
  {
   "cell_type": "code",
   "execution_count": null,
   "metadata": {},
   "outputs": [],
   "source": []
  },
  {
   "attachments": {},
   "cell_type": "markdown",
   "metadata": {},
   "source": [
    "# Reddit \"Legal Advice\""
   ]
  },
  {
   "cell_type": "code",
   "execution_count": 1,
   "metadata": {},
   "outputs": [],
   "source": [
    "import os\n",
    "import time\n",
    "import tiktoken\n",
    "import numpy as np\n",
    "import warnings\n",
    "warnings.simplefilter(action='ignore', category=FutureWarning)\n",
    "import pandas as pd\n",
    "from dotenv import load_dotenv\n",
    "from IPython.display import Markdown, display"
   ]
  },
  {
   "cell_type": "code",
   "execution_count": 2,
   "metadata": {},
   "outputs": [],
   "source": [
    "from token_catcher import Usage"
   ]
  },
  {
   "cell_type": "code",
   "execution_count": 3,
   "metadata": {},
   "outputs": [
    {
     "data": {
      "text/plain": [
       "True"
      ]
     },
     "execution_count": 3,
     "metadata": {},
     "output_type": "execute_result"
    }
   ],
   "source": [
    "from dotenv import load_dotenv\n",
    "load_dotenv()"
   ]
  },
  {
   "cell_type": "code",
   "execution_count": 4,
   "metadata": {},
   "outputs": [],
   "source": [
    "df = pd.read_parquet(\"../legal_reddit_df_with_embeddings.parquet\")"
   ]
  },
  {
   "cell_type": "code",
   "execution_count": 5,
   "metadata": {},
   "outputs": [],
   "source": [
    "encoding = tiktoken.get_encoding('cl100k_base')"
   ]
  },
  {
   "cell_type": "code",
   "execution_count": 6,
   "metadata": {},
   "outputs": [],
   "source": [
    "df['token_count'] = df['body'].apply(lambda x: len(encoding.encode(x)))"
   ]
  },
  {
   "cell_type": "code",
   "execution_count": 7,
   "metadata": {},
   "outputs": [
    {
     "name": "stdout",
     "output_type": "stream",
     "text": [
      "(9887, 9)\n"
     ]
    },
    {
     "data": {
      "text/html": [
       "<div>\n",
       "<style scoped>\n",
       "    .dataframe tbody tr th:only-of-type {\n",
       "        vertical-align: middle;\n",
       "    }\n",
       "\n",
       "    .dataframe tbody tr th {\n",
       "        vertical-align: top;\n",
       "    }\n",
       "\n",
       "    .dataframe thead th {\n",
       "        text-align: right;\n",
       "    }\n",
       "</style>\n",
       "<table border=\"1\" class=\"dataframe\">\n",
       "  <thead>\n",
       "    <tr style=\"text-align: right;\">\n",
       "      <th></th>\n",
       "      <th>created_utc</th>\n",
       "      <th>full_link</th>\n",
       "      <th>id</th>\n",
       "      <th>body</th>\n",
       "      <th>title</th>\n",
       "      <th>text_label</th>\n",
       "      <th>flair_label</th>\n",
       "      <th>embeddings</th>\n",
       "      <th>token_count</th>\n",
       "    </tr>\n",
       "  </thead>\n",
       "  <tbody>\n",
       "    <tr>\n",
       "      <th>0</th>\n",
       "      <td>1588353888</td>\n",
       "      <td>https://www.reddit.com/r/legaladvice/comments/...</td>\n",
       "      <td>gbmcb0</td>\n",
       "      <td>The title says most of it. I just heard back f...</td>\n",
       "      <td>My former employer fired everyone when they ha...</td>\n",
       "      <td>employment</td>\n",
       "      <td>5</td>\n",
       "      <td>[-0.009678525544039132, -0.030654356001073007,...</td>\n",
       "      <td>156</td>\n",
       "    </tr>\n",
       "    <tr>\n",
       "      <th>1</th>\n",
       "      <td>1575490057</td>\n",
       "      <td>https://www.reddit.com/r/legaladvice/comments/...</td>\n",
       "      <td>e64ze3</td>\n",
       "      <td>In Maine, my landlord (commercial property man...</td>\n",
       "      <td>Landlord is updating snow removal policies and...</td>\n",
       "      <td>housing</td>\n",
       "      <td>7</td>\n",
       "      <td>[-0.014251169117179163, -0.0037985407615359528...</td>\n",
       "      <td>218</td>\n",
       "    </tr>\n",
       "  </tbody>\n",
       "</table>\n",
       "</div>"
      ],
      "text/plain": [
       "   created_utc                                          full_link      id  \\\n",
       "0   1588353888  https://www.reddit.com/r/legaladvice/comments/...  gbmcb0   \n",
       "1   1575490057  https://www.reddit.com/r/legaladvice/comments/...  e64ze3   \n",
       "\n",
       "                                                body  \\\n",
       "0  The title says most of it. I just heard back f...   \n",
       "1  In Maine, my landlord (commercial property man...   \n",
       "\n",
       "                                               title  text_label  flair_label  \\\n",
       "0  My former employer fired everyone when they ha...  employment            5   \n",
       "1  Landlord is updating snow removal policies and...     housing            7   \n",
       "\n",
       "                                          embeddings  token_count  \n",
       "0  [-0.009678525544039132, -0.030654356001073007,...          156  \n",
       "1  [-0.014251169117179163, -0.0037985407615359528...          218  "
      ]
     },
     "execution_count": 7,
     "metadata": {},
     "output_type": "execute_result"
    }
   ],
   "source": [
    "print(df.shape)\n",
    "df.head(2)"
   ]
  },
  {
   "cell_type": "code",
   "execution_count": 8,
   "metadata": {},
   "outputs": [
    {
     "data": {
      "text/plain": [
       "count    9887.000000\n",
       "mean      281.192070\n",
       "std       269.636493\n",
       "min         1.000000\n",
       "25%       120.000000\n",
       "50%       209.000000\n",
       "75%       350.000000\n",
       "max      8513.000000\n",
       "Name: token_count, dtype: float64"
      ]
     },
     "execution_count": 8,
     "metadata": {},
     "output_type": "execute_result"
    }
   ],
   "source": [
    "df.token_count.describe()"
   ]
  },
  {
   "cell_type": "code",
   "execution_count": 9,
   "metadata": {},
   "outputs": [
    {
     "name": "stdout",
     "output_type": "stream",
     "text": [
      "df shape before: (9887, 9)\n",
      "df shape after: (9677, 9)\n"
     ]
    }
   ],
   "source": [
    "print(f\"df shape before: {df.shape}\")\n",
    "df = df[df['token_count']<1024]\n",
    "print(f\"df shape after: {df.shape}\")"
   ]
  },
  {
   "cell_type": "code",
   "execution_count": 10,
   "metadata": {},
   "outputs": [],
   "source": [
    "df_dedup = df.drop_duplicates(subset='body', keep='last')\n",
    "df_dedup.reset_index(inplace=True, drop=True)"
   ]
  },
  {
   "cell_type": "code",
   "execution_count": 11,
   "metadata": {},
   "outputs": [
    {
     "data": {
      "text/markdown": [
       "\n",
       "| Name | Count |\n",
       "| --- | --- |\n",
       "| N Original Rows: | 9,677 |\n",
       "| N Dups: | 54 |\n",
       "| N Rows in Deduped df: | 9,623 |\n"
      ],
      "text/plain": [
       "<IPython.core.display.Markdown object>"
      ]
     },
     "execution_count": 11,
     "metadata": {},
     "output_type": "execute_result"
    }
   ],
   "source": [
    "Markdown(f\"\"\"\n",
    "| Name | Count |\n",
    "| --- | --- |\n",
    "| N Original Rows: | {len(df):,} |\n",
    "| N Dups: | {len(df) - len(df_dedup)} |\n",
    "| N Rows in Deduped df: | {len(df_dedup):,} |\n",
    "\"\"\")\n"
   ]
  },
  {
   "cell_type": "code",
   "execution_count": 12,
   "metadata": {},
   "outputs": [
    {
     "data": {
      "image/png": "[encoded data removed]",
      "text/plain": [
       "<Figure size 640x480 with 1 Axes>"
      ]
     },
     "metadata": {},
     "output_type": "display_data"
    }
   ],
   "source": [
    "df.token_count.hist(bins=100);"
   ]
  },
  {
   "cell_type": "code",
   "execution_count": 13,
   "metadata": {},
   "outputs": [],
   "source": [
    "from langchain import LLMChain\n",
    "from langchain.chat_models import ChatOpenAI\n",
    "from langchain.prompts.chat import (\n",
    "    ChatPromptTemplate,\n",
    "    SystemMessagePromptTemplate,\n",
    "    HumanMessagePromptTemplate,\n",
    ")\n",
    "\n",
    "\n",
    "system_template = \"You're a legal journalist. You're helping me write a concise topic title for legal questions.\"\n",
    "human_template = \"Using the following legal questions, write a concise tag line.\\n\\nQUESTIONS:{body}\\n\\nTAG LINE:\"\n",
    "\n",
    "prompt = ChatPromptTemplate(\n",
    "    messages=[\n",
    "        SystemMessagePromptTemplate.from_template(system_template),\n",
    "        HumanMessagePromptTemplate.from_template(human_template),\n",
    "    ],\n",
    "    input_variables=[\"body\"],\n",
    ")\n",
    "    \n",
    "chain = LLMChain(\n",
    "    llm=ChatOpenAI(temperature=0, model_name=\"gpt-3.5-turbo\"), prompt=prompt, verbose=False\n",
    ")"
   ]
  },
  {
   "cell_type": "code",
   "execution_count": 14,
   "metadata": {},
   "outputs": [
    {
     "data": {
      "text/plain": [
       "9623"
      ]
     },
     "execution_count": 14,
     "metadata": {},
     "output_type": "execute_result"
    }
   ],
   "source": [
    "list_to_chain = df_dedup[[\"body\"]].to_dict('records')\n",
    "len(list_to_chain)"
   ]
  },
  {
   "cell_type": "code",
   "execution_count": 15,
   "metadata": {},
   "outputs": [],
   "source": [
    "usage = Usage()"
   ]
  },
  {
   "cell_type": "code",
   "execution_count": 16,
   "metadata": {},
   "outputs": [
    {
     "name": "stderr",
     "output_type": "stream",
     "text": [
      "  6%|▋         | 625/9623 [08:25<2:02:27,  1.22it/s]Retrying langchain.chat_models.openai.ChatOpenAI.completion_with_retry.<locals>._completion_with_retry in 4.0 seconds as it raised ServiceUnavailableError: The server is overloaded or not ready yet..\n",
      " 11%|█         | 1070/9623 [14:31<1:51:58,  1.27it/s]Retrying langchain.chat_models.openai.ChatOpenAI.completion_with_retry.<locals>._completion_with_retry in 4.0 seconds as it raised Timeout: Request timed out: HTTPSConnectionPool(host='api.openai.com', port=443): Read timed out. (read timeout=600).\n",
      " 13%|█▎        | 1298/9623 [27:46<1:56:20,  1.19it/s]   Retrying langchain.chat_models.openai.ChatOpenAI.completion_with_retry.<locals>._completion_with_retry in 4.0 seconds as it raised Timeout: Request timed out: HTTPSConnectionPool(host='api.openai.com', port=443): Read timed out. (read timeout=600).\n",
      " 46%|████▋     | 4463/9623 [1:18:03<1:03:58,  1.34it/s] Retrying langchain.chat_models.openai.ChatOpenAI.completion_with_retry.<locals>._completion_with_retry in 4.0 seconds as it raised Timeout: Request timed out: HTTPSConnectionPool(host='api.openai.com', port=443): Read timed out. (read timeout=600).\n",
      " 51%|█████▏    | 4953/9623 [1:34:18<56:43,  1.37it/s]     Retrying langchain.chat_models.openai.ChatOpenAI.completion_with_retry.<locals>._completion_with_retry in 4.0 seconds as it raised ServiceUnavailableError: The server is overloaded or not ready yet..\n",
      " 78%|███████▊  | 7476/9623 [2:05:26<22:03,  1.62it/s]  Retrying langchain.chat_models.openai.ChatOpenAI.completion_with_retry.<locals>._completion_with_retry in 4.0 seconds as it raised Timeout: Request timed out: HTTPSConnectionPool(host='api.openai.com', port=443): Read timed out. (read timeout=600).\n",
      " 87%|████████▋ | 8389/9623 [2:26:38<17:01,  1.21it/s]     Retrying langchain.chat_models.openai.ChatOpenAI.completion_with_retry.<locals>._completion_with_retry in 4.0 seconds as it raised Timeout: Request timed out: HTTPSConnectionPool(host='api.openai.com', port=443): Read timed out. (read timeout=600).\n",
      " 90%|████████▉ | 8629/9623 [2:39:47<11:49,  1.40it/s]    Retrying langchain.chat_models.openai.ChatOpenAI.completion_with_retry.<locals>._completion_with_retry in 4.0 seconds as it raised Timeout: Request timed out: HTTPSConnectionPool(host='api.openai.com', port=443): Read timed out. (read timeout=600).\n",
      " 95%|█████████▌| 9159/9623 [2:56:51<06:03,  1.27it/s]    Retrying langchain.chat_models.openai.ChatOpenAI.completion_with_retry.<locals>._completion_with_retry in 4.0 seconds as it raised Timeout: Request timed out: HTTPSConnectionPool(host='api.openai.com', port=443): Read timed out. (read timeout=600).\n",
      " 96%|█████████▌| 9190/9623 [3:07:20<07:49,  1.08s/it]    Retrying langchain.chat_models.openai.ChatOpenAI.completion_with_retry.<locals>._completion_with_retry in 4.0 seconds as it raised Timeout: Request timed out: HTTPSConnectionPool(host='api.openai.com', port=443): Read timed out. (read timeout=600).\n",
      "100%|██████████| 9623/9623 [3:22:50<00:00,  1.26s/it]    "
     ]
    },
    {
     "name": "stdout",
     "output_type": "stream",
     "text": [
      "Total elapsed time: 12170.79 seconds\n"
     ]
    },
    {
     "name": "stderr",
     "output_type": "stream",
     "text": [
      "\n"
     ]
    }
   ],
   "source": [
    "from tqdm import tqdm\n",
    "batch_size = 1\n",
    "results = []\n",
    "\n",
    "start_time = time.time()\n",
    "\n",
    "for i, batch_start in tqdm(enumerate(range(0, len(list_to_chain), batch_size)), total=len(list_to_chain)//batch_size):\n",
    "    batch = list_to_chain[batch_start: batch_start + batch_size]\n",
    "    processed_batch = chain.run(batch)\n",
    "    results.append(processed_batch)\n",
    "\n",
    "final_time = time.time() - start_time\n",
    "print(f\"Total elapsed time: {final_time:.2f} seconds\")"
   ]
  },
  {
   "cell_type": "code",
   "execution_count": 17,
   "metadata": {},
   "outputs": [
    {
     "data": {
      "text/plain": [
       "6.483348"
      ]
     },
     "execution_count": 17,
     "metadata": {},
     "output_type": "execute_result"
    }
   ],
   "source": [
    "usage.total_tokens()/1000*0.002"
   ]
  },
  {
   "cell_type": "code",
   "execution_count": 18,
   "metadata": {},
   "outputs": [],
   "source": [
    "# Check if 'results' length is same as the original data\n",
    "assert len(results) == len(df_dedup), \"Length of the result does not match with the original data\""
   ]
  },
  {
   "cell_type": "code",
   "execution_count": 19,
   "metadata": {},
   "outputs": [
    {
     "data": {
      "text/plain": [
       "'\"Legal implications of mass termination and potential for wrongful termination class-action lawsuit at Cafe Mooby\"'"
      ]
     },
     "execution_count": 19,
     "metadata": {},
     "output_type": "execute_result"
    }
   ],
   "source": [
    "results[0]"
   ]
  },
  {
   "cell_type": "code",
   "execution_count": 1,
   "metadata": {},
   "outputs": [],
   "source": [
    "# df_dedup['llm_title'] = pd.DataFrame(results)"
   ]
  },
  {
   "cell_type": "code",
   "execution_count": 21,
   "metadata": {},
   "outputs": [
    {
     "data": {
      "text/html": [
       "<div>\n",
       "<style scoped>\n",
       "    .dataframe tbody tr th:only-of-type {\n",
       "        vertical-align: middle;\n",
       "    }\n",
       "\n",
       "    .dataframe tbody tr th {\n",
       "        vertical-align: top;\n",
       "    }\n",
       "\n",
       "    .dataframe thead th {\n",
       "        text-align: right;\n",
       "    }\n",
       "</style>\n",
       "<table border=\"1\" class=\"dataframe\">\n",
       "  <thead>\n",
       "    <tr style=\"text-align: right;\">\n",
       "      <th></th>\n",
       "      <th>created_utc</th>\n",
       "      <th>full_link</th>\n",
       "      <th>id</th>\n",
       "      <th>body</th>\n",
       "      <th>title</th>\n",
       "      <th>text_label</th>\n",
       "      <th>flair_label</th>\n",
       "      <th>embeddings</th>\n",
       "      <th>token_count</th>\n",
       "      <th>llm_title</th>\n",
       "    </tr>\n",
       "  </thead>\n",
       "  <tbody>\n",
       "    <tr>\n",
       "      <th>0</th>\n",
       "      <td>1588353888</td>\n",
       "      <td>https://www.reddit.com/r/legaladvice/comments/...</td>\n",
       "      <td>gbmcb0</td>\n",
       "      <td>The title says most of it. I just heard back f...</td>\n",
       "      <td>My former employer fired everyone when they ha...</td>\n",
       "      <td>employment</td>\n",
       "      <td>5</td>\n",
       "      <td>[-0.009678525544039132, -0.030654356001073007,...</td>\n",
       "      <td>156</td>\n",
       "      <td>\"Legal implications of mass termination and po...</td>\n",
       "    </tr>\n",
       "    <tr>\n",
       "      <th>1</th>\n",
       "      <td>1575490057</td>\n",
       "      <td>https://www.reddit.com/r/legaladvice/comments/...</td>\n",
       "      <td>e64ze3</td>\n",
       "      <td>In Maine, my landlord (commercial property man...</td>\n",
       "      <td>Landlord is updating snow removal policies and...</td>\n",
       "      <td>housing</td>\n",
       "      <td>7</td>\n",
       "      <td>[-0.014251169117179163, -0.0037985407615359528...</td>\n",
       "      <td>218</td>\n",
       "      <td>\"Unforeseen snow removal policy changes and po...</td>\n",
       "    </tr>\n",
       "  </tbody>\n",
       "</table>\n",
       "</div>"
      ],
      "text/plain": [
       "   created_utc                                          full_link      id  \\\n",
       "0   1588353888  https://www.reddit.com/r/legaladvice/comments/...  gbmcb0   \n",
       "1   1575490057  https://www.reddit.com/r/legaladvice/comments/...  e64ze3   \n",
       "\n",
       "                                                body  \\\n",
       "0  The title says most of it. I just heard back f...   \n",
       "1  In Maine, my landlord (commercial property man...   \n",
       "\n",
       "                                               title  text_label  flair_label  \\\n",
       "0  My former employer fired everyone when they ha...  employment            5   \n",
       "1  Landlord is updating snow removal policies and...     housing            7   \n",
       "\n",
       "                                          embeddings  token_count  \\\n",
       "0  [-0.009678525544039132, -0.030654356001073007,...          156   \n",
       "1  [-0.014251169117179163, -0.0037985407615359528...          218   \n",
       "\n",
       "                                           llm_title  \n",
       "0  \"Legal implications of mass termination and po...  \n",
       "1  \"Unforeseen snow removal policy changes and po...  "
      ]
     },
     "execution_count": 21,
     "metadata": {},
     "output_type": "execute_result"
    }
   ],
   "source": [
    "df_dedup.head(2)"
   ]
  },
  {
   "cell_type": "code",
   "execution_count": null,
   "metadata": {},
   "outputs": [],
   "source": [
    "# df_dedup.to_parquet(\"legal_reddit_df_with_titles.parquet\")"
   ]
  },
  {
   "cell_type": "code",
   "execution_count": 5,
   "metadata": {},
   "outputs": [],
   "source": [
    "df = pd.read_parquet(\"legal_reddit_df_with_titles.parquet\")"
   ]
  },
  {
   "cell_type": "code",
   "execution_count": 6,
   "metadata": {},
   "outputs": [
    {
     "name": "stdout",
     "output_type": "stream",
     "text": [
      "(9623, 10)\n"
     ]
    },
    {
     "data": {
      "text/html": [
       "<div>\n",
       "<style scoped>\n",
       "    .dataframe tbody tr th:only-of-type {\n",
       "        vertical-align: middle;\n",
       "    }\n",
       "\n",
       "    .dataframe tbody tr th {\n",
       "        vertical-align: top;\n",
       "    }\n",
       "\n",
       "    .dataframe thead th {\n",
       "        text-align: right;\n",
       "    }\n",
       "</style>\n",
       "<table border=\"1\" class=\"dataframe\">\n",
       "  <thead>\n",
       "    <tr style=\"text-align: right;\">\n",
       "      <th></th>\n",
       "      <th>created_utc</th>\n",
       "      <th>full_link</th>\n",
       "      <th>id</th>\n",
       "      <th>body</th>\n",
       "      <th>title</th>\n",
       "      <th>text_label</th>\n",
       "      <th>flair_label</th>\n",
       "      <th>embeddings</th>\n",
       "      <th>token_count</th>\n",
       "      <th>llm_title</th>\n",
       "    </tr>\n",
       "  </thead>\n",
       "  <tbody>\n",
       "    <tr>\n",
       "      <th>0</th>\n",
       "      <td>1588353888</td>\n",
       "      <td>https://www.reddit.com/r/legaladvice/comments/...</td>\n",
       "      <td>gbmcb0</td>\n",
       "      <td>The title says most of it. I just heard back f...</td>\n",
       "      <td>My former employer fired everyone when they ha...</td>\n",
       "      <td>employment</td>\n",
       "      <td>5</td>\n",
       "      <td>[-0.009678525544039132, -0.030654356001073007,...</td>\n",
       "      <td>156</td>\n",
       "      <td>\"Legal implications of mass termination and po...</td>\n",
       "    </tr>\n",
       "    <tr>\n",
       "      <th>1</th>\n",
       "      <td>1575490057</td>\n",
       "      <td>https://www.reddit.com/r/legaladvice/comments/...</td>\n",
       "      <td>e64ze3</td>\n",
       "      <td>In Maine, my landlord (commercial property man...</td>\n",
       "      <td>Landlord is updating snow removal policies and...</td>\n",
       "      <td>housing</td>\n",
       "      <td>7</td>\n",
       "      <td>[-0.014251169117179163, -0.0037985407615359528...</td>\n",
       "      <td>218</td>\n",
       "      <td>\"Unforeseen snow removal policy changes and po...</td>\n",
       "    </tr>\n",
       "  </tbody>\n",
       "</table>\n",
       "</div>"
      ],
      "text/plain": [
       "   created_utc                                          full_link      id  \\\n",
       "0   1588353888  https://www.reddit.com/r/legaladvice/comments/...  gbmcb0   \n",
       "1   1575490057  https://www.reddit.com/r/legaladvice/comments/...  e64ze3   \n",
       "\n",
       "                                                body  \\\n",
       "0  The title says most of it. I just heard back f...   \n",
       "1  In Maine, my landlord (commercial property man...   \n",
       "\n",
       "                                               title  text_label  flair_label  \\\n",
       "0  My former employer fired everyone when they ha...  employment            5   \n",
       "1  Landlord is updating snow removal policies and...     housing            7   \n",
       "\n",
       "                                          embeddings  token_count  \\\n",
       "0  [-0.009678525544039132, -0.030654356001073007,...          156   \n",
       "1  [-0.014251169117179163, -0.0037985407615359528...          218   \n",
       "\n",
       "                                           llm_title  \n",
       "0  \"Legal implications of mass termination and po...  \n",
       "1  \"Unforeseen snow removal policy changes and po...  "
      ]
     },
     "execution_count": 6,
     "metadata": {},
     "output_type": "execute_result"
    }
   ],
   "source": [
    "print(df.shape)\n",
    "df.head(2)"
   ]
  },
  {
   "cell_type": "code",
   "execution_count": null,
   "metadata": {},
   "outputs": [],
   "source": []
  }
 ],
 "metadata": {
  "kernelspec": {
   "display_name": "liberty-gpt-py3.10",
   "language": "python",
   "name": "liberty-gpt-py3.10"
  },
  "language_info": {
   "codemirror_mode": {
    "name": "ipython",
    "version": 3
   },
   "file_extension": ".py",
   "mimetype": "text/x-python",
   "name": "python",
   "nbconvert_exporter": "python",
   "pygments_lexer": "ipython3",
   "version": "3.10.1"
  },
  "orig_nbformat": 4
 },
 "nbformat": 4,
 "nbformat_minor": 2
}
