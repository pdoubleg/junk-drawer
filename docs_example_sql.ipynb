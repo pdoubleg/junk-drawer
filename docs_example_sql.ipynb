{
 "cells": [
  {
   "cell_type": "code",
   "execution_count": 3,
   "metadata": {},
   "outputs": [
    {
     "data": {
      "text/plain": [
       "True"
      ]
     },
     "execution_count": 3,
     "metadata": {},
     "output_type": "execute_result"
    }
   ],
   "source": [
    "import os\n",
    "import warnings\n",
    "warnings.simplefilter(action='ignore', category=FutureWarning)\n",
    "import pandas as pd\n",
    "from dotenv import load_dotenv\n",
    "from IPython.display import Markdown\n",
    "from dotenv import load_dotenv\n",
    "load_dotenv()"
   ]
  },
  {
   "attachments": {},
   "cell_type": "markdown",
   "metadata": {},
   "source": [
    "### Dataset is 1,200 DS related job posting from Indeed"
   ]
  },
  {
   "cell_type": "code",
   "execution_count": 4,
   "metadata": {},
   "outputs": [],
   "source": [
    "df = pd.read_parquet(\"cluster_test_results.parquet\")"
   ]
  },
  {
   "cell_type": "code",
   "execution_count": 5,
   "metadata": {},
   "outputs": [
    {
     "name": "stdout",
     "output_type": "stream",
     "text": [
      "(1200, 15)\n"
     ]
    },
    {
     "data": {
      "text/html": [
       "<div>\n",
       "<style scoped>\n",
       "    .dataframe tbody tr th:only-of-type {\n",
       "        vertical-align: middle;\n",
       "    }\n",
       "\n",
       "    .dataframe tbody tr th {\n",
       "        vertical-align: top;\n",
       "    }\n",
       "\n",
       "    .dataframe thead th {\n",
       "        text-align: right;\n",
       "    }\n",
       "</style>\n",
       "<table border=\"1\" class=\"dataframe\">\n",
       "  <thead>\n",
       "    <tr style=\"text-align: right;\">\n",
       "      <th></th>\n",
       "      <th>Unnamed: 0</th>\n",
       "      <th>Title</th>\n",
       "      <th>Company</th>\n",
       "      <th>Location</th>\n",
       "      <th>Rating</th>\n",
       "      <th>Date</th>\n",
       "      <th>Salary</th>\n",
       "      <th>Description</th>\n",
       "      <th>Links</th>\n",
       "      <th>Descriptions</th>\n",
       "      <th>token_count</th>\n",
       "      <th>embedding</th>\n",
       "      <th>kmeans_label</th>\n",
       "      <th>llm_title</th>\n",
       "      <th>topic_title</th>\n",
       "    </tr>\n",
       "  </thead>\n",
       "  <tbody>\n",
       "    <tr>\n",
       "      <th>0</th>\n",
       "      <td>0</td>\n",
       "      <td>Data Scientist</td>\n",
       "      <td>Driven Brands</td>\n",
       "      <td>Benicia, CA</td>\n",
       "      <td>2.4</td>\n",
       "      <td>PostedPosted 26 days ago</td>\n",
       "      <td>None</td>\n",
       "      <td>You’ll be working alongside a team of eight an...</td>\n",
       "      <td>https://www.indeed.com/rc/clk?jk=74d176d595225...</td>\n",
       "      <td>We invite you to join us at Driven Brands!\\nHe...</td>\n",
       "      <td>26</td>\n",
       "      <td>[-0.0194996390491724, -0.0041993726044893265, ...</td>\n",
       "      <td>4</td>\n",
       "      <td>\"Join our dynamic team of analysts and data sc...</td>\n",
       "      <td>Data Science and Strategy Manager</td>\n",
       "    </tr>\n",
       "    <tr>\n",
       "      <th>1</th>\n",
       "      <td>1</td>\n",
       "      <td>Business Analyst</td>\n",
       "      <td>Sabot Consulting</td>\n",
       "      <td>Remote</td>\n",
       "      <td>NaN</td>\n",
       "      <td>PostedPosted 4 days ago</td>\n",
       "      <td>$80 - $120 an hour</td>\n",
       "      <td>Preferred candidates will have prior experienc...</td>\n",
       "      <td>https://www.indeed.com/rc/clk?jk=f662b2efb509b...</td>\n",
       "      <td>Sabot Consulting (Sabot) is a management consu...</td>\n",
       "      <td>25</td>\n",
       "      <td>[-0.012073525227606297, -0.026480479165911674,...</td>\n",
       "      <td>2</td>\n",
       "      <td>\"Experienced Cloud Migration Specialist for SA...</td>\n",
       "      <td>IT Specialist</td>\n",
       "    </tr>\n",
       "  </tbody>\n",
       "</table>\n",
       "</div>"
      ],
      "text/plain": [
       "   Unnamed: 0             Title           Company     Location  Rating  \\\n",
       "0           0    Data Scientist     Driven Brands  Benicia, CA     2.4   \n",
       "1           1  Business Analyst  Sabot Consulting       Remote     NaN   \n",
       "\n",
       "                       Date              Salary  \\\n",
       "0  PostedPosted 26 days ago                None   \n",
       "1   PostedPosted 4 days ago  $80 - $120 an hour   \n",
       "\n",
       "                                         Description  \\\n",
       "0  You’ll be working alongside a team of eight an...   \n",
       "1  Preferred candidates will have prior experienc...   \n",
       "\n",
       "                                               Links  \\\n",
       "0  https://www.indeed.com/rc/clk?jk=74d176d595225...   \n",
       "1  https://www.indeed.com/rc/clk?jk=f662b2efb509b...   \n",
       "\n",
       "                                        Descriptions  token_count  \\\n",
       "0  We invite you to join us at Driven Brands!\\nHe...           26   \n",
       "1  Sabot Consulting (Sabot) is a management consu...           25   \n",
       "\n",
       "                                           embedding  kmeans_label  \\\n",
       "0  [-0.0194996390491724, -0.0041993726044893265, ...             4   \n",
       "1  [-0.012073525227606297, -0.026480479165911674,...             2   \n",
       "\n",
       "                                           llm_title  \\\n",
       "0  \"Join our dynamic team of analysts and data sc...   \n",
       "1  \"Experienced Cloud Migration Specialist for SA...   \n",
       "\n",
       "                         topic_title  \n",
       "0  Data Science and Strategy Manager  \n",
       "1                      IT Specialist  "
      ]
     },
     "execution_count": 5,
     "metadata": {},
     "output_type": "execute_result"
    }
   ],
   "source": [
    "print(df.shape)\n",
    "df.head(2)"
   ]
  },
  {
   "cell_type": "code",
   "execution_count": 6,
   "metadata": {},
   "outputs": [],
   "source": [
    "import sqlite3\n",
    "from sqlalchemy import create_engine\n"
   ]
  },
  {
   "cell_type": "code",
   "execution_count": 7,
   "metadata": {},
   "outputs": [],
   "source": [
    "def clean_names(df):\n",
    "    df.columns = [x.replace(' ', '_').lower() for x in df.columns]\n",
    "    return df"
   ]
  },
  {
   "cell_type": "code",
   "execution_count": 8,
   "metadata": {},
   "outputs": [],
   "source": [
    "table_name = \"jobs_table\"\n",
    "uri = \"sqlite:///jobs_table.db\""
   ]
  },
  {
   "cell_type": "code",
   "execution_count": 9,
   "metadata": {},
   "outputs": [
    {
     "data": {
      "text/plain": [
       "1200"
      ]
     },
     "execution_count": 9,
     "metadata": {},
     "output_type": "execute_result"
    }
   ],
   "source": [
    "# Create the sqlalchemy engine\n",
    "engine = create_engine(uri, echo=False)\n",
    "# Prep column names\n",
    "data = clean_names(df)\n",
    "# Convert the DataFrame to SQL\n",
    "data.to_sql(table_name, con=engine, index=False, if_exists='replace')\n"
   ]
  },
  {
   "cell_type": "code",
   "execution_count": 10,
   "metadata": {},
   "outputs": [],
   "source": [
    "from langchain.llms import OpenAI\n",
    "from langchain.chat_models import ChatOpenAI\n",
    "from langchain.utilities import SQLDatabase\n",
    "from langchain.chains import create_sql_query_chain\n",
    "from langchain_experimental.sql import SQLDatabaseChain\n"
   ]
  },
  {
   "cell_type": "code",
   "execution_count": 11,
   "metadata": {},
   "outputs": [],
   "source": [
    "db = SQLDatabase.from_uri(\"sqlite:///jobs_table.db\")"
   ]
  },
  {
   "cell_type": "code",
   "execution_count": 12,
   "metadata": {},
   "outputs": [],
   "source": [
    "chain = create_sql_query_chain(ChatOpenAI(model=\"gpt-3.5-turbo\", temperature=0), db)"
   ]
  },
  {
   "cell_type": "code",
   "execution_count": 13,
   "metadata": {},
   "outputs": [
    {
     "name": "stdout",
     "output_type": "stream",
     "text": [
      "SELECT COUNT(DISTINCT company) AS num_companies FROM jobs_table\n"
     ]
    }
   ],
   "source": [
    "response = chain.invoke({\"question\":\"How many companies are there\"})\n",
    "print(response)"
   ]
  },
  {
   "cell_type": "code",
   "execution_count": 14,
   "metadata": {},
   "outputs": [
    {
     "data": {
      "text/plain": [
       "'[(883,)]'"
      ]
     },
     "execution_count": 14,
     "metadata": {},
     "output_type": "execute_result"
    }
   ],
   "source": [
    "db.run(response)"
   ]
  },
  {
   "cell_type": "code",
   "execution_count": 15,
   "metadata": {},
   "outputs": [],
   "source": [
    "llm = ChatOpenAI(model=\"gpt-3.5-turbo\", temperature=0, verbose=False)\n",
    "db_chain = SQLDatabaseChain.from_llm(llm, db, verbose=True, use_query_checker=True)"
   ]
  },
  {
   "cell_type": "code",
   "execution_count": 16,
   "metadata": {},
   "outputs": [],
   "source": [
    "db_chain = SQLDatabaseChain.from_llm(llm, db, verbose=True)"
   ]
  },
  {
   "cell_type": "code",
   "execution_count": 17,
   "metadata": {},
   "outputs": [
    {
     "name": "stdout",
     "output_type": "stream",
     "text": [
      "\n",
      "\n",
      "\u001b[1m> Entering new SQLDatabaseChain chain...\u001b[0m\n",
      "How many distinct companies do not have remote based jobs?\n",
      "SQLQuery:\u001b[32;1m\u001b[1;3mSELECT COUNT(DISTINCT company) \n",
      "FROM jobs_table \n",
      "WHERE location NOT LIKE '%Remote%'\u001b[0m\n",
      "SQLResult: \u001b[33;1m\u001b[1;3m[(371,)]\u001b[0m\n",
      "Answer:\u001b[32;1m\u001b[1;3mFinal answer here: There are 371 distinct companies that do not have remote based jobs.\u001b[0m\n",
      "\u001b[1m> Finished chain.\u001b[0m\n"
     ]
    },
    {
     "data": {
      "text/plain": [
       "'Final answer here: There are 371 distinct companies that do not have remote based jobs.'"
      ]
     },
     "execution_count": 17,
     "metadata": {},
     "output_type": "execute_result"
    }
   ],
   "source": [
    "db_chain.run(\"How many distinct companies do not have remote based jobs?\")"
   ]
  },
  {
   "cell_type": "code",
   "execution_count": 18,
   "metadata": {},
   "outputs": [
    {
     "name": "stdout",
     "output_type": "stream",
     "text": [
      "\n",
      "\n",
      "\u001b[1m> Entering new SQLDatabaseChain chain...\u001b[0m\n",
      "What is the average rating for Remote, and what is the average rating for all other locations?\n",
      "SQLQuery:\u001b[32;1m\u001b[1;3mSELECT AVG(rating) AS avg_rating, \n",
      "       CASE WHEN location = 'Remote' THEN 'Remote' ELSE 'Other' END AS location_type\n",
      "FROM jobs_table\n",
      "GROUP BY location_type\u001b[0m\n",
      "SQLResult: \u001b[33;1m\u001b[1;3m[(3.7389324960753494, 'Other'), (3.6425925925925915, 'Remote')]\u001b[0m\n",
      "Answer:\u001b[32;1m\u001b[1;3mThe average rating for Remote locations is 3.6426, and the average rating for all other locations is 3.7389.\u001b[0m\n",
      "\u001b[1m> Finished chain.\u001b[0m\n"
     ]
    },
    {
     "data": {
      "text/plain": [
       "'The average rating for Remote locations is 3.6426, and the average rating for all other locations is 3.7389.'"
      ]
     },
     "execution_count": 18,
     "metadata": {},
     "output_type": "execute_result"
    }
   ],
   "source": [
    "db_chain.run(\"What is the average rating for Remote, and what is the average rating for all other locations?\")"
   ]
  },
  {
   "cell_type": "code",
   "execution_count": 19,
   "metadata": {},
   "outputs": [],
   "source": [
    "db_chain = SQLDatabaseChain.from_llm(llm, db, verbose=True, return_intermediate_steps=True)"
   ]
  },
  {
   "cell_type": "code",
   "execution_count": 20,
   "metadata": {},
   "outputs": [
    {
     "name": "stdout",
     "output_type": "stream",
     "text": [
      "\n",
      "\n",
      "\u001b[1m> Entering new SQLDatabaseChain chain...\u001b[0m\n",
      "What percentage of jobs are listed as Remote based?\n",
      "SQLQuery:\u001b[32;1m\u001b[1;3mSELECT COUNT(*) * 100.0 / (SELECT COUNT(*) FROM jobs_table) AS percentage\n",
      "FROM jobs_table\n",
      "WHERE location LIKE '%Remote%'\u001b[0m\n",
      "SQLResult: \u001b[33;1m\u001b[1;3m[(57.166666666666664,)]\u001b[0m\n",
      "Answer:\u001b[32;1m\u001b[1;3mThe percentage of jobs listed as Remote based is approximately 57.17%.\u001b[0m\n",
      "\u001b[1m> Finished chain.\u001b[0m\n"
     ]
    },
    {
     "data": {
      "text/plain": [
       "[{'input': \"What percentage of jobs are listed as Remote based?\\nSQLQuery:SELECT COUNT(*) * 100.0 / (SELECT COUNT(*) FROM jobs_table) AS percentage\\nFROM jobs_table\\nWHERE location LIKE '%Remote%'\\nSQLResult: [(57.166666666666664,)]\\nAnswer:\",\n",
       "  'top_k': '5',\n",
       "  'dialect': 'sqlite',\n",
       "  'table_info': '\\nCREATE TABLE jobs_table (\\n\\t\"unnamed:_0\" BIGINT, \\n\\ttitle TEXT, \\n\\tcompany TEXT, \\n\\tlocation TEXT, \\n\\trating FLOAT, \\n\\tdate TEXT, \\n\\tsalary TEXT, \\n\\tdescription TEXT, \\n\\tlinks TEXT, \\n\\tdescriptions TEXT, \\n\\ttoken_count BIGINT, \\n\\tembedding TEXT, \\n\\tkmeans_label INTEGER, \\n\\tllm_title TEXT, \\n\\ttopic_title TEXT\\n)\\n\\n/*\\n3 rows from jobs_table table:\\nunnamed:_0\\ttitle\\tcompany\\tlocation\\trating\\tdate\\tsalary\\tdescription\\tlinks\\tdescriptions\\ttoken_count\\tembedding\\tkmeans_label\\tllm_title\\ttopic_title\\n0\\tData Scientist\\tDriven Brands\\tBenicia, CA\\t2.4\\tPostedPosted 26 days ago\\tNone\\tYou’ll be working alongside a team of eight analysts & data scientists - collaborating to design dat\\thttps://www.indeed.com/rc/clk?jk=74d176d595225cd4&fccid=6b546763f210bf41&vjs=3\\tWe invite you to join us at Driven Brands!\\nHeadquartered in Charlotte, NC, Driven Brands (NASDAQ: DR\\t26\\tb\\'\\\\x00\\\\x00\\\\x00\\\\xa0\\\\xb6\\\\xf7\\\\x93\\\\xbf\\\\x00\\\\x00\\\\x00\\\\x80\\\\\\\\3q\\\\xbf\\\\x00\\\\x00\\\\x00 \\\\x00\\\\x9e\\\\x95?\\\\x00\\\\x00\\\\x00`C\\\\x\\t4\\t\"Join our dynamic team of analysts and data scientists to drive data-driven insights and innovation.\\tData Science and Strategy Manager\\n1\\tBusiness Analyst\\tSabot Consulting\\tRemote\\tNone\\tPostedPosted 4 days ago\\t$80 - $120 an hour\\tPreferred candidates will have prior experience in implementing Cloud-hosted business process migrat\\thttps://www.indeed.com/rc/clk?jk=f662b2efb509bf2d&fccid=456a1cb695ccca3a&vjs=3\\tSabot Consulting (Sabot) is a management consulting company focused on providing technical and manag\\t25\\tb\\'\\\\x00\\\\x00\\\\x00 \\\\x01\\\\xba\\\\x88\\\\xbf\\\\x00\\\\x00\\\\x00\\\\xe0\\\\xb2\\\\x1d\\\\x9b\\\\xbf\\\\x00\\\\x00\\\\x00 i[\\\\x93?\\\\x00\\\\x00\\\\x00@\\\\xea\\t2\\t\"Experienced Cloud Migration Specialist for SAAS Implementations\"\\tIT Specialist\\n2\\tIT Business Intelligence Developer (FT) Remote Position\\tBallad Health\\tRemote in Blountville, TN\\t3.0\\tPostedPosted 30+ days ago\\tNone\\tJob Details Apply Save Print this job Email a…\\thttps://www.indeed.com/rc/clk?jk=58612836c63b85c2&fccid=05c0d13f87250aee&vjs=3\\tJob Details\\nApply\\nSave\\nPrint this job\\nEmail a Friend\\t10\\tb\\'\\\\x00\\\\x00\\\\x00@?o\\\\x96\\\\xbf\\\\x00\\\\x00\\\\x00`IAh\\\\xbf\\\\x00\\\\x00\\\\x00\\\\xe0Iu\\\\x9c?\\\\x00\\\\x00\\\\x00\\\\x80=n\\\\x15\\\\xbf\\\\x00\\\\x\\t2\\t\"Exciting Job Opportunity: Apply Now for a Rewarding Career!\"\\tIT Specialist\\n*/',\n",
       "  'stop': ['\\nSQLResult:']},\n",
       " \"SELECT COUNT(*) * 100.0 / (SELECT COUNT(*) FROM jobs_table) AS percentage\\nFROM jobs_table\\nWHERE location LIKE '%Remote%'\",\n",
       " {'sql_cmd': \"SELECT COUNT(*) * 100.0 / (SELECT COUNT(*) FROM jobs_table) AS percentage\\nFROM jobs_table\\nWHERE location LIKE '%Remote%'\"},\n",
       " '[(57.166666666666664,)]',\n",
       " {'input': \"What percentage of jobs are listed as Remote based?\\nSQLQuery:SELECT COUNT(*) * 100.0 / (SELECT COUNT(*) FROM jobs_table) AS percentage\\nFROM jobs_table\\nWHERE location LIKE '%Remote%'\\nSQLResult: [(57.166666666666664,)]\\nAnswer:\",\n",
       "  'top_k': '5',\n",
       "  'dialect': 'sqlite',\n",
       "  'table_info': '\\nCREATE TABLE jobs_table (\\n\\t\"unnamed:_0\" BIGINT, \\n\\ttitle TEXT, \\n\\tcompany TEXT, \\n\\tlocation TEXT, \\n\\trating FLOAT, \\n\\tdate TEXT, \\n\\tsalary TEXT, \\n\\tdescription TEXT, \\n\\tlinks TEXT, \\n\\tdescriptions TEXT, \\n\\ttoken_count BIGINT, \\n\\tembedding TEXT, \\n\\tkmeans_label INTEGER, \\n\\tllm_title TEXT, \\n\\ttopic_title TEXT\\n)\\n\\n/*\\n3 rows from jobs_table table:\\nunnamed:_0\\ttitle\\tcompany\\tlocation\\trating\\tdate\\tsalary\\tdescription\\tlinks\\tdescriptions\\ttoken_count\\tembedding\\tkmeans_label\\tllm_title\\ttopic_title\\n0\\tData Scientist\\tDriven Brands\\tBenicia, CA\\t2.4\\tPostedPosted 26 days ago\\tNone\\tYou’ll be working alongside a team of eight analysts & data scientists - collaborating to design dat\\thttps://www.indeed.com/rc/clk?jk=74d176d595225cd4&fccid=6b546763f210bf41&vjs=3\\tWe invite you to join us at Driven Brands!\\nHeadquartered in Charlotte, NC, Driven Brands (NASDAQ: DR\\t26\\tb\\'\\\\x00\\\\x00\\\\x00\\\\xa0\\\\xb6\\\\xf7\\\\x93\\\\xbf\\\\x00\\\\x00\\\\x00\\\\x80\\\\\\\\3q\\\\xbf\\\\x00\\\\x00\\\\x00 \\\\x00\\\\x9e\\\\x95?\\\\x00\\\\x00\\\\x00`C\\\\x\\t4\\t\"Join our dynamic team of analysts and data scientists to drive data-driven insights and innovation.\\tData Science and Strategy Manager\\n1\\tBusiness Analyst\\tSabot Consulting\\tRemote\\tNone\\tPostedPosted 4 days ago\\t$80 - $120 an hour\\tPreferred candidates will have prior experience in implementing Cloud-hosted business process migrat\\thttps://www.indeed.com/rc/clk?jk=f662b2efb509bf2d&fccid=456a1cb695ccca3a&vjs=3\\tSabot Consulting (Sabot) is a management consulting company focused on providing technical and manag\\t25\\tb\\'\\\\x00\\\\x00\\\\x00 \\\\x01\\\\xba\\\\x88\\\\xbf\\\\x00\\\\x00\\\\x00\\\\xe0\\\\xb2\\\\x1d\\\\x9b\\\\xbf\\\\x00\\\\x00\\\\x00 i[\\\\x93?\\\\x00\\\\x00\\\\x00@\\\\xea\\t2\\t\"Experienced Cloud Migration Specialist for SAAS Implementations\"\\tIT Specialist\\n2\\tIT Business Intelligence Developer (FT) Remote Position\\tBallad Health\\tRemote in Blountville, TN\\t3.0\\tPostedPosted 30+ days ago\\tNone\\tJob Details Apply Save Print this job Email a…\\thttps://www.indeed.com/rc/clk?jk=58612836c63b85c2&fccid=05c0d13f87250aee&vjs=3\\tJob Details\\nApply\\nSave\\nPrint this job\\nEmail a Friend\\t10\\tb\\'\\\\x00\\\\x00\\\\x00@?o\\\\x96\\\\xbf\\\\x00\\\\x00\\\\x00`IAh\\\\xbf\\\\x00\\\\x00\\\\x00\\\\xe0Iu\\\\x9c?\\\\x00\\\\x00\\\\x00\\\\x80=n\\\\x15\\\\xbf\\\\x00\\\\x\\t2\\t\"Exciting Job Opportunity: Apply Now for a Rewarding Career!\"\\tIT Specialist\\n*/',\n",
       "  'stop': ['\\nSQLResult:']},\n",
       " 'The percentage of jobs listed as Remote based is approximately 57.17%.']"
      ]
     },
     "execution_count": 20,
     "metadata": {},
     "output_type": "execute_result"
    }
   ],
   "source": [
    "result = db_chain(\"What percentage of jobs are listed as Remote based?\")\n",
    "result[\"intermediate_steps\"]"
   ]
  },
  {
   "cell_type": "code",
   "execution_count": 21,
   "metadata": {},
   "outputs": [
    {
     "data": {
      "text/plain": [
       "'The percentage of jobs listed as Remote based is approximately 57.17%.'"
      ]
     },
     "execution_count": 21,
     "metadata": {},
     "output_type": "execute_result"
    }
   ],
   "source": [
    "result['result']"
   ]
  },
  {
   "cell_type": "code",
   "execution_count": 22,
   "metadata": {},
   "outputs": [
    {
     "name": "stdout",
     "output_type": "stream",
     "text": [
      "\n",
      "\n",
      "\u001b[1m> Entering new SQLDatabaseChain chain...\u001b[0m\n",
      "Show the top 5 companies with the most jobs and their counts and average rating. Output in markdown table\n",
      "SQLQuery:\u001b[32;1m\u001b[1;3mSELECT company, COUNT(*) AS job_count, AVG(rating) AS avg_rating\n",
      "FROM jobs_table\n",
      "GROUP BY company\n",
      "ORDER BY job_count DESC\n",
      "LIMIT 5;\u001b[0m\n",
      "SQLResult: \u001b[33;1m\u001b[1;3m[('Artech Consulting LLC', 10, None), ('CVS Health', 9, 3.3000000000000003), ('Sandhills Global, Inc.', 7, 3.1999999999999997), ('Ezoic', 7, 4.5), ('Capital One', 7, 3.8999999999999995)]\u001b[0m\n",
      "Answer:\u001b[32;1m\u001b[1;3m| Company                 | Job Count | Average Rating |\n",
      "|-------------------------|-----------|----------------|\n",
      "| Artech Consulting LLC   | 10        | None           |\n",
      "| CVS Health              | 9         | 3.3            |\n",
      "| Sandhills Global, Inc.  | 7         | 3.2            |\n",
      "| Ezoic                   | 7         | 4.5            |\n",
      "| Capital One             | 7         | 3.9            |\u001b[0m\n",
      "\u001b[1m> Finished chain.\u001b[0m\n"
     ]
    }
   ],
   "source": [
    "result = db_chain(\"Show the top 5 companies with the most jobs and their counts and average rating. Output in markdown table\")"
   ]
  },
  {
   "cell_type": "code",
   "execution_count": 23,
   "metadata": {},
   "outputs": [
    {
     "data": {
      "text/markdown": [
       "| Company                 | Job Count | Average Rating |\n",
       "|-------------------------|-----------|----------------|\n",
       "| Artech Consulting LLC   | 10        | None           |\n",
       "| CVS Health              | 9         | 3.3            |\n",
       "| Sandhills Global, Inc.  | 7         | 3.2            |\n",
       "| Ezoic                   | 7         | 4.5            |\n",
       "| Capital One             | 7         | 3.9            |"
      ],
      "text/plain": [
       "<IPython.core.display.Markdown object>"
      ]
     },
     "execution_count": 23,
     "metadata": {},
     "output_type": "execute_result"
    }
   ],
   "source": [
    "Markdown(f\"{result['result']}\")"
   ]
  },
  {
   "attachments": {},
   "cell_type": "markdown",
   "metadata": {},
   "source": [
    "### llama index"
   ]
  },
  {
   "cell_type": "code",
   "execution_count": 24,
   "metadata": {},
   "outputs": [],
   "source": [
    "# NOTE: This is ONLY necessary in jupyter notebook.\n",
    "# Details: Jupyter runs an event-loop behind the scenes.\n",
    "#          This results in nested event-loops when we start an event-loop to make async queries.\n",
    "#          This is normally not allowed, we use nest_asyncio to allow it for convenience.\n",
    "\n",
    "import nest_asyncio\n",
    "nest_asyncio.apply()\n",
    "\n",
    "import logging\n",
    "import sys\n",
    "\n",
    "logging.basicConfig(stream=sys.stdout, level=logging.INFO)\n",
    "logging.getLogger().addHandler(logging.StreamHandler(stream=sys.stdout))"
   ]
  },
  {
   "cell_type": "code",
   "execution_count": 25,
   "metadata": {},
   "outputs": [],
   "source": [
    "from llama_index import (\n",
    "    VectorStoreIndex,\n",
    "    ServiceContext,\n",
    "    StorageContext,\n",
    "    SQLDatabase,\n",
    ")\n",
    "\n",
    "from llama_index.node_parser.simple import SimpleNodeParser\n",
    "from llama_index import ServiceContext, LLMPredictor\n",
    "from llama_index.storage import StorageContext\n",
    "import chromadb\n",
    "from llama_index.vector_stores import ChromaVectorStore\n",
    "from langchain.text_splitter import TokenTextSplitter\n",
    "from llama_index.llms import OpenAI"
   ]
  },
  {
   "cell_type": "code",
   "execution_count": 26,
   "metadata": {},
   "outputs": [],
   "source": [
    "# define node parser and LLM\n",
    "chunk_size = 512\n",
    "llm = OpenAI(temperature=0, model=\"gpt-3.5-turbo\", streaming=False)\n",
    "service_context = ServiceContext.from_defaults(chunk_size=chunk_size, llm=llm)\n",
    "\n",
    "text_splitter = TokenTextSplitter(chunk_size=chunk_size)\n",
    "node_parser = SimpleNodeParser(text_splitter=text_splitter)"
   ]
  },
  {
   "cell_type": "code",
   "execution_count": 27,
   "metadata": {},
   "outputs": [
    {
     "name": "stdout",
     "output_type": "stream",
     "text": [
      "INFO:chromadb.telemetry.posthog:Anonymized telemetry enabled. See https://docs.trychroma.com/telemetry for more information.\n",
      "Anonymized telemetry enabled. See https://docs.trychroma.com/telemetry for more information.\n"
     ]
    }
   ],
   "source": [
    "#create chroma client and collection\n",
    "chroma_client = chromadb.Client()\n",
    "chroma_collection = chroma_client.create_collection(\"jobs\")\n",
    "\n",
    "vector_store = ChromaVectorStore(chroma_collection=chroma_collection)\n",
    "storage_context = StorageContext.from_defaults(vector_store=vector_store)\n",
    "vector_index = VectorStoreIndex([], storage_context=storage_context)"
   ]
  },
  {
   "cell_type": "code",
   "execution_count": 28,
   "metadata": {},
   "outputs": [],
   "source": [
    "from sqlalchemy import (\n",
    "    create_engine,\n",
    "    MetaData,\n",
    "    Table,\n",
    "    Column,\n",
    "    String,\n",
    "    Integer,\n",
    "    select,\n",
    "    column,\n",
    ")"
   ]
  },
  {
   "cell_type": "code",
   "execution_count": 29,
   "metadata": {},
   "outputs": [],
   "source": [
    "#create SQL engine\n",
    "engine = create_engine(uri, future=True)\n",
    "metadata_obj = MetaData()\n",
    "metadata_obj.drop_all(engine)"
   ]
  },
  {
   "cell_type": "code",
   "execution_count": 30,
   "metadata": {},
   "outputs": [],
   "source": [
    "# Create table schema\n",
    "indeed_jobs_table = Table(\n",
    "    table_name,\n",
    "    metadata_obj,\n",
    "    Column(\"topic_title\", String(50), primary_key=True),\n",
    "    Column(\"location\", String(20)),\n",
    "    Column(\"company\", String(20)),\n",
    "    Column(\"title\", String(20)),\n",
    "    Column(\"rating\", String(20))\n",
    ")"
   ]
  },
  {
   "cell_type": "code",
   "execution_count": 31,
   "metadata": {},
   "outputs": [],
   "source": [
    "metadata_obj.create_all(engine)"
   ]
  },
  {
   "cell_type": "code",
   "execution_count": 32,
   "metadata": {},
   "outputs": [
    {
     "data": {
      "text/plain": [
       "dict_keys(['jobs_table'])"
      ]
     },
     "execution_count": 32,
     "metadata": {},
     "output_type": "execute_result"
    }
   ],
   "source": [
    "metadata_obj.tables.keys()"
   ]
  },
  {
   "cell_type": "code",
   "execution_count": 33,
   "metadata": {},
   "outputs": [],
   "source": [
    "sql_database = SQLDatabase(engine, include_tables=[\"jobs_table\"])"
   ]
  },
  {
   "cell_type": "code",
   "execution_count": 34,
   "metadata": {},
   "outputs": [],
   "source": [
    "from llama_index.indices.struct_store.sql_query import NLSQLTableQueryEngine\n",
    "from llama_index.indices.struct_store.sql import SQLStructStoreIndex\n",
    "from llama_index.schema import TextNode"
   ]
  },
  {
   "cell_type": "code",
   "execution_count": 35,
   "metadata": {},
   "outputs": [],
   "source": [
    "sql_query_engine = NLSQLTableQueryEngine(\n",
    "    sql_database=sql_database,\n",
    "    tables=[\"jobs_table\"],\n",
    ")"
   ]
  },
  {
   "cell_type": "code",
   "execution_count": 36,
   "metadata": {},
   "outputs": [],
   "source": [
    "sql_index = SQLStructStoreIndex.from_documents(\n",
    "    [], \n",
    "    sql_database=sql_database, \n",
    "    table_name=\"jobs_table\",\n",
    ")"
   ]
  },
  {
   "cell_type": "code",
   "execution_count": 37,
   "metadata": {},
   "outputs": [
    {
     "data": {
      "text/html": [
       "<div>\n",
       "<style scoped>\n",
       "    .dataframe tbody tr th:only-of-type {\n",
       "        vertical-align: middle;\n",
       "    }\n",
       "\n",
       "    .dataframe tbody tr th {\n",
       "        vertical-align: top;\n",
       "    }\n",
       "\n",
       "    .dataframe thead th {\n",
       "        text-align: right;\n",
       "    }\n",
       "</style>\n",
       "<table border=\"1\" class=\"dataframe\">\n",
       "  <thead>\n",
       "    <tr style=\"text-align: right;\">\n",
       "      <th></th>\n",
       "      <th>unnamed:_0</th>\n",
       "      <th>title</th>\n",
       "      <th>company</th>\n",
       "      <th>location</th>\n",
       "      <th>rating</th>\n",
       "      <th>date</th>\n",
       "      <th>salary</th>\n",
       "      <th>description</th>\n",
       "      <th>links</th>\n",
       "      <th>descriptions</th>\n",
       "      <th>token_count</th>\n",
       "      <th>embedding</th>\n",
       "      <th>kmeans_label</th>\n",
       "      <th>llm_title</th>\n",
       "      <th>topic_title</th>\n",
       "    </tr>\n",
       "  </thead>\n",
       "  <tbody>\n",
       "    <tr>\n",
       "      <th>0</th>\n",
       "      <td>0</td>\n",
       "      <td>Data Scientist</td>\n",
       "      <td>Driven Brands</td>\n",
       "      <td>Benicia, CA</td>\n",
       "      <td>2.4</td>\n",
       "      <td>PostedPosted 26 days ago</td>\n",
       "      <td>None</td>\n",
       "      <td>You’ll be working alongside a team of eight an...</td>\n",
       "      <td>https://www.indeed.com/rc/clk?jk=74d176d595225...</td>\n",
       "      <td>We invite you to join us at Driven Brands!\\nHe...</td>\n",
       "      <td>26</td>\n",
       "      <td>[-0.0194996390491724, -0.0041993726044893265, ...</td>\n",
       "      <td>4</td>\n",
       "      <td>\"Join our dynamic team of analysts and data sc...</td>\n",
       "      <td>Data Science and Strategy Manager</td>\n",
       "    </tr>\n",
       "  </tbody>\n",
       "</table>\n",
       "</div>"
      ],
      "text/plain": [
       "   unnamed:_0           title        company     location  rating  \\\n",
       "0           0  Data Scientist  Driven Brands  Benicia, CA     2.4   \n",
       "\n",
       "                       date salary  \\\n",
       "0  PostedPosted 26 days ago   None   \n",
       "\n",
       "                                         description  \\\n",
       "0  You’ll be working alongside a team of eight an...   \n",
       "\n",
       "                                               links  \\\n",
       "0  https://www.indeed.com/rc/clk?jk=74d176d595225...   \n",
       "\n",
       "                                        descriptions  token_count  \\\n",
       "0  We invite you to join us at Driven Brands!\\nHe...           26   \n",
       "\n",
       "                                           embedding  kmeans_label  \\\n",
       "0  [-0.0194996390491724, -0.0041993726044893265, ...             4   \n",
       "\n",
       "                                           llm_title  \\\n",
       "0  \"Join our dynamic team of analysts and data sc...   \n",
       "\n",
       "                         topic_title  \n",
       "0  Data Science and Strategy Manager  "
      ]
     },
     "execution_count": 37,
     "metadata": {},
     "output_type": "execute_result"
    }
   ],
   "source": [
    "data.head(1)"
   ]
  },
  {
   "cell_type": "code",
   "execution_count": 38,
   "metadata": {},
   "outputs": [],
   "source": [
    "nodes = []\n",
    "\n",
    "for index, row in data.iterrows():\n",
    "    node = TextNode(text=row['descriptions'],\n",
    "                            metadata={\"topic_title\": row['topic_title'],\n",
    "                                      \"location\": row['location'],\n",
    "                                      \"company\": row['company'],\n",
    "                                      \"title\": row['title'],\n",
    "                                      \"rating\": row['rating']})\n",
    "    nodes.append(node)"
   ]
  },
  {
   "cell_type": "code",
   "execution_count": 39,
   "metadata": {},
   "outputs": [
    {
     "data": {
      "text/plain": [
       "1200"
      ]
     },
     "execution_count": 39,
     "metadata": {},
     "output_type": "execute_result"
    }
   ],
   "source": [
    "len(nodes)"
   ]
  },
  {
   "cell_type": "code",
   "execution_count": 40,
   "metadata": {},
   "outputs": [],
   "source": [
    "vector_index.insert_nodes(nodes)"
   ]
  },
  {
   "cell_type": "code",
   "execution_count": 41,
   "metadata": {},
   "outputs": [],
   "source": [
    "from llama_index.query_engine import SQLAutoVectorQueryEngine, RetrieverQueryEngine\n",
    "from llama_index.tools.query_engine import QueryEngineTool\n",
    "from llama_index.indices.vector_store import VectorIndexAutoRetriever"
   ]
  },
  {
   "cell_type": "code",
   "execution_count": 42,
   "metadata": {},
   "outputs": [],
   "source": [
    "from llama_index.indices.vector_store.retrievers import VectorIndexAutoRetriever\n",
    "from llama_index.vector_stores.types import MetadataInfo, VectorStoreInfo\n",
    "from llama_index.query_engine.retriever_query_engine import RetrieverQueryEngine\n",
    "\n",
    "vector_store_info = VectorStoreInfo(\n",
    "    content_info=\"descriptions for job openings\",\n",
    "    metadata_info=[\n",
    "        MetadataInfo(name=\"topic_title\", type=\"str\", description=\"The job category name\"),\n",
    "    ],\n",
    ")\n",
    "vector_auto_retriever = VectorIndexAutoRetriever(\n",
    "    vector_index, vector_store_info=vector_store_info\n",
    ")\n",
    "\n",
    "retriever_query_engine = RetrieverQueryEngine.from_args(\n",
    "    vector_auto_retriever, service_context=service_context\n",
    ")"
   ]
  },
  {
   "cell_type": "code",
   "execution_count": 43,
   "metadata": {},
   "outputs": [],
   "source": [
    "sql_tool = QueryEngineTool.from_defaults(\n",
    "    query_engine=sql_query_engine,\n",
    "    description=(\n",
    "        \"Useful for translating a natural language query into a SQL query over a table containing: \"\n",
    "        \"jobs_table, containing structured data for job openings.\"\n",
    "    ),\n",
    ")\n",
    "vector_tool = QueryEngineTool.from_defaults(\n",
    "    query_engine=retriever_query_engine,\n",
    "    description=f\"Useful for answering semantic questions about different job descriptions\",\n",
    ")"
   ]
  },
  {
   "cell_type": "code",
   "execution_count": 44,
   "metadata": {},
   "outputs": [],
   "source": [
    "query_engine = SQLAutoVectorQueryEngine(\n",
    "    sql_tool, vector_tool, service_context=service_context\n",
    ")"
   ]
  },
  {
   "cell_type": "code",
   "execution_count": 45,
   "metadata": {},
   "outputs": [
    {
     "name": "stdout",
     "output_type": "stream",
     "text": [
      "\u001b[36;1m\u001b[1;3mQuerying SQL database: Useful for translating a natural language query into a SQL query over a table containing job descriptions.\n",
      "\u001b[0mINFO:llama_index.query_engine.sql_join_query_engine:> Querying SQL database: Useful for translating a natural language query into a SQL query over a table containing job descriptions.\n",
      "> Querying SQL database: Useful for translating a natural language query into a SQL query over a table containing job descriptions.\n",
      "INFO:llama_index.indices.struct_store.sql_query:> Table desc str: Table 'jobs_table' has columns: unnamed:_0 (BIGINT), title (TEXT), company (TEXT), location (TEXT), rating (FLOAT), date (TEXT), salary (TEXT), description (TEXT), links (TEXT), descriptions (TEXT), token_count (BIGINT), embedding (TEXT), kmeans_label (INTEGER), llm_title (TEXT), topic_title (TEXT) and foreign keys: .\n",
      "> Table desc str: Table 'jobs_table' has columns: unnamed:_0 (BIGINT), title (TEXT), company (TEXT), location (TEXT), rating (FLOAT), date (TEXT), salary (TEXT), description (TEXT), links (TEXT), descriptions (TEXT), token_count (BIGINT), embedding (TEXT), kmeans_label (INTEGER), llm_title (TEXT), topic_title (TEXT) and foreign keys: .\n",
      "\u001b[33;1m\u001b[1;3mSQL query: SELECT company, COUNT(*) AS count \n",
      "FROM jobs_table \n",
      "GROUP BY company \n",
      "ORDER BY count DESC \n",
      "LIMIT 1;\n",
      "\u001b[0m\u001b[33;1m\u001b[1;3mSQL response: \n",
      "Artech Consulting LLC has the most job listings with 10 total. Job descriptions for this company include roles in software engineering, data analysis, project management, and customer service.\n",
      "\u001b[0m\u001b[36;1m\u001b[1;3mTransformed query given SQL response: None\n",
      "\u001b[0mINFO:llama_index.query_engine.sql_join_query_engine:> Transformed query given SQL response: None\n",
      "> Transformed query given SQL response: None\n"
     ]
    }
   ],
   "source": [
    "response = query_engine.query(\n",
    "    \"Summarize the job descriptions for the company with the most listings\"\n",
    ")"
   ]
  },
  {
   "cell_type": "code",
   "execution_count": 46,
   "metadata": {},
   "outputs": [
    {
     "data": {
      "text/markdown": [
       "\n",
       "Artech Consulting LLC has the most job listings with 10 total. Job descriptions for this company include roles in software engineering, data analysis, project management, and customer service."
      ],
      "text/plain": [
       "<IPython.core.display.Markdown object>"
      ]
     },
     "execution_count": 46,
     "metadata": {},
     "output_type": "execute_result"
    }
   ],
   "source": [
    "Markdown(f\"{response}\")"
   ]
  },
  {
   "cell_type": "code",
   "execution_count": 49,
   "metadata": {},
   "outputs": [
    {
     "name": "stdout",
     "output_type": "stream",
     "text": [
      "\u001b[36;1m\u001b[1;3mQuerying SQL database: Useful for translating a natural language query into a SQL query over a table containing: jobs_table, containing structured data for job openings.\n",
      "\u001b[0mINFO:llama_index.query_engine.sql_join_query_engine:> Querying SQL database: Useful for translating a natural language query into a SQL query over a table containing: jobs_table, containing structured data for job openings.\n",
      "> Querying SQL database: Useful for translating a natural language query into a SQL query over a table containing: jobs_table, containing structured data for job openings.\n",
      "INFO:llama_index.indices.struct_store.sql_query:> Table desc str: Table 'jobs_table' has columns: unnamed:_0 (BIGINT), title (TEXT), company (TEXT), location (TEXT), rating (FLOAT), date (TEXT), salary (TEXT), description (TEXT), links (TEXT), descriptions (TEXT), token_count (BIGINT), embedding (TEXT), kmeans_label (INTEGER), llm_title (TEXT), topic_title (TEXT) and foreign keys: .\n",
      "> Table desc str: Table 'jobs_table' has columns: unnamed:_0 (BIGINT), title (TEXT), company (TEXT), location (TEXT), rating (FLOAT), date (TEXT), salary (TEXT), description (TEXT), links (TEXT), descriptions (TEXT), token_count (BIGINT), embedding (TEXT), kmeans_label (INTEGER), llm_title (TEXT), topic_title (TEXT) and foreign keys: .\n",
      "\u001b[33;1m\u001b[1;3mSQL query: SELECT kmeans_label, COUNT(*) AS count \n",
      "FROM jobs_table \n",
      "GROUP BY kmeans_label \n",
      "ORDER BY count DESC;\n",
      "\u001b[0m\u001b[33;1m\u001b[1;3mSQL response:  The most common job category name is 4, with 281 occurrences.\n",
      "\u001b[0m\u001b[36;1m\u001b[1;3mTransformed query given SQL response: None\n",
      "\u001b[0mINFO:llama_index.query_engine.sql_join_query_engine:> Transformed query given SQL response: None\n",
      "> Transformed query given SQL response: None\n"
     ]
    }
   ],
   "source": [
    "response = query_engine.query(\n",
    "    \"Which job category name is the most common?\"\n",
    ")"
   ]
  },
  {
   "cell_type": "code",
   "execution_count": 50,
   "metadata": {},
   "outputs": [
    {
     "data": {
      "text/markdown": [
       " The most common job category name is 4, with 281 occurrences."
      ],
      "text/plain": [
       "<IPython.core.display.Markdown object>"
      ]
     },
     "execution_count": 50,
     "metadata": {},
     "output_type": "execute_result"
    }
   ],
   "source": [
    "Markdown(f\"{response}\")"
   ]
  }
 ],
 "metadata": {
  "kernelspec": {
   "display_name": "liberty-gpt-py3.10",
   "language": "python",
   "name": "liberty-gpt-py3.10"
  },
  "language_info": {
   "codemirror_mode": {
    "name": "ipython",
    "version": 3
   },
   "file_extension": ".py",
   "mimetype": "text/x-python",
   "name": "python",
   "nbconvert_exporter": "python",
   "pygments_lexer": "ipython3",
   "version": "3.10.1"
  },
  "orig_nbformat": 4
 },
 "nbformat": 4,
 "nbformat_minor": 2
}
