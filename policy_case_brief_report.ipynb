{
 "cells": [
  {
   "cell_type": "code",
   "execution_count": 29,
   "metadata": {},
   "outputs": [
    {
     "data": {
      "text/plain": [
       "True"
      ]
     },
     "execution_count": 29,
     "metadata": {},
     "output_type": "execute_result"
    }
   ],
   "source": [
    "import os\n",
    "import warnings\n",
    "warnings.simplefilter(action='ignore', category=FutureWarning)\n",
    "import pandas as pd\n",
    "from dotenv import load_dotenv\n",
    "from IPython.display import Markdown\n",
    "from dotenv import load_dotenv\n",
    "load_dotenv()"
   ]
  },
  {
   "cell_type": "code",
   "execution_count": 4,
   "metadata": {},
   "outputs": [],
   "source": [
    "from langchain.prompts import PromptTemplate"
   ]
  },
  {
   "cell_type": "code",
   "execution_count": 99,
   "metadata": {},
   "outputs": [],
   "source": [
    "outline_prompt_string = \"\"\"Context: {text}\n",
    "As an expert legal analyst, review the Context which is part of an insurance policy document related to the question.\n",
    "{question}\n",
    "\n",
    "Identify Context excerpts that are of specific material importance to the question. \n",
    "For excerpts indentified, explain their specific relevancy to the question.\n",
    "\"\"\"\n",
    "\n",
    "OUTLINE_PROMPT = PromptTemplate(input_variables=[\"text\", \"question\"], template=outline_prompt_string)"
   ]
  },
  {
   "cell_type": "code",
   "execution_count": 49,
   "metadata": {},
   "outputs": [],
   "source": [
    "final_prompt_string = \"\"\"Context: {text}\n",
    "As an experienced legal analyst, use the Context and the question:\n",
    "{question}\n",
    "\n",
    "Compose a case brief using only the Context. \n",
    "Working step by step, organize the Context into a well-structured \n",
    "outline with the following sections:\n",
    "\n",
    "Facts of Loss: a concise sumary of facts and events relevant to this claim.\n",
    "Coverage Issue: [the facts of the coverage question]\n",
    "Analysis: subsections\n",
    "   [\"Policy excerpts\": excerpts from the most relevant policy subsections, \n",
    "   \"Applications\": explanation of how the policy excerpt impacts the question]\n",
    "Takeaway: the most important policy section for the question.\n",
    "TODO: optional list of knowledge gaps, or follow-up questions.\n",
    "\"\"\"\n",
    "FINAL_PROMPT = PromptTemplate(input_variables=[\"text\", \"question\"], template=final_prompt_string)"
   ]
  },
  {
   "cell_type": "code",
   "execution_count": 50,
   "metadata": {},
   "outputs": [],
   "source": [
    "from llama_index import SimpleDirectoryReader\n",
    "from langchain.text_splitter import CharacterTextSplitter\n",
    "\n",
    "sample_ho3_policy_docs = SimpleDirectoryReader(input_files=['./data//HO3_sample.pdf']).load_data()"
   ]
  },
  {
   "cell_type": "code",
   "execution_count": 90,
   "metadata": {},
   "outputs": [],
   "source": [
    "docs = []\n",
    "\n",
    "for i in range(len(sample_ho3_policy_docs)):\n",
    "    doc = sample_ho3_policy_docs[i].text\n",
    "    docs.append(doc)"
   ]
  },
  {
   "cell_type": "code",
   "execution_count": 91,
   "metadata": {},
   "outputs": [],
   "source": [
    "text_splitter = CharacterTextSplitter.from_tiktoken_encoder(chunk_size=2000, chunk_overlap=0, separator=\"\\n\\n\")"
   ]
  },
  {
   "cell_type": "code",
   "execution_count": 92,
   "metadata": {},
   "outputs": [],
   "source": [
    "policy_text = \"\\n\\n\".join(docs)"
   ]
  },
  {
   "cell_type": "code",
   "execution_count": 93,
   "metadata": {},
   "outputs": [],
   "source": [
    "policy_chunks = text_splitter.split_text(policy_text)"
   ]
  },
  {
   "cell_type": "code",
   "execution_count": 94,
   "metadata": {},
   "outputs": [
    {
     "data": {
      "text/plain": [
       "12"
      ]
     },
     "execution_count": 94,
     "metadata": {},
     "output_type": "execute_result"
    }
   ],
   "source": [
    "len(policy_chunks)"
   ]
  },
  {
   "cell_type": "code",
   "execution_count": 107,
   "metadata": {},
   "outputs": [],
   "source": [
    "from langchain import PromptTemplate, LLMChain\n",
    "from langchain.chat_models import ChatOpenAI\n",
    "\n",
    "llm = ChatOpenAI(model=\"gpt-3.5-turbo\", temperature=0)\n",
    "llm_chain = LLMChain(\n",
    "    llm=llm,\n",
    "    prompt=OUTLINE_PROMPT\n",
    ")"
   ]
  },
  {
   "cell_type": "code",
   "execution_count": 108,
   "metadata": {},
   "outputs": [],
   "source": [
    "question = \"\"\"\n",
    "    The insured was away on vacation and rented the dwelling to a tenant. When the insured came home \n",
    "    he found a ceiling collapsed due to a pipe leak in the attic causing significant damage. \n",
    "    The damage was hidden from the insured, but the tenant was aware of it. Is this a covered claim?\n",
    "\"\"\""
   ]
  },
  {
   "cell_type": "code",
   "execution_count": 109,
   "metadata": {},
   "outputs": [],
   "source": [
    "all_res = []\n",
    "\n",
    "for i in range(len(policy_chunks)):\n",
    "    res = llm_chain.predict(text=policy_chunks[i], question=question)\n",
    "    all_res.append(res)"
   ]
  },
  {
   "attachments": {},
   "cell_type": "markdown",
   "metadata": {},
   "source": [
    "### GPT-3.5-turbo: Intermediate Output"
   ]
  },
  {
   "cell_type": "code",
   "execution_count": 110,
   "metadata": {},
   "outputs": [
    {
     "data": {
      "text/markdown": [
       "Excerpt 1: \"In this policy, 'you' and 'your' refer to the 'named insured' shown in the Declarations and the spouse if a resident of the same household.\"\n",
       "\n",
       "Excerpt 2: \"Insured location means: a. The 'residence premises'; b. The part of other premises, other structures and grounds used by you as a residence; and c. Any premises used by you in connection with a premises described in a. and b. above.\"\n",
       "\n",
       "Excerpt 3: \"Residence premises means: a. The one family dwelling where you reside; b. The two, three or four family dwelling where you reside in at least one of the family units; or c. That part of any other building where you reside; and which is shown as the 'residence premises' in the Declarations.\"\n",
       "\n",
       "Excerpt 4: \"An 'insured' does not mean a person or organization using or having custody of these animals or watercraft in the course of any 'business' or without consent of the owner.\"\n",
       "\n",
       "Excerpt 5: \"Under both Sections I and II, when the word an immediately precedes the word 'insured', the words an 'insured' together mean one or more 'insureds'.\"\n",
       "\n",
       "Excerpt 6: \"With respect to a 'motor vehicle' to which this policy applies: (a) Persons while engaged in your employ or that of any person included in a. or b. above; or (b) Other persons using the vehicle on an 'insured location' with your consent.\"\n",
       "\n",
       "Excerpt 7: \"Occurrence means an accident, including continuous or repeated exposure to substantially the same general harmful conditions, which results, during the policy period, in: a. 'Bodily injury'; or b. 'Property damage'.\"\n",
       "\n",
       "Excerpt 8: \"Property damage means physical injury to, destruction of, or loss of use of tangible property.\"\n",
       "\n",
       "Excerpt 9: \"Residence employee means: a. An employee of an 'insured', or an employee leased to an 'insured' by a labor leasing firm, under an agreement between an 'insured' and the labor leasing firm, whose duties are related to the maintenance or use of the 'residence premises', including household or domestic services; or b. One who performs similar duties elsewhere not related to the 'business' of an 'insured'.\"\n",
       "\n",
       "Excerpt 10: \"A 'residence employee' does not include a temporary employee who is furnished to an 'insured' to substitute for a permanent 'residence employee' on leave or to meet seasonal or short-term workload conditions.\"\n",
       "\n",
       "Excerpt 1 is relevant because it defines who the \"you\" and \"your\" refer to in the policy, which is important in determining coverage.\n",
       "\n",
       "Excerpts 2 and 3 are relevant because they define the \"residence premises\" and \"insured location,\" which are important in determining whether the damage occurred within the covered property.\n",
       "\n",
       "Excerpt 4 is relevant because it clarifies that the policy does not cover damages caused by someone using or having custody of the property without the owner's consent.\n",
       "\n",
       "Excerpt 5 is relevant because it explains that when the term \"an insured\" is used, it refers to one or more insureds, which may include the tenant.\n",
       "\n",
       "Excerpt 6 is relevant because it states that other persons using the vehicle on an insured location with the insured's consent may be covered.\n",
       "\n",
       "Excerpt 7 is relevant because it defines \"occurrence,\" which is important in determining whether the damage caused by the pipe leak is covered.\n",
       "\n",
       "Excerpt 8 is relevant because it defines \"property damage,\" which is the type of damage caused by the pipe leak.\n",
       "\n",
       "Excerpt 9 is relevant because it defines \"residence employee,\" which may be relevant in determining who is responsible for the maintenance and care of the property.\n",
       "\n",
       "Excerpt 10 is relevant because it clarifies that a temporary employee is not considered a residence employee, which may be relevant in determining who is responsible for the maintenance and care of the property."
      ],
      "text/plain": [
       "<IPython.core.display.Markdown object>"
      ]
     },
     "metadata": {},
     "output_type": "display_data"
    },
    {
     "data": {
      "text/markdown": [
       "Excerpt 1: \"Coverage A – Dwelling...We cover: a. The dwelling on the 'residence premises' shown in the Declarations, including structures attached to the dwelling...\"\n",
       "\n",
       "Excerpt 2: \"Coverage B – Other Structures...We cover other structures on the 'residence premises' set apart from the dwelling by clear space. This includes structures connected to the dwelling by only a fence, utility line, or similar connection.\"\n",
       "\n",
       "Excerpt 3: \"Coverage C – Personal Property...We cover personal property owned or used by an 'insured' while it is anywhere in the world.\"\n",
       "\n",
       "Excerpt 4: \"We do not cover: h. Property rented or held for rental to others off the 'residence premises'.\"\n",
       "\n",
       "Excerpt 5: \"We do not cover: i. 'Business' data, including such data stored in: (1) Books of account, drawings or other paper records; or (2) Computers and related equipment.\"\n",
       "\n",
       "The relevant excerpts are Excerpt 1, Excerpt 2, and Excerpt 4. \n",
       "\n",
       "Excerpt 1 states that the insurance policy covers the dwelling on the \"residence premises\" shown in the Declarations, including structures attached to the dwelling. This means that if the damage occurred to the dwelling itself, it would likely be covered.\n",
       "\n",
       "Excerpt 2 states that the insurance policy also covers other structures on the \"residence premises\" set apart from the dwelling. If the damage occurred to a structure connected to the dwelling by a fence, utility line, or similar connection, it would likely be covered.\n",
       "\n",
       "Excerpt 4 states that the insurance policy does not cover property rented or held for rental to others off the \"residence premises.\" If the damage occurred to a property that was rented to someone off the \"residence premises,\" it would not be covered.\n",
       "\n",
       "Based on the information provided, it is unclear whether the damage occurred to the dwelling itself or to a separate structure. If the damage occurred to the dwelling or a structure on the \"residence premises,\" it would likely be covered. However, if the damage occurred to a property rented to someone off the \"residence premises,\" it would not be covered."
      ],
      "text/plain": [
       "<IPython.core.display.Markdown object>"
      ]
     },
     "metadata": {},
     "output_type": "display_data"
    },
    {
     "data": {
      "text/markdown": [
       "Excerpt 1: \"If a loss covered under Section I makes that part of the 'residence premises' rented to others or held for rental by you not fit to live in, we cover the fair rental value of such premises less any expenses that do not continue while it is not fit to live in.\"\n",
       "\n",
       "Excerpt 2: \"We cover trees, shrubs, plants or lawns, on the 'residence premises', for loss caused by the following Perils Insured Against: [...] Theft.\"\n",
       "\n",
       "Excerpt 3: \"We will pay up to $500 for: [...] Loss resulting from theft or unauthorized use of an electronic fund transfer card or access device used for deposit, withdrawal or transfer of funds, issued to or registered in an 'insured's' name.\"\n",
       "\n",
       "Excerpt 1 is relevant because it states that if a loss makes the rented part of the residence premises not fit to live in, the insurance policy covers the fair rental value of such premises. In this case, the collapsed ceiling due to a pipe leak would likely make the rented part of the dwelling not fit to live in, so the claim may be covered.\n",
       "\n",
       "Excerpt 2 is relevant because it states that the insurance policy covers loss to trees, shrubs, plants, or lawns caused by theft. If the tenant was aware of the hidden damage and intentionally caused or allowed the damage to occur, it could be considered theft, and the claim may be covered.\n",
       "\n",
       "Excerpt 3 is relevant because it states that the insurance policy covers loss resulting from theft or unauthorized use of an electronic fund transfer card or access device. If the tenant used the insured's credit card or access device without authorization to cause the damage, it could be considered theft, and the claim may be covered."
      ],
      "text/plain": [
       "<IPython.core.display.Markdown object>"
      ]
     },
     "metadata": {},
     "output_type": "display_data"
    },
    {
     "data": {
      "text/markdown": [
       "Excerpt 8a states that collapse is defined as an abrupt falling down or caving in of a building or any part of a building that renders it uninhabitable. In this case, the ceiling collapse would be considered a collapse under this definition.\n",
       "\n",
       "Excerpt 8b states that the insurance policy covers direct physical loss to covered property involving collapse if it was caused by certain perils, including the Perils Insured Against named under Coverage C. If the pipe leak in the attic caused the collapse of the ceiling, it would be considered a covered claim under this provision.\n",
       "\n",
       "Excerpt 8c states that loss to certain property, such as an awning or foundation, is not included under the coverage for collapse unless it is a direct result of the collapse of a building or part of a building. Since the damage in this case is to the ceiling, which is part of the building, it would be included under the coverage for collapse.\n",
       "\n",
       "Based on these excerpts, it can be concluded that the damage caused by the ceiling collapse due to the pipe leak would likely be considered a covered claim under the insurance policy."
      ],
      "text/plain": [
       "<IPython.core.display.Markdown object>"
      ]
     },
     "metadata": {},
     "output_type": "display_data"
    },
    {
     "data": {
      "text/markdown": [
       "Excerpt 1: \"Shut off the water supply and drain all systems and appliances of water. However, if the building is protected by an automatic fire protective sprinkler system, you must use reasonable care to continue the water supply and maintain heat in the building for coverage to apply.\"\n",
       "\n",
       "Relevancy: This excerpt states that if the building is protected by an automatic fire protective sprinkler system, the insured must use reasonable care to maintain the water supply and heat in the building for coverage to apply. This suggests that if the insured failed to maintain the water supply and heat in the building, the claim may not be covered.\n",
       "\n",
       "Excerpt 2: \"(5) Mold, fungus or wet rot. However, we do insure for loss caused by mold, fungus or wet rot that is hidden within the walls or ceilings or beneath the floors or above the ceilings of a structure if such loss results from the accidental discharge or overflow of water or steam from within: (a) A plumbing, heating, air conditioning or automatic fire protective sprinkler system, or a household appliance, on the 'residence premises'; or (b) A storm drain, or water, steam or sewer pipes, off the 'residence premises'.\"\n",
       "\n",
       "Relevancy: This excerpt states that the insurance policy covers loss caused by mold, fungus, or wet rot that is hidden within the structure if it results from the accidental discharge or overflow of water or steam from certain sources. If the pipe leak in the attic resulted in the mold, fungus, or wet rot that caused the ceiling collapse, it may be covered under this provision.\n",
       "\n",
       "Excerpt 3: \"(8) Vandalism Or Malicious Mischief. (9) Theft. a. This peril includes attempted theft and loss of property from a known place when it is likely that the property has been stolen. b. This peril does not include loss caused by theft: (1) Committed by an 'insured'; (3) From that part of a 'residence premises' rented by an 'insured' to someone other than another 'insured'.\"\n",
       "\n",
       "Relevancy: This excerpt states that theft is covered under the insurance policy, but it does not include theft committed by an insured or theft from a part of the residence premises rented by an insured to someone other than another insured. If the tenant was responsible for the theft of the insured's property, it may not be covered under this provision."
      ],
      "text/plain": [
       "<IPython.core.display.Markdown object>"
      ]
     },
     "metadata": {},
     "output_type": "display_data"
    },
    {
     "data": {
      "text/markdown": [
       "Excerpt 12: \"Accidental Discharge Or Overflow Of Water Or Steam\"\n",
       "This excerpt defines the peril of accidental discharge or overflow of water or steam from within a plumbing, heating, air conditioning, or automatic fire protective sprinkler system or from within a household appliance. It states that loss to the system or appliance from which the water or steam escaped is not covered. \n",
       "\n",
       "Excerpt 14: \"Freezing\"\n",
       "This excerpt defines the peril of freezing of a plumbing, heating, air conditioning, or automatic fire protective sprinkler system or of a household appliance. It states that coverage applies only if the insured has used reasonable care to maintain heat in the building or shut off the water supply and drain all systems and appliances of water. \n",
       "\n",
       "Excerpt 15: \"Sudden And Accidental Damage From Artificially Generated Electrical Current\"\n",
       "This excerpt states that loss caused by artificially generated electrical current is covered, but it does not include loss to electronic components or circuitry that are part of appliances or electronic apparatus. \n",
       "\n",
       "Excerpt 3: \"Water Damage\"\n",
       "This excerpt defines water damage as including flood, surface water, waves, tidal water, overflow of a body of water, or spray from any of these, whether or not driven by wind. It also includes water or water-borne material that backs up through sewers or drains or overflows or is discharged from a sump, sump pump, or related equipment. However, it specifically states that direct loss by fire, explosion, or theft resulting from water damage is covered. \n",
       "\n",
       "Relevance to the question:\n",
       "Based on the provided information, the damage to the insured's dwelling was caused by a pipe leak, which falls under the peril of accidental discharge or overflow of water. However, the policy states that loss to the system or appliance from which the water escaped is not covered. Therefore, it is important to determine if the pipe leak is considered part of the system or appliance, or if it is a separate issue. Additionally, the policy covers direct loss by fire, explosion, or theft resulting from water damage, so it is relevant to consider if any of these factors contributed to the damage."
      ],
      "text/plain": [
       "<IPython.core.display.Markdown object>"
      ]
     },
     "metadata": {},
     "output_type": "display_data"
    },
    {
     "data": {
      "text/markdown": [
       "Excerpt 1: \"Even if more than one person has an insurable interest in the property covered, we will not be liable in any one loss: 1. To an 'insured' for more than the amount of such 'insured's' interest at the time of loss; or 2. For more than the applicable limit of liability.\"\n",
       "\n",
       "Excerpt 2: \"In case of a loss to covered property, we have no duty to provide coverage under this policy if the failure to comply with the following duties is prejudicial to us.\"\n",
       "\n",
       "Excerpt 3: \"Protect the property from further damage. If repairs to the property are required, you must: a. Make reasonable and necessary repairs to protect the property; and b. Keep an accurate record of repair expenses.\"\n",
       "\n",
       "Excerpt 4: \"Prepare an inventory of damaged personal property showing the quantity, description, actual cash value and amount of loss. Attach all bills, receipts and related documents that justify the figures in the inventory.\"\n",
       "\n",
       "Excerpt 5: \"Send to us, within 60 days after our request, your signed, sworn proof of loss which sets forth, to the best of your knowledge and belief: a. The time and cause of loss; b. The interests of all 'insureds' and all others in the property involved and all liens on the property; c. Other insurance which may cover the loss; d. Changes in title or occupancy of the property during the term of the policy; e. Specifications of damaged buildings and detailed repair estimates; f. The inventory of damaged personal property described in 6. above; g. Receipts for additional living expenses incurred and records that support the fair rental value loss; and h. Evidence or affidavit that supports a claim under E.6. Credit Card, Electronic Fund Transfer Card Or Access Device, Forgery And Counterfeit Money under Section I – Property Coverages, stating the amount and cause of loss.\"\n",
       "\n",
       "Excerpt 6: \"Covered property losses are settled as follows: 1. Property of the following types: a. Personal property; b. Awnings, carpeting, household appliances, outdoor antennas and outdoor equipment, whether or not attached to buildings; c. Structures that are not buildings; and d. Grave markers, including mausoleums; at actual cash value at the time of loss but not more than the amount required to repair or replace.\"\n",
       "\n",
       "Excerpt 7: \"Buildings covered under Coverage A or B at replacement cost without deduction for depreciation, subject to the following: a. If, at the time of loss, the amount of insurance in this policy on the damaged building is 80% or more of the full replacement cost of the building immediately before the loss, we will pay the cost to repair or replace, after application of any deductible and without deduction for depreciation, but not more than the least of the following amounts: (1) The limit of liability under this policy that applies to the building; (2) The replacement cost of that part of the building damaged with material of like kind and quality and for like use; or (3) The necessary amount actually spent to repair or replace the damaged building.\"\n",
       "\n",
       "Relevancy to the question: These excerpts are relevant because they outline the conditions and duties that the insured must comply with in order to have coverage for a loss. They specify the requirements for notifying the insurance company, protecting the property from further damage, making necessary repairs, providing proof of loss, and settling property losses. The specific relevancy to the question is that the insured's failure to comply with these duties may affect the coverage for the claim."
      ],
      "text/plain": [
       "<IPython.core.display.Markdown object>"
      ]
     },
     "metadata": {},
     "output_type": "display_data"
    },
    {
     "data": {
      "text/markdown": [
       "Excerpt (b) is of specific material importance to the question. It states that if the amount of insurance on the damaged building is less than 80% of the full replacement cost, the insurance company will pay the greater of the actual cash value of the damaged part of the building or the proportion of the cost to repair or replace the damaged part of the building, based on the ratio of the insurance amount to 80% of the replacement cost.\n",
       "\n",
       "In this case, if the insured intentionally concealed or misrepresented the material fact that the tenant was aware of the damage, it could be considered fraud. If the insurance company determines that fraud has occurred, they may deny coverage for the claim."
      ],
      "text/plain": [
       "<IPython.core.display.Markdown object>"
      ]
     },
     "metadata": {},
     "output_type": "display_data"
    },
    {
     "data": {
      "text/markdown": [
       "Excerpt 1: \"Coverage E – Personal Liability\n",
       "If a claim is made or a suit is brought against an \"insured\" for damages because of \"bodily injury\" or \"property damage\" caused by an \"occurrence\" to which this coverage applies, we will:\n",
       "1. Pay up to our limit of liability for the damages for which an \"insured\" is legally liable.\"\n",
       "\n",
       "Excerpt 2: \"SECTION II – EXCLUSIONS\n",
       "A. \"Motor Vehicle Liability\"\n",
       "1. Coverages E and F do not apply to any \"motor vehicle liability\" if, at the time and place of an \"occurrence\", the involved \"motor vehicle\":\n",
       "a. Is registered for use on public roads or property;\n",
       "b. Is not registered for use on public roads or property, but such registration is required by a law, or regulation issued by a government agency, for it to be used at the place of the \"occurrence\"; or\n",
       "c. Is being:\n",
       "(1) Operated in, or practicing for, any prearranged or organized race, speed contest or other competition;\n",
       "(2) Rented to others;\n",
       "(3) Used to carry persons or cargo for a charge; or\n",
       "(4) Used for any \"business\" purpose except for a motorized golf cart while on a golfing facility.\"\n",
       "\n",
       "Excerpt 1 is relevant to the question because it states that the insurance policy will pay for damages for which the insured is legally liable. This implies that if the insured is found to be legally liable for the damages caused by the pipe leak, the claim may be covered.\n",
       "\n",
       "Excerpt 2 is relevant to the question because it states that the insurance policy does not cover any \"motor vehicle liability\" if certain conditions are met. This implies that if the damage caused by the pipe leak is considered \"motor vehicle liability\" and the conditions listed in Excerpt 2 are met, the claim may not be covered."
      ],
      "text/plain": [
       "<IPython.core.display.Markdown object>"
      ]
     },
     "metadata": {},
     "output_type": "display_data"
    },
    {
     "data": {
      "text/markdown": [
       "Excerpt 1: \"Coverages E and F do not apply to the following:...4. 'Property damage' to property rented to, occupied or used by or in the care of an 'insured'. This exclusion does not apply to 'property damage' caused by fire, smoke or explosion.\"\n",
       "\n",
       "Excerpt 2: \"The insured was away on vacation and rented the dwelling to a tenant. When the insured came home he found a ceiling collapsed due to a pipe leak in the attic causing significant damage.\"\n",
       "\n",
       "Excerpt 1 is relevant to the question because it states that coverage for property damage to property rented to an insured is excluded, unless the damage is caused by fire, smoke, or explosion. This indicates that the claim may not be covered under the policy.\n",
       "\n",
       "Excerpt 2 provides the specific scenario in question, where the insured rented the dwelling to a tenant and discovered damage upon returning home. This excerpt helps to establish the context and relevance of the question."
      ],
      "text/plain": [
       "<IPython.core.display.Markdown object>"
      ]
     },
     "metadata": {},
     "output_type": "display_data"
    },
    {
     "data": {
      "text/markdown": [
       "Excerpt 1: \"Coverage F does not apply to 'bodily injury'...to any person, other than a 'residence employee' of an 'insured', regularly residing on any part of the 'insured location'.\"\n",
       "\n",
       "Excerpt 2: \"We will pay, at replacement cost, up to $1,000 per 'occurrence' for 'property damage' to property of others caused by an 'insured'.\"\n",
       "\n",
       "Excerpt 3: \"We will not pay for 'property damage'...to property owned by or rented to a tenant of an 'insured' or a resident in your household.\"\n",
       "\n",
       "Excerpt 4: \"This insurance applies separately to each 'insured'. This condition will not increase our limit of liability for any one 'occurrence'.\"\n",
       "\n",
       "Excerpt 5: \"In case of an 'occurrence', you or another 'insured' will perform the following duties that apply...Promptly forward to us every notice, demand, summons or other process relating to the 'occurrence'.\"\n",
       "\n",
       "Excerpt 1 is relevant because it states that Coverage F, which includes coverage for medical payments to others, does not apply to any person other than a residence employee regularly residing on the insured location. This means that if the tenant is injured, they would not be covered under Coverage F.\n",
       "\n",
       "Excerpt 2 is relevant because it states that the insurance policy will pay for property damage caused by an insured, up to $1,000 per occurrence. This suggests that if the damage to the ceiling is considered property damage and is caused by the insured, there may be coverage for the claim.\n",
       "\n",
       "Excerpt 3 is relevant because it states that the insurance policy will not pay for property damage to property owned by or rented to a tenant of the insured. This suggests that if the damage to the ceiling is considered property damage and is caused by the insured, there may not be coverage for the claim.\n",
       "\n",
       "Excerpt 4 is relevant because it states that the insurance applies separately to each insured and does not increase the limit of liability for any one occurrence. This means that even if the insured and the tenant are both considered insureds under the policy, the limit of liability for property damage remains the same.\n",
       "\n",
       "Excerpt 5 is relevant because it states that in case of an occurrence, the insured or another insured must promptly forward any notice or process relating to the occurrence to the insurance company. This suggests that the insured has a duty to notify the insurance company of the claim and provide any relevant information or documentation."
      ],
      "text/plain": [
       "<IPython.core.display.Markdown object>"
      ]
     },
     "metadata": {},
     "output_type": "display_data"
    },
    {
     "data": {
      "text/markdown": [
       "Excerpt 5 is of specific material importance to the question. It states that for damage to property of others, the insured must submit a sworn statement of loss within 60 days after the loss. This excerpt is relevant because it establishes a requirement for the insured to report the damage within a specific timeframe.\n",
       "\n",
       "Excerpt 6 is also of specific material importance to the question. It states that no insured shall voluntarily make payment, assume obligation, or incur expense other than for first aid to others at the time of bodily injury, except at their own cost. This excerpt is relevant because it suggests that the insured should not have taken any action to repair the damage without notifying the insurance company first.\n",
       "\n",
       "Based on these excerpts, it can be inferred that the insured's claim may not be covered if they did not report the damage within the specified timeframe and if they took action to repair the damage without the insurance company's knowledge or consent."
      ],
      "text/plain": [
       "<IPython.core.display.Markdown object>"
      ]
     },
     "metadata": {},
     "output_type": "display_data"
    }
   ],
   "source": [
    "for i in range(len(all_res)):\n",
    "    display(Markdown(f\"{all_res[i]}\"))"
   ]
  },
  {
   "cell_type": "code",
   "execution_count": 104,
   "metadata": {},
   "outputs": [],
   "source": [
    "outline_text = \"\\n\".join(all_res)"
   ]
  },
  {
   "cell_type": "code",
   "execution_count": 111,
   "metadata": {},
   "outputs": [],
   "source": [
    "final_chain = LLMChain(\n",
    "    llm=ChatOpenAI(model=\"gpt-3.5-turbo-16k-0613\", temperature=0),\n",
    "    prompt=FINAL_PROMPT\n",
    ")"
   ]
  },
  {
   "cell_type": "code",
   "execution_count": 112,
   "metadata": {},
   "outputs": [],
   "source": [
    "final_res = final_chain.predict(text=outline_text, question=question)"
   ]
  },
  {
   "attachments": {},
   "cell_type": "markdown",
   "metadata": {},
   "source": [
    "## GPT-3.5-turbo: Final Answer"
   ]
  },
  {
   "cell_type": "code",
   "execution_count": 113,
   "metadata": {},
   "outputs": [
    {
     "data": {
      "text/markdown": [
       "Facts of Loss:\n",
       "- The insured was away on vacation and rented the dwelling to a tenant.\n",
       "- Upon returning home, the insured discovered a collapsed ceiling due to a pipe leak in the attic, causing significant damage.\n",
       "- The damage was hidden from the insured, but the tenant was aware of it.\n",
       "\n",
       "Coverage Issue:\n",
       "- Is this a covered claim under the insurance policy?\n",
       "\n",
       "Analysis:\n",
       "- Policy excerpts:\n",
       "  - Excerpt 1: \"Coverage E – Personal Liability...If a claim is made or a suit is brought against an 'insured' for damages because of 'bodily injury' or 'property damage' caused by an 'occurrence' to which this coverage applies, we will pay up to our limit of liability for the damages for which an 'insured' is legally liable.\"\n",
       "  - Excerpt 3: \"We will not pay for 'property damage'...to property owned by or rented to a tenant of an 'insured' or a resident in your household.\"\n",
       "- Applications:\n",
       "  - Excerpt 1 indicates that the insurance policy covers damages caused by an occurrence, such as the pipe leak, for which the insured is legally liable.\n",
       "  - However, Excerpt 3 states that the insurance policy will not pay for property damage to property rented to a tenant of the insured.\n",
       "- Takeaway:\n",
       "  - Based on the policy excerpts, it appears that the insurance policy does not cover property damage to property rented to a tenant of the insured.\n",
       "\n",
       "TODO: None."
      ],
      "text/plain": [
       "<IPython.core.display.Markdown object>"
      ]
     },
     "execution_count": 113,
     "metadata": {},
     "output_type": "execute_result"
    }
   ],
   "source": [
    "Markdown(f\"{final_res}\")"
   ]
  },
  {
   "cell_type": "code",
   "execution_count": 114,
   "metadata": {},
   "outputs": [],
   "source": [
    "llm = ChatOpenAI(model=\"gpt-4\", temperature=0)\n",
    "llm_chain = LLMChain(\n",
    "    llm=llm,\n",
    "    prompt=OUTLINE_PROMPT\n",
    ")"
   ]
  },
  {
   "cell_type": "code",
   "execution_count": 115,
   "metadata": {},
   "outputs": [],
   "source": [
    "all_res = []\n",
    "\n",
    "for i in range(len(policy_chunks)):\n",
    "    res = llm_chain.predict(text=policy_chunks[i], question=question)\n",
    "    all_res.append(res)"
   ]
  },
  {
   "attachments": {},
   "cell_type": "markdown",
   "metadata": {},
   "source": [
    "### GPT-4: Intermediate Output"
   ]
  },
  {
   "cell_type": "code",
   "execution_count": 116,
   "metadata": {},
   "outputs": [
    {
     "data": {
      "text/markdown": [
       "Excerpt 1: \"We will provide the insurance described in this policy in return for the premium and compliance with all applicable provisions of this policy.\"\n",
       "\n",
       "Relevancy: This excerpt establishes the general agreement between the insurer and the insured. It implies that the insurer will cover damages as long as the insured complies with the policy's provisions. \n",
       "\n",
       "Excerpt 2: \"8.\"Occurrence\" means an accident, including continuous or repeated exposure to substantially the same general harmful conditions, which results, during the policy period, in: a.\"Bodily injury\"; or b.\"Property damage\".\"\n",
       "\n",
       "Relevancy: This excerpt defines an \"occurrence\" as an accident that results in property damage during the policy period. The pipe leak and subsequent ceiling collapse could be considered an \"occurrence\" as it resulted in property damage.\n",
       "\n",
       "Excerpt 3: \"9.\"Property damage\" means physical injury to, destruction of, or loss of use of tangible property.\"\n",
       "\n",
       "Relevancy: This excerpt defines \"property damage\" as physical injury to or destruction of tangible property. The damage caused by the pipe leak and ceiling collapse falls under this definition.\n",
       "\n",
       "Excerpt 4: \"h.Any part of a premises occasionally rented to an \"insured\" for other than \"business\" use.\"\n",
       "\n",
       "Relevancy: This excerpt indicates that the policy covers premises that are occasionally rented for non-business use. Since the insured rented out the dwelling while on vacation, this provision could apply.\n",
       "\n",
       "However, the policy does not explicitly state whether it covers damages that were known by the tenant but not reported to the insured. This could be a point of contention in determining whether the claim is covered."
      ],
      "text/plain": [
       "<IPython.core.display.Markdown object>"
      ]
     },
     "metadata": {},
     "output_type": "display_data"
    },
    {
     "data": {
      "text/markdown": [
       "Excerpt 1: \"We cover: a. The dwelling on the \"residence premises\" shown in the Declarations, including structures attached to the dwelling; and b. Materials and supplies located on or next to the \"residence premises\" used to construct, alter or repair the dwelling or other structures on the \"residence premises\".\"\n",
       "Relevancy: This excerpt is relevant because it establishes that the insurance policy covers the dwelling on the residence premises, which would include the ceiling that collapsed due to the pipe leak.\n",
       "\n",
       "Excerpt 2: \"We do not cover: a. Land, including land on which the other structures are located; b. Other structures rented or held for rental to any person not a tenant of the dwelling, unless used solely as a private garage; c. Other structures from which any \"business\" is conducted; or d. Other structures used to store \"business\" property.\"\n",
       "Relevancy: This excerpt is relevant because it specifies what the policy does not cover. In this case, the dwelling was rented out to a tenant, which could potentially affect the coverage. However, the policy does not explicitly state that it does not cover dwellings rented out to tenants.\n",
       "\n",
       "Excerpt 3: \"We cover personal property owned or used by an \"insured\" while it is anywhere in the world. After a loss and at your request, we will cover personal property owned by: a. Others while the property is on the part of the \"residence premises\" occupied by an \"insured\"; or b. A guest or a \"residence employee\", while the property is in any residence occupied by an \"insured\".\"\n",
       "Relevancy: This excerpt is relevant because it establishes that the policy covers personal property owned or used by the insured. However, it does not explicitly state that it covers damage to the dwelling caused by a tenant.\n",
       "\n",
       "Excerpt 4: \"Property Not Covered: We do not cover: a. Articles separately described and specifically insured, regardless of the limit for which they are insured, in this or other insurance; b. Animals, birds or fish; c. \"Motor vehicles\".\"\n",
       "Relevancy: This excerpt is relevant because it specifies what property is not covered by the policy. However, it does not explicitly state that it does not cover damage caused by a tenant.\n",
       "\n",
       "In conclusion, while the policy covers the dwelling and personal property owned or used by the insured, it does not explicitly state whether it covers damage caused by a tenant. Therefore, it is unclear whether this would be a covered claim. The insured may need to consult with their insurance provider for clarification."
      ],
      "text/plain": [
       "<IPython.core.display.Markdown object>"
      ]
     },
     "metadata": {},
     "output_type": "display_data"
    },
    {
     "data": {
      "text/markdown": [
       "Excerpt 1: \"2. Fair Rental Value If a loss covered under Section I makes that part of the \"residence premises\" rented to others or held for rental by you not fit to live in, we cover the fair rental value of such premises less any expenses that do not continue while it is not fit to live in. Payment will be for the shortest time required to repair or replace such premises.\"\n",
       "\n",
       "Relevancy: This excerpt is relevant because it outlines the coverage for rental properties. The insured's property was rented out at the time of the damage, so this clause could potentially apply. It states that if a covered loss makes the rented premises unfit to live in, the insurance will cover the fair rental value of the premises during the repair or replacement period.\n",
       "\n",
       "Excerpt 2: \"2. Reasonable Repairs a.We will pay the reasonable cost incurred by you for the necessary measures taken solely to protect covered property that is damaged by a Peril Insured Against from further damage.\"\n",
       "\n",
       "Relevancy: This excerpt is relevant because it states that the insurance will cover the cost of necessary measures taken to protect the property from further damage. This could potentially apply to the situation described in the question, as the pipe leak caused damage to the property.\n",
       "\n",
       "However, it's important to note that the policy does not explicitly state whether damage that was known by the tenant but not reported to the insured would be covered. This could potentially be a point of contention in determining whether this claim is covered."
      ],
      "text/plain": [
       "<IPython.core.display.Markdown object>"
      ]
     },
     "metadata": {},
     "output_type": "display_data"
    },
    {
     "data": {
      "text/markdown": [
       "Excerpt 1: \"We will pay up to $1,000 for your share of loss assessment charged during the policy period against you, as owner or tenant of the \"residence premises\", by a corporation or association of property owners. The assessment must be made as a result of direct loss to property, owned by all members collectively, of the type that would be covered by this policy if owned by you, caused by a Peril Insured Against under Coverage A, other than: (1)Earthquake; or (2)Land shock waves or tremors before, during or after a volcanic eruption.\"\n",
       "\n",
       "Relevancy: This excerpt is relevant because it outlines the conditions under which the insurance company will pay for a loss assessment charged against the policyholder. In this case, the policyholder is the owner of the residence premises and the loss is a result of direct damage to the property, which could potentially be covered under the policy.\n",
       "\n",
       "Excerpt 2: \"Collapse means an abrupt falling down or caving in of a building or any part of a building with the result that the building or part of the building cannot be occupied for its current intended purpose.\"\n",
       "\n",
       "Relevancy: This excerpt is relevant because it defines what constitutes a \"collapse\" under the policy. The situation described in the question involves a ceiling collapse, which would fall under this definition.\n",
       "\n",
       "Excerpt 3: \"We insure for direct physical loss to covered property involving collapse of a building or any part of a building if the collapse was caused by one or more of the following: (1)The Perils Insured Against named under Coverage C; (2)Decay that is hidden from view, unless the presence of such decay is known to an \"insured\" prior to collapse; (3)Insect or vermin damage that is hidden from view, unless the presence of such damage is known to an \"insured\" prior to collapse;\"\n",
       "\n",
       "Relevancy: This excerpt is relevant because it outlines the conditions under which the insurance company will cover a collapse. In this case, the collapse was caused by a pipe leak, which could be considered a \"Peril Insured Against\" under Coverage C. Additionally, the damage was hidden from the insured, which could potentially meet the conditions for coverage.\n",
       "\n",
       "Excerpt 4: \"We do not insure, however, for loss: a.Excluded under Section I – Exclusions; b.Involving collapse, except as provided in E.8. Collapse under Section I – Property Coverages; or c.Caused by: (1)Freezing of a plumbing, heating, air conditioning or automatic fire protective sprinkler system or of a household appliance, or by discharge, leakage or overflow from within the system or appliance caused by freezing.\"\n",
       "\n",
       "Relevancy: This excerpt is relevant because it outlines the exclusions to the policy's coverage. In this case, the damage was not caused by freezing, so this exclusion would not apply. However, the policyholder would need to review Section I – Exclusions to ensure that the damage is not excluded under any other provisions."
      ],
      "text/plain": [
       "<IPython.core.display.Markdown object>"
      ]
     },
     "metadata": {},
     "output_type": "display_data"
    },
    {
     "data": {
      "text/markdown": [
       "Excerpt 1: \"However, if the building is protected by an automatic fire protective sprinkler system, you must use reasonable care to continue the water supply and maintain heat in the building for coverage to apply.\"\n",
       "\n",
       "Relevancy: This excerpt is relevant because it establishes that the insured is expected to maintain the property, including the water supply and heating system, to ensure coverage. If the pipe leak was due to negligence in maintaining these systems, the claim might not be covered.\n",
       "\n",
       "Excerpt 2: \"For purposes of this provision, a plumbing system or household appliance does not include a sump, sump pump or related equipment or a roof drain, gutter, downspout or similar fixtures or equipment.\"\n",
       "\n",
       "Relevancy: This excerpt is relevant because it clarifies what is considered part of the plumbing system. If the pipe that leaked is part of the plumbing system as defined in the policy, the damage caused by the leak could be covered.\n",
       "\n",
       "Excerpt 3: \"We do insure for loss caused by mold, fungus or wet rot that is hidden within the walls or ceilings or beneath the floors or above the ceilings of a structure if such loss results from the accidental discharge or overflow of water or steam from within: (a) A plumbing, heating, air conditioning or automatic fire protective sprinkler system, or a household appliance, on the \"residence premises\"\n",
       "\n",
       "Relevancy: This excerpt is relevant because it establishes that the policy does cover damage caused by hidden water leaks from the plumbing system. If the pipe leak was hidden and caused the ceiling to collapse, this could be a covered claim.\n",
       "\n",
       "Excerpt 4: \"We do not cover loss to the system or appliance from which this water or steam escaped.\"\n",
       "\n",
       "Relevancy: This excerpt is relevant because it clarifies that while the damage caused by the leak may be covered, the cost to repair or replace the leaking pipe itself may not be covered.\n",
       "\n",
       "Excerpt 5: \"Under 2.b. and c. above, any ensuing loss to property described in Coverages A and B not precluded by any other provision in this policy is covered.\"\n",
       "\n",
       "Relevancy: This excerpt is relevant because it suggests that the ensuing damage to the property (in this case, the collapsed ceiling) could be covered, provided it is not excluded by any other provision in the policy. \n",
       "\n",
       "Excerpt 6: \"This peril does not include loss caused by theft: (2) In or to a dwelling under construction, or of materials and supplies for use in the construction until the dwelling is finished and occupied;\"\n",
       "\n",
       "Relevancy: This excerpt is relevant because it establishes that the policy does not cover loss in a dwelling under construction or unoccupied. If the insured's dwelling was considered unoccupied during the vacation, this could affect the coverage."
      ],
      "text/plain": [
       "<IPython.core.display.Markdown object>"
      ]
     },
     "metadata": {},
     "output_type": "display_data"
    },
    {
     "data": {
      "text/markdown": [
       "Excerpt 1: \"Accidental Discharge Or Overflow Of Water Or Steam a.This peril means accidental discharge or overflow of water or steam from within a plumbing, heating, air conditioning or automatic fire protective sprinkler system or from within a household appliance.\"\n",
       "\n",
       "Relevancy: This excerpt is relevant because it defines the peril of accidental discharge or overflow of water, which is what caused the damage in the insured's home. The pipe leak in the attic can be considered as an accidental discharge or overflow of water from within a plumbing system.\n",
       "\n",
       "Excerpt 2: \"This peril does not include loss: (1)To the system or appliance from which the water or steam escaped;\"\n",
       "\n",
       "Relevancy: This excerpt is relevant because it excludes loss to the system or appliance from which the water escaped. In this case, the pipe that leaked is not covered for repair or replacement.\n",
       "\n",
       "Excerpt 3: \"5. Neglect Neglect means neglect of an \"insured\" to use all reasonable means to save and preserve property at and after the time of a loss.\"\n",
       "\n",
       "Relevancy: This excerpt is relevant because it introduces the concept of \"neglect\". If the tenant was aware of the leak and did not take any action to prevent further damage, it could be argued that the tenant neglected to preserve the property. However, the policy does not specify whether the responsibility of \"neglect\" can be extended to a tenant.\n",
       "\n",
       "Excerpt 4: \"We do not insure for loss to property described in Coverages A and B caused by any of the following. However, any ensuing loss to property described in Coverages A and B not precluded by any other provision in this policy is covered.\"\n",
       "\n",
       "Relevancy: This excerpt is relevant because it outlines the general exclusions of the policy. If the damage caused by the pipe leak falls under any of these exclusions, the claim may not be covered. However, the policy also states that any ensuing loss not precluded by any other provision is covered. This could potentially include the damage caused by the collapsed ceiling. \n",
       "\n",
       "In conclusion, while the policy does cover accidental discharge or overflow of water, it does not cover the system from which the water escaped. The concept of \"neglect\" could potentially be applied to the tenant's inaction, but this would depend on the interpretation of the policy. The general exclusions of the policy could also potentially affect the coverage of the claim."
      ],
      "text/plain": [
       "<IPython.core.display.Markdown object>"
      ]
     },
     "metadata": {},
     "output_type": "display_data"
    },
    {
     "data": {
      "text/markdown": [
       "Excerpt 1: \"B. Duties After Loss In case of a loss to covered property, we have no duty to provide coverage under this policy if the failure to comply with the following duties is prejudicial to us. These duties must be performed either by you, an \"insured\" seeking coverage, or a representative of either: 1.Give prompt notice to us or our agent; 4.Protect the property from further damage. If repairs to the property are required, you must: a.Make reasonable and necessary repairs to protect the property;\"\n",
       "\n",
       "Relevancy: This excerpt is relevant because it outlines the duties of the insured after a loss. In this case, the insured was away and rented the dwelling to a tenant. The tenant was aware of the damage but did not inform the insured. The insured may not have been able to give prompt notice or protect the property from further damage due to lack of knowledge about the situation. This could potentially affect the coverage of the claim.\n",
       "\n",
       "Excerpt 2: \"C. Loss Settlement In this Condition C., the terms \"cost to repair or replace\" and \"replacement cost\" do not include the increased costs incurred to comply with the enforcement of any ordinance or law, except to the extent that coverage for these increased costs is provided in E.11. Ordinance Or Law under Section I – Property Coverages. Covered property losses are settled as follows: 2.Buildings covered under Coverage A or B at replacement cost without deduction for depreciation, subject to the following: a.If, at the time of loss, the amount of insurance in this policy on the damaged building is 80% or more of the full replacement cost of the building immediately before the loss, we will pay the cost to repair or replace, after application of any deductible and without deduction for depreciation, but not more than the least of the following amounts: (1)The limit of liability under this policy that applies to the building; (2)The replacement cost of that part of the building damaged with material of like kind and quality and for like use; or (3)The necessary amount actually spent to repair or replace the damaged building.\"\n",
       "\n",
       "Relevancy: This excerpt is relevant because it outlines how the insurance company will settle a loss. In this case, the insured's dwelling suffered significant damage due to a pipe leak. The insurance company will pay the cost to repair or replace the damaged building, but not more than the limit of liability under the policy, the replacement cost of the damaged part of the building, or the necessary amount actually spent to repair or replace the damaged building. This could potentially affect the amount the insured can claim for the damage."
      ],
      "text/plain": [
       "<IPython.core.display.Markdown object>"
      ]
     },
     "metadata": {},
     "output_type": "display_data"
    },
    {
     "data": {
      "text/markdown": [
       "Excerpt 1: \"If the building is rebuilt at a new premises, the cost described in (2) above is limited to the cost which would have been incurred if the building had been built at the original premises.\"\n",
       "\n",
       "Relevancy: This excerpt is relevant because it outlines the policy's coverage for rebuilding costs. If the insured decides to rebuild the damaged dwelling, the policy will cover the cost as if it were rebuilt at the original location. \n",
       "\n",
       "Excerpt 2: \"We will pay no more than the actual cash value of the damage until actual repair or replacement is complete. Once actual repair or replacement is complete, we will settle the loss as noted in 2.a. and b. above.\"\n",
       "\n",
       "Relevancy: This excerpt is relevant because it explains how the insurance company will pay for the damage. The company will pay the actual cash value of the damage until the repair or replacement is complete. \n",
       "\n",
       "Excerpt 3: \"You may disregard the replacement cost loss settlement provisions and make claim under this policy for loss to buildings on an actual cash value basis.\"\n",
       "\n",
       "Relevancy: This excerpt is relevant because it gives the insured the option to claim the loss on an actual cash value basis, which might be relevant depending on the extent of the damage and the cost of repair or replacement.\n",
       "\n",
       "Excerpt 4: \"No action can be brought against us unless there has been full compliance with all of the terms under Section I of this policy and the action is started within two years after the date of loss.\"\n",
       "\n",
       "Relevancy: This excerpt is relevant because it sets a time limit for the insured to bring a claim against the insurance company. The insured must comply with all the terms of the policy and start the action within two years after the date of loss.\n",
       "\n",
       "Excerpt 5: \"We provide coverage to no \"insureds\" under this policy if, whether before or after a loss, an \"insured\" has: 1. Intentionally concealed or misrepresented any material fact or circumstance;\"\n",
       "\n",
       "Relevancy: This excerpt is relevant because it states that the insurance company will not provide coverage if the insured has intentionally concealed or misrepresented any material fact or circumstance. In this case, the tenant was aware of the damage but the insured was not. If it can be proven that the insured was aware of the damage and did not report it, this could potentially affect the claim."
      ],
      "text/plain": [
       "<IPython.core.display.Markdown object>"
      ]
     },
     "metadata": {},
     "output_type": "display_data"
    },
    {
     "data": {
      "text/markdown": [
       "Excerpt 1: \"If the Declarations show a loss payee for certain listed insured personal property, the definition of \"insured\" is changed to include that loss payee with respect to that property.\"\n",
       "\n",
       "Relevancy: This excerpt is relevant because it explains who is considered an \"insured\" under the policy. If the tenant is listed as a loss payee, they would be considered an \"insured\" and the policy may cover the damage. \n",
       "\n",
       "Excerpt 2: \"If a claim is made or a suit is brought against an \"insured\" for damages because of \"bodily injury\" or \"property damage\" caused by an \"occurrence\" to which this coverage applies, we will: 1.Pay up to our limit of liability for the damages for which an \"insured\" is legally liable.\"\n",
       "\n",
       "Relevancy: This excerpt is relevant because it outlines the insurer's obligation to pay for damages caused by an \"occurrence\". The pipe leak could be considered an \"occurrence\" and the insurer may be obligated to pay for the damages. \n",
       "\n",
       "Excerpt 3: \"We may investigate and settle any claim or suit that we decide is appropriate. Our duty to settle or defend ends when our limit of liability for the \"occurrence\" has been exhausted by payment of a judgment or settlement.\"\n",
       "\n",
       "Relevancy: This excerpt is relevant because it explains the insurer's right to investigate and settle any claim. This could impact the insured's claim regarding the pipe leak and the resulting damage. \n",
       "\n",
       "Excerpt 4: \"We will pay the necessary medical expenses that are incurred or medically ascertained within three years from the date of an accident causing \"bodily injury\". \n",
       "\n",
       "Relevancy: This excerpt is not directly relevant to the question as it pertains to medical expenses and bodily injury, not property damage. However, it does provide context for the types of expenses the policy covers. \n",
       "\n",
       "Excerpt 5: \"Coverages E and F do not apply to any \"motor vehicle liability\" if, at the time and place of an \"occurrence\", the involved \"motor vehicle\": a.Is registered for use on public roads or property;\"\n",
       "\n",
       "Relevancy: This excerpt is not relevant to the question as it pertains to motor vehicle liability, not property damage caused by a pipe leak."
      ],
      "text/plain": [
       "<IPython.core.display.Markdown object>"
      ]
     },
     "metadata": {},
     "output_type": "display_data"
    },
    {
     "data": {
      "text/markdown": [
       "Excerpt 1: \"Coverages E and F do not apply to the following: 1. Expected Or Intended Injury \"Bodily injury\" or \"property damage\" which is expected or intended by an \"insured\" even if the resulting \"bodily injury\" or \"property damage\": a.Is of a different kind, quality or degree than initially expected or intended; or b.Is sustained by a different person, entity, real or personal property, than initially expected or intended.\"\n",
       "\n",
       "Relevancy: This excerpt is relevant because it states that the policy does not cover damage that was expected or intended by the insured. In the scenario, the tenant was aware of the damage, but it's unclear whether the insured was aware or expected the damage. If it can be proven that the insured was aware of the potential for damage and did nothing to prevent it, this clause could potentially be used to deny the claim.\n",
       "\n",
       "Excerpt 2: \"F. Coverage E – Personal Liability Coverage E does not apply to: 3.\"Property damage\" to property rented to, occupied or used by or in the care of an \"insured\". This exclusion does not apply to \"property damage\" caused by fire, smoke or explosion;\"\n",
       "\n",
       "Relevancy: This excerpt is relevant because it states that the policy does not cover property damage to property that is rented to, occupied, used by, or in the care of the insured. However, there is an exception for damage caused by fire, smoke, or explosion. In the scenario, the property was rented to a tenant and the damage was caused by a pipe leak, not by fire, smoke, or explosion. Therefore, this clause could potentially be used to deny the claim.\n",
       "\n",
       "Excerpt 3: \"2. \"Business\" a.\"Bodily injury\" or \"property damage\" arising out of or in connection with a \"business\" conducted from an \"insured location\" or engaged in by an \"insured\", whether or not the \"business\" is owned or operated by an \"in-sured\" or employs an \"insured\". This Exclusion E.2. applies but is not lim- ited to an act or omission, regardless of its nature or circumstance, involving a service or duty rendered, promised, owed, or im- plied to be provided because of the nature of the \"business\".\"\n",
       "\n",
       "Relevancy: This excerpt is relevant because it states that the policy does not cover property damage arising out of or in connection with a business conducted from an insured location. If the insured was renting out the property as a business, this clause could potentially be used to deny the claim. However, more information would be needed to determine if this is the case."
      ],
      "text/plain": [
       "<IPython.core.display.Markdown object>"
      ]
     },
     "metadata": {},
     "output_type": "display_data"
    },
    {
     "data": {
      "text/markdown": [
       "Excerpt 1: \"Coverage F does not apply to \"bodily injury\": 1. To a \"residence employee\" if the \"bodily injury\": a. Occurs off the \"insured location\"; and b. Does not arise out of or in the course of the \"residence employee's\" employment by an \"insured\";\"\n",
       "\n",
       "Relevancy: This excerpt is relevant because it outlines the conditions under which the insurance policy does not cover bodily injury. However, in the context of the question, it does not directly address the issue of property damage caused by a pipe leak.\n",
       "\n",
       "Excerpt 2: \"C. Damage To Property Of Others 1. We will pay, at replacement cost, up to $1,000 per \"occurrence\" for \"property damage\" to property of others caused by an \"insured\". 2. We will not pay for \"property damage\": a. To the extent of any amount recoverable under Section I; b. Caused intentionally by an \"insured\" who is 13 years of age or older; c. To property owned by an \"insured\"; d. To property owned by or rented to a tenant of an \"insured\" or a resident in your household;\"\n",
       "\n",
       "Relevancy: This excerpt is directly relevant to the question as it outlines the conditions under which the insurance policy covers property damage. Specifically, it states that the policy does not cover damage to property owned by or rented to a tenant of the insured. In the context of the question, this suggests that the damage caused by the pipe leak may not be covered by the insurance policy because the dwelling was rented to a tenant at the time of the incident.\n",
       "\n",
       "Excerpt 3: \"C. Duties After \"Occurrence\" In case of an \"occurrence\", you or another \"insured\" will perform the following duties that apply. We have no duty to provide coverage under this policy if your failure to comply with the following duties is prejudicial to us. You will help us by seeing that these duties are performed: 1. Give written notice to us or our agent as soon as is practical, which sets forth: a. The identity of the policy and the \"named insured\" shown in the Declarations; b. Reasonably available information on the time, place and circumstances of the \"occurrence\"; and c. Names and addresses of any claimants and witnesses;\"\n",
       "\n",
       "Relevancy: This excerpt is relevant because it outlines the insured's duties after an occurrence, including giving written notice to the insurance company as soon as practical. In the context of the question, this suggests that the insured may have a duty to report the pipe leak and the resulting damage to the insurance company."
      ],
      "text/plain": [
       "<IPython.core.display.Markdown object>"
      ]
     },
     "metadata": {},
     "output_type": "display_data"
    },
    {
     "data": {
      "text/markdown": [
       "Excerpt 1: \"This policy applies only to \"bodily injury\" or \"property damage\" which occurs during the policy period.\"\n",
       "Relevancy: This excerpt is relevant because it establishes the time frame for coverage. If the property damage occurred during the policy period, it may be covered.\n",
       "\n",
       "Excerpt 2: \"We do not provide coverage to an \"insured\" who, whether before or after a loss, has: 1. Intentionally concealed or misrepresented any material fact or circumstance; 2. Engaged in fraudulent conduct; or 3. Made false statements; relating to this insurance.\"\n",
       "Relevancy: This excerpt is relevant because it addresses the issue of concealment or misrepresentation. If the tenant intentionally concealed the damage from the insured, it could potentially impact the claim.\n",
       "\n",
       "Excerpt 3: \"You may cancel this policy at any time by returning it to us or by letting us know in writing of the date cancellation is to take effect.\"\n",
       "Relevancy: This excerpt is relevant because it establishes the insured's right to cancel the policy. If the insured had cancelled the policy while on vacation, the damage may not be covered.\n",
       "\n",
       "Excerpt 4: \"If there has been a material misrepresentation of fact which if known to us would have caused us not to issue the policy; or (2) If the risk has changed substantially since the policy was issued.\"\n",
       "Relevancy: This excerpt is relevant because it addresses the issue of material misrepresentation and change in risk. If the insured did not inform the insurance company about renting the dwelling to a tenant, it could be considered a material misrepresentation or a substantial change in risk, which could impact the claim.\n",
       "\n",
       "Excerpt 5: \"We insure the legal representative of the deceased but only with respect to the premises and property of the deceased covered under the policy at the time of death; and 2.\"Insured\" includes: a. An \"insured\" who is a member of your household at the time of your death, but only while a resident of the \"residence premises\"; and b. With respect to your property, the person having proper temporary custody of the property until appointment and qualification of a legal representative.\"\n",
       "Relevancy: This excerpt is relevant because it defines who is considered an \"insured\" under the policy. If the tenant is considered an \"insured\", the claim could potentially be covered."
      ],
      "text/plain": [
       "<IPython.core.display.Markdown object>"
      ]
     },
     "metadata": {},
     "output_type": "display_data"
    }
   ],
   "source": [
    "for i in range(len(all_res)):\n",
    "    display(Markdown(f\"{all_res[i]}\"))"
   ]
  },
  {
   "cell_type": "code",
   "execution_count": 117,
   "metadata": {},
   "outputs": [
    {
     "data": {
      "text/markdown": [
       "Excerpt 1: \"We will pay up to $1,000 for your share of loss assessment charged during the policy period against you, as owner or tenant of the \"residence premises\", by a corporation or association of property owners. The assessment must be made as a result of direct loss to property, owned by all members collectively, of the type that would be covered by this policy if owned by you, caused by a Peril Insured Against under Coverage A, other than: (1)Earthquake; or (2)Land shock waves or tremors before, during or after a volcanic eruption.\"\n",
       "\n",
       "Relevancy: This excerpt is relevant because it outlines the conditions under which the insurance company will pay for a loss assessment charged against the policyholder. In this case, the policyholder is the owner of the residence premises and the loss is a result of direct damage to the property, which could potentially be covered under the policy.\n",
       "\n",
       "Excerpt 2: \"Collapse means an abrupt falling down or caving in of a building or any part of a building with the result that the building or part of the building cannot be occupied for its current intended purpose.\"\n",
       "\n",
       "Relevancy: This excerpt is relevant because it defines what constitutes a \"collapse\" under the policy. The situation described in the question involves a ceiling collapse, which would fall under this definition.\n",
       "\n",
       "Excerpt 3: \"We insure for direct physical loss to covered property involving collapse of a building or any part of a building if the collapse was caused by one or more of the following: (1)The Perils Insured Against named under Coverage C; (2)Decay that is hidden from view, unless the presence of such decay is known to an \"insured\" prior to collapse; (3)Insect or vermin damage that is hidden from view, unless the presence of such damage is known to an \"insured\" prior to collapse;\"\n",
       "\n",
       "Relevancy: This excerpt is relevant because it outlines the conditions under which the insurance company will cover a collapse. In this case, the collapse was caused by a pipe leak, which could be considered a \"Peril Insured Against\" under Coverage C. Additionally, the damage was hidden from the insured, which could potentially meet the conditions for coverage.\n",
       "\n",
       "Excerpt 4: \"We do not insure, however, for loss: a.Excluded under Section I – Exclusions; b.Involving collapse, except as provided in E.8. Collapse under Section I – Property Coverages; or c.Caused by: (1)Freezing of a plumbing, heating, air conditioning or automatic fire protective sprinkler system or of a household appliance, or by discharge, leakage or overflow from within the system or appliance caused by freezing.\"\n",
       "\n",
       "Relevancy: This excerpt is relevant because it outlines the exclusions to the policy's coverage. In this case, the damage was not caused by freezing, so this exclusion would not apply. However, the policyholder would need to review Section I – Exclusions to ensure that the damage is not excluded under any other provisions."
      ],
      "text/plain": [
       "<IPython.core.display.Markdown object>"
      ]
     },
     "execution_count": 117,
     "metadata": {},
     "output_type": "execute_result"
    }
   ],
   "source": [
    "Markdown(f\"{all_res[3]}\")"
   ]
  },
  {
   "cell_type": "code",
   "execution_count": 118,
   "metadata": {},
   "outputs": [],
   "source": [
    "final_chain = LLMChain(\n",
    "    llm=llm,\n",
    "    prompt=FINAL_PROMPT\n",
    ")\n",
    "\n",
    "outline_text = \"\\n\".join(all_res)"
   ]
  },
  {
   "cell_type": "code",
   "execution_count": 119,
   "metadata": {},
   "outputs": [],
   "source": [
    "final_res = final_chain.predict(text=outline_text, question=question)"
   ]
  },
  {
   "attachments": {},
   "cell_type": "markdown",
   "metadata": {},
   "source": [
    "## GPT-4:"
   ]
  },
  {
   "cell_type": "code",
   "execution_count": 120,
   "metadata": {},
   "outputs": [
    {
     "data": {
      "text/markdown": [
       "Facts of Loss:\n",
       "The insured was away on vacation and rented the dwelling to a tenant. During this time, a pipe in the attic leaked, causing the ceiling to collapse and resulting in significant damage. The tenant was aware of the damage, but the insured was not informed until he returned home.\n",
       "\n",
       "Coverage Issue:\n",
       "The main issue is whether the insurance policy covers the damage caused by the pipe leak and subsequent ceiling collapse, given that the tenant was aware of the damage but did not inform the insured.\n",
       "\n",
       "Analysis:\n",
       "Policy Excerpts:\n",
       "1. \"We will provide the insurance described in this policy in return for the premium and compliance with all applicable provisions of this policy.\"\n",
       "2. \"8.\"Occurrence\" means an accident, including continuous or repeated exposure to substantially the same general harmful conditions, which results, during the policy period, in: a.\"Bodily injury\"; or b.\"Property damage\".\"\n",
       "3. \"9.\"Property damage\" means physical injury to, destruction of, or loss of use of tangible property.\"\n",
       "4. \"h.Any part of a premises occasionally rented to an \"insured\" for other than \"business\" use.\"\n",
       "\n",
       "Applications:\n",
       "The policy provides coverage for property damage resulting from an \"occurrence\", which could include the pipe leak and ceiling collapse. However, the policy also requires compliance with all applicable provisions, which could potentially include the tenant's responsibility to report the damage. The policy does cover premises occasionally rented for non-business use, which could apply to this situation. However, the policy does not explicitly state whether it covers damages that were known by the tenant but not reported to the insured.\n",
       "\n",
       "Takeaway:\n",
       "The most important policy section for this question is the provision that covers premises occasionally rented for non-business use. This provision could potentially apply to the insured's situation. However, the policy does not explicitly state whether it covers damages that were known by the tenant but not reported to the insured. This could be a point of contention in determining whether the claim is covered.\n",
       "\n",
       "Knowledge Gaps:\n",
       "1. Does the policy have any provisions regarding the responsibilities of tenants?\n",
       "2. Does the policy have any exclusions that could potentially apply to this situation?\n",
       "3. How does the policy define \"compliance with all applicable provisions\"? Does this include the tenant's responsibility to report damage?"
      ],
      "text/plain": [
       "<IPython.core.display.Markdown object>"
      ]
     },
     "execution_count": 120,
     "metadata": {},
     "output_type": "execute_result"
    }
   ],
   "source": [
    "Markdown(f\"{final_res}\")"
   ]
  },
  {
   "cell_type": "code",
   "execution_count": 121,
   "metadata": {},
   "outputs": [],
   "source": [
    "question = \"\"\"\n",
    "    The insured rented the home through AirB&B for several months. When the tenants moved out\n",
    "    he found they had converted the dwelling into a marijuana grow operation. This resulted in water damage and an\n",
    "    electrical fire. Is there coverage for the dwelling dweling damage, and do any named perils apply to the personal property damage?\n",
    "\"\"\""
   ]
  },
  {
   "cell_type": "code",
   "execution_count": 122,
   "metadata": {},
   "outputs": [],
   "source": [
    "from langchain.chat_models import ChatOpenAI\n",
    "\n",
    "llm = ChatOpenAI(model=\"gpt-3.5-turbo\", temperature=0)\n",
    "llm_chain = LLMChain(\n",
    "    llm=llm,\n",
    "    prompt=OUTLINE_PROMPT\n",
    ")\n",
    "\n",
    "all_res = []\n",
    "for i in range(len(policy_chunks)):\n",
    "    res = llm_chain.predict(text=policy_chunks[i], question=question)\n",
    "    all_res.append(res)"
   ]
  },
  {
   "cell_type": "code",
   "execution_count": 125,
   "metadata": {},
   "outputs": [
    {
     "data": {
      "text/markdown": [
       "Excerpt 8a: \"Collapse means an abrupt falling down or caving in of a building or any part of a building with the result that the building or part of the building cannot be occupied for its current intended purpose.\"\n",
       "Relevancy: This excerpt defines what constitutes a collapse, which is important in determining whether the damage caused by the marijuana grow operation would be covered under the policy.\n",
       "\n",
       "Excerpt 8b: \"We insure for direct physical loss to covered property involving collapse of a building or any part of a building if the collapse was caused by one or more of the following: (1) The Perils Insured Against named under Coverage C...\"\n",
       "Relevancy: This excerpt states that coverage for collapse is provided if it is caused by one of the named perils under Coverage C. It is relevant in determining whether the damage caused by the marijuana grow operation would be covered.\n",
       "\n",
       "Excerpt 11a: \"You may use up to 10% of the limit of liability that applies to Coverage A for the increased costs you incur due to the enforcement of any ordinance or law which requires or regulates: (1) The construction, demolition, remodeling, renovation or repair of that part of a covered building or other structure damaged by a Peril Insured Against...\"\n",
       "Relevancy: This excerpt explains that the policy provides coverage for increased costs due to the enforcement of any ordinance or law related to the construction, demolition, remodeling, renovation, or repair of a covered building damaged by a named peril. It is relevant in determining whether the costs of repairing the water damage and electrical fire caused by the marijuana grow operation would be covered.\n",
       "\n",
       "Excerpt 12: \"We will pay up to $5,000 for grave markers, including mausoleums, on or away from the 'residence premises' for loss caused by a Peril Insured Against under Coverage C.\"\n",
       "Relevancy: This excerpt specifies coverage for grave markers, but it is not directly relevant to the question about coverage for dwelling damage or personal property damage caused by the marijuana grow operation."
      ],
      "text/plain": [
       "<IPython.core.display.Markdown object>"
      ]
     },
     "execution_count": 125,
     "metadata": {},
     "output_type": "execute_result"
    }
   ],
   "source": [
    "Markdown(f\"{all_res[3]}\")"
   ]
  },
  {
   "cell_type": "code",
   "execution_count": 123,
   "metadata": {},
   "outputs": [],
   "source": [
    "outline_text = \"\\n\".join(all_res)"
   ]
  },
  {
   "cell_type": "code",
   "execution_count": 124,
   "metadata": {},
   "outputs": [],
   "source": [
    "final_chain = LLMChain(\n",
    "    llm=ChatOpenAI(model=\"gpt-3.5-turbo-16k-0613\", temperature=0),\n",
    "    prompt=FINAL_PROMPT\n",
    ")\n",
    "final_res = final_chain.predict(text=outline_text[:15000], question=question)"
   ]
  },
  {
   "cell_type": "code",
   "execution_count": 126,
   "metadata": {},
   "outputs": [
    {
     "data": {
      "text/markdown": [
       "Facts of Loss:\n",
       "- The insured rented the home through AirB&B for several months.\n",
       "- The tenants converted the dwelling into a marijuana grow operation.\n",
       "- This resulted in water damage and an electrical fire.\n",
       "\n",
       "Coverage Issue:\n",
       "- Is there coverage for the dwelling damage caused by the water damage and electrical fire?\n",
       "- Do any named perils apply to the personal property damage?\n",
       "\n",
       "Analysis:\n",
       "- Policy excerpts:\n",
       "  - Excerpt 1: \"Coverage A – Dwelling\"\n",
       "    - Coverage for the dwelling on the \"residence premises\" shown in the Declarations.\n",
       "    - Covers structures attached to the dwelling and materials and supplies used to construct, alter, or repair the dwelling or other structures on the \"residence premises.\"\n",
       "  - Excerpt 2: \"Coverage B – Other Structures\"\n",
       "    - Coverage for other structures on the \"residence premises\" set apart from the dwelling by clear space.\n",
       "    - Structures connected to the dwelling by only a fence, utility line, or similar connection are covered.\n",
       "  - Excerpt 3: \"Coverage C – Personal Property\"\n",
       "    - Coverage for personal property owned or used by an \"insured\" anywhere in the world.\n",
       "    - Personal property owned by others while on the part of the \"residence premises\" occupied by an \"insured\" or by a guest or \"residence employee\" in any residence occupied by an \"insured\" can be covered.\n",
       "  - Excerpt 4: \"Special Limits Of Liability\"\n",
       "    - Specific limits for different categories of personal property.\n",
       "    - Limits for money, securities, watercraft, jewelry, firearms, silverware, property used for \"business\" purposes, and electronic apparatus and accessories.\n",
       "\n",
       "- Applications:\n",
       "  - Excerpt 1: Coverage A – Dwelling\n",
       "    - This coverage may apply to the dwelling damage caused by the water damage and electrical fire.\n",
       "  - Excerpt 2: Coverage B – Other Structures\n",
       "    - This coverage may apply to any other structures on the \"residence premises\" that were damaged.\n",
       "  - Excerpt 3: Coverage C – Personal Property\n",
       "    - This coverage may apply to the personal property damage caused by the tenants' conversion of the dwelling into a marijuana grow operation.\n",
       "  - Excerpt 4: Special Limits Of Liability\n",
       "    - The limits specified in this excerpt may be important in determining the coverage for the personal property damage caused by the marijuana grow operation.\n",
       "\n",
       "Takeaway:\n",
       "- The most important policy section for the question is \"Coverage A – Dwelling\" as it specifically addresses coverage for the dwelling damage caused by the water damage and electrical fire.\n",
       "\n",
       "TODO: None."
      ],
      "text/plain": [
       "<IPython.core.display.Markdown object>"
      ]
     },
     "execution_count": 126,
     "metadata": {},
     "output_type": "execute_result"
    }
   ],
   "source": [
    "Markdown(f\"{final_res}\")"
   ]
  },
  {
   "cell_type": "code",
   "execution_count": 127,
   "metadata": {},
   "outputs": [],
   "source": [
    "llm = ChatOpenAI(model=\"gpt-4\", temperature=0)\n",
    "llm_chain = LLMChain(\n",
    "    llm=llm,\n",
    "    prompt=OUTLINE_PROMPT\n",
    ")\n",
    "\n",
    "all_res = []\n",
    "for i in range(len(policy_chunks)):\n",
    "    res = llm_chain.predict(text=policy_chunks[i], question=question)\n",
    "    all_res.append(res)\n"
   ]
  },
  {
   "cell_type": "code",
   "execution_count": 128,
   "metadata": {},
   "outputs": [
    {
     "data": {
      "text/markdown": [
       "Excerpt 1: \"We will pay up to $1,000 for your share of loss assessment charged during the policy period against you, as owner or tenant of the \"residence premises\", by a corporation or association of property owners. The assessment must be made as a result of direct loss to property, owned by all members collectively, of the type that would be covered by this policy if owned by you, caused by a Peril Insured Against under Coverage A, other than: (1)Earthquake; or (2)Land shock waves or tremors before, during or after a volcanic eruption.\"\n",
       "\n",
       "Relevance: This excerpt is relevant because it outlines the policy's coverage for loss assessment charged against the policyholder due to direct loss to property. However, the policy does not specify whether damage caused by illegal activities (such as a marijuana grow operation) is considered a \"Peril Insured Against under Coverage A\". \n",
       "\n",
       "Excerpt 2: \"We insure for direct physical loss to covered property involving collapse of a building or any part of a building if the collapse was caused by one or more of the following: (1)The Perils Insured Against named under Coverage C; (2)Decay that is hidden from view, unless the presence of such decay is known to an \"insured\" prior to collapse; (3)Insect or vermin damage that is hidden from view, unless the presence of such damage is known to an \"insured\" prior to collapse; (4)Weight of contents, equipment, animals or people; (5)Weight of rain which collects on a roof; or (6)Use of defective material or methods in construction, remodeling or renovation if the collapse occurs during the course of the construction, remodeling or renovation.\"\n",
       "\n",
       "Relevance: This excerpt is relevant because it outlines the policy's coverage for direct physical loss to covered property involving collapse of a building. However, it does not specify whether damage caused by illegal activities (such as a marijuana grow operation) is considered a \"Peril Insured Against under Coverage C\". \n",
       "\n",
       "Excerpt 3: \"We do not cover assessments charged against you or a corporation or association of property owners by any governmental body.\"\n",
       "\n",
       "Relevance: This excerpt is relevant because it specifies that the policy does not cover assessments charged against the policyholder by any governmental body. This could potentially apply if the policyholder is fined or otherwise financially penalized by a governmental body due to the illegal marijuana grow operation. \n",
       "\n",
       "Excerpt 4: \"We do not insure, however, for loss: a.Excluded under Section I – Exclusions; b.Involving collapse, except as provided in E.8. Collapse under Section I – Property Coverages; or c.Caused by: (1)Freezing of a plumbing, heating, air conditioning or automatic fire protective sprinkler system or of a household appliance, or by discharge, leakage or overflow from within the system or appliance caused by freezing.\"\n",
       "\n",
       "Relevance: This excerpt is relevant because it outlines some of the exclusions to the policy's coverage. However, it does not specify whether damage caused by illegal activities (such as a marijuana grow operation) is excluded from coverage."
      ],
      "text/plain": [
       "<IPython.core.display.Markdown object>"
      ]
     },
     "execution_count": 128,
     "metadata": {},
     "output_type": "execute_result"
    }
   ],
   "source": [
    "Markdown(f\"{all_res[3]}\")"
   ]
  },
  {
   "cell_type": "code",
   "execution_count": 129,
   "metadata": {},
   "outputs": [],
   "source": [
    "outline_text = \"\\n\".join(all_res)"
   ]
  },
  {
   "cell_type": "code",
   "execution_count": 130,
   "metadata": {},
   "outputs": [],
   "source": [
    "final_chain = LLMChain(\n",
    "    llm=llm,\n",
    "    prompt=FINAL_PROMPT\n",
    ")\n",
    "final_res = final_chain.predict(text=outline_text, question=question)"
   ]
  },
  {
   "cell_type": "code",
   "execution_count": 131,
   "metadata": {},
   "outputs": [
    {
     "data": {
      "text/markdown": [
       "Facts of Loss:\n",
       "The insured rented out their home through AirB&B for several months. The tenants converted the dwelling into a marijuana grow operation, which resulted in water damage and an electrical fire. \n",
       "\n",
       "Coverage Issue:\n",
       "The question is whether the insurance policy covers the dwelling damage and whether any named perils apply to the personal property damage caused by the tenants' marijuana grow operation.\n",
       "\n",
       "Analysis:\n",
       "Policy Excerpts:\n",
       "1. \"DEFINITIONS A.In this policy, \"you\" and \"your\" refer to the \"named insured\" shown in the Declarations and the spouse if a resident of the same household. \"We\", \"us\" and \"our\" refer to the Company providing this insurance.\"\n",
       "2. \"3.\"Business\" means: a.A trade, profession or occupation engaged in on a full-time, part-time or occasional basis; or b.Any other activity engaged in for money or other compensation, except the following: (1)One or more activities, not described in(2) through (4) below, for which no \"insured\" receives more than $2,000 in total compensation for the 12 months before the beginning of the policy period;\"\n",
       "3. \"6.\"Insured location\" means: a.The \"residence premises\"; b.The part of other premises, other structures and grounds used by you as a residence; and (1)Which is shown in the Declarations; or (2)Which is acquired by you during the policy period for your use as a residence;\"\n",
       "4. \"8.\"Occurrence\" means an accident, including continuous or repeated exposure to substantially the same general harmful conditions, which results, during the policy period, in: a.\"Bodily injury\"; or b.\"Property damage\".\"\n",
       "5. \"9.\"Property damage\" means physical injury to, destruction of, or loss of use of tangible property.\"\n",
       "6. \"h.Any part of a premises occasionally rented to an \"insured\" for other than \"business\" use.\"\n",
       "\n",
       "Applications:\n",
       "The policy defines the insured as the person who rented out their home through AirB&B. The insured's activity of renting out their home could potentially be considered a business activity, which may affect the coverage. The home that was rented out and subsequently damaged would fall under the definition of an \"insured location\". The water damage and electrical fire caused by the tenants' marijuana grow operation could potentially be considered an \"occurrence\" that results in property damage. The policy also specifies that a premises occasionally rented for non-business use is considered an \"insured location\". This could potentially apply to the insured's situation, depending on whether the rental through AirB&B is considered a business activity.\n",
       "\n",
       "Takeaway:\n",
       "The most important policy section for this question is the definition of \"occurrence\" and \"property damage\". If the water damage and electrical fire can be considered an \"occurrence\" that results in \"property damage\", then the policy may cover the damages. However, the determination of coverage may also depend on whether the rental through AirB&B is considered a business activity.\n",
       "\n",
       "Knowledge Gaps:\n",
       "The policy does not explicitly state whether damage caused by illegal activities, such as a marijuana grow operation, is covered. Further information would be needed to determine whether such activities are covered or excluded under the policy."
      ],
      "text/plain": [
       "<IPython.core.display.Markdown object>"
      ]
     },
     "execution_count": 131,
     "metadata": {},
     "output_type": "execute_result"
    }
   ],
   "source": [
    "Markdown(f\"{final_res}\")"
   ]
  },
  {
   "cell_type": "code",
   "execution_count": null,
   "metadata": {},
   "outputs": [],
   "source": []
  },
  {
   "attachments": {},
   "cell_type": "markdown",
   "metadata": {},
   "source": [
    "* Wrap up the above logic into a function"
   ]
  },
  {
   "cell_type": "code",
   "execution_count": null,
   "metadata": {},
   "outputs": [],
   "source": []
  },
  {
   "cell_type": "code",
   "execution_count": 146,
   "metadata": {},
   "outputs": [],
   "source": [
    "from langchain import PromptTemplate, LLMChain\n",
    "from langchain.chat_models import ChatOpenAI\n",
    "from langchain.prompts import PromptTemplate\n",
    "from langchain.text_splitter import CharacterTextSplitter\n",
    "from llama_index import SimpleDirectoryReader\n",
    "\n",
    "def get_policy_chunks(file_path: str):\n",
    "    policy_docs = SimpleDirectoryReader(input_files=[file_path]).load_data()\n",
    "    text_splitter = CharacterTextSplitter.from_tiktoken_encoder(chunk_size=2000, chunk_overlap=0, separator=\"\\n\\n\")\n",
    "\n",
    "    docs = []\n",
    "    for i in range(len(policy_docs)):\n",
    "        doc = policy_docs[i].text\n",
    "        docs.append(doc)\n",
    "\n",
    "    policy_text = \"\\n\\n\".join(docs)\n",
    "    policy_chunks = text_splitter.split_text(policy_text)\n",
    "    return policy_chunks\n",
    "\n",
    "def generate_policy_analysis(file_path: str, question: str) -> str:\n",
    "    \"\"\"\n",
    "    Generate a policy analysis based on the given file path and question.\n",
    "\n",
    "    This function reads the policy document from the given file path, splits it into chunks, and then uses\n",
    "    a language model to generate a policy analysis based on the given question. The analysis is returned as a string.\n",
    "\n",
    "    Args:\n",
    "        file_path (str): The path to the policy document.\n",
    "        question (str): The question to base the analysis on.\n",
    "\n",
    "    Returns:\n",
    "        str: The generated policy analysis.\n",
    "    \"\"\"\n",
    "    \n",
    "    policy_chunks = get_policy_chunks(file_path=file_path)\n",
    "\n",
    "    outline_prompt_string = \"\"\"Context: {text}\n",
    "    As an expert legal analyst, review the Context which is part of an insurance policy document related to the question.\n",
    "    {question}\n",
    "\n",
    "    Identify Context excerpts that are of material importance to the question. \n",
    "    For excerpts indentified, explain their relevancy to the question.\n",
    "    \"\"\"\n",
    "\n",
    "    OUTLINE_PROMPT = PromptTemplate(input_variables=[\"text\", \"question\"], template=outline_prompt_string)\n",
    "\n",
    "    final_prompt_string = \"\"\"Context: {text}\n",
    "    As an experienced legal analyst, use the Context and the question:\n",
    "    {question}\n",
    "\n",
    "    Compose a case brief using only the Context. \n",
    "    Working step by step, organize the Context into a well-structured \n",
    "    outline with the following sections:\n",
    "\n",
    "    Facts of Loss: a concise sumary of facts and events relevant to this claim.\n",
    "    Coverage Issue: [the facts of the coverage question]\n",
    "    Analysis: subsections\n",
    "       [\"Policy excerpts\": excerpts from the most relevant policy subsections, \n",
    "       \"Applications\": explanation of how the policy excerpt impacts the question]\n",
    "    Takeaway: the most important policy section for the question.\n",
    "    TODO: optional list of knowledge gaps, or follow-up questions.\n",
    "    \"\"\"\n",
    "    FINAL_PROMPT = PromptTemplate(input_variables=[\"text\", \"question\"], template=final_prompt_string)\n",
    "\n",
    "    llm = ChatOpenAI(model=\"gpt-4\", temperature=0)\n",
    "\n",
    "    policy_excerpt_chain = LLMChain(\n",
    "        llm=llm,\n",
    "        prompt=OUTLINE_PROMPT\n",
    "    )\n",
    "\n",
    "    all_res = []\n",
    "    for i in range(len(policy_chunks)):\n",
    "        res = policy_excerpt_chain.predict(text=policy_chunks[i], question=question)\n",
    "        all_res.append(res)\n",
    "\n",
    "    outline_text = \"\\n\\n\".join(all_res)\n",
    "\n",
    "    final_chain = LLMChain(\n",
    "        llm=llm,\n",
    "        prompt=FINAL_PROMPT\n",
    "    )\n",
    "\n",
    "    final_res = final_chain.predict(text=outline_text, question=question)\n",
    "    \n",
    "    return final_res"
   ]
  },
  {
   "cell_type": "code",
   "execution_count": 19,
   "metadata": {},
   "outputs": [],
   "source": [
    "file_path = './data//HO3_sample.pdf'\n",
    "\n",
    "question = \"\"\"\n",
    "    Lack of ventalation in the attic caused exsessive moisture build up resulting in mold damage. Engineer report confirmed the cause is \n",
    "    due to faulty workmanship. Is this a covered claim?\n",
    "\"\"\""
   ]
  },
  {
   "cell_type": "code",
   "execution_count": 134,
   "metadata": {},
   "outputs": [],
   "source": [
    "from src_index.token_catcher import Usage"
   ]
  },
  {
   "cell_type": "code",
   "execution_count": 148,
   "metadata": {},
   "outputs": [
    {
     "data": {
      "text/plain": [
       "29974"
      ]
     },
     "execution_count": 148,
     "metadata": {},
     "output_type": "execute_result"
    }
   ],
   "source": [
    "usage = Usage()\n",
    "result = generate_policy_analysis(file_path, question)\n",
    "usage.total_tokens()"
   ]
  },
  {
   "cell_type": "code",
   "execution_count": 145,
   "metadata": {},
   "outputs": [
    {
     "data": {
      "text/plain": [
       "0.89097"
      ]
     },
     "execution_count": 145,
     "metadata": {},
     "output_type": "execute_result"
    }
   ],
   "source": [
    "29699/1000*0.03"
   ]
  },
  {
   "cell_type": "code",
   "execution_count": 149,
   "metadata": {},
   "outputs": [
    {
     "data": {
      "text/markdown": [
       "Facts of Loss: The insured has filed a claim for mold damage in the attic of their property. The mold damage was caused by excessive moisture build-up due to a lack of ventilation in the attic. An engineer's report confirmed that the cause of the moisture build-up was faulty workmanship.\n",
       "\n",
       "Coverage Issue: The question is whether the mold damage caused by faulty workmanship and lack of ventilation in the attic is a covered claim under the insured's policy.\n",
       "\n",
       "Analysis: \n",
       "Policy Excerpts:\n",
       "1. \"We will provide the insurance described in this policy in return for the premium and compliance with all applicable provisions of this policy.\"\n",
       "2. \"8.\"Occurrence\" means an accident, including continuous or repeated exposure to substantially the same general harmful conditions, which results, during the policy period, in: a.\"Bodily injury\"; or b.\"Property damage\".\"\n",
       "3. \"9.\"Property damage\" means physical injury to, destruction of, or loss of use of tangible property.\"\n",
       "4. \"SECTION I – PROPERTY COVERAGES A. Coverage A – Dwelling 1.We cover: a.The dwelling on the \"residence premises\" shown in the Declarations, including structures attached to the dwelling; and b.Materials and supplies located on or next to the \"residence premises\" used to construct, alter or repair the dwelling or other structures on the \"residence premises\".\"\n",
       "\n",
       "Applications:\n",
       "1. The policy provides insurance coverage in return for the premium and compliance with all applicable provisions of the policy. This indicates that the insured must comply with all the policy's provisions for the claim to be covered.\n",
       "2. The policy defines an \"occurrence\" as an accident, including continuous or repeated exposure to substantially the same general harmful conditions, resulting in property damage. If the mold damage can be considered as \"property damage\" resulting from \"continuous or repeated exposure to substantially the same general harmful conditions\", then it might be covered under the policy.\n",
       "3. The policy defines \"property damage\" as physical injury to, destruction of, or loss of use of tangible property. If the mold damage can be considered as \"physical injury to, destruction of, or loss of use of tangible property\", then it might be covered under the policy.\n",
       "4. The policy covers the dwelling on the residence premises, including structures attached to the dwelling. The mold damage caused by excessive moisture build-up due to faulty workmanship could potentially fall under this coverage, as it is damage to the dwelling itself.\n",
       "\n",
       "Takeaway: The most important policy sections for this question are the definitions of \"occurrence\" and \"property damage\", and the coverage for the dwelling. These sections could potentially provide coverage for the mold damage claim, depending on the specific provisions of the policy.\n",
       "\n",
       "TODO: \n",
       "1. Review the full policy document to determine if there are any specific exclusions or conditions related to mold damage or damage resulting from faulty workmanship.\n",
       "2. Consult with the insurance company for clarification on whether the mold damage caused by faulty workmanship and lack of ventilation in the attic is a covered claim.\n",
       "3. Review the engineer's report to determine if there are any additional factors that could impact the coverage of the claim."
      ],
      "text/plain": [
       "<IPython.core.display.Markdown object>"
      ]
     },
     "execution_count": 149,
     "metadata": {},
     "output_type": "execute_result"
    }
   ],
   "source": [
    "Markdown(f\"{result}\")"
   ]
  },
  {
   "cell_type": "code",
   "execution_count": null,
   "metadata": {},
   "outputs": [],
   "source": []
  },
  {
   "cell_type": "code",
   "execution_count": 16,
   "metadata": {},
   "outputs": [],
   "source": [
    "from llama_index import SimpleDirectoryReader, ServiceContext, ListIndex, StorageContext, VectorStoreIndex\n",
    "from llama_index.node_parser import SimpleNodeParser"
   ]
  },
  {
   "cell_type": "code",
   "execution_count": 2,
   "metadata": {},
   "outputs": [],
   "source": [
    "policy_docs = SimpleDirectoryReader(input_files=['./data//HO3_sample.pdf']).load_data()"
   ]
  },
  {
   "cell_type": "code",
   "execution_count": 6,
   "metadata": {},
   "outputs": [],
   "source": [
    "parser = SimpleNodeParser.from_defaults(\n",
    "    chunk_size=3000,\n",
    ")"
   ]
  },
  {
   "cell_type": "code",
   "execution_count": 14,
   "metadata": {},
   "outputs": [],
   "source": [
    "storage_context = StorageContext.from_defaults()"
   ]
  },
  {
   "cell_type": "code",
   "execution_count": 7,
   "metadata": {},
   "outputs": [],
   "source": [
    "nodes = parser.get_nodes_from_documents(policy_docs)"
   ]
  },
  {
   "cell_type": "code",
   "execution_count": 15,
   "metadata": {},
   "outputs": [],
   "source": [
    "storage_context.docstore.add_documents(nodes)"
   ]
  },
  {
   "cell_type": "code",
   "execution_count": 8,
   "metadata": {},
   "outputs": [
    {
     "data": {
      "text/plain": [
       "(22, 22)"
      ]
     },
     "execution_count": 8,
     "metadata": {},
     "output_type": "execute_result"
    }
   ],
   "source": [
    "len(policy_docs), len(nodes)"
   ]
  },
  {
   "cell_type": "code",
   "execution_count": 9,
   "metadata": {},
   "outputs": [
    {
     "data": {
      "text/plain": [
       "'HOMEOWNERS\\nHO 00 03 10 00\\nHO 00 03 10 00 Copyright, Insurance Services Office, Inc., 1999 Page 1 of 22HOMEOWNERS 3 – SPECIAL FORM\\nAGREEMENT\\nWe will provide the insurance described in this policy\\nin return for the premium and compliance with allapplicable provisions of this policy.\\nDEFINITIONS\\nA.In this policy, \"you\" and \"your\" refer to the \"named\\ninsured\" shown in the Declarations and the spouseif a resident of the same household. \"We\", \"us\"and \"our\" refer to the Company providing this in-surance.\\nB.In addition, certain words and phrases are definedas follows:\\n1.\"Aircraft Liability\", \"Hovercraft Liability\", \"Motor\\nVehicle Liability\" and \"Watercraft Liability\",subject to the provisions in b. below, mean the\\nfollowing:\\na.Liability for \"bodily injury\" or \"property dam-age\" arising out of the:\\n(1)Ownership of such vehicle or craft by an\"insured\";\\n(2)Maintenance, occupancy, operation,use, loading or unloading of such vehi-cle or craft by any person;\\n(3)Entrustment of such vehicle or craft byan \"insured\" to any person;\\n(4)Failure to supervise or negligent super-vision of any person involving such ve-hicle or craft by an \"insured\"; or\\n(5)Vicarious liability, whether or not im-posed by law, for the actions of a childor minor involving such vehicle or craft.\\nb.For the purpose of this definition:\\n(1)Aircraft means any contrivance used ordesigned for flight except model orhobby aircraft not used or designed tocarry people or cargo;\\n(2)Hovercraft means a self-propelled mo-torized ground effect vehicle and in-cludes, but is not limited to, flarecraftand air cushion vehicles;\\n(3)Watercraft means a craft principallydesigned to be propelled on or in waterby wind, engine power or electric motor;and\\n(4)Motor vehicle means a \"motor vehicle\"as defined in 7. below.2.\"Bodily injury\" means bodily harm, sickness ordisease, including required care, loss of serv-ices and death that results.\\n3.\"Business\" means:\\na.A trade, profession or occupation engagedin on a full-time, part-time or occasional ba-sis; or\\nb.Any other activity engaged in for money orother compensation, except the following:\\n(1)One or more activities, not described in(2) through (4) below, for which no \"in-\\nsured\" receives more than $2,000 intotal compensation for the 12 monthsbefore the beginning of the policy pe-riod;\\n(2)Volunteer activities for which no moneyis received other than payment for ex-penses incurred to perform the activity;\\n(3)Providing home day care services forwhich no compensation is received,other than the mutual exchange of suchservices; or\\n(4)The rendering of home day care serv-ices to a relative of an \"insured\".\\n4.\"Employee\" means an employee of an \"in-sured\", or an employee leased to an \"insured\"by a labor leasing firm under an agreementbetween an \"insured\" and the labor leasingfirm, whose duties are other than those per-formed by a \"residence employee\".\\n5.\"Insured\" means:\\na.You and residents of your household whoare:\\n(1)Your relatives; or\\n(2)Other persons under the age of 21 andin the care of any person named above;\\nb.A student enrolled in school full time, asdefined by the school, who was a residentof your household before moving out to at-tend school, provided the student is underthe age of:\\n(1)24 and your relative; or\\n(2)21 and in your care or the care of aperson described in a.(1) above; or\\n \\n \\n \\n \\n \\n \\nSAMPLE '"
      ]
     },
     "execution_count": 9,
     "metadata": {},
     "output_type": "execute_result"
    }
   ],
   "source": [
    "policy_docs[0].text"
   ]
  },
  {
   "cell_type": "code",
   "execution_count": 10,
   "metadata": {},
   "outputs": [
    {
     "data": {
      "text/plain": [
       "'HOMEOWNERS\\nHO 00 03 10 00\\nHO 00 03 10 00 Copyright, Insurance Services Office, Inc., 1999 Page 1 of 22HOMEOWNERS 3 – SPECIAL FORM\\nAGREEMENT\\nWe will provide the insurance described in this policy\\nin return for the premium and compliance with allapplicable provisions of this policy.\\nDEFINITIONS\\nA.In this policy, \"you\" and \"your\" refer to the \"named\\ninsured\" shown in the Declarations and the spouseif a resident of the same household. \"We\", \"us\"and \"our\" refer to the Company providing this in-surance.\\nB.In addition, certain words and phrases are definedas follows:\\n1.\"Aircraft Liability\", \"Hovercraft Liability\", \"Motor\\nVehicle Liability\" and \"Watercraft Liability\",subject to the provisions in b. below, mean the\\nfollowing:\\na.Liability for \"bodily injury\" or \"property dam-age\" arising out of the:\\n(1)Ownership of such vehicle or craft by an\"insured\";\\n(2)Maintenance, occupancy, operation,use, loading or unloading of such vehi-cle or craft by any person;\\n(3)Entrustment of such vehicle or craft byan \"insured\" to any person;\\n(4)Failure to supervise or negligent super-vision of any person involving such ve-hicle or craft by an \"insured\"; or\\n(5)Vicarious liability, whether or not im-posed by law, for the actions of a childor minor involving such vehicle or craft.\\nb.For the purpose of this definition:\\n(1)Aircraft means any contrivance used ordesigned for flight except model orhobby aircraft not used or designed tocarry people or cargo;\\n(2)Hovercraft means a self-propelled mo-torized ground effect vehicle and in-cludes, but is not limited to, flarecraftand air cushion vehicles;\\n(3)Watercraft means a craft principallydesigned to be propelled on or in waterby wind, engine power or electric motor;and\\n(4)Motor vehicle means a \"motor vehicle\"as defined in 7. below.2.\"Bodily injury\" means bodily harm, sickness ordisease, including required care, loss of serv-ices and death that results.\\n3.\"Business\" means:\\na.A trade, profession or occupation engagedin on a full-time, part-time or occasional ba-sis; or\\nb.Any other activity engaged in for money orother compensation, except the following:\\n(1)One or more activities, not described in(2) through (4) below, for which no \"in-\\nsured\" receives more than $2,000 intotal compensation for the 12 monthsbefore the beginning of the policy pe-riod;\\n(2)Volunteer activities for which no moneyis received other than payment for ex-penses incurred to perform the activity;\\n(3)Providing home day care services forwhich no compensation is received,other than the mutual exchange of suchservices; or\\n(4)The rendering of home day care serv-ices to a relative of an \"insured\".\\n4.\"Employee\" means an employee of an \"in-sured\", or an employee leased to an \"insured\"by a labor leasing firm under an agreementbetween an \"insured\" and the labor leasingfirm, whose duties are other than those per-formed by a \"residence employee\".\\n5.\"Insured\" means:\\na.You and residents of your household whoare:\\n(1)Your relatives; or\\n(2)Other persons under the age of 21 andin the care of any person named above;\\nb.A student enrolled in school full time, asdefined by the school, who was a residentof your household before moving out to at-tend school, provided the student is underthe age of:\\n(1)24 and your relative; or\\n(2)21 and in your care or the care of aperson described in a.(1) above; or\\n \\n \\n \\n \\n \\n \\nSAMPLE'"
      ]
     },
     "execution_count": 10,
     "metadata": {},
     "output_type": "execute_result"
    }
   ],
   "source": [
    "nodes[0].text"
   ]
  },
  {
   "cell_type": "code",
   "execution_count": 12,
   "metadata": {},
   "outputs": [],
   "source": [
    "policy_index = ListIndex(nodes)"
   ]
  },
  {
   "cell_type": "code",
   "execution_count": 17,
   "metadata": {},
   "outputs": [],
   "source": [
    "list_index = ListIndex(nodes, storage_context=storage_context)\n",
    "vector_index = VectorStoreIndex(nodes, storage_context=storage_context)"
   ]
  },
  {
   "cell_type": "code",
   "execution_count": 43,
   "metadata": {},
   "outputs": [],
   "source": [
    "list_query_engine = list_index.as_query_engine(\n",
    "    response_mode=\"accumulate\", use_async=True\n",
    ")"
   ]
  },
  {
   "cell_type": "code",
   "execution_count": 44,
   "metadata": {},
   "outputs": [],
   "source": [
    "import nest_asyncio\n",
    "\n",
    "nest_asyncio.apply()"
   ]
  },
  {
   "cell_type": "code",
   "execution_count": 53,
   "metadata": {},
   "outputs": [],
   "source": [
    "query = f\"List the policy clauses that are relevant to the following question. Include complete and accurate policy quotes for each relevant clause. \\nQUESTION: {question}\""
   ]
  },
  {
   "cell_type": "code",
   "execution_count": null,
   "metadata": {},
   "outputs": [],
   "source": []
  },
  {
   "cell_type": "code",
   "execution_count": 54,
   "metadata": {},
   "outputs": [
    {
     "name": "stdout",
     "output_type": "stream",
     "text": [
      "List the policy clauses that are relevant to the following question. Include complete an daccurate policy quotes for each relevant clause. \n",
      "QUESTION: \n",
      "    Lack of ventalation in the attic caused exsessive moisture build up resulting in mold damage. Engineer report confirmed the cause is \n",
      "    due to faulty workmanship. Is this a covered claim?\n",
      "\n"
     ]
    }
   ],
   "source": [
    "print(query)"
   ]
  },
  {
   "cell_type": "code",
   "execution_count": 55,
   "metadata": {},
   "outputs": [
    {
     "name": "stderr",
     "output_type": "stream",
     "text": [
      "C:\\Users\\pdoub\\.pyenv\\pyenv-win\\versions\\3.10.1\\lib\\copy.py:230: RuntimeWarning: coroutine 'LLMPredictor.apredict' was never awaited\n",
      "  for key, value in x.items():\n",
      "RuntimeWarning: Enable tracemalloc to get the object allocation traceback\n",
      "C:\\Users\\pdoub\\.pyenv\\pyenv-win\\versions\\3.10.1\\lib\\copy.py:230: RuntimeWarning: coroutine 'run_async_tasks.<locals>._gather' was never awaited\n",
      "  for key, value in x.items():\n",
      "RuntimeWarning: Enable tracemalloc to get the object allocation traceback\n"
     ]
    }
   ],
   "source": [
    "response = list_query_engine.query(query)"
   ]
  },
  {
   "cell_type": "code",
   "execution_count": 56,
   "metadata": {},
   "outputs": [
    {
     "name": "stdout",
     "output_type": "stream",
     "text": [
      "Response 1: The relevant policy clause for the question is the \"Covered Perils\" clause. The policy quote for this clause is not provided in the given context.\n",
      "---------------------\n",
      "Response 2: The relevant policy clauses for the question are the ones related to \"Property damage\" and \"Occurrence\". \n",
      "\n",
      "The policy defines \"Property damage\" as physical injury to, destruction of, or loss of use of tangible property. \n",
      "\n",
      "The policy defines \"Occurrence\" as an accident, including continuous or repeated exposure to substantially the same general harmful conditions, which results, during the policy period, in bodily injury or property damage. \n",
      "\n",
      "Based on these policy clauses, the claim for mold damage caused by faulty workmanship would likely be covered, as long as the damage occurred during the policy period and meets the definition of an \"Occurrence\" and \"Property damage\".\n",
      "---------------------\n",
      "Response 3: The relevant policy clause for the question is the \"Coverage A - Dwelling\" clause. The policy quote for this clause is as follows: \"We cover the dwelling on the 'residence premises' shown in the Declarations, including structures attached to the dwelling.\" \n",
      "\n",
      "Based on this clause, the claim for mold damage caused by excessive moisture build-up due to faulty workmanship in the attic would be covered under the policy.\n",
      "---------------------\n",
      "Response 4: The policy clauses that are relevant to the question are the ones related to property coverage and exclusions. The relevant clauses are not directly quoted in the given context information.\n",
      "---------------------\n",
      "Response 5: The relevant policy clause for the question is Section I - Property Coverages. The specific clause that applies is Coverage D - Loss Of Use. However, based on the provided context information, there is no policy quote that directly addresses the question of whether mold damage caused by faulty workmanship is a covered claim.\n",
      "---------------------\n",
      "Response 6: The relevant policy clause for the question is the \"Measures Taken\" clause. The clause states that if measures taken involve repair to other damaged property, the insurance company will only pay if that property is covered under the policy and the damage is caused by a Peril Insured Against. However, the clause does not specifically mention faulty workmanship as a covered peril. Therefore, it is unclear whether this claim would be covered based on the given policy information.\n",
      "---------------------\n",
      "Response 7: The relevant policy clause for the given question is the \"Collapse\" clause. According to the policy, it insures for direct physical loss to covered property involving collapse of a building or any part of a building if the collapse was caused by the use of defective material or methods in construction, remodeling, or renovation. However, it does not specifically mention coverage for mold damage caused by lack of ventilation or faulty workmanship. Therefore, it is unclear whether this claim would be covered under the policy.\n",
      "---------------------\n",
      "Response 8: The relevant policy clauses for the given question are:\n",
      "\n",
      "1. Section I - Perils Insured Against, Coverage A - Dwelling And Coverage B - Other Structures: This clause provides coverage for direct physical loss to the property described in Coverages A and B.\n",
      "\n",
      "2. Section I - Exclusions: This clause lists the exclusions for coverage. It is important to review this section to determine if the specific cause of loss, such as faulty workmanship, is excluded from coverage.\n",
      "\n",
      "Based on the provided context information, there is no specific policy quote that directly addresses the question of whether a claim for mold damage caused by faulty workmanship is covered. It is recommended to review the entire policy document to determine if there are any additional clauses or provisions that may be relevant to this specific situation.\n",
      "---------------------\n",
      "Response 9: The policy clause that is relevant to the question is the clause regarding mold, fungus, or wet rot. The policy states that they do insure for loss caused by mold, fungus, or wet rot that is hidden within the walls, ceilings, floors, or above the ceilings of a structure if such loss results from the accidental discharge or overflow of water or steam from within a plumbing, heating, air conditioning, or automatic fire protective sprinkler system, or a household appliance, on the \"residence premises\". However, the policy does not cover loss caused by mold, fungus, or wet rot that is a result of wear and tear, marring, deterioration, mechanical breakdown, latent defect, inherent vice, or any quality in property that causes it to damage or destroy itself. \n",
      "\n",
      "Based on the given information, the claim for mold damage caused by lack of ventilation in the attic due to faulty workmanship would not be covered under the policy.\n",
      "---------------------\n",
      "Response 10: The relevant policy clauses for the question are as follows:\n",
      "\n",
      "1. Section I - Exclusion A.3. Water Damage, Paragraphs a. and c.\n",
      "   \"Paragraphs a. and c. that apply to surface water and water below the surface of the ground do not apply to loss by water covered under c.(5) and (6) above.\"\n",
      "\n",
      "2. Section I - Exclusion A.3. Water Damage, Paragraph c.(5) and (6)\n",
      "   \"This peril does not include loss caused by smoke from agricultural smudging or industrial operations.\"\n",
      "\n",
      "3. Section I - Exclusion A.3. Water Damage, Paragraph c.(5) and (6)\n",
      "   \"This peril does not include loss caused by theft: (1) Committed by an 'insured'; (2) In or to a dwelling under construction, or of materials and supplies for use in the construction until the dwelling is finished and occupied; (3) From that part of a 'residence premises' rented by an 'insured' to someone other than another 'insured'; or (4) That occurs off the 'residence premises' of: (a) Trailers, semitrailers and campers; (b) Watercraft of all types, and their furnishings, equipment and outboard engines or motors; or (c) Property while at any other residence owned by, rented to, or occupied by an 'insured', except while an 'insured' is temporarily living there. Property of an 'insured' who is a student is covered while at the residence the student occupies to attend school as long as the student has been there at any time during the 60 days immediately before the loss.\"\n",
      "\n",
      "Based on the provided policy clauses, the claim for mold damage caused by excessive moisture build-up due to faulty workmanship in the attic would not be covered.\n",
      "---------------------\n",
      "Response 11: The relevant policy clauses for the question are:\n",
      "\n",
      "1. Accidental Discharge Or Overflow Of Water Or Steam: This peril does not cover loss caused by mold, fungus, or wet rot unless hidden within the walls or ceilings or beneath the floors or above the ceilings of a structure.\n",
      "\n",
      "2. Sudden And Accidental Tearing Apart, Cracking, Burning Or Bulging: This peril does not cover loss caused by freezing.\n",
      "\n",
      "3. Freezing: This peril covers freezing of a plumbing, heating, air conditioning, or automatic fire protective sprinkler system or of a household appliance only if reasonable care has been taken to maintain heat in the building or shut off the water supply and drain all systems and appliances of water.\n",
      "\n",
      "Based on the given information, the lack of ventilation in the attic causing excessive moisture buildup resulting in mold damage is not covered under the policy. The policy specifically excludes coverage for loss caused by mold, fungus, or wet rot unless hidden within the walls or ceilings or beneath the floors or above the ceilings of a structure. The engineer report confirming the cause as faulty workmanship does not change the fact that mold damage is not covered under the policy.\n",
      "---------------------\n",
      "Response 12: The relevant policy clause for the given question is the \"Faulty, inadequate or defective\" clause under Exclusion B.3.d. This clause states that the policy does not insure for loss caused by faulty workmanship of part or all of any property whether on or off the \"residence premises.\" Therefore, based on this clause, the claim for mold damage caused by lack of ventilation in the attic due to faulty workmanship would not be covered.\n",
      "---------------------\n",
      "Response 13: The relevant policy clauses for the question are as follows:\n",
      "\n",
      "1. Section I - Conditions, B. Duties After Loss: This clause states that the insured must protect the property from further damage. If repairs are required, the insured must make reasonable and necessary repairs to protect the property.\n",
      "\n",
      "2. Section I - Conditions, C. Loss Settlement, 2. Buildings covered under Coverage A or B at replacement cost without deduction for depreciation: This clause states that if the amount of insurance on the damaged building is 80% or more of the full replacement cost of the building, the insurer will pay the cost to repair or replace the damaged building without deduction for depreciation.\n",
      "\n",
      "Based on the given information, the lack of ventilation in the attic causing excessive moisture buildup resulting in mold damage is not explicitly mentioned in the relevant policy clauses. However, if the faulty workmanship is determined to be the cause of the lack of ventilation, it may be possible to argue that the claim is covered under the clause regarding making reasonable and necessary repairs to protect the property.\n",
      "---------------------\n",
      "Response 14: The relevant policy clause for the question is not provided in the given context information.\n",
      "---------------------\n",
      "Response 15: The relevant policy clauses for the question are:\n",
      "\n",
      "1. Our Option: \"If we give you written notice within 30 days after we receive your signed, sworn proof of loss, we may repair or replace any part of the damaged property with material or property of like kind and quality.\"\n",
      "\n",
      "2. Loss Payment: \"We will adjust all losses with you. We will pay you unless some other person is named in the policy or is legally entitled to receive payment. Loss will be payable 60 days after we receive your proof of loss and: 1. Reach an agreement with you; 2. There is an entry of a final judgment; or 3. There is a filing of an appraisal award with us.\"\n",
      "\n",
      "Based on the provided context, it is not possible to determine if the claim for mold damage caused by faulty workmanship is covered.\n",
      "---------------------\n",
      "Response 16: The relevant policy clause for the given question is the Coverage E - Personal Liability clause. According to this clause, the insurance company will pay up to the limit of liability for damages for which an insured is legally liable, including damages caused by an occurrence. However, it is important to note that the policy does not specifically mention coverage for mold damage caused by faulty workmanship. Therefore, it is unclear whether this claim would be covered under the policy.\n",
      "---------------------\n",
      "Response 17: The relevant policy clause for the question is Exclusion E.1. This clause states that \"Coverages E and F do not apply to 'bodily injury' or 'property damage' which is expected or intended by an 'insured' even if the resulting 'bodily injury' or 'property damage' is of a different kind, quality or degree than initially expected or intended.\" \n",
      "\n",
      "Based on this clause, the claim for mold damage caused by faulty workmanship would not be covered because the damage was expected or intended by the insured, even if the resulting damage is different than initially expected or intended.\n",
      "---------------------\n",
      "Response 18: The relevant policy clause for the given question is the \"Property damage\" clause. The clause states that coverage does not apply to \"property damage\" to property owned by an \"insured\". However, this exclusion does not apply to \"property damage\" caused by fire, smoke, or explosion.\n",
      "\n",
      "Based on this clause, the claim for mold damage caused by faulty workmanship would not be covered under the policy.\n",
      "---------------------\n",
      "Response 19: The relevant policy clause for the question is the \"Damage To Property Of Others\" clause under Section II - Additional Coverages. The policy quote for this clause is as follows:\n",
      "\n",
      "\"We will pay, at replacement cost, up to $1,000 per 'occurrence' for 'property damage' to property of others caused by an 'insured'.\"\n",
      "\n",
      "Based on this clause, the claim for mold damage caused by faulty workmanship would be covered, as long as the damage to the property of others does not exceed $1,000 per occurrence.\n",
      "---------------------\n",
      "Response 20: The relevant policy clause for the question is Section II - Exclusions. The specific exclusion that may apply to this claim is not provided in the given context information.\n",
      "---------------------\n",
      "Response 21: The relevant policy clause for the question is Section I - Coverage A - Dwelling. The policy quote for this clause is not provided in the given context.\n",
      "---------------------\n",
      "Response 22: The relevant policy clauses for the question are:\n",
      "\n",
      "1. \"If there has been a material misrepresentation of fact which if known to us would have caused us not to issue the policy\" - This clause is relevant because it addresses situations where there has been a misrepresentation of fact that would have affected the issuance of the policy.\n",
      "\n",
      "2. \"If the risk has changed substantially since the policy was issued\" - This clause is relevant because it addresses situations where the risk has changed significantly since the policy was issued.\n",
      "\n",
      "Based on the provided context, there is no specific policy quote that directly addresses the question of whether the claim for mold damage caused by faulty workmanship is covered.\n"
     ]
    }
   ],
   "source": [
    "print(f\"{response}\")"
   ]
  },
  {
   "cell_type": "code",
   "execution_count": 34,
   "metadata": {},
   "outputs": [
    {
     "name": "stdout",
     "output_type": "stream",
     "text": [
      "Response 1: The relevant policy clauses that can help determine if this claim is covered are the ones related to property damage and exclusions.\n",
      "---------------------\n",
      "Response 2: The relevant policy clauses that can help determine if this claim is covered are the definitions of \"occurrence\" and \"property damage\".\n",
      "---------------------\n",
      "Response 3: The relevant policy clauses that can help determine if this claim is covered are the ones related to Coverage A - Dwelling and Coverage B - Other Structures.\n",
      "---------------------\n",
      "Response 4: The policy clauses that are relevant to the question are not mentioned in the given context information.\n",
      "---------------------\n",
      "Response 5: The relevant policy clauses for the question are Section I - Property Coverages and Coverage D - Loss Of Use.\n",
      "---------------------\n",
      "Response 6: The relevant policy clauses for the question are not mentioned in the given context information.\n",
      "---------------------\n",
      "Response 7: The relevant policy clause for the question is the clause under the \"Collapse\" section. The clause states that the insurance covers direct physical loss to covered property involving collapse of a building or any part of a building if the collapse was caused by the use of defective material or methods in construction, remodeling, or renovation. However, the question does not mention any collapse of the building or any part of the building, so it is not clear if this claim would be covered based on the provided context information.\n",
      "---------------------\n",
      "Response 8: The relevant policy clauses for the question are the exclusions under Section I - Exclusions and the coverage for faulty workmanship.\n",
      "---------------------\n",
      "Response 9: The policy clauses that are relevant to the question are the ones related to mold damage caused by the accidental discharge or overflow of water or steam from within a plumbing system or household appliance on the \"residence premises\".\n",
      "---------------------\n",
      "Response 10: Based on the context information, the relevant policy clauses that are relevant to the question are Section I - Exclusion A.3. Water Damage, Paragraphs a. and c., and Coverage C - Personal Property.\n",
      "---------------------\n",
      "Response 11: The relevant policy clauses to consider for this question are the ones related to water damage, freezing, and mold.\n",
      "---------------------\n",
      "Response 12: The relevant policy clauses for the question are the \"Neglect\" clause and the \"Faulty, inadequate or defective\" clause.\n",
      "---------------------\n",
      "Response 13: The relevant policy clauses that can help determine if this claim is covered are:\n",
      "- Section I - Conditions, specifically Condition B - Duties After Loss, which requires the insured to protect the property from further damage and make reasonable and necessary repairs.\n",
      "- Section I - Loss Settlement, specifically Condition C - which outlines how covered property losses are settled, including buildings covered under Coverage A or B at replacement cost without deduction for depreciation.\n",
      "---------------------\n",
      "Response 14: The relevant policy clauses for determining whether this claim is covered are not provided in the given context information.\n",
      "---------------------\n",
      "Response 15: The relevant policy clauses that can help determine if this claim is covered are:\n",
      "- Section I - Coverage A or B: This clause specifies the coverage for property damage.\n",
      "- Section I - Conditions, Paragraph I - Loss Payment: This clause outlines the conditions for loss payment, including reaching an agreement with the insured.\n",
      "- Section I - Conditions, Paragraph E - Appraisal: This clause may be relevant if there is a dispute regarding the cause of the damage.\n",
      "- Section I - Conditions, Paragraph G - Suit Against Us: This clause may be relevant if the insured decides to take legal action.\n",
      "- Section I - Conditions, Paragraph Q - Concealment or Fraud: This clause may be relevant if there is any intentional misrepresentation of facts by the insured.\n",
      "---------------------\n",
      "Response 16: The relevant policy clauses for the given question are:\n",
      "- Section II - Coverage E - Personal Liability: This clause covers damages caused by an occurrence, which includes bodily injury or property damage. It states that the insurance company will pay up to the limit of liability for damages for which an insured is legally liable.\n",
      "- Section II - Exclusions: This clause excludes coverage for motor vehicle liability, but does not specifically address the situation of lack of ventilation in the attic causing mold damage due to faulty workmanship.\n",
      "---------------------\n",
      "Response 17: The relevant policy clause to determine if this claim is covered is Exclusion E.1. This clause excludes coverage for \"property damage\" that is expected or intended by an \"insured\". However, it does not apply if the \"property damage\" resulted from the use of reasonable force by an \"insured\" to protect persons or property.\n",
      "---------------------\n",
      "Response 18: The relevant policy clause that applies to the question is the exclusion for \"property damage\" caused by faulty workmanship. This exclusion would likely prevent coverage for the mold damage resulting from the lack of ventilation in the attic.\n",
      "---------------------\n",
      "Response 19: The relevant policy clauses for the question are not mentioned in the provided context information.\n",
      "---------------------\n",
      "Response 20: The relevant policy clauses to determine if this is a covered claim are the exclusions under Section II - Exclusions and the duties after an occurrence under Section II - Conditions.\n",
      "---------------------\n",
      "Response 21: The relevant policy clauses that can help determine if this claim is covered are:\n",
      "- Section II - Additional Coverages, specifically the clause related to Damage To Property Of Others\n",
      "- Section I and II - Conditions, specifically the clause related to Concealment or Fraud\n",
      "---------------------\n",
      "Response 22: The relevant policy clauses for determining whether this claim is covered are (1) the clause regarding material misrepresentation of fact and (2) the clause regarding changes in risk since the policy was issued.\n"
     ]
    }
   ],
   "source": [
    "print(f\"{response}\")"
   ]
  },
  {
   "cell_type": "code",
   "execution_count": null,
   "metadata": {},
   "outputs": [],
   "source": []
  },
  {
   "cell_type": "code",
   "execution_count": null,
   "metadata": {},
   "outputs": [],
   "source": []
  },
  {
   "cell_type": "code",
   "execution_count": null,
   "metadata": {},
   "outputs": [],
   "source": []
  }
 ],
 "metadata": {
  "kernelspec": {
   "display_name": "liberty-gpt-py3.10",
   "language": "python",
   "name": "liberty-gpt-py3.10"
  },
  "language_info": {
   "codemirror_mode": {
    "name": "ipython",
    "version": 3
   },
   "file_extension": ".py",
   "mimetype": "text/x-python",
   "name": "python",
   "nbconvert_exporter": "python",
   "pygments_lexer": "ipython3",
   "version": "3.10.1"
  },
  "orig_nbformat": 4
 },
 "nbformat": 4,
 "nbformat_minor": 2
}
